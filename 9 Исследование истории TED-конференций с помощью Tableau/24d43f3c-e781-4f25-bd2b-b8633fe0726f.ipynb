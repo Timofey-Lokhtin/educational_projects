{
 "cells": [
  {
   "cell_type": "markdown",
   "id": "c39d36c6",
   "metadata": {},
   "source": [
    "<div  style=\"border-radius: 10px; box-shadow: 2px 2px 2px; border: 1px solid; padding: 10px \">\n",
    "\n",
    "**Тимофей, привет!**\n",
    "\n",
    "Меня зовут Василий Митров и я буду проверять твой проект. Предлагаю общаться на «ты». Если это неприемлемо, то дай мне знать и мы перейдем на «вы». \n",
    "\n",
    "Для удобства я оставлю комментарии в отдельных ячейках Markdown с заголовком «Комментарий ревьюера». Пожалуйста, не перемещай, не изменяй и не удаляй их - так наше общение будет более продуктивным. Я буду использовать цветовую разметку:\n",
    "\n",
    "<div class=\"alert alert-danger\" style=\"border-radius: 10px; box-shadow: 2px 2px 2px; border: 1px solid; padding: 10px \">\n",
    "<b>Комментарий ревьюера</b> \n",
    "    \n",
    "✍ Так выделены самые важные замечания. Без их отработки проект не будет принят. При проверке я обращаю внимание не только на код, но и на интерпретацию и анализ результатов, а также соответствие данных техническому заданию.\n",
    "</div>\n",
    "\n",
    "<div class=\"alert alert-warning\" style=\"border-radius: 10px; box-shadow: 2px 2px 2px; border: 1px solid; padding: 10px \">\n",
    "<b>Комментарий ревьюера</b> \n",
    "    \n",
    "📝 Так выделены небольшие замечания или рекомендации. Постарайся, пожалуйста, учесть эти комментарии в этом проекте или в будущих проектах.\n",
    "</div>\n",
    "\n",
    "<div class=\"alert alert-success\" style=\"border-radius: 10px; box-shadow: 2px 2px 2px; border: 1px solid; padding: 10px \">\n",
    "<b>Комментарий ревьюера</b> \n",
    "    \n",
    "👍 Так выделены все остальные комментарии, включая рекомендации, позитивные моменты или какие-то рассуждения и пояснения.\n",
    "</div>\n",
    "\n",
    "\n",
    "    \n",
    "Давай работать над проектом в диалоге: если ты что-то меняешь в проекте или отвечаешь на мои комментарии — пиши об этом. Мне будет легче отследить изменения, если ты выделишь свои комментарии:\n",
    "\n",
    "<div class=\"alert alert-info\" style=\"border-radius: 10px; box-shadow: 2px 2px 2px; border: 1px solid; padding: 10px \"> \n",
    "<b>Комментарий студента</b> \n",
    "    \n",
    "Например, вот так. Также, если есть какие-то вопросы, или что-то осталось непонятным по ревью - спрашивай в таких блоках и я постараюсь дать ответ.\n",
    "</div>\n",
    "\n",
    "---"
   ]
  },
  {
   "cell_type": "markdown",
   "id": "eaecd4db",
   "metadata": {},
   "source": [
    "# Построение дашбордов в Tableau"
   ]
  },
  {
   "cell_type": "markdown",
   "id": "507a0730",
   "metadata": {},
   "source": [
    "TED (от англ. technology, education, design — «технологии, образование, дизайн») — некоммерческий фонд, который проводит популярные конференции. На них выступают специалисты из разных областей и читают лекции на актуальные социальные, культурные и научные темы. \n",
    "\n",
    "В разное время на TED-конференциях выступали математик Бенуа Мандельброт, теоретик искусственного интеллекта Марвин Минский, спортсменка Дана Ньяд и основатель Google Ларри Пейдж. В истории TED также были неоднозначные и даже скандальные выступления. Например, в 2010 году на конференции выступил Рэнди Пауэлл с рассказом о псевдонаучной «вихревой математике», а в 2014 году в конференции TEDMED участвовала Элизабет Холмс — основательница печально известного стартапа Theranos.\n",
    "\n",
    "В этом проекте нужно исследовать историю TED-конференций с помощью Tableau. Файлы tableau_project_data_1.csv, tableau_project_data_2.csv, tableau_project_data_3.csv хранят данные выступлений. Файл tableau_project_event_dict.csv — справочник конференций. Файл tableau_project_speakers_dict.csv — справочник авторов выступления."
   ]
  },
  {
   "cell_type": "markdown",
   "id": "143936f9",
   "metadata": {},
   "source": [
    "План выполнения проекта:\n",
    "1. Загрузить и изучить данные;\n",
    "2. Построить дашборд «История выступлений»;\n",
    "3. Создать дашборд «Тематики выступлений»;\n",
    "4. Создать дашборд «Авторы выступлений»;\n",
    "5. Создать дашборд на свободную тему;\n",
    "6. Создать презентацию."
   ]
  },
  {
   "cell_type": "markdown",
   "id": "35b7da3b",
   "metadata": {},
   "source": [
    "**Cсылка на презентацию на сайте Tableau Public:** https://public.tableau.com/app/profile/timofey.vielikiy/viz/TEDResearch_17277030049270/Story1?publish=yes"
   ]
  },
  {
   "cell_type": "markdown",
   "id": "50322fcc",
   "metadata": {},
   "source": [
    "<div class=\"alert alert-danger\" style=\"border-radius: 10px; box-shadow: 2px 2px 2px; border: 1px solid; padding: 10px \">\n",
    "<b>Комментарий ревьюера v.1</b> \n",
    "    \n",
    "✍ \n",
    "К сожалению отсутствуют название проекта и описание задачи. Это поможет быстро вспомнить, о чем проект, если ты к нему вернешься спустя какое-то время.\n",
    "\n",
    "Все инструкции по оформлению проекта есть на платформе в разделе \"Полезные инструкции для учебы\"\n",
    "    \n",
    "  \n",
    "\n",
    "</div>"
   ]
  },
  {
   "cell_type": "markdown",
   "id": "4c165fd3",
   "metadata": {},
   "source": [
    "<div class=\"alert alert-info\" style=\"border-radius: 10px; box-shadow: 2px 2px 2px; border: 1px solid; padding: 10px \"> \n",
    "<b>Комментарий студента</b> \n",
    "    \n",
    "Не было понятно, как его оформлять, когда вся работа проходит вне Jupiter Notebook. Исправил.\n",
    "</div>"
   ]
  },
  {
   "cell_type": "markdown",
   "id": "efeee080",
   "metadata": {},
   "source": [
    "<div class=\"alert alert-success\" style=\"border-radius: 10px; box-shadow: 2px 2px 2px; border: 1px solid; padding: 10px \">\n",
    "<b>Комментарий ревьюера v.2</b> \n",
    "    \n",
    "👍 \n",
    "\n",
    "</div>"
   ]
  },
  {
   "cell_type": "markdown",
   "id": "416dab01",
   "metadata": {},
   "source": [
    "# История выступлений"
   ]
  },
  {
   "cell_type": "markdown",
   "id": "f39c4ffd",
   "metadata": {},
   "source": [
    "<div class=\"alert alert-success\" style=\"border-radius: 10px; box-shadow: 2px 2px 2px; border: 1px solid; padding: 10px \">\n",
    "<b>Комментарий ревьюера v.1</b> \n",
    "    \n",
    "👍 \n",
    "Сделано хорошо:\n",
    "\n",
    "- дашборд соответствует макету;\n",
    "- правильно настроен Action на фильтрацию;\n",
    "- выводы понятны и логичны.\n",
    "\n",
    "\n",
    "</div>"
   ]
  },
  {
   "cell_type": "markdown",
   "id": "a7f1babf",
   "metadata": {},
   "source": [
    "<div class=\"alert alert-warning\" style=\"border-radius: 10px; box-shadow: 2px 2px 2px; border: 1px solid; padding: 10px \">\n",
    "<b>Комментарий ревьюера v.1</b> \n",
    "    \n",
    "📝 \n",
    "Также мы можем добавить краткие описания графиков на всех слайдах.\n",
    "    \n",
    "\n",
    "</div>"
   ]
  },
  {
   "cell_type": "markdown",
   "id": "50a1337a",
   "metadata": {},
   "source": [
    "# Тематика выступлений"
   ]
  },
  {
   "cell_type": "markdown",
   "id": "932139ec",
   "metadata": {},
   "source": [
    "<div class=\"alert alert-success\" style=\"border-radius: 10px; box-shadow: 2px 2px 2px; border: 1px solid; padding: 10px \">\n",
    "<b>Комментарий ревьюера v.1</b> \n",
    "    \n",
    "👍 \n",
    "    \n",
    "\n",
    "- дашборд соответствует макету;\n",
    "- правильно настроен Action на фильтрацию;\n",
    "- корректность вычисляемых полей;\n",
    "- всплывающие подсказки содержат нужные гистограммы\n",
    "- есть ответы на поставленные вопросы.\n",
    "</div>"
   ]
  },
  {
   "cell_type": "markdown",
   "id": "64482d24",
   "metadata": {},
   "source": [
    "<div class=\"alert alert-warning\" style=\"border-radius: 10px; box-shadow: 2px 2px 2px; border: 1px solid; padding: 10px \">\n",
    "<b>Комментарий ревьюера v.1</b> \n",
    "    \n",
    "📝 \n",
    "Также, можно добавить в табличку \"Тематики и страны\" категорию \"Другие\" на ось со странами.\n",
    "</div>"
   ]
  },
  {
   "cell_type": "markdown",
   "id": "5a40dfb7",
   "metadata": {},
   "source": [
    "# Авторы выступлений"
   ]
  },
  {
   "cell_type": "markdown",
   "id": "39a0f7ae",
   "metadata": {},
   "source": [
    "<div class=\"alert alert-success\" style=\"border-radius: 10px; box-shadow: 2px 2px 2px; border: 1px solid; padding: 10px \">\n",
    "<b>Комментарий ревьюера v.1</b> \n",
    "    \n",
    "👍 \n",
    "- параметр Top-N  работает корректно,\n",
    "- здорово, что таблицы отсортированы;\n",
    "- есть ответы на поставленные вопросы.\n",
    "</div>"
   ]
  },
  {
   "cell_type": "markdown",
   "id": "b1b5c95a",
   "metadata": {},
   "source": [
    "<div class=\"alert alert-danger\" style=\"border-radius: 10px; box-shadow: 2px 2px 2px; border: 1px solid; padding: 10px \">\n",
    "<b>Комментарий ревьюера v.1</b> \n",
    "    \n",
    "✍ \n",
    "\n",
    "- Необходимо настроить Action чтобы при выборе области деятельности на визуализации «Области деятельности авторов» фильтровались таблицы «Авторы по числу выступлений» и «Выступления и число просмотров». При выборе автора в таблице «Авторы по числу выступлений» должна фильтроваться таблица «Выступления и число просмотров».\n",
    "</div>"
   ]
  },
  {
   "cell_type": "markdown",
   "id": "2bab04f6",
   "metadata": {},
   "source": [
    "<div class=\"alert alert-info\" style=\"border-radius: 10px; box-shadow: 2px 2px 2px; border: 1px solid; padding: 10px \"> \n",
    "<b>Комментарий студента</b> \n",
    "    \n",
    "Сделал.\n",
    "    \n",
    "Желтые замечания обычно исправляю, но сейчас слегка отстаю и поэтому сделаю это позже...\n",
    "</div>"
   ]
  },
  {
   "cell_type": "markdown",
   "id": "ca591c24",
   "metadata": {},
   "source": [
    "<div class=\"alert alert-success\" style=\"border-radius: 10px; box-shadow: 2px 2px 2px; border: 1px solid; padding: 10px \">\n",
    "<b>Комментарий ревьюера v.2</b> \n",
    "    \n",
    "👍 \n",
    "\n",
    "</div>"
   ]
  },
  {
   "cell_type": "markdown",
   "id": "9babf2c5",
   "metadata": {},
   "source": [
    "# Дашборд на свободную тему"
   ]
  },
  {
   "cell_type": "markdown",
   "id": "59bf603a",
   "metadata": {},
   "source": [
    "<div class=\"alert alert-success\" style=\"border-radius: 10px; box-shadow: 2px 2px 2px; border: 1px solid; padding: 10px \">\n",
    "<b>Комментарий ревьюера v.1</b> \n",
    "    \n",
    "👍 \n",
    "- здорово, что выполнен дашборд на свободную тему,\n",
    "- отлично подобраны типы визуализаций;\n",
    "- на дашборде есть выводы и наблюдения.\n",
    "</div>"
   ]
  },
  {
   "cell_type": "markdown",
   "id": "71786be5",
   "metadata": {},
   "source": [
    "<div style=\"border:solid blue 3px; padding: 20px\" >\n",
    "<div class=\"alert alert-success\">\n",
    "<b>Обратная связь v.1</b> \n",
    "    \n",
    "👋 Тимофей, у тебя получилась очень сильная и хорошая работа.   Я оставил несколько обязательных поправок для тебя и после этого буду готов сразу принять проект. Жду твою работу на повторное ревью 😊\n",
    "\n",
    "* Если тебе интересна тема визуализации, то можешь пройти вот этот крутой и бесплатный курс по табло — https://tableau.pro/m01 (переходить по дням можно, если менять цифру в ссылке).\n",
    "\n",
    "* Потом советую посмотреть на такой инструмент, как Redash — https://redash.io/help/user-guide/getting-started. Это надстройка над SQL-запросами, которая позволяет строить красивые таблички и графики в веб-интерфейсе, а потом собирать из них дашборды. \n",
    "\n",
    "* А вот сайт Ромы Бунина — https://revealthedata.com/ По-моему мнению, он один из самых крутых специалистов по визуализации в России. У него есть телеграм канал, блог и много всего интересного, что поможет расширить знания по визуализации.\n",
    "\n",
    "* Знание BI-инструментов — это крайне полезно в работе аналитика, во многих вакансиях встречаются требования по инструментам для построения дашбордов.\n"
   ]
  },
  {
   "cell_type": "markdown",
   "id": "3262514a",
   "metadata": {},
   "source": [
    "<div style=\"border:solid indigo 3px; padding: 20px\">\n",
    "<div class=\"alert alert-success\">\n",
    "<b>Обратная связь v.2</b> \n",
    "    \n",
    "👋 \n",
    "      \n",
    "Тимофей, спасибо тебе за исправления критических моментов, а также спасибо за хорошую работу.\n",
    "    \n",
    "Поздравляю с успешным завершением проекта 🥳 🎉\n",
    "    \n",
    "И желаю успехов в новых работах 😊"
   ]
  }
 ],
 "metadata": {
  "ExecuteTimeLog": [
   {
    "duration": 73,
    "start_time": "2024-10-01T15:14:15.045Z"
   },
   {
    "duration": 70,
    "start_time": "2024-10-01T15:24:36.520Z"
   }
  ],
  "kernelspec": {
   "display_name": "Python 3 (ipykernel)",
   "language": "python",
   "name": "python3"
  },
  "language_info": {
   "codemirror_mode": {
    "name": "ipython",
    "version": 3
   },
   "file_extension": ".py",
   "mimetype": "text/x-python",
   "name": "python",
   "nbconvert_exporter": "python",
   "pygments_lexer": "ipython3",
   "version": "3.9.5"
  },
  "toc": {
   "base_numbering": 1,
   "nav_menu": {},
   "number_sections": true,
   "sideBar": true,
   "skip_h1_title": true,
   "title_cell": "Table of Contents",
   "title_sidebar": "Contents",
   "toc_cell": false,
   "toc_position": {},
   "toc_section_display": true,
   "toc_window_display": false
  }
 },
 "nbformat": 4,
 "nbformat_minor": 5
}
