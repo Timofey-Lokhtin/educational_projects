{
 "cells": [
  {
   "cell_type": "markdown",
   "id": "eaecd4db",
   "metadata": {},
   "source": [
    "# Построение дашбордов в Tableau"
   ]
  },
  {
   "cell_type": "markdown",
   "id": "507a0730",
   "metadata": {},
   "source": [
    "TED (от англ. technology, education, design — «технологии, образование, дизайн») — некоммерческий фонд, который проводит популярные конференции. На них выступают специалисты из разных областей и читают лекции на актуальные социальные, культурные и научные темы. \n",
    "\n",
    "В разное время на TED-конференциях выступали математик Бенуа Мандельброт, теоретик искусственного интеллекта Марвин Минский, спортсменка Дана Ньяд и основатель Google Ларри Пейдж. В истории TED также были неоднозначные и даже скандальные выступления. Например, в 2010 году на конференции выступил Рэнди Пауэлл с рассказом о псевдонаучной «вихревой математике», а в 2014 году в конференции TEDMED участвовала Элизабет Холмс — основательница печально известного стартапа Theranos.\n",
    "\n",
    "В этом проекте нужно исследовать историю TED-конференций с помощью Tableau. Файлы tableau_project_data_1.csv, tableau_project_data_2.csv, tableau_project_data_3.csv хранят данные выступлений. Файл tableau_project_event_dict.csv — справочник конференций. Файл tableau_project_speakers_dict.csv — справочник авторов выступления."
   ]
  },
  {
   "cell_type": "markdown",
   "id": "143936f9",
   "metadata": {},
   "source": [
    "План выполнения проекта:\n",
    "1. Загрузить и изучить данные;\n",
    "2. Построить дашборд «История выступлений»;\n",
    "3. Создать дашборд «Тематики выступлений»;\n",
    "4. Создать дашборд «Авторы выступлений»;\n",
    "5. Создать дашборд на свободную тему;\n",
    "6. Создать презентацию."
   ]
  },
  {
   "cell_type": "markdown",
   "id": "35b7da3b",
   "metadata": {},
   "source": [
    "**Cсылка на презентацию на сайте Tableau Public:** https://public.tableau.com/app/profile/timofey.vielikiy/viz/TEDResearch_17277030049270/Story1?publish=yes"
   ]
  }
 ],
 "metadata": {
  "ExecuteTimeLog": [
   {
    "duration": 73,
    "start_time": "2024-10-01T15:14:15.045Z"
   },
   {
    "duration": 70,
    "start_time": "2024-10-01T15:24:36.520Z"
   }
  ],
  "kernelspec": {
   "display_name": "Python 3 (ipykernel)",
   "language": "python",
   "name": "python3"
  },
  "language_info": {
   "codemirror_mode": {
    "name": "ipython",
    "version": 3
   },
   "file_extension": ".py",
   "mimetype": "text/x-python",
   "name": "python",
   "nbconvert_exporter": "python",
   "pygments_lexer": "ipython3",
   "version": "3.9.19"
  },
  "toc": {
   "base_numbering": 1,
   "nav_menu": {},
   "number_sections": true,
   "sideBar": true,
   "skip_h1_title": true,
   "title_cell": "Table of Contents",
   "title_sidebar": "Contents",
   "toc_cell": false,
   "toc_position": {},
   "toc_section_display": true,
   "toc_window_display": false
  }
 },
 "nbformat": 4,
 "nbformat_minor": 5
}
