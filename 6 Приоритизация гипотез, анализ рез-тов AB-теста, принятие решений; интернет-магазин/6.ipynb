{
 "cells": [
  {
   "cell_type": "markdown",
   "metadata": {},
   "source": [
    "Цель проекта: приоритизировать гипотезы для увеличения выручки из списка, подготовленного отделом маркетинга. Запустить A/B-тест и проанализировать результаты. Имеющиеся данные:\n",
    "\n",
    "Файл hypothesis.csv с девятью гипотезами по увеличению выручки интернет-магазина, содержит столбцы:\n",
    "* Hypothesis — краткое описание гипотезы;\n",
    "* Reach — охват пользователей по 10-балльной шкале;\n",
    "* Impact — влияние на пользователей по 10-балльной шкале;\n",
    "* Confidence — уверенность в гипотезе по 10-балльной шкале;\n",
    "* Efforts — затраты ресурсов на проверку гипотезы по 10-балльной шкале. Чем больше значение Efforts, тем дороже проверка гипотезы.\n",
    "\n",
    "Файл orders.csv с заказами, содержит столбцы:\n",
    "* transactionId — идентификатор заказа;\n",
    "* visitorId — идентификатор пользователя, совершившего заказ;\n",
    "* date — дата, когда был совершён заказ;\n",
    "* revenue — выручка заказа;\n",
    "* group — группа A/B-теста, в которую попал заказ.\n",
    "\n",
    "Файл visitors.csv с количеством посетителей из каждой группы за каждый день, содержит столбцы:\n",
    "* date — дата;\n",
    "* group — группа A/B-теста;\n",
    "* visitors — количество пользователей в указанную дату в указанной группе A/B-теста"
   ]
  },
  {
   "cell_type": "markdown",
   "metadata": {},
   "source": [
    "### Загрузка и подготовка данных"
   ]
  },
  {
   "cell_type": "markdown",
   "metadata": {},
   "source": [
    "Подключаем библеотеки."
   ]
  },
  {
   "cell_type": "code",
   "execution_count": 1,
   "metadata": {},
   "outputs": [],
   "source": [
    "import pandas as pd\n",
    "import numpy as np\n",
    "import matplotlib.pyplot as plt\n",
    "import scipy.stats as stats"
   ]
  },
  {
   "cell_type": "markdown",
   "metadata": {},
   "source": [
    "Загружаем данные о количестве посетителей в каждый день, заказах и гипотезах из CSV-файлов в переменные."
   ]
  },
  {
   "cell_type": "code",
   "execution_count": 2,
   "metadata": {},
   "outputs": [],
   "source": [
    "try:\n",
    "    data, orders, visitors = (\n",
    "    pd.read_csv('/datasets/hypothesis.csv'), \n",
    "    pd.read_csv('/datasets/orders.csv'),  \n",
    "    pd.read_csv('/datasets/visitors.csv')\n",
    ")    \n",
    "except:\n",
    "    data, orders, visitors = (\n",
    "    pd.read_csv('hypothesis.csv'), \n",
    "    pd.read_csv('orders.csv'), \n",
    "    pd.read_csv('visitors.csv')\n",
    ")"
   ]
  },
  {
   "cell_type": "markdown",
   "metadata": {},
   "source": [
    "Увеличиваем максимальную ширину ячеек для удобства просмотра, исправляем названия столбцов и типы данных в стобцах с датами."
   ]
  },
  {
   "cell_type": "code",
   "execution_count": 3,
   "metadata": {},
   "outputs": [],
   "source": [
    "pd.options.display.max_colwidth = 130\n",
    "data.columns = data.columns.str.lower()\n",
    "orders.columns = ['transaction_id', 'visitor_id', 'date', 'revenue', 'group']\n",
    "orders['date'] = pd.to_datetime(orders['date']).dt.date \n",
    "visitors['date'] = pd.to_datetime(visitors['date']).dt.date "
   ]
  },
  {
   "cell_type": "markdown",
   "metadata": {},
   "source": [
    "Изучаем первые строки каждой из трех таблиц и информацию о таблицах в целом."
   ]
  },
  {
   "cell_type": "code",
   "execution_count": 4,
   "metadata": {},
   "outputs": [
    {
     "name": "stdout",
     "output_type": "stream",
     "text": [
      "<class 'pandas.core.frame.DataFrame'>\n",
      "RangeIndex: 9 entries, 0 to 8\n",
      "Data columns (total 5 columns):\n",
      " #   Column      Non-Null Count  Dtype \n",
      "---  ------      --------------  ----- \n",
      " 0   hypothesis  9 non-null      object\n",
      " 1   reach       9 non-null      int64 \n",
      " 2   impact      9 non-null      int64 \n",
      " 3   confidence  9 non-null      int64 \n",
      " 4   efforts     9 non-null      int64 \n",
      "dtypes: int64(4), object(1)\n",
      "memory usage: 488.0+ bytes\n"
     ]
    },
    {
     "data": {
      "text/html": [
       "<div>\n",
       "<style scoped>\n",
       "    .dataframe tbody tr th:only-of-type {\n",
       "        vertical-align: middle;\n",
       "    }\n",
       "\n",
       "    .dataframe tbody tr th {\n",
       "        vertical-align: top;\n",
       "    }\n",
       "\n",
       "    .dataframe thead th {\n",
       "        text-align: right;\n",
       "    }\n",
       "</style>\n",
       "<table border=\"1\" class=\"dataframe\">\n",
       "  <thead>\n",
       "    <tr style=\"text-align: right;\">\n",
       "      <th></th>\n",
       "      <th>hypothesis</th>\n",
       "      <th>reach</th>\n",
       "      <th>impact</th>\n",
       "      <th>confidence</th>\n",
       "      <th>efforts</th>\n",
       "    </tr>\n",
       "  </thead>\n",
       "  <tbody>\n",
       "    <tr>\n",
       "      <th>0</th>\n",
       "      <td>Добавить два новых канала привлечения трафика, что позволит привлекать на 30% больше пользователей</td>\n",
       "      <td>3</td>\n",
       "      <td>10</td>\n",
       "      <td>8</td>\n",
       "      <td>6</td>\n",
       "    </tr>\n",
       "    <tr>\n",
       "      <th>1</th>\n",
       "      <td>Запустить собственную службу доставки, что сократит срок доставки заказов</td>\n",
       "      <td>2</td>\n",
       "      <td>5</td>\n",
       "      <td>4</td>\n",
       "      <td>10</td>\n",
       "    </tr>\n",
       "    <tr>\n",
       "      <th>2</th>\n",
       "      <td>Добавить блоки рекомендаций товаров на сайт интернет магазина, чтобы повысить конверсию и средний чек заказа</td>\n",
       "      <td>8</td>\n",
       "      <td>3</td>\n",
       "      <td>7</td>\n",
       "      <td>3</td>\n",
       "    </tr>\n",
       "    <tr>\n",
       "      <th>3</th>\n",
       "      <td>Изменить структура категорий, что увеличит конверсию, т.к. пользователи быстрее найдут нужный товар</td>\n",
       "      <td>8</td>\n",
       "      <td>3</td>\n",
       "      <td>3</td>\n",
       "      <td>8</td>\n",
       "    </tr>\n",
       "    <tr>\n",
       "      <th>4</th>\n",
       "      <td>Изменить цвет фона главной страницы, чтобы увеличить вовлеченность пользователей</td>\n",
       "      <td>3</td>\n",
       "      <td>1</td>\n",
       "      <td>1</td>\n",
       "      <td>1</td>\n",
       "    </tr>\n",
       "  </tbody>\n",
       "</table>\n",
       "</div>"
      ],
      "text/plain": [
       "                                                                                                     hypothesis  \\\n",
       "0            Добавить два новых канала привлечения трафика, что позволит привлекать на 30% больше пользователей   \n",
       "1                                     Запустить собственную службу доставки, что сократит срок доставки заказов   \n",
       "2  Добавить блоки рекомендаций товаров на сайт интернет магазина, чтобы повысить конверсию и средний чек заказа   \n",
       "3           Изменить структура категорий, что увеличит конверсию, т.к. пользователи быстрее найдут нужный товар   \n",
       "4                              Изменить цвет фона главной страницы, чтобы увеличить вовлеченность пользователей   \n",
       "\n",
       "   reach  impact  confidence  efforts  \n",
       "0      3      10           8        6  \n",
       "1      2       5           4       10  \n",
       "2      8       3           7        3  \n",
       "3      8       3           3        8  \n",
       "4      3       1           1        1  "
      ]
     },
     "execution_count": 4,
     "metadata": {},
     "output_type": "execute_result"
    }
   ],
   "source": [
    "data.info()\n",
    "data.head()"
   ]
  },
  {
   "cell_type": "code",
   "execution_count": 5,
   "metadata": {},
   "outputs": [
    {
     "name": "stdout",
     "output_type": "stream",
     "text": [
      "<class 'pandas.core.frame.DataFrame'>\n",
      "RangeIndex: 1197 entries, 0 to 1196\n",
      "Data columns (total 5 columns):\n",
      " #   Column          Non-Null Count  Dtype \n",
      "---  ------          --------------  ----- \n",
      " 0   transaction_id  1197 non-null   int64 \n",
      " 1   visitor_id      1197 non-null   int64 \n",
      " 2   date            1197 non-null   object\n",
      " 3   revenue         1197 non-null   int64 \n",
      " 4   group           1197 non-null   object\n",
      "dtypes: int64(3), object(2)\n",
      "memory usage: 46.9+ KB\n"
     ]
    },
    {
     "data": {
      "text/html": [
       "<div>\n",
       "<style scoped>\n",
       "    .dataframe tbody tr th:only-of-type {\n",
       "        vertical-align: middle;\n",
       "    }\n",
       "\n",
       "    .dataframe tbody tr th {\n",
       "        vertical-align: top;\n",
       "    }\n",
       "\n",
       "    .dataframe thead th {\n",
       "        text-align: right;\n",
       "    }\n",
       "</style>\n",
       "<table border=\"1\" class=\"dataframe\">\n",
       "  <thead>\n",
       "    <tr style=\"text-align: right;\">\n",
       "      <th></th>\n",
       "      <th>transaction_id</th>\n",
       "      <th>visitor_id</th>\n",
       "      <th>date</th>\n",
       "      <th>revenue</th>\n",
       "      <th>group</th>\n",
       "    </tr>\n",
       "  </thead>\n",
       "  <tbody>\n",
       "    <tr>\n",
       "      <th>0</th>\n",
       "      <td>3667963787</td>\n",
       "      <td>3312258926</td>\n",
       "      <td>2019-08-15</td>\n",
       "      <td>1650</td>\n",
       "      <td>B</td>\n",
       "    </tr>\n",
       "    <tr>\n",
       "      <th>1</th>\n",
       "      <td>2804400009</td>\n",
       "      <td>3642806036</td>\n",
       "      <td>2019-08-15</td>\n",
       "      <td>730</td>\n",
       "      <td>B</td>\n",
       "    </tr>\n",
       "    <tr>\n",
       "      <th>2</th>\n",
       "      <td>2961555356</td>\n",
       "      <td>4069496402</td>\n",
       "      <td>2019-08-15</td>\n",
       "      <td>400</td>\n",
       "      <td>A</td>\n",
       "    </tr>\n",
       "    <tr>\n",
       "      <th>3</th>\n",
       "      <td>3797467345</td>\n",
       "      <td>1196621759</td>\n",
       "      <td>2019-08-15</td>\n",
       "      <td>9759</td>\n",
       "      <td>B</td>\n",
       "    </tr>\n",
       "    <tr>\n",
       "      <th>4</th>\n",
       "      <td>2282983706</td>\n",
       "      <td>2322279887</td>\n",
       "      <td>2019-08-15</td>\n",
       "      <td>2308</td>\n",
       "      <td>B</td>\n",
       "    </tr>\n",
       "  </tbody>\n",
       "</table>\n",
       "</div>"
      ],
      "text/plain": [
       "   transaction_id  visitor_id        date  revenue group\n",
       "0      3667963787  3312258926  2019-08-15     1650     B\n",
       "1      2804400009  3642806036  2019-08-15      730     B\n",
       "2      2961555356  4069496402  2019-08-15      400     A\n",
       "3      3797467345  1196621759  2019-08-15     9759     B\n",
       "4      2282983706  2322279887  2019-08-15     2308     B"
      ]
     },
     "execution_count": 5,
     "metadata": {},
     "output_type": "execute_result"
    }
   ],
   "source": [
    "orders.info()\n",
    "orders.head()"
   ]
  },
  {
   "cell_type": "code",
   "execution_count": 6,
   "metadata": {},
   "outputs": [
    {
     "name": "stdout",
     "output_type": "stream",
     "text": [
      "<class 'pandas.core.frame.DataFrame'>\n",
      "RangeIndex: 62 entries, 0 to 61\n",
      "Data columns (total 3 columns):\n",
      " #   Column    Non-Null Count  Dtype \n",
      "---  ------    --------------  ----- \n",
      " 0   date      62 non-null     object\n",
      " 1   group     62 non-null     object\n",
      " 2   visitors  62 non-null     int64 \n",
      "dtypes: int64(1), object(2)\n",
      "memory usage: 1.6+ KB\n"
     ]
    },
    {
     "data": {
      "text/html": [
       "<div>\n",
       "<style scoped>\n",
       "    .dataframe tbody tr th:only-of-type {\n",
       "        vertical-align: middle;\n",
       "    }\n",
       "\n",
       "    .dataframe tbody tr th {\n",
       "        vertical-align: top;\n",
       "    }\n",
       "\n",
       "    .dataframe thead th {\n",
       "        text-align: right;\n",
       "    }\n",
       "</style>\n",
       "<table border=\"1\" class=\"dataframe\">\n",
       "  <thead>\n",
       "    <tr style=\"text-align: right;\">\n",
       "      <th></th>\n",
       "      <th>date</th>\n",
       "      <th>group</th>\n",
       "      <th>visitors</th>\n",
       "    </tr>\n",
       "  </thead>\n",
       "  <tbody>\n",
       "    <tr>\n",
       "      <th>0</th>\n",
       "      <td>2019-08-01</td>\n",
       "      <td>A</td>\n",
       "      <td>719</td>\n",
       "    </tr>\n",
       "    <tr>\n",
       "      <th>1</th>\n",
       "      <td>2019-08-02</td>\n",
       "      <td>A</td>\n",
       "      <td>619</td>\n",
       "    </tr>\n",
       "    <tr>\n",
       "      <th>2</th>\n",
       "      <td>2019-08-03</td>\n",
       "      <td>A</td>\n",
       "      <td>507</td>\n",
       "    </tr>\n",
       "    <tr>\n",
       "      <th>3</th>\n",
       "      <td>2019-08-04</td>\n",
       "      <td>A</td>\n",
       "      <td>717</td>\n",
       "    </tr>\n",
       "    <tr>\n",
       "      <th>4</th>\n",
       "      <td>2019-08-05</td>\n",
       "      <td>A</td>\n",
       "      <td>756</td>\n",
       "    </tr>\n",
       "  </tbody>\n",
       "</table>\n",
       "</div>"
      ],
      "text/plain": [
       "         date group  visitors\n",
       "0  2019-08-01     A       719\n",
       "1  2019-08-02     A       619\n",
       "2  2019-08-03     A       507\n",
       "3  2019-08-04     A       717\n",
       "4  2019-08-05     A       756"
      ]
     },
     "execution_count": 6,
     "metadata": {},
     "output_type": "execute_result"
    }
   ],
   "source": [
    "visitors.info()\n",
    "visitors.head()"
   ]
  },
  {
   "cell_type": "markdown",
   "metadata": {},
   "source": [
    "Проверяем таблицы на дубликаты."
   ]
  },
  {
   "cell_type": "code",
   "execution_count": 7,
   "metadata": {},
   "outputs": [
    {
     "name": "stdout",
     "output_type": "stream",
     "text": [
      "Empty DataFrame\n",
      "Columns: [transaction_id, visitor_id, date, revenue, group]\n",
      "Index: []\n"
     ]
    },
    {
     "data": {
      "text/plain": [
       "0"
      ]
     },
     "execution_count": 7,
     "metadata": {},
     "output_type": "execute_result"
    }
   ],
   "source": [
    "print(orders[orders.duplicated(['transaction_id'])])\n",
    "visitors.duplicated(['date', 'group']).sum()"
   ]
  },
  {
   "cell_type": "code",
   "execution_count": 8,
   "metadata": {},
   "outputs": [
    {
     "name": "stdout",
     "output_type": "stream",
     "text": [
      "Количество групп: 2\n",
      "Дата начала теста: 2019-08-01\n",
      "Дата окончания теста: 2019-08-31\n",
      "В группе А  503 , а в группе В  586  пользователей.\n",
      "Число пользователей, оказавшихся в обеих группах: 58\n"
     ]
    },
    {
     "data": {
      "image/png": "[encoded data removed]",
      "text/plain": [
       "<Figure size 1800x600 with 1 Axes>"
      ]
     },
     "metadata": {},
     "output_type": "display_data"
    }
   ],
   "source": [
    "print(f'Количество групп: {orders[\"group\"].nunique()}')\n",
    "\n",
    "if orders[\"date\"].min() == visitors[\"date\"].min():\n",
    "    print(f'Дата начала теста: {orders[\"date\"].min()}')\n",
    "\n",
    "if orders[\"date\"].max() == visitors[\"date\"].max():\n",
    "    print(f'Дата окончания теста: {orders[\"date\"].max()}')\n",
    "\n",
    "print('В группе А ', orders.query('group==\"A\"')\n",
    "      ['visitor_id'].nunique(), ', а в группе В ', \n",
    "      orders.query('group==\"B\"')['visitor_id'].nunique(), ' пользователей.')\n",
    "\n",
    "groups_per_user = orders.groupby('visitor_id', as_index=False)['group'].nunique()\n",
    "print(f'Число пользователей, оказавшихся в обеих группах: {groups_per_user.query(\"group==2\")[\"visitor_id\"].count()}')\n",
    "\n",
    "visitors_per_day = visitors.pivot_table(index='date', columns='group', values='visitors')\n",
    "visitors_per_day.plot(kind='bar', figsize=(18, 6), legend=False, grid=True)\n",
    "plt.title('Динамика посетителей по дням по группам')\n",
    "plt.xlabel('Дата')\n",
    "plt.ylabel('Количество посетителей')\n",
    "plt.show()"
   ]
  },
  {
   "cell_type": "markdown",
   "metadata": {},
   "source": [
    "**Вывод:** *Методом Info() определили, что пропусков нет - количество значений в каждом из столбцов каждой таблицы соответствует числу строк таблицы. Типы данных корректные, дубликатов нет. Всего есть 2 группы, тест проходил в течение всего августа, число пользователей в группах немного отличается - в группе А - 503, а в группе В - 586 пользователей. Есть 58 пользователей, которые попали в обе группы.*"
   ]
  },
  {
   "cell_type": "markdown",
   "metadata": {},
   "source": [
    "### Приоритизация гипотез"
   ]
  },
  {
   "cell_type": "markdown",
   "metadata": {},
   "source": [
    "#### Применение фреймворка ICE для приоритизации гипотез"
   ]
  },
  {
   "cell_type": "code",
   "execution_count": 9,
   "metadata": {},
   "outputs": [
    {
     "data": {
      "text/html": [
       "<div>\n",
       "<style scoped>\n",
       "    .dataframe tbody tr th:only-of-type {\n",
       "        vertical-align: middle;\n",
       "    }\n",
       "\n",
       "    .dataframe tbody tr th {\n",
       "        vertical-align: top;\n",
       "    }\n",
       "\n",
       "    .dataframe thead th {\n",
       "        text-align: right;\n",
       "    }\n",
       "</style>\n",
       "<table border=\"1\" class=\"dataframe\">\n",
       "  <thead>\n",
       "    <tr style=\"text-align: right;\">\n",
       "      <th></th>\n",
       "      <th>hypothesis</th>\n",
       "      <th>ICE</th>\n",
       "    </tr>\n",
       "  </thead>\n",
       "  <tbody>\n",
       "    <tr>\n",
       "      <th>8</th>\n",
       "      <td>Запустить акцию, дающую скидку на товар в день рождения</td>\n",
       "      <td>16.20</td>\n",
       "    </tr>\n",
       "    <tr>\n",
       "      <th>0</th>\n",
       "      <td>Добавить два новых канала привлечения трафика, что позволит привлекать на 30% больше пользователей</td>\n",
       "      <td>13.33</td>\n",
       "    </tr>\n",
       "    <tr>\n",
       "      <th>7</th>\n",
       "      <td>Добавить форму подписки на все основные страницы, чтобы собрать базу клиентов для email-рассылок</td>\n",
       "      <td>11.20</td>\n",
       "    </tr>\n",
       "    <tr>\n",
       "      <th>6</th>\n",
       "      <td>Показать на главной странице баннеры с актуальными акциями и распродажами, чтобы увеличить конверсию</td>\n",
       "      <td>8.00</td>\n",
       "    </tr>\n",
       "    <tr>\n",
       "      <th>2</th>\n",
       "      <td>Добавить блоки рекомендаций товаров на сайт интернет магазина, чтобы повысить конверсию и средний чек заказа</td>\n",
       "      <td>7.00</td>\n",
       "    </tr>\n",
       "    <tr>\n",
       "      <th>1</th>\n",
       "      <td>Запустить собственную службу доставки, что сократит срок доставки заказов</td>\n",
       "      <td>2.00</td>\n",
       "    </tr>\n",
       "    <tr>\n",
       "      <th>5</th>\n",
       "      <td>Добавить страницу отзывов клиентов о магазине, что позволит увеличить количество заказов</td>\n",
       "      <td>1.33</td>\n",
       "    </tr>\n",
       "    <tr>\n",
       "      <th>3</th>\n",
       "      <td>Изменить структура категорий, что увеличит конверсию, т.к. пользователи быстрее найдут нужный товар</td>\n",
       "      <td>1.12</td>\n",
       "    </tr>\n",
       "    <tr>\n",
       "      <th>4</th>\n",
       "      <td>Изменить цвет фона главной страницы, чтобы увеличить вовлеченность пользователей</td>\n",
       "      <td>1.00</td>\n",
       "    </tr>\n",
       "  </tbody>\n",
       "</table>\n",
       "</div>"
      ],
      "text/plain": [
       "                                                                                                     hypothesis  \\\n",
       "8                                                       Запустить акцию, дающую скидку на товар в день рождения   \n",
       "0            Добавить два новых канала привлечения трафика, что позволит привлекать на 30% больше пользователей   \n",
       "7              Добавить форму подписки на все основные страницы, чтобы собрать базу клиентов для email-рассылок   \n",
       "6          Показать на главной странице баннеры с актуальными акциями и распродажами, чтобы увеличить конверсию   \n",
       "2  Добавить блоки рекомендаций товаров на сайт интернет магазина, чтобы повысить конверсию и средний чек заказа   \n",
       "1                                     Запустить собственную службу доставки, что сократит срок доставки заказов   \n",
       "5                      Добавить страницу отзывов клиентов о магазине, что позволит увеличить количество заказов   \n",
       "3           Изменить структура категорий, что увеличит конверсию, т.к. пользователи быстрее найдут нужный товар   \n",
       "4                              Изменить цвет фона главной страницы, чтобы увеличить вовлеченность пользователей   \n",
       "\n",
       "     ICE  \n",
       "8  16.20  \n",
       "0  13.33  \n",
       "7  11.20  \n",
       "6   8.00  \n",
       "2   7.00  \n",
       "1   2.00  \n",
       "5   1.33  \n",
       "3   1.12  \n",
       "4   1.00  "
      ]
     },
     "execution_count": 9,
     "metadata": {},
     "output_type": "execute_result"
    }
   ],
   "source": [
    "data['ICE'] = round(data['impact'] * data['confidence'] / data['efforts'], 2)\n",
    "data[['hypothesis', 'ICE']].sort_values(by='ICE', ascending = False)"
   ]
  },
  {
   "cell_type": "markdown",
   "metadata": {},
   "source": [
    "*Индексы наиболее перспективных гипотез по способу приоритизации задач ICE: 8, 0, 7.*"
   ]
  },
  {
   "cell_type": "markdown",
   "metadata": {},
   "source": [
    "#### Применение фреймворка RICE для приоритизации гипотез"
   ]
  },
  {
   "cell_type": "code",
   "execution_count": 10,
   "metadata": {},
   "outputs": [
    {
     "data": {
      "text/html": [
       "<div>\n",
       "<style scoped>\n",
       "    .dataframe tbody tr th:only-of-type {\n",
       "        vertical-align: middle;\n",
       "    }\n",
       "\n",
       "    .dataframe tbody tr th {\n",
       "        vertical-align: top;\n",
       "    }\n",
       "\n",
       "    .dataframe thead th {\n",
       "        text-align: right;\n",
       "    }\n",
       "</style>\n",
       "<table border=\"1\" class=\"dataframe\">\n",
       "  <thead>\n",
       "    <tr style=\"text-align: right;\">\n",
       "      <th></th>\n",
       "      <th>hypothesis</th>\n",
       "      <th>RICE</th>\n",
       "    </tr>\n",
       "  </thead>\n",
       "  <tbody>\n",
       "    <tr>\n",
       "      <th>7</th>\n",
       "      <td>Добавить форму подписки на все основные страницы, чтобы собрать базу клиентов для email-рассылок</td>\n",
       "      <td>112.0</td>\n",
       "    </tr>\n",
       "    <tr>\n",
       "      <th>2</th>\n",
       "      <td>Добавить блоки рекомендаций товаров на сайт интернет магазина, чтобы повысить конверсию и средний чек заказа</td>\n",
       "      <td>56.0</td>\n",
       "    </tr>\n",
       "    <tr>\n",
       "      <th>0</th>\n",
       "      <td>Добавить два новых канала привлечения трафика, что позволит привлекать на 30% больше пользователей</td>\n",
       "      <td>40.0</td>\n",
       "    </tr>\n",
       "    <tr>\n",
       "      <th>6</th>\n",
       "      <td>Показать на главной странице баннеры с актуальными акциями и распродажами, чтобы увеличить конверсию</td>\n",
       "      <td>40.0</td>\n",
       "    </tr>\n",
       "    <tr>\n",
       "      <th>8</th>\n",
       "      <td>Запустить акцию, дающую скидку на товар в день рождения</td>\n",
       "      <td>16.2</td>\n",
       "    </tr>\n",
       "    <tr>\n",
       "      <th>3</th>\n",
       "      <td>Изменить структура категорий, что увеличит конверсию, т.к. пользователи быстрее найдут нужный товар</td>\n",
       "      <td>9.0</td>\n",
       "    </tr>\n",
       "    <tr>\n",
       "      <th>1</th>\n",
       "      <td>Запустить собственную службу доставки, что сократит срок доставки заказов</td>\n",
       "      <td>4.0</td>\n",
       "    </tr>\n",
       "    <tr>\n",
       "      <th>5</th>\n",
       "      <td>Добавить страницу отзывов клиентов о магазине, что позволит увеличить количество заказов</td>\n",
       "      <td>4.0</td>\n",
       "    </tr>\n",
       "    <tr>\n",
       "      <th>4</th>\n",
       "      <td>Изменить цвет фона главной страницы, чтобы увеличить вовлеченность пользователей</td>\n",
       "      <td>3.0</td>\n",
       "    </tr>\n",
       "  </tbody>\n",
       "</table>\n",
       "</div>"
      ],
      "text/plain": [
       "                                                                                                     hypothesis  \\\n",
       "7              Добавить форму подписки на все основные страницы, чтобы собрать базу клиентов для email-рассылок   \n",
       "2  Добавить блоки рекомендаций товаров на сайт интернет магазина, чтобы повысить конверсию и средний чек заказа   \n",
       "0            Добавить два новых канала привлечения трафика, что позволит привлекать на 30% больше пользователей   \n",
       "6          Показать на главной странице баннеры с актуальными акциями и распродажами, чтобы увеличить конверсию   \n",
       "8                                                       Запустить акцию, дающую скидку на товар в день рождения   \n",
       "3           Изменить структура категорий, что увеличит конверсию, т.к. пользователи быстрее найдут нужный товар   \n",
       "1                                     Запустить собственную службу доставки, что сократит срок доставки заказов   \n",
       "5                      Добавить страницу отзывов клиентов о магазине, что позволит увеличить количество заказов   \n",
       "4                              Изменить цвет фона главной страницы, чтобы увеличить вовлеченность пользователей   \n",
       "\n",
       "    RICE  \n",
       "7  112.0  \n",
       "2   56.0  \n",
       "0   40.0  \n",
       "6   40.0  \n",
       "8   16.2  \n",
       "3    9.0  \n",
       "1    4.0  \n",
       "5    4.0  \n",
       "4    3.0  "
      ]
     },
     "execution_count": 10,
     "metadata": {},
     "output_type": "execute_result"
    }
   ],
   "source": [
    "data['RICE'] = data['impact'] * data['confidence'] * data['reach'] / data['efforts']\n",
    "data[['hypothesis', 'RICE']].sort_values(by='RICE', ascending = False)"
   ]
  },
  {
   "cell_type": "markdown",
   "metadata": {},
   "source": [
    "*Индексы наиболее перспективных гипотез по методу RICE: 7, 2, 0.*"
   ]
  },
  {
   "cell_type": "markdown",
   "metadata": {},
   "source": [
    "**Вывод:** *Топ наиболее приоритетных гипотез отличается в зависимости от выбора способа приоритизации. Это происходит потому, что метод RICE, в отличие от ICE, учитывает охват - количество пользователей, которых затронет вносимое изменение.* \n",
    "\n",
    "*Без учета параметра Reach, самая приоритетная - гипотеза \"Запустить акцию, дающую скидку на товар в день рождения\", гипотезы \"Показать на главной странице баннеры с актуальными акциями и распродажами, чтобы увеличить конверсию\" и \"Добавить блоки рекомендаций товаров на сайт интернет магазина, чтобы повысить конверсию и средний чек заказа\" находятся в середине топа перспективности.*\n",
    "\n",
    "*С учетом Reach, топ самых перспективных гипотез:*\n",
    "\n",
    "1. \"Добавить форму подписки на все основные страницы, чтобы собрать базу клиентов для email-рассылок\" \n",
    "2. \"Добавить блоки рекомендаций товаров на сайт интернет магазина, чтобы повысить конверсию и средний чек заказа\"\n",
    "3. \"Добавить два новых канала привлечения трафика, что позволит привлекать на 30% больше пользователей\" и \"Показать на главной странице баннеры с актуальными акциями и распродажами, чтобы увеличить конверсию\"\n",
    "\n",
    "*Гипотеза с индексом 8 перестает быть приоритетной с учетом ее низкого охвата.*"
   ]
  },
  {
   "cell_type": "code",
   "execution_count": null,
   "metadata": {},
   "outputs": [],
   "source": []
  },
  {
   "cell_type": "markdown",
   "metadata": {},
   "source": [
    "### Анализ A/B-теста"
   ]
  },
  {
   "cell_type": "markdown",
   "metadata": {},
   "source": [
    "#### Построение графика кумулятивной выручки по группам"
   ]
  },
  {
   "cell_type": "code",
   "execution_count": 11,
   "metadata": {},
   "outputs": [
    {
     "data": {
      "image/png": "[encoded data removed]",
      "text/plain": [
       "<Figure size 1000x500 with 1 Axes>"
      ]
     },
     "metadata": {},
     "output_type": "display_data"
    }
   ],
   "source": [
    "dates_groups = orders[['date', 'group']].drop_duplicates()\n",
    "\n",
    "orders_aggregated = dates_groups.apply(\n",
    "    lambda x: orders[\n",
    "        np.logical_and(\n",
    "            orders['date'] <= x['date'], orders['group'] == x['group']\n",
    "        )\n",
    "    ].agg(\n",
    "        {\n",
    "            'date': 'max',\n",
    "            'group': 'max',\n",
    "            'transaction_id': 'count',\n",
    "            'visitor_id': 'nunique',\n",
    "            'revenue': 'sum',\n",
    "        }\n",
    "    ),\n",
    "    axis=1,\n",
    ").sort_values(by=['date', 'group'])\n",
    "\n",
    "visitors_aggregated = dates_groups.apply(\n",
    "    lambda x: visitors[\n",
    "        np.logical_and(\n",
    "            visitors['date'] <= x['date'], visitors['group'] == x['group']\n",
    "        )\n",
    "    ].agg({'date': 'max', 'group': 'max', 'visitors': 'sum'}),\n",
    "    axis=1,\n",
    ").sort_values(by=['date', 'group'])\n",
    "\n",
    "cumulative_data = orders_aggregated.merge(\n",
    "    visitors_aggregated, left_on=['date', 'group'], right_on=['date', 'group']\n",
    ")\n",
    "cumulative_data.columns = [\n",
    "    'date',\n",
    "    'group',\n",
    "    'orders',\n",
    "    'buyers',\n",
    "    'revenue',\n",
    "    'visitors',\n",
    "]\n",
    "\n",
    "cumulative_revenue_a = cumulative_data[cumulative_data['group']=='A'][['date','revenue', 'orders']]\n",
    "cumulative_revenue_b = cumulative_data[cumulative_data['group']=='B'][['date','revenue', 'orders']]\n",
    "\n",
    "plt.figure(figsize=(10, 5))\n",
    "plt.plot(cumulative_revenue_a['date'], cumulative_revenue_a['revenue'], label='A')\n",
    "plt.plot(cumulative_revenue_b['date'], cumulative_revenue_b['revenue'], label='B')\n",
    "\n",
    "plt.title('График кумулятивной выручки групп A и B')\n",
    "plt.xlabel('Дата')\n",
    "plt.ylabel('Кумулятивная выручка')\n",
    "plt.legend()\n",
    "plt.show()"
   ]
  },
  {
   "cell_type": "markdown",
   "metadata": {},
   "source": [
    "*Кумулятивная выручка обеих групп возрастала равномерно, затем резко увеличилась для группы B с 18 по 19 августа, примерно с 2,5 до 4 миллионов, вероятно в результате заказа на крупную сумму либо резкого увеличения числа заказов.*"
   ]
  },
  {
   "cell_type": "markdown",
   "metadata": {},
   "source": [
    "#### Построение графика кумулятивного среднего чека по группам"
   ]
  },
  {
   "cell_type": "code",
   "execution_count": 12,
   "metadata": {},
   "outputs": [
    {
     "data": {
      "image/png": "[encoded data removed]",
      "text/plain": [
       "<Figure size 1000x500 with 1 Axes>"
      ]
     },
     "metadata": {},
     "output_type": "display_data"
    }
   ],
   "source": [
    "plt.figure(figsize=(10, 5))\n",
    "plt.plot(cumulative_revenue_a['date'], cumulative_revenue_a['revenue']/cumulative_revenue_a['orders'], label='A')\n",
    "plt.plot(cumulative_revenue_b['date'], cumulative_revenue_b['revenue']/cumulative_revenue_b['orders'], label='B')\n",
    "plt.title('График кумулятивного среднего чека групп A и B')\n",
    "plt.xlabel('Дата')\n",
    "plt.ylabel('Кумулятивный средний чек')\n",
    "plt.legend()\n",
    "plt.ylim(0, 11000)\n",
    "plt.show()"
   ]
  },
  {
   "cell_type": "markdown",
   "metadata": {},
   "source": [
    "*Кумулятивное значение среднего чека по сегментам становится стабильнее к концу теста, но продолжает колебаться, принимать решение по этой метрике рано, группам нужно больше данных, чтобы прийти к реальному среднему чеку и установиться на его уровне. В группу B с 18 по 19 августа попали крупные заказы, что вызвало резкий всплеск на графике, средний чек группы B вырос до 10000 и с тех пор постепенно снижается.*"
   ]
  },
  {
   "cell_type": "markdown",
   "metadata": {},
   "source": [
    "#### Построение графика относительного изменения кумулятивного среднего чека группы B к группе A"
   ]
  },
  {
   "cell_type": "code",
   "execution_count": 13,
   "metadata": {},
   "outputs": [
    {
     "data": {
      "image/png": "[encoded data removed]",
      "text/plain": [
       "<Figure size 1000x500 with 1 Axes>"
      ]
     },
     "metadata": {},
     "output_type": "display_data"
    }
   ],
   "source": [
    "merged_сumulative_revenue = (\n",
    "    cumulative_revenue_a\n",
    "    .merge(cumulative_revenue_b, left_on='date', right_on='date', how='left', suffixes=['_a', '_b'])\n",
    ")\n",
    "plt.figure(figsize=(10, 5))\n",
    "plt.plot(\n",
    "    merged_сumulative_revenue['date'], \n",
    "         (merged_сumulative_revenue['revenue_b']/merged_сumulative_revenue['orders_b'])\n",
    "         /(merged_сumulative_revenue['revenue_a']/merged_сumulative_revenue['orders_a'])-1\n",
    ")\n",
    "plt.axhline(y=0, color='black', linestyle='--') \n",
    "plt.title('График относительного изменения кумулятивного среднего чека группы B к группе A')\n",
    "plt.xlabel('Дата')\n",
    "plt.ylabel('Отношение средних чеков')\n",
    "plt.show()"
   ]
  },
  {
   "cell_type": "markdown",
   "metadata": {},
   "source": [
    "*График различия между сегментами резко скачет в несколько дат. Видимо, именно тогда были совершены аномальные заказы. На момент 19 августа средний чек группы B был выше среднего чека группы A на 50%, с тех пор различие постепенно снижается.*"
   ]
  },
  {
   "cell_type": "markdown",
   "metadata": {},
   "source": [
    "#### Построение графика кумулятивного среднего количества заказов на посетителя по группам"
   ]
  },
  {
   "cell_type": "code",
   "execution_count": 14,
   "metadata": {},
   "outputs": [
    {
     "data": {
      "image/png": "[encoded data removed]",
      "text/plain": [
       "<Figure size 1000x500 with 1 Axes>"
      ]
     },
     "metadata": {},
     "output_type": "display_data"
    }
   ],
   "source": [
    "cumulative_data['conversion'] = cumulative_data['orders']/cumulative_data['visitors']\n",
    "\n",
    "# отделяем данные по группе A\n",
    "cumulative_data_a = cumulative_data[cumulative_data['group']=='A']\n",
    "\n",
    "# отделяем данные по группе B\n",
    "cumulative_data_b = cumulative_data[cumulative_data['group']=='B']\n",
    "\n",
    "# строим графики\n",
    "plt.figure(figsize=(10, 5))\n",
    "plt.plot(cumulative_data_a['date'], cumulative_data_a['conversion'], label='A')\n",
    "plt.plot(cumulative_data_b['date'], cumulative_data_b['conversion'], label='B')\n",
    "plt.legend()\n",
    "plt.ylim(0, 0.04)\n",
    "plt.title('График кумулятивного среднего количества заказов на посетителя групп А и B')\n",
    "plt.ylabel('Кумулятивное среднее кол-во заказов на посетителя')\n",
    "plt.xlabel('Отношение средних чеков')\n",
    "plt.show()"
   ]
  },
  {
   "cell_type": "markdown",
   "metadata": {},
   "source": [
    "*В начале теста группы колебались около одного значения, но постепенно сегмент B выровнялся и зафиксировался примерно около 0.035 заказа на одного посетителя, что больше этого значения у сегмента A - 0.03 заказа на посетителя.*"
   ]
  },
  {
   "cell_type": "markdown",
   "metadata": {},
   "source": [
    "#### Построение графика относительного изменения кумулятивного среднего количества заказов на посетителя группы B к группе A"
   ]
  },
  {
   "cell_type": "code",
   "execution_count": 15,
   "metadata": {},
   "outputs": [
    {
     "data": {
      "image/png": "[encoded data removed]",
      "text/plain": [
       "<Figure size 1000x500 with 1 Axes>"
      ]
     },
     "metadata": {},
     "output_type": "display_data"
    }
   ],
   "source": [
    "merged_сumulative_сonversions = (\n",
    "    cumulative_data_a[['date','conversion']]\n",
    "    .merge(cumulative_data_b[['date','conversion']], \n",
    "           left_on='date', right_on='date', how='left', suffixes=['_a', '_b'])\n",
    ")\n",
    "plt.figure(figsize=(10, 5))\n",
    "plt.plot(\n",
    "    merged_сumulative_сonversions['date'], merged_сumulative_сonversions['conversion_b']\n",
    "    /merged_сumulative_сonversions['conversion_a']-1, \n",
    ")\n",
    "\n",
    "plt.axhline(y=0, color='black', linestyle='--')\n",
    "plt.axhline(y=0.14, color='grey', linestyle='--') \n",
    "plt.title('График относительного изменения кумулятивного среднего количества заказов на посетителя группы B к группе A')\n",
    "plt.xlabel('Дата')\n",
    "plt.ylabel('Отношение среднего кол-ва заказов на посетителя')\n",
    "plt.show()"
   ]
  },
  {
   "cell_type": "markdown",
   "metadata": {},
   "source": [
    "*Почти с самого начала теста группа B лидирует по метрике: в один момент среднее количество заказов на посетителя группы B было выше среднего количества заказов на посетителя группы А на 20% , затем зафиксировалась около прироста в 14% относительно группы A.*"
   ]
  },
  {
   "cell_type": "markdown",
   "metadata": {},
   "source": [
    "#### Построение точечного графика количества заказов по пользователям, рассчет 95-ого и 99-ого перцентиля количества заказов на пользователя"
   ]
  },
  {
   "cell_type": "code",
   "execution_count": 16,
   "metadata": {},
   "outputs": [
    {
     "data": {
      "image/png": "[encoded data removed]",
      "text/plain": [
       "<Figure size 1000x500 with 1 Axes>"
      ]
     },
     "metadata": {},
     "output_type": "display_data"
    }
   ],
   "source": [
    "orders_by_users = (\n",
    "    orders.groupby('visitor_id', as_index=False)\n",
    "    .agg({'transaction_id': 'count'})\n",
    ")\n",
    "orders_by_users.columns = ['user_id', 'orders']\n",
    "\n",
    "x_values = pd.Series(range(0,len(orders_by_users)))\n",
    "plt.figure(figsize=(10, 5))\n",
    "plt.scatter(x_values, orders_by_users['orders']) \n",
    "plt.title('Точечный график количества заказов по пользователям')\n",
    "plt.xlabel('Порядковый номер пользователя')\n",
    "plt.ylabel('Количество заказов')\n",
    "plt.ylim(0, 12)\n",
    "plt.show()"
   ]
  },
  {
   "cell_type": "code",
   "execution_count": 17,
   "metadata": {},
   "outputs": [
    {
     "data": {
      "text/plain": [
       "array([2., 4.])"
      ]
     },
     "execution_count": 17,
     "metadata": {},
     "output_type": "execute_result"
    }
   ],
   "source": [
    "np.percentile(orders_by_users['orders'], [95, 99])"
   ]
  },
  {
   "cell_type": "markdown",
   "metadata": {},
   "source": [
    "*Среди более чем 1000 покупателей, не более 5% пользователей совершали больше двух заказов и не более 1% пользователей — больше четырех заказов. Аномальными можно считать пользователей, совершивших более трех заказов.*"
   ]
  },
  {
   "cell_type": "markdown",
   "metadata": {},
   "source": [
    "#### Построение точечного графика стоимостей заказов, рассчет 95-ого и 99-ого перцентиля стоимости заказов"
   ]
  },
  {
   "cell_type": "code",
   "execution_count": 18,
   "metadata": {},
   "outputs": [
    {
     "data": {
      "image/png": "[encoded data removed]",
      "text/plain": [
       "<Figure size 1000x500 with 1 Axes>"
      ]
     },
     "metadata": {},
     "output_type": "display_data"
    },
    {
     "data": {
      "image/png": "[encoded data removed]",
      "text/plain": [
       "<Figure size 1000x500 with 1 Axes>"
      ]
     },
     "metadata": {},
     "output_type": "display_data"
    }
   ],
   "source": [
    "x_values = pd.Series(range(0,len(orders)))\n",
    "\n",
    "plt.figure(figsize=(10, 5))\n",
    "plt.scatter(x_values, orders['revenue']) \n",
    "plt.title('Точечный график стоимостей заказов')\n",
    "plt.xlabel('Порядковый номер заказа')\n",
    "plt.ylabel('Стоимость заказаа')\n",
    "\n",
    "plt.figure(figsize=(10, 5))\n",
    "plt.scatter(x_values, orders['revenue']) \n",
    "plt.title('Точечный график стоимостей заказов')\n",
    "plt.xlabel('Порядковый номер заказа')\n",
    "plt.ylabel('Стоимость заказаа')\n",
    "plt.ylim(0, 100000)\n",
    "plt.show()"
   ]
  },
  {
   "cell_type": "code",
   "execution_count": 19,
   "metadata": {},
   "outputs": [
    {
     "data": {
      "text/plain": [
       "array([28000. , 58233.2])"
      ]
     },
     "execution_count": 19,
     "metadata": {},
     "output_type": "execute_result"
    }
   ],
   "source": [
    "np.percentile(orders['revenue'], [95, 99])"
   ]
  },
  {
   "cell_type": "markdown",
   "metadata": {},
   "source": [
    "*Из почти 1200 заказов, не более чем у 5% чек дороже 28000 и не более чем у 1% заказов — дороже 58233. Аномальными можно считать заказы дороже 40000.*"
   ]
  },
  {
   "cell_type": "markdown",
   "metadata": {},
   "source": [
    "#### Рассчет статистической значимости различий в среднем количестве заказов на посетителя между группами по «сырым» данным"
   ]
  },
  {
   "cell_type": "code",
   "execution_count": 20,
   "metadata": {},
   "outputs": [
    {
     "data": {
      "text/html": [
       "<div>\n",
       "<style scoped>\n",
       "    .dataframe tbody tr th:only-of-type {\n",
       "        vertical-align: middle;\n",
       "    }\n",
       "\n",
       "    .dataframe tbody tr th {\n",
       "        vertical-align: top;\n",
       "    }\n",
       "\n",
       "    .dataframe thead th {\n",
       "        text-align: right;\n",
       "    }\n",
       "</style>\n",
       "<table border=\"1\" class=\"dataframe\">\n",
       "  <thead>\n",
       "    <tr style=\"text-align: right;\">\n",
       "      <th></th>\n",
       "      <th>date</th>\n",
       "      <th>visitors_per_date_a</th>\n",
       "      <th>visitors_per_date_b</th>\n",
       "    </tr>\n",
       "  </thead>\n",
       "  <tbody>\n",
       "    <tr>\n",
       "      <th>0</th>\n",
       "      <td>2019-08-01</td>\n",
       "      <td>719</td>\n",
       "      <td>713</td>\n",
       "    </tr>\n",
       "    <tr>\n",
       "      <th>1</th>\n",
       "      <td>2019-08-02</td>\n",
       "      <td>619</td>\n",
       "      <td>581</td>\n",
       "    </tr>\n",
       "    <tr>\n",
       "      <th>2</th>\n",
       "      <td>2019-08-03</td>\n",
       "      <td>507</td>\n",
       "      <td>509</td>\n",
       "    </tr>\n",
       "    <tr>\n",
       "      <th>3</th>\n",
       "      <td>2019-08-04</td>\n",
       "      <td>717</td>\n",
       "      <td>770</td>\n",
       "    </tr>\n",
       "    <tr>\n",
       "      <th>4</th>\n",
       "      <td>2019-08-05</td>\n",
       "      <td>756</td>\n",
       "      <td>707</td>\n",
       "    </tr>\n",
       "  </tbody>\n",
       "</table>\n",
       "</div>"
      ],
      "text/plain": [
       "         date  visitors_per_date_a  visitors_per_date_b\n",
       "0  2019-08-01                  719                  713\n",
       "1  2019-08-02                  619                  581\n",
       "2  2019-08-03                  507                  509\n",
       "3  2019-08-04                  717                  770\n",
       "4  2019-08-05                  756                  707"
      ]
     },
     "execution_count": 20,
     "metadata": {},
     "output_type": "execute_result"
    }
   ],
   "source": [
    "visitors_a_daily = visitors[visitors['group'] == 'A'][['date', 'visitors']]\n",
    "visitors_a_daily.columns = ['date', 'visitors_per_date_a']\n",
    "\n",
    "visitors_b_daily = visitors[visitors['group'] == 'B'][['date', 'visitors']]\n",
    "visitors_b_daily.columns = ['date', 'visitors_per_date_b']\n",
    "dt = (\n",
    "    visitors_a_daily.merge(\n",
    "        visitors_b_daily, left_on='date', right_on='date', how='left'\n",
    "    ))\n",
    "dt.head()"
   ]
  },
  {
   "cell_type": "markdown",
   "metadata": {},
   "source": [
    "Нулевая гипотеза: различий в среднем количестве заказов между группами нет.\n",
    "\n",
    "Альтернативная гипотеза: различия в среднем между группами есть."
   ]
  },
  {
   "cell_type": "code",
   "execution_count": 21,
   "metadata": {},
   "outputs": [
    {
     "name": "stdout",
     "output_type": "stream",
     "text": [
      "P-value: 0.01679\n",
      "Прирост среднего числа заказов группы B относительно группы А: 0.138\n"
     ]
    }
   ],
   "source": [
    "orders_by_users_a = (\n",
    "    orders[orders['group'] == 'A']\n",
    "    .groupby('visitor_id', as_index=False)\n",
    "    .agg({'transaction_id': 'count'})\n",
    ")\n",
    "orders_by_users_a.columns = ['user_id', 'orders']\n",
    "\n",
    "orders_by_users_b = (\n",
    "    orders[orders['group'] == 'B']\n",
    "    .groupby('visitor_id', as_index=False)\n",
    "    .agg({'transaction_id': 'count'})\n",
    ")\n",
    "orders_by_users_b.columns = ['user_id', 'orders']\n",
    "\n",
    "sample_a = pd.concat(\n",
    "    [orders_by_users_a['orders'], \n",
    "     pd.Series(0, index=np.arange(dt['visitors_per_date_a'].sum() \n",
    "                                  - len(orders_by_users_a)), name='orders')],axis=0\n",
    ")\n",
    "sample_b = pd.concat(\n",
    "    [orders_by_users_b['orders'], \n",
    "     pd.Series(0, index=np.arange(dt['visitors_per_date_b'].sum() \n",
    "                                  - len(orders_by_users_b)), name='orders')],axis=0)\n",
    "\n",
    "print(\"P-value: {0:.5f}\".format(stats.mannwhitneyu(sample_a, sample_b)[1]))\n",
    "print(\"Прирост среднего числа заказов группы B относительно группы А: {0:.3f}\"\n",
    "      .format(sample_b.mean() / sample_a.mean() - 1))"
   ]
  },
  {
   "cell_type": "code",
   "execution_count": 22,
   "metadata": {},
   "outputs": [
    {
     "data": {
      "text/plain": [
       "8864     0\n",
       "11991    0\n",
       "11990    0\n",
       "11989    0\n",
       "11988    0\n",
       "        ..\n",
       "18       4\n",
       "23       4\n",
       "227      5\n",
       "278      5\n",
       "499      7\n",
       "Name: orders, Length: 18736, dtype: int64"
      ]
     },
     "execution_count": 22,
     "metadata": {},
     "output_type": "execute_result"
    }
   ],
   "source": [
    "sample_a.sort_values()"
   ]
  },
  {
   "cell_type": "markdown",
   "metadata": {},
   "source": [
    "*P-value меньше 0.05, потому нулевую гипотезу отвергаем, хотя если бы уровень значимости был 0.01, нулевую гипотезу бы не отвергли. Анализ «сырых данных» сообщает, что в среднем количестве заказов между группами есть статистически значимые различия. Относительный прирост среднего группы B к конверсии группы A равен 13.8%.*"
   ]
  },
  {
   "cell_type": "markdown",
   "metadata": {},
   "source": [
    "#### Рассчет статистической значимости различий в среднем чеке заказа между группами по «сырым» данным"
   ]
  },
  {
   "cell_type": "markdown",
   "metadata": {},
   "source": [
    "Нулевая гипотеза: различий в среднем чеке между группами нет.\n",
    "\n",
    "Альтернативная гипотеза: различия в среднем чеке между группами есть."
   ]
  },
  {
   "cell_type": "code",
   "execution_count": 23,
   "metadata": {},
   "outputs": [
    {
     "name": "stdout",
     "output_type": "stream",
     "text": [
      "P-value: 0.729\n",
      "Относительные различия в среднем чеке между группами: 0.259\n"
     ]
    }
   ],
   "source": [
    "print('P-value: {0:.3f}'\n",
    "      .format(stats.mannwhitneyu(orders[orders['group']=='A']['revenue'], \n",
    "                                 orders[orders['group']=='B']['revenue'])[1])\n",
    "     )\n",
    "print('Относительные различия в среднем чеке между группами: {0:.3f}'\n",
    "      .format(orders[orders['group']=='B']['revenue'].mean()\n",
    "            / orders[orders['group']=='A']['revenue'].mean() - 1)\n",
    "     ) "
   ]
  },
  {
   "cell_type": "markdown",
   "metadata": {},
   "source": [
    "*При анализе «сырых данных», p-value значительно больше 0.05, значит, причин отвергать нулевую гипотезу и считать, что в среднем чеке есть различия, нет. Однако, средний чек группы B на 26% выше среднего чека группы A.*"
   ]
  },
  {
   "cell_type": "markdown",
   "metadata": {},
   "source": [
    "#### Рассчет статистической значимости различий в среднем количестве заказов на посетителя между группами по «очищенным» данным"
   ]
  },
  {
   "cell_type": "markdown",
   "metadata": {},
   "source": [
    "Нулевая гипотеза: различий в среднем количестве заказов между группами нет.\n",
    "\n",
    "Альтернативная гипотеза: различия в среднем между группами есть."
   ]
  },
  {
   "cell_type": "code",
   "execution_count": 24,
   "metadata": {},
   "outputs": [
    {
     "name": "stdout",
     "output_type": "stream",
     "text": [
      "Количество аномальных пользователей: 34\n"
     ]
    },
    {
     "data": {
      "text/plain": [
       "1099    148427295\n",
       "18      199603092\n",
       "23      237748145\n",
       "684     358944393\n",
       "648     382846391\n",
       "dtype: int64"
      ]
     },
     "execution_count": 24,
     "metadata": {},
     "output_type": "execute_result"
    }
   ],
   "source": [
    "users_with_many_orders = pd.concat(\n",
    "    [\n",
    "        orders_by_users_a[orders_by_users_a['orders'] > 3]['user_id'],\n",
    "        orders_by_users_b[orders_by_users_b['orders'] > 3]['user_id'],\n",
    "    ],\n",
    "    axis=0,\n",
    ")\n",
    "users_with_expensive_orders = orders[orders['revenue'] > 40000]['visitor_id']\n",
    "abnormal_users = (\n",
    "    pd.concat([users_with_many_orders, users_with_expensive_orders], axis=0)\n",
    "    .drop_duplicates()\n",
    "    .sort_values()\n",
    ")\n",
    "print(f'Количество аномальных пользователей: {abnormal_users.count()}')\n",
    "abnormal_users.head()"
   ]
  },
  {
   "cell_type": "code",
   "execution_count": 25,
   "metadata": {},
   "outputs": [
    {
     "name": "stdout",
     "output_type": "stream",
     "text": [
      "P-value: 0.00931\n",
      "Прирост среднего числа заказов группы B относительно группы А: 0.164\n"
     ]
    }
   ],
   "source": [
    "sample_a = pd.concat(\n",
    "    [orders_by_users_a[np.logical_not(orders_by_users_a['user_id'].isin(abnormal_users))]['orders'], \n",
    "     pd.Series(0, index=np.arange(dt['visitors_per_date_a'].sum() \n",
    "                                  - len(orders_by_users_a)), name='orders')],axis=0\n",
    ")\n",
    "sample_b = pd.concat(\n",
    "    [orders_by_users_b[np.logical_not(orders_by_users_b['user_id'].isin(abnormal_users))]['orders'], \n",
    "     pd.Series(0, index=np.arange(dt['visitors_per_date_b'].sum() \n",
    "                                  - len(orders_by_users_b)), name='orders')],axis=0)\n",
    "\n",
    "print(\"P-value: {0:.5f}\".format(stats.mannwhitneyu(sample_a, sample_b)[1]))\n",
    "print(\"Прирост среднего числа заказов группы B относительно группы А: {0:.3f}\"\n",
    "      .format(sample_b.mean() / sample_a.mean() - 1))"
   ]
  },
  {
   "cell_type": "markdown",
   "metadata": {},
   "source": [
    "*P-value меньше 0.05, потому нулевую гипотезу отвергаем. Анализ «очищенных данных» сообщает, что в среднем количестве заказов между группами есть статистически значимые различия. Относительный прирост среднего группы B к конверсии группы A равен 16.4%.*\n",
    "\n",
    "*P-value уменьшился относительно результатов анализа «сырых данных», теперь при уровне значимости 0.01, нулевую гипотезу бы все равно отвергли. Разница между сегментами увеличилась с 14% до 16%.*"
   ]
  },
  {
   "cell_type": "markdown",
   "metadata": {},
   "source": [
    "#### Рассчет статистической значимости различий в среднем чеке заказа между группами по «очищенным» данным"
   ]
  },
  {
   "cell_type": "markdown",
   "metadata": {},
   "source": [
    "Нулевая гипотеза: различий в среднем чеке между группами нет.\n",
    "\n",
    "Альтернативная гипотеза: различия в среднем чеке между группами есть."
   ]
  },
  {
   "cell_type": "code",
   "execution_count": 26,
   "metadata": {},
   "outputs": [
    {
     "name": "stdout",
     "output_type": "stream",
     "text": [
      "P-value: 0.711\n",
      "Относительные различия в среднем чеке между группами: 0.06\n"
     ]
    }
   ],
   "source": [
    "print(\n",
    "    'P-value: {0:.3f}'.format(\n",
    "        stats.mannwhitneyu(\n",
    "            orders[\n",
    "                np.logical_and(\n",
    "                    orders['group'] == 'A',\n",
    "                    np.logical_not(orders['visitor_id'].isin(abnormal_users)),\n",
    "                )\n",
    "            ]['revenue'],\n",
    "            orders[\n",
    "                np.logical_and(\n",
    "                    orders['group'] == 'B',\n",
    "                    np.logical_not(orders['visitor_id'].isin(abnormal_users)),\n",
    "                )\n",
    "            ]['revenue'],\n",
    "        )[1]\n",
    "    )\n",
    ")\n",
    "\n",
    "print(\n",
    "    \"Относительные различия в среднем чеке между группами: {0:.2f}\".format(\n",
    "        orders[\n",
    "            np.logical_and(\n",
    "                orders['group'] == 'B',\n",
    "                np.logical_not(orders['visitor_id'].isin(abnormal_users)),\n",
    "            )\n",
    "        ]['revenue'].mean()\n",
    "        / orders[\n",
    "            np.logical_and(\n",
    "                orders['group'] == 'A',\n",
    "                np.logical_not(orders['visitor_id'].isin(abnormal_users)),\n",
    "            )\n",
    "        ]['revenue'].mean()\n",
    "        - 1\n",
    "    )\n",
    ")"
   ]
  },
  {
   "cell_type": "markdown",
   "metadata": {},
   "source": [
    "*При анализе «очищенных данных», p-value значительно больше 0.05, значит, причин отвергать нулевую гипотезу и считать, что в среднем чеке есть различия, нет. Средний чек группы B всего на 6% выше среднего чека группы A.*\n",
    "\n",
    "*P-value незначительно уменьшился относительно результатов анализа «сырых данных», зато разница между сегментами сократилась с 26% до 6%.*"
   ]
  },
  {
   "cell_type": "markdown",
   "metadata": {},
   "source": [
    "При уровне статистической значимости 0.05, есть статистически значимое различие среднего количества заказов на посетителя между группами как по «сырым», так и по данным после фильтрации аномалий. Анализ «сырых данных» сообщает, что относительный прирост среднего группы B к конверсии группы A равен 13.8%, тогда как анализ «очищенных данных» сообщает, что относительный прирост среднего группы B к конверсии группы A равен 16.4%;\n",
    "\n",
    "Нет статистически значимого различия по среднему чеку между группами ни по «сырым», ни по данным после фильтрации аномалий. При анализе «очищенных данных», разница между сегментами сократилась до 6%, тогда как при анализе «сырых данных» она составляла 26%;\n",
    "\n",
    "График различия среднего количества заказов между группами сообщает, что результаты группы B зафиксировалась около прироста в 14% относительно группы A;\n",
    "\n",
    "График различия среднего чека сильно зависит от аномально дорогих заказов, средний чек группы B выше среднего чека группы A приблизительно на 25%, различие постепенно снижается.\n",
    "\n",
    "**Вывод:** *Исходя из обнаруженных фактов, тест следует остановить и признать его успешным. Продолжать смысла нет, потому как вероятность, что при имеющихся данных сегмент B на самом деле лучше сегмента A, особенно такой его показатель как количество заказов на постетилеля — практически стопроцентная.* "
   ]
  },
  {
   "cell_type": "code",
   "execution_count": null,
   "metadata": {},
   "outputs": [],
   "source": []
  }
 ],
 "metadata": {
  "ExecuteTimeLog": [
   {
    "duration": 4,
    "start_time": "2024-08-25T11:10:42.355Z"
   },
   {
    "duration": 49,
    "start_time": "2024-08-25T11:30:59.848Z"
   },
   {
    "duration": 398,
    "start_time": "2024-08-25T11:31:03.553Z"
   },
   {
    "duration": 71,
    "start_time": "2024-08-25T11:31:04.223Z"
   },
   {
    "duration": 221,
    "start_time": "2024-08-25T11:32:57.932Z"
   },
   {
    "duration": 73,
    "start_time": "2024-08-25T11:33:41.794Z"
   },
   {
    "duration": 14,
    "start_time": "2024-08-25T11:35:30.578Z"
   },
   {
    "duration": 7,
    "start_time": "2024-08-25T11:35:37.220Z"
   },
   {
    "duration": 12,
    "start_time": "2024-08-25T11:36:14.032Z"
   },
   {
    "duration": 10,
    "start_time": "2024-08-25T11:36:38.409Z"
   },
   {
    "duration": 416,
    "start_time": "2024-08-25T11:37:00.003Z"
   },
   {
    "duration": 74,
    "start_time": "2024-08-25T11:37:00.420Z"
   },
   {
    "duration": 14,
    "start_time": "2024-08-25T11:37:08.654Z"
   },
   {
    "duration": 8,
    "start_time": "2024-08-25T11:39:35.059Z"
   },
   {
    "duration": 12,
    "start_time": "2024-08-25T11:39:58.209Z"
   },
   {
    "duration": 8,
    "start_time": "2024-08-25T11:40:12.491Z"
   },
   {
    "duration": 12,
    "start_time": "2024-08-25T11:43:17.520Z"
   },
   {
    "duration": 426,
    "start_time": "2024-08-25T11:43:34.827Z"
   },
   {
    "duration": 73,
    "start_time": "2024-08-25T11:43:35.255Z"
   },
   {
    "duration": 15,
    "start_time": "2024-08-25T11:43:35.329Z"
   },
   {
    "duration": 18,
    "start_time": "2024-08-25T11:43:35.345Z"
   },
   {
    "duration": 16,
    "start_time": "2024-08-25T12:11:42.594Z"
   },
   {
    "duration": 6,
    "start_time": "2024-08-25T12:24:01.000Z"
   },
   {
    "duration": 5,
    "start_time": "2024-08-25T12:24:27.681Z"
   },
   {
    "duration": 5,
    "start_time": "2024-08-25T12:24:34.181Z"
   },
   {
    "duration": 10,
    "start_time": "2024-08-25T12:24:39.353Z"
   },
   {
    "duration": 18,
    "start_time": "2024-08-25T12:40:46.513Z"
   },
   {
    "duration": 9,
    "start_time": "2024-08-25T12:40:56.949Z"
   },
   {
    "duration": 12,
    "start_time": "2024-08-25T12:41:07.739Z"
   },
   {
    "duration": 4,
    "start_time": "2024-08-25T12:42:14.624Z"
   },
   {
    "duration": 14,
    "start_time": "2024-08-25T12:42:16.781Z"
   },
   {
    "duration": 12,
    "start_time": "2024-08-25T12:42:40.891Z"
   },
   {
    "duration": 12,
    "start_time": "2024-08-25T12:47:39.918Z"
   },
   {
    "duration": 8,
    "start_time": "2024-08-25T12:47:48.586Z"
   },
   {
    "duration": 10,
    "start_time": "2024-08-25T12:48:02.551Z"
   },
   {
    "duration": 92,
    "start_time": "2024-08-25T12:52:25.200Z"
   },
   {
    "duration": 795,
    "start_time": "2024-08-25T12:52:36.444Z"
   },
   {
    "duration": 80,
    "start_time": "2024-08-25T12:52:37.242Z"
   },
   {
    "duration": 13,
    "start_time": "2024-08-25T12:52:37.323Z"
   },
   {
    "duration": 69,
    "start_time": "2024-08-25T12:52:37.337Z"
   },
   {
    "duration": 28,
    "start_time": "2024-08-25T12:52:37.408Z"
   },
   {
    "duration": 37,
    "start_time": "2024-08-25T12:52:37.438Z"
   },
   {
    "duration": 102,
    "start_time": "2024-08-25T12:52:37.477Z"
   },
   {
    "duration": 360,
    "start_time": "2024-08-25T12:52:37.581Z"
   },
   {
    "duration": 11,
    "start_time": "2024-08-25T12:53:45.682Z"
   },
   {
    "duration": 8,
    "start_time": "2024-08-25T12:53:56.767Z"
   },
   {
    "duration": 295,
    "start_time": "2024-08-25T12:54:29.284Z"
   },
   {
    "duration": 533,
    "start_time": "2024-08-25T12:54:55.610Z"
   },
   {
    "duration": 288,
    "start_time": "2024-08-25T12:55:59.124Z"
   },
   {
    "duration": 292,
    "start_time": "2024-08-25T12:56:09.436Z"
   },
   {
    "duration": 657,
    "start_time": "2024-08-25T12:56:34.124Z"
   },
   {
    "duration": 85,
    "start_time": "2024-08-25T12:56:34.783Z"
   },
   {
    "duration": 11,
    "start_time": "2024-08-25T12:56:34.870Z"
   },
   {
    "duration": 10,
    "start_time": "2024-08-25T12:56:34.882Z"
   },
   {
    "duration": 7,
    "start_time": "2024-08-25T12:56:34.893Z"
   },
   {
    "duration": 14,
    "start_time": "2024-08-25T12:56:34.901Z"
   },
   {
    "duration": 12,
    "start_time": "2024-08-25T12:56:34.917Z"
   },
   {
    "duration": 518,
    "start_time": "2024-08-25T12:56:34.930Z"
   },
   {
    "duration": 335,
    "start_time": "2024-08-25T12:56:41.494Z"
   },
   {
    "duration": 8,
    "start_time": "2024-08-25T12:58:53.046Z"
   },
   {
    "duration": 642,
    "start_time": "2024-08-25T12:59:33.011Z"
   },
   {
    "duration": 75,
    "start_time": "2024-08-25T12:59:33.655Z"
   },
   {
    "duration": 14,
    "start_time": "2024-08-25T12:59:33.732Z"
   },
   {
    "duration": 10,
    "start_time": "2024-08-25T12:59:33.748Z"
   },
   {
    "duration": 10,
    "start_time": "2024-08-25T12:59:33.760Z"
   },
   {
    "duration": 25,
    "start_time": "2024-08-25T12:59:33.771Z"
   },
   {
    "duration": 14,
    "start_time": "2024-08-25T12:59:33.798Z"
   },
   {
    "duration": 267,
    "start_time": "2024-08-25T12:59:33.814Z"
   },
   {
    "duration": 502,
    "start_time": "2024-08-25T13:00:16.179Z"
   },
   {
    "duration": 425,
    "start_time": "2024-08-25T13:00:22.100Z"
   },
   {
    "duration": 409,
    "start_time": "2024-08-25T13:00:27.956Z"
   },
   {
    "duration": 447,
    "start_time": "2024-08-25T13:01:15.844Z"
   },
   {
    "duration": 13,
    "start_time": "2024-08-25T13:02:01.285Z"
   },
   {
    "duration": 8,
    "start_time": "2024-08-25T13:02:04.599Z"
   },
   {
    "duration": 7,
    "start_time": "2024-08-25T13:02:07.015Z"
   },
   {
    "duration": 414,
    "start_time": "2024-08-25T13:04:42.953Z"
   },
   {
    "duration": 395,
    "start_time": "2024-08-25T13:05:19.147Z"
   },
   {
    "duration": 397,
    "start_time": "2024-08-25T13:05:32.362Z"
   },
   {
    "duration": 390,
    "start_time": "2024-08-25T13:09:55.053Z"
   },
   {
    "duration": 390,
    "start_time": "2024-08-25T13:10:09.898Z"
   },
   {
    "duration": 384,
    "start_time": "2024-08-25T13:11:09.538Z"
   },
   {
    "duration": 478,
    "start_time": "2024-08-25T13:11:15.140Z"
   },
   {
    "duration": 460,
    "start_time": "2024-08-25T13:12:00.416Z"
   },
   {
    "duration": 578,
    "start_time": "2024-08-25T13:14:20.561Z"
   },
   {
    "duration": 75,
    "start_time": "2024-08-25T13:14:21.141Z"
   },
   {
    "duration": 15,
    "start_time": "2024-08-25T13:14:21.218Z"
   },
   {
    "duration": 9,
    "start_time": "2024-08-25T13:14:21.234Z"
   },
   {
    "duration": 8,
    "start_time": "2024-08-25T13:14:21.245Z"
   },
   {
    "duration": 24,
    "start_time": "2024-08-25T13:14:21.254Z"
   },
   {
    "duration": 27,
    "start_time": "2024-08-25T13:14:21.279Z"
   },
   {
    "duration": 565,
    "start_time": "2024-08-25T13:14:21.307Z"
   },
   {
    "duration": 2,
    "start_time": "2024-08-25T13:15:13.901Z"
   },
   {
    "duration": 600,
    "start_time": "2024-08-25T13:15:17.475Z"
   },
   {
    "duration": 75,
    "start_time": "2024-08-25T13:15:18.076Z"
   },
   {
    "duration": 16,
    "start_time": "2024-08-25T13:15:18.153Z"
   },
   {
    "duration": 34,
    "start_time": "2024-08-25T13:15:18.170Z"
   },
   {
    "duration": 23,
    "start_time": "2024-08-25T13:15:18.205Z"
   },
   {
    "duration": 11,
    "start_time": "2024-08-25T13:15:18.230Z"
   },
   {
    "duration": 16,
    "start_time": "2024-08-25T13:15:18.243Z"
   },
   {
    "duration": 534,
    "start_time": "2024-08-25T13:15:18.261Z"
   },
   {
    "duration": 581,
    "start_time": "2024-08-25T13:16:16.879Z"
   },
   {
    "duration": 75,
    "start_time": "2024-08-25T13:16:17.461Z"
   },
   {
    "duration": 15,
    "start_time": "2024-08-25T13:16:17.538Z"
   },
   {
    "duration": 76,
    "start_time": "2024-08-25T13:16:17.554Z"
   },
   {
    "duration": 9,
    "start_time": "2024-08-25T13:16:17.632Z"
   },
   {
    "duration": 27,
    "start_time": "2024-08-25T13:16:17.643Z"
   },
   {
    "duration": 11,
    "start_time": "2024-08-25T13:16:17.671Z"
   },
   {
    "duration": 564,
    "start_time": "2024-08-25T13:16:17.684Z"
   },
   {
    "duration": 449,
    "start_time": "2024-08-25T13:20:43.008Z"
   },
   {
    "duration": 98,
    "start_time": "2024-08-25T13:22:49.827Z"
   },
   {
    "duration": 28,
    "start_time": "2024-08-25T13:23:11.651Z"
   },
   {
    "duration": 493,
    "start_time": "2024-08-25T13:23:35.137Z"
   },
   {
    "duration": 502,
    "start_time": "2024-08-25T13:28:04.022Z"
   },
   {
    "duration": 606,
    "start_time": "2024-08-25T13:28:10.637Z"
   },
   {
    "duration": 73,
    "start_time": "2024-08-25T13:28:11.244Z"
   },
   {
    "duration": 16,
    "start_time": "2024-08-25T13:28:11.321Z"
   },
   {
    "duration": 7,
    "start_time": "2024-08-25T13:28:11.339Z"
   },
   {
    "duration": 14,
    "start_time": "2024-08-25T13:28:11.347Z"
   },
   {
    "duration": 15,
    "start_time": "2024-08-25T13:28:11.363Z"
   },
   {
    "duration": 10,
    "start_time": "2024-08-25T13:28:11.379Z"
   },
   {
    "duration": 546,
    "start_time": "2024-08-25T13:28:11.391Z"
   },
   {
    "duration": 898,
    "start_time": "2024-08-25T13:37:16.547Z"
   },
   {
    "duration": 467,
    "start_time": "2024-08-25T13:37:33.814Z"
   },
   {
    "duration": 514,
    "start_time": "2024-08-25T13:38:23.973Z"
   },
   {
    "duration": 516,
    "start_time": "2024-08-25T13:38:33.456Z"
   },
   {
    "duration": 468,
    "start_time": "2024-08-25T13:40:43.740Z"
   },
   {
    "duration": 450,
    "start_time": "2024-08-25T13:41:47.290Z"
   },
   {
    "duration": 8,
    "start_time": "2024-08-25T13:52:19.963Z"
   },
   {
    "duration": 167,
    "start_time": "2024-08-25T13:52:52.155Z"
   },
   {
    "duration": 466,
    "start_time": "2024-08-25T13:54:34.857Z"
   },
   {
    "duration": 543,
    "start_time": "2024-08-25T13:54:44.201Z"
   },
   {
    "duration": 433,
    "start_time": "2024-08-25T13:54:53.785Z"
   },
   {
    "duration": 437,
    "start_time": "2024-08-25T13:54:58.356Z"
   },
   {
    "duration": 455,
    "start_time": "2024-08-25T13:55:16.585Z"
   },
   {
    "duration": 460,
    "start_time": "2024-08-25T13:55:56.937Z"
   },
   {
    "duration": 423,
    "start_time": "2024-08-25T13:58:21.942Z"
   },
   {
    "duration": 277,
    "start_time": "2024-08-25T14:00:08.989Z"
   },
   {
    "duration": 208,
    "start_time": "2024-08-25T14:00:38.092Z"
   },
   {
    "duration": 12,
    "start_time": "2024-08-25T14:11:29.981Z"
   },
   {
    "duration": 273,
    "start_time": "2024-08-25T14:12:21.027Z"
   },
   {
    "duration": 248,
    "start_time": "2024-08-25T14:12:47.792Z"
   },
   {
    "duration": 276,
    "start_time": "2024-08-25T14:12:52.924Z"
   },
   {
    "duration": 212,
    "start_time": "2024-08-25T14:12:59.793Z"
   },
   {
    "duration": 281,
    "start_time": "2024-08-25T14:21:02.696Z"
   },
   {
    "duration": 431,
    "start_time": "2024-08-25T14:25:46.357Z"
   },
   {
    "duration": 300,
    "start_time": "2024-08-25T14:28:44.058Z"
   },
   {
    "duration": 196,
    "start_time": "2024-08-25T14:30:57.207Z"
   },
   {
    "duration": 195,
    "start_time": "2024-08-25T14:31:06.878Z"
   },
   {
    "duration": 272,
    "start_time": "2024-08-25T14:31:15.881Z"
   },
   {
    "duration": 239,
    "start_time": "2024-08-25T14:34:17.224Z"
   },
   {
    "duration": 196,
    "start_time": "2024-08-25T14:35:38.435Z"
   },
   {
    "duration": 220,
    "start_time": "2024-08-25T14:37:06.236Z"
   },
   {
    "duration": 230,
    "start_time": "2024-08-25T14:37:37.141Z"
   },
   {
    "duration": 206,
    "start_time": "2024-08-25T14:38:43.759Z"
   },
   {
    "duration": 213,
    "start_time": "2024-08-25T14:38:58.974Z"
   },
   {
    "duration": 220,
    "start_time": "2024-08-25T14:39:18.695Z"
   },
   {
    "duration": 296,
    "start_time": "2024-08-25T14:49:40.576Z"
   },
   {
    "duration": 326,
    "start_time": "2024-08-25T14:49:56.412Z"
   },
   {
    "duration": 260,
    "start_time": "2024-08-25T14:51:02.251Z"
   },
   {
    "duration": 321,
    "start_time": "2024-08-25T14:51:34.490Z"
   },
   {
    "duration": 283,
    "start_time": "2024-08-25T14:51:40.237Z"
   },
   {
    "duration": 246,
    "start_time": "2024-08-25T14:51:43.273Z"
   },
   {
    "duration": 289,
    "start_time": "2024-08-25T14:53:22.287Z"
   },
   {
    "duration": 281,
    "start_time": "2024-08-25T14:53:31.186Z"
   },
   {
    "duration": 277,
    "start_time": "2024-08-25T14:54:41.769Z"
   },
   {
    "duration": 1233,
    "start_time": "2024-08-25T16:07:57.561Z"
   },
   {
    "duration": 129,
    "start_time": "2024-08-25T16:08:35.401Z"
   },
   {
    "duration": 13,
    "start_time": "2024-08-25T16:15:14.759Z"
   },
   {
    "duration": 10,
    "start_time": "2024-08-25T16:16:04.245Z"
   },
   {
    "duration": 9,
    "start_time": "2024-08-25T16:16:18.627Z"
   },
   {
    "duration": 110,
    "start_time": "2024-08-25T16:17:34.436Z"
   },
   {
    "duration": 111,
    "start_time": "2024-08-25T16:18:40.127Z"
   },
   {
    "duration": 116,
    "start_time": "2024-08-25T16:18:45.900Z"
   },
   {
    "duration": 14,
    "start_time": "2024-08-25T16:21:01.709Z"
   },
   {
    "duration": 8,
    "start_time": "2024-08-25T16:21:06.891Z"
   },
   {
    "duration": 4,
    "start_time": "2024-08-25T16:21:12.657Z"
   },
   {
    "duration": 572,
    "start_time": "2024-08-25T16:21:31.575Z"
   },
   {
    "duration": 73,
    "start_time": "2024-08-25T16:21:32.149Z"
   },
   {
    "duration": 15,
    "start_time": "2024-08-25T16:21:32.224Z"
   },
   {
    "duration": 13,
    "start_time": "2024-08-25T16:21:32.240Z"
   },
   {
    "duration": 26,
    "start_time": "2024-08-25T16:21:32.255Z"
   },
   {
    "duration": 61,
    "start_time": "2024-08-25T16:21:32.282Z"
   },
   {
    "duration": 10,
    "start_time": "2024-08-25T16:21:32.344Z"
   },
   {
    "duration": 549,
    "start_time": "2024-08-25T16:21:32.356Z"
   },
   {
    "duration": 5,
    "start_time": "2024-08-25T16:21:32.906Z"
   },
   {
    "duration": 201,
    "start_time": "2024-08-25T16:21:32.913Z"
   },
   {
    "duration": 322,
    "start_time": "2024-08-25T16:21:33.115Z"
   },
   {
    "duration": 283,
    "start_time": "2024-08-25T16:21:33.439Z"
   },
   {
    "duration": 325,
    "start_time": "2024-08-25T16:21:33.724Z"
   },
   {
    "duration": 117,
    "start_time": "2024-08-25T16:21:34.052Z"
   },
   {
    "duration": 9,
    "start_time": "2024-08-25T16:21:56.059Z"
   },
   {
    "duration": 4,
    "start_time": "2024-08-25T16:22:18.435Z"
   },
   {
    "duration": 420,
    "start_time": "2024-08-25T16:22:29.787Z"
   },
   {
    "duration": 4,
    "start_time": "2024-08-25T16:22:32.510Z"
   },
   {
    "duration": 4,
    "start_time": "2024-08-25T16:23:05.793Z"
   },
   {
    "duration": 421,
    "start_time": "2024-08-25T16:23:12.273Z"
   },
   {
    "duration": 4,
    "start_time": "2024-08-25T16:23:14.247Z"
   },
   {
    "duration": 10,
    "start_time": "2024-08-25T16:23:26.018Z"
   },
   {
    "duration": 433,
    "start_time": "2024-08-25T16:23:48.089Z"
   },
   {
    "duration": 10,
    "start_time": "2024-08-25T16:23:51.115Z"
   },
   {
    "duration": 111,
    "start_time": "2024-08-25T16:24:35.937Z"
   },
   {
    "duration": 107,
    "start_time": "2024-08-25T16:25:09.348Z"
   },
   {
    "duration": 109,
    "start_time": "2024-08-25T16:25:18.590Z"
   },
   {
    "duration": 124,
    "start_time": "2024-08-25T16:25:31.522Z"
   },
   {
    "duration": 110,
    "start_time": "2024-08-25T16:27:07.791Z"
   },
   {
    "duration": 202,
    "start_time": "2024-08-25T16:27:18.003Z"
   },
   {
    "duration": 126,
    "start_time": "2024-08-25T16:28:10.474Z"
   },
   {
    "duration": 132,
    "start_time": "2024-08-25T16:29:44.079Z"
   },
   {
    "duration": 127,
    "start_time": "2024-08-25T16:30:10.278Z"
   },
   {
    "duration": 146,
    "start_time": "2024-08-25T16:31:07.359Z"
   },
   {
    "duration": 153,
    "start_time": "2024-08-25T16:31:11.301Z"
   },
   {
    "duration": 134,
    "start_time": "2024-08-25T16:31:15.805Z"
   },
   {
    "duration": 4,
    "start_time": "2024-08-25T16:42:12.253Z"
   },
   {
    "duration": 4,
    "start_time": "2024-08-25T16:42:15.513Z"
   },
   {
    "duration": 114,
    "start_time": "2024-08-25T16:53:42.053Z"
   },
   {
    "duration": 148,
    "start_time": "2024-08-25T16:54:34.735Z"
   },
   {
    "duration": 123,
    "start_time": "2024-08-25T16:54:41.902Z"
   },
   {
    "duration": 140,
    "start_time": "2024-08-25T16:55:32.183Z"
   },
   {
    "duration": 212,
    "start_time": "2024-08-25T16:56:03.025Z"
   },
   {
    "duration": 112,
    "start_time": "2024-08-25T16:56:19.684Z"
   },
   {
    "duration": 141,
    "start_time": "2024-08-25T16:57:37.628Z"
   },
   {
    "duration": 149,
    "start_time": "2024-08-25T17:00:15.081Z"
   },
   {
    "duration": 325,
    "start_time": "2024-08-25T17:07:27.544Z"
   },
   {
    "duration": 373,
    "start_time": "2024-08-25T17:08:04.812Z"
   },
   {
    "duration": 302,
    "start_time": "2024-08-25T17:08:23.349Z"
   },
   {
    "duration": 327,
    "start_time": "2024-08-25T17:08:36.696Z"
   },
   {
    "duration": 362,
    "start_time": "2024-08-25T17:08:43.516Z"
   },
   {
    "duration": 359,
    "start_time": "2024-08-25T17:08:48.132Z"
   },
   {
    "duration": 319,
    "start_time": "2024-08-25T17:08:58.789Z"
   },
   {
    "duration": 261,
    "start_time": "2024-08-25T17:10:25.385Z"
   },
   {
    "duration": 280,
    "start_time": "2024-08-25T17:12:56.685Z"
   },
   {
    "duration": 5,
    "start_time": "2024-08-25T17:15:59.796Z"
   },
   {
    "duration": 11,
    "start_time": "2024-08-25T17:38:44.611Z"
   },
   {
    "duration": 8,
    "start_time": "2024-08-25T18:01:00.880Z"
   },
   {
    "duration": 50,
    "start_time": "2024-08-25T18:01:04.102Z"
   },
   {
    "duration": 11,
    "start_time": "2024-08-25T18:01:05.338Z"
   },
   {
    "duration": 193,
    "start_time": "2024-08-25T18:11:45.527Z"
   },
   {
    "duration": 190,
    "start_time": "2024-08-25T18:11:55.821Z"
   },
   {
    "duration": 5,
    "start_time": "2024-08-25T18:15:36.761Z"
   },
   {
    "duration": 4,
    "start_time": "2024-08-25T18:15:57.478Z"
   },
   {
    "duration": 4,
    "start_time": "2024-08-25T18:16:01.150Z"
   },
   {
    "duration": 195,
    "start_time": "2024-08-25T18:16:12.887Z"
   },
   {
    "duration": 4,
    "start_time": "2024-08-25T18:16:15.255Z"
   },
   {
    "duration": 198,
    "start_time": "2024-08-25T18:16:28.152Z"
   },
   {
    "duration": 20,
    "start_time": "2024-08-25T18:32:40.081Z"
   },
   {
    "duration": 1032,
    "start_time": "2024-08-25T18:33:17.067Z"
   },
   {
    "duration": 75,
    "start_time": "2024-08-25T18:33:18.101Z"
   },
   {
    "duration": 15,
    "start_time": "2024-08-25T18:33:18.178Z"
   },
   {
    "duration": 9,
    "start_time": "2024-08-25T18:33:18.194Z"
   },
   {
    "duration": 19,
    "start_time": "2024-08-25T18:33:18.207Z"
   },
   {
    "duration": 18,
    "start_time": "2024-08-25T18:33:18.227Z"
   },
   {
    "duration": 11,
    "start_time": "2024-08-25T18:33:18.246Z"
   },
   {
    "duration": 559,
    "start_time": "2024-08-25T18:33:18.259Z"
   },
   {
    "duration": 190,
    "start_time": "2024-08-25T18:33:18.820Z"
   },
   {
    "duration": 328,
    "start_time": "2024-08-25T18:33:19.011Z"
   },
   {
    "duration": 213,
    "start_time": "2024-08-25T18:33:19.341Z"
   },
   {
    "duration": 330,
    "start_time": "2024-08-25T18:33:19.555Z"
   },
   {
    "duration": 155,
    "start_time": "2024-08-25T18:33:19.887Z"
   },
   {
    "duration": 5,
    "start_time": "2024-08-25T18:33:20.044Z"
   },
   {
    "duration": 304,
    "start_time": "2024-08-25T18:33:20.050Z"
   },
   {
    "duration": 4,
    "start_time": "2024-08-25T18:33:20.356Z"
   },
   {
    "duration": 196,
    "start_time": "2024-08-25T18:33:20.362Z"
   },
   {
    "duration": 32,
    "start_time": "2024-08-25T18:33:20.559Z"
   },
   {
    "duration": 67,
    "start_time": "2024-08-25T18:33:20.592Z"
   },
   {
    "duration": 148,
    "start_time": "2024-08-25T18:34:35.665Z"
   },
   {
    "duration": 34,
    "start_time": "2024-08-25T18:34:45.167Z"
   },
   {
    "duration": 32,
    "start_time": "2024-08-25T18:35:23.824Z"
   },
   {
    "duration": 34,
    "start_time": "2024-08-25T18:37:45.907Z"
   },
   {
    "duration": 33,
    "start_time": "2024-08-25T18:38:23.718Z"
   },
   {
    "duration": 34,
    "start_time": "2024-08-25T18:40:29.217Z"
   },
   {
    "duration": 35,
    "start_time": "2024-08-25T18:42:06.380Z"
   },
   {
    "duration": 44,
    "start_time": "2024-08-25T18:44:48.054Z"
   },
   {
    "duration": 32,
    "start_time": "2024-08-25T18:45:27.317Z"
   },
   {
    "duration": 9,
    "start_time": "2024-08-25T18:51:19.825Z"
   },
   {
    "duration": 38,
    "start_time": "2024-08-25T18:54:17.243Z"
   },
   {
    "duration": 49,
    "start_time": "2024-08-25T18:54:31.442Z"
   },
   {
    "duration": 43,
    "start_time": "2024-08-25T18:54:37.146Z"
   },
   {
    "duration": 61,
    "start_time": "2024-08-25T18:54:40.932Z"
   },
   {
    "duration": 38,
    "start_time": "2024-08-25T18:54:58.187Z"
   },
   {
    "duration": 16,
    "start_time": "2024-08-25T18:55:20.637Z"
   },
   {
    "duration": 9,
    "start_time": "2024-08-25T18:56:18.372Z"
   },
   {
    "duration": 14,
    "start_time": "2024-08-25T19:00:50.056Z"
   },
   {
    "duration": 10,
    "start_time": "2024-08-25T19:01:26.738Z"
   },
   {
    "duration": 11,
    "start_time": "2024-08-25T19:01:43.558Z"
   },
   {
    "duration": 9,
    "start_time": "2024-08-25T19:01:48.586Z"
   },
   {
    "duration": 11,
    "start_time": "2024-08-25T19:02:18.681Z"
   },
   {
    "duration": 12,
    "start_time": "2024-08-25T19:02:27.276Z"
   },
   {
    "duration": 10,
    "start_time": "2024-08-25T19:05:57.038Z"
   },
   {
    "duration": 11,
    "start_time": "2024-08-25T19:06:04.152Z"
   },
   {
    "duration": 8,
    "start_time": "2024-08-25T19:06:11.599Z"
   },
   {
    "duration": 93,
    "start_time": "2024-08-25T19:06:13.983Z"
   },
   {
    "duration": 8,
    "start_time": "2024-08-25T19:06:17.585Z"
   },
   {
    "duration": 8,
    "start_time": "2024-08-25T19:07:37.581Z"
   },
   {
    "duration": 9,
    "start_time": "2024-08-25T19:07:50.702Z"
   },
   {
    "duration": 9,
    "start_time": "2024-08-25T19:07:59.781Z"
   },
   {
    "duration": 10,
    "start_time": "2024-08-25T19:08:07.125Z"
   },
   {
    "duration": 10,
    "start_time": "2024-08-25T19:08:31.365Z"
   },
   {
    "duration": 14,
    "start_time": "2024-08-25T19:08:33.271Z"
   },
   {
    "duration": 13,
    "start_time": "2024-08-25T19:10:14.784Z"
   },
   {
    "duration": 8,
    "start_time": "2024-08-25T19:16:19.984Z"
   },
   {
    "duration": 34,
    "start_time": "2024-08-25T19:17:22.490Z"
   },
   {
    "duration": 29,
    "start_time": "2024-08-25T19:17:28.226Z"
   },
   {
    "duration": 1338,
    "start_time": "2024-08-25T19:25:29.826Z"
   },
   {
    "duration": 13,
    "start_time": "2024-08-25T19:26:16.017Z"
   },
   {
    "duration": 13,
    "start_time": "2024-08-25T19:26:45.988Z"
   },
   {
    "duration": 13,
    "start_time": "2024-08-25T19:27:01.787Z"
   },
   {
    "duration": 20,
    "start_time": "2024-08-25T19:39:47.038Z"
   },
   {
    "duration": 1008,
    "start_time": "2024-08-25T21:08:48.490Z"
   },
   {
    "duration": 76,
    "start_time": "2024-08-25T21:08:49.500Z"
   },
   {
    "duration": 16,
    "start_time": "2024-08-25T21:08:49.578Z"
   },
   {
    "duration": 38,
    "start_time": "2024-08-25T21:08:49.596Z"
   },
   {
    "duration": 48,
    "start_time": "2024-08-25T21:08:49.636Z"
   },
   {
    "duration": 25,
    "start_time": "2024-08-25T21:08:49.685Z"
   },
   {
    "duration": 19,
    "start_time": "2024-08-25T21:08:49.711Z"
   },
   {
    "duration": 518,
    "start_time": "2024-08-25T21:08:49.731Z"
   },
   {
    "duration": 189,
    "start_time": "2024-08-25T21:08:50.251Z"
   },
   {
    "duration": 318,
    "start_time": "2024-08-25T21:08:50.442Z"
   },
   {
    "duration": 230,
    "start_time": "2024-08-25T21:08:50.761Z"
   },
   {
    "duration": 310,
    "start_time": "2024-08-25T21:08:50.992Z"
   },
   {
    "duration": 141,
    "start_time": "2024-08-25T21:08:51.304Z"
   },
   {
    "duration": 5,
    "start_time": "2024-08-25T21:08:51.448Z"
   },
   {
    "duration": 286,
    "start_time": "2024-08-25T21:08:51.455Z"
   },
   {
    "duration": 5,
    "start_time": "2024-08-25T21:08:51.742Z"
   },
   {
    "duration": 200,
    "start_time": "2024-08-25T21:08:51.748Z"
   },
   {
    "duration": 34,
    "start_time": "2024-08-25T21:08:51.949Z"
   },
   {
    "duration": 11,
    "start_time": "2024-08-25T21:08:51.985Z"
   },
   {
    "duration": 18,
    "start_time": "2024-08-25T21:08:51.997Z"
   },
   {
    "duration": 55,
    "start_time": "2024-08-25T21:08:52.016Z"
   },
   {
    "duration": 23,
    "start_time": "2024-08-25T21:08:52.072Z"
   },
   {
    "duration": 1973,
    "start_time": "2024-08-26T10:03:46.518Z"
   },
   {
    "duration": 253,
    "start_time": "2024-08-26T10:03:48.493Z"
   },
   {
    "duration": 23,
    "start_time": "2024-08-26T10:03:48.748Z"
   },
   {
    "duration": 20,
    "start_time": "2024-08-26T10:03:48.773Z"
   },
   {
    "duration": 22,
    "start_time": "2024-08-26T10:03:48.795Z"
   },
   {
    "duration": 54,
    "start_time": "2024-08-26T10:03:48.818Z"
   },
   {
    "duration": 28,
    "start_time": "2024-08-26T10:03:48.874Z"
   },
   {
    "duration": 634,
    "start_time": "2024-08-26T10:03:48.904Z"
   },
   {
    "duration": 209,
    "start_time": "2024-08-26T10:03:49.539Z"
   },
   {
    "duration": 316,
    "start_time": "2024-08-26T10:03:49.751Z"
   },
   {
    "duration": 246,
    "start_time": "2024-08-26T10:03:50.068Z"
   },
   {
    "duration": 392,
    "start_time": "2024-08-26T10:03:50.315Z"
   },
   {
    "duration": 164,
    "start_time": "2024-08-26T10:03:50.709Z"
   },
   {
    "duration": 5,
    "start_time": "2024-08-26T10:03:50.874Z"
   },
   {
    "duration": 318,
    "start_time": "2024-08-26T10:03:50.880Z"
   },
   {
    "duration": 5,
    "start_time": "2024-08-26T10:03:51.200Z"
   },
   {
    "duration": 213,
    "start_time": "2024-08-26T10:03:51.206Z"
   },
   {
    "duration": 42,
    "start_time": "2024-08-26T10:03:51.420Z"
   },
   {
    "duration": 56,
    "start_time": "2024-08-26T10:03:51.463Z"
   },
   {
    "duration": 9,
    "start_time": "2024-08-26T10:03:51.521Z"
   },
   {
    "duration": 28,
    "start_time": "2024-08-26T10:03:51.532Z"
   },
   {
    "duration": 42,
    "start_time": "2024-08-26T10:03:51.561Z"
   },
   {
    "duration": 48,
    "start_time": "2024-08-26T11:28:09.433Z"
   },
   {
    "duration": 1322,
    "start_time": "2024-08-26T11:28:15.526Z"
   },
   {
    "duration": 226,
    "start_time": "2024-08-26T11:28:16.851Z"
   },
   {
    "duration": 19,
    "start_time": "2024-08-26T11:28:17.079Z"
   },
   {
    "duration": 9,
    "start_time": "2024-08-26T11:28:17.100Z"
   },
   {
    "duration": 13,
    "start_time": "2024-08-26T11:28:17.111Z"
   },
   {
    "duration": 13,
    "start_time": "2024-08-26T11:28:17.125Z"
   },
   {
    "duration": 11,
    "start_time": "2024-08-26T11:28:17.140Z"
   },
   {
    "duration": 553,
    "start_time": "2024-08-26T11:28:17.153Z"
   },
   {
    "duration": 192,
    "start_time": "2024-08-26T11:28:17.708Z"
   },
   {
    "duration": 369,
    "start_time": "2024-08-26T11:28:17.901Z"
   },
   {
    "duration": 215,
    "start_time": "2024-08-26T11:28:18.271Z"
   },
   {
    "duration": 287,
    "start_time": "2024-08-26T11:28:18.488Z"
   },
   {
    "duration": 145,
    "start_time": "2024-08-26T11:28:18.776Z"
   },
   {
    "duration": 4,
    "start_time": "2024-08-26T11:28:18.924Z"
   },
   {
    "duration": 521,
    "start_time": "2024-08-26T11:28:18.929Z"
   },
   {
    "duration": 5,
    "start_time": "2024-08-26T11:28:19.452Z"
   },
   {
    "duration": 393,
    "start_time": "2024-08-26T11:28:19.458Z"
   },
   {
    "duration": 36,
    "start_time": "2024-08-26T11:28:19.852Z"
   },
   {
    "duration": 63,
    "start_time": "2024-08-26T11:28:19.890Z"
   },
   {
    "duration": 32,
    "start_time": "2024-08-26T11:28:19.955Z"
   },
   {
    "duration": 75,
    "start_time": "2024-08-26T11:28:19.989Z"
   },
   {
    "duration": 14,
    "start_time": "2024-08-26T11:28:20.065Z"
   },
   {
    "duration": 66,
    "start_time": "2024-08-26T11:32:00.948Z"
   },
   {
    "duration": 7,
    "start_time": "2024-08-26T11:38:12.273Z"
   },
   {
    "duration": 17,
    "start_time": "2024-08-26T11:38:42.446Z"
   },
   {
    "duration": 16,
    "start_time": "2024-08-26T11:39:33.272Z"
   },
   {
    "duration": 15,
    "start_time": "2024-08-26T11:39:34.694Z"
   },
   {
    "duration": 1086,
    "start_time": "2024-08-26T11:39:37.530Z"
   },
   {
    "duration": 77,
    "start_time": "2024-08-26T11:39:38.618Z"
   },
   {
    "duration": 8,
    "start_time": "2024-08-26T11:39:38.696Z"
   },
   {
    "duration": 27,
    "start_time": "2024-08-26T11:39:38.705Z"
   },
   {
    "duration": 36,
    "start_time": "2024-08-26T11:39:38.735Z"
   },
   {
    "duration": 25,
    "start_time": "2024-08-26T11:39:38.772Z"
   },
   {
    "duration": 11,
    "start_time": "2024-08-26T11:39:38.798Z"
   },
   {
    "duration": 36,
    "start_time": "2024-08-26T11:39:38.810Z"
   },
   {
    "duration": 538,
    "start_time": "2024-08-26T11:39:38.848Z"
   },
   {
    "duration": 208,
    "start_time": "2024-08-26T11:39:39.387Z"
   },
   {
    "duration": 278,
    "start_time": "2024-08-26T11:39:39.597Z"
   },
   {
    "duration": 217,
    "start_time": "2024-08-26T11:39:39.877Z"
   },
   {
    "duration": 285,
    "start_time": "2024-08-26T11:39:40.096Z"
   },
   {
    "duration": 145,
    "start_time": "2024-08-26T11:39:40.385Z"
   },
   {
    "duration": 6,
    "start_time": "2024-08-26T11:39:40.532Z"
   },
   {
    "duration": 359,
    "start_time": "2024-08-26T11:39:40.546Z"
   },
   {
    "duration": 4,
    "start_time": "2024-08-26T11:39:40.907Z"
   },
   {
    "duration": 249,
    "start_time": "2024-08-26T11:39:40.913Z"
   },
   {
    "duration": 34,
    "start_time": "2024-08-26T11:39:41.164Z"
   },
   {
    "duration": 10,
    "start_time": "2024-08-26T11:39:41.200Z"
   },
   {
    "duration": 39,
    "start_time": "2024-08-26T11:39:41.212Z"
   },
   {
    "duration": 34,
    "start_time": "2024-08-26T11:39:41.252Z"
   },
   {
    "duration": 14,
    "start_time": "2024-08-26T11:39:41.287Z"
   },
   {
    "duration": 55,
    "start_time": "2024-08-26T11:44:13.624Z"
   },
   {
    "duration": 51,
    "start_time": "2024-08-26T11:47:45.336Z"
   },
   {
    "duration": 8,
    "start_time": "2024-08-26T11:51:11.193Z"
   },
   {
    "duration": 7,
    "start_time": "2024-08-26T11:51:18.610Z"
   },
   {
    "duration": 6,
    "start_time": "2024-08-26T11:51:26.737Z"
   },
   {
    "duration": 5,
    "start_time": "2024-08-26T11:53:56.751Z"
   },
   {
    "duration": 6,
    "start_time": "2024-08-26T11:54:10.248Z"
   },
   {
    "duration": 12,
    "start_time": "2024-08-26T11:55:05.316Z"
   },
   {
    "duration": 96,
    "start_time": "2024-08-26T11:56:21.837Z"
   },
   {
    "duration": 7,
    "start_time": "2024-08-26T11:56:43.141Z"
   },
   {
    "duration": 8,
    "start_time": "2024-08-26T11:57:21.805Z"
   },
   {
    "duration": 6,
    "start_time": "2024-08-26T11:57:59.801Z"
   },
   {
    "duration": 15,
    "start_time": "2024-08-26T11:58:21.950Z"
   },
   {
    "duration": 10,
    "start_time": "2024-08-26T11:58:32.629Z"
   },
   {
    "duration": 9,
    "start_time": "2024-08-26T12:00:52.496Z"
   },
   {
    "duration": 4,
    "start_time": "2024-08-26T12:02:13.101Z"
   },
   {
    "duration": 11,
    "start_time": "2024-08-26T12:02:20.057Z"
   },
   {
    "duration": 4,
    "start_time": "2024-08-26T12:05:09.623Z"
   },
   {
    "duration": 63,
    "start_time": "2024-08-26T12:05:58.026Z"
   },
   {
    "duration": 4,
    "start_time": "2024-08-26T12:06:14.034Z"
   },
   {
    "duration": 1358,
    "start_time": "2024-08-26T12:08:24.201Z"
   },
   {
    "duration": 6,
    "start_time": "2024-08-26T12:08:36.010Z"
   },
   {
    "duration": 5,
    "start_time": "2024-08-26T12:08:47.756Z"
   },
   {
    "duration": 5,
    "start_time": "2024-08-26T12:08:53.540Z"
   },
   {
    "duration": 6,
    "start_time": "2024-08-26T12:10:52.216Z"
   },
   {
    "duration": 5,
    "start_time": "2024-08-26T12:11:03.731Z"
   },
   {
    "duration": 6,
    "start_time": "2024-08-26T12:11:36.044Z"
   },
   {
    "duration": 21,
    "start_time": "2024-08-26T12:13:18.603Z"
   },
   {
    "duration": 21,
    "start_time": "2024-08-26T12:13:45.738Z"
   },
   {
    "duration": 28,
    "start_time": "2024-08-26T12:14:01.836Z"
   },
   {
    "duration": 19,
    "start_time": "2024-08-26T12:14:23.401Z"
   },
   {
    "duration": 10,
    "start_time": "2024-08-26T12:15:03.588Z"
   },
   {
    "duration": 13,
    "start_time": "2024-08-26T12:16:17.411Z"
   },
   {
    "duration": 16,
    "start_time": "2024-08-26T12:16:27.361Z"
   },
   {
    "duration": 82,
    "start_time": "2024-08-26T12:18:27.632Z"
   },
   {
    "duration": 94,
    "start_time": "2024-08-26T12:18:53.025Z"
   },
   {
    "duration": 82,
    "start_time": "2024-08-26T12:19:50.097Z"
   },
   {
    "duration": 62,
    "start_time": "2024-08-26T12:20:25.302Z"
   },
   {
    "duration": 64,
    "start_time": "2024-08-26T12:20:44.006Z"
   },
   {
    "duration": 83,
    "start_time": "2024-08-26T12:21:10.692Z"
   },
   {
    "duration": 14,
    "start_time": "2024-08-26T12:21:43.013Z"
   },
   {
    "duration": 13,
    "start_time": "2024-08-26T12:21:56.994Z"
   },
   {
    "duration": 12,
    "start_time": "2024-08-26T12:22:14.103Z"
   },
   {
    "duration": 11,
    "start_time": "2024-08-26T12:22:27.387Z"
   },
   {
    "duration": 13,
    "start_time": "2024-08-26T12:23:40.274Z"
   },
   {
    "duration": 18,
    "start_time": "2024-08-26T12:29:23.930Z"
   },
   {
    "duration": 15,
    "start_time": "2024-08-26T12:29:38.370Z"
   },
   {
    "duration": 78,
    "start_time": "2024-08-26T12:30:01.269Z"
   },
   {
    "duration": 15,
    "start_time": "2024-08-26T12:30:09.862Z"
   },
   {
    "duration": 18,
    "start_time": "2024-08-26T12:30:44.166Z"
   },
   {
    "duration": 18,
    "start_time": "2024-08-26T12:31:18.339Z"
   },
   {
    "duration": 23,
    "start_time": "2024-08-26T12:31:23.450Z"
   },
   {
    "duration": 16,
    "start_time": "2024-08-26T12:31:27.922Z"
   },
   {
    "duration": 16,
    "start_time": "2024-08-26T12:31:31.299Z"
   },
   {
    "duration": 19,
    "start_time": "2024-08-26T12:31:46.255Z"
   },
   {
    "duration": 19,
    "start_time": "2024-08-26T12:33:30.837Z"
   },
   {
    "duration": 16,
    "start_time": "2024-08-26T12:33:35.895Z"
   },
   {
    "duration": 1038,
    "start_time": "2024-08-26T12:35:11.045Z"
   },
   {
    "duration": 784,
    "start_time": "2024-08-26T12:35:20.720Z"
   },
   {
    "duration": 19,
    "start_time": "2024-08-26T12:35:29.260Z"
   },
   {
    "duration": 23,
    "start_time": "2024-08-26T12:35:36.544Z"
   },
   {
    "duration": 1086,
    "start_time": "2024-08-26T12:37:53.201Z"
   },
   {
    "duration": 22,
    "start_time": "2024-08-26T12:38:00.578Z"
   },
   {
    "duration": 28,
    "start_time": "2024-08-26T12:38:35.536Z"
   },
   {
    "duration": 22,
    "start_time": "2024-08-26T12:38:47.872Z"
   },
   {
    "duration": 17,
    "start_time": "2024-08-26T12:39:07.997Z"
   },
   {
    "duration": 21,
    "start_time": "2024-08-26T12:39:17.863Z"
   },
   {
    "duration": 16,
    "start_time": "2024-08-26T12:39:36.421Z"
   },
   {
    "duration": 21,
    "start_time": "2024-08-26T12:39:41.485Z"
   },
   {
    "duration": 19,
    "start_time": "2024-08-26T12:39:50.277Z"
   },
   {
    "duration": 29,
    "start_time": "2024-08-26T12:39:59.696Z"
   },
   {
    "duration": 20,
    "start_time": "2024-08-26T12:40:09.910Z"
   },
   {
    "duration": 20,
    "start_time": "2024-08-26T12:40:49.590Z"
   },
   {
    "duration": 17,
    "start_time": "2024-08-26T12:41:55.543Z"
   },
   {
    "duration": 5,
    "start_time": "2024-08-26T12:42:28.640Z"
   },
   {
    "duration": 16,
    "start_time": "2024-08-26T12:42:39.942Z"
   },
   {
    "duration": 1006,
    "start_time": "2024-08-26T12:43:02.708Z"
   },
   {
    "duration": 99,
    "start_time": "2024-08-26T12:43:25.348Z"
   },
   {
    "duration": 21,
    "start_time": "2024-08-26T12:43:43.736Z"
   },
   {
    "duration": 17,
    "start_time": "2024-08-26T12:44:05.728Z"
   },
   {
    "duration": 868,
    "start_time": "2024-08-26T12:45:29.280Z"
   },
   {
    "duration": 90,
    "start_time": "2024-08-26T12:58:03.396Z"
   },
   {
    "duration": 30,
    "start_time": "2024-08-26T12:58:07.542Z"
   },
   {
    "duration": 423,
    "start_time": "2024-08-26T12:58:22.995Z"
   },
   {
    "duration": 387,
    "start_time": "2024-08-26T12:58:41.800Z"
   },
   {
    "duration": 392,
    "start_time": "2024-08-26T12:58:56.007Z"
   },
   {
    "duration": 399,
    "start_time": "2024-08-26T12:59:48.243Z"
   },
   {
    "duration": 11,
    "start_time": "2024-08-26T13:12:44.342Z"
   },
   {
    "duration": 52,
    "start_time": "2024-08-26T13:27:48.984Z"
   },
   {
    "duration": 13,
    "start_time": "2024-08-26T13:28:11.722Z"
   },
   {
    "duration": 1113,
    "start_time": "2024-08-26T13:28:19.930Z"
   },
   {
    "duration": 79,
    "start_time": "2024-08-26T13:28:21.045Z"
   },
   {
    "duration": 11,
    "start_time": "2024-08-26T13:28:21.126Z"
   },
   {
    "duration": 20,
    "start_time": "2024-08-26T13:28:21.139Z"
   },
   {
    "duration": 20,
    "start_time": "2024-08-26T13:28:21.162Z"
   },
   {
    "duration": 18,
    "start_time": "2024-08-26T13:28:21.184Z"
   },
   {
    "duration": 55,
    "start_time": "2024-08-26T13:28:21.204Z"
   },
   {
    "duration": 421,
    "start_time": "2024-08-26T13:28:21.261Z"
   },
   {
    "duration": 11,
    "start_time": "2024-08-26T13:28:21.684Z"
   },
   {
    "duration": 11,
    "start_time": "2024-08-26T13:28:21.696Z"
   },
   {
    "duration": 508,
    "start_time": "2024-08-26T13:28:21.708Z"
   },
   {
    "duration": 192,
    "start_time": "2024-08-26T13:28:22.218Z"
   },
   {
    "duration": 330,
    "start_time": "2024-08-26T13:28:22.412Z"
   },
   {
    "duration": 228,
    "start_time": "2024-08-26T13:28:22.749Z"
   },
   {
    "duration": 297,
    "start_time": "2024-08-26T13:28:22.978Z"
   },
   {
    "duration": 162,
    "start_time": "2024-08-26T13:28:23.277Z"
   },
   {
    "duration": 11,
    "start_time": "2024-08-26T13:28:23.441Z"
   },
   {
    "duration": 361,
    "start_time": "2024-08-26T13:28:23.453Z"
   },
   {
    "duration": 5,
    "start_time": "2024-08-26T13:28:23.816Z"
   },
   {
    "duration": 30,
    "start_time": "2024-08-26T13:28:23.822Z"
   },
   {
    "duration": 44,
    "start_time": "2024-08-26T13:28:23.854Z"
   },
   {
    "duration": 10,
    "start_time": "2024-08-26T13:28:23.900Z"
   },
   {
    "duration": 11,
    "start_time": "2024-08-26T13:28:23.912Z"
   },
   {
    "duration": 45,
    "start_time": "2024-08-26T13:28:23.925Z"
   },
   {
    "duration": 12,
    "start_time": "2024-08-26T13:28:23.972Z"
   },
   {
    "duration": 7,
    "start_time": "2024-08-26T13:30:05.977Z"
   },
   {
    "duration": 51,
    "start_time": "2024-08-27T16:08:48.157Z"
   },
   {
    "duration": 1154,
    "start_time": "2024-08-27T16:08:52.341Z"
   },
   {
    "duration": 267,
    "start_time": "2024-08-27T16:08:53.498Z"
   },
   {
    "duration": 8,
    "start_time": "2024-08-27T16:08:53.767Z"
   },
   {
    "duration": 23,
    "start_time": "2024-08-27T16:08:53.777Z"
   },
   {
    "duration": 15,
    "start_time": "2024-08-27T16:08:53.802Z"
   },
   {
    "duration": 83,
    "start_time": "2024-08-27T16:08:53.818Z"
   },
   {
    "duration": 7,
    "start_time": "2024-08-27T16:08:53.902Z"
   },
   {
    "duration": 466,
    "start_time": "2024-08-27T16:08:53.911Z"
   },
   {
    "duration": 19,
    "start_time": "2024-08-27T16:08:54.379Z"
   },
   {
    "duration": 24,
    "start_time": "2024-08-27T16:08:54.400Z"
   },
   {
    "duration": 564,
    "start_time": "2024-08-27T16:08:54.425Z"
   },
   {
    "duration": 214,
    "start_time": "2024-08-27T16:08:54.990Z"
   },
   {
    "duration": 312,
    "start_time": "2024-08-27T16:08:55.205Z"
   },
   {
    "duration": 237,
    "start_time": "2024-08-27T16:08:55.519Z"
   },
   {
    "duration": 329,
    "start_time": "2024-08-27T16:08:55.758Z"
   },
   {
    "duration": 164,
    "start_time": "2024-08-27T16:08:56.088Z"
   },
   {
    "duration": 5,
    "start_time": "2024-08-27T16:08:56.253Z"
   },
   {
    "duration": 410,
    "start_time": "2024-08-27T16:08:56.260Z"
   },
   {
    "duration": 5,
    "start_time": "2024-08-27T16:08:56.672Z"
   },
   {
    "duration": 25,
    "start_time": "2024-08-27T16:08:56.678Z"
   },
   {
    "duration": 58,
    "start_time": "2024-08-27T16:08:56.705Z"
   },
   {
    "duration": 5,
    "start_time": "2024-08-27T16:08:56.765Z"
   },
   {
    "duration": 23,
    "start_time": "2024-08-27T16:08:56.772Z"
   },
   {
    "duration": 11,
    "start_time": "2024-08-27T16:08:56.797Z"
   },
   {
    "duration": 30,
    "start_time": "2024-08-27T16:08:56.810Z"
   },
   {
    "duration": 14,
    "start_time": "2024-08-27T16:08:56.842Z"
   },
   {
    "duration": 5,
    "start_time": "2024-08-27T16:10:07.834Z"
   },
   {
    "duration": 1120,
    "start_time": "2024-09-25T21:46:41.371Z"
   },
   {
    "duration": 230,
    "start_time": "2024-09-25T21:46:42.493Z"
   },
   {
    "duration": 11,
    "start_time": "2024-09-25T21:46:42.725Z"
   },
   {
    "duration": 26,
    "start_time": "2024-09-25T21:46:42.738Z"
   },
   {
    "duration": 15,
    "start_time": "2024-09-25T21:46:42.766Z"
   },
   {
    "duration": 29,
    "start_time": "2024-09-25T21:46:42.783Z"
   },
   {
    "duration": 83,
    "start_time": "2024-09-25T21:46:42.813Z"
   },
   {
    "duration": 432,
    "start_time": "2024-09-25T21:46:42.898Z"
   },
   {
    "duration": 11,
    "start_time": "2024-09-25T21:46:43.332Z"
   },
   {
    "duration": 17,
    "start_time": "2024-09-25T21:46:43.352Z"
   },
   {
    "duration": 531,
    "start_time": "2024-09-25T21:46:43.371Z"
   },
   {
    "duration": 207,
    "start_time": "2024-09-25T21:46:43.904Z"
   },
   {
    "duration": 311,
    "start_time": "2024-09-25T21:46:44.113Z"
   },
   {
    "duration": 234,
    "start_time": "2024-09-25T21:46:44.426Z"
   },
   {
    "duration": 325,
    "start_time": "2024-09-25T21:46:44.662Z"
   },
   {
    "duration": 182,
    "start_time": "2024-09-25T21:46:44.989Z"
   },
   {
    "duration": 5,
    "start_time": "2024-09-25T21:46:45.174Z"
   },
   {
    "duration": 412,
    "start_time": "2024-09-25T21:46:45.180Z"
   },
   {
    "duration": 6,
    "start_time": "2024-09-25T21:46:45.594Z"
   },
   {
    "duration": 22,
    "start_time": "2024-09-25T21:46:45.601Z"
   },
   {
    "duration": 57,
    "start_time": "2024-09-25T21:46:45.626Z"
   },
   {
    "duration": 7,
    "start_time": "2024-09-25T21:46:45.685Z"
   },
   {
    "duration": 11,
    "start_time": "2024-09-25T21:46:45.693Z"
   },
   {
    "duration": 13,
    "start_time": "2024-09-25T21:46:45.706Z"
   },
   {
    "duration": 64,
    "start_time": "2024-09-25T21:46:45.720Z"
   },
   {
    "duration": 13,
    "start_time": "2024-09-25T21:46:45.785Z"
   }
  ],
  "kernelspec": {
   "display_name": "Python 3 (ipykernel)",
   "language": "python",
   "name": "python3"
  },
  "language_info": {
   "codemirror_mode": {
    "name": "ipython",
    "version": 3
   },
   "file_extension": ".py",
   "mimetype": "text/x-python",
   "name": "python",
   "nbconvert_exporter": "python",
   "pygments_lexer": "ipython3",
   "version": "3.9.19"
  },
  "toc": {
   "base_numbering": 1,
   "nav_menu": {},
   "number_sections": true,
   "sideBar": true,
   "skip_h1_title": true,
   "title_cell": "Table of Contents",
   "title_sidebar": "Contents",
   "toc_cell": false,
   "toc_position": {
    "height": "calc(100% - 180px)",
    "left": "10px",
    "top": "150px",
    "width": "439.188px"
   },
   "toc_section_display": true,
   "toc_window_display": true
  }
 },
 "nbformat": 4,
 "nbformat_minor": 4
}
