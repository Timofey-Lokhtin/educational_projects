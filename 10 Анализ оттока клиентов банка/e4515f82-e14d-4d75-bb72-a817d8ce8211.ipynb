{
 "cells": [
  {
   "cell_type": "markdown",
   "metadata": {},
   "source": [
    "<div style=\"border:solid green 2px; padding: 20px\">\n",
    "    \n",
    "<b>Тимофей, привет! Это Александр</b> Я рад тебя видеть на финальном спринте (Основной проект).\n",
    "\n",
    "---\n",
    "\n",
    "Я буду красить комментарии цветом, пожалуйста, не удаляй их:\n",
    "\n",
    "<div class=\"alert alert-block alert-danger\">✍\n",
    "    \n",
    "\n",
    "__Комментарий от тимлида №1__\n",
    "\n",
    "Такой комментарий нужно исправить обязательно, он критически влияет на удачное выполнение проекта.\n",
    "</div>\n",
    "    \n",
    "---\n",
    "\n",
    "<div class=\"alert alert-block alert-warning\">📝\n",
    "    \n",
    "\n",
    "__Комментарий от тимлида №1__\n",
    "\n",
    "\n",
    "Такой комментарий является рекомендацией или советом. Можешь использовать их на своё усмотрение.\n",
    "</div>\n",
    "\n",
    "---\n",
    "\n",
    "<div class=\"alert alert-block alert-success\">✔️\n",
    "    \n",
    "\n",
    "__Комментарий от тимлида №1__\n",
    "\n",
    "Такой комментарий  говорит о том, что было сделано что-то качественное и правильное =)\n",
    "</div>\n",
    "    \n",
    "---\n",
    "    \n",
    "Предлагаю работать над проектом в диалоге: если у тебя возникают вопросы — пиши об этом в слаке, не стесняйся. Так же, мне будет легче отследить изменения, если ты выделишь свои комментарии:   \n",
    "    \n",
    "<div class=\"alert alert-info\"> <b>Комментарии студента:</b> Например, вот так.</div>\n",
    "    \n",
    "    \n",
    "---"
   ]
  },
  {
   "cell_type": "markdown",
   "metadata": {},
   "source": [
    "# Банки - Анализ оттока клиентов"
   ]
  },
  {
   "cell_type": "markdown",
   "metadata": {},
   "source": [
    "Задачи:\n",
    "* Провести исследовательский анализ данных, определить все значимые признаки отточности.\n",
    "* Сформулировать и проверить статистические гипотезы.\n",
    "* Объединяя признаки отточности, сформировать сегменты, отобрать из них лучшие и дать по ним рекомендации.\n",
    "* По итогам исследования подготовить презентацию.\n",
    "\n",
    "Описание датасета: Датасет содержит данные о клиентах банка «Метанпром». Банк располагается в Ярославле и областных городах: Ростов Великий и Рыбинск.\n",
    "Колонки:\n",
    "* USERID — идентификатор пользователя,\n",
    "* score — баллы кредитного скоринга,\n",
    "* city — город,\n",
    "* gender — пол,\n",
    "* age — возраст,\n",
    "* equity — количество баллов собственности,\n",
    "* balance — баланс на счёте,\n",
    "* products — количество продуктов, которыми пользуется клиент,\n",
    "* credit_card — есть ли кредитная карта,\n",
    "* last_activity — активный клиент,\n",
    "* EST_SALARY — оценочный доход клиента,\n",
    "* сhurn — признак оттока."
   ]
  },
  {
   "cell_type": "markdown",
   "metadata": {},
   "source": [
    "<div class=\"alert alert-block alert-success\">✔️\n",
    "    \n",
    "\n",
    "__Комментарий от тимлида №1__\n",
    "\n",
    "\n",
    "Отличная практика - расписывать цель и основные этапы перед началом проекта"
   ]
  },
  {
   "cell_type": "markdown",
   "metadata": {},
   "source": [
    "Ссылка на презентацию: https://disk.yandex.ru/i/7ajJGUB3tAMgdA"
   ]
  },
  {
   "cell_type": "markdown",
   "metadata": {},
   "source": [
    "<div class=\"alert alert-block alert-success\">✔️\n",
    "    \n",
    "\n",
    "__Комментарий от тимлида №2__\n",
    "\n",
    "Хорошая презентация как по содержанию так и по структуре. Все важные моменты исследования представлены. Используешь тезисный подход и не злоупотребляешь текстом на слайдах.\n",
    "    \n",
    "---\n",
    "    \n",
    "У Яндекс Практикума есть отличный и бесплатный курс по презентациям. Советую, в свободное время освоить его (https://practicum.yandex.ru/profile/visual-presentation/)    \n",
    "\n",
    "</div>"
   ]
  },
  {
   "cell_type": "markdown",
   "metadata": {},
   "source": [
    "## Загрузка и описание данных"
   ]
  },
  {
   "cell_type": "markdown",
   "metadata": {},
   "source": [
    "Подключим библеотеки, загрузим данные из CSV-файла, выведем первые пять строк таблицы и изучим информацию о ней."
   ]
  },
  {
   "cell_type": "code",
   "execution_count": 1,
   "metadata": {},
   "outputs": [],
   "source": [
    "import pandas as pd\n",
    "import matplotlib.pyplot as plt\n",
    "import seaborn as sns\n",
    "from scipy import stats as st\n",
    "import warnings\n",
    "warnings.filterwarnings('ignore')"
   ]
  },
  {
   "cell_type": "code",
   "execution_count": 2,
   "metadata": {},
   "outputs": [],
   "source": [
    "try:\n",
    "    dt = pd.read_csv('/datasets/bank_scrooge.csv')\n",
    "except:\n",
    "    dt = pd.read_csv('logs_exp.csv')"
   ]
  },
  {
   "cell_type": "code",
   "execution_count": 3,
   "metadata": {},
   "outputs": [
    {
     "data": {
      "text/html": [
       "<div>\n",
       "<style scoped>\n",
       "    .dataframe tbody tr th:only-of-type {\n",
       "        vertical-align: middle;\n",
       "    }\n",
       "\n",
       "    .dataframe tbody tr th {\n",
       "        vertical-align: top;\n",
       "    }\n",
       "\n",
       "    .dataframe thead th {\n",
       "        text-align: right;\n",
       "    }\n",
       "</style>\n",
       "<table border=\"1\" class=\"dataframe\">\n",
       "  <thead>\n",
       "    <tr style=\"text-align: right;\">\n",
       "      <th></th>\n",
       "      <th>USERID</th>\n",
       "      <th>score</th>\n",
       "      <th>city</th>\n",
       "      <th>gender</th>\n",
       "      <th>age</th>\n",
       "      <th>equity</th>\n",
       "      <th>balance</th>\n",
       "      <th>products</th>\n",
       "      <th>credit_card</th>\n",
       "      <th>last_activity</th>\n",
       "      <th>EST_SALARY</th>\n",
       "      <th>churn</th>\n",
       "    </tr>\n",
       "  </thead>\n",
       "  <tbody>\n",
       "    <tr>\n",
       "      <th>0</th>\n",
       "      <td>183012</td>\n",
       "      <td>850.0</td>\n",
       "      <td>Рыбинск</td>\n",
       "      <td>Ж</td>\n",
       "      <td>25.0</td>\n",
       "      <td>1</td>\n",
       "      <td>59214.82</td>\n",
       "      <td>2</td>\n",
       "      <td>0</td>\n",
       "      <td>1</td>\n",
       "      <td>75719.14</td>\n",
       "      <td>1</td>\n",
       "    </tr>\n",
       "    <tr>\n",
       "      <th>1</th>\n",
       "      <td>146556</td>\n",
       "      <td>861.0</td>\n",
       "      <td>Рыбинск</td>\n",
       "      <td>Ж</td>\n",
       "      <td>37.0</td>\n",
       "      <td>5</td>\n",
       "      <td>850594.33</td>\n",
       "      <td>3</td>\n",
       "      <td>1</td>\n",
       "      <td>0</td>\n",
       "      <td>86621.77</td>\n",
       "      <td>0</td>\n",
       "    </tr>\n",
       "    <tr>\n",
       "      <th>2</th>\n",
       "      <td>120722</td>\n",
       "      <td>892.0</td>\n",
       "      <td>Рыбинск</td>\n",
       "      <td>Ж</td>\n",
       "      <td>30.0</td>\n",
       "      <td>0</td>\n",
       "      <td>NaN</td>\n",
       "      <td>1</td>\n",
       "      <td>1</td>\n",
       "      <td>1</td>\n",
       "      <td>107683.34</td>\n",
       "      <td>0</td>\n",
       "    </tr>\n",
       "    <tr>\n",
       "      <th>3</th>\n",
       "      <td>225363</td>\n",
       "      <td>866.0</td>\n",
       "      <td>Ярославль</td>\n",
       "      <td>Ж</td>\n",
       "      <td>51.0</td>\n",
       "      <td>5</td>\n",
       "      <td>1524746.26</td>\n",
       "      <td>2</td>\n",
       "      <td>0</td>\n",
       "      <td>1</td>\n",
       "      <td>174423.53</td>\n",
       "      <td>1</td>\n",
       "    </tr>\n",
       "    <tr>\n",
       "      <th>4</th>\n",
       "      <td>157978</td>\n",
       "      <td>730.0</td>\n",
       "      <td>Ярославль</td>\n",
       "      <td>М</td>\n",
       "      <td>34.0</td>\n",
       "      <td>5</td>\n",
       "      <td>174.00</td>\n",
       "      <td>1</td>\n",
       "      <td>1</td>\n",
       "      <td>0</td>\n",
       "      <td>67353.16</td>\n",
       "      <td>1</td>\n",
       "    </tr>\n",
       "  </tbody>\n",
       "</table>\n",
       "</div>"
      ],
      "text/plain": [
       "   USERID  score       city gender   age  equity     balance  products  \\\n",
       "0  183012  850.0    Рыбинск      Ж  25.0       1    59214.82         2   \n",
       "1  146556  861.0    Рыбинск      Ж  37.0       5   850594.33         3   \n",
       "2  120722  892.0    Рыбинск      Ж  30.0       0         NaN         1   \n",
       "3  225363  866.0  Ярославль      Ж  51.0       5  1524746.26         2   \n",
       "4  157978  730.0  Ярославль      М  34.0       5      174.00         1   \n",
       "\n",
       "   credit_card  last_activity  EST_SALARY  churn  \n",
       "0            0              1    75719.14      1  \n",
       "1            1              0    86621.77      0  \n",
       "2            1              1   107683.34      0  \n",
       "3            0              1   174423.53      1  \n",
       "4            1              0    67353.16      1  "
      ]
     },
     "execution_count": 3,
     "metadata": {},
     "output_type": "execute_result"
    }
   ],
   "source": [
    "dt.head()"
   ]
  },
  {
   "cell_type": "code",
   "execution_count": 4,
   "metadata": {},
   "outputs": [
    {
     "name": "stdout",
     "output_type": "stream",
     "text": [
      "<class 'pandas.core.frame.DataFrame'>\n",
      "RangeIndex: 10000 entries, 0 to 9999\n",
      "Data columns (total 12 columns):\n",
      " #   Column         Non-Null Count  Dtype  \n",
      "---  ------         --------------  -----  \n",
      " 0   USERID         10000 non-null  int64  \n",
      " 1   score          10000 non-null  float64\n",
      " 2   city           10000 non-null  object \n",
      " 3   gender         10000 non-null  object \n",
      " 4   age            9974 non-null   float64\n",
      " 5   equity         10000 non-null  int64  \n",
      " 6   balance        7705 non-null   float64\n",
      " 7   products       10000 non-null  int64  \n",
      " 8   credit_card    10000 non-null  int64  \n",
      " 9   last_activity  10000 non-null  int64  \n",
      " 10  EST_SALARY     10000 non-null  float64\n",
      " 11  churn          10000 non-null  int64  \n",
      "dtypes: float64(4), int64(6), object(2)\n",
      "memory usage: 937.6+ KB\n"
     ]
    }
   ],
   "source": [
    "dt.info()"
   ]
  },
  {
   "cell_type": "markdown",
   "metadata": {},
   "source": [
    "Посмотрим описание столбцов с числовыми данными, построим для них графики распределения."
   ]
  },
  {
   "cell_type": "code",
   "execution_count": 5,
   "metadata": {},
   "outputs": [
    {
     "data": {
      "text/html": [
       "<div>\n",
       "<style scoped>\n",
       "    .dataframe tbody tr th:only-of-type {\n",
       "        vertical-align: middle;\n",
       "    }\n",
       "\n",
       "    .dataframe tbody tr th {\n",
       "        vertical-align: top;\n",
       "    }\n",
       "\n",
       "    .dataframe thead th {\n",
       "        text-align: right;\n",
       "    }\n",
       "</style>\n",
       "<table border=\"1\" class=\"dataframe\">\n",
       "  <thead>\n",
       "    <tr style=\"text-align: right;\">\n",
       "      <th></th>\n",
       "      <th>USERID</th>\n",
       "      <th>score</th>\n",
       "      <th>age</th>\n",
       "      <th>equity</th>\n",
       "      <th>balance</th>\n",
       "      <th>products</th>\n",
       "      <th>credit_card</th>\n",
       "      <th>last_activity</th>\n",
       "      <th>EST_SALARY</th>\n",
       "      <th>churn</th>\n",
       "    </tr>\n",
       "  </thead>\n",
       "  <tbody>\n",
       "    <tr>\n",
       "      <th>count</th>\n",
       "      <td>10000.00000</td>\n",
       "      <td>10000.000000</td>\n",
       "      <td>9974.000000</td>\n",
       "      <td>10000.000000</td>\n",
       "      <td>7.705000e+03</td>\n",
       "      <td>10000.000000</td>\n",
       "      <td>10000.000000</td>\n",
       "      <td>10000.000000</td>\n",
       "      <td>1.000000e+04</td>\n",
       "      <td>10000.000000</td>\n",
       "    </tr>\n",
       "    <tr>\n",
       "      <th>mean</th>\n",
       "      <td>171814.71260</td>\n",
       "      <td>848.699400</td>\n",
       "      <td>42.734409</td>\n",
       "      <td>2.627600</td>\n",
       "      <td>8.277943e+05</td>\n",
       "      <td>1.870100</td>\n",
       "      <td>0.680400</td>\n",
       "      <td>0.523500</td>\n",
       "      <td>1.478669e+05</td>\n",
       "      <td>0.182000</td>\n",
       "    </tr>\n",
       "    <tr>\n",
       "      <th>std</th>\n",
       "      <td>33708.23812</td>\n",
       "      <td>65.448519</td>\n",
       "      <td>12.179971</td>\n",
       "      <td>1.980836</td>\n",
       "      <td>1.980614e+06</td>\n",
       "      <td>0.792647</td>\n",
       "      <td>0.466345</td>\n",
       "      <td>0.499472</td>\n",
       "      <td>1.393885e+05</td>\n",
       "      <td>0.385864</td>\n",
       "    </tr>\n",
       "    <tr>\n",
       "      <th>min</th>\n",
       "      <td>94561.00000</td>\n",
       "      <td>642.000000</td>\n",
       "      <td>18.000000</td>\n",
       "      <td>0.000000</td>\n",
       "      <td>0.000000e+00</td>\n",
       "      <td>0.000000</td>\n",
       "      <td>0.000000</td>\n",
       "      <td>0.000000</td>\n",
       "      <td>2.546300e+03</td>\n",
       "      <td>0.000000</td>\n",
       "    </tr>\n",
       "    <tr>\n",
       "      <th>25%</th>\n",
       "      <td>142810.25000</td>\n",
       "      <td>802.000000</td>\n",
       "      <td>33.000000</td>\n",
       "      <td>0.000000</td>\n",
       "      <td>2.955542e+05</td>\n",
       "      <td>1.000000</td>\n",
       "      <td>0.000000</td>\n",
       "      <td>0.000000</td>\n",
       "      <td>7.525190e+04</td>\n",
       "      <td>0.000000</td>\n",
       "    </tr>\n",
       "    <tr>\n",
       "      <th>50%</th>\n",
       "      <td>172728.00000</td>\n",
       "      <td>853.000000</td>\n",
       "      <td>40.000000</td>\n",
       "      <td>3.000000</td>\n",
       "      <td>5.242722e+05</td>\n",
       "      <td>2.000000</td>\n",
       "      <td>1.000000</td>\n",
       "      <td>1.000000</td>\n",
       "      <td>1.196581e+05</td>\n",
       "      <td>0.000000</td>\n",
       "    </tr>\n",
       "    <tr>\n",
       "      <th>75%</th>\n",
       "      <td>201261.75000</td>\n",
       "      <td>900.000000</td>\n",
       "      <td>51.000000</td>\n",
       "      <td>4.000000</td>\n",
       "      <td>9.807058e+05</td>\n",
       "      <td>2.000000</td>\n",
       "      <td>1.000000</td>\n",
       "      <td>1.000000</td>\n",
       "      <td>1.745005e+05</td>\n",
       "      <td>0.000000</td>\n",
       "    </tr>\n",
       "    <tr>\n",
       "      <th>max</th>\n",
       "      <td>229145.00000</td>\n",
       "      <td>1000.000000</td>\n",
       "      <td>86.000000</td>\n",
       "      <td>9.000000</td>\n",
       "      <td>1.191136e+08</td>\n",
       "      <td>5.000000</td>\n",
       "      <td>1.000000</td>\n",
       "      <td>1.000000</td>\n",
       "      <td>1.395064e+06</td>\n",
       "      <td>1.000000</td>\n",
       "    </tr>\n",
       "  </tbody>\n",
       "</table>\n",
       "</div>"
      ],
      "text/plain": [
       "             USERID         score          age        equity       balance  \\\n",
       "count   10000.00000  10000.000000  9974.000000  10000.000000  7.705000e+03   \n",
       "mean   171814.71260    848.699400    42.734409      2.627600  8.277943e+05   \n",
       "std     33708.23812     65.448519    12.179971      1.980836  1.980614e+06   \n",
       "min     94561.00000    642.000000    18.000000      0.000000  0.000000e+00   \n",
       "25%    142810.25000    802.000000    33.000000      0.000000  2.955542e+05   \n",
       "50%    172728.00000    853.000000    40.000000      3.000000  5.242722e+05   \n",
       "75%    201261.75000    900.000000    51.000000      4.000000  9.807058e+05   \n",
       "max    229145.00000   1000.000000    86.000000      9.000000  1.191136e+08   \n",
       "\n",
       "           products   credit_card  last_activity    EST_SALARY         churn  \n",
       "count  10000.000000  10000.000000   10000.000000  1.000000e+04  10000.000000  \n",
       "mean       1.870100      0.680400       0.523500  1.478669e+05      0.182000  \n",
       "std        0.792647      0.466345       0.499472  1.393885e+05      0.385864  \n",
       "min        0.000000      0.000000       0.000000  2.546300e+03      0.000000  \n",
       "25%        1.000000      0.000000       0.000000  7.525190e+04      0.000000  \n",
       "50%        2.000000      1.000000       1.000000  1.196581e+05      0.000000  \n",
       "75%        2.000000      1.000000       1.000000  1.745005e+05      0.000000  \n",
       "max        5.000000      1.000000       1.000000  1.395064e+06      1.000000  "
      ]
     },
     "execution_count": 5,
     "metadata": {},
     "output_type": "execute_result"
    }
   ],
   "source": [
    "dt.describe()"
   ]
  },
  {
   "cell_type": "code",
   "execution_count": 6,
   "metadata": {},
   "outputs": [
    {
     "name": "stdout",
     "output_type": "stream",
     "text": [
      "Графики распределения для различных признаков клиентов Метанпромбанка: \n"
     ]
    },
    {
     "data": {
      "image/png": "[encoded data removed]",
      "text/plain": [
       "<Figure size 1296x1296 with 9 Axes>"
      ]
     },
     "metadata": {
      "needs_background": "light"
     },
     "output_type": "display_data"
    }
   ],
   "source": [
    "dt.drop('USERID', axis=1).hist(bins = 69, figsize=(18, 18))\n",
    "print('Графики распределения для различных признаков клиентов Метанпромбанка: ')"
   ]
  },
  {
   "cell_type": "markdown",
   "metadata": {},
   "source": [
    "Посмотрим, как клиенты распределены по городам и по полу."
   ]
  },
  {
   "cell_type": "code",
   "execution_count": 7,
   "metadata": {},
   "outputs": [
    {
     "data": {
      "text/plain": [
       "city\n",
       "Ростов       1417\n",
       "Рыбинск      2695\n",
       "Ярославль    5888\n",
       "Name: USERID, dtype: int64"
      ]
     },
     "execution_count": 7,
     "metadata": {},
     "output_type": "execute_result"
    }
   ],
   "source": [
    "dt.groupby('city')['USERID'].count()"
   ]
  },
  {
   "cell_type": "code",
   "execution_count": 8,
   "metadata": {},
   "outputs": [
    {
     "data": {
      "text/plain": [
       "gender\n",
       "Ж    4995\n",
       "М    5005\n",
       "Name: USERID, dtype: int64"
      ]
     },
     "execution_count": 8,
     "metadata": {},
     "output_type": "execute_result"
    }
   ],
   "source": [
    "dt.groupby('gender')['USERID'].count()"
   ]
  },
  {
   "cell_type": "markdown",
   "metadata": {},
   "source": [
    "**Вывод:** *Есть 11 столбцов с параметрами клиентов плюс столбец с их id. В выборке данные о 10000 клиентов. Есть немного пропусков в столбце с возрастом и значительное количество пропусков в стобце с балансом. Есть некорректные названия столбцов и типы данных.*\n",
    "\n",
    "Наблюдения по столбцам:\n",
    "* *Минимальное значение баллов кредитного скоринга - 642, максимальное - 1000. Большая часть значений находится между 790 и 930 баллами, особенно много клиентов имеют в районе 890 баллов.*\n",
    "* *Много клиентов в возрасте от 30 до 40 лет, после 40 количество клиентов постепенно снижается. Минимальный возраст клиента - 18 лет, максимальный - 86, средний - 43 года.*\n",
    "* *Более 25% клиентов имеют 0 баллов собственности. Распределение выглядит необычно. Максимально возможное количество баллов - 9, но таких клиентов мало.*\n",
    "* *Средний баланс клиентов - 827000 рублей, медианный - 524000 рублей. В выборке есть клиенты с нулевым балансом, а есть клиент с 119000000 рублей.*\n",
    "* *Максимальное количество продуктов, судя по имеющимся данным - 5, есть клиенты, у которых указано 0 продуктов, что странно. Чаще всего клиенты имеют 2 продукта.*\n",
    "* *Около 68% клиентов имеют кредитную карту.*\n",
    "* *Чуть меньше половины клиентов - около 48% - не заходили в личный кабинет в течение последних 30 дней, то есть они не активны.*\n",
    "* *Большинство клиентов Метанпромбанка в выборке имеют доход до 200000 рублей, средний доход 148000 рублей, медианный - 120000 рублей, нет клиентов у которых был бы указан нулевой доход. Минимальный доход - 2500 рублей, максимальный - 1395000 рублей.*\n",
    "* *В выборке чуть больше 18% процентов клиентов, которых можно считать ушедшими, так как они не заходили в личных кабинет более полугода.*\n",
    "* *Больше половины клиентов в выборке - из Ярославля.*\n",
    "* *В выборке почти одинакое количество женщин и мужчин.*"
   ]
  },
  {
   "cell_type": "markdown",
   "metadata": {},
   "source": [
    "<div class=\"alert alert-block alert-success\">✔️\n",
    "    \n",
    "\n",
    "__Комментарий от тимлида №1__\n",
    "\n",
    "    \n",
    "Отлично! Первый взгляд на данные есть"
   ]
  },
  {
   "cell_type": "markdown",
   "metadata": {},
   "source": [
    "## Подготовка данных"
   ]
  },
  {
   "cell_type": "markdown",
   "metadata": {},
   "source": [
    "### Обработка данных"
   ]
  },
  {
   "cell_type": "markdown",
   "metadata": {},
   "source": [
    "Попробуем определить, от чего зависят пропуски в столбце 'balance'. Добавим новый столбец 'is_balance_nan' типа bool, который хранит информацию о том, есть ли в этой строке пропуск в столбце 'balance' или нет. Создадим таблицу чтобы определить, как отличаются различные признаки между пользователями у которых есть данные о балансе, и пользователями у которых их нет."
   ]
  },
  {
   "cell_type": "code",
   "execution_count": 9,
   "metadata": {},
   "outputs": [
    {
     "data": {
      "text/html": [
       "<div>\n",
       "<style scoped>\n",
       "    .dataframe tbody tr th:only-of-type {\n",
       "        vertical-align: middle;\n",
       "    }\n",
       "\n",
       "    .dataframe tbody tr th {\n",
       "        vertical-align: top;\n",
       "    }\n",
       "\n",
       "    .dataframe thead th {\n",
       "        text-align: right;\n",
       "    }\n",
       "</style>\n",
       "<table border=\"1\" class=\"dataframe\">\n",
       "  <thead>\n",
       "    <tr style=\"text-align: right;\">\n",
       "      <th>is_balance_nan</th>\n",
       "      <th>False</th>\n",
       "      <th>True</th>\n",
       "      <th>true_false_difference</th>\n",
       "    </tr>\n",
       "  </thead>\n",
       "  <tbody>\n",
       "    <tr>\n",
       "      <th>mean_score</th>\n",
       "      <td>843.74</td>\n",
       "      <td>865.35</td>\n",
       "      <td>1.03</td>\n",
       "    </tr>\n",
       "    <tr>\n",
       "      <th>city_mode</th>\n",
       "      <td>Ярославль</td>\n",
       "      <td>Ярославль</td>\n",
       "      <td>NaN</td>\n",
       "    </tr>\n",
       "    <tr>\n",
       "      <th>gender_mode</th>\n",
       "      <td>Ж</td>\n",
       "      <td>М</td>\n",
       "      <td>NaN</td>\n",
       "    </tr>\n",
       "    <tr>\n",
       "      <th>mean_age</th>\n",
       "      <td>42.92</td>\n",
       "      <td>42.09</td>\n",
       "      <td>0.98</td>\n",
       "    </tr>\n",
       "    <tr>\n",
       "      <th>mean_equity</th>\n",
       "      <td>3.4</td>\n",
       "      <td>0.05</td>\n",
       "      <td>0.01</td>\n",
       "    </tr>\n",
       "    <tr>\n",
       "      <th>mean_salary</th>\n",
       "      <td>124501.87</td>\n",
       "      <td>226310.21</td>\n",
       "      <td>1.82</td>\n",
       "    </tr>\n",
       "    <tr>\n",
       "      <th>median_salary</th>\n",
       "      <td>106222.2</td>\n",
       "      <td>174160.68</td>\n",
       "      <td>1.64</td>\n",
       "    </tr>\n",
       "    <tr>\n",
       "      <th>mean_products</th>\n",
       "      <td>2.08</td>\n",
       "      <td>1.16</td>\n",
       "      <td>0.56</td>\n",
       "    </tr>\n",
       "    <tr>\n",
       "      <th>having_credit_card_part</th>\n",
       "      <td>0.64</td>\n",
       "      <td>0.82</td>\n",
       "      <td>1.28</td>\n",
       "    </tr>\n",
       "    <tr>\n",
       "      <th>last_activity_part</th>\n",
       "      <td>0.52</td>\n",
       "      <td>0.55</td>\n",
       "      <td>1.06</td>\n",
       "    </tr>\n",
       "    <tr>\n",
       "      <th>churn</th>\n",
       "      <td>0.23</td>\n",
       "      <td>0.01</td>\n",
       "      <td>0.04</td>\n",
       "    </tr>\n",
       "  </tbody>\n",
       "</table>\n",
       "</div>"
      ],
      "text/plain": [
       "is_balance_nan               False       True  true_false_difference\n",
       "mean_score                  843.74     865.35                   1.03\n",
       "city_mode                Ярославль  Ярославль                    NaN\n",
       "gender_mode                      Ж          М                    NaN\n",
       "mean_age                     42.92      42.09                   0.98\n",
       "mean_equity                    3.4       0.05                   0.01\n",
       "mean_salary              124501.87  226310.21                   1.82\n",
       "median_salary             106222.2  174160.68                   1.64\n",
       "mean_products                 2.08       1.16                   0.56\n",
       "having_credit_card_part       0.64       0.82                   1.28\n",
       "last_activity_part            0.52       0.55                   1.06\n",
       "churn                         0.23       0.01                   0.04"
      ]
     },
     "execution_count": 9,
     "metadata": {},
     "output_type": "execute_result"
    }
   ],
   "source": [
    "dt['is_balance_nan']=dt['balance'].isna()\n",
    "\n",
    "balance_na_cause = (\n",
    "    dt.groupby('is_balance_nan').agg({'score':'mean', 'city':lambda x: pd.Series.mode(x), \n",
    "                                      'gender':lambda x: pd.Series.mode(x), 'age':'mean', \n",
    "                                      'equity':'mean', 'EST_SALARY':['mean', 'median'], \n",
    "                                      'products':'mean', 'credit_card':'mean', \n",
    "                                      'last_activity':'mean', 'churn':'mean', }).round(2).T.reset_index(drop=True)\n",
    ")\n",
    "balance_na_cause.rename(\n",
    "    index={0: 'mean_score', 1: 'city_mode', 2: 'gender_mode', 4: 'mean_equity', 5: 'mean_salary', \n",
    "           6: 'median_salary', 7: 'mean_products', 8: 'having_credit_card_part', 9: 'last_activity_part', \n",
    "           3: 'mean_age', 10: 'churn',}, inplace=True\n",
    ")\n",
    "\n",
    "balance_na_cause['true_false_difference'] = round(\n",
    "    balance_na_cause.drop(['gender_mode', 'city_mode'],axis = 0)[True].astype(float)\n",
    "              / balance_na_cause.drop(['gender_mode', 'city_mode'],axis = 0)[False].astype(float), 2)\n",
    "balance_na_cause"
   ]
  },
  {
   "cell_type": "markdown",
   "metadata": {},
   "source": [
    "*У пользователей без данных о балансе значительно ниже средний показатель баллов собственности. Средняя зарплата у пользователей без данных о балансе выше на 82%, медианная - на 64%. У них намного ниже среднее число продуктов - 1.16, они чаще имеют кредитную карту и у них намного ниже отскок, чем у остальных пользователей.*\n",
    "\n",
    "*Если данные о балансе собирались с дебетовых карт, возможно, пользователи, у которых нет данных о балансе, просто не имеют дебетовую карту, у них в Метанпромбанке, например, кредитная карта. Это подтвердается малым количеством продуктов, высоким процентом наличия кредитных карт, зп выше потому что все время есть долг по кредитке и приходится вертеться, отскок низкий потому что возможность расплатиться в долг вызывает привыкание. Баллы собственности намного ниже, потому что при оформлении кредитной карты не нужно указывать данные об имуществе, в отличие от дебетовой карты, и балл автоматически выставляется как 0.*\n",
    "\n",
    "*Верна эта версия или нет, удаление всех строк с пропусками или замена их на какое-то значение исказит данные, поэтому лучше оставить их без изменений.*"
   ]
  },
  {
   "cell_type": "markdown",
   "metadata": {},
   "source": [
    "<div class=\"alert alert-info\"> <b>Комментарии студента:</b>Привет. Я понимаю, что данные не настоящие, и в них много особенностей, которых в реальности не могло быть, типа как активити выше у оттекших клиентов, но...\n",
    "\n",
    "Как тебе моя гипотеза о причине пропусков в балансе?\n",
    "</div>"
   ]
  },
  {
   "cell_type": "markdown",
   "metadata": {},
   "source": [
    "Из 10000 строк всего в 26 есть пропуск в столбце 'age'. Удаление такого количества строк почти не повлияет на исследование, затраты времени на выяснение их причин вряд ли окупятся. Удалим эти строки."
   ]
  },
  {
   "cell_type": "code",
   "execution_count": 10,
   "metadata": {},
   "outputs": [],
   "source": [
    "data = dt.dropna(subset=['age'])"
   ]
  },
  {
   "cell_type": "markdown",
   "metadata": {},
   "source": [
    "Измененим типы данных и названия некоторых столбцов."
   ]
  },
  {
   "cell_type": "markdown",
   "metadata": {},
   "source": [
    "<div class=\"alert alert-block alert-success\">✔️\n",
    "    \n",
    "\n",
    "__Комментарий от тимлида №1__\n",
    "\n",
    "С возрастом корректно - за малочисленностью можно смело отбросить.\n",
    ":"
   ]
  },
  {
   "cell_type": "code",
   "execution_count": 11,
   "metadata": {},
   "outputs": [],
   "source": [
    "data.rename(columns={'USERID': 'id', 'last_activity': 'is_active','EST_SALARY': 'estimated_salary'}, inplace=True)\n",
    "data['score'] = data['score'].astype(int)\n",
    "data['age'] = data['age'].astype(int)"
   ]
  },
  {
   "cell_type": "markdown",
   "metadata": {},
   "source": [
    "Найдем неявные дубликаты."
   ]
  },
  {
   "cell_type": "code",
   "execution_count": 12,
   "metadata": {},
   "outputs": [
    {
     "data": {
      "text/html": [
       "<div>\n",
       "<style scoped>\n",
       "    .dataframe tbody tr th:only-of-type {\n",
       "        vertical-align: middle;\n",
       "    }\n",
       "\n",
       "    .dataframe tbody tr th {\n",
       "        vertical-align: top;\n",
       "    }\n",
       "\n",
       "    .dataframe thead th {\n",
       "        text-align: right;\n",
       "    }\n",
       "</style>\n",
       "<table border=\"1\" class=\"dataframe\">\n",
       "  <thead>\n",
       "    <tr style=\"text-align: right;\">\n",
       "      <th></th>\n",
       "      <th>id</th>\n",
       "      <th>score</th>\n",
       "      <th>city</th>\n",
       "      <th>gender</th>\n",
       "      <th>age</th>\n",
       "      <th>equity</th>\n",
       "      <th>balance</th>\n",
       "      <th>products</th>\n",
       "      <th>credit_card</th>\n",
       "      <th>is_active</th>\n",
       "      <th>estimated_salary</th>\n",
       "      <th>churn</th>\n",
       "      <th>is_balance_nan</th>\n",
       "    </tr>\n",
       "  </thead>\n",
       "  <tbody>\n",
       "    <tr>\n",
       "      <th>1893</th>\n",
       "      <td>116540</td>\n",
       "      <td>883</td>\n",
       "      <td>Рыбинск</td>\n",
       "      <td>Ж</td>\n",
       "      <td>55</td>\n",
       "      <td>1</td>\n",
       "      <td>362756.49</td>\n",
       "      <td>3</td>\n",
       "      <td>0</td>\n",
       "      <td>1</td>\n",
       "      <td>175920.48</td>\n",
       "      <td>1</td>\n",
       "      <td>False</td>\n",
       "    </tr>\n",
       "    <tr>\n",
       "      <th>7694</th>\n",
       "      <td>116540</td>\n",
       "      <td>887</td>\n",
       "      <td>Ярославль</td>\n",
       "      <td>Ж</td>\n",
       "      <td>38</td>\n",
       "      <td>0</td>\n",
       "      <td>NaN</td>\n",
       "      <td>1</td>\n",
       "      <td>0</td>\n",
       "      <td>1</td>\n",
       "      <td>119247.61</td>\n",
       "      <td>0</td>\n",
       "      <td>True</td>\n",
       "    </tr>\n",
       "    <tr>\n",
       "      <th>4866</th>\n",
       "      <td>117943</td>\n",
       "      <td>855</td>\n",
       "      <td>Рыбинск</td>\n",
       "      <td>Ж</td>\n",
       "      <td>32</td>\n",
       "      <td>6</td>\n",
       "      <td>1036832.93</td>\n",
       "      <td>4</td>\n",
       "      <td>1</td>\n",
       "      <td>1</td>\n",
       "      <td>107792.71</td>\n",
       "      <td>1</td>\n",
       "      <td>False</td>\n",
       "    </tr>\n",
       "    <tr>\n",
       "      <th>7542</th>\n",
       "      <td>117943</td>\n",
       "      <td>880</td>\n",
       "      <td>Ярославль</td>\n",
       "      <td>Ж</td>\n",
       "      <td>40</td>\n",
       "      <td>0</td>\n",
       "      <td>NaN</td>\n",
       "      <td>1</td>\n",
       "      <td>1</td>\n",
       "      <td>0</td>\n",
       "      <td>137718.93</td>\n",
       "      <td>0</td>\n",
       "      <td>True</td>\n",
       "    </tr>\n",
       "    <tr>\n",
       "      <th>5863</th>\n",
       "      <td>120258</td>\n",
       "      <td>908</td>\n",
       "      <td>Рыбинск</td>\n",
       "      <td>Ж</td>\n",
       "      <td>38</td>\n",
       "      <td>4</td>\n",
       "      <td>2213581.63</td>\n",
       "      <td>2</td>\n",
       "      <td>0</td>\n",
       "      <td>1</td>\n",
       "      <td>160327.77</td>\n",
       "      <td>1</td>\n",
       "      <td>False</td>\n",
       "    </tr>\n",
       "    <tr>\n",
       "      <th>5896</th>\n",
       "      <td>120258</td>\n",
       "      <td>905</td>\n",
       "      <td>Ярославль</td>\n",
       "      <td>М</td>\n",
       "      <td>30</td>\n",
       "      <td>0</td>\n",
       "      <td>NaN</td>\n",
       "      <td>1</td>\n",
       "      <td>1</td>\n",
       "      <td>1</td>\n",
       "      <td>146427.96</td>\n",
       "      <td>0</td>\n",
       "      <td>True</td>\n",
       "    </tr>\n",
       "    <tr>\n",
       "      <th>1411</th>\n",
       "      <td>123461</td>\n",
       "      <td>829</td>\n",
       "      <td>Ярославль</td>\n",
       "      <td>Ж</td>\n",
       "      <td>59</td>\n",
       "      <td>0</td>\n",
       "      <td>96222.44</td>\n",
       "      <td>2</td>\n",
       "      <td>0</td>\n",
       "      <td>1</td>\n",
       "      <td>102771.55</td>\n",
       "      <td>1</td>\n",
       "      <td>False</td>\n",
       "    </tr>\n",
       "    <tr>\n",
       "      <th>8638</th>\n",
       "      <td>123461</td>\n",
       "      <td>934</td>\n",
       "      <td>Рыбинск</td>\n",
       "      <td>М</td>\n",
       "      <td>34</td>\n",
       "      <td>0</td>\n",
       "      <td>NaN</td>\n",
       "      <td>2</td>\n",
       "      <td>1</td>\n",
       "      <td>0</td>\n",
       "      <td>291619.27</td>\n",
       "      <td>0</td>\n",
       "      <td>True</td>\n",
       "    </tr>\n",
       "    <tr>\n",
       "      <th>9775</th>\n",
       "      <td>124450</td>\n",
       "      <td>758</td>\n",
       "      <td>Рыбинск</td>\n",
       "      <td>Ж</td>\n",
       "      <td>36</td>\n",
       "      <td>0</td>\n",
       "      <td>73574.07</td>\n",
       "      <td>2</td>\n",
       "      <td>0</td>\n",
       "      <td>1</td>\n",
       "      <td>79963.59</td>\n",
       "      <td>0</td>\n",
       "      <td>False</td>\n",
       "    </tr>\n",
       "    <tr>\n",
       "      <th>8164</th>\n",
       "      <td>124450</td>\n",
       "      <td>859</td>\n",
       "      <td>Ярославль</td>\n",
       "      <td>Ж</td>\n",
       "      <td>38</td>\n",
       "      <td>6</td>\n",
       "      <td>516811.20</td>\n",
       "      <td>1</td>\n",
       "      <td>1</td>\n",
       "      <td>1</td>\n",
       "      <td>95144.63</td>\n",
       "      <td>1</td>\n",
       "      <td>False</td>\n",
       "    </tr>\n",
       "    <tr>\n",
       "      <th>4850</th>\n",
       "      <td>126368</td>\n",
       "      <td>909</td>\n",
       "      <td>Ярославль</td>\n",
       "      <td>Ж</td>\n",
       "      <td>30</td>\n",
       "      <td>4</td>\n",
       "      <td>1322623.29</td>\n",
       "      <td>2</td>\n",
       "      <td>0</td>\n",
       "      <td>1</td>\n",
       "      <td>140675.66</td>\n",
       "      <td>1</td>\n",
       "      <td>False</td>\n",
       "    </tr>\n",
       "    <tr>\n",
       "      <th>5420</th>\n",
       "      <td>126368</td>\n",
       "      <td>832</td>\n",
       "      <td>Рыбинск</td>\n",
       "      <td>Ж</td>\n",
       "      <td>33</td>\n",
       "      <td>0</td>\n",
       "      <td>NaN</td>\n",
       "      <td>1</td>\n",
       "      <td>0</td>\n",
       "      <td>0</td>\n",
       "      <td>118465.34</td>\n",
       "      <td>0</td>\n",
       "      <td>True</td>\n",
       "    </tr>\n",
       "    <tr>\n",
       "      <th>3988</th>\n",
       "      <td>129785</td>\n",
       "      <td>904</td>\n",
       "      <td>Рыбинск</td>\n",
       "      <td>М</td>\n",
       "      <td>33</td>\n",
       "      <td>5</td>\n",
       "      <td>2427737.60</td>\n",
       "      <td>3</td>\n",
       "      <td>0</td>\n",
       "      <td>1</td>\n",
       "      <td>188856.75</td>\n",
       "      <td>1</td>\n",
       "      <td>False</td>\n",
       "    </tr>\n",
       "    <tr>\n",
       "      <th>9504</th>\n",
       "      <td>129785</td>\n",
       "      <td>949</td>\n",
       "      <td>Ярославль</td>\n",
       "      <td>М</td>\n",
       "      <td>43</td>\n",
       "      <td>0</td>\n",
       "      <td>NaN</td>\n",
       "      <td>1</td>\n",
       "      <td>1</td>\n",
       "      <td>1</td>\n",
       "      <td>166845.37</td>\n",
       "      <td>0</td>\n",
       "      <td>True</td>\n",
       "    </tr>\n",
       "    <tr>\n",
       "      <th>2138</th>\n",
       "      <td>131419</td>\n",
       "      <td>739</td>\n",
       "      <td>Рыбинск</td>\n",
       "      <td>Ж</td>\n",
       "      <td>37</td>\n",
       "      <td>3</td>\n",
       "      <td>1307941.65</td>\n",
       "      <td>3</td>\n",
       "      <td>0</td>\n",
       "      <td>0</td>\n",
       "      <td>103867.47</td>\n",
       "      <td>0</td>\n",
       "      <td>False</td>\n",
       "    </tr>\n",
       "    <tr>\n",
       "      <th>904</th>\n",
       "      <td>131419</td>\n",
       "      <td>934</td>\n",
       "      <td>Ярославль</td>\n",
       "      <td>М</td>\n",
       "      <td>35</td>\n",
       "      <td>5</td>\n",
       "      <td>2348335.95</td>\n",
       "      <td>2</td>\n",
       "      <td>0</td>\n",
       "      <td>0</td>\n",
       "      <td>217105.13</td>\n",
       "      <td>1</td>\n",
       "      <td>False</td>\n",
       "    </tr>\n",
       "    <tr>\n",
       "      <th>1608</th>\n",
       "      <td>140377</td>\n",
       "      <td>802</td>\n",
       "      <td>Ярославль</td>\n",
       "      <td>М</td>\n",
       "      <td>26</td>\n",
       "      <td>3</td>\n",
       "      <td>539863.29</td>\n",
       "      <td>4</td>\n",
       "      <td>1</td>\n",
       "      <td>1</td>\n",
       "      <td>112167.83</td>\n",
       "      <td>1</td>\n",
       "      <td>False</td>\n",
       "    </tr>\n",
       "    <tr>\n",
       "      <th>7487</th>\n",
       "      <td>140377</td>\n",
       "      <td>930</td>\n",
       "      <td>Рыбинск</td>\n",
       "      <td>Ж</td>\n",
       "      <td>34</td>\n",
       "      <td>5</td>\n",
       "      <td>1123967.02</td>\n",
       "      <td>1</td>\n",
       "      <td>1</td>\n",
       "      <td>1</td>\n",
       "      <td>148336.26</td>\n",
       "      <td>0</td>\n",
       "      <td>False</td>\n",
       "    </tr>\n",
       "    <tr>\n",
       "      <th>2276</th>\n",
       "      <td>141265</td>\n",
       "      <td>858</td>\n",
       "      <td>Ярославль</td>\n",
       "      <td>М</td>\n",
       "      <td>37</td>\n",
       "      <td>4</td>\n",
       "      <td>471599.16</td>\n",
       "      <td>2</td>\n",
       "      <td>1</td>\n",
       "      <td>1</td>\n",
       "      <td>148806.88</td>\n",
       "      <td>1</td>\n",
       "      <td>False</td>\n",
       "    </tr>\n",
       "    <tr>\n",
       "      <th>5569</th>\n",
       "      <td>141265</td>\n",
       "      <td>811</td>\n",
       "      <td>Рыбинск</td>\n",
       "      <td>Ж</td>\n",
       "      <td>33</td>\n",
       "      <td>3</td>\n",
       "      <td>1044316.88</td>\n",
       "      <td>2</td>\n",
       "      <td>1</td>\n",
       "      <td>0</td>\n",
       "      <td>46055.32</td>\n",
       "      <td>0</td>\n",
       "      <td>False</td>\n",
       "    </tr>\n",
       "  </tbody>\n",
       "</table>\n",
       "</div>"
      ],
      "text/plain": [
       "          id  score       city gender  age  equity     balance  products  \\\n",
       "1893  116540    883    Рыбинск      Ж   55       1   362756.49         3   \n",
       "7694  116540    887  Ярославль      Ж   38       0         NaN         1   \n",
       "4866  117943    855    Рыбинск      Ж   32       6  1036832.93         4   \n",
       "7542  117943    880  Ярославль      Ж   40       0         NaN         1   \n",
       "5863  120258    908    Рыбинск      Ж   38       4  2213581.63         2   \n",
       "5896  120258    905  Ярославль      М   30       0         NaN         1   \n",
       "1411  123461    829  Ярославль      Ж   59       0    96222.44         2   \n",
       "8638  123461    934    Рыбинск      М   34       0         NaN         2   \n",
       "9775  124450    758    Рыбинск      Ж   36       0    73574.07         2   \n",
       "8164  124450    859  Ярославль      Ж   38       6   516811.20         1   \n",
       "4850  126368    909  Ярославль      Ж   30       4  1322623.29         2   \n",
       "5420  126368    832    Рыбинск      Ж   33       0         NaN         1   \n",
       "3988  129785    904    Рыбинск      М   33       5  2427737.60         3   \n",
       "9504  129785    949  Ярославль      М   43       0         NaN         1   \n",
       "2138  131419    739    Рыбинск      Ж   37       3  1307941.65         3   \n",
       "904   131419    934  Ярославль      М   35       5  2348335.95         2   \n",
       "1608  140377    802  Ярославль      М   26       3   539863.29         4   \n",
       "7487  140377    930    Рыбинск      Ж   34       5  1123967.02         1   \n",
       "2276  141265    858  Ярославль      М   37       4   471599.16         2   \n",
       "5569  141265    811    Рыбинск      Ж   33       3  1044316.88         2   \n",
       "\n",
       "      credit_card  is_active  estimated_salary  churn  is_balance_nan  \n",
       "1893            0          1         175920.48      1           False  \n",
       "7694            0          1         119247.61      0            True  \n",
       "4866            1          1         107792.71      1           False  \n",
       "7542            1          0         137718.93      0            True  \n",
       "5863            0          1         160327.77      1           False  \n",
       "5896            1          1         146427.96      0            True  \n",
       "1411            0          1         102771.55      1           False  \n",
       "8638            1          0         291619.27      0            True  \n",
       "9775            0          1          79963.59      0           False  \n",
       "8164            1          1          95144.63      1           False  \n",
       "4850            0          1         140675.66      1           False  \n",
       "5420            0          0         118465.34      0            True  \n",
       "3988            0          1         188856.75      1           False  \n",
       "9504            1          1         166845.37      0            True  \n",
       "2138            0          0         103867.47      0           False  \n",
       "904             0          0         217105.13      1           False  \n",
       "1608            1          1         112167.83      1           False  \n",
       "7487            1          1         148336.26      0           False  \n",
       "2276            1          1         148806.88      1           False  \n",
       "5569            1          0          46055.32      0           False  "
      ]
     },
     "metadata": {},
     "output_type": "display_data"
    },
    {
     "data": {
      "text/plain": [
       "churn\n",
       "0    50\n",
       "1    50\n",
       "Name: id, dtype: int64"
      ]
     },
     "execution_count": 12,
     "metadata": {},
     "output_type": "execute_result"
    }
   ],
   "source": [
    "display(data[data['id'].duplicated(keep=False)].sort_values(by='id').head(20))\n",
    "data[data['id'].duplicated(keep=False)].groupby('churn')['id'].agg('count')"
   ]
  },
  {
   "cell_type": "markdown",
   "metadata": {},
   "source": [
    "*Id-дубли всегда идут парами, нет трех одинаковых id. Необъяснимо, но факт - у каждой такой пары всегда разный признак оттока и разный город(Ярославль либо Рыбинск). Неужели филиалы Рыбинска и Ярославля договорились присваивать клиентам одинаковые id, при том так, чтобы парные id всегда доставались ушедшему и не ушедшему клиенту? В любом случае, судя по остальным данным, одинаковый id имеют разные люди, поэтому нет смысла удалять эти строки, придется оставить эту загадку неразгаданной.*"
   ]
  },
  {
   "cell_type": "markdown",
   "metadata": {},
   "source": [
    "Столбцы с балансом и зарплатой имеют значения сильно выше средних, но это не выглядит как аномалии. Точно можно сказать, что у банка не может быть клиента с 0 продуктов, удалим строку с аномальным значением."
   ]
  },
  {
   "cell_type": "code",
   "execution_count": 13,
   "metadata": {},
   "outputs": [],
   "source": [
    "data = data.query('products!=0')"
   ]
  },
  {
   "cell_type": "markdown",
   "metadata": {},
   "source": [
    "<div class=\"alert alert-block alert-success\">✔️\n",
    "    \n",
    "\n",
    "__Комментарий от тимлида №1__\n",
    "\n",
    "Верно. Нельзя быть клиентом банка, не имея его продуктов"
   ]
  },
  {
   "cell_type": "markdown",
   "metadata": {},
   "source": [
    "### Кодирование категориальных переменных"
   ]
  },
  {
   "cell_type": "markdown",
   "metadata": {},
   "source": [
    "Закодируем неупорядоченные категориальные переменные чтобы с ними можно было проводить корреляционный анализ и сохраним результат в новой таблице."
   ]
  },
  {
   "cell_type": "code",
   "execution_count": 14,
   "metadata": {},
   "outputs": [
    {
     "data": {
      "text/html": [
       "<div>\n",
       "<style scoped>\n",
       "    .dataframe tbody tr th:only-of-type {\n",
       "        vertical-align: middle;\n",
       "    }\n",
       "\n",
       "    .dataframe tbody tr th {\n",
       "        vertical-align: top;\n",
       "    }\n",
       "\n",
       "    .dataframe thead th {\n",
       "        text-align: right;\n",
       "    }\n",
       "</style>\n",
       "<table border=\"1\" class=\"dataframe\">\n",
       "  <thead>\n",
       "    <tr style=\"text-align: right;\">\n",
       "      <th></th>\n",
       "      <th>id</th>\n",
       "      <th>score</th>\n",
       "      <th>age</th>\n",
       "      <th>equity</th>\n",
       "      <th>balance</th>\n",
       "      <th>products</th>\n",
       "      <th>credit_card</th>\n",
       "      <th>is_active</th>\n",
       "      <th>estimated_salary</th>\n",
       "      <th>churn</th>\n",
       "      <th>is_balance_nan</th>\n",
       "      <th>city_Ростов</th>\n",
       "      <th>city_Рыбинск</th>\n",
       "      <th>city_Ярославль</th>\n",
       "      <th>gender_Ж</th>\n",
       "      <th>gender_М</th>\n",
       "    </tr>\n",
       "  </thead>\n",
       "  <tbody>\n",
       "    <tr>\n",
       "      <th>0</th>\n",
       "      <td>183012</td>\n",
       "      <td>850</td>\n",
       "      <td>25</td>\n",
       "      <td>1</td>\n",
       "      <td>59214.82</td>\n",
       "      <td>2</td>\n",
       "      <td>0</td>\n",
       "      <td>1</td>\n",
       "      <td>75719.14</td>\n",
       "      <td>1</td>\n",
       "      <td>False</td>\n",
       "      <td>0</td>\n",
       "      <td>1</td>\n",
       "      <td>0</td>\n",
       "      <td>1</td>\n",
       "      <td>0</td>\n",
       "    </tr>\n",
       "    <tr>\n",
       "      <th>1</th>\n",
       "      <td>146556</td>\n",
       "      <td>861</td>\n",
       "      <td>37</td>\n",
       "      <td>5</td>\n",
       "      <td>850594.33</td>\n",
       "      <td>3</td>\n",
       "      <td>1</td>\n",
       "      <td>0</td>\n",
       "      <td>86621.77</td>\n",
       "      <td>0</td>\n",
       "      <td>False</td>\n",
       "      <td>0</td>\n",
       "      <td>1</td>\n",
       "      <td>0</td>\n",
       "      <td>1</td>\n",
       "      <td>0</td>\n",
       "    </tr>\n",
       "    <tr>\n",
       "      <th>2</th>\n",
       "      <td>120722</td>\n",
       "      <td>892</td>\n",
       "      <td>30</td>\n",
       "      <td>0</td>\n",
       "      <td>NaN</td>\n",
       "      <td>1</td>\n",
       "      <td>1</td>\n",
       "      <td>1</td>\n",
       "      <td>107683.34</td>\n",
       "      <td>0</td>\n",
       "      <td>True</td>\n",
       "      <td>0</td>\n",
       "      <td>1</td>\n",
       "      <td>0</td>\n",
       "      <td>1</td>\n",
       "      <td>0</td>\n",
       "    </tr>\n",
       "    <tr>\n",
       "      <th>3</th>\n",
       "      <td>225363</td>\n",
       "      <td>866</td>\n",
       "      <td>51</td>\n",
       "      <td>5</td>\n",
       "      <td>1524746.26</td>\n",
       "      <td>2</td>\n",
       "      <td>0</td>\n",
       "      <td>1</td>\n",
       "      <td>174423.53</td>\n",
       "      <td>1</td>\n",
       "      <td>False</td>\n",
       "      <td>0</td>\n",
       "      <td>0</td>\n",
       "      <td>1</td>\n",
       "      <td>1</td>\n",
       "      <td>0</td>\n",
       "    </tr>\n",
       "    <tr>\n",
       "      <th>4</th>\n",
       "      <td>157978</td>\n",
       "      <td>730</td>\n",
       "      <td>34</td>\n",
       "      <td>5</td>\n",
       "      <td>174.00</td>\n",
       "      <td>1</td>\n",
       "      <td>1</td>\n",
       "      <td>0</td>\n",
       "      <td>67353.16</td>\n",
       "      <td>1</td>\n",
       "      <td>False</td>\n",
       "      <td>0</td>\n",
       "      <td>0</td>\n",
       "      <td>1</td>\n",
       "      <td>0</td>\n",
       "      <td>1</td>\n",
       "    </tr>\n",
       "  </tbody>\n",
       "</table>\n",
       "</div>"
      ],
      "text/plain": [
       "       id  score  age  equity     balance  products  credit_card  is_active  \\\n",
       "0  183012    850   25       1    59214.82         2            0          1   \n",
       "1  146556    861   37       5   850594.33         3            1          0   \n",
       "2  120722    892   30       0         NaN         1            1          1   \n",
       "3  225363    866   51       5  1524746.26         2            0          1   \n",
       "4  157978    730   34       5      174.00         1            1          0   \n",
       "\n",
       "   estimated_salary  churn  is_balance_nan  city_Ростов  city_Рыбинск  \\\n",
       "0          75719.14      1           False            0             1   \n",
       "1          86621.77      0           False            0             1   \n",
       "2         107683.34      0            True            0             1   \n",
       "3         174423.53      1           False            0             0   \n",
       "4          67353.16      1           False            0             0   \n",
       "\n",
       "   city_Ярославль  gender_Ж  gender_М  \n",
       "0               0         1         0  \n",
       "1               0         1         0  \n",
       "2               0         1         0  \n",
       "3               1         1         0  \n",
       "4               1         0         1  "
      ]
     },
     "execution_count": 14,
     "metadata": {},
     "output_type": "execute_result"
    }
   ],
   "source": [
    "dt_coded = pd.get_dummies(data)\n",
    "dt_coded.head()"
   ]
  },
  {
   "cell_type": "markdown",
   "metadata": {},
   "source": [
    "*В таблицу добавились пять новых столбцов со значениями от 0 до 1 вместо двух старых.*"
   ]
  },
  {
   "cell_type": "markdown",
   "metadata": {},
   "source": [
    "<div class=\"alert alert-block alert-success\">✔️\n",
    "    \n",
    "\n",
    "__Комментарий от тимлида №1__\n",
    "\n",
    "Кодирование проведено успешно"
   ]
  },
  {
   "cell_type": "markdown",
   "metadata": {},
   "source": [
    "## Исследовательский анализ данных"
   ]
  },
  {
   "cell_type": "markdown",
   "metadata": {},
   "source": [
    "### Анализ распределения признаков"
   ]
  },
  {
   "cell_type": "markdown",
   "metadata": {},
   "source": [
    "Создадим гистограммы распределения для непрерывных признаков клиентов, чтобы найти интервалы признака, на которых отток выше, чем лояльность."
   ]
  },
  {
   "cell_type": "code",
   "execution_count": 15,
   "metadata": {},
   "outputs": [
    {
     "data": {
      "image/png": "[encoded data removed]",
      "text/plain": [
       "<Figure size 864x432 with 1 Axes>"
      ]
     },
     "metadata": {},
     "output_type": "display_data"
    },
    {
     "data": {
      "image/png": "[encoded data removed]",
      "text/plain": [
       "<Figure size 864x432 with 1 Axes>"
      ]
     },
     "metadata": {},
     "output_type": "display_data"
    },
    {
     "data": {
      "image/png": "[encoded data removed]",
      "text/plain": [
       "<Figure size 864x432 with 1 Axes>"
      ]
     },
     "metadata": {},
     "output_type": "display_data"
    },
    {
     "data": {
      "image/png": "[encoded data removed]",
      "text/plain": [
       "<Figure size 864x432 with 1 Axes>"
      ]
     },
     "metadata": {},
     "output_type": "display_data"
    }
   ],
   "source": [
    "sns.set_theme(rc={'figure.figsize':(12,6)})\n",
    "continuous_variables=['score', 'age', 'balance', 'estimated_salary']\n",
    "\n",
    "for variable in continuous_variables:\n",
    "    if variable=='balance':\n",
    "        plt.xlim(0, 5000000)\n",
    "        sns.histplot(x=variable, data=data, hue='churn', palette=\"flare\", stat=\"density\", common_norm=False)\n",
    "    elif variable=='estimated_salary':\n",
    "        plt.xlim(0, 500000)\n",
    "        sns.histplot(x=variable, data=data, hue='churn', palette=\"flare\", stat=\"density\", common_norm=False)\n",
    "    else:\n",
    "        sns.histplot(x=variable, data=data, hue='churn', palette=\"flare\", stat=\"density\", common_norm=False, bins=69)\n",
    "    plt.title(f'Распределение {variable}')\n",
    "    plt.xlabel(variable)\n",
    "    plt.ylabel('Плотность')\n",
    "    plt.legend(loc='upper left', labels=['Ушедшие клиенты', 'Действующие клиенты'])\n",
    "    plt.show()"
   ]
  },
  {
   "cell_type": "code",
   "execution_count": 28,
   "metadata": {},
   "outputs": [
    {
     "name": "stdout",
     "output_type": "stream",
     "text": [
      "Доля ушедших среди клиентов, у которых на балансе более 1500000 рублей: 50.07%\n"
     ]
    }
   ],
   "source": [
    "rich_by_churn = data.query('balance>1500000').groupby('churn')['balance'].count()\n",
    "print(f'Доля ушедших среди клиентов, у которых на балансе более 1500000 рублей: {round(100 * rich_by_churn[1] / (rich_by_churn[0] + rich_by_churn[1]),2)}%')"
   ]
  },
  {
   "cell_type": "markdown",
   "metadata": {},
   "source": [
    "*Среди ушедших клиентов значние баллов кредитного скоринга чаще оказывается в диапазоне от 830 до 940, чем у действующих клиентов.*\n",
    "\n",
    "*Среди ушедших больше доля клиентов в возрасте от 26 до 36 и от 50 до 60, чем среди оставшихся.*\n",
    "\n",
    "*Среди ушедших больше доля клиентов с балансом на счете от 1000000 рублей, чем среди оставшихся. 50% клиентов в выборке с балансом выше 1500000 рублей - ушедшие.*\n",
    "\n",
    "*Среди ушедших больше доля клиентов с оценочным доходом от 100000 рублей до 200000 рублей, чем среди оставшихся.*"
   ]
  },
  {
   "cell_type": "markdown",
   "metadata": {},
   "source": [
    "<div class=\"alert alert-block alert-success\">✔️\n",
    "    \n",
    "\n",
    "__Комментарий от тимлида №1__\n",
    "\n",
    "Согласен. В возразте можно наблюдать 2 интервала оттока"
   ]
  },
  {
   "cell_type": "markdown",
   "metadata": {},
   "source": [
    "<div class=\"alert alert-info\"> <b>Комментарии студента:</b> А если бы я написал типа \"Среди клиентов в возрасте от 26 до 36 и в возрасте от 50 до 60 больше ушедших, чем оставшихся\" ты бы отметил ошибкой такую интерпретацию гистограммы?</div>"
   ]
  },
  {
   "cell_type": "markdown",
   "metadata": {},
   "source": [
    "<div class=\"alert alert-block alert-success\">✔️\n",
    "    \n",
    "\n",
    "__Комментарий от тимлида №2__\n",
    "\n",
    "Нет, интерпретация корректная. Нет смысла придираться)"
   ]
  },
  {
   "cell_type": "markdown",
   "metadata": {},
   "source": [
    "Построим столбчатую диаграмму для категориальных признаков, чтобы найти значения признака с оттоком выше, чем в среднем по банку."
   ]
  },
  {
   "cell_type": "code",
   "execution_count": 18,
   "metadata": {
    "scrolled": false
   },
   "outputs": [
    {
     "data": {
      "image/png": "[encoded data removed]",
      "text/plain": [
       "<Figure size 864x432 with 1 Axes>"
      ]
     },
     "metadata": {},
     "output_type": "display_data"
    },
    {
     "data": {
      "image/png": "[encoded data removed]",
      "text/plain": [
       "<Figure size 864x432 with 1 Axes>"
      ]
     },
     "metadata": {},
     "output_type": "display_data"
    },
    {
     "data": {
      "image/png": "[encoded data removed]",
      "text/plain": [
       "<Figure size 864x432 with 1 Axes>"
      ]
     },
     "metadata": {},
     "output_type": "display_data"
    },
    {
     "data": {
      "image/png": "[encoded data removed]",
      "text/plain": [
       "<Figure size 864x432 with 1 Axes>"
      ]
     },
     "metadata": {},
     "output_type": "display_data"
    },
    {
     "data": {
      "image/png": "[encoded data removed]",
      "text/plain": [
       "<Figure size 864x432 with 1 Axes>"
      ]
     },
     "metadata": {},
     "output_type": "display_data"
    },
    {
     "data": {
      "image/png": "[encoded data removed]",
      "text/plain": [
       "<Figure size 864x432 with 1 Axes>"
      ]
     },
     "metadata": {},
     "output_type": "display_data"
    }
   ],
   "source": [
    "discrete_variables = ['city', 'gender','equity', 'products', 'credit_card', 'is_active']\n",
    "\n",
    "for variable in discrete_variables:\n",
    "    sns.barplot(x = variable, y = 'churn', data = data, ci=0)\n",
    "    plt.title(f'Сравнения оттока разных категорий параметра {variable}')\n",
    "    plt.xlabel('Категория')\n",
    "    plt.ylabel('Доля ушедших клиентов')\n",
    "    plt.axhline(data['churn'].mean(), color=\"red\", linestyle=\"--\") #аыыыыыыыы\n",
    "    plt.show()"
   ]
  },
  {
   "cell_type": "code",
   "execution_count": 19,
   "metadata": {},
   "outputs": [
    {
     "name": "stdout",
     "output_type": "stream",
     "text": [
      "Число клиентов, у которых 8-9 баллов собственности: 30\n",
      "Число клиентов, у которых 5 продуктов: 19\n"
     ]
    }
   ],
   "source": [
    "print(f'Число клиентов, у которых 8-9 баллов собственности: {data.query(\"equity>7\")[\"id\"].count()}')\n",
    "print(f'Число клиентов, у которых 5 продуктов: {data.query(\"products==5\")[\"id\"].count()}')"
   ]
  },
  {
   "cell_type": "markdown",
   "metadata": {},
   "source": [
    "<div class=\"alert alert-info\"> <b>Комментарии студента:</b> Круто?</div>"
   ]
  },
  {
   "cell_type": "markdown",
   "metadata": {},
   "source": [
    "*В Ярославле и Ростове отток выше среднего по выборке, а в Рыбинске значительно ниже.*\n",
    "\n",
    "*Среди мужчин доля ушедших намного выше, чем среди женщин.*\n",
    "\n",
    "*Чем больше у клиентов баллов собственности - тем выше отток. Клиентов с 8-9 баллами собственности слишком мало, чтобы делать по ним выводы.*\n",
    "\n",
    "*Чем больше у клиентов продуктов - тем выше отток. Клиентов с 5 продуктами слишком мало, чтобы делать по ним выводы.*\n",
    "\n",
    "*У владельцев кредитных карт намного ниже отток, чем у клиентов, не имеющих кредитную карту.*\n",
    "\n",
    "*У активных клиентов намного выше отток, чем у неактивных, разве такое возможно?*"
   ]
  },
  {
   "cell_type": "markdown",
   "metadata": {},
   "source": [
    "<div class=\"alert alert-block alert-success\">✔️\n",
    "    \n",
    "\n",
    "__Комментарий от тимлида №1__\n",
    "\n",
    "Рыбинск лучший город"
   ]
  },
  {
   "cell_type": "markdown",
   "metadata": {},
   "source": [
    "### Корреляционный анализ"
   ]
  },
  {
   "cell_type": "markdown",
   "metadata": {},
   "source": [
    "Построим матрицу корреляций признаков клиентов."
   ]
  },
  {
   "cell_type": "code",
   "execution_count": 20,
   "metadata": {},
   "outputs": [
    {
     "data": {
      "image/png": "[encoded data removed]",
      "text/plain": [
       "<Figure size 1008x1008 with 2 Axes>"
      ]
     },
     "metadata": {},
     "output_type": "display_data"
    }
   ],
   "source": [
    "plt.figure(figsize=(14,14))\n",
    "sns.heatmap(dt_coded.drop(['id', 'is_balance_nan'], axis=1).corr(), cmap='coolwarm', center=0, annot=True, fmt='.3f')\n",
    "plt.title('Матрица корреляций признаков клиентов')\n",
    "plt.show()"
   ]
  },
  {
   "cell_type": "markdown",
   "metadata": {},
   "source": [
    "Для оценки силы связи в теории корреляции применяется шкала английского статистика Чеддока: слабая — от 0,1 до 0,3; умеренная — от 0,3 до 0,5; заметная — от 0,5 до 0,7; высокая — от 0,7 до 0,9; весьма высокая (сильная) — от 0,9 до 1,0. Значения в диапазоне от 0 до 0.1 говорят о том, что взаимосвязь практически отсутствует, так что будем брать во внимание только значения выше этого уровня.\n",
    "\n",
    "Наблюдения, полученные из матрицы корреляции:\n",
    "1. Умеренная корреляция: \n",
    "*Между баллами собственности и количеством продуктов, балансом на счете и оценочным доходом, отскоком и количеством продуктов есть умеренная положительная корреляция.*\n",
    "\n",
    "\n",
    "2. Слабая корреляция:\n",
    "* *Между баллами кредитного скорринга и балансом на счете, оценочным доходом, оттоком есть слабая положительная корреляция.*\n",
    "* *Между возрастом и полом есть слабая положительная корреляция, так как женщины в имеющихся данных в среднем немного старше мужчин, между возрастом и наличием кредитной карты есть слабая отрицательная корреляция.*\n",
    "* *Между баллами собственности и балансом на счете, оттоком есть слабая положительная корреляция, между баллами собственности и наличием кредитной карты, оценочным доходом есть слабая отрицательная корреляция.*\n",
    "* *Между количеством продуктов и наличием кредитной карты, оценочным доходом есть слабая отрицательная корреляция.*\n",
    "* *Между наличием кредитной карты и полом есть слабая корреляция, мужчины чаще имеют кредитную карту, чем женщины, между наличием кредитной карты и городом Ярославлем, слабая положительная корреляция, между наличием кредитной карты и отток слабая отрицательная корреляция.*\n",
    "* *Между признаком активности и оттоком есть слабая положительная корреляция.*\n",
    "* *Между оценочным доходом и Ярославлем есть слабая положительная корреляция, между оценочным доходом и Ростовом есть слабая отрицательная корреляция.*\n",
    "* *Между оттоком и полом есть слабая корреляция, у мужчин отток выше.*"
   ]
  },
  {
   "cell_type": "markdown",
   "metadata": {},
   "source": [
    "<div class=\"alert alert-block alert-danger\">✍\n",
    "    \n",
    "\n",
    "__Комментарий от тимлида №1__\n",
    "\n",
    "Не опираешься на шкалу Чеддока, не определил границу между наличием влияния и отсутствием признаков такого влияния (обычно по 10% берём в данном проекте).\n",
    "    "
   ]
  },
  {
   "cell_type": "markdown",
   "metadata": {},
   "source": [
    "<div class=\"alert alert-info\"> <b>Комментарии студента:</b> Да, я перепутал, написал \"Между баллами собственности и количеством продуктов, балансом на счете и оценочным доходом, отскоком и количеством продуктов есть слабая положительная корреляция.\", а это умеренная. Память меня подвела) Стоило освежить знания\n",
    "    \n",
    "Скорректировал и дополнил вывод сверху. </div>"
   ]
  },
  {
   "cell_type": "markdown",
   "metadata": {},
   "source": [
    "<div class=\"alert alert-block alert-success\">✔️\n",
    "    \n",
    "\n",
    "__Комментарий от тимлида №2__\n",
    "\n",
    "Учтено"
   ]
  },
  {
   "cell_type": "markdown",
   "metadata": {},
   "source": [
    "Для составления портретов клиентов создадим таблицу, с признаками клиентов, разбитыми по ушедшим и оставшимся клиентам. Для каждого признака посчитаем относительную разницу."
   ]
  },
  {
   "cell_type": "code",
   "execution_count": 21,
   "metadata": {},
   "outputs": [
    {
     "data": {
      "text/html": [
       "<div>\n",
       "<style scoped>\n",
       "    .dataframe tbody tr th:only-of-type {\n",
       "        vertical-align: middle;\n",
       "    }\n",
       "\n",
       "    .dataframe tbody tr th {\n",
       "        vertical-align: top;\n",
       "    }\n",
       "\n",
       "    .dataframe thead th {\n",
       "        text-align: right;\n",
       "    }\n",
       "</style>\n",
       "<table border=\"1\" class=\"dataframe\">\n",
       "  <thead>\n",
       "    <tr style=\"text-align: right;\">\n",
       "      <th>churn</th>\n",
       "      <th>0</th>\n",
       "      <th>1</th>\n",
       "      <th>is_churn_difference</th>\n",
       "    </tr>\n",
       "  </thead>\n",
       "  <tbody>\n",
       "    <tr>\n",
       "      <th>mean_score</th>\n",
       "      <td>845.4</td>\n",
       "      <td>863.36</td>\n",
       "      <td>1.02</td>\n",
       "    </tr>\n",
       "    <tr>\n",
       "      <th>city_mode</th>\n",
       "      <td>Ярославль</td>\n",
       "      <td>Ярославль</td>\n",
       "      <td>NaN</td>\n",
       "    </tr>\n",
       "    <tr>\n",
       "      <th>gender_mode</th>\n",
       "      <td>Ж</td>\n",
       "      <td>М</td>\n",
       "      <td>NaN</td>\n",
       "    </tr>\n",
       "    <tr>\n",
       "      <th>mean_age</th>\n",
       "      <td>43.02</td>\n",
       "      <td>41.43</td>\n",
       "      <td>0.96</td>\n",
       "    </tr>\n",
       "    <tr>\n",
       "      <th>mean_equity</th>\n",
       "      <td>2.38</td>\n",
       "      <td>3.76</td>\n",
       "      <td>1.58</td>\n",
       "    </tr>\n",
       "    <tr>\n",
       "      <th>mean_salary</th>\n",
       "      <td>147674.64</td>\n",
       "      <td>148357.48</td>\n",
       "      <td>1.00</td>\n",
       "    </tr>\n",
       "    <tr>\n",
       "      <th>median_salary</th>\n",
       "      <td>118227.6</td>\n",
       "      <td>125408.88</td>\n",
       "      <td>1.06</td>\n",
       "    </tr>\n",
       "    <tr>\n",
       "      <th>mean_products</th>\n",
       "      <td>1.76</td>\n",
       "      <td>2.38</td>\n",
       "      <td>1.35</td>\n",
       "    </tr>\n",
       "    <tr>\n",
       "      <th>having_credit_card_part</th>\n",
       "      <td>0.71</td>\n",
       "      <td>0.55</td>\n",
       "      <td>0.77</td>\n",
       "    </tr>\n",
       "    <tr>\n",
       "      <th>last_activity_part</th>\n",
       "      <td>0.48</td>\n",
       "      <td>0.7</td>\n",
       "      <td>1.46</td>\n",
       "    </tr>\n",
       "    <tr>\n",
       "      <th>mean_balance</th>\n",
       "      <td>733031.63</td>\n",
       "      <td>1134458.21</td>\n",
       "      <td>1.55</td>\n",
       "    </tr>\n",
       "    <tr>\n",
       "      <th>median_balance</th>\n",
       "      <td>475410.09</td>\n",
       "      <td>783908.9</td>\n",
       "      <td>1.65</td>\n",
       "    </tr>\n",
       "  </tbody>\n",
       "</table>\n",
       "</div>"
      ],
      "text/plain": [
       "churn                            0           1  is_churn_difference\n",
       "mean_score                   845.4      863.36                 1.02\n",
       "city_mode                Ярославль   Ярославль                  NaN\n",
       "gender_mode                      Ж           М                  NaN\n",
       "mean_age                     43.02       41.43                 0.96\n",
       "mean_equity                   2.38        3.76                 1.58\n",
       "mean_salary              147674.64   148357.48                 1.00\n",
       "median_salary             118227.6   125408.88                 1.06\n",
       "mean_products                 1.76        2.38                 1.35\n",
       "having_credit_card_part       0.71        0.55                 0.77\n",
       "last_activity_part            0.48         0.7                 1.46\n",
       "mean_balance             733031.63  1134458.21                 1.55\n",
       "median_balance           475410.09    783908.9                 1.65"
      ]
     },
     "execution_count": 21,
     "metadata": {},
     "output_type": "execute_result"
    }
   ],
   "source": [
    "metrics_by_churn = (\n",
    "    data.groupby('churn').agg({'score':'mean', 'city':lambda x: pd.Series.mode(x), \n",
    "                                      'gender':lambda x: pd.Series.mode(x), 'age':'mean', \n",
    "                                      'equity':'mean', 'estimated_salary':['mean', 'median'], \n",
    "                                      'products':'mean', 'credit_card':'mean', \n",
    "                                      'is_active':'mean', 'balance':['mean', 'median']}).round(2).T.reset_index(drop=True)\n",
    ")\n",
    "metrics_by_churn.rename(\n",
    "    index={0: 'mean_score', 1: 'city_mode', 2: 'gender_mode', 4: 'mean_equity', 5: 'mean_salary', \n",
    "           6: 'median_salary', 7: 'mean_products', 8: 'having_credit_card_part', 9: 'last_activity_part', \n",
    "           3: 'mean_age', 10: 'mean_balance', 11: 'median_balance'}, inplace=True\n",
    ")\n",
    "\n",
    "metrics_by_churn['is_churn_difference'] = round(\n",
    "    metrics_by_churn.drop(['gender_mode', 'city_mode'],axis = 0)[1].astype(float)\n",
    "              / metrics_by_churn.drop(['gender_mode', 'city_mode'],axis = 0)[0].astype(float), 2)\n",
    "metrics_by_churn"
   ]
  },
  {
   "cell_type": "markdown",
   "metadata": {},
   "source": [
    "*Как ни странно, у ушедших клиентов значительно больше баланс на счете, лучше показатель активности, большее число продуктов и баллов собственности, но среди них меньше владельцев кредитных карт. Ушедшие клиенты чаще оказываются мужчинами, а оставшиеся - женщинами. Средние и медианные значения остальных признаков почти не отличаются.*\n",
    "\n",
    "*Типичный действующий клиент - 43-летняя женщина из Ярославля с 845 баллами кредитного скоринга, 2 баллами собственности, 2 продуктами банка, один из которых - кредитная карта, зарплатой 120000 рублей, с 500000 рублей на балансе, не заходившая в личный кабинет около двух недель.*\n",
    "\n",
    "*Типичный ушедший клиент - 41-летний мужчина из Ярославля с 863 баллами кредитного скоринга, 4 баллами собственности, 2 продуктами банка, зарплатой 125000 рублей и с 800000 рублей на балансе.*"
   ]
  },
  {
   "cell_type": "markdown",
   "metadata": {},
   "source": [
    "<div class=\"alert alert-block alert-success\">✔️\n",
    "    \n",
    "\n",
    "__Комментарий от тимлида №1__\n",
    "\n",
    "Грамотно проведенный этап. Все пункты рассмотрены. Молодец!\n",
    "</div>"
   ]
  },
  {
   "cell_type": "markdown",
   "metadata": {},
   "source": [
    "## Проверка статистических гипотез"
   ]
  },
  {
   "cell_type": "markdown",
   "metadata": {},
   "source": [
    "Для проверки гипотезы о равенстве среднего двух генеральных совокупностей подходит метод scipy.stats.ttest_ind(). Совокупность всех ушедших клиентов банка не зависит от совокупности всех оставшихся. В сумме у нас почти 10000 значений, а значит, согласно центральной предельной теореме, выборки достаточно велики, чтобы считать, что выборочные средние нормально распределены. Как выяснилось ранее, доля ушедших клиентов в имеющихся данных составляет около 18%, а значит выборки разного размера, следует указать аргумент equal_var=False."
   ]
  },
  {
   "cell_type": "markdown",
   "metadata": {},
   "source": [
    "<div class=\"alert alert-block alert-success\">✔️\n",
    "    \n",
    "\n",
    "__Комментарий от тимлида №1__\n",
    "\n",
    "Оосновано"
   ]
  },
  {
   "cell_type": "markdown",
   "metadata": {},
   "source": [
    "Проверим гипотезу различия дохода между теми клиентами, которые ушли и теми, которые остались.\n",
    "\n",
    "Нулевая гипотеза: Между доходом ушедших клиентов и доходом оставшихся нет значимой разницы.\n",
    "\n",
    "Альтернативная гипотеза: Между доходами ушедших и оставшихся клиентов есть значимая разница."
   ]
  },
  {
   "cell_type": "markdown",
   "metadata": {},
   "source": [
    "<div class=\"alert alert-block alert-success\">✔️\n",
    "    \n",
    "\n",
    "__Комментарий от тимлида №1__\n",
    "\n",
    "Верная интерпритация нулевой и альтернативной гипотез\n",
    "</div>"
   ]
  },
  {
   "cell_type": "code",
   "execution_count": 22,
   "metadata": {},
   "outputs": [
    {
     "name": "stdout",
     "output_type": "stream",
     "text": [
      "p-значение: 0.8354803526840116\n",
      "Не получилось отвергнуть нулевую гипотезу\n"
     ]
    }
   ],
   "source": [
    "alpha = 0.05 # уровень статистической значимости\n",
    "# если p-value окажется меньше него, отвергнем гипотезу\n",
    "\n",
    "churned_client_salary = data.query('churn==1')['estimated_salary']\n",
    "unchurned_client_salary = data.query('churn==0')['estimated_salary']\n",
    "\n",
    "# добавил equal_var=False потому что выборки разного размера\n",
    "results = st.ttest_ind(churned_client_salary, unchurned_client_salary, equal_var=False)\n",
    "\n",
    "print('p-значение:', results.pvalue)\n",
    "\n",
    "if results.pvalue < alpha:\n",
    "    print('Отвергаем нулевую гипотезу')\n",
    "else:\n",
    "    print('Не получилось отвергнуть нулевую гипотезу') "
   ]
  },
  {
   "cell_type": "markdown",
   "metadata": {},
   "source": [
    "*Полученное значение p-value значительно выше заданного уровня значимости, отличие между группами клиентов не оказалось статистически достоверным, можно сказать, что между доходом ушедших клиентов и доходом оставшихся нет значимой разницы.*"
   ]
  },
  {
   "cell_type": "markdown",
   "metadata": {},
   "source": [
    "Проверим гипотезу различия возраста между ушедшими и оставшимся клиентами.\n",
    "\n",
    "Нулевая гипотеза: Между возрастом ушедших клиентов и возрастом оставшихся нет значимой разницы.\n",
    "\n",
    "Альтернативная гипотеза: Между возрастами ушедших и оставшихся клиентов есть значимая разница."
   ]
  },
  {
   "cell_type": "code",
   "execution_count": 23,
   "metadata": {},
   "outputs": [
    {
     "name": "stdout",
     "output_type": "stream",
     "text": [
      "p-значение: 7.536127357312234e-08\n",
      "Отвергаем нулевую гипотезу\n"
     ]
    }
   ],
   "source": [
    "churned_client_age = data.query('churn==1')['age']\n",
    "unchurned_client_age = data.query('churn==0')['age']\n",
    "\n",
    "# добавил equal_var=False потому что выборки разного размера\n",
    "results = st.ttest_ind(churned_client_age, unchurned_client_age, equal_var=False)\n",
    "\n",
    "print('p-значение:', results.pvalue)\n",
    "\n",
    "if results.pvalue < alpha:\n",
    "    print('Отвергаем нулевую гипотезу')\n",
    "else:\n",
    "    print('Не получилось отвергнуть нулевую гипотезу') "
   ]
  },
  {
   "cell_type": "markdown",
   "metadata": {},
   "source": [
    "*Полученное значение p-value значительно меньше заданного уровня значимости, отличие между группами клиентов оказалось статистически достоверным, можно сказать, что между возрастом ушедших клиентов и возрастом оставшихся есть значимая разница.*"
   ]
  },
  {
   "cell_type": "markdown",
   "metadata": {},
   "source": [
    "<div class=\"alert alert-block alert-success\">✔️\n",
    "    \n",
    "\n",
    "__Комментарий от тимлида №1__\n",
    "\n",
    "Методологически проверка гипотез проведена верно и наглядный вывод результатов. Так держать!\n",
    "</div>"
   ]
  },
  {
   "cell_type": "markdown",
   "metadata": {},
   "source": [
    "## Подведение промежуточных итогов"
   ]
  },
  {
   "cell_type": "markdown",
   "metadata": {},
   "source": [
    "На основе результатов анализа распределения признаков, корреляционного анализа, проверки статистических гипотез и рассчитанных мер центральной тенденции в разрезе оттока выберем признаки, которые лягут в основу сегментации:\n",
    "* **Баланс от 1300000 рублей** - среди ушедших больше доля клиентов с балансом на счете от 1000000 рублей.\n",
    "* **От 5 баллов собственности** - доля ушедших среди клиентов с 5 баллами собственности - 30%, чем больше у клиентов баллов собственности - тем выше отток.\n",
    "* **Возраст от 51 до 60 либо от 26 до 36** - среди ушедших больше доля клиентов в возрасте от 26 до 36 и от 50 до 60, чем среди оставшихся.\n",
    "* **От 830 до 940 баллов кредитного скоринга** - среди ушедших клиентов значние баллов кредитного скоринга чаще оказывается в диапазоне от 830 до 940, чем у действующих клиентов.\n",
    "* **Оценочный доход от 100000 рублей** - среди ушедших больше доля клиентов с оценочным доходом от 100000 рублей, чем среди оставшихся.\n",
    "* **Пол - мужской** - доля ушедших мужчин почти в 2 раза выше, чем доля ушедших женщин.\n",
    "* **Город - Ярославль** - доля ушедших клиентов в этом городе немного выше средней.\n",
    "* **От 2 продуктов** - доля ушедших клиентов среди тех, у кого есть 3 продукта банка около 28%, для обладателей 4 продуктов этот показатель выше 60%."
   ]
  },
  {
   "cell_type": "markdown",
   "metadata": {},
   "source": [
    "## Сегментация"
   ]
  },
  {
   "cell_type": "markdown",
   "metadata": {},
   "source": [
    "Объединяя признаки отточности, сформируем сегменты."
   ]
  },
  {
   "cell_type": "markdown",
   "metadata": {},
   "source": [
    "**Сегмент обеспеченных клиентов:** Клиенты с балансом от 1300000 рублей, имеющие более 4 баллов собственности. Они финансово благополучные и им важно чтобы имущество хранилось на выгодных условиях и приносило им прибыль."
   ]
  },
  {
   "cell_type": "code",
   "execution_count": 24,
   "metadata": {},
   "outputs": [
    {
     "name": "stdout",
     "output_type": "stream",
     "text": [
      "Количество клиентов в сегменте: 518\n",
      "Количество отточных клиентов в сегменте: 240\n",
      "Уровень оттока в сегменте: 46.33%\n"
     ]
    }
   ],
   "source": [
    "wealthy_segment = data.query('balance>=1300000 and equity>4')\n",
    "print(f'Количество клиентов в сегменте: {wealthy_segment[\"id\"].count()}')\n",
    "print(f'Количество отточных клиентов в сегменте: {wealthy_segment.query(\"churn==1\")[\"id\"].count()}')\n",
    "print(f'Уровень оттока в сегменте: {wealthy_segment[\"churn\"].mean():.2%}')"
   ]
  },
  {
   "cell_type": "markdown",
   "metadata": {},
   "source": [
    "**Сегмент финансово надежных клиентов:** Клиенты в возрасте от 51 до 60 лет, с баллами кредитного скоринга от 830 до 940 и зарплатой более 100000 рублей. Люди, как правило, успешвие достигнуть определенных успехов в карьере, имеющие хорошую зарплату и хороший шанс на одобрение кредита, им важно чтобы взаимодействие с банком было простым, быстрым и понятным."
   ]
  },
  {
   "cell_type": "code",
   "execution_count": 25,
   "metadata": {},
   "outputs": [
    {
     "name": "stdout",
     "output_type": "stream",
     "text": [
      "Количество клиентов в сегменте: 503\n",
      "Количество отточных клиентов в сегменте: 165\n",
      "Уровень оттока в сегменте: 32.80%\n"
     ]
    }
   ],
   "source": [
    "reliable_segment = data.query('50<age<=60 and 830<=score<=940 and 100000<estimated_salary')\n",
    "print(f'Количество клиентов в сегменте: {reliable_segment[\"id\"].count()}')\n",
    "print(f'Количество отточных клиентов в сегменте: {reliable_segment.query(\"churn==1\")[\"id\"].count()}')\n",
    "print(f'Уровень оттока в сегменте: {reliable_segment[\"churn\"].mean():.2%}')"
   ]
  },
  {
   "cell_type": "markdown",
   "metadata": {},
   "source": [
    "**Сегмент продвинутых клиентов:** Мужчины в возрасте от 26 до 36 лет, из Ярославля, пользующиеся 2 и более продуктами. Эти ребята из крупного города, разбирающиеся в банковских продуктах, ценят функциональность и надежность."
   ]
  },
  {
   "cell_type": "code",
   "execution_count": 26,
   "metadata": {},
   "outputs": [
    {
     "name": "stdout",
     "output_type": "stream",
     "text": [
      "Количество клиентов в сегменте: 744\n",
      "Количество отточных клиентов в сегменте: 262\n",
      "Уровень оттока в сегменте: 35.22%\n"
     ]
    }
   ],
   "source": [
    "advanced_segment = data.query('gender==\"М\" and city==\"Ярославль\" and 26<=age<=36 and products>=2')\n",
    "print(f'Количество клиентов в сегменте: {advanced_segment[\"id\"].count()}')\n",
    "print(f'Количество отточных клиентов в сегменте: {advanced_segment.query(\"churn==1\")[\"id\"].count()}')\n",
    "print(f'Уровень оттока в сегменте: {advanced_segment[\"churn\"].mean():.2%}')"
   ]
  },
  {
   "cell_type": "markdown",
   "metadata": {},
   "source": [
    "**Наиболее рисковый сегмент:** Эмпирическим путем выявлена группа особо склонных к оттоку клиентов - мужчины с балансом от 450000 рублей и более чем 2 продуктами. Нужно приложить большие усилия чтобы их удержать."
   ]
  },
  {
   "cell_type": "code",
   "execution_count": 27,
   "metadata": {},
   "outputs": [
    {
     "name": "stdout",
     "output_type": "stream",
     "text": [
      "Количество клиентов в сегменте: 507\n",
      "Количество отточных клиентов в сегменте: 296\n",
      "Уровень оттока в сегменте: 58.38%\n"
     ]
    }
   ],
   "source": [
    "risky_segment = data.query('balance>=450000 and products>2 and gender==\"М\"')\n",
    "print(f'Количество клиентов в сегменте: {risky_segment[\"id\"].count()}')\n",
    "print(f'Количество отточных клиентов в сегменте: {risky_segment.query(\"churn==1\")[\"id\"].count()}')\n",
    "print(f'Уровень оттока в сегменте: {risky_segment[\"churn\"].mean():.2%}')"
   ]
  },
  {
   "cell_type": "markdown",
   "metadata": {},
   "source": [
    "<div class=\"alert alert-block alert-success\">✔️\n",
    "    \n",
    "\n",
    "__Комментарий от тимлида №1__\n",
    "\n",
    "Отличные и сильные сегменты"
   ]
  },
  {
   "cell_type": "markdown",
   "metadata": {},
   "source": [
    "## Приоритизация сегментов"
   ]
  },
  {
   "cell_type": "markdown",
   "metadata": {},
   "source": [
    "Так как отдел маректинга включает только двух работников, у них нет автоматизированных систем, все мероприятия, рассылки и агитации выполняются ручным трудом, важно приоритизировать сегменты, чтобы маркетинг знал, на что обратить внимание в первую очередь в случае, если ресурсов маркетинга не хватит на охват всех выделенных сегментов.\n",
    "\n",
    "В первую следует обработать сегмент **обеспеченных клиентов**, так как они могут принести банку высокую прибыль, затем заняться сохранением **наиболее рисковых клиентов**, иначе более половины из них вскоре разбежится. После это можно заняться сегментами **финансово надежных** и **продвинутых клиентов**."
   ]
  },
  {
   "cell_type": "markdown",
   "metadata": {},
   "source": [
    "<div class=\"alert alert-block alert-success\">✔️\n",
    "    \n",
    "\n",
    "__Комментарий от тимлида №1__\n",
    "\n",
    "С логикой приоритизации согласен"
   ]
  },
  {
   "cell_type": "markdown",
   "metadata": {},
   "source": [
    "## Формирование рекомендаций"
   ]
  },
  {
   "cell_type": "markdown",
   "metadata": {},
   "source": [
    "Чтобы сохранить клиентов из **Сегмента обеспеченных клиентов**, следует предложить им повышенный процент для вкладов и прочих счетов, который определенным образом увеличивается с увеличением суммы средств на счету. Также клиентов этого сегмента могут заинтересовать услуги страхования, открытие инвестиционного и бизнес-счетов.\n",
    "\n",
    "Клиентам **Сегмента финансово надежных клиентов** не нужны изменения - они были бы рады продолжать пользоваться услугами Метанпромбанка, но что-то их отталкивает. Хорошим решением будет назначить таким клиентам личного менеджера, который должен будет позвонить им с целью знакомства, выяснить все ли их устраивает, объяснить как пользоваться основными функциями приложения. Можно предложить им кредит на выгодных условиях.\n",
    "\n",
    "Клиентов **Сегмента продвинутых клиентов** можно удержать широким функционалом приложения, специальными предложениями вроде скидок и кешбека при покупках в популярных заведениях Ярославля, рассказать им про продукты банка, которыми они еще не успели воспользоваться.\n",
    "\n",
    "Для клиентов \"Наиболее рискового сегмента\" придется применить индивидуальный подход. Выявить их потребности и проблемы, возникшие при взаимодействии с банком, на их основании предложить более выгодные условия в пределах разумного. Если для применения такого подхода не хватает ресурсов, можно наоборот, предложить таким клиентам самые общие временные бонусы: временное снижение комиссии на снятие средств, временное снижение стоимости обеспечения банковского обслуживания, временный повышенный кешбак."
   ]
  },
  {
   "cell_type": "markdown",
   "metadata": {},
   "source": [
    "<div class=\"alert alert-block alert-success\">✔️\n",
    "    \n",
    "\n",
    "__Комментарий от тимлида №1__\n",
    "\n",
    "Итоговый вывод завершает твое исследование. Представлены основные результаты полученные в ходе анализа, но самое главное - даны рекомендации по сегментам. Это важное качество для аналитика. Развивай его и дальше"
   ]
  },
  {
   "cell_type": "markdown",
   "metadata": {},
   "source": []
  },
  {
   "cell_type": "markdown",
   "metadata": {},
   "source": []
  },
  {
   "cell_type": "markdown",
   "metadata": {},
   "source": [
    "<div class=\"alert alert-block alert-warning\">📝\n",
    "Комментарий от тимлида №1 </b>\n",
    "\n",
    "\n",
    "\n",
    "Итог ревью - ты проделал хорошую работу! Все расчеты корректные, грамотная интерпретация полученных результатов! У тебя есть понимание данного процесса. Но есть некоторые моменты которые тебе предстоит доработать, чтобы я смог принять твой проект. Если возникнут вопросы - обязательно задавай. Буду ждать!\n",
    "\n",
    "ЗЫ. На следующую итерацию присылай презентацию\n",
    "\n",
    "---\n",
    "\n",
    "Нужно поправить:\n",
    "\n",
    "1) Корреляция\n",
    "\n",
    "----\n",
    "\n",
    "\n",
    "Если у тебя будут какие-то вопросы по моим комментариям - обязательно пиши! Буду ждать работу на повторное ревью :)</div>"
   ]
  },
  {
   "cell_type": "markdown",
   "metadata": {},
   "source": [
    "<div class=\"alert alert-info\"> <b>Комментарии студента:</b> Ошибку исправил, презентацию прикрепил сверху под описанием проекта, я оставил 4(5, включая этот) синих комментариев, ответь на них плз, можно просто \"Да\" или \"Нет\") </div>"
   ]
  },
  {
   "cell_type": "markdown",
   "metadata": {},
   "source": [
    "<div class=\"alert alert-block alert-success\">✔️\n",
    "    \n",
    "\n",
    "__Комментарий от тимлида №2__\n",
    "\n",
    "От себя хочу порекомендовать тебе отличную книгу про язык Python. Она очень классная (можно купить как новую, так и на Авито попадается. Вот ссылка на pdf этой книги)\n",
    "    \n",
    "https://monster-book.com/avtomatizaciya-zadach-s-python\n",
    "    \n",
    "---\n",
    "    \n",
    "\n",
    "\n",
    "Все замечания учтены. Успехов на SQL!\n",
    "</div>"
   ]
  }
 ],
 "metadata": {
  "ExecuteTimeLog": [
   {
    "duration": 371,
    "start_time": "2024-10-04T01:46:16.789Z"
   },
   {
    "duration": 160,
    "start_time": "2024-10-04T01:48:21.107Z"
   },
   {
    "duration": 62,
    "start_time": "2024-10-04T01:48:40.376Z"
   },
   {
    "duration": 41,
    "start_time": "2024-10-04T01:48:42.456Z"
   },
   {
    "duration": 12,
    "start_time": "2024-10-04T01:48:42.886Z"
   },
   {
    "duration": 38,
    "start_time": "2024-10-04T01:48:54.290Z"
   },
   {
    "duration": 12,
    "start_time": "2024-10-04T01:48:54.830Z"
   },
   {
    "duration": 3,
    "start_time": "2024-10-04T02:00:26.466Z"
   },
   {
    "duration": 38,
    "start_time": "2024-10-04T02:03:06.735Z"
   },
   {
    "duration": 13,
    "start_time": "2024-10-04T02:03:22.782Z"
   },
   {
    "duration": 1721,
    "start_time": "2024-10-04T02:06:51.624Z"
   },
   {
    "duration": 1252,
    "start_time": "2024-10-04T02:10:36.844Z"
   },
   {
    "duration": 17,
    "start_time": "2024-10-04T02:12:22.787Z"
   },
   {
    "duration": 514,
    "start_time": "2024-10-04T02:12:37.673Z"
   },
   {
    "duration": 1472,
    "start_time": "2024-10-04T02:12:42.463Z"
   },
   {
    "duration": 197,
    "start_time": "2024-10-04T02:14:35.951Z"
   },
   {
    "duration": 1342,
    "start_time": "2024-10-04T02:15:19.743Z"
   },
   {
    "duration": 3,
    "start_time": "2024-10-04T02:15:39.248Z"
   },
   {
    "duration": 1284,
    "start_time": "2024-10-04T02:15:42.361Z"
   },
   {
    "duration": 1421,
    "start_time": "2024-10-04T02:16:00.497Z"
   },
   {
    "duration": 1939,
    "start_time": "2024-10-04T02:16:42.936Z"
   },
   {
    "duration": 2004,
    "start_time": "2024-10-04T02:17:17.954Z"
   },
   {
    "duration": 69,
    "start_time": "2024-10-04T02:19:43.967Z"
   },
   {
    "duration": 20,
    "start_time": "2024-10-04T02:19:49.100Z"
   },
   {
    "duration": 1260,
    "start_time": "2024-10-04T02:21:06.041Z"
   },
   {
    "duration": 1160,
    "start_time": "2024-10-04T02:21:32.461Z"
   },
   {
    "duration": 1910,
    "start_time": "2024-10-04T02:22:25.675Z"
   },
   {
    "duration": 2175,
    "start_time": "2024-10-04T02:22:48.189Z"
   },
   {
    "duration": 1734,
    "start_time": "2024-10-04T02:23:15.624Z"
   },
   {
    "duration": 6,
    "start_time": "2024-10-04T02:42:17.614Z"
   },
   {
    "duration": 2217,
    "start_time": "2024-10-04T03:08:39.794Z"
   },
   {
    "duration": 2178,
    "start_time": "2024-10-04T03:08:48.534Z"
   },
   {
    "duration": 2137,
    "start_time": "2024-10-04T03:08:54.380Z"
   },
   {
    "duration": 2000,
    "start_time": "2024-10-04T03:09:05.580Z"
   },
   {
    "duration": 2108,
    "start_time": "2024-10-04T03:09:36.054Z"
   },
   {
    "duration": 2057,
    "start_time": "2024-10-04T03:09:41.871Z"
   },
   {
    "duration": 2015,
    "start_time": "2024-10-04T03:09:48.275Z"
   },
   {
    "duration": 6,
    "start_time": "2024-10-04T03:12:09.423Z"
   },
   {
    "duration": 7,
    "start_time": "2024-10-04T03:12:14.296Z"
   },
   {
    "duration": 7,
    "start_time": "2024-10-04T03:12:30.332Z"
   },
   {
    "duration": 7,
    "start_time": "2024-10-04T03:12:36.154Z"
   },
   {
    "duration": 87,
    "start_time": "2024-10-04T03:13:47.672Z"
   },
   {
    "duration": 49,
    "start_time": "2024-10-05T01:17:41.246Z"
   },
   {
    "duration": 1357,
    "start_time": "2024-10-05T01:17:46.352Z"
   },
   {
    "duration": 168,
    "start_time": "2024-10-05T01:17:47.711Z"
   },
   {
    "duration": 18,
    "start_time": "2024-10-05T01:17:47.881Z"
   },
   {
    "duration": 13,
    "start_time": "2024-10-05T01:17:47.901Z"
   },
   {
    "duration": 49,
    "start_time": "2024-10-05T01:17:47.916Z"
   },
   {
    "duration": 1994,
    "start_time": "2024-10-05T01:17:47.967Z"
   },
   {
    "duration": 21,
    "start_time": "2024-10-05T01:17:49.964Z"
   },
   {
    "duration": 5,
    "start_time": "2024-10-05T01:34:33.157Z"
   },
   {
    "duration": 22,
    "start_time": "2024-10-05T01:34:37.327Z"
   },
   {
    "duration": 103,
    "start_time": "2024-10-05T01:45:07.673Z"
   },
   {
    "duration": 19,
    "start_time": "2024-10-05T01:45:16.841Z"
   },
   {
    "duration": 18,
    "start_time": "2024-10-05T01:46:29.046Z"
   },
   {
    "duration": 17,
    "start_time": "2024-10-05T01:46:45.338Z"
   },
   {
    "duration": 9,
    "start_time": "2024-10-05T01:48:51.265Z"
   },
   {
    "duration": 17,
    "start_time": "2024-10-05T01:48:57.641Z"
   },
   {
    "duration": 22,
    "start_time": "2024-10-05T01:50:30.799Z"
   },
   {
    "duration": 26,
    "start_time": "2024-10-05T01:50:45.847Z"
   },
   {
    "duration": 31,
    "start_time": "2024-10-05T01:50:57.223Z"
   },
   {
    "duration": 767,
    "start_time": "2024-10-05T01:51:21.914Z"
   },
   {
    "duration": 31,
    "start_time": "2024-10-05T01:51:32.081Z"
   },
   {
    "duration": 30,
    "start_time": "2024-10-05T01:52:27.411Z"
   },
   {
    "duration": 30,
    "start_time": "2024-10-05T01:52:34.662Z"
   },
   {
    "duration": 19,
    "start_time": "2024-10-05T01:54:24.487Z"
   },
   {
    "duration": 24,
    "start_time": "2024-10-05T01:54:30.290Z"
   },
   {
    "duration": 11,
    "start_time": "2024-10-05T01:55:11.766Z"
   },
   {
    "duration": 7,
    "start_time": "2024-10-05T01:55:17.500Z"
   },
   {
    "duration": 7,
    "start_time": "2024-10-05T01:55:23.039Z"
   },
   {
    "duration": 11,
    "start_time": "2024-10-05T01:55:28.184Z"
   },
   {
    "duration": 9,
    "start_time": "2024-10-05T01:55:33.812Z"
   },
   {
    "duration": 12,
    "start_time": "2024-10-05T01:55:40.255Z"
   },
   {
    "duration": 8,
    "start_time": "2024-10-05T01:56:49.554Z"
   },
   {
    "duration": 7,
    "start_time": "2024-10-05T01:57:38.638Z"
   },
   {
    "duration": 7,
    "start_time": "2024-10-05T01:57:48.786Z"
   },
   {
    "duration": 14,
    "start_time": "2024-10-05T01:58:01.002Z"
   },
   {
    "duration": 15,
    "start_time": "2024-10-05T01:58:37.649Z"
   },
   {
    "duration": 15,
    "start_time": "2024-10-05T01:59:01.849Z"
   },
   {
    "duration": 15,
    "start_time": "2024-10-05T01:59:24.003Z"
   },
   {
    "duration": 14,
    "start_time": "2024-10-05T01:59:36.415Z"
   },
   {
    "duration": 12,
    "start_time": "2024-10-05T02:02:10.835Z"
   },
   {
    "duration": 7,
    "start_time": "2024-10-05T02:02:22.726Z"
   },
   {
    "duration": 8,
    "start_time": "2024-10-05T02:03:53.946Z"
   },
   {
    "duration": 38,
    "start_time": "2024-10-05T02:09:11.517Z"
   },
   {
    "duration": 40,
    "start_time": "2024-10-05T02:12:16.347Z"
   },
   {
    "duration": 34,
    "start_time": "2024-10-05T02:32:17.180Z"
   },
   {
    "duration": 32,
    "start_time": "2024-10-05T02:32:21.866Z"
   },
   {
    "duration": 31,
    "start_time": "2024-10-05T02:33:03.542Z"
   },
   {
    "duration": 197,
    "start_time": "2024-10-05T02:33:54.322Z"
   },
   {
    "duration": 37,
    "start_time": "2024-10-05T02:34:03.866Z"
   },
   {
    "duration": 31,
    "start_time": "2024-10-05T02:34:16.393Z"
   },
   {
    "duration": 32,
    "start_time": "2024-10-05T02:37:17.399Z"
   },
   {
    "duration": 37,
    "start_time": "2024-10-05T02:37:21.824Z"
   },
   {
    "duration": 36,
    "start_time": "2024-10-05T02:37:34.234Z"
   },
   {
    "duration": 30,
    "start_time": "2024-10-05T02:37:49.377Z"
   },
   {
    "duration": 32,
    "start_time": "2024-10-05T02:38:10.617Z"
   },
   {
    "duration": 25,
    "start_time": "2024-10-05T02:40:00.251Z"
   },
   {
    "duration": 36,
    "start_time": "2024-10-05T02:40:08.751Z"
   },
   {
    "duration": 35,
    "start_time": "2024-10-05T02:40:16.687Z"
   },
   {
    "duration": 41,
    "start_time": "2024-10-05T02:40:38.893Z"
   },
   {
    "duration": 26,
    "start_time": "2024-10-05T02:40:51.203Z"
   },
   {
    "duration": 29,
    "start_time": "2024-10-05T02:41:15.308Z"
   },
   {
    "duration": 29,
    "start_time": "2024-10-05T02:41:44.513Z"
   },
   {
    "duration": 31,
    "start_time": "2024-10-05T02:41:47.852Z"
   },
   {
    "duration": 32,
    "start_time": "2024-10-05T02:41:57.823Z"
   },
   {
    "duration": 31,
    "start_time": "2024-10-05T02:43:01.231Z"
   },
   {
    "duration": 32,
    "start_time": "2024-10-05T02:43:18.720Z"
   },
   {
    "duration": 39,
    "start_time": "2024-10-05T02:44:51.133Z"
   },
   {
    "duration": 30,
    "start_time": "2024-10-05T02:44:55.575Z"
   },
   {
    "duration": 33,
    "start_time": "2024-10-05T02:45:31.032Z"
   },
   {
    "duration": 25,
    "start_time": "2024-10-05T02:45:58.295Z"
   },
   {
    "duration": 26,
    "start_time": "2024-10-05T02:46:04.799Z"
   },
   {
    "duration": 25,
    "start_time": "2024-10-05T02:46:13.240Z"
   },
   {
    "duration": 35,
    "start_time": "2024-10-05T02:46:27.582Z"
   },
   {
    "duration": 26,
    "start_time": "2024-10-05T02:46:35.928Z"
   },
   {
    "duration": 29,
    "start_time": "2024-10-05T02:46:40.864Z"
   },
   {
    "duration": 27,
    "start_time": "2024-10-05T02:46:53.415Z"
   },
   {
    "duration": 30,
    "start_time": "2024-10-05T02:46:57.418Z"
   },
   {
    "duration": 31,
    "start_time": "2024-10-05T02:47:02.360Z"
   },
   {
    "duration": 31,
    "start_time": "2024-10-05T02:48:10.239Z"
   },
   {
    "duration": 30,
    "start_time": "2024-10-05T02:48:18.067Z"
   },
   {
    "duration": 32,
    "start_time": "2024-10-05T02:49:20.225Z"
   },
   {
    "duration": 31,
    "start_time": "2024-10-05T02:49:58.981Z"
   },
   {
    "duration": 31,
    "start_time": "2024-10-05T02:50:05.971Z"
   },
   {
    "duration": 36,
    "start_time": "2024-10-05T02:52:06.338Z"
   },
   {
    "duration": 40,
    "start_time": "2024-10-05T02:53:50.649Z"
   },
   {
    "duration": 32,
    "start_time": "2024-10-05T02:54:34.849Z"
   },
   {
    "duration": 37,
    "start_time": "2024-10-05T02:55:45.464Z"
   },
   {
    "duration": 10,
    "start_time": "2024-10-05T03:06:06.194Z"
   },
   {
    "duration": 3,
    "start_time": "2024-10-05T03:06:07.777Z"
   },
   {
    "duration": 19,
    "start_time": "2024-10-05T03:06:08.236Z"
   },
   {
    "duration": 5,
    "start_time": "2024-10-05T03:07:32.877Z"
   },
   {
    "duration": 8,
    "start_time": "2024-10-05T03:07:36.167Z"
   },
   {
    "duration": 7,
    "start_time": "2024-10-05T03:07:41.234Z"
   },
   {
    "duration": 6,
    "start_time": "2024-10-05T03:07:50.127Z"
   },
   {
    "duration": 24,
    "start_time": "2024-10-05T03:07:52.080Z"
   },
   {
    "duration": 14,
    "start_time": "2024-10-05T03:08:01.365Z"
   },
   {
    "duration": 21,
    "start_time": "2024-10-05T03:13:31.217Z"
   },
   {
    "duration": 21,
    "start_time": "2024-10-05T03:16:45.916Z"
   },
   {
    "duration": 13,
    "start_time": "2024-10-05T03:18:02.444Z"
   },
   {
    "duration": 7,
    "start_time": "2024-10-05T03:18:55.219Z"
   },
   {
    "duration": 3,
    "start_time": "2024-10-05T03:19:49.786Z"
   },
   {
    "duration": 6,
    "start_time": "2024-10-05T03:19:54.220Z"
   },
   {
    "duration": 20,
    "start_time": "2024-10-05T03:19:59.457Z"
   },
   {
    "duration": 14,
    "start_time": "2024-10-05T05:00:44.253Z"
   },
   {
    "duration": 1097,
    "start_time": "2024-10-05T05:00:55.127Z"
   },
   {
    "duration": 7,
    "start_time": "2024-10-05T05:01:03.393Z"
   },
   {
    "duration": 1172,
    "start_time": "2024-10-05T05:01:04.329Z"
   },
   {
    "duration": 6,
    "start_time": "2024-10-05T05:01:35.355Z"
   },
   {
    "duration": 6,
    "start_time": "2024-10-05T05:01:45.458Z"
   },
   {
    "duration": 6,
    "start_time": "2024-10-05T05:01:47.085Z"
   },
   {
    "duration": 21,
    "start_time": "2024-10-05T05:01:50.645Z"
   },
   {
    "duration": 5,
    "start_time": "2024-10-05T05:02:49.917Z"
   },
   {
    "duration": 6,
    "start_time": "2024-10-05T05:02:50.692Z"
   },
   {
    "duration": 19,
    "start_time": "2024-10-05T05:02:54.362Z"
   },
   {
    "duration": 5,
    "start_time": "2024-10-05T05:03:08.746Z"
   },
   {
    "duration": 5,
    "start_time": "2024-10-05T05:03:13.280Z"
   },
   {
    "duration": 5,
    "start_time": "2024-10-05T05:05:51.272Z"
   },
   {
    "duration": 18,
    "start_time": "2024-10-05T05:06:04.788Z"
   },
   {
    "duration": 64,
    "start_time": "2024-10-05T05:08:47.535Z"
   },
   {
    "duration": 89,
    "start_time": "2024-10-05T05:08:54.349Z"
   },
   {
    "duration": 19,
    "start_time": "2024-10-05T05:09:06.113Z"
   },
   {
    "duration": 17,
    "start_time": "2024-10-05T05:09:15.710Z"
   },
   {
    "duration": 98,
    "start_time": "2024-10-05T05:09:21.066Z"
   },
   {
    "duration": 15,
    "start_time": "2024-10-05T05:09:23.625Z"
   },
   {
    "duration": 20,
    "start_time": "2024-10-05T05:09:26.848Z"
   },
   {
    "duration": 12,
    "start_time": "2024-10-05T05:10:21.104Z"
   },
   {
    "duration": 12,
    "start_time": "2024-10-05T05:11:03.094Z"
   },
   {
    "duration": 11,
    "start_time": "2024-10-05T05:11:21.152Z"
   },
   {
    "duration": 15,
    "start_time": "2024-10-05T05:12:19.855Z"
   },
   {
    "duration": 18,
    "start_time": "2024-10-05T05:12:57.220Z"
   },
   {
    "duration": 19,
    "start_time": "2024-10-05T05:13:29.530Z"
   },
   {
    "duration": 16,
    "start_time": "2024-10-05T05:25:13.823Z"
   },
   {
    "duration": 15,
    "start_time": "2024-10-05T05:29:01.559Z"
   },
   {
    "duration": 10,
    "start_time": "2024-10-05T05:29:15.201Z"
   },
   {
    "duration": 22,
    "start_time": "2024-10-05T05:29:32.596Z"
   },
   {
    "duration": 14,
    "start_time": "2024-10-05T05:33:01.175Z"
   },
   {
    "duration": 18,
    "start_time": "2024-10-05T05:33:43.222Z"
   },
   {
    "duration": 13,
    "start_time": "2024-10-05T05:34:14.839Z"
   },
   {
    "duration": 6,
    "start_time": "2024-10-05T05:35:54.794Z"
   },
   {
    "duration": 7,
    "start_time": "2024-10-05T05:35:56.331Z"
   },
   {
    "duration": 18,
    "start_time": "2024-10-05T05:35:58.335Z"
   },
   {
    "duration": 1185,
    "start_time": "2024-10-05T05:49:47.516Z"
   },
   {
    "duration": 1160,
    "start_time": "2024-10-05T05:49:55.631Z"
   },
   {
    "duration": 41,
    "start_time": "2024-10-05T05:50:00.834Z"
   },
   {
    "duration": 35,
    "start_time": "2024-10-05T05:50:26.318Z"
   },
   {
    "duration": 34,
    "start_time": "2024-10-05T05:51:58.109Z"
   },
   {
    "duration": 34,
    "start_time": "2024-10-05T05:52:08.339Z"
   },
   {
    "duration": 34,
    "start_time": "2024-10-05T05:52:27.689Z"
   },
   {
    "duration": 1190,
    "start_time": "2024-10-05T05:55:05.559Z"
   },
   {
    "duration": 33,
    "start_time": "2024-10-05T05:55:16.050Z"
   },
   {
    "duration": 1246,
    "start_time": "2024-10-05T06:01:37.384Z"
   },
   {
    "duration": 44,
    "start_time": "2024-10-05T06:01:48.253Z"
   },
   {
    "duration": 302,
    "start_time": "2024-10-05T06:02:09.302Z"
   },
   {
    "duration": 32,
    "start_time": "2024-10-05T06:02:17.788Z"
   },
   {
    "duration": 33,
    "start_time": "2024-10-05T06:02:52.492Z"
   },
   {
    "duration": 34,
    "start_time": "2024-10-05T06:02:55.834Z"
   },
   {
    "duration": 41,
    "start_time": "2024-10-05T06:04:32.935Z"
   },
   {
    "duration": 34,
    "start_time": "2024-10-05T06:05:17.486Z"
   },
   {
    "duration": 32,
    "start_time": "2024-10-05T06:05:47.800Z"
   },
   {
    "duration": 33,
    "start_time": "2024-10-05T06:12:04.111Z"
   },
   {
    "duration": 37,
    "start_time": "2024-10-05T06:12:20.291Z"
   },
   {
    "duration": 36,
    "start_time": "2024-10-05T06:16:29.142Z"
   },
   {
    "duration": 40,
    "start_time": "2024-10-05T06:17:53.891Z"
   },
   {
    "duration": 33,
    "start_time": "2024-10-05T06:18:15.056Z"
   },
   {
    "duration": 33,
    "start_time": "2024-10-05T06:21:40.066Z"
   },
   {
    "duration": 33,
    "start_time": "2024-10-05T06:21:44.402Z"
   },
   {
    "duration": 35,
    "start_time": "2024-10-05T06:21:47.215Z"
   },
   {
    "duration": 37,
    "start_time": "2024-10-05T06:22:04.455Z"
   },
   {
    "duration": 1237,
    "start_time": "2024-10-05T06:22:47.831Z"
   },
   {
    "duration": 34,
    "start_time": "2024-10-05T06:22:58.561Z"
   },
   {
    "duration": 32,
    "start_time": "2024-10-05T06:23:06.661Z"
   },
   {
    "duration": 102,
    "start_time": "2024-10-05T06:23:33.874Z"
   },
   {
    "duration": 33,
    "start_time": "2024-10-05T06:23:40.970Z"
   },
   {
    "duration": 35,
    "start_time": "2024-10-05T06:24:01.887Z"
   },
   {
    "duration": 40,
    "start_time": "2024-10-05T06:25:14.238Z"
   },
   {
    "duration": 41,
    "start_time": "2024-10-05T06:26:20.710Z"
   },
   {
    "duration": 38,
    "start_time": "2024-10-05T06:26:32.010Z"
   },
   {
    "duration": 32,
    "start_time": "2024-10-05T06:29:45.951Z"
   },
   {
    "duration": 55,
    "start_time": "2024-10-05T06:29:50.644Z"
   },
   {
    "duration": 36,
    "start_time": "2024-10-05T06:31:09.983Z"
   },
   {
    "duration": 37,
    "start_time": "2024-10-05T06:31:13.343Z"
   },
   {
    "duration": 39,
    "start_time": "2024-10-05T06:31:16.009Z"
   },
   {
    "duration": 41,
    "start_time": "2024-10-05T06:31:48.589Z"
   },
   {
    "duration": 39,
    "start_time": "2024-10-05T06:32:29.102Z"
   },
   {
    "duration": 41,
    "start_time": "2024-10-05T06:32:44.299Z"
   },
   {
    "duration": 35,
    "start_time": "2024-10-05T06:32:48.318Z"
   },
   {
    "duration": 49,
    "start_time": "2024-10-05T06:32:54.847Z"
   },
   {
    "duration": 45,
    "start_time": "2024-10-05T06:33:04.148Z"
   },
   {
    "duration": 38,
    "start_time": "2024-10-05T06:33:09.439Z"
   },
   {
    "duration": 39,
    "start_time": "2024-10-05T06:33:25.721Z"
   },
   {
    "duration": 1213,
    "start_time": "2024-10-05T06:42:14.239Z"
   },
   {
    "duration": 35,
    "start_time": "2024-10-05T06:42:58.597Z"
   },
   {
    "duration": 52,
    "start_time": "2024-10-05T06:43:08.610Z"
   },
   {
    "duration": 35,
    "start_time": "2024-10-05T06:43:40.349Z"
   },
   {
    "duration": 37,
    "start_time": "2024-10-05T06:44:03.545Z"
   },
   {
    "duration": 36,
    "start_time": "2024-10-05T06:44:37.869Z"
   },
   {
    "duration": 70,
    "start_time": "2024-10-05T06:46:41.679Z"
   },
   {
    "duration": 37,
    "start_time": "2024-10-05T06:46:46.413Z"
   },
   {
    "duration": 35,
    "start_time": "2024-10-05T06:47:17.933Z"
   },
   {
    "duration": 36,
    "start_time": "2024-10-05T06:47:40.674Z"
   },
   {
    "duration": 38,
    "start_time": "2024-10-05T06:47:57.893Z"
   },
   {
    "duration": 37,
    "start_time": "2024-10-05T06:52:11.692Z"
   },
   {
    "duration": 39,
    "start_time": "2024-10-05T07:04:49.057Z"
   },
   {
    "duration": 7,
    "start_time": "2024-10-05T07:17:59.201Z"
   },
   {
    "duration": 1572,
    "start_time": "2024-10-05T07:41:45.468Z"
   },
   {
    "duration": 1217,
    "start_time": "2024-10-05T07:42:01.304Z"
   },
   {
    "duration": 6,
    "start_time": "2024-10-05T07:42:07.391Z"
   },
   {
    "duration": 23,
    "start_time": "2024-10-05T07:42:08.180Z"
   },
   {
    "duration": 20,
    "start_time": "2024-10-05T07:42:35.449Z"
   },
   {
    "duration": 28,
    "start_time": "2024-10-05T07:43:13.432Z"
   },
   {
    "duration": 12,
    "start_time": "2024-10-05T07:54:12.567Z"
   },
   {
    "duration": 21,
    "start_time": "2024-10-05T07:54:18.215Z"
   },
   {
    "duration": 29,
    "start_time": "2024-10-05T08:44:25.967Z"
   },
   {
    "duration": 12,
    "start_time": "2024-10-05T08:48:07.075Z"
   },
   {
    "duration": 26,
    "start_time": "2024-10-05T08:48:11.673Z"
   },
   {
    "duration": 19,
    "start_time": "2024-10-05T08:48:23.446Z"
   },
   {
    "duration": 3,
    "start_time": "2024-10-05T09:27:12.390Z"
   },
   {
    "duration": 3,
    "start_time": "2024-10-05T09:27:39.722Z"
   },
   {
    "duration": 314,
    "start_time": "2024-10-05T09:39:10.856Z"
   },
   {
    "duration": 319,
    "start_time": "2024-10-05T09:39:50.332Z"
   },
   {
    "duration": 59,
    "start_time": "2024-10-05T15:21:24.078Z"
   },
   {
    "duration": 1513,
    "start_time": "2024-10-05T15:21:29.823Z"
   },
   {
    "duration": 170,
    "start_time": "2024-10-05T15:21:31.338Z"
   },
   {
    "duration": 17,
    "start_time": "2024-10-05T15:21:31.510Z"
   },
   {
    "duration": 11,
    "start_time": "2024-10-05T15:21:31.529Z"
   },
   {
    "duration": 60,
    "start_time": "2024-10-05T15:21:31.542Z"
   },
   {
    "duration": 2103,
    "start_time": "2024-10-05T15:21:31.604Z"
   },
   {
    "duration": 7,
    "start_time": "2024-10-05T15:21:33.708Z"
   },
   {
    "duration": 8,
    "start_time": "2024-10-05T15:21:33.716Z"
   },
   {
    "duration": 74,
    "start_time": "2024-10-05T15:21:33.725Z"
   },
   {
    "duration": 28,
    "start_time": "2024-10-05T15:21:33.801Z"
   },
   {
    "duration": 6,
    "start_time": "2024-10-05T15:21:33.830Z"
   },
   {
    "duration": 53,
    "start_time": "2024-10-05T15:21:33.837Z"
   },
   {
    "duration": 5,
    "start_time": "2024-10-05T15:21:33.892Z"
   },
   {
    "duration": 19,
    "start_time": "2024-10-05T15:21:33.900Z"
   },
   {
    "duration": 21,
    "start_time": "2024-10-05T15:21:33.921Z"
   },
   {
    "duration": 302,
    "start_time": "2024-10-05T15:21:33.955Z"
   },
   {
    "duration": 294,
    "start_time": "2024-10-05T15:21:40.700Z"
   },
   {
    "duration": 328,
    "start_time": "2024-10-05T15:22:32.207Z"
   },
   {
    "duration": 449,
    "start_time": "2024-10-05T15:22:38.504Z"
   },
   {
    "duration": 321,
    "start_time": "2024-10-05T15:25:46.666Z"
   },
   {
    "duration": 292,
    "start_time": "2024-10-05T15:25:50.932Z"
   },
   {
    "duration": 312,
    "start_time": "2024-10-05T15:26:09.576Z"
   },
   {
    "duration": 293,
    "start_time": "2024-10-05T15:26:49.723Z"
   },
   {
    "duration": 303,
    "start_time": "2024-10-05T15:27:19.205Z"
   },
   {
    "duration": 402,
    "start_time": "2024-10-05T15:27:30.623Z"
   },
   {
    "duration": 66,
    "start_time": "2024-10-05T15:30:02.619Z"
   },
   {
    "duration": 126,
    "start_time": "2024-10-05T15:30:07.910Z"
   },
   {
    "duration": 17,
    "start_time": "2024-10-05T15:30:24.201Z"
   },
   {
    "duration": 374,
    "start_time": "2024-10-05T15:34:11.861Z"
   },
   {
    "duration": 340,
    "start_time": "2024-10-05T15:34:22.509Z"
   },
   {
    "duration": 345,
    "start_time": "2024-10-05T15:34:32.267Z"
   },
   {
    "duration": 330,
    "start_time": "2024-10-05T15:34:36.785Z"
   },
   {
    "duration": 448,
    "start_time": "2024-10-05T15:34:51.654Z"
   },
   {
    "duration": 384,
    "start_time": "2024-10-05T15:37:32.095Z"
   },
   {
    "duration": 360,
    "start_time": "2024-10-05T15:37:42.283Z"
   },
   {
    "duration": 341,
    "start_time": "2024-10-05T15:38:33.578Z"
   },
   {
    "duration": 372,
    "start_time": "2024-10-05T15:39:02.644Z"
   },
   {
    "duration": 386,
    "start_time": "2024-10-05T15:42:54.421Z"
   },
   {
    "duration": 249,
    "start_time": "2024-10-05T15:43:05.910Z"
   },
   {
    "duration": 378,
    "start_time": "2024-10-05T15:43:14.545Z"
   },
   {
    "duration": 391,
    "start_time": "2024-10-05T15:43:44.997Z"
   },
   {
    "duration": 391,
    "start_time": "2024-10-05T15:45:07.120Z"
   },
   {
    "duration": 69,
    "start_time": "2024-10-05T15:45:52.800Z"
   },
   {
    "duration": 61,
    "start_time": "2024-10-05T15:45:55.119Z"
   },
   {
    "duration": 64,
    "start_time": "2024-10-05T15:46:03.268Z"
   },
   {
    "duration": 62,
    "start_time": "2024-10-05T15:46:11.634Z"
   },
   {
    "duration": 427,
    "start_time": "2024-10-05T15:46:34.875Z"
   },
   {
    "duration": 382,
    "start_time": "2024-10-05T15:48:08.627Z"
   },
   {
    "duration": 463,
    "start_time": "2024-10-05T15:49:55.878Z"
   },
   {
    "duration": 343,
    "start_time": "2024-10-05T15:50:01.393Z"
   },
   {
    "duration": 340,
    "start_time": "2024-10-05T15:50:11.993Z"
   },
   {
    "duration": 350,
    "start_time": "2024-10-05T15:51:12.046Z"
   },
   {
    "duration": 347,
    "start_time": "2024-10-05T15:51:41.749Z"
   },
   {
    "duration": 434,
    "start_time": "2024-10-05T15:52:02.487Z"
   },
   {
    "duration": 348,
    "start_time": "2024-10-05T15:52:17.707Z"
   },
   {
    "duration": 349,
    "start_time": "2024-10-05T15:52:21.870Z"
   },
   {
    "duration": 327,
    "start_time": "2024-10-05T15:52:26.293Z"
   },
   {
    "duration": 340,
    "start_time": "2024-10-05T15:55:22.153Z"
   },
   {
    "duration": 347,
    "start_time": "2024-10-05T15:55:35.775Z"
   },
   {
    "duration": 443,
    "start_time": "2024-10-05T16:00:25.968Z"
   },
   {
    "duration": 302,
    "start_time": "2024-10-05T16:03:43.446Z"
   },
   {
    "duration": 282,
    "start_time": "2024-10-05T16:04:08.660Z"
   },
   {
    "duration": 324,
    "start_time": "2024-10-05T16:05:18.886Z"
   },
   {
    "duration": 340,
    "start_time": "2024-10-05T16:05:24.515Z"
   },
   {
    "duration": 429,
    "start_time": "2024-10-05T16:05:34.059Z"
   },
   {
    "duration": 1276,
    "start_time": "2024-10-05T16:07:06.702Z"
   },
   {
    "duration": 404,
    "start_time": "2024-10-05T16:07:21.550Z"
   },
   {
    "duration": 491,
    "start_time": "2024-10-05T16:07:34.743Z"
   },
   {
    "duration": 920,
    "start_time": "2024-10-05T16:07:46.457Z"
   },
   {
    "duration": 660,
    "start_time": "2024-10-05T16:07:55.123Z"
   },
   {
    "duration": 275,
    "start_time": "2024-10-05T16:08:03.998Z"
   },
   {
    "duration": 291,
    "start_time": "2024-10-05T16:09:22.419Z"
   },
   {
    "duration": 16,
    "start_time": "2024-10-05T16:12:50.149Z"
   },
   {
    "duration": 5975,
    "start_time": "2024-10-05T16:13:08.558Z"
   },
   {
    "duration": 6704,
    "start_time": "2024-10-05T16:14:02.555Z"
   },
   {
    "duration": 67,
    "start_time": "2024-10-05T16:18:10.241Z"
   },
   {
    "duration": 6316,
    "start_time": "2024-10-05T16:18:21.448Z"
   },
   {
    "duration": 6675,
    "start_time": "2024-10-05T16:18:42.326Z"
   },
   {
    "duration": 6230,
    "start_time": "2024-10-05T16:19:11.423Z"
   },
   {
    "duration": 6634,
    "start_time": "2024-10-05T16:19:36.140Z"
   },
   {
    "duration": 6779,
    "start_time": "2024-10-05T16:20:29.311Z"
   },
   {
    "duration": 6690,
    "start_time": "2024-10-05T16:28:21.287Z"
   },
   {
    "duration": 11402,
    "start_time": "2024-10-05T16:31:28.390Z"
   },
   {
    "duration": 416,
    "start_time": "2024-10-05T16:32:13.153Z"
   },
   {
    "duration": 6413,
    "start_time": "2024-10-05T16:33:24.695Z"
   },
   {
    "duration": 6698,
    "start_time": "2024-10-05T16:33:40.727Z"
   },
   {
    "duration": 6865,
    "start_time": "2024-10-05T16:33:56.029Z"
   },
   {
    "duration": 463,
    "start_time": "2024-10-05T16:34:02.896Z"
   },
   {
    "duration": 682,
    "start_time": "2024-10-05T16:36:19.446Z"
   },
   {
    "duration": 604,
    "start_time": "2024-10-05T16:36:26.203Z"
   },
   {
    "duration": 635,
    "start_time": "2024-10-05T16:39:11.471Z"
   },
   {
    "duration": 69,
    "start_time": "2024-10-05T23:26:42.620Z"
   },
   {
    "duration": 1310,
    "start_time": "2024-10-05T23:26:48.399Z"
   },
   {
    "duration": 164,
    "start_time": "2024-10-05T23:26:49.711Z"
   },
   {
    "duration": 15,
    "start_time": "2024-10-05T23:26:49.877Z"
   },
   {
    "duration": 12,
    "start_time": "2024-10-05T23:26:49.894Z"
   },
   {
    "duration": 47,
    "start_time": "2024-10-05T23:26:49.908Z"
   },
   {
    "duration": 1941,
    "start_time": "2024-10-05T23:26:49.957Z"
   },
   {
    "duration": 6,
    "start_time": "2024-10-05T23:26:51.900Z"
   },
   {
    "duration": 6,
    "start_time": "2024-10-05T23:26:51.907Z"
   },
   {
    "duration": 54,
    "start_time": "2024-10-05T23:26:51.914Z"
   },
   {
    "duration": 5,
    "start_time": "2024-10-05T23:26:51.970Z"
   },
   {
    "duration": 26,
    "start_time": "2024-10-05T23:26:51.976Z"
   },
   {
    "duration": 28,
    "start_time": "2024-10-05T23:26:52.003Z"
   },
   {
    "duration": 6,
    "start_time": "2024-10-05T23:26:52.032Z"
   },
   {
    "duration": 18,
    "start_time": "2024-10-05T23:26:52.040Z"
   },
   {
    "duration": 27,
    "start_time": "2024-10-05T23:26:52.059Z"
   },
   {
    "duration": 5981,
    "start_time": "2024-10-05T23:26:52.087Z"
   },
   {
    "duration": 617,
    "start_time": "2024-10-05T23:26:58.069Z"
   },
   {
    "duration": 512,
    "start_time": "2024-10-05T23:27:49.371Z"
   },
   {
    "duration": 517,
    "start_time": "2024-10-05T23:27:56.158Z"
   },
   {
    "duration": 549,
    "start_time": "2024-10-05T23:28:01.531Z"
   },
   {
    "duration": 530,
    "start_time": "2024-10-05T23:54:58.809Z"
   },
   {
    "duration": 2380,
    "start_time": "2024-10-06T00:02:41.129Z"
   },
   {
    "duration": 1140,
    "start_time": "2024-10-06T00:02:56.175Z"
   },
   {
    "duration": 42,
    "start_time": "2024-10-06T00:02:57.317Z"
   },
   {
    "duration": 32,
    "start_time": "2024-10-06T00:02:57.363Z"
   },
   {
    "duration": 13,
    "start_time": "2024-10-06T00:02:57.398Z"
   },
   {
    "duration": 39,
    "start_time": "2024-10-06T00:02:57.412Z"
   },
   {
    "duration": 1933,
    "start_time": "2024-10-06T00:02:57.453Z"
   },
   {
    "duration": 5,
    "start_time": "2024-10-06T00:02:59.388Z"
   },
   {
    "duration": 21,
    "start_time": "2024-10-06T00:02:59.394Z"
   },
   {
    "duration": 44,
    "start_time": "2024-10-06T00:02:59.417Z"
   },
   {
    "duration": 5,
    "start_time": "2024-10-06T00:02:59.463Z"
   },
   {
    "duration": 5,
    "start_time": "2024-10-06T00:02:59.469Z"
   },
   {
    "duration": 33,
    "start_time": "2024-10-06T00:02:59.475Z"
   },
   {
    "duration": 5,
    "start_time": "2024-10-06T00:02:59.511Z"
   },
   {
    "duration": 12,
    "start_time": "2024-10-06T00:02:59.518Z"
   },
   {
    "duration": 33,
    "start_time": "2024-10-06T00:02:59.532Z"
   },
   {
    "duration": 6095,
    "start_time": "2024-10-06T00:02:59.567Z"
   },
   {
    "duration": 2340,
    "start_time": "2024-10-06T00:03:05.664Z"
   },
   {
    "duration": 2387,
    "start_time": "2024-10-06T00:05:34.818Z"
   },
   {
    "duration": 819,
    "start_time": "2024-10-06T00:30:29.664Z"
   },
   {
    "duration": 673,
    "start_time": "2024-10-06T00:32:58.672Z"
   },
   {
    "duration": 708,
    "start_time": "2024-10-06T00:33:24.160Z"
   },
   {
    "duration": 17,
    "start_time": "2024-10-06T00:33:40.799Z"
   },
   {
    "duration": 723,
    "start_time": "2024-10-06T00:34:42.312Z"
   },
   {
    "duration": 1181,
    "start_time": "2024-10-06T00:34:59.168Z"
   },
   {
    "duration": 44,
    "start_time": "2024-10-06T00:35:00.351Z"
   },
   {
    "duration": 15,
    "start_time": "2024-10-06T00:35:00.397Z"
   },
   {
    "duration": 50,
    "start_time": "2024-10-06T00:35:00.414Z"
   },
   {
    "duration": 40,
    "start_time": "2024-10-06T00:35:00.466Z"
   },
   {
    "duration": 2096,
    "start_time": "2024-10-06T00:35:00.507Z"
   },
   {
    "duration": 7,
    "start_time": "2024-10-06T00:35:02.604Z"
   },
   {
    "duration": 22,
    "start_time": "2024-10-06T00:35:02.612Z"
   },
   {
    "duration": 44,
    "start_time": "2024-10-06T00:35:02.635Z"
   },
   {
    "duration": 5,
    "start_time": "2024-10-06T00:35:02.681Z"
   },
   {
    "duration": 16,
    "start_time": "2024-10-06T00:35:02.688Z"
   },
   {
    "duration": 67,
    "start_time": "2024-10-06T00:35:02.705Z"
   },
   {
    "duration": 6,
    "start_time": "2024-10-06T00:35:02.774Z"
   },
   {
    "duration": 28,
    "start_time": "2024-10-06T00:35:02.782Z"
   },
   {
    "duration": 46,
    "start_time": "2024-10-06T00:35:02.812Z"
   },
   {
    "duration": 6455,
    "start_time": "2024-10-06T00:35:02.866Z"
   },
   {
    "duration": 2472,
    "start_time": "2024-10-06T00:35:09.323Z"
   },
   {
    "duration": 851,
    "start_time": "2024-10-06T00:35:11.797Z"
   },
   {
    "duration": 836,
    "start_time": "2024-10-06T00:35:23.620Z"
   },
   {
    "duration": 1169,
    "start_time": "2024-10-06T00:35:30.770Z"
   },
   {
    "duration": 43,
    "start_time": "2024-10-06T00:35:31.941Z"
   },
   {
    "duration": 19,
    "start_time": "2024-10-06T00:35:31.988Z"
   },
   {
    "duration": 37,
    "start_time": "2024-10-06T00:35:32.010Z"
   },
   {
    "duration": 41,
    "start_time": "2024-10-06T00:35:32.049Z"
   },
   {
    "duration": 2030,
    "start_time": "2024-10-06T00:35:32.091Z"
   },
   {
    "duration": 6,
    "start_time": "2024-10-06T00:35:34.123Z"
   },
   {
    "duration": 30,
    "start_time": "2024-10-06T00:35:34.131Z"
   },
   {
    "duration": 41,
    "start_time": "2024-10-06T00:35:34.163Z"
   },
   {
    "duration": 6,
    "start_time": "2024-10-06T00:35:34.206Z"
   },
   {
    "duration": 15,
    "start_time": "2024-10-06T00:35:34.213Z"
   },
   {
    "duration": 43,
    "start_time": "2024-10-06T00:35:34.230Z"
   },
   {
    "duration": 6,
    "start_time": "2024-10-06T00:35:34.276Z"
   },
   {
    "duration": 76,
    "start_time": "2024-10-06T00:35:34.284Z"
   },
   {
    "duration": 54,
    "start_time": "2024-10-06T00:35:34.361Z"
   },
   {
    "duration": 6206,
    "start_time": "2024-10-06T00:35:34.417Z"
   },
   {
    "duration": 2394,
    "start_time": "2024-10-06T00:35:40.624Z"
   },
   {
    "duration": 819,
    "start_time": "2024-10-06T00:35:43.019Z"
   },
   {
    "duration": 23,
    "start_time": "2024-10-06T00:38:24.533Z"
   },
   {
    "duration": 29,
    "start_time": "2024-10-06T00:38:57.746Z"
   },
   {
    "duration": 20,
    "start_time": "2024-10-06T00:41:23.223Z"
   },
   {
    "duration": 850,
    "start_time": "2024-10-06T00:41:39.906Z"
   },
   {
    "duration": 17,
    "start_time": "2024-10-06T00:43:11.683Z"
   },
   {
    "duration": 22,
    "start_time": "2024-10-06T01:05:38.964Z"
   },
   {
    "duration": 42,
    "start_time": "2024-10-06T01:06:50.211Z"
   },
   {
    "duration": 36,
    "start_time": "2024-10-06T01:07:06.482Z"
   },
   {
    "duration": 1302,
    "start_time": "2024-10-06T01:07:39.817Z"
   },
   {
    "duration": 38,
    "start_time": "2024-10-06T01:07:47.479Z"
   },
   {
    "duration": 52,
    "start_time": "2024-10-06T01:17:18.778Z"
   },
   {
    "duration": 43,
    "start_time": "2024-10-06T01:18:20.570Z"
   },
   {
    "duration": 47,
    "start_time": "2024-10-06T01:18:36.625Z"
   },
   {
    "duration": 55,
    "start_time": "2024-10-06T01:18:43.414Z"
   },
   {
    "duration": 38,
    "start_time": "2024-10-06T01:18:52.667Z"
   },
   {
    "duration": 41,
    "start_time": "2024-10-06T01:19:06.691Z"
   },
   {
    "duration": 35,
    "start_time": "2024-10-06T01:19:11.117Z"
   },
   {
    "duration": 47,
    "start_time": "2024-10-06T01:19:16.353Z"
   },
   {
    "duration": 525,
    "start_time": "2024-10-06T01:19:34.976Z"
   },
   {
    "duration": 511,
    "start_time": "2024-10-06T01:20:27.483Z"
   },
   {
    "duration": 1902,
    "start_time": "2024-10-06T01:21:42.916Z"
   },
   {
    "duration": 37,
    "start_time": "2024-10-06T01:22:09.462Z"
   },
   {
    "duration": 2017,
    "start_time": "2024-10-06T01:22:24.908Z"
   },
   {
    "duration": 1681,
    "start_time": "2024-10-06T01:24:46.984Z"
   },
   {
    "duration": 1556,
    "start_time": "2024-10-06T01:26:56.489Z"
   },
   {
    "duration": 1793,
    "start_time": "2024-10-06T01:27:32.823Z"
   },
   {
    "duration": 1804,
    "start_time": "2024-10-06T01:27:38.219Z"
   },
   {
    "duration": 1532,
    "start_time": "2024-10-06T01:28:23.119Z"
   },
   {
    "duration": 1514,
    "start_time": "2024-10-06T01:28:49.625Z"
   },
   {
    "duration": 1705,
    "start_time": "2024-10-06T01:35:57.235Z"
   },
   {
    "duration": 2383,
    "start_time": "2024-10-06T01:36:36.592Z"
   },
   {
    "duration": 1596,
    "start_time": "2024-10-06T01:38:10.272Z"
   },
   {
    "duration": 16,
    "start_time": "2024-10-06T01:59:46.732Z"
   },
   {
    "duration": 60,
    "start_time": "2024-10-06T02:00:32.514Z"
   },
   {
    "duration": 37,
    "start_time": "2024-10-06T02:02:57.554Z"
   },
   {
    "duration": 1593,
    "start_time": "2024-10-06T02:57:50.265Z"
   },
   {
    "duration": 5783,
    "start_time": "2024-10-06T02:58:53.675Z"
   },
   {
    "duration": 5910,
    "start_time": "2024-10-06T02:59:33.904Z"
   },
   {
    "duration": 1639,
    "start_time": "2024-10-06T03:00:01.592Z"
   },
   {
    "duration": 326,
    "start_time": "2024-10-06T03:01:36.549Z"
   },
   {
    "duration": 336,
    "start_time": "2024-10-06T03:03:08.697Z"
   },
   {
    "duration": 10862,
    "start_time": "2024-10-06T03:03:13.827Z"
   },
   {
    "duration": 5947,
    "start_time": "2024-10-06T03:04:11.226Z"
   },
   {
    "duration": 8,
    "start_time": "2024-10-06T03:11:36.724Z"
   },
   {
    "duration": 6,
    "start_time": "2024-10-06T03:11:50.986Z"
   },
   {
    "duration": 9,
    "start_time": "2024-10-06T03:12:36.480Z"
   },
   {
    "duration": 10,
    "start_time": "2024-10-06T03:37:54.885Z"
   },
   {
    "duration": 9,
    "start_time": "2024-10-06T03:38:16.146Z"
   },
   {
    "duration": 8,
    "start_time": "2024-10-06T03:38:26.988Z"
   },
   {
    "duration": 9,
    "start_time": "2024-10-06T03:38:36.361Z"
   },
   {
    "duration": 7,
    "start_time": "2024-10-06T03:42:03.019Z"
   },
   {
    "duration": 10,
    "start_time": "2024-10-06T03:42:09.547Z"
   },
   {
    "duration": 8,
    "start_time": "2024-10-06T03:42:25.680Z"
   },
   {
    "duration": 62,
    "start_time": "2024-10-06T03:43:16.215Z"
   },
   {
    "duration": 8,
    "start_time": "2024-10-06T03:43:32.272Z"
   },
   {
    "duration": 8,
    "start_time": "2024-10-06T03:43:43.803Z"
   },
   {
    "duration": 8,
    "start_time": "2024-10-06T03:44:06.898Z"
   },
   {
    "duration": 8,
    "start_time": "2024-10-06T03:44:13.585Z"
   },
   {
    "duration": 8,
    "start_time": "2024-10-06T03:44:42.060Z"
   },
   {
    "duration": 13,
    "start_time": "2024-10-06T04:20:54.831Z"
   },
   {
    "duration": 6,
    "start_time": "2024-10-06T04:21:05.007Z"
   },
   {
    "duration": 9,
    "start_time": "2024-10-06T04:21:18.055Z"
   },
   {
    "duration": 9,
    "start_time": "2024-10-06T04:21:25.244Z"
   },
   {
    "duration": 38,
    "start_time": "2024-10-06T04:21:38.605Z"
   },
   {
    "duration": 8,
    "start_time": "2024-10-06T04:21:41.597Z"
   },
   {
    "duration": 7,
    "start_time": "2024-10-06T04:21:57.087Z"
   },
   {
    "duration": 97,
    "start_time": "2024-10-06T04:22:44.501Z"
   },
   {
    "duration": 6,
    "start_time": "2024-10-06T04:23:33.260Z"
   },
   {
    "duration": 9,
    "start_time": "2024-10-06T04:27:38.475Z"
   },
   {
    "duration": 11,
    "start_time": "2024-10-06T05:18:45.138Z"
   },
   {
    "duration": 9,
    "start_time": "2024-10-06T05:18:57.304Z"
   },
   {
    "duration": 4,
    "start_time": "2024-10-06T10:17:03.448Z"
   },
   {
    "duration": 16,
    "start_time": "2024-10-06T10:24:27.231Z"
   },
   {
    "duration": 8,
    "start_time": "2024-10-06T10:24:30.193Z"
   },
   {
    "duration": 6,
    "start_time": "2024-10-06T10:24:50.568Z"
   },
   {
    "duration": 12,
    "start_time": "2024-10-06T10:26:32.706Z"
   },
   {
    "duration": 10,
    "start_time": "2024-10-06T10:26:39.831Z"
   },
   {
    "duration": 10,
    "start_time": "2024-10-06T10:26:41.383Z"
   },
   {
    "duration": 12,
    "start_time": "2024-10-06T10:33:26.683Z"
   },
   {
    "duration": 4,
    "start_time": "2024-10-06T11:58:28.604Z"
   },
   {
    "duration": 54,
    "start_time": "2024-10-06T23:38:54.282Z"
   },
   {
    "duration": 1305,
    "start_time": "2024-10-06T23:39:06.775Z"
   },
   {
    "duration": 155,
    "start_time": "2024-10-06T23:39:08.082Z"
   },
   {
    "duration": 16,
    "start_time": "2024-10-06T23:39:08.239Z"
   },
   {
    "duration": 17,
    "start_time": "2024-10-06T23:39:08.257Z"
   },
   {
    "duration": 43,
    "start_time": "2024-10-06T23:39:08.276Z"
   },
   {
    "duration": 1865,
    "start_time": "2024-10-06T23:39:08.321Z"
   },
   {
    "duration": 7,
    "start_time": "2024-10-06T23:39:10.187Z"
   },
   {
    "duration": 28,
    "start_time": "2024-10-06T23:39:10.195Z"
   },
   {
    "duration": 42,
    "start_time": "2024-10-06T23:39:10.224Z"
   },
   {
    "duration": 6,
    "start_time": "2024-10-06T23:39:10.267Z"
   },
   {
    "duration": 10,
    "start_time": "2024-10-06T23:39:10.274Z"
   },
   {
    "duration": 30,
    "start_time": "2024-10-06T23:39:10.286Z"
   },
   {
    "duration": 6,
    "start_time": "2024-10-06T23:39:10.318Z"
   },
   {
    "duration": 12,
    "start_time": "2024-10-06T23:39:10.353Z"
   },
   {
    "duration": 26,
    "start_time": "2024-10-06T23:39:10.366Z"
   },
   {
    "duration": 5815,
    "start_time": "2024-10-06T23:39:10.394Z"
   },
   {
    "duration": 8,
    "start_time": "2024-10-06T23:39:16.211Z"
   },
   {
    "duration": 2385,
    "start_time": "2024-10-06T23:39:16.220Z"
   },
   {
    "duration": 8,
    "start_time": "2024-10-06T23:39:18.606Z"
   },
   {
    "duration": 1928,
    "start_time": "2024-10-06T23:39:18.615Z"
   },
   {
    "duration": 39,
    "start_time": "2024-10-06T23:39:20.545Z"
   },
   {
    "duration": 9,
    "start_time": "2024-10-06T23:39:20.586Z"
   },
   {
    "duration": 10,
    "start_time": "2024-10-06T23:39:20.596Z"
   },
   {
    "duration": 7,
    "start_time": "2024-10-06T23:39:20.607Z"
   },
   {
    "duration": 3,
    "start_time": "2024-10-06T23:39:20.615Z"
   },
   {
    "duration": 20,
    "start_time": "2024-10-06T23:39:29.011Z"
   },
   {
    "duration": 6,
    "start_time": "2024-10-06T23:40:26.797Z"
   },
   {
    "duration": 7,
    "start_time": "2024-10-06T23:40:35.001Z"
   },
   {
    "duration": 34,
    "start_time": "2024-10-06T23:42:58.959Z"
   },
   {
    "duration": 18,
    "start_time": "2024-10-06T23:43:05.479Z"
   },
   {
    "duration": 33,
    "start_time": "2024-10-06T23:43:28.248Z"
   },
   {
    "duration": 21,
    "start_time": "2024-10-06T23:43:38.336Z"
   },
   {
    "duration": 23,
    "start_time": "2024-10-06T23:43:53.928Z"
   },
   {
    "duration": 19,
    "start_time": "2024-10-06T23:44:25.283Z"
   },
   {
    "duration": 23,
    "start_time": "2024-10-06T23:44:34.367Z"
   },
   {
    "duration": 21,
    "start_time": "2024-10-06T23:44:39.544Z"
   },
   {
    "duration": 22,
    "start_time": "2024-10-06T23:44:45.474Z"
   },
   {
    "duration": 19,
    "start_time": "2024-10-06T23:44:58.573Z"
   },
   {
    "duration": 7,
    "start_time": "2024-10-06T23:45:13.590Z"
   },
   {
    "duration": 7,
    "start_time": "2024-10-06T23:45:42.069Z"
   },
   {
    "duration": 20,
    "start_time": "2024-10-06T23:45:47.903Z"
   },
   {
    "duration": 19,
    "start_time": "2024-10-06T23:46:36.413Z"
   },
   {
    "duration": 19,
    "start_time": "2024-10-06T23:46:44.479Z"
   },
   {
    "duration": 9,
    "start_time": "2024-10-06T23:46:53.119Z"
   },
   {
    "duration": 8,
    "start_time": "2024-10-06T23:47:09.564Z"
   },
   {
    "duration": 19,
    "start_time": "2024-10-06T23:47:45.481Z"
   },
   {
    "duration": 22,
    "start_time": "2024-10-06T23:51:21.826Z"
   },
   {
    "duration": 19,
    "start_time": "2024-10-06T23:51:52.587Z"
   },
   {
    "duration": 9,
    "start_time": "2024-10-06T23:52:22.272Z"
   },
   {
    "duration": 9,
    "start_time": "2024-10-06T23:52:29.973Z"
   },
   {
    "duration": 19,
    "start_time": "2024-10-06T23:53:20.498Z"
   },
   {
    "duration": 19,
    "start_time": "2024-10-06T23:54:29.285Z"
   },
   {
    "duration": 8,
    "start_time": "2024-10-06T23:54:52.161Z"
   },
   {
    "duration": 7,
    "start_time": "2024-10-06T23:55:11.553Z"
   },
   {
    "duration": 10,
    "start_time": "2024-10-06T23:55:35.687Z"
   },
   {
    "duration": 20,
    "start_time": "2024-10-06T23:55:40.188Z"
   },
   {
    "duration": 20,
    "start_time": "2024-10-06T23:57:15.498Z"
   },
   {
    "duration": 20,
    "start_time": "2024-10-06T23:57:45.968Z"
   },
   {
    "duration": 7,
    "start_time": "2024-10-06T23:57:48.655Z"
   },
   {
    "duration": 18,
    "start_time": "2024-10-06T23:58:47.005Z"
   },
   {
    "duration": 19,
    "start_time": "2024-10-07T00:00:01.977Z"
   },
   {
    "duration": 22,
    "start_time": "2024-10-07T00:01:00.228Z"
   },
   {
    "duration": 24,
    "start_time": "2024-10-07T00:01:16.012Z"
   },
   {
    "duration": 21,
    "start_time": "2024-10-07T00:01:21.963Z"
   },
   {
    "duration": 21,
    "start_time": "2024-10-07T00:01:43.953Z"
   },
   {
    "duration": 21,
    "start_time": "2024-10-07T00:01:49.203Z"
   },
   {
    "duration": 8,
    "start_time": "2024-10-07T00:04:07.540Z"
   },
   {
    "duration": 8,
    "start_time": "2024-10-07T00:04:24.165Z"
   },
   {
    "duration": 21,
    "start_time": "2024-10-07T00:05:37.378Z"
   },
   {
    "duration": 8,
    "start_time": "2024-10-07T00:05:56.108Z"
   },
   {
    "duration": 9,
    "start_time": "2024-10-07T00:06:02.183Z"
   },
   {
    "duration": 10,
    "start_time": "2024-10-07T00:06:07.246Z"
   },
   {
    "duration": 9,
    "start_time": "2024-10-07T00:06:11.951Z"
   },
   {
    "duration": 105,
    "start_time": "2024-10-07T00:07:26.215Z"
   },
   {
    "duration": 9,
    "start_time": "2024-10-07T00:07:35.004Z"
   },
   {
    "duration": 21,
    "start_time": "2024-10-07T00:07:39.578Z"
   },
   {
    "duration": 20,
    "start_time": "2024-10-07T00:07:55.341Z"
   },
   {
    "duration": 49,
    "start_time": "2024-10-07T00:09:00.693Z"
   },
   {
    "duration": 20,
    "start_time": "2024-10-07T00:09:08.722Z"
   },
   {
    "duration": 9,
    "start_time": "2024-10-07T00:09:25.318Z"
   },
   {
    "duration": 8,
    "start_time": "2024-10-07T00:09:41.552Z"
   },
   {
    "duration": 21,
    "start_time": "2024-10-07T00:09:56.764Z"
   },
   {
    "duration": 21,
    "start_time": "2024-10-07T00:10:54.001Z"
   },
   {
    "duration": 23,
    "start_time": "2024-10-07T00:11:22.517Z"
   },
   {
    "duration": 21,
    "start_time": "2024-10-07T00:11:49.031Z"
   },
   {
    "duration": 9,
    "start_time": "2024-10-07T00:11:50.797Z"
   },
   {
    "duration": 21,
    "start_time": "2024-10-07T00:12:02.747Z"
   },
   {
    "duration": 20,
    "start_time": "2024-10-07T00:12:14.753Z"
   },
   {
    "duration": 8,
    "start_time": "2024-10-07T00:12:22.641Z"
   },
   {
    "duration": 8,
    "start_time": "2024-10-07T00:12:55.592Z"
   },
   {
    "duration": 7,
    "start_time": "2024-10-07T00:13:04.198Z"
   },
   {
    "duration": 21,
    "start_time": "2024-10-07T00:13:13.287Z"
   },
   {
    "duration": 19,
    "start_time": "2024-10-07T00:13:18.612Z"
   },
   {
    "duration": 25,
    "start_time": "2024-10-07T00:13:39.808Z"
   },
   {
    "duration": 22,
    "start_time": "2024-10-07T00:13:48.482Z"
   },
   {
    "duration": 20,
    "start_time": "2024-10-07T00:14:17.408Z"
   },
   {
    "duration": 22,
    "start_time": "2024-10-07T00:14:54.073Z"
   },
   {
    "duration": 10,
    "start_time": "2024-10-07T00:15:00.255Z"
   },
   {
    "duration": 9,
    "start_time": "2024-10-07T00:15:01.451Z"
   },
   {
    "duration": 21,
    "start_time": "2024-10-07T00:15:17.625Z"
   },
   {
    "duration": 25,
    "start_time": "2024-10-07T00:15:37.243Z"
   },
   {
    "duration": 21,
    "start_time": "2024-10-07T00:19:01.402Z"
   },
   {
    "duration": 22,
    "start_time": "2024-10-07T00:19:21.239Z"
   },
   {
    "duration": 20,
    "start_time": "2024-10-07T00:19:32.289Z"
   },
   {
    "duration": 21,
    "start_time": "2024-10-07T00:19:41.553Z"
   },
   {
    "duration": 20,
    "start_time": "2024-10-07T00:20:24.131Z"
   },
   {
    "duration": 20,
    "start_time": "2024-10-07T00:22:17.040Z"
   },
   {
    "duration": 21,
    "start_time": "2024-10-07T00:22:21.333Z"
   },
   {
    "duration": 8,
    "start_time": "2024-10-07T00:22:40.440Z"
   },
   {
    "duration": 20,
    "start_time": "2024-10-07T00:22:42.612Z"
   },
   {
    "duration": 18,
    "start_time": "2024-10-07T00:22:51.524Z"
   },
   {
    "duration": 19,
    "start_time": "2024-10-07T00:22:54.929Z"
   },
   {
    "duration": 19,
    "start_time": "2024-10-07T00:23:00.082Z"
   },
   {
    "duration": 22,
    "start_time": "2024-10-07T00:23:02.409Z"
   },
   {
    "duration": 19,
    "start_time": "2024-10-07T00:23:14.144Z"
   },
   {
    "duration": 18,
    "start_time": "2024-10-07T00:23:16.955Z"
   },
   {
    "duration": 19,
    "start_time": "2024-10-07T00:23:18.716Z"
   },
   {
    "duration": 19,
    "start_time": "2024-10-07T00:23:29.413Z"
   },
   {
    "duration": 18,
    "start_time": "2024-10-07T00:23:31.414Z"
   },
   {
    "duration": 21,
    "start_time": "2024-10-07T00:23:36.300Z"
   },
   {
    "duration": 19,
    "start_time": "2024-10-07T00:23:39.242Z"
   },
   {
    "duration": 20,
    "start_time": "2024-10-07T00:23:45.214Z"
   },
   {
    "duration": 19,
    "start_time": "2024-10-07T00:23:47.436Z"
   },
   {
    "duration": 19,
    "start_time": "2024-10-07T00:23:50.081Z"
   },
   {
    "duration": 8,
    "start_time": "2024-10-07T00:23:59.941Z"
   },
   {
    "duration": 19,
    "start_time": "2024-10-07T00:26:07.882Z"
   },
   {
    "duration": 7,
    "start_time": "2024-10-07T00:26:12.064Z"
   },
   {
    "duration": 20,
    "start_time": "2024-10-07T00:26:44.510Z"
   },
   {
    "duration": 22,
    "start_time": "2024-10-07T00:28:06.781Z"
   },
   {
    "duration": 23,
    "start_time": "2024-10-07T00:28:19.111Z"
   },
   {
    "duration": 9,
    "start_time": "2024-10-07T00:28:40.871Z"
   },
   {
    "duration": 10,
    "start_time": "2024-10-07T00:29:13.878Z"
   },
   {
    "duration": 9,
    "start_time": "2024-10-07T00:29:21.591Z"
   },
   {
    "duration": 21,
    "start_time": "2024-10-07T00:29:32.206Z"
   },
   {
    "duration": 22,
    "start_time": "2024-10-07T00:29:51.068Z"
   },
   {
    "duration": 9,
    "start_time": "2024-10-07T00:30:15.912Z"
   },
   {
    "duration": 22,
    "start_time": "2024-10-07T00:30:22.352Z"
   },
   {
    "duration": 11,
    "start_time": "2024-10-07T00:34:59.431Z"
   },
   {
    "duration": 10,
    "start_time": "2024-10-07T00:35:05.723Z"
   },
   {
    "duration": 10,
    "start_time": "2024-10-07T00:35:11.564Z"
   },
   {
    "duration": 12,
    "start_time": "2024-10-07T00:35:19.451Z"
   },
   {
    "duration": 10,
    "start_time": "2024-10-07T00:35:21.272Z"
   },
   {
    "duration": 11,
    "start_time": "2024-10-07T00:35:27.243Z"
   },
   {
    "duration": 25,
    "start_time": "2024-10-07T00:35:33.148Z"
   },
   {
    "duration": 22,
    "start_time": "2024-10-07T00:35:38.001Z"
   },
   {
    "duration": 9,
    "start_time": "2024-10-07T00:36:15.053Z"
   },
   {
    "duration": 2,
    "start_time": "2024-10-07T00:47:00.299Z"
   },
   {
    "duration": 30,
    "start_time": "2024-10-07T00:54:06.256Z"
   },
   {
    "duration": 20,
    "start_time": "2024-10-07T00:54:14.050Z"
   },
   {
    "duration": 21,
    "start_time": "2024-10-07T00:54:17.643Z"
   },
   {
    "duration": 20,
    "start_time": "2024-10-07T00:54:32.028Z"
   },
   {
    "duration": 8,
    "start_time": "2024-10-07T01:00:12.883Z"
   },
   {
    "duration": 7,
    "start_time": "2024-10-07T01:00:17.086Z"
   },
   {
    "duration": 10,
    "start_time": "2024-10-07T01:03:13.193Z"
   },
   {
    "duration": 65,
    "start_time": "2024-10-07T01:06:09.379Z"
   },
   {
    "duration": 18,
    "start_time": "2024-10-07T01:06:15.374Z"
   },
   {
    "duration": 18,
    "start_time": "2024-10-07T01:06:28.440Z"
   },
   {
    "duration": 19,
    "start_time": "2024-10-07T01:11:14.550Z"
   },
   {
    "duration": 18,
    "start_time": "2024-10-07T01:11:25.047Z"
   },
   {
    "duration": 19,
    "start_time": "2024-10-07T01:11:29.121Z"
   },
   {
    "duration": 8,
    "start_time": "2024-10-07T01:11:45.764Z"
   },
   {
    "duration": 9,
    "start_time": "2024-10-07T01:11:54.288Z"
   },
   {
    "duration": 20,
    "start_time": "2024-10-07T01:12:28.168Z"
   },
   {
    "duration": 19,
    "start_time": "2024-10-07T01:12:49.650Z"
   },
   {
    "duration": 8,
    "start_time": "2024-10-07T01:13:00.010Z"
   },
   {
    "duration": 19,
    "start_time": "2024-10-07T01:13:30.927Z"
   },
   {
    "duration": 21,
    "start_time": "2024-10-07T01:13:45.481Z"
   },
   {
    "duration": 22,
    "start_time": "2024-10-07T01:13:54.486Z"
   },
   {
    "duration": 28,
    "start_time": "2024-10-07T01:14:05.774Z"
   },
   {
    "duration": 19,
    "start_time": "2024-10-07T01:14:41.913Z"
   },
   {
    "duration": 22,
    "start_time": "2024-10-07T01:14:48.931Z"
   },
   {
    "duration": 23,
    "start_time": "2024-10-07T01:14:51.816Z"
   },
   {
    "duration": 20,
    "start_time": "2024-10-07T01:14:54.116Z"
   },
   {
    "duration": 20,
    "start_time": "2024-10-07T01:15:01.246Z"
   },
   {
    "duration": 20,
    "start_time": "2024-10-07T01:15:03.920Z"
   },
   {
    "duration": 23,
    "start_time": "2024-10-07T01:15:53.125Z"
   },
   {
    "duration": 23,
    "start_time": "2024-10-07T01:16:02.528Z"
   },
   {
    "duration": 33,
    "start_time": "2024-10-07T01:16:36.384Z"
   },
   {
    "duration": 33,
    "start_time": "2024-10-07T01:17:04.088Z"
   },
   {
    "duration": 23,
    "start_time": "2024-10-07T01:17:28.874Z"
   },
   {
    "duration": 21,
    "start_time": "2024-10-07T01:17:36.290Z"
   },
   {
    "duration": 21,
    "start_time": "2024-10-07T01:17:42.480Z"
   },
   {
    "duration": 19,
    "start_time": "2024-10-07T01:17:49.419Z"
   },
   {
    "duration": 22,
    "start_time": "2024-10-07T01:17:57.611Z"
   },
   {
    "duration": 19,
    "start_time": "2024-10-07T01:18:00.385Z"
   },
   {
    "duration": 24,
    "start_time": "2024-10-07T01:18:25.230Z"
   },
   {
    "duration": 20,
    "start_time": "2024-10-07T01:18:31.859Z"
   },
   {
    "duration": 21,
    "start_time": "2024-10-07T01:18:37.302Z"
   },
   {
    "duration": 22,
    "start_time": "2024-10-07T01:18:40.792Z"
   },
   {
    "duration": 21,
    "start_time": "2024-10-07T01:18:48.505Z"
   },
   {
    "duration": 23,
    "start_time": "2024-10-07T01:19:34.021Z"
   },
   {
    "duration": 28,
    "start_time": "2024-10-07T01:19:55.141Z"
   },
   {
    "duration": 22,
    "start_time": "2024-10-07T01:19:59.366Z"
   },
   {
    "duration": 21,
    "start_time": "2024-10-07T01:20:09.046Z"
   },
   {
    "duration": 22,
    "start_time": "2024-10-07T01:20:39.168Z"
   },
   {
    "duration": 20,
    "start_time": "2024-10-07T01:20:57.724Z"
   },
   {
    "duration": 29,
    "start_time": "2024-10-07T01:21:04.226Z"
   },
   {
    "duration": 20,
    "start_time": "2024-10-07T01:21:09.055Z"
   },
   {
    "duration": 22,
    "start_time": "2024-10-07T01:21:11.728Z"
   },
   {
    "duration": 23,
    "start_time": "2024-10-07T01:21:13.516Z"
   },
   {
    "duration": 21,
    "start_time": "2024-10-07T01:21:20.692Z"
   },
   {
    "duration": 21,
    "start_time": "2024-10-07T01:21:24.665Z"
   },
   {
    "duration": 22,
    "start_time": "2024-10-07T01:21:29.886Z"
   },
   {
    "duration": 24,
    "start_time": "2024-10-07T01:21:45.836Z"
   },
   {
    "duration": 20,
    "start_time": "2024-10-07T01:21:50.138Z"
   },
   {
    "duration": 20,
    "start_time": "2024-10-07T01:21:55.121Z"
   },
   {
    "duration": 20,
    "start_time": "2024-10-07T01:22:05.326Z"
   },
   {
    "duration": 20,
    "start_time": "2024-10-07T01:22:25.475Z"
   },
   {
    "duration": 24,
    "start_time": "2024-10-07T01:23:23.749Z"
   },
   {
    "duration": 21,
    "start_time": "2024-10-07T01:23:30.172Z"
   },
   {
    "duration": 21,
    "start_time": "2024-10-07T01:23:34.651Z"
   },
   {
    "duration": 21,
    "start_time": "2024-10-07T01:23:36.764Z"
   },
   {
    "duration": 16,
    "start_time": "2024-10-07T01:23:41.169Z"
   },
   {
    "duration": 22,
    "start_time": "2024-10-07T01:23:46.057Z"
   },
   {
    "duration": 22,
    "start_time": "2024-10-07T01:24:04.217Z"
   },
   {
    "duration": 21,
    "start_time": "2024-10-07T01:24:18.166Z"
   },
   {
    "duration": 31,
    "start_time": "2024-10-07T01:24:21.661Z"
   },
   {
    "duration": 20,
    "start_time": "2024-10-07T01:24:23.823Z"
   },
   {
    "duration": 21,
    "start_time": "2024-10-07T01:24:26.065Z"
   },
   {
    "duration": 22,
    "start_time": "2024-10-07T01:24:42.047Z"
   },
   {
    "duration": 8,
    "start_time": "2024-10-07T01:35:31.758Z"
   },
   {
    "duration": 8,
    "start_time": "2024-10-07T01:35:33.062Z"
   },
   {
    "duration": 12,
    "start_time": "2024-10-07T01:36:28.313Z"
   },
   {
    "duration": 20,
    "start_time": "2024-10-07T01:36:30.235Z"
   },
   {
    "duration": 70,
    "start_time": "2024-10-07T01:45:52.091Z"
   },
   {
    "duration": 69,
    "start_time": "2024-10-07T01:47:51.920Z"
   },
   {
    "duration": 95,
    "start_time": "2024-10-07T01:48:28.700Z"
   },
   {
    "duration": 22,
    "start_time": "2024-10-07T01:52:53.113Z"
   },
   {
    "duration": 12,
    "start_time": "2024-10-07T01:53:01.547Z"
   },
   {
    "duration": 10,
    "start_time": "2024-10-07T01:53:18.271Z"
   },
   {
    "duration": 8,
    "start_time": "2024-10-07T01:53:38.367Z"
   },
   {
    "duration": 11,
    "start_time": "2024-10-07T01:53:44.104Z"
   },
   {
    "duration": 75,
    "start_time": "2024-10-07T01:54:45.222Z"
   },
   {
    "duration": 71,
    "start_time": "2024-10-07T01:55:02.195Z"
   },
   {
    "duration": 10,
    "start_time": "2024-10-07T01:55:20.916Z"
   },
   {
    "duration": 11,
    "start_time": "2024-10-07T01:55:48.112Z"
   },
   {
    "duration": 15,
    "start_time": "2024-10-07T01:56:03.000Z"
   },
   {
    "duration": 11,
    "start_time": "2024-10-07T01:56:29.739Z"
   },
   {
    "duration": 10,
    "start_time": "2024-10-07T01:56:37.963Z"
   },
   {
    "duration": 11,
    "start_time": "2024-10-07T01:56:47.353Z"
   },
   {
    "duration": 10,
    "start_time": "2024-10-07T01:58:13.356Z"
   },
   {
    "duration": 4,
    "start_time": "2024-10-07T01:58:18.632Z"
   },
   {
    "duration": 10,
    "start_time": "2024-10-07T01:58:50.931Z"
   },
   {
    "duration": 11,
    "start_time": "2024-10-07T01:59:29.732Z"
   },
   {
    "duration": 12,
    "start_time": "2024-10-07T01:59:53.735Z"
   },
   {
    "duration": 11,
    "start_time": "2024-10-07T02:01:16.885Z"
   },
   {
    "duration": 10,
    "start_time": "2024-10-07T02:18:49.991Z"
   },
   {
    "duration": 1070,
    "start_time": "2024-10-07T03:14:12.397Z"
   },
   {
    "duration": 42,
    "start_time": "2024-10-07T03:14:13.469Z"
   },
   {
    "duration": 17,
    "start_time": "2024-10-07T03:14:13.513Z"
   },
   {
    "duration": 12,
    "start_time": "2024-10-07T03:14:13.531Z"
   },
   {
    "duration": 37,
    "start_time": "2024-10-07T03:14:13.545Z"
   },
   {
    "duration": 1877,
    "start_time": "2024-10-07T03:14:13.584Z"
   },
   {
    "duration": 6,
    "start_time": "2024-10-07T03:14:15.463Z"
   },
   {
    "duration": 21,
    "start_time": "2024-10-07T03:14:15.470Z"
   },
   {
    "duration": 39,
    "start_time": "2024-10-07T03:14:15.493Z"
   },
   {
    "duration": 6,
    "start_time": "2024-10-07T03:14:15.533Z"
   },
   {
    "duration": 5,
    "start_time": "2024-10-07T03:14:15.553Z"
   },
   {
    "duration": 22,
    "start_time": "2024-10-07T03:14:15.559Z"
   },
   {
    "duration": 6,
    "start_time": "2024-10-07T03:14:15.582Z"
   },
   {
    "duration": 16,
    "start_time": "2024-10-07T03:14:15.590Z"
   },
   {
    "duration": 26,
    "start_time": "2024-10-07T03:14:15.607Z"
   },
   {
    "duration": 6042,
    "start_time": "2024-10-07T03:14:15.634Z"
   },
   {
    "duration": 7,
    "start_time": "2024-10-07T03:14:21.678Z"
   },
   {
    "duration": 2215,
    "start_time": "2024-10-07T03:14:21.687Z"
   },
   {
    "duration": 9,
    "start_time": "2024-10-07T03:14:23.903Z"
   },
   {
    "duration": 1638,
    "start_time": "2024-10-07T03:14:23.913Z"
   },
   {
    "duration": 38,
    "start_time": "2024-10-07T03:14:25.553Z"
   },
   {
    "duration": 9,
    "start_time": "2024-10-07T03:14:25.593Z"
   },
   {
    "duration": 15,
    "start_time": "2024-10-07T03:14:25.604Z"
   },
   {
    "duration": 9,
    "start_time": "2024-10-07T03:14:25.620Z"
   },
   {
    "duration": 10,
    "start_time": "2024-10-07T03:14:25.652Z"
   },
   {
    "duration": 18,
    "start_time": "2024-10-07T03:14:25.664Z"
   },
   {
    "duration": 11,
    "start_time": "2024-10-07T03:14:25.683Z"
   },
   {
    "duration": 1275,
    "start_time": "2024-10-07T15:11:52.015Z"
   },
   {
    "duration": 169,
    "start_time": "2024-10-07T15:11:53.292Z"
   },
   {
    "duration": 19,
    "start_time": "2024-10-07T15:11:53.462Z"
   },
   {
    "duration": 14,
    "start_time": "2024-10-07T15:11:53.483Z"
   },
   {
    "duration": 56,
    "start_time": "2024-10-07T15:11:53.499Z"
   },
   {
    "duration": 2086,
    "start_time": "2024-10-07T15:11:53.556Z"
   },
   {
    "duration": 9,
    "start_time": "2024-10-07T15:11:55.644Z"
   },
   {
    "duration": 11,
    "start_time": "2024-10-07T15:11:55.655Z"
   },
   {
    "duration": 46,
    "start_time": "2024-10-07T15:11:55.668Z"
   },
   {
    "duration": 29,
    "start_time": "2024-10-07T15:11:55.717Z"
   },
   {
    "duration": 6,
    "start_time": "2024-10-07T15:11:55.748Z"
   },
   {
    "duration": 37,
    "start_time": "2024-10-07T15:11:55.755Z"
   },
   {
    "duration": 7,
    "start_time": "2024-10-07T15:11:55.794Z"
   },
   {
    "duration": 29,
    "start_time": "2024-10-07T15:11:55.803Z"
   },
   {
    "duration": 6691,
    "start_time": "2024-10-07T15:11:55.846Z"
   },
   {
    "duration": 13,
    "start_time": "2024-10-07T15:12:02.540Z"
   },
   {
    "duration": 2522,
    "start_time": "2024-10-07T15:12:02.555Z"
   },
   {
    "duration": 9,
    "start_time": "2024-10-07T15:12:05.078Z"
   },
   {
    "duration": 1800,
    "start_time": "2024-10-07T15:12:05.089Z"
   },
   {
    "duration": 57,
    "start_time": "2024-10-07T15:12:06.890Z"
   },
   {
    "duration": 14,
    "start_time": "2024-10-07T15:12:06.948Z"
   },
   {
    "duration": 17,
    "start_time": "2024-10-07T15:12:06.964Z"
   },
   {
    "duration": 37,
    "start_time": "2024-10-07T15:12:06.983Z"
   },
   {
    "duration": 12,
    "start_time": "2024-10-07T15:12:07.022Z"
   },
   {
    "duration": 40,
    "start_time": "2024-10-07T15:12:07.036Z"
   },
   {
    "duration": 37,
    "start_time": "2024-10-07T15:12:07.078Z"
   },
   {
    "duration": 104,
    "start_time": "2024-10-07T23:20:51.049Z"
   },
   {
    "duration": 41,
    "start_time": "2024-10-07T23:46:40.147Z"
   },
   {
    "duration": 1330,
    "start_time": "2024-10-07T23:46:44.042Z"
   },
   {
    "duration": 164,
    "start_time": "2024-10-07T23:46:45.374Z"
   },
   {
    "duration": 17,
    "start_time": "2024-10-07T23:46:45.539Z"
   },
   {
    "duration": 13,
    "start_time": "2024-10-07T23:46:45.558Z"
   },
   {
    "duration": 45,
    "start_time": "2024-10-07T23:46:45.573Z"
   },
   {
    "duration": 1978,
    "start_time": "2024-10-07T23:46:45.620Z"
   },
   {
    "duration": 6,
    "start_time": "2024-10-07T23:46:47.600Z"
   },
   {
    "duration": 9,
    "start_time": "2024-10-07T23:46:47.608Z"
   },
   {
    "duration": 54,
    "start_time": "2024-10-07T23:46:47.619Z"
   },
   {
    "duration": 6,
    "start_time": "2024-10-07T23:46:47.674Z"
   },
   {
    "duration": 5,
    "start_time": "2024-10-07T23:46:47.681Z"
   },
   {
    "duration": 27,
    "start_time": "2024-10-07T23:46:47.688Z"
   },
   {
    "duration": 6,
    "start_time": "2024-10-07T23:46:47.716Z"
   },
   {
    "duration": 37,
    "start_time": "2024-10-07T23:46:47.725Z"
   },
   {
    "duration": 6140,
    "start_time": "2024-10-07T23:46:47.763Z"
   },
   {
    "duration": 7,
    "start_time": "2024-10-07T23:46:53.905Z"
   },
   {
    "duration": 17,
    "start_time": "2024-10-07T23:46:53.913Z"
   },
   {
    "duration": 2291,
    "start_time": "2024-10-07T23:46:53.932Z"
   },
   {
    "duration": 8,
    "start_time": "2024-10-07T23:46:56.253Z"
   },
   {
    "duration": 1589,
    "start_time": "2024-10-07T23:46:56.262Z"
   },
   {
    "duration": 41,
    "start_time": "2024-10-07T23:46:57.854Z"
   },
   {
    "duration": 9,
    "start_time": "2024-10-07T23:46:57.897Z"
   },
   {
    "duration": 9,
    "start_time": "2024-10-07T23:46:57.907Z"
   },
   {
    "duration": 8,
    "start_time": "2024-10-07T23:46:57.917Z"
   },
   {
    "duration": 11,
    "start_time": "2024-10-07T23:46:57.953Z"
   },
   {
    "duration": 11,
    "start_time": "2024-10-07T23:46:57.965Z"
   },
   {
    "duration": 9,
    "start_time": "2024-10-07T23:46:57.977Z"
   },
   {
    "duration": 11,
    "start_time": "2024-10-08T00:42:27.038Z"
   }
  ],
  "kernelspec": {
   "display_name": "Python 3 (ipykernel)",
   "language": "python",
   "name": "python3"
  },
  "language_info": {
   "codemirror_mode": {
    "name": "ipython",
    "version": 3
   },
   "file_extension": ".py",
   "mimetype": "text/x-python",
   "name": "python",
   "nbconvert_exporter": "python",
   "pygments_lexer": "ipython3",
   "version": "3.9.5"
  },
  "toc": {
   "base_numbering": 1,
   "nav_menu": {},
   "number_sections": true,
   "sideBar": true,
   "skip_h1_title": true,
   "title_cell": "Table of Contents",
   "title_sidebar": "Contents",
   "toc_cell": false,
   "toc_position": {
    "height": "calc(100% - 180px)",
    "left": "10px",
    "top": "150px",
    "width": "384px"
   },
   "toc_section_display": true,
   "toc_window_display": true
  },
  "widgets": {
   "application/vnd.jupyter.widget-state+json": {
    "state": {},
    "version_major": 2,
    "version_minor": 0
   }
  }
 },
 "nbformat": 4,
 "nbformat_minor": 2
}
