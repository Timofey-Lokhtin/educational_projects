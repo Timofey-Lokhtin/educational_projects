{
 "cells": [
  {
   "cell_type": "markdown",
   "id": "466ab16c",
   "metadata": {},
   "source": [
    "<font face='Liberation serif' size=3>\n",
    "    \n",
    "**Привет!** 👋\n",
    "\n",
    "Меня зовут Артем Пиляй. Я буду проверять твой проект. В рамках корпоративной этики мы общаемся на «ты». Но если лучше на «Вы», то нужно обозначить это сразу.\n",
    " \n",
    "В тетрадке есть комментарии к проекту, они будут в отдельных ячейках Markdown.\n",
    " \n",
    "<div class=\"alert alert-danger\">\n",
    "\n",
    "**Артём:** ❌ Такой комментарий **нужно исправить** обязательно, он критически влияет на удачное выполнение проекта.\n",
    "\n",
    "</div>\n",
    "\n",
    "<div class=\"alert alert-success\">\n",
    "\n",
    "**Артём:** 👍 Это **главный комментарий**, значит все сделано хорошо. 😉 А еще в таких комментариях бывают подсказки как сделать **твой проект ещё лучше**.\n",
    "\n",
    "</div>\n",
    "\n",
    "---\n",
    "\n",
    "**Распространенные ошибки**\n",
    "\n",
    "<div class=\"alert alert-danger\">\n",
    "\n",
    "**Артём:** ❌ Не перемещай и не удаляй мои комментарии. Лучше, чтобы твои ответы на мои комментарии шли по очереди, как сообщения в мессенджере. Это ускорит проверку.\n",
    "    \n",
    "</div>\n",
    "\n",
    "<div class=\"alert alert-danger\">\n",
    "\n",
    "**Артём:** ❌ Проверь проект на работоспособность перед отправкой на проверку. Это важный навык, который тебе пригодится как на собеседовании, при выполнении тестового задания, так и перед совещанием у руководства компании. Помни, ревьеры не вносят изменения в код, даже если это путь к датасету или ячейка в неверном формате (code/mardown).  \n",
    "    \n",
    "</div>\n",
    "\n",
    "<div class=\"alert alert-success\">\n",
    "\n",
    "#### **Артём:** 👍 Кстати, смотри как можно сделать, чтобы датасет грузился и локально, и в JupyterHub:\n",
    "\n",
    "```py\n",
    "try:\n",
    "    df = pd.read_csv('C:/Users/Student/Desktop/dataset.csv')\n",
    "except:\n",
    "    df = pd.read_csv('/datasets/dataset.csv')\n",
    "```\n",
    "    \n",
    "Используя эту конструкцию в будущих проектах, ты будешь спокойно отправлять проект на проверку зная, что он будет работать.\n",
    "    \n",
    "</div>\n",
    "\n",
    "<div class=\"alert alert-danger\">\n",
    "\n",
    "**Артём:** ❌ Проект должен быть структурирован. Где названия разделов и подразделов будут записаны в ячейках [Markdown](https://paulradzkov.com/2014/markdown_cheatsheet/?).\n",
    "    \n",
    "</div>\n",
    "\n",
    "<div class=\"alert alert-danger\">\n",
    "\n",
    "**Артём:** ❌ Если с твоим проектом будет знакомиться другой человек, например рекрутер или старший дата специалист, в нем должны быть описаны поставленные задачи, содержание датасета, промежуточные и финальные выводы. Как правило, заказчик читает только финальный вывод, поэтому важно добавить информацию о проведенном исследовании, применить форматирование текста, в общем, сделать красиво, чтобы было понятно, что проведено настоящее исследование и выводу можно верить. \n",
    "\n",
    "</div>  \n",
    "\n",
    "<div class=\"alert alert-success\">\n",
    "\n",
    "#### **Артём:** 👍 Длинный код и комментарии нужно переносить на новую строку. Согласись, коллеги не оценят, если им придется тратить время на пролистывание ячеек. Согласно международному стандарту [PEP8](https://www.python.org/dev/peps/pep-0008/) длина строки не должна превышать 79 символов.\n",
    "Вот как можно перенести код на новую строку:\n",
    "\n",
    "```py\n",
    "# Переносить можно код внутри скобки\n",
    "example = (2 *\n",
    "           2)\n",
    "```\n",
    "Конечно, я не считаю сколько символов в строке, главное, чтобы код или комментарий не ушел за пределы ячейки (зависит от разрешения экрана). Если ушел, то это желтый комментарий для каждой нечитаемой ячейки.\n",
    "    \n",
    "</div>\n",
    "\n",
    "<div class=\"alert alert-success\">\n",
    "\n",
    "#### **Артём:** 👍 Тимлид, старший дата специалист или ревьюер ценят твое и своё время, подсвечивай свои комментарии в ячейках Markdown. Шаблон я тебе оставил ниже. Подробнее про синтаксис Markdown, с примерами, можно почитать [здесь](https://paulradzkov.com/2014/markdown_cheatsheet/?).\n",
    "    \n",
    "</div>\n",
    "\n",
    "<div class=\"alert alert-success\">\n",
    "\n",
    "**Артём:** 👍 Буду рад, если воспользуешься моими советами. Они тебе помогут при трудоустройстве, например в [Яндексе](https://yandex.ru/jobs/pages/analytics_interview?ysclid=l84s63fs1g790141490), и при работе в команде. Если в ходе проведения исследования возникнут вопросы, не стесняйся задавай. 🙂\n",
    "</div>\n",
    "\n",
    "<div class=\"alert alert-info\">\n",
    "\n",
    "**Артём:** 🏁 [Итоги ревью здесь](#results)\n",
    "</div>\n",
    "\n",
    "\n",
    "**Поехали!** 🚀 👨‍🚀\n",
    "<a id=\"start\"></a>"
   ]
  },
  {
   "cell_type": "markdown",
   "id": "3ae3f8c4",
   "metadata": {},
   "source": [
    "<div style=\"background-color:lavender; color:#black; text-align:center; padding:2%\">\n",
    "    \n",
    "**Имя:** ✔️ Это шаблон для тебя. Такой комментарий можно быстро найти."
   ]
  },
  {
   "cell_type": "markdown",
   "id": "386f2ae7",
   "metadata": {
    "deletable": false,
    "editable": false,
    "id": "386f2ae7"
   },
   "source": [
    "# Исследование надежности заемщиков\n"
   ]
  },
  {
   "cell_type": "markdown",
   "id": "ffe86f65",
   "metadata": {
    "deletable": false,
    "editable": false,
    "id": "ffe86f65"
   },
   "source": [
    "Во второй части проекта вы выполните шаги 3 и 4. Их вручную проверит ревьюер.\n",
    "Чтобы вам не пришлось писать код заново для шагов 1 и 2, мы добавили авторские решения в ячейки с кодом. \n",
    "\n"
   ]
  },
  {
   "cell_type": "markdown",
   "id": "26613308",
   "metadata": {
    "deletable": false,
    "editable": false,
    "id": "26613308"
   },
   "source": [
    "## Откройте таблицу и изучите общую информацию о данных"
   ]
  },
  {
   "cell_type": "markdown",
   "id": "3c9f838e",
   "metadata": {
    "deletable": false,
    "editable": false,
    "id": "3c9f838e"
   },
   "source": [
    "**Задание 1. Импортируйте библиотеку pandas. Считайте данные из csv-файла в датафрейм и сохраните в переменную `data`. Путь к файлу:**\n",
    "\n",
    "`/datasets/data.csv`"
   ]
  },
  {
   "cell_type": "code",
   "execution_count": 1,
   "id": "77a68a90",
   "metadata": {
    "deletable": false,
    "id": "77a68a90"
   },
   "outputs": [],
   "source": [
    "import pandas as pd\n",
    "\n",
    "try:\n",
    "    data = pd.read_csv('/datasets/data.csv')\n",
    "except:\n",
    "    data = pd.read_csv('https://code.s3.yandex.net/datasets/data.csv')"
   ]
  },
  {
   "cell_type": "markdown",
   "id": "45365635",
   "metadata": {
    "deletable": false,
    "editable": false,
    "id": "45365635"
   },
   "source": [
    "**Задание 2. Выведите первые 20 строчек датафрейма `data` на экран.**"
   ]
  },
  {
   "cell_type": "code",
   "execution_count": 2,
   "id": "b0451a9a",
   "metadata": {
    "deletable": false,
    "id": "b0451a9a",
    "outputId": "1a8f3ef2-d323-4ec2-ddf7-89670b5944c4"
   },
   "outputs": [
    {
     "data": {
      "text/html": [
       "<div>\n",
       "<style scoped>\n",
       "    .dataframe tbody tr th:only-of-type {\n",
       "        vertical-align: middle;\n",
       "    }\n",
       "\n",
       "    .dataframe tbody tr th {\n",
       "        vertical-align: top;\n",
       "    }\n",
       "\n",
       "    .dataframe thead th {\n",
       "        text-align: right;\n",
       "    }\n",
       "</style>\n",
       "<table border=\"1\" class=\"dataframe\">\n",
       "  <thead>\n",
       "    <tr style=\"text-align: right;\">\n",
       "      <th></th>\n",
       "      <th>children</th>\n",
       "      <th>days_employed</th>\n",
       "      <th>dob_years</th>\n",
       "      <th>education</th>\n",
       "      <th>education_id</th>\n",
       "      <th>family_status</th>\n",
       "      <th>family_status_id</th>\n",
       "      <th>gender</th>\n",
       "      <th>income_type</th>\n",
       "      <th>debt</th>\n",
       "      <th>total_income</th>\n",
       "      <th>purpose</th>\n",
       "    </tr>\n",
       "  </thead>\n",
       "  <tbody>\n",
       "    <tr>\n",
       "      <th>0</th>\n",
       "      <td>1</td>\n",
       "      <td>-8437.673028</td>\n",
       "      <td>42</td>\n",
       "      <td>высшее</td>\n",
       "      <td>0</td>\n",
       "      <td>женат / замужем</td>\n",
       "      <td>0</td>\n",
       "      <td>F</td>\n",
       "      <td>сотрудник</td>\n",
       "      <td>0</td>\n",
       "      <td>253875.639453</td>\n",
       "      <td>покупка жилья</td>\n",
       "    </tr>\n",
       "    <tr>\n",
       "      <th>1</th>\n",
       "      <td>1</td>\n",
       "      <td>-4024.803754</td>\n",
       "      <td>36</td>\n",
       "      <td>среднее</td>\n",
       "      <td>1</td>\n",
       "      <td>женат / замужем</td>\n",
       "      <td>0</td>\n",
       "      <td>F</td>\n",
       "      <td>сотрудник</td>\n",
       "      <td>0</td>\n",
       "      <td>112080.014102</td>\n",
       "      <td>приобретение автомобиля</td>\n",
       "    </tr>\n",
       "    <tr>\n",
       "      <th>2</th>\n",
       "      <td>0</td>\n",
       "      <td>-5623.422610</td>\n",
       "      <td>33</td>\n",
       "      <td>Среднее</td>\n",
       "      <td>1</td>\n",
       "      <td>женат / замужем</td>\n",
       "      <td>0</td>\n",
       "      <td>M</td>\n",
       "      <td>сотрудник</td>\n",
       "      <td>0</td>\n",
       "      <td>145885.952297</td>\n",
       "      <td>покупка жилья</td>\n",
       "    </tr>\n",
       "    <tr>\n",
       "      <th>3</th>\n",
       "      <td>3</td>\n",
       "      <td>-4124.747207</td>\n",
       "      <td>32</td>\n",
       "      <td>среднее</td>\n",
       "      <td>1</td>\n",
       "      <td>женат / замужем</td>\n",
       "      <td>0</td>\n",
       "      <td>M</td>\n",
       "      <td>сотрудник</td>\n",
       "      <td>0</td>\n",
       "      <td>267628.550329</td>\n",
       "      <td>дополнительное образование</td>\n",
       "    </tr>\n",
       "    <tr>\n",
       "      <th>4</th>\n",
       "      <td>0</td>\n",
       "      <td>340266.072047</td>\n",
       "      <td>53</td>\n",
       "      <td>среднее</td>\n",
       "      <td>1</td>\n",
       "      <td>гражданский брак</td>\n",
       "      <td>1</td>\n",
       "      <td>F</td>\n",
       "      <td>пенсионер</td>\n",
       "      <td>0</td>\n",
       "      <td>158616.077870</td>\n",
       "      <td>сыграть свадьбу</td>\n",
       "    </tr>\n",
       "    <tr>\n",
       "      <th>5</th>\n",
       "      <td>0</td>\n",
       "      <td>-926.185831</td>\n",
       "      <td>27</td>\n",
       "      <td>высшее</td>\n",
       "      <td>0</td>\n",
       "      <td>гражданский брак</td>\n",
       "      <td>1</td>\n",
       "      <td>M</td>\n",
       "      <td>компаньон</td>\n",
       "      <td>0</td>\n",
       "      <td>255763.565419</td>\n",
       "      <td>покупка жилья</td>\n",
       "    </tr>\n",
       "    <tr>\n",
       "      <th>6</th>\n",
       "      <td>0</td>\n",
       "      <td>-2879.202052</td>\n",
       "      <td>43</td>\n",
       "      <td>высшее</td>\n",
       "      <td>0</td>\n",
       "      <td>женат / замужем</td>\n",
       "      <td>0</td>\n",
       "      <td>F</td>\n",
       "      <td>компаньон</td>\n",
       "      <td>0</td>\n",
       "      <td>240525.971920</td>\n",
       "      <td>операции с жильем</td>\n",
       "    </tr>\n",
       "    <tr>\n",
       "      <th>7</th>\n",
       "      <td>0</td>\n",
       "      <td>-152.779569</td>\n",
       "      <td>50</td>\n",
       "      <td>СРЕДНЕЕ</td>\n",
       "      <td>1</td>\n",
       "      <td>женат / замужем</td>\n",
       "      <td>0</td>\n",
       "      <td>M</td>\n",
       "      <td>сотрудник</td>\n",
       "      <td>0</td>\n",
       "      <td>135823.934197</td>\n",
       "      <td>образование</td>\n",
       "    </tr>\n",
       "    <tr>\n",
       "      <th>8</th>\n",
       "      <td>2</td>\n",
       "      <td>-6929.865299</td>\n",
       "      <td>35</td>\n",
       "      <td>ВЫСШЕЕ</td>\n",
       "      <td>0</td>\n",
       "      <td>гражданский брак</td>\n",
       "      <td>1</td>\n",
       "      <td>F</td>\n",
       "      <td>сотрудник</td>\n",
       "      <td>0</td>\n",
       "      <td>95856.832424</td>\n",
       "      <td>на проведение свадьбы</td>\n",
       "    </tr>\n",
       "    <tr>\n",
       "      <th>9</th>\n",
       "      <td>0</td>\n",
       "      <td>-2188.756445</td>\n",
       "      <td>41</td>\n",
       "      <td>среднее</td>\n",
       "      <td>1</td>\n",
       "      <td>женат / замужем</td>\n",
       "      <td>0</td>\n",
       "      <td>M</td>\n",
       "      <td>сотрудник</td>\n",
       "      <td>0</td>\n",
       "      <td>144425.938277</td>\n",
       "      <td>покупка жилья для семьи</td>\n",
       "    </tr>\n",
       "    <tr>\n",
       "      <th>10</th>\n",
       "      <td>2</td>\n",
       "      <td>-4171.483647</td>\n",
       "      <td>36</td>\n",
       "      <td>высшее</td>\n",
       "      <td>0</td>\n",
       "      <td>женат / замужем</td>\n",
       "      <td>0</td>\n",
       "      <td>M</td>\n",
       "      <td>компаньон</td>\n",
       "      <td>0</td>\n",
       "      <td>113943.491460</td>\n",
       "      <td>покупка недвижимости</td>\n",
       "    </tr>\n",
       "    <tr>\n",
       "      <th>11</th>\n",
       "      <td>0</td>\n",
       "      <td>-792.701887</td>\n",
       "      <td>40</td>\n",
       "      <td>среднее</td>\n",
       "      <td>1</td>\n",
       "      <td>женат / замужем</td>\n",
       "      <td>0</td>\n",
       "      <td>F</td>\n",
       "      <td>сотрудник</td>\n",
       "      <td>0</td>\n",
       "      <td>77069.234271</td>\n",
       "      <td>покупка коммерческой недвижимости</td>\n",
       "    </tr>\n",
       "    <tr>\n",
       "      <th>12</th>\n",
       "      <td>0</td>\n",
       "      <td>NaN</td>\n",
       "      <td>65</td>\n",
       "      <td>среднее</td>\n",
       "      <td>1</td>\n",
       "      <td>гражданский брак</td>\n",
       "      <td>1</td>\n",
       "      <td>M</td>\n",
       "      <td>пенсионер</td>\n",
       "      <td>0</td>\n",
       "      <td>NaN</td>\n",
       "      <td>сыграть свадьбу</td>\n",
       "    </tr>\n",
       "    <tr>\n",
       "      <th>13</th>\n",
       "      <td>0</td>\n",
       "      <td>-1846.641941</td>\n",
       "      <td>54</td>\n",
       "      <td>неоконченное высшее</td>\n",
       "      <td>2</td>\n",
       "      <td>женат / замужем</td>\n",
       "      <td>0</td>\n",
       "      <td>F</td>\n",
       "      <td>сотрудник</td>\n",
       "      <td>0</td>\n",
       "      <td>130458.228857</td>\n",
       "      <td>приобретение автомобиля</td>\n",
       "    </tr>\n",
       "    <tr>\n",
       "      <th>14</th>\n",
       "      <td>0</td>\n",
       "      <td>-1844.956182</td>\n",
       "      <td>56</td>\n",
       "      <td>высшее</td>\n",
       "      <td>0</td>\n",
       "      <td>гражданский брак</td>\n",
       "      <td>1</td>\n",
       "      <td>F</td>\n",
       "      <td>компаньон</td>\n",
       "      <td>1</td>\n",
       "      <td>165127.911772</td>\n",
       "      <td>покупка жилой недвижимости</td>\n",
       "    </tr>\n",
       "    <tr>\n",
       "      <th>15</th>\n",
       "      <td>1</td>\n",
       "      <td>-972.364419</td>\n",
       "      <td>26</td>\n",
       "      <td>среднее</td>\n",
       "      <td>1</td>\n",
       "      <td>женат / замужем</td>\n",
       "      <td>0</td>\n",
       "      <td>F</td>\n",
       "      <td>сотрудник</td>\n",
       "      <td>0</td>\n",
       "      <td>116820.904450</td>\n",
       "      <td>строительство собственной недвижимости</td>\n",
       "    </tr>\n",
       "    <tr>\n",
       "      <th>16</th>\n",
       "      <td>0</td>\n",
       "      <td>-1719.934226</td>\n",
       "      <td>35</td>\n",
       "      <td>среднее</td>\n",
       "      <td>1</td>\n",
       "      <td>женат / замужем</td>\n",
       "      <td>0</td>\n",
       "      <td>F</td>\n",
       "      <td>сотрудник</td>\n",
       "      <td>0</td>\n",
       "      <td>289202.704229</td>\n",
       "      <td>недвижимость</td>\n",
       "    </tr>\n",
       "    <tr>\n",
       "      <th>17</th>\n",
       "      <td>0</td>\n",
       "      <td>-2369.999720</td>\n",
       "      <td>33</td>\n",
       "      <td>высшее</td>\n",
       "      <td>0</td>\n",
       "      <td>гражданский брак</td>\n",
       "      <td>1</td>\n",
       "      <td>M</td>\n",
       "      <td>сотрудник</td>\n",
       "      <td>0</td>\n",
       "      <td>90410.586745</td>\n",
       "      <td>строительство недвижимости</td>\n",
       "    </tr>\n",
       "    <tr>\n",
       "      <th>18</th>\n",
       "      <td>0</td>\n",
       "      <td>400281.136913</td>\n",
       "      <td>53</td>\n",
       "      <td>среднее</td>\n",
       "      <td>1</td>\n",
       "      <td>вдовец / вдова</td>\n",
       "      <td>2</td>\n",
       "      <td>F</td>\n",
       "      <td>пенсионер</td>\n",
       "      <td>0</td>\n",
       "      <td>56823.777243</td>\n",
       "      <td>на покупку подержанного автомобиля</td>\n",
       "    </tr>\n",
       "    <tr>\n",
       "      <th>19</th>\n",
       "      <td>0</td>\n",
       "      <td>-10038.818549</td>\n",
       "      <td>48</td>\n",
       "      <td>СРЕДНЕЕ</td>\n",
       "      <td>1</td>\n",
       "      <td>в разводе</td>\n",
       "      <td>3</td>\n",
       "      <td>F</td>\n",
       "      <td>сотрудник</td>\n",
       "      <td>0</td>\n",
       "      <td>242831.107982</td>\n",
       "      <td>на покупку своего автомобиля</td>\n",
       "    </tr>\n",
       "  </tbody>\n",
       "</table>\n",
       "</div>"
      ],
      "text/plain": [
       "    children  days_employed  dob_years            education  education_id  \\\n",
       "0          1   -8437.673028         42               высшее             0   \n",
       "1          1   -4024.803754         36              среднее             1   \n",
       "2          0   -5623.422610         33              Среднее             1   \n",
       "3          3   -4124.747207         32              среднее             1   \n",
       "4          0  340266.072047         53              среднее             1   \n",
       "5          0    -926.185831         27               высшее             0   \n",
       "6          0   -2879.202052         43               высшее             0   \n",
       "7          0    -152.779569         50              СРЕДНЕЕ             1   \n",
       "8          2   -6929.865299         35               ВЫСШЕЕ             0   \n",
       "9          0   -2188.756445         41              среднее             1   \n",
       "10         2   -4171.483647         36               высшее             0   \n",
       "11         0    -792.701887         40              среднее             1   \n",
       "12         0            NaN         65              среднее             1   \n",
       "13         0   -1846.641941         54  неоконченное высшее             2   \n",
       "14         0   -1844.956182         56               высшее             0   \n",
       "15         1    -972.364419         26              среднее             1   \n",
       "16         0   -1719.934226         35              среднее             1   \n",
       "17         0   -2369.999720         33               высшее             0   \n",
       "18         0  400281.136913         53              среднее             1   \n",
       "19         0  -10038.818549         48              СРЕДНЕЕ             1   \n",
       "\n",
       "       family_status  family_status_id gender income_type  debt  \\\n",
       "0    женат / замужем                 0      F   сотрудник     0   \n",
       "1    женат / замужем                 0      F   сотрудник     0   \n",
       "2    женат / замужем                 0      M   сотрудник     0   \n",
       "3    женат / замужем                 0      M   сотрудник     0   \n",
       "4   гражданский брак                 1      F   пенсионер     0   \n",
       "5   гражданский брак                 1      M   компаньон     0   \n",
       "6    женат / замужем                 0      F   компаньон     0   \n",
       "7    женат / замужем                 0      M   сотрудник     0   \n",
       "8   гражданский брак                 1      F   сотрудник     0   \n",
       "9    женат / замужем                 0      M   сотрудник     0   \n",
       "10   женат / замужем                 0      M   компаньон     0   \n",
       "11   женат / замужем                 0      F   сотрудник     0   \n",
       "12  гражданский брак                 1      M   пенсионер     0   \n",
       "13   женат / замужем                 0      F   сотрудник     0   \n",
       "14  гражданский брак                 1      F   компаньон     1   \n",
       "15   женат / замужем                 0      F   сотрудник     0   \n",
       "16   женат / замужем                 0      F   сотрудник     0   \n",
       "17  гражданский брак                 1      M   сотрудник     0   \n",
       "18    вдовец / вдова                 2      F   пенсионер     0   \n",
       "19         в разводе                 3      F   сотрудник     0   \n",
       "\n",
       "     total_income                                 purpose  \n",
       "0   253875.639453                           покупка жилья  \n",
       "1   112080.014102                 приобретение автомобиля  \n",
       "2   145885.952297                           покупка жилья  \n",
       "3   267628.550329              дополнительное образование  \n",
       "4   158616.077870                         сыграть свадьбу  \n",
       "5   255763.565419                           покупка жилья  \n",
       "6   240525.971920                       операции с жильем  \n",
       "7   135823.934197                             образование  \n",
       "8    95856.832424                   на проведение свадьбы  \n",
       "9   144425.938277                 покупка жилья для семьи  \n",
       "10  113943.491460                    покупка недвижимости  \n",
       "11   77069.234271       покупка коммерческой недвижимости  \n",
       "12            NaN                         сыграть свадьбу  \n",
       "13  130458.228857                 приобретение автомобиля  \n",
       "14  165127.911772              покупка жилой недвижимости  \n",
       "15  116820.904450  строительство собственной недвижимости  \n",
       "16  289202.704229                            недвижимость  \n",
       "17   90410.586745              строительство недвижимости  \n",
       "18   56823.777243      на покупку подержанного автомобиля  \n",
       "19  242831.107982            на покупку своего автомобиля  "
      ]
     },
     "execution_count": 2,
     "metadata": {},
     "output_type": "execute_result"
    }
   ],
   "source": [
    "data.head(20)"
   ]
  },
  {
   "cell_type": "markdown",
   "id": "0ed8f27f",
   "metadata": {
    "deletable": false,
    "editable": false,
    "id": "0ed8f27f"
   },
   "source": [
    "**Задание 3. Выведите основную информацию о датафрейме с помощью метода `info()`.**"
   ]
  },
  {
   "cell_type": "code",
   "execution_count": 3,
   "id": "ab3f863b",
   "metadata": {
    "deletable": false,
    "id": "ab3f863b",
    "outputId": "15376089-8dad-46c9-b520-c05248d43158"
   },
   "outputs": [
    {
     "name": "stdout",
     "output_type": "stream",
     "text": [
      "<class 'pandas.core.frame.DataFrame'>\n",
      "RangeIndex: 21525 entries, 0 to 21524\n",
      "Data columns (total 12 columns):\n",
      " #   Column            Non-Null Count  Dtype  \n",
      "---  ------            --------------  -----  \n",
      " 0   children          21525 non-null  int64  \n",
      " 1   days_employed     19351 non-null  float64\n",
      " 2   dob_years         21525 non-null  int64  \n",
      " 3   education         21525 non-null  object \n",
      " 4   education_id      21525 non-null  int64  \n",
      " 5   family_status     21525 non-null  object \n",
      " 6   family_status_id  21525 non-null  int64  \n",
      " 7   gender            21525 non-null  object \n",
      " 8   income_type       21525 non-null  object \n",
      " 9   debt              21525 non-null  int64  \n",
      " 10  total_income      19351 non-null  float64\n",
      " 11  purpose           21525 non-null  object \n",
      "dtypes: float64(2), int64(5), object(5)\n",
      "memory usage: 2.0+ MB\n"
     ]
    }
   ],
   "source": [
    "data.info()"
   ]
  },
  {
   "cell_type": "markdown",
   "id": "60e3e22d",
   "metadata": {
    "deletable": false,
    "editable": false,
    "id": "60e3e22d"
   },
   "source": [
    "## Предобработка данных"
   ]
  },
  {
   "cell_type": "markdown",
   "id": "03dc170c",
   "metadata": {
    "deletable": false,
    "editable": false,
    "id": "03dc170c"
   },
   "source": [
    "### Удаление пропусков"
   ]
  },
  {
   "cell_type": "markdown",
   "id": "a4f54eef",
   "metadata": {
    "deletable": false,
    "editable": false,
    "id": "a4f54eef"
   },
   "source": [
    "**Задание 4. Выведите количество пропущенных значений для каждого столбца. Используйте комбинацию двух методов.**"
   ]
  },
  {
   "cell_type": "code",
   "execution_count": 4,
   "id": "2dc372b2",
   "metadata": {
    "deletable": false,
    "id": "2dc372b2",
    "outputId": "81f4d817-781c-465c-ed15-91ce4446810d"
   },
   "outputs": [
    {
     "data": {
      "text/plain": [
       "children               0\n",
       "days_employed       2174\n",
       "dob_years              0\n",
       "education              0\n",
       "education_id           0\n",
       "family_status          0\n",
       "family_status_id       0\n",
       "gender                 0\n",
       "income_type            0\n",
       "debt                   0\n",
       "total_income        2174\n",
       "purpose                0\n",
       "dtype: int64"
      ]
     },
     "execution_count": 4,
     "metadata": {},
     "output_type": "execute_result"
    }
   ],
   "source": [
    "data.isna().sum()"
   ]
  },
  {
   "cell_type": "markdown",
   "id": "14f011b1",
   "metadata": {
    "deletable": false,
    "editable": false,
    "id": "14f011b1"
   },
   "source": [
    "**Задание 5. В двух столбцах есть пропущенные значения. Один из них — `days_employed`. Пропуски в этом столбце вы обработаете на следующем этапе. Другой столбец с пропущенными значениями — `total_income` — хранит данные о доходах. На сумму дохода сильнее всего влияет тип занятости, поэтому заполнить пропуски в этом столбце нужно медианным значением по каждому типу из столбца `income_type`. Например, у человека с типом занятости `сотрудник` пропуск в столбце `total_income` должен быть заполнен медианным доходом среди всех записей с тем же типом.**"
   ]
  },
  {
   "cell_type": "code",
   "execution_count": 5,
   "id": "bdabfb6e",
   "metadata": {
    "deletable": false,
    "id": "bdabfb6e"
   },
   "outputs": [],
   "source": [
    "for t in data['income_type'].unique():\n",
    "    data.loc[(data['income_type'] == t) & (data['total_income'].isna()), 'total_income'] = \\\n",
    "    data.loc[(data['income_type'] == t), 'total_income'].median()"
   ]
  },
  {
   "cell_type": "markdown",
   "id": "5be34059",
   "metadata": {
    "deletable": false,
    "editable": false,
    "id": "5be34059"
   },
   "source": [
    "### Обработка аномальных значений"
   ]
  },
  {
   "cell_type": "markdown",
   "id": "a87606cb",
   "metadata": {
    "deletable": false,
    "editable": false,
    "id": "a87606cb"
   },
   "source": [
    "**Задание 6. В данных могут встречаться артефакты (аномалии) — значения, которые не отражают действительность и появились по какой-то ошибке. таким артефактом будет отрицательное количество дней трудового стажа в столбце `days_employed`. Для реальных данных это нормально. Обработайте значения в этом столбце: замените все отрицательные значения положительными с помощью метода `abs()`.**"
   ]
  },
  {
   "cell_type": "code",
   "execution_count": 6,
   "id": "020c46cc",
   "metadata": {
    "deletable": false,
    "id": "020c46cc"
   },
   "outputs": [],
   "source": [
    "data['days_employed'] = data['days_employed'].abs()"
   ]
  },
  {
   "cell_type": "markdown",
   "id": "45538a3a",
   "metadata": {
    "deletable": false,
    "editable": false,
    "id": "45538a3a"
   },
   "source": [
    "**Задание 7. Для каждого типа занятости выведите медианное значение трудового стажа `days_employed` в днях.**"
   ]
  },
  {
   "cell_type": "code",
   "execution_count": 7,
   "id": "cd3e6328",
   "metadata": {
    "deletable": false,
    "id": "cd3e6328",
    "outputId": "801ef80e-522b-4668-f34e-565af7432bcf"
   },
   "outputs": [
    {
     "data": {
      "text/plain": [
       "income_type\n",
       "безработный        366413.652744\n",
       "в декрете            3296.759962\n",
       "госслужащий          2689.368353\n",
       "компаньон            1547.382223\n",
       "пенсионер          365213.306266\n",
       "предприниматель       520.848083\n",
       "сотрудник            1574.202821\n",
       "студент               578.751554\n",
       "Name: days_employed, dtype: float64"
      ]
     },
     "execution_count": 7,
     "metadata": {},
     "output_type": "execute_result"
    }
   ],
   "source": [
    "data.groupby('income_type')['days_employed'].agg('median')"
   ]
  },
  {
   "cell_type": "markdown",
   "id": "90c5f058",
   "metadata": {
    "deletable": false,
    "editable": false,
    "id": "90c5f058"
   },
   "source": [
    "У двух типов (безработные и пенсионеры) получатся аномально большие значения. Исправить такие значения сложно, поэтому оставьте их как есть."
   ]
  },
  {
   "cell_type": "markdown",
   "id": "9652e50d",
   "metadata": {
    "deletable": false,
    "editable": false,
    "id": "9652e50d"
   },
   "source": [
    "**Задание 8. Выведите перечень уникальных значений столбца `children`.**"
   ]
  },
  {
   "cell_type": "code",
   "execution_count": 8,
   "id": "dbb37b8e",
   "metadata": {
    "deletable": false,
    "id": "dbb37b8e",
    "outputId": "6975b15c-7f95-4697-d16d-a0c79b657b03"
   },
   "outputs": [
    {
     "data": {
      "text/plain": [
       "array([ 1,  0,  3,  2, -1,  4, 20,  5])"
      ]
     },
     "execution_count": 8,
     "metadata": {},
     "output_type": "execute_result"
    }
   ],
   "source": [
    "data['children'].unique()"
   ]
  },
  {
   "cell_type": "markdown",
   "id": "2b8b0715",
   "metadata": {
    "deletable": false,
    "editable": false,
    "id": "2b8b0715"
   },
   "source": [
    "**Задание 9. В столбце `children` есть два аномальных значения. Удалите строки, в которых встречаются такие аномальные значения из датафрейма `data`.**"
   ]
  },
  {
   "cell_type": "code",
   "execution_count": 9,
   "id": "20009df8",
   "metadata": {
    "deletable": false,
    "id": "20009df8"
   },
   "outputs": [],
   "source": [
    "data = data[(data['children'] != -1) & (data['children'] != 20)]"
   ]
  },
  {
   "cell_type": "markdown",
   "id": "8c6ac9f1",
   "metadata": {
    "deletable": false,
    "editable": false,
    "id": "8c6ac9f1"
   },
   "source": [
    "**Задание 10. Ещё раз выведите перечень уникальных значений столбца `children`, чтобы убедиться, что артефакты удалены.**"
   ]
  },
  {
   "cell_type": "code",
   "execution_count": 10,
   "id": "07337b81",
   "metadata": {
    "deletable": false,
    "id": "07337b81",
    "outputId": "b2097101-d49d-44d9-901b-32a65c9463d1"
   },
   "outputs": [
    {
     "data": {
      "text/plain": [
       "array([1, 0, 3, 2, 4, 5])"
      ]
     },
     "execution_count": 10,
     "metadata": {},
     "output_type": "execute_result"
    }
   ],
   "source": [
    "data['children'].unique()"
   ]
  },
  {
   "cell_type": "markdown",
   "id": "ee3f52d4",
   "metadata": {
    "deletable": false,
    "editable": false,
    "id": "ee3f52d4"
   },
   "source": [
    "### Удаление пропусков (продолжение)"
   ]
  },
  {
   "cell_type": "markdown",
   "id": "a700b0e4",
   "metadata": {
    "deletable": false,
    "editable": false,
    "id": "a700b0e4"
   },
   "source": [
    "**Задание 11. Заполните пропуски в столбце `days_employed` медианными значениями по каждого типа занятости `income_type`.**"
   ]
  },
  {
   "cell_type": "code",
   "execution_count": 11,
   "id": "61946b83",
   "metadata": {
    "deletable": false,
    "id": "61946b83"
   },
   "outputs": [],
   "source": [
    "for t in data['income_type'].unique():\n",
    "    data.loc[(data['income_type'] == t) & (data['days_employed'].isna()), 'days_employed'] = \\\n",
    "    data.loc[(data['income_type'] == t), 'days_employed'].median()"
   ]
  },
  {
   "cell_type": "markdown",
   "id": "550dcd9b",
   "metadata": {
    "deletable": false,
    "editable": false,
    "id": "550dcd9b"
   },
   "source": [
    "**Задание 12. Убедитесь, что все пропуски заполнены. Проверьте себя и ещё раз выведите количество пропущенных значений для каждого столбца с помощью двух методов.**"
   ]
  },
  {
   "cell_type": "code",
   "execution_count": 12,
   "id": "937c7014",
   "metadata": {
    "deletable": false,
    "id": "937c7014",
    "outputId": "8da1e4e1-358e-4e87-98c9-f261bce0a7b2"
   },
   "outputs": [
    {
     "data": {
      "text/plain": [
       "children            0\n",
       "days_employed       0\n",
       "dob_years           0\n",
       "education           0\n",
       "education_id        0\n",
       "family_status       0\n",
       "family_status_id    0\n",
       "gender              0\n",
       "income_type         0\n",
       "debt                0\n",
       "total_income        0\n",
       "purpose             0\n",
       "dtype: int64"
      ]
     },
     "execution_count": 12,
     "metadata": {},
     "output_type": "execute_result"
    }
   ],
   "source": [
    "data.isna().sum()"
   ]
  },
  {
   "cell_type": "markdown",
   "id": "d522e295",
   "metadata": {
    "deletable": false,
    "editable": false,
    "id": "d522e295"
   },
   "source": [
    "### Изменение типов данных"
   ]
  },
  {
   "cell_type": "markdown",
   "id": "c229c581",
   "metadata": {
    "deletable": false,
    "editable": false,
    "id": "c229c581"
   },
   "source": [
    "**Задание 13. Замените вещественный тип данных в столбце `total_income` на целочисленный с помощью метода `astype()`.**"
   ]
  },
  {
   "cell_type": "code",
   "execution_count": 2,
   "id": "31036462",
   "metadata": {
    "deletable": false,
    "id": "31036462"
   },
   "outputs": [
    {
     "ename": "NameError",
     "evalue": "name 'data' is not defined",
     "output_type": "error",
     "traceback": [
      "\u001b[0;31m---------------------------------------------------------------------------\u001b[0m",
      "\u001b[0;31mNameError\u001b[0m                                 Traceback (most recent call last)",
      "\u001b[0;32m/tmp/ipykernel_31/1002644910.py\u001b[0m in \u001b[0;36m<module>\u001b[0;34m\u001b[0m\n\u001b[0;32m----> 1\u001b[0;31m \u001b[0mdata\u001b[0m\u001b[0;34m[\u001b[0m\u001b[0;34m'total_income'\u001b[0m\u001b[0;34m]\u001b[0m \u001b[0;34m=\u001b[0m \u001b[0mdata\u001b[0m\u001b[0;34m[\u001b[0m\u001b[0;34m'total_income'\u001b[0m\u001b[0;34m]\u001b[0m\u001b[0;34m.\u001b[0m\u001b[0mastype\u001b[0m\u001b[0;34m(\u001b[0m\u001b[0mint\u001b[0m\u001b[0;34m)\u001b[0m\u001b[0;34m\u001b[0m\u001b[0;34m\u001b[0m\u001b[0m\n\u001b[0m",
      "\u001b[0;31mNameError\u001b[0m: name 'data' is not defined"
     ]
    }
   ],
   "source": [
    "data['total_income'] = data['total_income'].astype(int)"
   ]
  },
  {
   "cell_type": "markdown",
   "id": "b8e3d1d9",
   "metadata": {
    "deletable": false,
    "editable": false,
    "id": "b8e3d1d9"
   },
   "source": [
    "### Обработка дубликатов"
   ]
  },
  {
   "cell_type": "markdown",
   "id": "9be53c49",
   "metadata": {
    "deletable": false,
    "editable": false,
    "id": "9be53c49"
   },
   "source": [
    "**Задание 14. Обработайте неявные дубликаты в столбце `education`. В этом столбце есть одни и те же значения, но записанные по-разному: с использованием заглавных и строчных букв. Приведите их к нижнему регистру.**"
   ]
  },
  {
   "cell_type": "code",
   "execution_count": 14,
   "id": "d89e73e1",
   "metadata": {
    "deletable": false,
    "id": "d89e73e1"
   },
   "outputs": [],
   "source": [
    "data['education'] = data['education'].str.lower()"
   ]
  },
  {
   "cell_type": "markdown",
   "id": "01d4500e",
   "metadata": {
    "deletable": false,
    "editable": false,
    "id": "01d4500e"
   },
   "source": [
    "**Задание 15. Выведите на экран количество строк-дубликатов в данных. Если такие строки присутствуют, удалите их.**"
   ]
  },
  {
   "cell_type": "code",
   "execution_count": 15,
   "id": "e10efb23",
   "metadata": {
    "deletable": false,
    "id": "e10efb23",
    "outputId": "9684deba-1934-42d1-99e1-cda61740f822"
   },
   "outputs": [
    {
     "data": {
      "text/plain": [
       "71"
      ]
     },
     "execution_count": 15,
     "metadata": {},
     "output_type": "execute_result"
    }
   ],
   "source": [
    "data.duplicated().sum()"
   ]
  },
  {
   "cell_type": "code",
   "execution_count": 16,
   "id": "df853f20",
   "metadata": {
    "deletable": false,
    "id": "df853f20"
   },
   "outputs": [],
   "source": [
    "data = data.drop_duplicates()"
   ]
  },
  {
   "cell_type": "markdown",
   "id": "627be38f",
   "metadata": {
    "deletable": false,
    "editable": false,
    "id": "627be38f"
   },
   "source": [
    "### Категоризация данных"
   ]
  },
  {
   "cell_type": "markdown",
   "id": "4684c3e0",
   "metadata": {
    "deletable": false,
    "editable": false,
    "id": "4684c3e0"
   },
   "source": [
    "**Задание 16. На основании диапазонов, указанных ниже, создайте в датафрейме `data` столбец `total_income_category` с категориями:**\n",
    "\n",
    "- 0–30000 — `'E'`;\n",
    "- 30001–50000 — `'D'`;\n",
    "- 50001–200000 — `'C'`;\n",
    "- 200001–1000000 — `'B'`;\n",
    "- 1000001 и выше — `'A'`.\n",
    "\n",
    "\n",
    "**Например, кредитополучателю с доходом 25000 нужно назначить категорию `'E'`, а клиенту, получающему 235000, — `'B'`. Используйте собственную функцию с именем `categorize_income()` и метод `apply()`.**"
   ]
  },
  {
   "cell_type": "code",
   "execution_count": 17,
   "id": "78965238",
   "metadata": {
    "deletable": false,
    "id": "78965238"
   },
   "outputs": [],
   "source": [
    "def categorize_income(income):\n",
    "    try:\n",
    "        if 0 <= income <= 30000:\n",
    "            return 'E'\n",
    "        elif 30001 <= income <= 50000:\n",
    "            return 'D'\n",
    "        elif 50001 <= income <= 200000:\n",
    "            return 'C'\n",
    "        elif 200001 <= income <= 1000000:\n",
    "            return 'B'\n",
    "        elif income >= 1000001:\n",
    "            return 'A'\n",
    "    except:\n",
    "        pass"
   ]
  },
  {
   "cell_type": "code",
   "execution_count": 18,
   "id": "0980ada1",
   "metadata": {
    "deletable": false,
    "id": "0980ada1"
   },
   "outputs": [],
   "source": [
    "data['total_income_category'] = data['total_income'].apply(categorize_income)"
   ]
  },
  {
   "cell_type": "markdown",
   "id": "9917bba0",
   "metadata": {
    "deletable": false,
    "editable": false,
    "id": "9917bba0"
   },
   "source": [
    "**Задание 17. Выведите на экран перечень уникальных целей взятия кредита из столбца `purpose`.**"
   ]
  },
  {
   "cell_type": "code",
   "execution_count": 19,
   "id": "ee07b65e",
   "metadata": {
    "deletable": false,
    "id": "ee07b65e",
    "outputId": "673c12d9-7d7e-4ae0-9812-c622c89dd244"
   },
   "outputs": [
    {
     "data": {
      "text/plain": [
       "array(['покупка жилья', 'приобретение автомобиля',\n",
       "       'дополнительное образование', 'сыграть свадьбу',\n",
       "       'операции с жильем', 'образование', 'на проведение свадьбы',\n",
       "       'покупка жилья для семьи', 'покупка недвижимости',\n",
       "       'покупка коммерческой недвижимости', 'покупка жилой недвижимости',\n",
       "       'строительство собственной недвижимости', 'недвижимость',\n",
       "       'строительство недвижимости', 'на покупку подержанного автомобиля',\n",
       "       'на покупку своего автомобиля',\n",
       "       'операции с коммерческой недвижимостью',\n",
       "       'строительство жилой недвижимости', 'жилье',\n",
       "       'операции со своей недвижимостью', 'автомобили',\n",
       "       'заняться образованием', 'сделка с подержанным автомобилем',\n",
       "       'получение образования', 'автомобиль', 'свадьба',\n",
       "       'получение дополнительного образования', 'покупка своего жилья',\n",
       "       'операции с недвижимостью', 'получение высшего образования',\n",
       "       'свой автомобиль', 'сделка с автомобилем',\n",
       "       'профильное образование', 'высшее образование',\n",
       "       'покупка жилья для сдачи', 'на покупку автомобиля', 'ремонт жилью',\n",
       "       'заняться высшим образованием'], dtype=object)"
      ]
     },
     "execution_count": 19,
     "metadata": {},
     "output_type": "execute_result"
    }
   ],
   "source": [
    "data['purpose'].unique()"
   ]
  },
  {
   "cell_type": "markdown",
   "id": "52b79d56",
   "metadata": {
    "deletable": false,
    "editable": false,
    "id": "52b79d56"
   },
   "source": [
    "**Задание 18. Создайте функцию, которая на основании данных из столбца `purpose` сформирует новый столбец `purpose_category`, в который войдут следующие категории:**\n",
    "\n",
    "- `'операции с автомобилем'`,\n",
    "- `'операции с недвижимостью'`,\n",
    "- `'проведение свадьбы'`,\n",
    "- `'получение образования'`.\n",
    "\n",
    "**Например, если в столбце `purpose` находится подстрока `'на покупку автомобиля'`, то в столбце `purpose_category` должна появиться строка `'операции с автомобилем'`.**\n",
    "\n",
    "**Используйте собственную функцию с именем `categorize_purpose()` и метод `apply()`. Изучите данные в столбце `purpose` и определите, какие подстроки помогут вам правильно определить категорию.**"
   ]
  },
  {
   "cell_type": "code",
   "execution_count": 20,
   "id": "be41da5d",
   "metadata": {
    "deletable": false,
    "id": "be41da5d"
   },
   "outputs": [],
   "source": [
    "def categorize_purpose(row):\n",
    "    try:\n",
    "        if 'автом' in row:\n",
    "            return 'операции с автомобилем'\n",
    "        elif 'жил' in row or 'недвиж' in row:\n",
    "            return 'операции с недвижимостью'\n",
    "        elif 'свад' in row:\n",
    "            return 'проведение свадьбы'\n",
    "        elif 'образов' in row:\n",
    "            return 'получение образования'\n",
    "    except:\n",
    "        return 'нет категории'"
   ]
  },
  {
   "cell_type": "code",
   "execution_count": 21,
   "id": "94c4a19a",
   "metadata": {
    "deletable": false,
    "id": "94c4a19a"
   },
   "outputs": [],
   "source": [
    "data['purpose_category'] = data['purpose'].apply(categorize_purpose)"
   ]
  },
  {
   "cell_type": "markdown",
   "id": "3d596c34",
   "metadata": {
    "deletable": false,
    "editable": false,
    "id": "3d596c34"
   },
   "source": [
    "### Шаг 3. Исследуйте данные и ответьте на вопросы"
   ]
  },
  {
   "cell_type": "markdown",
   "id": "648db036",
   "metadata": {
    "deletable": false,
    "editable": false,
    "id": "648db036"
   },
   "source": [
    "#### 3.1 Есть ли зависимость между количеством детей и возвратом кредита в срок?"
   ]
  },
  {
   "cell_type": "code",
   "execution_count": 22,
   "id": "7fcff25e",
   "metadata": {
    "deletable": false,
    "id": "7fcff25e"
   },
   "outputs": [
    {
     "name": "stdout",
     "output_type": "stream",
     "text": [
      "[0 1]\n"
     ]
    },
    {
     "data": {
      "text/html": [
       "<div>\n",
       "<style scoped>\n",
       "    .dataframe tbody tr th:only-of-type {\n",
       "        vertical-align: middle;\n",
       "    }\n",
       "\n",
       "    .dataframe tbody tr th {\n",
       "        vertical-align: top;\n",
       "    }\n",
       "\n",
       "    .dataframe thead th {\n",
       "        text-align: right;\n",
       "    }\n",
       "</style>\n",
       "<table border=\"1\" class=\"dataframe\">\n",
       "  <thead>\n",
       "    <tr style=\"text-align: right;\">\n",
       "      <th>debt</th>\n",
       "      <th>has_unpaid_debt</th>\n",
       "      <th>no_unpaid_debts</th>\n",
       "      <th>children_impact</th>\n",
       "    </tr>\n",
       "    <tr>\n",
       "      <th>children</th>\n",
       "      <th></th>\n",
       "      <th></th>\n",
       "      <th></th>\n",
       "    </tr>\n",
       "  </thead>\n",
       "  <tbody>\n",
       "    <tr>\n",
       "      <th>0</th>\n",
       "      <td>1063.0</td>\n",
       "      <td>13028.0</td>\n",
       "      <td>0.075438</td>\n",
       "    </tr>\n",
       "    <tr>\n",
       "      <th>1</th>\n",
       "      <td>444.0</td>\n",
       "      <td>4364.0</td>\n",
       "      <td>0.092346</td>\n",
       "    </tr>\n",
       "    <tr>\n",
       "      <th>2</th>\n",
       "      <td>194.0</td>\n",
       "      <td>1858.0</td>\n",
       "      <td>0.094542</td>\n",
       "    </tr>\n",
       "    <tr>\n",
       "      <th>3</th>\n",
       "      <td>27.0</td>\n",
       "      <td>303.0</td>\n",
       "      <td>0.081818</td>\n",
       "    </tr>\n",
       "    <tr>\n",
       "      <th>4</th>\n",
       "      <td>4.0</td>\n",
       "      <td>37.0</td>\n",
       "      <td>0.097561</td>\n",
       "    </tr>\n",
       "    <tr>\n",
       "      <th>5</th>\n",
       "      <td>0.0</td>\n",
       "      <td>9.0</td>\n",
       "      <td>0.000000</td>\n",
       "    </tr>\n",
       "  </tbody>\n",
       "</table>\n",
       "</div>"
      ],
      "text/plain": [
       "debt      has_unpaid_debt  no_unpaid_debts  children_impact\n",
       "children                                                   \n",
       "0                  1063.0          13028.0         0.075438\n",
       "1                   444.0           4364.0         0.092346\n",
       "2                   194.0           1858.0         0.094542\n",
       "3                    27.0            303.0         0.081818\n",
       "4                     4.0             37.0         0.097561\n",
       "5                     0.0              9.0         0.000000"
      ]
     },
     "execution_count": 22,
     "metadata": {},
     "output_type": "execute_result"
    }
   ],
   "source": [
    "print(data['debt'].unique())  # столбец 'debt' имеет 2 уникальных значения: 1 - клиент имел задолженность, 0 - не имел\n",
    "\n",
    "data['debt'] = data['debt'].replace({0:'no_unpaid_debts', 1:'has_unpaid_debt'})  # для понятного названия столбцов в сводной таблице\n",
    "\n",
    "data_children_impact = data.pivot_table(index='children', columns='debt', values='gender', aggfunc='count').fillna(0)\n",
    "data_children_impact['children_impact'] = data_children_impact['has_unpaid_debt'] / (data_children_impact['no_unpaid_debts'] +\n",
    "data_children_impact['has_unpaid_debt'])  \n",
    "data_children_impact \n",
    "\n",
    "\n",
    "\n",
    "\n"
   ]
  },
  {
   "cell_type": "markdown",
   "id": "292a4296",
   "metadata": {},
   "source": [
    "<div class=\"alert alert-success\">\n",
    "\n",
    "**Артём:** 👍 Молодец, что используешь сводную таблицу.\n",
    "\n",
    "</div>"
   ]
  },
  {
   "cell_type": "markdown",
   "id": "2eb9088e",
   "metadata": {
    "deletable": false,
    "id": "2eb9088e"
   },
   "source": [
    "**Вывод:** Выборка клиентов с 4-5 детьми недостачно велика, чтобы делать по ней выводы о зависимости между количеством детей и возвратом кредита в срок. Среди клиентов с 3 и меньше детьми, в том числе без детей, доля имевших задолжность по кредиту примерно одинаковая."
   ]
  },
  {
   "cell_type": "markdown",
   "id": "7c14786d",
   "metadata": {},
   "source": [
    "<div class=\"alert alert-success\">\n",
    "\n",
    "**Артём:** 👍 Правильно, что смотришь на репрезентативность выборок.\n",
    "\n",
    "</div>"
   ]
  },
  {
   "cell_type": "markdown",
   "id": "74c9b3a7",
   "metadata": {
    "deletable": false,
    "editable": false,
    "id": "74c9b3a7"
   },
   "source": [
    "#### 3.2 Есть ли зависимость между семейным положением и возвратом кредита в срок?"
   ]
  },
  {
   "cell_type": "code",
   "execution_count": 23,
   "id": "8098ab3b",
   "metadata": {
    "deletable": false,
    "id": "8098ab3b"
   },
   "outputs": [
    {
     "data": {
      "text/html": [
       "<div>\n",
       "<style scoped>\n",
       "    .dataframe tbody tr th:only-of-type {\n",
       "        vertical-align: middle;\n",
       "    }\n",
       "\n",
       "    .dataframe tbody tr th {\n",
       "        vertical-align: top;\n",
       "    }\n",
       "\n",
       "    .dataframe thead th {\n",
       "        text-align: right;\n",
       "    }\n",
       "</style>\n",
       "<table border=\"1\" class=\"dataframe\">\n",
       "  <thead>\n",
       "    <tr style=\"text-align: right;\">\n",
       "      <th>debt</th>\n",
       "      <th>has_unpaid_debt</th>\n",
       "      <th>no_unpaid_debts</th>\n",
       "      <th>family_impact</th>\n",
       "    </tr>\n",
       "    <tr>\n",
       "      <th>family_status</th>\n",
       "      <th></th>\n",
       "      <th></th>\n",
       "      <th></th>\n",
       "    </tr>\n",
       "  </thead>\n",
       "  <tbody>\n",
       "    <tr>\n",
       "      <th>вдовец / вдова</th>\n",
       "      <td>63</td>\n",
       "      <td>888</td>\n",
       "      <td>0.066246</td>\n",
       "    </tr>\n",
       "    <tr>\n",
       "      <th>в разводе</th>\n",
       "      <td>84</td>\n",
       "      <td>1105</td>\n",
       "      <td>0.070648</td>\n",
       "    </tr>\n",
       "    <tr>\n",
       "      <th>женат / замужем</th>\n",
       "      <td>927</td>\n",
       "      <td>11334</td>\n",
       "      <td>0.075606</td>\n",
       "    </tr>\n",
       "    <tr>\n",
       "      <th>гражданский брак</th>\n",
       "      <td>385</td>\n",
       "      <td>3749</td>\n",
       "      <td>0.093130</td>\n",
       "    </tr>\n",
       "    <tr>\n",
       "      <th>не женат / не замужем</th>\n",
       "      <td>273</td>\n",
       "      <td>2523</td>\n",
       "      <td>0.097639</td>\n",
       "    </tr>\n",
       "  </tbody>\n",
       "</table>\n",
       "</div>"
      ],
      "text/plain": [
       "debt                   has_unpaid_debt  no_unpaid_debts  family_impact\n",
       "family_status                                                         \n",
       "вдовец / вдова                      63              888       0.066246\n",
       "в разводе                           84             1105       0.070648\n",
       "женат / замужем                    927            11334       0.075606\n",
       "гражданский брак                   385             3749       0.093130\n",
       "не женат / не замужем              273             2523       0.097639"
      ]
     },
     "execution_count": 23,
     "metadata": {},
     "output_type": "execute_result"
    }
   ],
   "source": [
    "data['family_status'] = data['family_status'].str.lower()  # перфекционизм, буква Н теперь маленькая\n",
    "data_family_impact = data.pivot_table(index='family_status', columns='debt', values='gender', aggfunc='count')\n",
    "data_family_impact['family_impact'] = data_family_impact['has_unpaid_debt'] / (data_family_impact['no_unpaid_debts'] +\n",
    "data_family_impact['has_unpaid_debt'])\n",
    "data_family_impact.sort_values('family_impact')  "
   ]
  },
  {
   "cell_type": "markdown",
   "id": "c389ca63",
   "metadata": {
    "deletable": false,
    "id": "c389ca63"
   },
   "source": [
    "**Вывод:** Клиенты из категорий 'не женат / не замужем' и 'гражданский брак' чаще имели задолженность по кредиту, в то время как клиенты с семейным статусом 'вдовец / вдова' реже всех остальных имели задолженность."
   ]
  },
  {
   "cell_type": "markdown",
   "id": "354e56e5",
   "metadata": {},
   "source": [
    "<div class=\"alert alert-success\">\n",
    "\n",
    "**Артём:** 👍 Верно.\n",
    "\n",
    "</div>"
   ]
  },
  {
   "cell_type": "markdown",
   "id": "9529de68",
   "metadata": {
    "deletable": false,
    "editable": false,
    "id": "9529de68"
   },
   "source": [
    "#### 3.3 Есть ли зависимость между уровнем дохода и возвратом кредита в срок?"
   ]
  },
  {
   "cell_type": "code",
   "execution_count": 24,
   "id": "8787f44a",
   "metadata": {
    "deletable": false,
    "id": "8787f44a"
   },
   "outputs": [
    {
     "data": {
      "text/html": [
       "<div>\n",
       "<style scoped>\n",
       "    .dataframe tbody tr th:only-of-type {\n",
       "        vertical-align: middle;\n",
       "    }\n",
       "\n",
       "    .dataframe tbody tr th {\n",
       "        vertical-align: top;\n",
       "    }\n",
       "\n",
       "    .dataframe thead th {\n",
       "        text-align: right;\n",
       "    }\n",
       "</style>\n",
       "<table border=\"1\" class=\"dataframe\">\n",
       "  <thead>\n",
       "    <tr style=\"text-align: right;\">\n",
       "      <th>debt</th>\n",
       "      <th>has_unpaid_debt</th>\n",
       "      <th>no_unpaid_debts</th>\n",
       "      <th>income_impact</th>\n",
       "    </tr>\n",
       "    <tr>\n",
       "      <th>total_income_category</th>\n",
       "      <th></th>\n",
       "      <th></th>\n",
       "      <th></th>\n",
       "    </tr>\n",
       "  </thead>\n",
       "  <tbody>\n",
       "    <tr>\n",
       "      <th>A</th>\n",
       "      <td>2</td>\n",
       "      <td>23</td>\n",
       "      <td>0.080000</td>\n",
       "    </tr>\n",
       "    <tr>\n",
       "      <th>B</th>\n",
       "      <td>354</td>\n",
       "      <td>4660</td>\n",
       "      <td>0.070602</td>\n",
       "    </tr>\n",
       "    <tr>\n",
       "      <th>C</th>\n",
       "      <td>1353</td>\n",
       "      <td>14568</td>\n",
       "      <td>0.084982</td>\n",
       "    </tr>\n",
       "    <tr>\n",
       "      <th>D</th>\n",
       "      <td>21</td>\n",
       "      <td>328</td>\n",
       "      <td>0.060172</td>\n",
       "    </tr>\n",
       "    <tr>\n",
       "      <th>E</th>\n",
       "      <td>2</td>\n",
       "      <td>20</td>\n",
       "      <td>0.090909</td>\n",
       "    </tr>\n",
       "  </tbody>\n",
       "</table>\n",
       "</div>"
      ],
      "text/plain": [
       "debt                   has_unpaid_debt  no_unpaid_debts  income_impact\n",
       "total_income_category                                                 \n",
       "A                                    2               23       0.080000\n",
       "B                                  354             4660       0.070602\n",
       "C                                 1353            14568       0.084982\n",
       "D                                   21              328       0.060172\n",
       "E                                    2               20       0.090909"
      ]
     },
     "execution_count": 24,
     "metadata": {},
     "output_type": "execute_result"
    }
   ],
   "source": [
    "data_income_impact = data.pivot_table(index='total_income_category', columns='debt', values='gender', aggfunc='count')\n",
    "data_income_impact['income_impact'] = data_income_impact['has_unpaid_debt'] / (data_income_impact['no_unpaid_debts'] +\n",
    "data_income_impact['has_unpaid_debt'])\n",
    "data_income_impact"
   ]
  },
  {
   "cell_type": "markdown",
   "id": "41215125",
   "metadata": {},
   "source": [
    "<div class=\"alert alert-success\">\n",
    "\n",
    "#### **Артём:** 👍 Когда комментарий или код прешывает 79 символов в строке - это стилистическая ошибка с точки зрения международных стандартов ([PEP 8](https://www.python.org/dev/peps/pep-0008/)) разработчиков на Python. \n",
    "    \n",
    "\n",
    "</div>"
   ]
  },
  {
   "cell_type": "markdown",
   "id": "6dd14b57",
   "metadata": {
    "deletable": false,
    "id": "6dd14b57"
   },
   "source": [
    "**Вывод:** Связь между уровнем дохода и возвратом кредита в срок не обнаружена, хотя клиенты с месячной зарплатой от 30000 до 50000 рублей возвращают кредит в срок немного чаще."
   ]
  },
  {
   "cell_type": "markdown",
   "id": "5b0ebf5b",
   "metadata": {},
   "source": [
    "<div class=\"alert alert-success\">\n",
    "\n",
    "#### **Артём:** 👍 Дам тебе совет на будущее, как лучше проводить категоризацию количественных данных. **В этом проекте переделывать ничего не надо, так как заказчик уже предложил свои категории, его стоит проинформировать, что выборки крайне несбалансированны.** Если только как дополнительное исследование.\n",
    "    \n",
    "Сейчас самая маленькая категория в 728 раз меньше самой большой. Это может отразиться на результатах исследования. Когда мы делим на категории количественные данные, то лучше их делать примерно одинаковыми. Для этого можно воспользоваться методом `qcut()`. Пример:\n",
    "    \n",
    "```py\n",
    "pd.qcut(df['total_income'], 4)\n",
    "```\n",
    "    \n",
    "```\n",
    "Name: total_income, Length: 21453, dtype: category\n",
    "Categories (4, interval[float64]): [(20666.999, 107620.0]  (107620.0, 142594.0]  (142594.0, 195818.0]  (195818.0, 2265604.0]]\n",
    "```\n",
    "                                                                                                               \n",
    "Что внутри: \n",
    "    \n",
    "```py\n",
    "pd.qcut(датафрейм['столбец'], количество_категорий)\n",
    "``` \n",
    "    \n",
    "Итого у нас 4 категории:\n",
    "<ul>\n",
    "  <li>меньше 107_620</li>\n",
    "  <li>от 107_620 до 142_594</li>\n",
    "  <li>от 142_594 до 195_818</li>\n",
    "  <li>от 195_818</li>\n",
    "    \n",
    "Пример использования:\n",
    "```py    \n",
    "# Создаем категории дохода с помощью pd.qcut\n",
    "data['total_qcut_category'] = pd.qcut(data['total_income'], 5, labels=['A', 'B', 'C', 'D', 'E'])\n",
    "\n",
    "# Группируем данные по новому столбцу 'total_income_category'\n",
    "pivot_table = data.groupby('total_qcut_category').agg(\n",
    "    borrowers=('debt', 'size'),\n",
    "    debtors=('debt', 'sum')\n",
    ").reset_index()\n",
    "```    \n",
    "    \n",
    "</ul>"
   ]
  },
  {
   "cell_type": "markdown",
   "id": "1dcc9b12",
   "metadata": {
    "deletable": false,
    "editable": false,
    "id": "1dcc9b12"
   },
   "source": [
    "#### 3.4 Как разные цели кредита влияют на его возврат в срок?"
   ]
  },
  {
   "cell_type": "code",
   "execution_count": 25,
   "id": "c602bc8b",
   "metadata": {
    "deletable": false,
    "id": "c602bc8b"
   },
   "outputs": [
    {
     "data": {
      "text/html": [
       "<div>\n",
       "<style scoped>\n",
       "    .dataframe tbody tr th:only-of-type {\n",
       "        vertical-align: middle;\n",
       "    }\n",
       "\n",
       "    .dataframe tbody tr th {\n",
       "        vertical-align: top;\n",
       "    }\n",
       "\n",
       "    .dataframe thead th {\n",
       "        text-align: right;\n",
       "    }\n",
       "</style>\n",
       "<table border=\"1\" class=\"dataframe\">\n",
       "  <thead>\n",
       "    <tr style=\"text-align: right;\">\n",
       "      <th>debt</th>\n",
       "      <th>has_unpaid_debt</th>\n",
       "      <th>no_unpaid_debts</th>\n",
       "      <th>income_impact</th>\n",
       "    </tr>\n",
       "    <tr>\n",
       "      <th>purpose_category</th>\n",
       "      <th></th>\n",
       "      <th></th>\n",
       "      <th></th>\n",
       "    </tr>\n",
       "  </thead>\n",
       "  <tbody>\n",
       "    <tr>\n",
       "      <th>операции с автомобилем</th>\n",
       "      <td>400</td>\n",
       "      <td>3879</td>\n",
       "      <td>0.093480</td>\n",
       "    </tr>\n",
       "    <tr>\n",
       "      <th>операции с недвижимостью</th>\n",
       "      <td>780</td>\n",
       "      <td>9971</td>\n",
       "      <td>0.072551</td>\n",
       "    </tr>\n",
       "    <tr>\n",
       "      <th>получение образования</th>\n",
       "      <td>369</td>\n",
       "      <td>3619</td>\n",
       "      <td>0.092528</td>\n",
       "    </tr>\n",
       "    <tr>\n",
       "      <th>проведение свадьбы</th>\n",
       "      <td>183</td>\n",
       "      <td>2130</td>\n",
       "      <td>0.079118</td>\n",
       "    </tr>\n",
       "  </tbody>\n",
       "</table>\n",
       "</div>"
      ],
      "text/plain": [
       "debt                      has_unpaid_debt  no_unpaid_debts  income_impact\n",
       "purpose_category                                                         \n",
       "операции с автомобилем                400             3879       0.093480\n",
       "операции с недвижимостью              780             9971       0.072551\n",
       "получение образования                 369             3619       0.092528\n",
       "проведение свадьбы                    183             2130       0.079118"
      ]
     },
     "execution_count": 25,
     "metadata": {},
     "output_type": "execute_result"
    }
   ],
   "source": [
    "data_purpose_impact = data.pivot_table(index='purpose_category', columns='debt', values='gender', aggfunc='count')\n",
    "data_purpose_impact['income_impact'] = data_purpose_impact['has_unpaid_debt'] / (data_purpose_impact['no_unpaid_debts'] +\n",
    "data_purpose_impact['has_unpaid_debt'])\n",
    "data_purpose_impact"
   ]
  },
  {
   "cell_type": "markdown",
   "id": "cf05ed63",
   "metadata": {
    "deletable": false,
    "id": "cf05ed63"
   },
   "source": [
    "**Вывод:** Клиенты, которые берут кредит для операций с недвижимостью или для проведение свадьбы, склонны возвращать его вовремя чаще, чем те, которые берут кредит для операций с автомобилем или получения образования.\t"
   ]
  },
  {
   "cell_type": "markdown",
   "id": "8ac716c8",
   "metadata": {},
   "source": [
    "<div class=\"alert alert-success\">\n",
    "\n",
    "**Артём:** 👍 Верно.\n",
    "\n",
    "</div>"
   ]
  },
  {
   "cell_type": "markdown",
   "id": "46c1f10b",
   "metadata": {
    "deletable": false,
    "editable": false,
    "id": "46c1f10b"
   },
   "source": [
    "#### 3.5 Приведите возможные причины появления пропусков в исходных данных."
   ]
  },
  {
   "cell_type": "markdown",
   "id": "3697d2a9",
   "metadata": {
    "deletable": false,
    "id": "3697d2a9"
   },
   "source": [
    "*Ответ:* *Пропуски были обнаружены в равном количестве столбцах с информацией об общем трудовом стаже в днях и ежемесячном доходе, при этом в соответствующих ячейках столбца с информацией о типе занятости были совершенно разные значения, а не 'студент' или 'безработный', как можно было подумать.    \n",
    "Возможно, виной пропусков послужил человеческий фактор, например клиенты не предоставили справку о доходах, когда кредитный отдел ее запросил.*"
   ]
  },
  {
   "cell_type": "markdown",
   "id": "26faa4c1",
   "metadata": {},
   "source": [
    "<div class=\"alert alert-success\">\n",
    "\n",
    "**Артём:** 👍 Хорошо, это человеческий фактор.\n",
    "</div>\n",
    "\n",
    "<div class=\"alert alert-success\">\n",
    "\n",
    "**Артём:**  А какие еще варианты?\n",
    "    \n",
    "</div>"
   ]
  },
  {
   "cell_type": "markdown",
   "id": "d255cb5e",
   "metadata": {},
   "source": [
    "\n",
    "<div style=\"background-color:lavender; color:#black; text-align:center; padding:2%\">    \n",
    "    \n",
    "**Тимофей:** ✔️ Также пропуски могли появиться по технологическим причнам: при копировании, считывании, смене формата или во время записи данных статистики платёжеспособности клиентов.\n",
    "</div>"
   ]
  },
  {
   "cell_type": "markdown",
   "id": "9702b08e",
   "metadata": {},
   "source": [
    "<div class=\"alert alert-success\">\n",
    "\n",
    "**Артём:** 👍 Все верно, технический и человеческий факторы.\n",
    "\n",
    "</div>"
   ]
  },
  {
   "cell_type": "markdown",
   "id": "3137d257",
   "metadata": {
    "deletable": false,
    "editable": false,
    "id": "3137d257"
   },
   "source": [
    "#### 3.6 Объясните, почему заполнить пропуски медианным значением — лучшее решение для количественных переменных."
   ]
  },
  {
   "cell_type": "markdown",
   "id": "cf40012a",
   "metadata": {
    "deletable": false,
    "id": "cf40012a"
   },
   "source": [
    "*Ответ:* *Медиана корректнее чем среднее значение характеризует данные, когда некоторые значения сильно выделяются среди большинства, а подстановка нуля вместо пропусков приведет к неверным рассчетам.*"
   ]
  },
  {
   "cell_type": "markdown",
   "id": "b23f8230",
   "metadata": {},
   "source": [
    "<div class=\"alert alert-success\">\n",
    "\n",
    "**Артём:** 👍 Молодец. Действительно важно учитывать, что в данных могут быть выбросы, которые могут сместить итоговый результат если использовать при заполнении данных среднее значение.\n",
    "\n",
    "</div>"
   ]
  },
  {
   "cell_type": "markdown",
   "id": "57bc304e",
   "metadata": {
    "deletable": false,
    "editable": false,
    "id": "57bc304e"
   },
   "source": [
    "### Шаг 4: общий вывод."
   ]
  },
  {
   "cell_type": "markdown",
   "id": "1ab75d1c",
   "metadata": {
    "deletable": false,
    "id": "1ab75d1c"
   },
   "source": [
    "**В ходе проекта мы изучили данные из исходной таблицы, удалили пропуски, обработали аномальные значения и дубликаты, изменили тип данных, там где это требовалось, категоризировали данные.  \n",
    "По итогам проведенных исследований можно сделать вывод, что количество детей и уровень дохода не влияют на возврат кредита в срок.   \n",
    "Клиенты, которые не были женаты или замужем, реже возвращают кредит в срок чем вдовцы / вдовы, то есть семейное положение влияет на вероятность своевременного возврата кредита.   \n",
    "Клиенты, которые берут кредит для операций с недвижимостью или для проведения свадьбы, склонны возвращать его вовремя чаще, чем те, которые берут кредит для операций с автомобилем или получения образования. Цель кредита влияет на вероятность возврата в срок.**\n"
   ]
  },
  {
   "cell_type": "markdown",
   "id": "a2781a79",
   "metadata": {},
   "source": [
    "<div class=\"alert alert-success\">\n",
    "\n",
    "**Артём:** 👍 Хороший вывод.\n",
    "\n",
    "</div>"
   ]
  },
  {
   "cell_type": "markdown",
   "id": "417c46cb",
   "metadata": {},
   "source": [
    "## 🏁 Итоги ревью\n",
    "<a id=\"results\"></a>\n",
    "[В начало](#start)\n",
    "\n",
    "\n",
    "<div class=\"alert alert-danger\">\n",
    "\n",
    "**Артём:** ❌ Тимофей, спасибо за работу. Осталось исправить всего один комментарий и можно идти к заказчику. Молодец! 👍\n",
    "    \n",
    "Для удобства, комментарии которые нужно скорректировать я добавил в меню **Contents** слева.\n",
    "    \n",
    "Жду новую версию проекта. 🙂\n",
    "\n",
    "</div>"
   ]
  },
  {
   "cell_type": "markdown",
   "id": "d9d138f7",
   "metadata": {},
   "source": [
    "<img src=\"https://s19536.pcdn.co/wp-content/uploads/2020/06/Web-Great-Job.jpg\"> \n",
    "<div class=\"alert alert-success\">   \n",
    "\n",
    "**Артём:** ✌️ Тимофей, спасибо за работу и внесенные корректировки! Критических замечаний нет.\n",
    "    \n",
    "\n",
    "Поздравляю, **проект принят!** 🥳 🎉 Ты молодец!\n",
    "\n",
    "Желаю тебе успехов в дальнейшем обучении. 😉\n",
    "    \n",
    "---\n",
    "    \n",
    "#### 📖 **Полезные ссылки**\n",
    "\n",
    "* [Работа в Яндексе](https://yandex.ru/jobs/pages/analytics_interview?ysclid=l84s63fs1g790141490)\n",
    "* [Настройте свой Jupyter Notebook правильно](https://medium.com/nuances-of-programming/настройте-свой-jupyter-notebook-правильно-faef14c89434)    \n",
    "* [Краткое руководство по Маркдауну](https://paulradzkov.com/2014/markdown_cheatsheet/?)\n",
    "* [PEP 8 – Style Guide for Python Code](https://www.python.org/dev/peps/pep-0008/)    \n",
    "* [Обработка пропусков в данных](https://loginom.ru/blog/missing)  \n",
    "* [Разделение данных с помощью qcut и cut в Pandas](https://dfedorov.spb.ru/pandas/Разделение%20данных%20в%20Pandas%20с%20помощью%20qcut%20и%20cut.html?)  \n",
    "* [Официальная документаци метода qcut](https://pandas.pydata.org/pandas-docs/stable/reference/api/pandas.qcut.html)  \n",
    "* [Подробное руководство по группировке и агрегированию с помощью pandas](https://dfedorov.spb.ru/pandas/Подробное%20руководство%20по%20группировке%20и%20агрегированию%20с%20помощью%20pandas.html?ysclid=lcmm6rtg2w602526506)\n",
    "* [Проверка статистических гипотез. (21 мая 2020 г.)](https://allatambov.github.io/psms/pdf/hypo-test.pdf)    \n",
    "* [Шпаргалка по визуализации данных в Python с помощью Plotly](https://habr.com/ru/articles/502958/) \n",
    "* [Тест гигиены визуализации данных](https://bar-or-pie.dianov.org)    \n",
    "* [Задачки SQL](https://habr.com/ru/company/dcmiran/blog/500360/)    \n",
    "* [7 cайтов для оттачивания навыка написания SQL запросов на 2020 год](https://techrocks.ru/2019/11/22/7-sites-to-perfect-sql-query-writing-skills/)\n",
    "* [Главред помогает очистить текст от словесного мусора, проверяет на соответствие информационному стилю.](https://glvrd.ru)\n",
    "\n",
    "</div>    "
   ]
  },
  {
   "cell_type": "code",
   "execution_count": null,
   "id": "934e2ae6",
   "metadata": {},
   "outputs": [],
   "source": []
  }
 ],
 "metadata": {
  "ExecuteTimeLog": [
   {
    "duration": 487,
    "start_time": "2024-06-24T07:55:24.144Z"
   },
   {
    "duration": 466,
    "start_time": "2024-06-24T07:55:30.415Z"
   },
   {
    "duration": 19,
    "start_time": "2024-06-24T07:55:30.883Z"
   },
   {
    "duration": 48,
    "start_time": "2024-06-24T07:55:30.906Z"
   },
   {
    "duration": 56,
    "start_time": "2024-06-24T07:55:30.955Z"
   },
   {
    "duration": 63,
    "start_time": "2024-06-24T07:55:31.013Z"
   },
   {
    "duration": 26,
    "start_time": "2024-06-24T07:55:31.077Z"
   },
   {
    "duration": 46,
    "start_time": "2024-06-24T07:55:31.105Z"
   },
   {
    "duration": 19,
    "start_time": "2024-06-24T07:55:31.153Z"
   },
   {
    "duration": 77,
    "start_time": "2024-06-24T07:55:31.175Z"
   },
   {
    "duration": 56,
    "start_time": "2024-06-24T07:55:31.253Z"
   },
   {
    "duration": 63,
    "start_time": "2024-06-24T07:55:31.310Z"
   },
   {
    "duration": 15,
    "start_time": "2024-06-24T07:55:31.374Z"
   },
   {
    "duration": 37,
    "start_time": "2024-06-24T07:55:31.390Z"
   },
   {
    "duration": 53,
    "start_time": "2024-06-24T07:55:31.429Z"
   },
   {
    "duration": 66,
    "start_time": "2024-06-24T07:55:31.483Z"
   },
   {
    "duration": 15,
    "start_time": "2024-06-24T07:55:31.550Z"
   },
   {
    "duration": 7,
    "start_time": "2024-06-24T07:55:31.566Z"
   },
   {
    "duration": 26,
    "start_time": "2024-06-24T07:55:31.574Z"
   },
   {
    "duration": 29,
    "start_time": "2024-06-24T07:55:31.601Z"
   },
   {
    "duration": 24,
    "start_time": "2024-06-24T07:55:31.631Z"
   },
   {
    "duration": 34,
    "start_time": "2024-06-24T07:55:31.657Z"
   },
   {
    "duration": 16,
    "start_time": "2024-06-24T07:55:31.692Z"
   },
   {
    "duration": 36,
    "start_time": "2024-06-24T07:55:31.709Z"
   },
   {
    "duration": 14,
    "start_time": "2024-06-24T07:55:31.747Z"
   },
   {
    "duration": 13,
    "start_time": "2024-06-24T07:55:31.762Z"
   },
   {
    "duration": 716,
    "start_time": "2024-06-24T11:39:05.120Z"
   },
   {
    "duration": 22,
    "start_time": "2024-06-24T11:39:05.839Z"
   },
   {
    "duration": 16,
    "start_time": "2024-06-24T11:39:05.865Z"
   },
   {
    "duration": 17,
    "start_time": "2024-06-24T11:39:05.883Z"
   },
   {
    "duration": 50,
    "start_time": "2024-06-24T11:39:05.902Z"
   },
   {
    "duration": 3,
    "start_time": "2024-06-24T11:39:05.954Z"
   },
   {
    "duration": 10,
    "start_time": "2024-06-24T11:39:05.958Z"
   },
   {
    "duration": 3,
    "start_time": "2024-06-24T11:39:05.969Z"
   },
   {
    "duration": 7,
    "start_time": "2024-06-24T11:39:05.974Z"
   },
   {
    "duration": 8,
    "start_time": "2024-06-24T11:39:05.983Z"
   },
   {
    "duration": 48,
    "start_time": "2024-06-24T11:39:05.992Z"
   },
   {
    "duration": 11,
    "start_time": "2024-06-24T11:39:06.041Z"
   },
   {
    "duration": 3,
    "start_time": "2024-06-24T11:39:06.054Z"
   },
   {
    "duration": 11,
    "start_time": "2024-06-24T11:39:06.058Z"
   },
   {
    "duration": 66,
    "start_time": "2024-06-24T11:39:06.070Z"
   },
   {
    "duration": 16,
    "start_time": "2024-06-24T11:39:06.138Z"
   },
   {
    "duration": 14,
    "start_time": "2024-06-24T11:39:06.156Z"
   },
   {
    "duration": 16,
    "start_time": "2024-06-24T11:39:06.171Z"
   },
   {
    "duration": 6,
    "start_time": "2024-06-24T11:39:06.188Z"
   },
   {
    "duration": 38,
    "start_time": "2024-06-24T11:39:06.195Z"
   },
   {
    "duration": 22,
    "start_time": "2024-06-24T11:39:06.234Z"
   },
   {
    "duration": 5,
    "start_time": "2024-06-24T11:39:06.257Z"
   },
   {
    "duration": 5,
    "start_time": "2024-06-24T11:39:06.263Z"
   },
   {
    "duration": 6,
    "start_time": "2024-06-24T11:39:06.270Z"
   },
   {
    "duration": 6,
    "start_time": "2024-06-24T11:39:06.277Z"
   },
   {
    "duration": 5,
    "start_time": "2024-06-24T12:05:13.638Z"
   },
   {
    "duration": 5,
    "start_time": "2024-06-24T12:05:21.765Z"
   },
   {
    "duration": 4,
    "start_time": "2024-06-24T12:05:45.702Z"
   },
   {
    "duration": 3,
    "start_time": "2024-06-24T12:26:13.685Z"
   },
   {
    "duration": 3,
    "start_time": "2024-06-24T12:27:34.239Z"
   },
   {
    "duration": 7,
    "start_time": "2024-06-24T12:29:42.847Z"
   },
   {
    "duration": 7,
    "start_time": "2024-06-24T12:30:17.235Z"
   },
   {
    "duration": 7,
    "start_time": "2024-06-24T12:30:19.434Z"
   },
   {
    "duration": 6,
    "start_time": "2024-06-24T12:30:36.189Z"
   },
   {
    "duration": 86,
    "start_time": "2024-06-24T12:46:24.230Z"
   },
   {
    "duration": 14,
    "start_time": "2024-06-24T12:48:25.684Z"
   },
   {
    "duration": 15,
    "start_time": "2024-06-24T12:49:40.479Z"
   },
   {
    "duration": 16,
    "start_time": "2024-06-24T12:55:08.141Z"
   },
   {
    "duration": 15,
    "start_time": "2024-06-24T12:57:15.656Z"
   },
   {
    "duration": 14,
    "start_time": "2024-06-24T12:57:21.211Z"
   },
   {
    "duration": 19,
    "start_time": "2024-06-24T12:57:33.119Z"
   },
   {
    "duration": 17,
    "start_time": "2024-06-24T12:57:39.918Z"
   },
   {
    "duration": 14,
    "start_time": "2024-06-24T12:57:41.881Z"
   },
   {
    "duration": 60,
    "start_time": "2024-06-24T12:58:09.407Z"
   },
   {
    "duration": 16,
    "start_time": "2024-06-24T12:58:18.759Z"
   },
   {
    "duration": 7,
    "start_time": "2024-06-24T13:01:38.575Z"
   },
   {
    "duration": 9,
    "start_time": "2024-06-24T13:01:49.796Z"
   },
   {
    "duration": 13,
    "start_time": "2024-06-24T13:02:08.682Z"
   },
   {
    "duration": 14,
    "start_time": "2024-06-24T13:02:30.880Z"
   },
   {
    "duration": 19,
    "start_time": "2024-06-24T13:02:53.282Z"
   },
   {
    "duration": 8,
    "start_time": "2024-06-24T13:05:25.999Z"
   },
   {
    "duration": 10,
    "start_time": "2024-06-24T13:06:05.690Z"
   },
   {
    "duration": 15,
    "start_time": "2024-06-24T13:06:42.068Z"
   },
   {
    "duration": 9,
    "start_time": "2024-06-24T13:07:22.383Z"
   },
   {
    "duration": 21,
    "start_time": "2024-06-24T13:07:31.344Z"
   },
   {
    "duration": 16,
    "start_time": "2024-06-24T13:07:54.146Z"
   },
   {
    "duration": 20,
    "start_time": "2024-06-24T13:09:22.611Z"
   },
   {
    "duration": 15,
    "start_time": "2024-06-24T13:09:44.791Z"
   },
   {
    "duration": 14,
    "start_time": "2024-06-24T13:09:51.341Z"
   },
   {
    "duration": 15,
    "start_time": "2024-06-24T13:09:53.680Z"
   },
   {
    "duration": 491,
    "start_time": "2024-06-24T13:10:00.573Z"
   },
   {
    "duration": 22,
    "start_time": "2024-06-24T13:10:01.066Z"
   },
   {
    "duration": 50,
    "start_time": "2024-06-24T13:10:01.090Z"
   },
   {
    "duration": 40,
    "start_time": "2024-06-24T13:10:01.142Z"
   },
   {
    "duration": 66,
    "start_time": "2024-06-24T13:10:01.184Z"
   },
   {
    "duration": 26,
    "start_time": "2024-06-24T13:10:01.251Z"
   },
   {
    "duration": 82,
    "start_time": "2024-06-24T13:10:01.278Z"
   },
   {
    "duration": 67,
    "start_time": "2024-06-24T13:10:01.362Z"
   },
   {
    "duration": 53,
    "start_time": "2024-06-24T13:10:01.431Z"
   },
   {
    "duration": 42,
    "start_time": "2024-06-24T13:10:01.488Z"
   },
   {
    "duration": 93,
    "start_time": "2024-06-24T13:10:01.531Z"
   },
   {
    "duration": 11,
    "start_time": "2024-06-24T13:10:01.625Z"
   },
   {
    "duration": 35,
    "start_time": "2024-06-24T13:10:01.638Z"
   },
   {
    "duration": 57,
    "start_time": "2024-06-24T13:10:01.675Z"
   },
   {
    "duration": 52,
    "start_time": "2024-06-24T13:10:01.733Z"
   },
   {
    "duration": 38,
    "start_time": "2024-06-24T13:10:01.787Z"
   },
   {
    "duration": 12,
    "start_time": "2024-06-24T13:10:01.826Z"
   },
   {
    "duration": 85,
    "start_time": "2024-06-24T13:10:01.839Z"
   },
   {
    "duration": 118,
    "start_time": "2024-06-24T13:10:01.926Z"
   },
   {
    "duration": 82,
    "start_time": "2024-06-24T13:10:02.045Z"
   },
   {
    "duration": 135,
    "start_time": "2024-06-24T13:10:02.128Z"
   },
   {
    "duration": 64,
    "start_time": "2024-06-24T13:10:02.264Z"
   },
   {
    "duration": 6,
    "start_time": "2024-06-24T13:10:02.329Z"
   },
   {
    "duration": 28,
    "start_time": "2024-06-24T13:10:02.337Z"
   },
   {
    "duration": 61,
    "start_time": "2024-06-24T13:10:02.367Z"
   },
   {
    "duration": 40,
    "start_time": "2024-06-24T13:10:09.087Z"
   },
   {
    "duration": 88,
    "start_time": "2024-06-24T13:10:43.745Z"
   },
   {
    "duration": 16,
    "start_time": "2024-06-24T13:17:40.089Z"
   },
   {
    "duration": 26,
    "start_time": "2024-06-24T13:17:51.724Z"
   },
   {
    "duration": 13,
    "start_time": "2024-06-24T13:19:05.033Z"
   },
   {
    "duration": 185,
    "start_time": "2024-06-24T13:20:24.540Z"
   },
   {
    "duration": 16,
    "start_time": "2024-06-24T13:20:31.927Z"
   },
   {
    "duration": 17,
    "start_time": "2024-06-24T13:23:30.826Z"
   },
   {
    "duration": 42,
    "start_time": "2024-06-24T13:23:40.138Z"
   },
   {
    "duration": 19,
    "start_time": "2024-06-24T13:24:45.969Z"
   },
   {
    "duration": 740,
    "start_time": "2024-06-24T13:35:24.237Z"
   },
   {
    "duration": 27,
    "start_time": "2024-06-24T13:36:08.214Z"
   },
   {
    "duration": 19,
    "start_time": "2024-06-24T13:42:12.707Z"
   },
   {
    "duration": 8,
    "start_time": "2024-06-24T13:42:21.658Z"
   },
   {
    "duration": 9,
    "start_time": "2024-06-24T13:42:24.517Z"
   },
   {
    "duration": 15,
    "start_time": "2024-06-24T13:42:33.940Z"
   },
   {
    "duration": 21,
    "start_time": "2024-06-24T13:43:07.429Z"
   },
   {
    "duration": 15,
    "start_time": "2024-06-24T13:43:44.829Z"
   },
   {
    "duration": 50,
    "start_time": "2024-06-24T13:44:57.086Z"
   },
   {
    "duration": 24,
    "start_time": "2024-06-24T13:45:06.949Z"
   },
   {
    "duration": 14,
    "start_time": "2024-06-24T13:45:14.316Z"
   },
   {
    "duration": 4,
    "start_time": "2024-06-24T13:45:45.953Z"
   },
   {
    "duration": 30,
    "start_time": "2024-06-24T13:45:50.196Z"
   },
   {
    "duration": 29,
    "start_time": "2024-06-24T13:48:00.011Z"
   },
   {
    "duration": 20,
    "start_time": "2024-06-24T13:48:32.908Z"
   },
   {
    "duration": 466,
    "start_time": "2024-06-24T13:48:47.204Z"
   },
   {
    "duration": 19,
    "start_time": "2024-06-24T13:48:47.672Z"
   },
   {
    "duration": 44,
    "start_time": "2024-06-24T13:48:47.693Z"
   },
   {
    "duration": 16,
    "start_time": "2024-06-24T13:48:47.738Z"
   },
   {
    "duration": 45,
    "start_time": "2024-06-24T13:48:47.756Z"
   },
   {
    "duration": 6,
    "start_time": "2024-06-24T13:48:47.803Z"
   },
   {
    "duration": 14,
    "start_time": "2024-06-24T13:48:47.810Z"
   },
   {
    "duration": 9,
    "start_time": "2024-06-24T13:48:47.826Z"
   },
   {
    "duration": 33,
    "start_time": "2024-06-24T13:48:47.837Z"
   },
   {
    "duration": 24,
    "start_time": "2024-06-24T13:48:47.871Z"
   },
   {
    "duration": 62,
    "start_time": "2024-06-24T13:48:47.897Z"
   },
   {
    "duration": 9,
    "start_time": "2024-06-24T13:48:47.961Z"
   },
   {
    "duration": 5,
    "start_time": "2024-06-24T13:48:47.972Z"
   },
   {
    "duration": 23,
    "start_time": "2024-06-24T13:48:47.980Z"
   },
   {
    "duration": 34,
    "start_time": "2024-06-24T13:48:48.005Z"
   },
   {
    "duration": 15,
    "start_time": "2024-06-24T13:48:48.041Z"
   },
   {
    "duration": 17,
    "start_time": "2024-06-24T13:48:48.057Z"
   },
   {
    "duration": 19,
    "start_time": "2024-06-24T13:48:48.076Z"
   },
   {
    "duration": 22,
    "start_time": "2024-06-24T13:48:48.097Z"
   },
   {
    "duration": 4,
    "start_time": "2024-06-24T13:48:48.120Z"
   },
   {
    "duration": 9,
    "start_time": "2024-06-24T13:48:48.125Z"
   },
   {
    "duration": 78,
    "start_time": "2024-06-24T13:48:48.136Z"
   },
   {
    "duration": 0,
    "start_time": "2024-06-24T13:48:48.216Z"
   },
   {
    "duration": 0,
    "start_time": "2024-06-24T13:48:48.217Z"
   },
   {
    "duration": 0,
    "start_time": "2024-06-24T13:48:48.218Z"
   },
   {
    "duration": 23,
    "start_time": "2024-06-24T13:49:23.733Z"
   },
   {
    "duration": 18,
    "start_time": "2024-06-24T13:50:56.548Z"
   },
   {
    "duration": 22,
    "start_time": "2024-06-24T13:51:48.420Z"
   },
   {
    "duration": 66,
    "start_time": "2024-06-24T13:53:50.004Z"
   },
   {
    "duration": 29,
    "start_time": "2024-06-24T13:57:06.070Z"
   },
   {
    "duration": 23,
    "start_time": "2024-06-24T14:00:57.883Z"
   },
   {
    "duration": 33,
    "start_time": "2024-06-24T14:07:52.485Z"
   },
   {
    "duration": 19,
    "start_time": "2024-06-24T14:14:59.889Z"
   },
   {
    "duration": 27,
    "start_time": "2024-06-24T14:15:55.982Z"
   },
   {
    "duration": 21,
    "start_time": "2024-06-24T14:17:02.967Z"
   },
   {
    "duration": 23,
    "start_time": "2024-06-24T14:17:13.062Z"
   },
   {
    "duration": 28,
    "start_time": "2024-06-24T14:21:35.424Z"
   },
   {
    "duration": 75,
    "start_time": "2024-06-24T14:21:49.039Z"
   },
   {
    "duration": 41,
    "start_time": "2024-06-24T14:21:55.478Z"
   },
   {
    "duration": 410,
    "start_time": "2024-06-24T14:22:43.458Z"
   },
   {
    "duration": 20,
    "start_time": "2024-06-24T14:22:43.870Z"
   },
   {
    "duration": 13,
    "start_time": "2024-06-24T14:22:43.891Z"
   },
   {
    "duration": 7,
    "start_time": "2024-06-24T14:22:43.906Z"
   },
   {
    "duration": 34,
    "start_time": "2024-06-24T14:22:43.915Z"
   },
   {
    "duration": 2,
    "start_time": "2024-06-24T14:22:43.951Z"
   },
   {
    "duration": 13,
    "start_time": "2024-06-24T14:22:43.955Z"
   },
   {
    "duration": 3,
    "start_time": "2024-06-24T14:22:43.970Z"
   },
   {
    "duration": 7,
    "start_time": "2024-06-24T14:22:43.974Z"
   },
   {
    "duration": 4,
    "start_time": "2024-06-24T14:22:43.983Z"
   },
   {
    "duration": 43,
    "start_time": "2024-06-24T14:22:43.989Z"
   },
   {
    "duration": 8,
    "start_time": "2024-06-24T14:22:44.034Z"
   },
   {
    "duration": 3,
    "start_time": "2024-06-24T14:22:44.043Z"
   },
   {
    "duration": 12,
    "start_time": "2024-06-24T14:22:44.048Z"
   },
   {
    "duration": 24,
    "start_time": "2024-06-24T14:22:44.062Z"
   },
   {
    "duration": 28,
    "start_time": "2024-06-24T14:22:44.087Z"
   },
   {
    "duration": 3,
    "start_time": "2024-06-24T14:22:44.116Z"
   },
   {
    "duration": 25,
    "start_time": "2024-06-24T14:22:44.121Z"
   },
   {
    "duration": 16,
    "start_time": "2024-06-24T14:22:44.147Z"
   },
   {
    "duration": 5,
    "start_time": "2024-06-24T14:22:44.165Z"
   },
   {
    "duration": 13,
    "start_time": "2024-06-24T14:22:44.171Z"
   },
   {
    "duration": 86,
    "start_time": "2024-06-24T14:22:44.185Z"
   },
   {
    "duration": 0,
    "start_time": "2024-06-24T14:22:44.273Z"
   },
   {
    "duration": 0,
    "start_time": "2024-06-24T14:22:44.275Z"
   },
   {
    "duration": 0,
    "start_time": "2024-06-24T14:22:44.276Z"
   },
   {
    "duration": 24,
    "start_time": "2024-06-24T14:23:16.107Z"
   },
   {
    "duration": 445,
    "start_time": "2024-06-24T14:23:19.736Z"
   },
   {
    "duration": 19,
    "start_time": "2024-06-24T14:23:20.183Z"
   },
   {
    "duration": 48,
    "start_time": "2024-06-24T14:23:20.203Z"
   },
   {
    "duration": 16,
    "start_time": "2024-06-24T14:23:20.252Z"
   },
   {
    "duration": 36,
    "start_time": "2024-06-24T14:23:20.269Z"
   },
   {
    "duration": 4,
    "start_time": "2024-06-24T14:23:20.307Z"
   },
   {
    "duration": 77,
    "start_time": "2024-06-24T14:23:20.312Z"
   },
   {
    "duration": 24,
    "start_time": "2024-06-24T14:23:20.391Z"
   },
   {
    "duration": 8,
    "start_time": "2024-06-24T14:23:20.416Z"
   },
   {
    "duration": 4,
    "start_time": "2024-06-24T14:23:20.426Z"
   },
   {
    "duration": 33,
    "start_time": "2024-06-24T14:23:20.431Z"
   },
   {
    "duration": 8,
    "start_time": "2024-06-24T14:23:20.466Z"
   },
   {
    "duration": 11,
    "start_time": "2024-06-24T14:23:20.475Z"
   },
   {
    "duration": 22,
    "start_time": "2024-06-24T14:23:20.487Z"
   },
   {
    "duration": 19,
    "start_time": "2024-06-24T14:23:20.511Z"
   },
   {
    "duration": 17,
    "start_time": "2024-06-24T14:23:20.531Z"
   },
   {
    "duration": 3,
    "start_time": "2024-06-24T14:23:20.549Z"
   },
   {
    "duration": 20,
    "start_time": "2024-06-24T14:23:20.553Z"
   },
   {
    "duration": 7,
    "start_time": "2024-06-24T14:23:20.574Z"
   },
   {
    "duration": 5,
    "start_time": "2024-06-24T14:23:20.582Z"
   },
   {
    "duration": 21,
    "start_time": "2024-06-24T14:23:20.588Z"
   },
   {
    "duration": 25,
    "start_time": "2024-06-24T14:23:20.610Z"
   },
   {
    "duration": 30,
    "start_time": "2024-06-24T14:23:20.637Z"
   },
   {
    "duration": 2,
    "start_time": "2024-06-24T14:23:20.669Z"
   },
   {
    "duration": 3,
    "start_time": "2024-06-24T14:23:20.672Z"
   },
   {
    "duration": 31,
    "start_time": "2024-06-24T14:27:03.862Z"
   },
   {
    "duration": 52,
    "start_time": "2024-06-24T14:29:40.850Z"
   },
   {
    "duration": 19,
    "start_time": "2024-06-24T14:29:54.394Z"
   },
   {
    "duration": 19,
    "start_time": "2024-06-24T14:35:17.185Z"
   },
   {
    "duration": 459,
    "start_time": "2024-06-24T14:40:56.874Z"
   },
   {
    "duration": 19,
    "start_time": "2024-06-24T14:40:57.335Z"
   },
   {
    "duration": 13,
    "start_time": "2024-06-24T14:40:57.355Z"
   },
   {
    "duration": 9,
    "start_time": "2024-06-24T14:40:57.369Z"
   },
   {
    "duration": 56,
    "start_time": "2024-06-24T14:40:57.380Z"
   },
   {
    "duration": 3,
    "start_time": "2024-06-24T14:40:57.438Z"
   },
   {
    "duration": 22,
    "start_time": "2024-06-24T14:40:57.443Z"
   },
   {
    "duration": 8,
    "start_time": "2024-06-24T14:40:57.466Z"
   },
   {
    "duration": 15,
    "start_time": "2024-06-24T14:40:57.476Z"
   },
   {
    "duration": 4,
    "start_time": "2024-06-24T14:40:57.493Z"
   },
   {
    "duration": 53,
    "start_time": "2024-06-24T14:40:57.498Z"
   },
   {
    "duration": 13,
    "start_time": "2024-06-24T14:40:57.552Z"
   },
   {
    "duration": 36,
    "start_time": "2024-06-24T14:40:57.566Z"
   },
   {
    "duration": 16,
    "start_time": "2024-06-24T14:40:57.605Z"
   },
   {
    "duration": 24,
    "start_time": "2024-06-24T14:40:57.622Z"
   },
   {
    "duration": 16,
    "start_time": "2024-06-24T14:40:57.648Z"
   },
   {
    "duration": 3,
    "start_time": "2024-06-24T14:40:57.666Z"
   },
   {
    "duration": 24,
    "start_time": "2024-06-24T14:40:57.671Z"
   },
   {
    "duration": 40,
    "start_time": "2024-06-24T14:40:57.696Z"
   },
   {
    "duration": 15,
    "start_time": "2024-06-24T14:40:57.738Z"
   },
   {
    "duration": 33,
    "start_time": "2024-06-24T14:40:57.754Z"
   },
   {
    "duration": 36,
    "start_time": "2024-06-24T14:40:57.788Z"
   },
   {
    "duration": 37,
    "start_time": "2024-06-24T14:40:57.825Z"
   },
   {
    "duration": 24,
    "start_time": "2024-06-24T14:40:57.864Z"
   },
   {
    "duration": 40,
    "start_time": "2024-06-24T14:40:57.890Z"
   },
   {
    "duration": 4,
    "start_time": "2024-06-24T14:51:35.368Z"
   },
   {
    "duration": 50,
    "start_time": "2024-06-24T14:51:51.988Z"
   },
   {
    "duration": 3,
    "start_time": "2024-06-24T14:51:58.727Z"
   },
   {
    "duration": 23,
    "start_time": "2024-06-24T14:52:21.691Z"
   },
   {
    "duration": 27,
    "start_time": "2024-06-24T14:52:41.224Z"
   },
   {
    "duration": 9,
    "start_time": "2024-06-24T14:53:03.728Z"
   },
   {
    "duration": 455,
    "start_time": "2024-06-24T14:53:09.335Z"
   },
   {
    "duration": 19,
    "start_time": "2024-06-24T14:53:09.792Z"
   },
   {
    "duration": 19,
    "start_time": "2024-06-24T14:53:09.812Z"
   },
   {
    "duration": 8,
    "start_time": "2024-06-24T14:53:09.833Z"
   },
   {
    "duration": 31,
    "start_time": "2024-06-24T14:53:09.842Z"
   },
   {
    "duration": 3,
    "start_time": "2024-06-24T14:53:09.874Z"
   },
   {
    "duration": 8,
    "start_time": "2024-06-24T14:53:09.879Z"
   },
   {
    "duration": 22,
    "start_time": "2024-06-24T14:53:09.888Z"
   },
   {
    "duration": 7,
    "start_time": "2024-06-24T14:53:09.911Z"
   },
   {
    "duration": 14,
    "start_time": "2024-06-24T14:53:09.921Z"
   },
   {
    "duration": 39,
    "start_time": "2024-06-24T14:53:09.937Z"
   },
   {
    "duration": 9,
    "start_time": "2024-06-24T14:53:09.977Z"
   },
   {
    "duration": 3,
    "start_time": "2024-06-24T14:53:09.987Z"
   },
   {
    "duration": 35,
    "start_time": "2024-06-24T14:53:09.991Z"
   },
   {
    "duration": 26,
    "start_time": "2024-06-24T14:53:10.028Z"
   },
   {
    "duration": 15,
    "start_time": "2024-06-24T14:53:10.056Z"
   },
   {
    "duration": 3,
    "start_time": "2024-06-24T14:53:10.072Z"
   },
   {
    "duration": 9,
    "start_time": "2024-06-24T14:53:10.076Z"
   },
   {
    "duration": 6,
    "start_time": "2024-06-24T14:53:10.087Z"
   },
   {
    "duration": 24,
    "start_time": "2024-06-24T14:53:10.094Z"
   },
   {
    "duration": 12,
    "start_time": "2024-06-24T14:53:10.120Z"
   },
   {
    "duration": 30,
    "start_time": "2024-06-24T14:53:10.133Z"
   },
   {
    "duration": 29,
    "start_time": "2024-06-24T14:53:10.164Z"
   },
   {
    "duration": 19,
    "start_time": "2024-06-24T14:53:10.209Z"
   },
   {
    "duration": 21,
    "start_time": "2024-06-24T14:53:10.229Z"
   },
   {
    "duration": 450,
    "start_time": "2024-06-24T15:34:34.604Z"
   },
   {
    "duration": 20,
    "start_time": "2024-06-24T15:34:35.056Z"
   },
   {
    "duration": 12,
    "start_time": "2024-06-24T15:34:35.077Z"
   },
   {
    "duration": 24,
    "start_time": "2024-06-24T15:34:35.091Z"
   },
   {
    "duration": 42,
    "start_time": "2024-06-24T15:34:35.116Z"
   },
   {
    "duration": 3,
    "start_time": "2024-06-24T15:34:35.159Z"
   },
   {
    "duration": 7,
    "start_time": "2024-06-24T15:34:35.163Z"
   },
   {
    "duration": 3,
    "start_time": "2024-06-24T15:34:35.171Z"
   },
   {
    "duration": 7,
    "start_time": "2024-06-24T15:34:35.175Z"
   },
   {
    "duration": 4,
    "start_time": "2024-06-24T15:34:35.184Z"
   },
   {
    "duration": 43,
    "start_time": "2024-06-24T15:34:35.189Z"
   },
   {
    "duration": 7,
    "start_time": "2024-06-24T15:34:35.233Z"
   },
   {
    "duration": 2,
    "start_time": "2024-06-24T15:34:35.242Z"
   },
   {
    "duration": 14,
    "start_time": "2024-06-24T15:34:35.245Z"
   },
   {
    "duration": 31,
    "start_time": "2024-06-24T15:34:35.260Z"
   },
   {
    "duration": 17,
    "start_time": "2024-06-24T15:34:35.292Z"
   },
   {
    "duration": 3,
    "start_time": "2024-06-24T15:34:35.310Z"
   },
   {
    "duration": 11,
    "start_time": "2024-06-24T15:34:35.314Z"
   },
   {
    "duration": 4,
    "start_time": "2024-06-24T15:34:35.326Z"
   },
   {
    "duration": 3,
    "start_time": "2024-06-24T15:34:35.331Z"
   },
   {
    "duration": 9,
    "start_time": "2024-06-24T15:34:35.335Z"
   },
   {
    "duration": 23,
    "start_time": "2024-06-24T15:34:35.345Z"
   },
   {
    "duration": 50,
    "start_time": "2024-06-24T15:34:35.370Z"
   },
   {
    "duration": 18,
    "start_time": "2024-06-24T15:34:35.422Z"
   },
   {
    "duration": 19,
    "start_time": "2024-06-24T15:34:35.442Z"
   },
   {
    "duration": 453,
    "start_time": "2024-06-24T15:51:32.918Z"
   },
   {
    "duration": 21,
    "start_time": "2024-06-24T15:51:33.373Z"
   },
   {
    "duration": 28,
    "start_time": "2024-06-24T15:51:33.395Z"
   },
   {
    "duration": 14,
    "start_time": "2024-06-24T15:51:33.426Z"
   },
   {
    "duration": 40,
    "start_time": "2024-06-24T15:51:33.441Z"
   },
   {
    "duration": 3,
    "start_time": "2024-06-24T15:51:33.483Z"
   },
   {
    "duration": 14,
    "start_time": "2024-06-24T15:51:33.488Z"
   },
   {
    "duration": 5,
    "start_time": "2024-06-24T15:51:33.510Z"
   },
   {
    "duration": 8,
    "start_time": "2024-06-24T15:51:33.517Z"
   },
   {
    "duration": 4,
    "start_time": "2024-06-24T15:51:33.527Z"
   },
   {
    "duration": 28,
    "start_time": "2024-06-24T15:51:33.533Z"
   },
   {
    "duration": 9,
    "start_time": "2024-06-24T15:51:33.563Z"
   },
   {
    "duration": 3,
    "start_time": "2024-06-24T15:51:33.573Z"
   },
   {
    "duration": 41,
    "start_time": "2024-06-24T15:51:33.577Z"
   },
   {
    "duration": 26,
    "start_time": "2024-06-24T15:51:33.620Z"
   },
   {
    "duration": 15,
    "start_time": "2024-06-24T15:51:33.647Z"
   },
   {
    "duration": 3,
    "start_time": "2024-06-24T15:51:33.663Z"
   },
   {
    "duration": 30,
    "start_time": "2024-06-24T15:51:33.667Z"
   },
   {
    "duration": 6,
    "start_time": "2024-06-24T15:51:33.698Z"
   },
   {
    "duration": 5,
    "start_time": "2024-06-24T15:51:33.705Z"
   },
   {
    "duration": 13,
    "start_time": "2024-06-24T15:51:33.711Z"
   },
   {
    "duration": 33,
    "start_time": "2024-06-24T15:51:33.726Z"
   },
   {
    "duration": 48,
    "start_time": "2024-06-24T15:51:33.761Z"
   },
   {
    "duration": 17,
    "start_time": "2024-06-24T15:51:33.810Z"
   },
   {
    "duration": 18,
    "start_time": "2024-06-24T15:51:33.828Z"
   },
   {
    "duration": 390,
    "start_time": "2024-06-24T17:43:02.957Z"
   },
   {
    "duration": 18,
    "start_time": "2024-06-24T17:43:03.348Z"
   },
   {
    "duration": 20,
    "start_time": "2024-06-24T17:43:03.367Z"
   },
   {
    "duration": 11,
    "start_time": "2024-06-24T17:43:03.389Z"
   },
   {
    "duration": 26,
    "start_time": "2024-06-24T17:43:03.402Z"
   },
   {
    "duration": 3,
    "start_time": "2024-06-24T17:43:03.429Z"
   },
   {
    "duration": 14,
    "start_time": "2024-06-24T17:43:03.433Z"
   },
   {
    "duration": 4,
    "start_time": "2024-06-24T17:43:03.448Z"
   },
   {
    "duration": 21,
    "start_time": "2024-06-24T17:43:03.453Z"
   },
   {
    "duration": 16,
    "start_time": "2024-06-24T17:43:03.475Z"
   },
   {
    "duration": 42,
    "start_time": "2024-06-24T17:43:03.492Z"
   },
   {
    "duration": 19,
    "start_time": "2024-06-24T17:43:03.535Z"
   },
   {
    "duration": 9,
    "start_time": "2024-06-24T17:43:03.556Z"
   },
   {
    "duration": 17,
    "start_time": "2024-06-24T17:43:03.567Z"
   },
   {
    "duration": 26,
    "start_time": "2024-06-24T17:43:03.585Z"
   },
   {
    "duration": 29,
    "start_time": "2024-06-24T17:43:03.612Z"
   },
   {
    "duration": 3,
    "start_time": "2024-06-24T17:43:03.642Z"
   },
   {
    "duration": 18,
    "start_time": "2024-06-24T17:43:03.646Z"
   },
   {
    "duration": 10,
    "start_time": "2024-06-24T17:43:03.665Z"
   },
   {
    "duration": 9,
    "start_time": "2024-06-24T17:43:03.676Z"
   },
   {
    "duration": 39,
    "start_time": "2024-06-24T17:43:03.686Z"
   },
   {
    "duration": 83,
    "start_time": "2024-06-24T17:43:03.726Z"
   },
   {
    "duration": 28,
    "start_time": "2024-06-24T17:43:03.811Z"
   },
   {
    "duration": 16,
    "start_time": "2024-06-24T17:43:03.840Z"
   },
   {
    "duration": 79,
    "start_time": "2024-06-24T17:43:03.858Z"
   },
   {
    "duration": 540,
    "start_time": "2024-06-24T23:52:44.261Z"
   },
   {
    "duration": 19,
    "start_time": "2024-06-24T23:52:44.804Z"
   },
   {
    "duration": 17,
    "start_time": "2024-06-24T23:52:44.824Z"
   },
   {
    "duration": 7,
    "start_time": "2024-06-24T23:52:44.843Z"
   },
   {
    "duration": 57,
    "start_time": "2024-06-24T23:52:44.851Z"
   },
   {
    "duration": 3,
    "start_time": "2024-06-24T23:52:44.910Z"
   },
   {
    "duration": 8,
    "start_time": "2024-06-24T23:52:44.914Z"
   },
   {
    "duration": 10,
    "start_time": "2024-06-24T23:52:44.923Z"
   },
   {
    "duration": 16,
    "start_time": "2024-06-24T23:52:44.934Z"
   },
   {
    "duration": 3,
    "start_time": "2024-06-24T23:52:44.952Z"
   },
   {
    "duration": 35,
    "start_time": "2024-06-24T23:52:44.956Z"
   },
   {
    "duration": 10,
    "start_time": "2024-06-24T23:52:44.993Z"
   },
   {
    "duration": 30,
    "start_time": "2024-06-24T23:52:45.004Z"
   },
   {
    "duration": 22,
    "start_time": "2024-06-24T23:52:45.035Z"
   },
   {
    "duration": 63,
    "start_time": "2024-06-24T23:52:45.058Z"
   },
   {
    "duration": 43,
    "start_time": "2024-06-24T23:52:45.122Z"
   },
   {
    "duration": 20,
    "start_time": "2024-06-24T23:52:45.166Z"
   },
   {
    "duration": 56,
    "start_time": "2024-06-24T23:52:45.187Z"
   },
   {
    "duration": 28,
    "start_time": "2024-06-24T23:52:45.244Z"
   },
   {
    "duration": 14,
    "start_time": "2024-06-24T23:52:45.273Z"
   },
   {
    "duration": 52,
    "start_time": "2024-06-24T23:52:45.288Z"
   },
   {
    "duration": 49,
    "start_time": "2024-06-24T23:52:45.341Z"
   },
   {
    "duration": 33,
    "start_time": "2024-06-24T23:52:45.392Z"
   },
   {
    "duration": 16,
    "start_time": "2024-06-24T23:52:45.427Z"
   },
   {
    "duration": 21,
    "start_time": "2024-06-24T23:52:45.445Z"
   },
   {
    "duration": 430,
    "start_time": "2024-06-25T00:31:59.103Z"
   },
   {
    "duration": 17,
    "start_time": "2024-06-25T00:31:59.535Z"
   },
   {
    "duration": 11,
    "start_time": "2024-06-25T00:31:59.556Z"
   },
   {
    "duration": 7,
    "start_time": "2024-06-25T00:31:59.568Z"
   },
   {
    "duration": 45,
    "start_time": "2024-06-25T00:31:59.576Z"
   },
   {
    "duration": 2,
    "start_time": "2024-06-25T00:31:59.622Z"
   },
   {
    "duration": 27,
    "start_time": "2024-06-25T00:31:59.625Z"
   },
   {
    "duration": 3,
    "start_time": "2024-06-25T00:31:59.653Z"
   },
   {
    "duration": 10,
    "start_time": "2024-06-25T00:31:59.658Z"
   },
   {
    "duration": 4,
    "start_time": "2024-06-25T00:31:59.669Z"
   },
   {
    "duration": 26,
    "start_time": "2024-06-25T00:31:59.674Z"
   },
   {
    "duration": 7,
    "start_time": "2024-06-25T00:31:59.701Z"
   },
   {
    "duration": 3,
    "start_time": "2024-06-25T00:31:59.709Z"
   },
   {
    "duration": 15,
    "start_time": "2024-06-25T00:31:59.713Z"
   },
   {
    "duration": 16,
    "start_time": "2024-06-25T00:31:59.730Z"
   },
   {
    "duration": 14,
    "start_time": "2024-06-25T00:31:59.747Z"
   },
   {
    "duration": 3,
    "start_time": "2024-06-25T00:31:59.762Z"
   },
   {
    "duration": 11,
    "start_time": "2024-06-25T00:31:59.766Z"
   },
   {
    "duration": 19,
    "start_time": "2024-06-25T00:31:59.779Z"
   },
   {
    "duration": 2,
    "start_time": "2024-06-25T00:31:59.801Z"
   },
   {
    "duration": 12,
    "start_time": "2024-06-25T00:31:59.804Z"
   },
   {
    "duration": 23,
    "start_time": "2024-06-25T00:31:59.817Z"
   },
   {
    "duration": 26,
    "start_time": "2024-06-25T00:31:59.841Z"
   },
   {
    "duration": 62,
    "start_time": "2024-06-25T00:31:59.868Z"
   },
   {
    "duration": 16,
    "start_time": "2024-06-25T00:31:59.932Z"
   },
   {
    "duration": 435,
    "start_time": "2024-06-25T00:38:11.022Z"
   },
   {
    "duration": 18,
    "start_time": "2024-06-25T00:38:11.458Z"
   },
   {
    "duration": 22,
    "start_time": "2024-06-25T00:38:11.477Z"
   },
   {
    "duration": 29,
    "start_time": "2024-06-25T00:38:11.501Z"
   },
   {
    "duration": 57,
    "start_time": "2024-06-25T00:38:11.531Z"
   },
   {
    "duration": 3,
    "start_time": "2024-06-25T00:38:11.590Z"
   },
   {
    "duration": 31,
    "start_time": "2024-06-25T00:38:11.595Z"
   },
   {
    "duration": 23,
    "start_time": "2024-06-25T00:38:11.628Z"
   },
   {
    "duration": 23,
    "start_time": "2024-06-25T00:38:11.652Z"
   },
   {
    "duration": 17,
    "start_time": "2024-06-25T00:38:11.678Z"
   },
   {
    "duration": 54,
    "start_time": "2024-06-25T00:38:11.696Z"
   },
   {
    "duration": 8,
    "start_time": "2024-06-25T00:38:11.752Z"
   },
   {
    "duration": 33,
    "start_time": "2024-06-25T00:38:11.761Z"
   },
   {
    "duration": 30,
    "start_time": "2024-06-25T00:38:11.795Z"
   },
   {
    "duration": 49,
    "start_time": "2024-06-25T00:38:11.826Z"
   },
   {
    "duration": 23,
    "start_time": "2024-06-25T00:38:11.876Z"
   },
   {
    "duration": 5,
    "start_time": "2024-06-25T00:38:11.900Z"
   },
   {
    "duration": 36,
    "start_time": "2024-06-25T00:38:11.906Z"
   },
   {
    "duration": 14,
    "start_time": "2024-06-25T00:38:11.943Z"
   },
   {
    "duration": 23,
    "start_time": "2024-06-25T00:38:11.959Z"
   },
   {
    "duration": 43,
    "start_time": "2024-06-25T00:38:11.983Z"
   },
   {
    "duration": 39,
    "start_time": "2024-06-25T00:38:12.027Z"
   },
   {
    "duration": 31,
    "start_time": "2024-06-25T00:38:12.068Z"
   },
   {
    "duration": 16,
    "start_time": "2024-06-25T00:38:12.100Z"
   },
   {
    "duration": 30,
    "start_time": "2024-06-25T00:38:12.117Z"
   },
   {
    "duration": 389,
    "start_time": "2024-06-25T00:40:41.744Z"
   },
   {
    "duration": 18,
    "start_time": "2024-06-25T00:40:42.135Z"
   },
   {
    "duration": 19,
    "start_time": "2024-06-25T00:40:42.154Z"
   },
   {
    "duration": 8,
    "start_time": "2024-06-25T00:40:42.175Z"
   },
   {
    "duration": 38,
    "start_time": "2024-06-25T00:40:42.184Z"
   },
   {
    "duration": 3,
    "start_time": "2024-06-25T00:40:42.223Z"
   },
   {
    "duration": 16,
    "start_time": "2024-06-25T00:40:42.227Z"
   },
   {
    "duration": 3,
    "start_time": "2024-06-25T00:40:42.245Z"
   },
   {
    "duration": 9,
    "start_time": "2024-06-25T00:40:42.249Z"
   },
   {
    "duration": 14,
    "start_time": "2024-06-25T00:40:42.260Z"
   },
   {
    "duration": 30,
    "start_time": "2024-06-25T00:40:42.275Z"
   },
   {
    "duration": 8,
    "start_time": "2024-06-25T00:40:42.306Z"
   },
   {
    "duration": 30,
    "start_time": "2024-06-25T00:40:42.315Z"
   },
   {
    "duration": 31,
    "start_time": "2024-06-25T00:40:42.347Z"
   },
   {
    "duration": 27,
    "start_time": "2024-06-25T00:40:42.379Z"
   },
   {
    "duration": 15,
    "start_time": "2024-06-25T00:40:42.408Z"
   },
   {
    "duration": 3,
    "start_time": "2024-06-25T00:40:42.424Z"
   },
   {
    "duration": 13,
    "start_time": "2024-06-25T00:40:42.428Z"
   },
   {
    "duration": 8,
    "start_time": "2024-06-25T00:40:42.442Z"
   },
   {
    "duration": 5,
    "start_time": "2024-06-25T00:40:42.451Z"
   },
   {
    "duration": 12,
    "start_time": "2024-06-25T00:40:42.457Z"
   },
   {
    "duration": 42,
    "start_time": "2024-06-25T00:40:42.470Z"
   },
   {
    "duration": 28,
    "start_time": "2024-06-25T00:40:42.513Z"
   },
   {
    "duration": 16,
    "start_time": "2024-06-25T00:40:42.542Z"
   },
   {
    "duration": 21,
    "start_time": "2024-06-25T00:40:42.559Z"
   },
   {
    "duration": 396,
    "start_time": "2024-06-25T00:42:24.943Z"
   },
   {
    "duration": 17,
    "start_time": "2024-06-25T00:42:25.341Z"
   },
   {
    "duration": 11,
    "start_time": "2024-06-25T00:42:25.360Z"
   },
   {
    "duration": 32,
    "start_time": "2024-06-25T00:42:25.373Z"
   },
   {
    "duration": 41,
    "start_time": "2024-06-25T00:42:25.406Z"
   },
   {
    "duration": 14,
    "start_time": "2024-06-25T00:42:25.448Z"
   },
   {
    "duration": 16,
    "start_time": "2024-06-25T00:42:25.463Z"
   },
   {
    "duration": 3,
    "start_time": "2024-06-25T00:42:25.480Z"
   },
   {
    "duration": 14,
    "start_time": "2024-06-25T00:42:25.484Z"
   },
   {
    "duration": 4,
    "start_time": "2024-06-25T00:42:25.500Z"
   },
   {
    "duration": 26,
    "start_time": "2024-06-25T00:42:25.505Z"
   },
   {
    "duration": 7,
    "start_time": "2024-06-25T00:42:25.532Z"
   },
   {
    "duration": 3,
    "start_time": "2024-06-25T00:42:25.540Z"
   },
   {
    "duration": 34,
    "start_time": "2024-06-25T00:42:25.544Z"
   },
   {
    "duration": 26,
    "start_time": "2024-06-25T00:42:25.579Z"
   },
   {
    "duration": 13,
    "start_time": "2024-06-25T00:42:25.606Z"
   },
   {
    "duration": 2,
    "start_time": "2024-06-25T00:42:25.621Z"
   },
   {
    "duration": 8,
    "start_time": "2024-06-25T00:42:25.625Z"
   },
   {
    "duration": 11,
    "start_time": "2024-06-25T00:42:25.635Z"
   },
   {
    "duration": 7,
    "start_time": "2024-06-25T00:42:25.647Z"
   },
   {
    "duration": 22,
    "start_time": "2024-06-25T00:42:25.655Z"
   },
   {
    "duration": 22,
    "start_time": "2024-06-25T00:42:25.678Z"
   },
   {
    "duration": 26,
    "start_time": "2024-06-25T00:42:25.701Z"
   },
   {
    "duration": 15,
    "start_time": "2024-06-25T00:42:25.728Z"
   },
   {
    "duration": 15,
    "start_time": "2024-06-25T00:42:25.744Z"
   },
   {
    "duration": 18,
    "start_time": "2024-06-25T00:49:46.344Z"
   },
   {
    "duration": 21,
    "start_time": "2024-06-25T00:49:50.527Z"
   },
   {
    "duration": 89,
    "start_time": "2024-06-25T00:50:15.642Z"
   },
   {
    "duration": 77,
    "start_time": "2024-06-25T00:50:41.284Z"
   },
   {
    "duration": 413,
    "start_time": "2024-06-25T00:50:49.227Z"
   },
   {
    "duration": 18,
    "start_time": "2024-06-25T00:50:49.641Z"
   },
   {
    "duration": 20,
    "start_time": "2024-06-25T00:50:49.660Z"
   },
   {
    "duration": 18,
    "start_time": "2024-06-25T00:50:49.681Z"
   },
   {
    "duration": 36,
    "start_time": "2024-06-25T00:50:49.701Z"
   },
   {
    "duration": 3,
    "start_time": "2024-06-25T00:50:49.738Z"
   },
   {
    "duration": 15,
    "start_time": "2024-06-25T00:50:49.742Z"
   },
   {
    "duration": 22,
    "start_time": "2024-06-25T00:50:49.758Z"
   },
   {
    "duration": 8,
    "start_time": "2024-06-25T00:50:49.781Z"
   },
   {
    "duration": 5,
    "start_time": "2024-06-25T00:50:49.791Z"
   },
   {
    "duration": 58,
    "start_time": "2024-06-25T00:50:49.797Z"
   },
   {
    "duration": 11,
    "start_time": "2024-06-25T00:50:49.857Z"
   },
   {
    "duration": 5,
    "start_time": "2024-06-25T00:50:49.869Z"
   },
   {
    "duration": 24,
    "start_time": "2024-06-25T00:50:49.877Z"
   },
   {
    "duration": 29,
    "start_time": "2024-06-25T00:50:49.902Z"
   },
   {
    "duration": 17,
    "start_time": "2024-06-25T00:50:49.933Z"
   },
   {
    "duration": 3,
    "start_time": "2024-06-25T00:50:49.951Z"
   },
   {
    "duration": 15,
    "start_time": "2024-06-25T00:50:49.955Z"
   },
   {
    "duration": 17,
    "start_time": "2024-06-25T00:50:49.972Z"
   },
   {
    "duration": 108,
    "start_time": "2024-06-25T00:50:49.990Z"
   },
   {
    "duration": 8,
    "start_time": "2024-06-25T00:50:50.100Z"
   },
   {
    "duration": 35,
    "start_time": "2024-06-25T00:50:50.109Z"
   },
   {
    "duration": 35,
    "start_time": "2024-06-25T00:50:50.146Z"
   },
   {
    "duration": 70,
    "start_time": "2024-06-25T00:50:50.183Z"
   },
   {
    "duration": 0,
    "start_time": "2024-06-25T00:50:50.254Z"
   },
   {
    "duration": 16,
    "start_time": "2024-06-25T00:51:22.888Z"
   },
   {
    "duration": 34,
    "start_time": "2024-06-25T00:54:06.162Z"
   },
   {
    "duration": 37,
    "start_time": "2024-06-25T00:54:15.384Z"
   },
   {
    "duration": 24,
    "start_time": "2024-06-25T00:54:40.605Z"
   },
   {
    "duration": 428,
    "start_time": "2024-06-25T01:12:13.417Z"
   },
   {
    "duration": 18,
    "start_time": "2024-06-25T01:12:13.846Z"
   },
   {
    "duration": 24,
    "start_time": "2024-06-25T01:12:13.865Z"
   },
   {
    "duration": 8,
    "start_time": "2024-06-25T01:12:13.891Z"
   },
   {
    "duration": 48,
    "start_time": "2024-06-25T01:12:13.901Z"
   },
   {
    "duration": 3,
    "start_time": "2024-06-25T01:12:13.950Z"
   },
   {
    "duration": 23,
    "start_time": "2024-06-25T01:12:13.955Z"
   },
   {
    "duration": 39,
    "start_time": "2024-06-25T01:12:13.980Z"
   },
   {
    "duration": 40,
    "start_time": "2024-06-25T01:12:14.021Z"
   },
   {
    "duration": 20,
    "start_time": "2024-06-25T01:12:14.063Z"
   },
   {
    "duration": 64,
    "start_time": "2024-06-25T01:12:14.084Z"
   },
   {
    "duration": 8,
    "start_time": "2024-06-25T01:12:14.149Z"
   },
   {
    "duration": 12,
    "start_time": "2024-06-25T01:12:14.158Z"
   },
   {
    "duration": 48,
    "start_time": "2024-06-25T01:12:14.172Z"
   },
   {
    "duration": 47,
    "start_time": "2024-06-25T01:12:14.221Z"
   },
   {
    "duration": 37,
    "start_time": "2024-06-25T01:12:14.269Z"
   },
   {
    "duration": 7,
    "start_time": "2024-06-25T01:12:14.308Z"
   },
   {
    "duration": 27,
    "start_time": "2024-06-25T01:12:14.316Z"
   },
   {
    "duration": 32,
    "start_time": "2024-06-25T01:12:14.344Z"
   },
   {
    "duration": 32,
    "start_time": "2024-06-25T01:12:14.378Z"
   },
   {
    "duration": 18,
    "start_time": "2024-06-25T01:12:14.411Z"
   },
   {
    "duration": 61,
    "start_time": "2024-06-25T01:12:14.430Z"
   },
   {
    "duration": 27,
    "start_time": "2024-06-25T01:12:14.492Z"
   },
   {
    "duration": 16,
    "start_time": "2024-06-25T01:12:14.520Z"
   },
   {
    "duration": 17,
    "start_time": "2024-06-25T01:12:14.537Z"
   },
   {
    "duration": 79,
    "start_time": "2024-07-02T11:36:00.772Z"
   },
   {
    "duration": 48,
    "start_time": "2024-07-02T11:48:49.656Z"
   }
  ],
  "colab": {
   "provenance": []
  },
  "kernelspec": {
   "display_name": "Python 3 (ipykernel)",
   "language": "python",
   "name": "python3"
  },
  "language_info": {
   "codemirror_mode": {
    "name": "ipython",
    "version": 3
   },
   "file_extension": ".py",
   "mimetype": "text/x-python",
   "name": "python",
   "nbconvert_exporter": "python",
   "pygments_lexer": "ipython3",
   "version": "3.9.5"
  },
  "toc": {
   "base_numbering": 1,
   "nav_menu": {},
   "number_sections": true,
   "sideBar": true,
   "skip_h1_title": true,
   "title_cell": "Table of Contents",
   "title_sidebar": "Contents",
   "toc_cell": false,
   "toc_position": {
    "height": "calc(100% - 180px)",
    "left": "10px",
    "top": "150px",
    "width": "384px"
   },
   "toc_section_display": true,
   "toc_window_display": true
  }
 },
 "nbformat": 4,
 "nbformat_minor": 5
}
