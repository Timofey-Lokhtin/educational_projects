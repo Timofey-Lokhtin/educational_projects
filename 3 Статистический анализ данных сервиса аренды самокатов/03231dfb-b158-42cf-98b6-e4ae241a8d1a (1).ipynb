{
 "cells": [
  {
   "cell_type": "markdown",
   "id": "b00f5dfa",
   "metadata": {},
   "source": [
    "<div style=\"border:solid steelblue 3px; padding: 20px; border-radius: 10px\">\n",
    "\n",
    "**Тимофей, привет!** 👋\n",
    "\n",
    "Меня зовут Алексей, я буду проверять твой проект. В Яндекс Практикуме принято общаться на \"ты\", но если некомфортно - скажи и перейдем на \"Вы\".\n",
    "\n",
    "Моя основная цель - не указать на ошибки, а поделиться опытом и помочь в освоении анализа данных.\n",
    "\n",
    "В тетрадке ты увидишь мои комментарии, пожалуйста, не удаляй, не перемещай и не изменяй их. У комментариев могут быть приписки **2**, **3** и так далее, которые соответствуют каждой версии проверки. Напомню, что у тебя **6** попыток для успешной сдачи проекта.\n",
    "\n",
    "Я буду использовать цветовую разметку:\n",
    "<p>\n",
    "<div class=\"alert-danger\" style=\"padding: 20px; border-radius: 10px\">\n",
    "<b>Комментарий ревьюера ❌</b>\n",
    "\n",
    "Так выделены критические замечания. Без их отработки я не смогу принять проект. </div>\n",
    "\n",
    "<div class=\"alert-warning\" style=\"padding: 20px; border-radius: 10px\">\n",
    "<b>  Комментарий ревьюера ⚠️</b>\n",
    "\n",
    "Так выделены небольшие замечания или полезные советы. Постарайся учесть их.</div>\n",
    "<p>\n",
    "<div class=\"alert-success\" style=\"padding: 20px; border-radius: 10px\">\n",
    "<b>Комментарий ревьюера ✔️</b>\n",
    "\n",
    "Так выделены правильные решения.</div>\n",
    "\n",
    "Предлагаю работать в диалоге: если что-то дорабатываешь или отвечаешь на мой комментарий - пиши об этом. Мне будет удобней, если ты выделишь свои комментарии:\n",
    "<p>\n",
    "<div class=\"alert-info\" style=\"padding: 20px; border-radius: 10px\">\n",
    "<b>Комментарий студента 💎</b>\n",
    "\n",
    "Здесь исправил.</div>\n",
    "\n",
    "Все это поможет мне быстрее принять твой проект."
   ]
  },
  {
   "cell_type": "markdown",
   "id": "95ff08db",
   "metadata": {},
   "source": [
    "# Проект: Статистический анализ данных\n",
    "Мы имеем данные о некоторых пользователях популярного сервиса аренды самокатов GoFast из нескольких городов, а также об их поездках. Продакт-менеджеры сервиса хотят увеличить количество пользователей с подпиской путем проведения различных акций. Для этого нужно будет ознакомиться с данными, исправить в них ошибки, проанализировать данные, создавать на их основе новые столбцы, таблицы и графики, с помощью которых можно будет проверить некоторые гипотезы об отличительных особенностях пользователей с подпиской. "
   ]
  },
  {
   "cell_type": "markdown",
   "id": "b68276c2",
   "metadata": {},
   "source": [
    "<div class=\"alert-warning\" style=\"padding: 20px; border-radius: 10px\">\n",
    "<b>Комментарий ревьюера ⚠️</b>\n",
    "\n",
    "Можно изложить вводную часть немного подробнее: какие цели исследования, набросать план работы."
   ]
  },
  {
   "cell_type": "markdown",
   "id": "79766369",
   "metadata": {},
   "source": [
    "<div class=\"alert-info\" style=\"padding: 20px; border-radius: 10px\">\n",
    "<b>Комментарий студента 😎</b>\n",
    "\n",
    "Здесь исправил, кажется.</div>"
   ]
  },
  {
   "cell_type": "markdown",
   "id": "c42cbe00",
   "metadata": {},
   "source": [
    "#### Загрузка данных"
   ]
  },
  {
   "cell_type": "markdown",
   "id": "e3965e0a",
   "metadata": {},
   "source": [
    "#####  Считываем CSV-файлы с данными и сохраняем их в датафреймы"
   ]
  },
  {
   "cell_type": "code",
   "execution_count": 1,
   "id": "72576667",
   "metadata": {},
   "outputs": [],
   "source": [
    "import pandas as pd\n",
    "import numpy as np\n",
    "import scipy.stats as st\n",
    "from matplotlib import pyplot as plt"
   ]
  },
  {
   "cell_type": "code",
   "execution_count": 2,
   "id": "b8171350",
   "metadata": {},
   "outputs": [],
   "source": [
    "try:\n",
    "    users = pd.read_csv('C:/datasets/users_go.csv')\n",
    "except:\n",
    "    users = pd.read_csv('/datasets/users_go.csv')\n",
    "\n",
    "try:\n",
    "    rides = pd.read_csv('C:/datasets/rides_go.csv')\n",
    "except:\n",
    "    rides = pd.read_csv('/datasets/rides_go.csv')\n",
    "\n",
    "try:\n",
    "    subs = pd.read_csv('C:/datasets/subscriptions_go.csv')\n",
    "except:\n",
    "    subs = pd.read_csv('/datasets/subscriptions_go.csv')"
   ]
  },
  {
   "cell_type": "markdown",
   "id": "56a5100a",
   "metadata": {},
   "source": [
    "<div class=\"alert-warning\" style=\"padding: 20px; border-radius: 10px\">\n",
    "<b>Комментарий ревьюера ⚠️</b>\n",
    "\n",
    "<s>📌 Стоит разделять ячейки загрузки библиотек и данных. Если понадобится подключить дополнительную библиотеку, не нужно будет заново загружать данные и перезаписывать переменные."
   ]
  },
  {
   "cell_type": "markdown",
   "id": "08ce838b",
   "metadata": {},
   "source": [
    "<div class=\"alert-info\" style=\"padding: 20px; border-radius: 10px\">\n",
    "<b>Комментарий студента 😎</b>\n",
    "\n",
    "Здесь исправил.</div>"
   ]
  },
  {
   "cell_type": "markdown",
   "id": "8e7b1e67",
   "metadata": {},
   "source": [
    "##### Выводим первые строки, изучаем общую информацию о каждом датафрейме"
   ]
  },
  {
   "cell_type": "code",
   "execution_count": 3,
   "id": "eff9f206",
   "metadata": {},
   "outputs": [
    {
     "name": "stdout",
     "output_type": "stream",
     "text": [
      "<class 'pandas.core.frame.DataFrame'>\n",
      "RangeIndex: 1565 entries, 0 to 1564\n",
      "Data columns (total 5 columns):\n",
      " #   Column             Non-Null Count  Dtype \n",
      "---  ------             --------------  ----- \n",
      " 0   user_id            1565 non-null   int64 \n",
      " 1   name               1565 non-null   object\n",
      " 2   age                1565 non-null   int64 \n",
      " 3   city               1565 non-null   object\n",
      " 4   subscription_type  1565 non-null   object\n",
      "dtypes: int64(2), object(3)\n",
      "memory usage: 61.3+ KB\n"
     ]
    },
    {
     "data": {
      "text/html": [
       "<div>\n",
       "<style scoped>\n",
       "    .dataframe tbody tr th:only-of-type {\n",
       "        vertical-align: middle;\n",
       "    }\n",
       "\n",
       "    .dataframe tbody tr th {\n",
       "        vertical-align: top;\n",
       "    }\n",
       "\n",
       "    .dataframe thead th {\n",
       "        text-align: right;\n",
       "    }\n",
       "</style>\n",
       "<table border=\"1\" class=\"dataframe\">\n",
       "  <thead>\n",
       "    <tr style=\"text-align: right;\">\n",
       "      <th></th>\n",
       "      <th>user_id</th>\n",
       "      <th>name</th>\n",
       "      <th>age</th>\n",
       "      <th>city</th>\n",
       "      <th>subscription_type</th>\n",
       "    </tr>\n",
       "  </thead>\n",
       "  <tbody>\n",
       "    <tr>\n",
       "      <th>0</th>\n",
       "      <td>1</td>\n",
       "      <td>Кира</td>\n",
       "      <td>22</td>\n",
       "      <td>Тюмень</td>\n",
       "      <td>ultra</td>\n",
       "    </tr>\n",
       "    <tr>\n",
       "      <th>1</th>\n",
       "      <td>2</td>\n",
       "      <td>Станислав</td>\n",
       "      <td>31</td>\n",
       "      <td>Омск</td>\n",
       "      <td>ultra</td>\n",
       "    </tr>\n",
       "    <tr>\n",
       "      <th>2</th>\n",
       "      <td>3</td>\n",
       "      <td>Алексей</td>\n",
       "      <td>20</td>\n",
       "      <td>Москва</td>\n",
       "      <td>ultra</td>\n",
       "    </tr>\n",
       "    <tr>\n",
       "      <th>3</th>\n",
       "      <td>4</td>\n",
       "      <td>Константин</td>\n",
       "      <td>26</td>\n",
       "      <td>Ростов-на-Дону</td>\n",
       "      <td>ultra</td>\n",
       "    </tr>\n",
       "    <tr>\n",
       "      <th>4</th>\n",
       "      <td>5</td>\n",
       "      <td>Адель</td>\n",
       "      <td>28</td>\n",
       "      <td>Омск</td>\n",
       "      <td>ultra</td>\n",
       "    </tr>\n",
       "  </tbody>\n",
       "</table>\n",
       "</div>"
      ],
      "text/plain": [
       "   user_id        name  age            city subscription_type\n",
       "0        1        Кира   22          Тюмень             ultra\n",
       "1        2   Станислав   31            Омск             ultra\n",
       "2        3     Алексей   20          Москва             ultra\n",
       "3        4  Константин   26  Ростов-на-Дону             ultra\n",
       "4        5       Адель   28            Омск             ultra"
      ]
     },
     "execution_count": 3,
     "metadata": {},
     "output_type": "execute_result"
    }
   ],
   "source": [
    "users.info()\n",
    "users.head()"
   ]
  },
  {
   "cell_type": "code",
   "execution_count": 4,
   "id": "26037a0b",
   "metadata": {},
   "outputs": [
    {
     "name": "stdout",
     "output_type": "stream",
     "text": [
      "<class 'pandas.core.frame.DataFrame'>\n",
      "RangeIndex: 18068 entries, 0 to 18067\n",
      "Data columns (total 4 columns):\n",
      " #   Column    Non-Null Count  Dtype  \n",
      "---  ------    --------------  -----  \n",
      " 0   user_id   18068 non-null  int64  \n",
      " 1   distance  18068 non-null  float64\n",
      " 2   duration  18068 non-null  float64\n",
      " 3   date      18068 non-null  object \n",
      "dtypes: float64(2), int64(1), object(1)\n",
      "memory usage: 564.8+ KB\n"
     ]
    },
    {
     "data": {
      "text/html": [
       "<div>\n",
       "<style scoped>\n",
       "    .dataframe tbody tr th:only-of-type {\n",
       "        vertical-align: middle;\n",
       "    }\n",
       "\n",
       "    .dataframe tbody tr th {\n",
       "        vertical-align: top;\n",
       "    }\n",
       "\n",
       "    .dataframe thead th {\n",
       "        text-align: right;\n",
       "    }\n",
       "</style>\n",
       "<table border=\"1\" class=\"dataframe\">\n",
       "  <thead>\n",
       "    <tr style=\"text-align: right;\">\n",
       "      <th></th>\n",
       "      <th>user_id</th>\n",
       "      <th>distance</th>\n",
       "      <th>duration</th>\n",
       "      <th>date</th>\n",
       "    </tr>\n",
       "  </thead>\n",
       "  <tbody>\n",
       "    <tr>\n",
       "      <th>0</th>\n",
       "      <td>1</td>\n",
       "      <td>4409.919140</td>\n",
       "      <td>25.599769</td>\n",
       "      <td>2021-01-01</td>\n",
       "    </tr>\n",
       "    <tr>\n",
       "      <th>1</th>\n",
       "      <td>1</td>\n",
       "      <td>2617.592153</td>\n",
       "      <td>15.816871</td>\n",
       "      <td>2021-01-18</td>\n",
       "    </tr>\n",
       "    <tr>\n",
       "      <th>2</th>\n",
       "      <td>1</td>\n",
       "      <td>754.159807</td>\n",
       "      <td>6.232113</td>\n",
       "      <td>2021-04-20</td>\n",
       "    </tr>\n",
       "    <tr>\n",
       "      <th>3</th>\n",
       "      <td>1</td>\n",
       "      <td>2694.783254</td>\n",
       "      <td>18.511000</td>\n",
       "      <td>2021-08-11</td>\n",
       "    </tr>\n",
       "    <tr>\n",
       "      <th>4</th>\n",
       "      <td>1</td>\n",
       "      <td>4028.687306</td>\n",
       "      <td>26.265803</td>\n",
       "      <td>2021-08-28</td>\n",
       "    </tr>\n",
       "  </tbody>\n",
       "</table>\n",
       "</div>"
      ],
      "text/plain": [
       "   user_id     distance   duration        date\n",
       "0        1  4409.919140  25.599769  2021-01-01\n",
       "1        1  2617.592153  15.816871  2021-01-18\n",
       "2        1   754.159807   6.232113  2021-04-20\n",
       "3        1  2694.783254  18.511000  2021-08-11\n",
       "4        1  4028.687306  26.265803  2021-08-28"
      ]
     },
     "execution_count": 4,
     "metadata": {},
     "output_type": "execute_result"
    }
   ],
   "source": [
    "rides.info()\n",
    "rides.head()"
   ]
  },
  {
   "cell_type": "code",
   "execution_count": 5,
   "id": "d6cb1bb0",
   "metadata": {},
   "outputs": [
    {
     "name": "stdout",
     "output_type": "stream",
     "text": [
      "<class 'pandas.core.frame.DataFrame'>\n",
      "RangeIndex: 2 entries, 0 to 1\n",
      "Data columns (total 4 columns):\n",
      " #   Column             Non-Null Count  Dtype \n",
      "---  ------             --------------  ----- \n",
      " 0   subscription_type  2 non-null      object\n",
      " 1   minute_price       2 non-null      int64 \n",
      " 2   start_ride_price   2 non-null      int64 \n",
      " 3   subscription_fee   2 non-null      int64 \n",
      "dtypes: int64(3), object(1)\n",
      "memory usage: 192.0+ bytes\n"
     ]
    },
    {
     "data": {
      "text/html": [
       "<div>\n",
       "<style scoped>\n",
       "    .dataframe tbody tr th:only-of-type {\n",
       "        vertical-align: middle;\n",
       "    }\n",
       "\n",
       "    .dataframe tbody tr th {\n",
       "        vertical-align: top;\n",
       "    }\n",
       "\n",
       "    .dataframe thead th {\n",
       "        text-align: right;\n",
       "    }\n",
       "</style>\n",
       "<table border=\"1\" class=\"dataframe\">\n",
       "  <thead>\n",
       "    <tr style=\"text-align: right;\">\n",
       "      <th></th>\n",
       "      <th>subscription_type</th>\n",
       "      <th>minute_price</th>\n",
       "      <th>start_ride_price</th>\n",
       "      <th>subscription_fee</th>\n",
       "    </tr>\n",
       "  </thead>\n",
       "  <tbody>\n",
       "    <tr>\n",
       "      <th>0</th>\n",
       "      <td>free</td>\n",
       "      <td>8</td>\n",
       "      <td>50</td>\n",
       "      <td>0</td>\n",
       "    </tr>\n",
       "    <tr>\n",
       "      <th>1</th>\n",
       "      <td>ultra</td>\n",
       "      <td>6</td>\n",
       "      <td>0</td>\n",
       "      <td>199</td>\n",
       "    </tr>\n",
       "  </tbody>\n",
       "</table>\n",
       "</div>"
      ],
      "text/plain": [
       "  subscription_type  minute_price  start_ride_price  subscription_fee\n",
       "0              free             8                50                 0\n",
       "1             ultra             6                 0               199"
      ]
     },
     "execution_count": 5,
     "metadata": {},
     "output_type": "execute_result"
    }
   ],
   "source": [
    "subs.info()\n",
    "subs"
   ]
  },
  {
   "cell_type": "markdown",
   "id": "6726e41e",
   "metadata": {},
   "source": [
    "***Есть три таблицы с данными о пользователях, их поездках и подписках. Посмотрев общую информацию о таблицах, можно сделать вывод, что пропусков нет, типы данных корректные везде, кроме столбца с датой.***"
   ]
  },
  {
   "cell_type": "markdown",
   "id": "b1f9d12a",
   "metadata": {},
   "source": [
    "<div class=\"alert-success\" style=\"padding: 20px; border-radius: 10px\">\n",
    "<b>Комментарий ревьюера ✔️</b>\n",
    "\n",
    "Данные загружены верно, получена общая информация о датафреймах. 🚀</div>"
   ]
  },
  {
   "cell_type": "markdown",
   "id": "e95ebca7",
   "metadata": {},
   "source": [
    "#### Предобработка данных"
   ]
  },
  {
   "cell_type": "markdown",
   "id": "3cb134cf",
   "metadata": {},
   "source": [
    "##### Приводим столбец date к типу даты pandas"
   ]
  },
  {
   "cell_type": "code",
   "execution_count": 6,
   "id": "af6d202c",
   "metadata": {},
   "outputs": [
    {
     "name": "stdout",
     "output_type": "stream",
     "text": [
      "<class 'pandas.core.frame.DataFrame'>\n",
      "RangeIndex: 18068 entries, 0 to 18067\n",
      "Data columns (total 4 columns):\n",
      " #   Column    Non-Null Count  Dtype         \n",
      "---  ------    --------------  -----         \n",
      " 0   user_id   18068 non-null  int64         \n",
      " 1   distance  18068 non-null  float64       \n",
      " 2   duration  18068 non-null  float64       \n",
      " 3   date      18068 non-null  datetime64[ns]\n",
      "dtypes: datetime64[ns](1), float64(2), int64(1)\n",
      "memory usage: 564.8 KB\n"
     ]
    }
   ],
   "source": [
    "rides['date'] = pd.to_datetime(rides['date'], format='%Y-%m-%d')     \n",
    "rides.info()"
   ]
  },
  {
   "cell_type": "markdown",
   "id": "c7a61368",
   "metadata": {},
   "source": [
    "##### Создаем новый столбец с номером месяца"
   ]
  },
  {
   "cell_type": "code",
   "execution_count": 7,
   "id": "3cbf8936",
   "metadata": {},
   "outputs": [
    {
     "data": {
      "text/plain": [
       "array([2021])"
      ]
     },
     "execution_count": 7,
     "metadata": {},
     "output_type": "execute_result"
    }
   ],
   "source": [
    "rides['date'].dt.year.unique() # за какие годы данные"
   ]
  },
  {
   "cell_type": "code",
   "execution_count": 8,
   "id": "c053e8c4",
   "metadata": {},
   "outputs": [
    {
     "name": "stdout",
     "output_type": "stream",
     "text": [
      "<class 'pandas.core.frame.DataFrame'>\n",
      "RangeIndex: 18068 entries, 0 to 18067\n",
      "Data columns (total 5 columns):\n",
      " #   Column    Non-Null Count  Dtype         \n",
      "---  ------    --------------  -----         \n",
      " 0   user_id   18068 non-null  int64         \n",
      " 1   distance  18068 non-null  float64       \n",
      " 2   duration  18068 non-null  float64       \n",
      " 3   date      18068 non-null  datetime64[ns]\n",
      " 4   month     18068 non-null  int64         \n",
      "dtypes: datetime64[ns](1), float64(2), int64(2)\n",
      "memory usage: 705.9 KB\n"
     ]
    }
   ],
   "source": [
    "rides['month'] = rides['date'].dt.month\n",
    "rides.head()"
   ]
  },
  {
   "cell_type": "markdown",
   "id": "934f41e0",
   "metadata": {},
   "source": [
    "<div class=\"alert-warning\" style=\"padding: 20px; border-radius: 10px\">\n",
    "<b>Комментарий ревьюера ⚠️</b>\n",
    "\n",
    "<s>На этом этапе можно проверить за какой период у нас данные (за сколько лет). Провести такую проверку важно, чтобы данные за несколько лет не \"склеились\" при агрегации по месяцам."
   ]
  },
  {
   "cell_type": "markdown",
   "id": "aca12359",
   "metadata": {},
   "source": [
    "<div class=\"alert-info\" style=\"padding: 20px; border-radius: 10px\">\n",
    "<b>Комментарий студента 😎</b>\n",
    "\n",
    "Здесь исправил.</div>"
   ]
  },
  {
   "cell_type": "markdown",
   "id": "0a011189",
   "metadata": {},
   "source": [
    "<div class=\"alert-success\" style=\"border-radius: 10px; padding: 20px\">\n",
    "<b>Комментарий ревьюера 2 ✔️</b>\n",
    "\n",
    "Отлично! 👍</div>"
   ]
  },
  {
   "cell_type": "markdown",
   "id": "aeddeca8",
   "metadata": {},
   "source": [
    "##### Проверяем наличие дубликатов в датафреймах и обрабатываем их"
   ]
  },
  {
   "cell_type": "code",
   "execution_count": 9,
   "id": "cad9d7ef",
   "metadata": {},
   "outputs": [
    {
     "data": {
      "text/plain": [
       "31"
      ]
     },
     "execution_count": 9,
     "metadata": {},
     "output_type": "execute_result"
    }
   ],
   "source": [
    "users.duplicated().sum()"
   ]
  },
  {
   "cell_type": "code",
   "execution_count": 10,
   "id": "da327b01",
   "metadata": {},
   "outputs": [
    {
     "data": {
      "text/html": [
       "<div>\n",
       "<style scoped>\n",
       "    .dataframe tbody tr th:only-of-type {\n",
       "        vertical-align: middle;\n",
       "    }\n",
       "\n",
       "    .dataframe tbody tr th {\n",
       "        vertical-align: top;\n",
       "    }\n",
       "\n",
       "    .dataframe thead th {\n",
       "        text-align: right;\n",
       "    }\n",
       "</style>\n",
       "<table border=\"1\" class=\"dataframe\">\n",
       "  <thead>\n",
       "    <tr style=\"text-align: right;\">\n",
       "      <th></th>\n",
       "      <th>user_id</th>\n",
       "      <th>name</th>\n",
       "      <th>age</th>\n",
       "      <th>city</th>\n",
       "      <th>subscription_type</th>\n",
       "    </tr>\n",
       "  </thead>\n",
       "  <tbody>\n",
       "    <tr>\n",
       "      <th>1534</th>\n",
       "      <td>293</td>\n",
       "      <td>Агата</td>\n",
       "      <td>26</td>\n",
       "      <td>Краснодар</td>\n",
       "      <td>ultra</td>\n",
       "    </tr>\n",
       "    <tr>\n",
       "      <th>1535</th>\n",
       "      <td>16</td>\n",
       "      <td>Амалия</td>\n",
       "      <td>27</td>\n",
       "      <td>Краснодар</td>\n",
       "      <td>ultra</td>\n",
       "    </tr>\n",
       "    <tr>\n",
       "      <th>1536</th>\n",
       "      <td>909</td>\n",
       "      <td>Константин</td>\n",
       "      <td>20</td>\n",
       "      <td>Екатеринбург</td>\n",
       "      <td>free</td>\n",
       "    </tr>\n",
       "    <tr>\n",
       "      <th>1537</th>\n",
       "      <td>403</td>\n",
       "      <td>Полина</td>\n",
       "      <td>19</td>\n",
       "      <td>Сочи</td>\n",
       "      <td>ultra</td>\n",
       "    </tr>\n",
       "    <tr>\n",
       "      <th>1538</th>\n",
       "      <td>908</td>\n",
       "      <td>Рустам</td>\n",
       "      <td>30</td>\n",
       "      <td>Тюмень</td>\n",
       "      <td>free</td>\n",
       "    </tr>\n",
       "  </tbody>\n",
       "</table>\n",
       "</div>"
      ],
      "text/plain": [
       "      user_id        name  age          city subscription_type\n",
       "1534      293       Агата   26     Краснодар             ultra\n",
       "1535       16      Амалия   27     Краснодар             ultra\n",
       "1536      909  Константин   20  Екатеринбург              free\n",
       "1537      403      Полина   19          Сочи             ultra\n",
       "1538      908      Рустам   30        Тюмень              free"
      ]
     },
     "execution_count": 10,
     "metadata": {},
     "output_type": "execute_result"
    }
   ],
   "source": [
    "users[users.duplicated()].head()"
   ]
  },
  {
   "cell_type": "code",
   "execution_count": 11,
   "id": "0d582302",
   "metadata": {},
   "outputs": [],
   "source": [
    "users = users.drop_duplicates().reset_index(drop=True) "
   ]
  },
  {
   "cell_type": "markdown",
   "id": "82418107",
   "metadata": {},
   "source": [
    "<div class=\"alert-warning\" style=\"padding: 20px; border-radius: 10px\">\n",
    "<b>Комментарий ревьюера ⚠️</b>\n",
    "\n",
    "<s>Перед удалением, желательно вывести несколько примеров дубликатов на экран."
   ]
  },
  {
   "cell_type": "markdown",
   "id": "17703b61",
   "metadata": {},
   "source": [
    "<div class=\"alert-info\" style=\"padding: 20px; border-radius: 10px\">\n",
    "<b>Комментарий студента 😎</b>\n",
    "\n",
    "Здесь исправил.</div>"
   ]
  },
  {
   "cell_type": "code",
   "execution_count": 12,
   "id": "295fe930",
   "metadata": {},
   "outputs": [
    {
     "name": "stdout",
     "output_type": "stream",
     "text": [
      "количество явных дубликатов в таблице с пользователями: 0\n",
      "количество явных дубликатов в таблице с поездками: 0\n"
     ]
    }
   ],
   "source": [
    "print(f'количество явных дубликатов в таблице с пользователями: {users.duplicated().sum()}')\n",
    "print(f'количество явных дубликатов в таблице с поездками: {rides.duplicated().sum()}')"
   ]
  },
  {
   "cell_type": "markdown",
   "id": "71cb7017",
   "metadata": {},
   "source": [
    "***Исправлен тип данных в столбце с датой, добавлен столбец с номером месяца для каждой поездки, обработаны дубликаты.***"
   ]
  },
  {
   "cell_type": "markdown",
   "id": "212593c7",
   "metadata": {},
   "source": [
    "#### Исследовательский анализ данных\n",
    "\n",
    "***Описываем и визуализируем общую информацию о пользователях и поездках:***"
   ]
  },
  {
   "cell_type": "markdown",
   "id": "ce6f310e",
   "metadata": {},
   "source": [
    " ##### Частота встречаемости городов"
   ]
  },
  {
   "cell_type": "code",
   "execution_count": 13,
   "id": "af3e5195",
   "metadata": {},
   "outputs": [
    {
     "data": {
      "text/html": [
       "<div>\n",
       "<style scoped>\n",
       "    .dataframe tbody tr th:only-of-type {\n",
       "        vertical-align: middle;\n",
       "    }\n",
       "\n",
       "    .dataframe tbody tr th {\n",
       "        vertical-align: top;\n",
       "    }\n",
       "\n",
       "    .dataframe thead th {\n",
       "        text-align: right;\n",
       "    }\n",
       "</style>\n",
       "<table border=\"1\" class=\"dataframe\">\n",
       "  <thead>\n",
       "    <tr style=\"text-align: right;\">\n",
       "      <th></th>\n",
       "      <th>users_number</th>\n",
       "    </tr>\n",
       "    <tr>\n",
       "      <th>city</th>\n",
       "      <th></th>\n",
       "    </tr>\n",
       "  </thead>\n",
       "  <tbody>\n",
       "    <tr>\n",
       "      <th>Пятигорск</th>\n",
       "      <td>219</td>\n",
       "    </tr>\n",
       "    <tr>\n",
       "      <th>Екатеринбург</th>\n",
       "      <td>204</td>\n",
       "    </tr>\n",
       "    <tr>\n",
       "      <th>Ростов-на-Дону</th>\n",
       "      <td>198</td>\n",
       "    </tr>\n",
       "    <tr>\n",
       "      <th>Краснодар</th>\n",
       "      <td>193</td>\n",
       "    </tr>\n",
       "    <tr>\n",
       "      <th>Сочи</th>\n",
       "      <td>189</td>\n",
       "    </tr>\n",
       "    <tr>\n",
       "      <th>Омск</th>\n",
       "      <td>183</td>\n",
       "    </tr>\n",
       "    <tr>\n",
       "      <th>Тюмень</th>\n",
       "      <td>180</td>\n",
       "    </tr>\n",
       "    <tr>\n",
       "      <th>Москва</th>\n",
       "      <td>168</td>\n",
       "    </tr>\n",
       "  </tbody>\n",
       "</table>\n",
       "</div>"
      ],
      "text/plain": [
       "                users_number\n",
       "city                        \n",
       "Пятигорск                219\n",
       "Екатеринбург             204\n",
       "Ростов-на-Дону           198\n",
       "Краснодар                193\n",
       "Сочи                     189\n",
       "Омск                     183\n",
       "Тюмень                   180\n",
       "Москва                   168"
      ]
     },
     "execution_count": 13,
     "metadata": {},
     "output_type": "execute_result"
    },
    {
     "data": {
      "image/png": "[encoded data removed]",
      "text/plain": [
       "<Figure size 720x360 with 1 Axes>"
      ]
     },
     "metadata": {
      "needs_background": "light"
     },
     "output_type": "display_data"
    }
   ],
   "source": [
    "city_freq = (\n",
    "    users.pivot_table(index='city', values='user_id', aggfunc='count')\n",
    "    .sort_values(by='user_id', ascending=False)\n",
    ")\n",
    "city_freq.columns = ['users_number']\n",
    "city_freq.plot(\n",
    "    kind='bar', figsize=(10, 5), legend=False, \n",
    "    title='число уникальных пользователей, приходящихся на каждый город'\n",
    ")\n",
    "city_freq"
   ]
  },
  {
   "cell_type": "markdown",
   "id": "5a9e0f0d",
   "metadata": {},
   "source": [
    "<div class=\"alert-warning\" style=\"padding: 20px; border-radius: 10px\">\n",
    "<b>Комментарий ревьюера ⚠️</b>\n",
    "\n",
    "<s>Обычно категории на таких графиках сортируются по убыванию."
   ]
  },
  {
   "cell_type": "markdown",
   "id": "2b03e085",
   "metadata": {},
   "source": [
    "<div class=\"alert-info\" style=\"padding: 20px; border-radius: 10px\">\n",
    "<b>Комментарий студента 😎</b>\n",
    "\n",
    "Здесь исправил.</div>"
   ]
  },
  {
   "cell_type": "markdown",
   "id": "198e55b0",
   "metadata": {},
   "source": [
    "<div class=\"alert-success\" style=\"border-radius: 10px; padding: 20px\">\n",
    "<b>Комментарий ревьюера 2 ✔️</b>\n",
    "\n",
    "Молодец, так стало нагляднее."
   ]
  },
  {
   "cell_type": "markdown",
   "id": "2965faa4",
   "metadata": {},
   "source": [
    "В выборку попало приблизительно равное число пользователей из каждого из восьми городов."
   ]
  },
  {
   "cell_type": "markdown",
   "id": "13931ad9",
   "metadata": {},
   "source": [
    "##### Cоотношение пользователей с подпиской и без подписки"
   ]
  },
  {
   "cell_type": "code",
   "execution_count": 14,
   "id": "417c7b38",
   "metadata": {},
   "outputs": [
    {
     "name": "stdout",
     "output_type": "stream",
     "text": [
      "Доля пользователей без подписки от общего числа: 0.5443285528031291\n",
      "Доля пользователей с подпиской от общего числа: 0.4556714471968709\n"
     ]
    },
    {
     "data": {
      "text/html": [
       "<div>\n",
       "<style scoped>\n",
       "    .dataframe tbody tr th:only-of-type {\n",
       "        vertical-align: middle;\n",
       "    }\n",
       "\n",
       "    .dataframe tbody tr th {\n",
       "        vertical-align: top;\n",
       "    }\n",
       "\n",
       "    .dataframe thead th {\n",
       "        text-align: right;\n",
       "    }\n",
       "</style>\n",
       "<table border=\"1\" class=\"dataframe\">\n",
       "  <thead>\n",
       "    <tr style=\"text-align: right;\">\n",
       "      <th></th>\n",
       "      <th>users_number</th>\n",
       "    </tr>\n",
       "    <tr>\n",
       "      <th>subscription_type</th>\n",
       "      <th></th>\n",
       "    </tr>\n",
       "  </thead>\n",
       "  <tbody>\n",
       "    <tr>\n",
       "      <th>free</th>\n",
       "      <td>835</td>\n",
       "    </tr>\n",
       "    <tr>\n",
       "      <th>ultra</th>\n",
       "      <td>699</td>\n",
       "    </tr>\n",
       "  </tbody>\n",
       "</table>\n",
       "</div>"
      ],
      "text/plain": [
       "                   users_number\n",
       "subscription_type              \n",
       "free                        835\n",
       "ultra                       699"
      ]
     },
     "execution_count": 14,
     "metadata": {},
     "output_type": "execute_result"
    },
    {
     "data": {
      "image/png": "[encoded data removed]",
      "text/plain": [
       "<Figure size 576x576 with 1 Axes>"
      ]
     },
     "metadata": {},
     "output_type": "display_data"
    }
   ],
   "source": [
    "subtype_ratio = users.pivot_table(index='subscription_type', values='user_id', aggfunc='count')\n",
    "subtype_ratio.columns = ['users_number']\n",
    "subtype_ratio.plot(y='users_number', kind='pie', figsize=(8, 8))\n",
    "plt.title(\"Соотношение пользователей с подпиской и без подписки\")\n",
    "plt.ylabel(\"\")\n",
    "print(f'Доля пользователей без подписки от общего числа: {835/(835+699)}')\n",
    "print(f'Доля пользователей с подпиской от общего числа: {699/(835+699)}')\n",
    "subtype_ratio"
   ]
  },
  {
   "cell_type": "markdown",
   "id": "270914a2",
   "metadata": {},
   "source": [
    "<div class=\"alert-warning\" style=\"padding: 20px; border-radius: 10px\">\n",
    "<b>Комментарий ревьюера ⚠️</b>\n",
    "\n",
    "<s>Круговая диаграмма нагляднее визуализирует части целого."
   ]
  },
  {
   "cell_type": "markdown",
   "id": "4c922c38",
   "metadata": {},
   "source": [
    "<div class=\"alert-info\" style=\"padding: 20px; border-radius: 10px\">\n",
    "<b>Комментарий студента 😎</b>\n",
    "\n",
    "Здесь исправил.</div>"
   ]
  },
  {
   "cell_type": "markdown",
   "id": "caaa5aee",
   "metadata": {},
   "source": [
    "<div class=\"alert-success\" style=\"border-radius: 10px; padding: 20px\">\n",
    "<b>Комментарий ревьюера 2 ✔️</b>\n",
    "\n",
    "Хорошо.\n",
    "\n",
    "На круговую диаграмму можно добавить подписи долей в процентах параметром `autopct = `"
   ]
  },
  {
   "cell_type": "markdown",
   "id": "061c2c85",
   "metadata": {},
   "source": [
    "Пользователей с подпиской немного меньше, чем пользователей без нее."
   ]
  },
  {
   "cell_type": "markdown",
   "id": "a755a236",
   "metadata": {},
   "source": [
    "##### Возраст пользователей"
   ]
  },
  {
   "cell_type": "code",
   "execution_count": 15,
   "id": "e3836b32",
   "metadata": {},
   "outputs": [
    {
     "data": {
      "text/plain": [
       "count    1534.000000\n",
       "mean       24.903520\n",
       "std         4.572367\n",
       "min        12.000000\n",
       "25%        22.000000\n",
       "50%        25.000000\n",
       "75%        28.000000\n",
       "max        43.000000\n",
       "Name: age, dtype: float64"
      ]
     },
     "execution_count": 15,
     "metadata": {},
     "output_type": "execute_result"
    },
    {
     "data": {
      "image/png": "[encoded data removed]",
      "text/plain": [
       "<Figure size 720x360 with 1 Axes>"
      ]
     },
     "metadata": {
      "needs_background": "light"
     },
     "output_type": "display_data"
    }
   ],
   "source": [
    "users.hist('age', bins=50, range=(0, 50), figsize=(10, 5))\n",
    "plt.title(\"Распределение пользователей по возрасту\")\n",
    "plt.xlabel(\"Возраст\")\n",
    "plt.ylabel(\"Частота встречаемости\")\n",
    "users['age'].describe()"
   ]
  },
  {
   "cell_type": "markdown",
   "id": "74399174",
   "metadata": {},
   "source": [
    "<div class=\"alert-warning\" style=\"padding: 20px; border-radius: 10px\">\n",
    "<b>Комментарий ревьюера ⚠️</b>\n",
    "    \n",
    "<s>Пожалуйста, доработай оформление графика здесь и в остальных визуализациях проекта:\n",
    "    \n",
    "1. обязательно должен быть заголовок `plt.title('Заголовок')`\n",
    "2. подписи осей `plt.xlabel('Заголовок оси X')` и `plt.ylabel('Заголовок оси Y')`\n",
    "    \n"
   ]
  },
  {
   "cell_type": "markdown",
   "id": "fb159143",
   "metadata": {},
   "source": [
    "<div class=\"alert-info\" style=\"padding: 20px; border-radius: 10px\">\n",
    "<b>Комментарий студента 😎</b>\n",
    "\n",
    "Здесь и в остальных визуализациях проекта исправил.</div>"
   ]
  },
  {
   "cell_type": "markdown",
   "id": "6f63f886",
   "metadata": {},
   "source": [
    "Пользователи нормально распределены по возрасту, аномалий нет. Самому молодому пользователю 12 лет, старшему - 43. Средний возраст пользователя около 25 лет."
   ]
  },
  {
   "cell_type": "markdown",
   "id": "4f911498",
   "metadata": {},
   "source": [
    "##### Расстояние, которое пользователь преодолел за одну поездку"
   ]
  },
  {
   "cell_type": "code",
   "execution_count": 16,
   "id": "d71931d2",
   "metadata": {},
   "outputs": [
    {
     "name": "stdout",
     "output_type": "stream",
     "text": [
      "count    18068.000000\n",
      "mean      3070.659976\n",
      "std       1116.831209\n",
      "min          0.855683\n",
      "25%       2543.226360\n",
      "50%       3133.609994\n",
      "75%       3776.222735\n",
      "max       7211.007745\n",
      "Name: distance, dtype: float64\n"
     ]
    },
    {
     "data": {
      "text/plain": [
       "0.09940225813593093"
      ]
     },
     "execution_count": 16,
     "metadata": {},
     "output_type": "execute_result"
    },
    {
     "data": {
      "image/png": "[encoded data removed]",
      "text/plain": [
       "<Figure size 720x360 with 1 Axes>"
      ]
     },
     "metadata": {
      "needs_background": "light"
     },
     "output_type": "display_data"
    }
   ],
   "source": [
    "rides.hist('distance', bins=180, figsize=(10, 5))\n",
    "plt.title(\"Распределение поездок по расстоянию\")\n",
    "plt.xlabel(\"Метры\")\n",
    "plt.ylabel(\"Частота встречаемости\")\n",
    "print(rides['distance'].describe())\n",
    "rides.query('distance < 1500')['user_id'].count() / 18068"
   ]
  },
  {
   "cell_type": "markdown",
   "id": "706cb088",
   "metadata": {},
   "source": [
    "Распределение расстояния выглядит необычно, скорее всего короткие поездки от 0 до 1500 метров как-то обусловлены работой приложения, либо это то расстояния, которое проезжает пользователь, прежде чем понять, что самокат не исправен или разряжен. Доля таких \"коротких\" поездок составляет 10 процентов."
   ]
  },
  {
   "cell_type": "markdown",
   "id": "ae38244d",
   "metadata": {},
   "source": [
    "##### Продолжительность поездок"
   ]
  },
  {
   "cell_type": "code",
   "execution_count": 17,
   "id": "ec42fea0",
   "metadata": {},
   "outputs": [
    {
     "data": {
      "text/plain": [
       "count    18068.000000\n",
       "mean        17.805011\n",
       "std          6.091051\n",
       "min          0.500000\n",
       "25%         13.597563\n",
       "50%         17.678395\n",
       "75%         21.724800\n",
       "max         40.823963\n",
       "Name: duration, dtype: float64"
      ]
     },
     "execution_count": 17,
     "metadata": {},
     "output_type": "execute_result"
    },
    {
     "data": {
      "image/png": "[encoded data removed]",
      "text/plain": [
       "<Figure size 720x360 with 1 Axes>"
      ]
     },
     "metadata": {
      "needs_background": "light"
     },
     "output_type": "display_data"
    },
    {
     "data": {
      "image/png": "[encoded data removed]",
      "text/plain": [
       "<Figure size 720x360 with 1 Axes>"
      ]
     },
     "metadata": {
      "needs_background": "light"
     },
     "output_type": "display_data"
    }
   ],
   "source": [
    "rides.hist('duration', bins=160, figsize=(10, 5))\n",
    "plt.title(\"Распределение поездок по продолжительности\")\n",
    "plt.xlabel(\"Минуты\")\n",
    "plt.ylabel(\"Частота встречаемости\")\n",
    "rides.hist('duration', bins=160, range=(0, 5), figsize=(10, 5))\n",
    "plt.title(\"Распределение поездок по продолжительности до 5 минут\")\n",
    "plt.xlabel(\"Минуты\")\n",
    "plt.ylabel(\"Частота встречаемости\")\n",
    "rides['duration'].describe()"
   ]
  },
  {
   "cell_type": "markdown",
   "id": "7dae1d61",
   "metadata": {},
   "source": [
    "Продолжительность поездок распределена нормально, за исключением тех аномальных поездок, которые длились 30 секунд. Возможно, приложение работает таким образом, что длительность поездки пользователей без подписки ограничена 30 секундами при каких-то обстоятельствах."
   ]
  },
  {
   "cell_type": "markdown",
   "id": "7e70390f",
   "metadata": {},
   "source": [
    "***Была описана и визуализирована общая информация о пользователях и поездках, найдены некоторые закономерности и аномалии.***"
   ]
  },
  {
   "cell_type": "markdown",
   "id": "9fdaa9d3",
   "metadata": {},
   "source": [
    "<div class=\"alert-success\" style=\"padding: 20px; border-radius: 10px\">\n",
    "<b>Комментарий ревьюера ✔️</b>\n",
    "\n",
    "Распределения возраста пользователей, расстояний и продолжительностей поездок визуализированы и прокомментированы правильно.</div>"
   ]
  },
  {
   "cell_type": "markdown",
   "id": "4ef51331",
   "metadata": {},
   "source": [
    "#### Объединение данных"
   ]
  },
  {
   "cell_type": "markdown",
   "id": "d45b2ae3",
   "metadata": {},
   "source": [
    "##### Объединяем данные о пользователях, поездках и подписках в один датафрейм"
   ]
  },
  {
   "cell_type": "code",
   "execution_count": 18,
   "id": "87284723",
   "metadata": {},
   "outputs": [
    {
     "name": "stdout",
     "output_type": "stream",
     "text": [
      "<class 'pandas.core.frame.DataFrame'>\n",
      "Int64Index: 18068 entries, 0 to 18067\n",
      "Data columns (total 12 columns):\n",
      " #   Column             Non-Null Count  Dtype         \n",
      "---  ------             --------------  -----         \n",
      " 0   user_id            18068 non-null  int64         \n",
      " 1   distance           18068 non-null  float64       \n",
      " 2   duration           18068 non-null  float64       \n",
      " 3   date               18068 non-null  datetime64[ns]\n",
      " 4   month              18068 non-null  int64         \n",
      " 5   name               18068 non-null  object        \n",
      " 6   age                18068 non-null  int64         \n",
      " 7   city               18068 non-null  object        \n",
      " 8   subscription_type  18068 non-null  object        \n",
      " 9   minute_price       18068 non-null  int64         \n",
      " 10  start_ride_price   18068 non-null  int64         \n",
      " 11  subscription_fee   18068 non-null  int64         \n",
      "dtypes: datetime64[ns](1), float64(2), int64(6), object(3)\n",
      "memory usage: 1.8+ MB\n"
     ]
    },
    {
     "data": {
      "text/html": [
       "<div>\n",
       "<style scoped>\n",
       "    .dataframe tbody tr th:only-of-type {\n",
       "        vertical-align: middle;\n",
       "    }\n",
       "\n",
       "    .dataframe tbody tr th {\n",
       "        vertical-align: top;\n",
       "    }\n",
       "\n",
       "    .dataframe thead th {\n",
       "        text-align: right;\n",
       "    }\n",
       "</style>\n",
       "<table border=\"1\" class=\"dataframe\">\n",
       "  <thead>\n",
       "    <tr style=\"text-align: right;\">\n",
       "      <th></th>\n",
       "      <th>user_id</th>\n",
       "      <th>distance</th>\n",
       "      <th>duration</th>\n",
       "      <th>date</th>\n",
       "      <th>month</th>\n",
       "      <th>name</th>\n",
       "      <th>age</th>\n",
       "      <th>city</th>\n",
       "      <th>subscription_type</th>\n",
       "      <th>minute_price</th>\n",
       "      <th>start_ride_price</th>\n",
       "      <th>subscription_fee</th>\n",
       "    </tr>\n",
       "  </thead>\n",
       "  <tbody>\n",
       "    <tr>\n",
       "      <th>0</th>\n",
       "      <td>1</td>\n",
       "      <td>4409.919140</td>\n",
       "      <td>25.599769</td>\n",
       "      <td>2021-01-01</td>\n",
       "      <td>1</td>\n",
       "      <td>Кира</td>\n",
       "      <td>22</td>\n",
       "      <td>Тюмень</td>\n",
       "      <td>ultra</td>\n",
       "      <td>6</td>\n",
       "      <td>0</td>\n",
       "      <td>199</td>\n",
       "    </tr>\n",
       "    <tr>\n",
       "      <th>1</th>\n",
       "      <td>1</td>\n",
       "      <td>2617.592153</td>\n",
       "      <td>15.816871</td>\n",
       "      <td>2021-01-18</td>\n",
       "      <td>1</td>\n",
       "      <td>Кира</td>\n",
       "      <td>22</td>\n",
       "      <td>Тюмень</td>\n",
       "      <td>ultra</td>\n",
       "      <td>6</td>\n",
       "      <td>0</td>\n",
       "      <td>199</td>\n",
       "    </tr>\n",
       "    <tr>\n",
       "      <th>2</th>\n",
       "      <td>1</td>\n",
       "      <td>754.159807</td>\n",
       "      <td>6.232113</td>\n",
       "      <td>2021-04-20</td>\n",
       "      <td>4</td>\n",
       "      <td>Кира</td>\n",
       "      <td>22</td>\n",
       "      <td>Тюмень</td>\n",
       "      <td>ultra</td>\n",
       "      <td>6</td>\n",
       "      <td>0</td>\n",
       "      <td>199</td>\n",
       "    </tr>\n",
       "    <tr>\n",
       "      <th>3</th>\n",
       "      <td>1</td>\n",
       "      <td>2694.783254</td>\n",
       "      <td>18.511000</td>\n",
       "      <td>2021-08-11</td>\n",
       "      <td>8</td>\n",
       "      <td>Кира</td>\n",
       "      <td>22</td>\n",
       "      <td>Тюмень</td>\n",
       "      <td>ultra</td>\n",
       "      <td>6</td>\n",
       "      <td>0</td>\n",
       "      <td>199</td>\n",
       "    </tr>\n",
       "    <tr>\n",
       "      <th>4</th>\n",
       "      <td>1</td>\n",
       "      <td>4028.687306</td>\n",
       "      <td>26.265803</td>\n",
       "      <td>2021-08-28</td>\n",
       "      <td>8</td>\n",
       "      <td>Кира</td>\n",
       "      <td>22</td>\n",
       "      <td>Тюмень</td>\n",
       "      <td>ultra</td>\n",
       "      <td>6</td>\n",
       "      <td>0</td>\n",
       "      <td>199</td>\n",
       "    </tr>\n",
       "  </tbody>\n",
       "</table>\n",
       "</div>"
      ],
      "text/plain": [
       "   user_id     distance   duration       date  month  name  age    city  \\\n",
       "0        1  4409.919140  25.599769 2021-01-01      1  Кира   22  Тюмень   \n",
       "1        1  2617.592153  15.816871 2021-01-18      1  Кира   22  Тюмень   \n",
       "2        1   754.159807   6.232113 2021-04-20      4  Кира   22  Тюмень   \n",
       "3        1  2694.783254  18.511000 2021-08-11      8  Кира   22  Тюмень   \n",
       "4        1  4028.687306  26.265803 2021-08-28      8  Кира   22  Тюмень   \n",
       "\n",
       "  subscription_type  minute_price  start_ride_price  subscription_fee  \n",
       "0             ultra             6                 0               199  \n",
       "1             ultra             6                 0               199  \n",
       "2             ultra             6                 0               199  \n",
       "3             ultra             6                 0               199  \n",
       "4             ultra             6                 0               199  "
      ]
     },
     "execution_count": 18,
     "metadata": {},
     "output_type": "execute_result"
    }
   ],
   "source": [
    "data = rides.merge(users, on='user_id').merge(subs, on='subscription_type')\n",
    "data.info()\n",
    "data.head()"
   ]
  },
  {
   "cell_type": "markdown",
   "id": "e806a3d3",
   "metadata": {},
   "source": [
    "Число строк и значений в столбцах осталось равно числу строк в таблице c поездками, а значит данные не пропали и не задублировалсь."
   ]
  },
  {
   "cell_type": "markdown",
   "id": "47f6c4a0",
   "metadata": {},
   "source": [
    "##### Создаем датафреймы c данными о пользователях без подписки и с подпиской"
   ]
  },
  {
   "cell_type": "code",
   "execution_count": 19,
   "id": "af926b37",
   "metadata": {},
   "outputs": [
    {
     "name": "stdout",
     "output_type": "stream",
     "text": [
      "['ultra']\n"
     ]
    },
    {
     "data": {
      "text/html": [
       "<div>\n",
       "<style scoped>\n",
       "    .dataframe tbody tr th:only-of-type {\n",
       "        vertical-align: middle;\n",
       "    }\n",
       "\n",
       "    .dataframe tbody tr th {\n",
       "        vertical-align: top;\n",
       "    }\n",
       "\n",
       "    .dataframe thead th {\n",
       "        text-align: right;\n",
       "    }\n",
       "</style>\n",
       "<table border=\"1\" class=\"dataframe\">\n",
       "  <thead>\n",
       "    <tr style=\"text-align: right;\">\n",
       "      <th></th>\n",
       "      <th>user_id</th>\n",
       "      <th>distance</th>\n",
       "      <th>duration</th>\n",
       "      <th>date</th>\n",
       "      <th>month</th>\n",
       "      <th>name</th>\n",
       "      <th>age</th>\n",
       "      <th>city</th>\n",
       "      <th>subscription_type</th>\n",
       "      <th>minute_price</th>\n",
       "      <th>start_ride_price</th>\n",
       "      <th>subscription_fee</th>\n",
       "    </tr>\n",
       "  </thead>\n",
       "  <tbody>\n",
       "    <tr>\n",
       "      <th>0</th>\n",
       "      <td>1</td>\n",
       "      <td>4409.919140</td>\n",
       "      <td>25.599769</td>\n",
       "      <td>2021-01-01</td>\n",
       "      <td>1</td>\n",
       "      <td>Кира</td>\n",
       "      <td>22</td>\n",
       "      <td>Тюмень</td>\n",
       "      <td>ultra</td>\n",
       "      <td>6</td>\n",
       "      <td>0</td>\n",
       "      <td>199</td>\n",
       "    </tr>\n",
       "    <tr>\n",
       "      <th>1</th>\n",
       "      <td>1</td>\n",
       "      <td>2617.592153</td>\n",
       "      <td>15.816871</td>\n",
       "      <td>2021-01-18</td>\n",
       "      <td>1</td>\n",
       "      <td>Кира</td>\n",
       "      <td>22</td>\n",
       "      <td>Тюмень</td>\n",
       "      <td>ultra</td>\n",
       "      <td>6</td>\n",
       "      <td>0</td>\n",
       "      <td>199</td>\n",
       "    </tr>\n",
       "    <tr>\n",
       "      <th>2</th>\n",
       "      <td>1</td>\n",
       "      <td>754.159807</td>\n",
       "      <td>6.232113</td>\n",
       "      <td>2021-04-20</td>\n",
       "      <td>4</td>\n",
       "      <td>Кира</td>\n",
       "      <td>22</td>\n",
       "      <td>Тюмень</td>\n",
       "      <td>ultra</td>\n",
       "      <td>6</td>\n",
       "      <td>0</td>\n",
       "      <td>199</td>\n",
       "    </tr>\n",
       "    <tr>\n",
       "      <th>3</th>\n",
       "      <td>1</td>\n",
       "      <td>2694.783254</td>\n",
       "      <td>18.511000</td>\n",
       "      <td>2021-08-11</td>\n",
       "      <td>8</td>\n",
       "      <td>Кира</td>\n",
       "      <td>22</td>\n",
       "      <td>Тюмень</td>\n",
       "      <td>ultra</td>\n",
       "      <td>6</td>\n",
       "      <td>0</td>\n",
       "      <td>199</td>\n",
       "    </tr>\n",
       "    <tr>\n",
       "      <th>4</th>\n",
       "      <td>1</td>\n",
       "      <td>4028.687306</td>\n",
       "      <td>26.265803</td>\n",
       "      <td>2021-08-28</td>\n",
       "      <td>8</td>\n",
       "      <td>Кира</td>\n",
       "      <td>22</td>\n",
       "      <td>Тюмень</td>\n",
       "      <td>ultra</td>\n",
       "      <td>6</td>\n",
       "      <td>0</td>\n",
       "      <td>199</td>\n",
       "    </tr>\n",
       "  </tbody>\n",
       "</table>\n",
       "</div>"
      ],
      "text/plain": [
       "   user_id     distance   duration       date  month  name  age    city  \\\n",
       "0        1  4409.919140  25.599769 2021-01-01      1  Кира   22  Тюмень   \n",
       "1        1  2617.592153  15.816871 2021-01-18      1  Кира   22  Тюмень   \n",
       "2        1   754.159807   6.232113 2021-04-20      4  Кира   22  Тюмень   \n",
       "3        1  2694.783254  18.511000 2021-08-11      8  Кира   22  Тюмень   \n",
       "4        1  4028.687306  26.265803 2021-08-28      8  Кира   22  Тюмень   \n",
       "\n",
       "  subscription_type  minute_price  start_ride_price  subscription_fee  \n",
       "0             ultra             6                 0               199  \n",
       "1             ultra             6                 0               199  \n",
       "2             ultra             6                 0               199  \n",
       "3             ultra             6                 0               199  \n",
       "4             ultra             6                 0               199  "
      ]
     },
     "execution_count": 19,
     "metadata": {},
     "output_type": "execute_result"
    }
   ],
   "source": [
    "sub_users = data.query('subscription_type==\"ultra\"')\n",
    "print(sub_users['subscription_type'].unique())\n",
    "sub_users.head()"
   ]
  },
  {
   "cell_type": "code",
   "execution_count": 20,
   "id": "ff1d7554",
   "metadata": {},
   "outputs": [
    {
     "name": "stdout",
     "output_type": "stream",
     "text": [
      "['free']\n"
     ]
    },
    {
     "data": {
      "text/html": [
       "<div>\n",
       "<style scoped>\n",
       "    .dataframe tbody tr th:only-of-type {\n",
       "        vertical-align: middle;\n",
       "    }\n",
       "\n",
       "    .dataframe tbody tr th {\n",
       "        vertical-align: top;\n",
       "    }\n",
       "\n",
       "    .dataframe thead th {\n",
       "        text-align: right;\n",
       "    }\n",
       "</style>\n",
       "<table border=\"1\" class=\"dataframe\">\n",
       "  <thead>\n",
       "    <tr style=\"text-align: right;\">\n",
       "      <th></th>\n",
       "      <th>user_id</th>\n",
       "      <th>distance</th>\n",
       "      <th>duration</th>\n",
       "      <th>date</th>\n",
       "      <th>month</th>\n",
       "      <th>name</th>\n",
       "      <th>age</th>\n",
       "      <th>city</th>\n",
       "      <th>subscription_type</th>\n",
       "      <th>minute_price</th>\n",
       "      <th>start_ride_price</th>\n",
       "      <th>subscription_fee</th>\n",
       "    </tr>\n",
       "  </thead>\n",
       "  <tbody>\n",
       "    <tr>\n",
       "      <th>0</th>\n",
       "      <td>700</td>\n",
       "      <td>2515.690719</td>\n",
       "      <td>14.944286</td>\n",
       "      <td>2021-01-02</td>\n",
       "      <td>1</td>\n",
       "      <td>Айдар</td>\n",
       "      <td>22</td>\n",
       "      <td>Омск</td>\n",
       "      <td>free</td>\n",
       "      <td>8</td>\n",
       "      <td>50</td>\n",
       "      <td>0</td>\n",
       "    </tr>\n",
       "    <tr>\n",
       "      <th>1</th>\n",
       "      <td>700</td>\n",
       "      <td>846.932642</td>\n",
       "      <td>16.234663</td>\n",
       "      <td>2021-02-01</td>\n",
       "      <td>2</td>\n",
       "      <td>Айдар</td>\n",
       "      <td>22</td>\n",
       "      <td>Омск</td>\n",
       "      <td>free</td>\n",
       "      <td>8</td>\n",
       "      <td>50</td>\n",
       "      <td>0</td>\n",
       "    </tr>\n",
       "    <tr>\n",
       "      <th>2</th>\n",
       "      <td>700</td>\n",
       "      <td>4004.434142</td>\n",
       "      <td>20.016628</td>\n",
       "      <td>2021-02-04</td>\n",
       "      <td>2</td>\n",
       "      <td>Айдар</td>\n",
       "      <td>22</td>\n",
       "      <td>Омск</td>\n",
       "      <td>free</td>\n",
       "      <td>8</td>\n",
       "      <td>50</td>\n",
       "      <td>0</td>\n",
       "    </tr>\n",
       "    <tr>\n",
       "      <th>3</th>\n",
       "      <td>700</td>\n",
       "      <td>1205.911290</td>\n",
       "      <td>9.782872</td>\n",
       "      <td>2021-02-10</td>\n",
       "      <td>2</td>\n",
       "      <td>Айдар</td>\n",
       "      <td>22</td>\n",
       "      <td>Омск</td>\n",
       "      <td>free</td>\n",
       "      <td>8</td>\n",
       "      <td>50</td>\n",
       "      <td>0</td>\n",
       "    </tr>\n",
       "    <tr>\n",
       "      <th>4</th>\n",
       "      <td>700</td>\n",
       "      <td>3047.379435</td>\n",
       "      <td>17.427673</td>\n",
       "      <td>2021-02-14</td>\n",
       "      <td>2</td>\n",
       "      <td>Айдар</td>\n",
       "      <td>22</td>\n",
       "      <td>Омск</td>\n",
       "      <td>free</td>\n",
       "      <td>8</td>\n",
       "      <td>50</td>\n",
       "      <td>0</td>\n",
       "    </tr>\n",
       "  </tbody>\n",
       "</table>\n",
       "</div>"
      ],
      "text/plain": [
       "   user_id     distance   duration       date  month   name  age  city  \\\n",
       "0      700  2515.690719  14.944286 2021-01-02      1  Айдар   22  Омск   \n",
       "1      700   846.932642  16.234663 2021-02-01      2  Айдар   22  Омск   \n",
       "2      700  4004.434142  20.016628 2021-02-04      2  Айдар   22  Омск   \n",
       "3      700  1205.911290   9.782872 2021-02-10      2  Айдар   22  Омск   \n",
       "4      700  3047.379435  17.427673 2021-02-14      2  Айдар   22  Омск   \n",
       "\n",
       "  subscription_type  minute_price  start_ride_price  subscription_fee  \n",
       "0              free             8                50                 0  \n",
       "1              free             8                50                 0  \n",
       "2              free             8                50                 0  \n",
       "3              free             8                50                 0  \n",
       "4              free             8                50                 0  "
      ]
     },
     "execution_count": 20,
     "metadata": {},
     "output_type": "execute_result"
    }
   ],
   "source": [
    "unsub_users = data.query('subscription_type!=\"ultra\"').reset_index(drop=True) \n",
    "print(unsub_users['subscription_type'].unique())\n",
    "unsub_users.head()"
   ]
  },
  {
   "cell_type": "markdown",
   "id": "df39478d",
   "metadata": {},
   "source": [
    "В таблицу sub_users попали только строки с типом подписки ultra, а в таблицу unsub_users только строки c типом подписки free."
   ]
  },
  {
   "cell_type": "markdown",
   "id": "60b02346",
   "metadata": {},
   "source": [
    "<div class=\"alert-warning\" style=\"padding: 20px; border-radius: 10px\">\n",
    "<b>Комментарий ревьюера ⚠️</b>\n",
    "\n",
    "<s>Стоит также проверить размерность таблиц пользователей с подпиской и без."
   ]
  },
  {
   "cell_type": "markdown",
   "id": "42f07ddc",
   "metadata": {},
   "source": [
    "<div class=\"alert-info\" style=\"padding: 20px; border-radius: 10px\">\n",
    "<b>Комментарий студента 😎</b>\n",
    "\n",
    "У меня это чуть ниже, в шаге 4.3</div>"
   ]
  },
  {
   "cell_type": "markdown",
   "id": "4399d1fc",
   "metadata": {},
   "source": [
    "<div class=\"alert-success\" style=\"border-radius: 10px; padding: 20px\">\n",
    "<b>Комментарий ревьюера 2 ✔️</b>\n",
    "\n",
    "Точно, супер!"
   ]
  },
  {
   "cell_type": "markdown",
   "id": "d489e77b",
   "metadata": {},
   "source": [
    "##### Визуализируем информацию о расстоянии и времени поездок для пользователей обеих категорий"
   ]
  },
  {
   "cell_type": "code",
   "execution_count": 21,
   "id": "0a06ab67",
   "metadata": {},
   "outputs": [
    {
     "data": {
      "text/plain": [
       "Text(0, 0.5, 'Частота встречаемости')"
      ]
     },
     "execution_count": 21,
     "metadata": {},
     "output_type": "execute_result"
    },
    {
     "data": {
      "image/png": "[encoded data removed]",
      "text/plain": [
       "<Figure size 720x360 with 1 Axes>"
      ]
     },
     "metadata": {
      "needs_background": "light"
     },
     "output_type": "display_data"
    }
   ],
   "source": [
    "ax = sub_users.plot(\n",
    "    kind='hist', y='distance', histtype='step', bins=150,\n",
    "    linewidth=3, alpha=0.7, label='С подпиской',\n",
    ")\n",
    "unsub_users.plot(\n",
    "    kind='hist', y='distance', histtype='step', bins=150, linewidth=3, \n",
    "    alpha=0.7, label='Без подписки', ax=ax, grid=True, figsize=(10, 5)\n",
    ") \n",
    "plt.title(\"Распределение расстояния поездок разных категорий пользователей\")\n",
    "plt.xlabel(\"Метры\")\n",
    "plt.ylabel(\"Частота встречаемости\")"
   ]
  },
  {
   "cell_type": "code",
   "execution_count": 22,
   "id": "d68cb258",
   "metadata": {},
   "outputs": [
    {
     "data": {
      "text/plain": [
       "Text(0, 0.5, 'Частота встречаемости')"
      ]
     },
     "execution_count": 22,
     "metadata": {},
     "output_type": "execute_result"
    },
    {
     "data": {
      "image/png": "[encoded data removed]",
      "text/plain": [
       "<Figure size 720x360 with 1 Axes>"
      ]
     },
     "metadata": {
      "needs_background": "light"
     },
     "output_type": "display_data"
    }
   ],
   "source": [
    "axaxa = sub_users.plot(\n",
    "    kind='hist', y='duration', histtype='step', bins=150,\n",
    "    linewidth=3, alpha=0.7, label='С подпиской',\n",
    ")\n",
    "unsub_users.plot(\n",
    "    kind='hist', y='duration', histtype='step', bins=150, linewidth=3,\n",
    "    alpha=0.7, label='Без подписки', ax=axaxa, grid=True, figsize=(10, 5)\n",
    ")\n",
    "plt.title(\"Распределение времени поездок разных категорий пользователей\")\n",
    "plt.xlabel(\"Минуты\")\n",
    "plt.ylabel(\"Частота встречаемости\")"
   ]
  },
  {
   "cell_type": "code",
   "execution_count": 23,
   "id": "166fb35a",
   "metadata": {},
   "outputs": [
    {
     "data": {
      "text/plain": [
       "(11568, 12)"
      ]
     },
     "execution_count": 23,
     "metadata": {},
     "output_type": "execute_result"
    }
   ],
   "source": [
    "unsub_users.shape # размер таблицы пользователей без подписки"
   ]
  },
  {
   "cell_type": "code",
   "execution_count": 24,
   "id": "75556bc7",
   "metadata": {},
   "outputs": [
    {
     "data": {
      "text/plain": [
       "(6500, 12)"
      ]
     },
     "execution_count": 24,
     "metadata": {},
     "output_type": "execute_result"
    }
   ],
   "source": [
    "sub_users.shape  # размер таблицы пользователей с подпиской"
   ]
  },
  {
   "cell_type": "markdown",
   "id": "79bd6016",
   "metadata": {},
   "source": [
    "По графикам видно, что аномалия 30-секундных поездок свойственна только пользователям без подписки, в то время как поездки на условно короткое расстояние присущи обеим группам пользователей. Поездок пользователей без подписок больше и их распределение имеет больший разброс"
   ]
  },
  {
   "cell_type": "markdown",
   "id": "36c6ce89",
   "metadata": {},
   "source": [
    "<div class=\"alert-success\" style=\"padding: 20px; border-radius: 10px\">\n",
    "<b>Комментарий ревьюера ✔️</b>\n",
    "\n",
    "Можно сказать, что профили пользователей обоих категорий похожи.\n",
    "\n",
    "Здорово, что совместил на графиках распределения параметров поездок пользователей с подпиской и без, так сравнение - более наглядно.</div>"
   ]
  },
  {
   "cell_type": "markdown",
   "id": "d7cc6439",
   "metadata": {},
   "source": [
    "***Данные из трех начальных таблиц были объединены в таблице data, затем разделены по таблицам sub_users и unsub_users с пользователями с подпиской и без. Проведено сравнение расстояния и времени поездок для разных категорий пользователей.***"
   ]
  },
  {
   "cell_type": "markdown",
   "id": "402d620f",
   "metadata": {},
   "source": [
    "#### Подсчёт выручки"
   ]
  },
  {
   "cell_type": "markdown",
   "id": "f1d7c409",
   "metadata": {},
   "source": [
    "##### Создаем датафрейм с агрегированными данными о поездках"
   ]
  },
  {
   "cell_type": "code",
   "execution_count": 25,
   "id": "ec0b660e",
   "metadata": {},
   "outputs": [],
   "source": [
    "data['duration'] = np.ceil(data['duration']) \n",
    "data_grouped = data.groupby(\n",
    "    ['user_id','month']).agg({'distance':['sum', 'count'], 'duration':'sum', \n",
    "                              'minute_price':'first', 'start_ride_price':'first', \n",
    "                              'subscription_fee':'first', 'subscription_type':'first'}\n",
    ")\n",
    "\n",
    "data_grouped.columns = \\\n",
    "['dist_per_month', 'rides_per_month', 'sum_monthly_time', 'mp', 'srp', 'sf', 'sub_type']    "
   ]
  },
  {
   "cell_type": "markdown",
   "id": "819ff644",
   "metadata": {},
   "source": [
    "##### Добавляем столбец с помесячной выручкой, которую принёс каждый пользователь"
   ]
  },
  {
   "cell_type": "code",
   "execution_count": 26,
   "id": "d7f38eac",
   "metadata": {},
   "outputs": [
    {
     "data": {
      "text/html": [
       "<div>\n",
       "<style scoped>\n",
       "    .dataframe tbody tr th:only-of-type {\n",
       "        vertical-align: middle;\n",
       "    }\n",
       "\n",
       "    .dataframe tbody tr th {\n",
       "        vertical-align: top;\n",
       "    }\n",
       "\n",
       "    .dataframe thead th {\n",
       "        text-align: right;\n",
       "    }\n",
       "</style>\n",
       "<table border=\"1\" class=\"dataframe\">\n",
       "  <thead>\n",
       "    <tr style=\"text-align: right;\">\n",
       "      <th></th>\n",
       "      <th></th>\n",
       "      <th>dist_per_month</th>\n",
       "      <th>rides_per_month</th>\n",
       "      <th>sum_monthly_time</th>\n",
       "      <th>sub_type</th>\n",
       "      <th>monthly_income</th>\n",
       "    </tr>\n",
       "    <tr>\n",
       "      <th>user_id</th>\n",
       "      <th>month</th>\n",
       "      <th></th>\n",
       "      <th></th>\n",
       "      <th></th>\n",
       "      <th></th>\n",
       "      <th></th>\n",
       "    </tr>\n",
       "  </thead>\n",
       "  <tbody>\n",
       "    <tr>\n",
       "      <th rowspan=\"5\" valign=\"top\">1</th>\n",
       "      <th>1</th>\n",
       "      <td>7027.511294</td>\n",
       "      <td>2</td>\n",
       "      <td>42.0</td>\n",
       "      <td>ultra</td>\n",
       "      <td>451.0</td>\n",
       "    </tr>\n",
       "    <tr>\n",
       "      <th>4</th>\n",
       "      <td>754.159807</td>\n",
       "      <td>1</td>\n",
       "      <td>7.0</td>\n",
       "      <td>ultra</td>\n",
       "      <td>241.0</td>\n",
       "    </tr>\n",
       "    <tr>\n",
       "      <th>8</th>\n",
       "      <td>6723.470560</td>\n",
       "      <td>2</td>\n",
       "      <td>46.0</td>\n",
       "      <td>ultra</td>\n",
       "      <td>475.0</td>\n",
       "    </tr>\n",
       "    <tr>\n",
       "      <th>10</th>\n",
       "      <td>5809.911100</td>\n",
       "      <td>2</td>\n",
       "      <td>32.0</td>\n",
       "      <td>ultra</td>\n",
       "      <td>391.0</td>\n",
       "    </tr>\n",
       "    <tr>\n",
       "      <th>11</th>\n",
       "      <td>7003.499363</td>\n",
       "      <td>3</td>\n",
       "      <td>56.0</td>\n",
       "      <td>ultra</td>\n",
       "      <td>535.0</td>\n",
       "    </tr>\n",
       "  </tbody>\n",
       "</table>\n",
       "</div>"
      ],
      "text/plain": [
       "               dist_per_month  rides_per_month  sum_monthly_time sub_type  \\\n",
       "user_id month                                                               \n",
       "1       1         7027.511294                2              42.0    ultra   \n",
       "        4          754.159807                1               7.0    ultra   \n",
       "        8         6723.470560                2              46.0    ultra   \n",
       "        10        5809.911100                2              32.0    ultra   \n",
       "        11        7003.499363                3              56.0    ultra   \n",
       "\n",
       "               monthly_income  \n",
       "user_id month                  \n",
       "1       1               451.0  \n",
       "        4               241.0  \n",
       "        8               475.0  \n",
       "        10              391.0  \n",
       "        11              535.0  "
      ]
     },
     "execution_count": 26,
     "metadata": {},
     "output_type": "execute_result"
    }
   ],
   "source": [
    "data_grouped['monthly_income'] = data_grouped['srp'] * data_grouped['rides_per_month'] + \\\n",
    "data_grouped['mp'] * data_grouped['sum_monthly_time'] + data_grouped['sf']\n",
    "#добавил 4 дополнительных столбца для упрощения для себя написания кода, теперь 3 удаляю\n",
    "data_grouped.drop(['srp', 'mp', 'sf'], axis= 1 , inplace= True ) \n",
    "data_grouped.head()"
   ]
  },
  {
   "cell_type": "markdown",
   "id": "4832f2e0",
   "metadata": {},
   "source": [
    "***Создан датафрейм с агрегированными данными о поездках и столбцом с помесячной выручкой. Допольнительно добавлен столбец sub_type, без которого сложнее было бы писать код для проверки гипотез.***"
   ]
  },
  {
   "cell_type": "code",
   "execution_count": 27,
   "id": "47f306c5",
   "metadata": {},
   "outputs": [
    {
     "data": {
      "text/plain": [
       "sub_type\n",
       "free     328.641365\n",
       "ultra    362.792191\n",
       "Name: monthly_income, dtype: float64"
      ]
     },
     "execution_count": 27,
     "metadata": {},
     "output_type": "execute_result"
    }
   ],
   "source": [
    "# Код ревьюера\n",
    "data_grouped.groupby('sub_type')['monthly_income'].mean()"
   ]
  },
  {
   "cell_type": "markdown",
   "id": "5ce50d9b",
   "metadata": {},
   "source": [
    "<div class=\"alert-success\" style=\"padding: 20px; border-radius: 10px\">\n",
    "<b>Комментарий ревьюера ✔️</b>\n",
    "\n",
    "Выручка рассчитана верно. Молодец, что не забыл про округление длительности каждой поездки. 👍</div>"
   ]
  },
  {
   "cell_type": "markdown",
   "id": "41545ac0",
   "metadata": {},
   "source": [
    "#### Проверка гипотез"
   ]
  },
  {
   "cell_type": "markdown",
   "id": "3b25f173",
   "metadata": {},
   "source": [
    "##### Проверяем гипотезу о том, что пользователи с подпиской тратят больше времени на поездки"
   ]
  },
  {
   "cell_type": "code",
   "execution_count": 28,
   "id": "e2f0bdfe",
   "metadata": {},
   "outputs": [
    {
     "name": "stdout",
     "output_type": "stream",
     "text": [
      "p-value: 5.6757813771289775e-37\n",
      "Отвергаем нулевую гипотезу\n"
     ]
    }
   ],
   "source": [
    "# задаём уровень значимости\n",
    "alpha = 0.05\n",
    "\n",
    "# временные затраты первой группы пользователей (с подпиской)\n",
    "sub_duration = sub_users['duration']\n",
    " \n",
    "# временные затраты второй группы пользователей (без подписки)\n",
    "unsub_duration = unsub_users['duration']\n",
    "\n",
    "# проводим ttest для двух выборок, в качестве альтернативной используем одностороннюю гипотезу «больше»\n",
    "# добавил equal_var=False потому что выборки разного размера\n",
    "results = st.ttest_ind(sub_duration, unsub_duration, alternative='greater', equal_var=False)\n",
    "\n",
    "print(f'p-value: {results.pvalue}')\n",
    "\n",
    "# проверяем p-value\n",
    "if results.pvalue < alpha:\n",
    "    print('Отвергаем нулевую гипотезу')\n",
    "else:\n",
    "    print('Нет оснований отвергнуть нулевую гипотезу')"
   ]
  },
  {
   "cell_type": "markdown",
   "id": "c87c7ff8",
   "metadata": {},
   "source": [
    "Нулевая гипотеза: средняя продолжительность поездки с подпиской равна средней продолжительности поездки без подписки.\n",
    "\n",
    "Альтернативная гипотеза: средняя продолжительность поездки с подпиской больше средней продолжительности поездки без подписки.\n",
    "\n",
    "Полученное значение p-value значительно меньше заданного уровня значимости, поэтому можно отвергнуть нулевую гипотезу о равенстве продолжительности поездок. Есть основания говорить, что пользователи с подпиской тратят больше времени на поездки."
   ]
  },
  {
   "cell_type": "markdown",
   "id": "7d988f1d",
   "metadata": {},
   "source": [
    "<div class=\"alert-success\" style=\"padding: 20px; border-radius: 10px\">\n",
    "<b>Комментарий ревьюера ✔️</b>\n",
    "\n",
    "Гипотеза сформулирована и проверена правильно."
   ]
  },
  {
   "cell_type": "markdown",
   "id": "0de2074a",
   "metadata": {},
   "source": [
    "##### Проверяем гипотезу о том, что среднее расстояние, которое проезжают пользователи с подпиской за одну поездку, не превышает 3130 метров"
   ]
  },
  {
   "cell_type": "code",
   "execution_count": 29,
   "id": "23db5bc8",
   "metadata": {},
   "outputs": [
    {
     "name": "stdout",
     "output_type": "stream",
     "text": [
      "p-значение: 0.9195368847849785\n",
      "Не отвергаем нулевую гипотезу\n"
     ]
    }
   ],
   "source": [
    "wear_dist = 3130\n",
    "\n",
    "alpha = 0.05 # уровень статистической значимости\n",
    "\n",
    "results = st.ttest_1samp(\n",
    "    sub_users['distance'], \n",
    "    wear_dist,\n",
    "      alternative='greater')\n",
    "\n",
    "print('p-значение:', results.pvalue)\n",
    "\n",
    "if ((results.pvalue) < alpha):\n",
    "    print('Отвергаем нулевую гипотезу')\n",
    "else:\n",
    "    print('Не отвергаем нулевую гипотезу') \n"
   ]
  },
  {
   "cell_type": "markdown",
   "id": "ba2bc27c",
   "metadata": {},
   "source": [
    "Нулевая гипотеза: среднее расстояние поездки с подпиской равна 3130 метров.\n",
    "\n",
    "Альтернативная гипотеза: среднее расстояние поездки с подпиской больше 3130 метров.\n",
    "\n",
    "Полученное значение p-value (~0.919536) намного больше заданного уровня значимости, поэтому нет оснований отвергать нулевую гипотезу. Есть основания говорить, что пользователи с подпиской, за одну поездку, проезжают среднее расстояние, которое не превышает 3130 метров - оптимальное с точки зрения износа самоката."
   ]
  },
  {
   "cell_type": "markdown",
   "id": "05a076e3",
   "metadata": {},
   "source": [
    "<div class=\"alert-success\" style=\"border-radius: 10px; padding: 20px\">\n",
    "<b>Комментарий ревьюера 2 ✔️</b>\n",
    "\n",
    "Все верно!"
   ]
  },
  {
   "cell_type": "markdown",
   "id": "b47b1558",
   "metadata": {},
   "source": [
    "<div class=\"alert-warning\" style=\"padding: 20px; border-radius: 10px\">\n",
    "<b>Комментарий ревьюера ⚠️</b>\n",
    "\n",
    "<s>Такие параметры теста предполагают формулировку альтернативной гипотезы: \"среднее расстояние поездки с подпиской **больше** 3130 метров.\"\n",
    "    \n",
    "Как можно сформулировать вывод применительно к износу самоката?"
   ]
  },
  {
   "cell_type": "markdown",
   "id": "b207839c",
   "metadata": {},
   "source": [
    "<div class=\"alert-info\" style=\"padding: 20px; border-radius: 10px\">\n",
    "<b>Комментарий студента 😎</b>\n",
    "\n",
    "Действительно, перемудрил. Теперь, кажется, исправил. \n",
    "    \n",
    "Спасибо за внимание к деталям при проверке, за множество полезных замечаний, буду их учитывать при разработке следующих проектов. \n",
    "    \n",
    "Если критических замечаний нет, прими проект плз, мне нужно успевать сдать сборный до 27ого)\n",
    "</div>"
   ]
  },
  {
   "cell_type": "markdown",
   "id": "9908a35e",
   "metadata": {},
   "source": [
    "<div class=\"alert-success\" style=\"border-radius: 10px; padding: 20px\">\n",
    "<b>Комментарий ревьюера 2 ✔️</b>\n",
    "\n",
    "Да, у тебя нет критических, поэтому проект будет принят."
   ]
  },
  {
   "cell_type": "markdown",
   "id": "5b5429e3",
   "metadata": {},
   "source": [
    "##### Проверяем гипотезу о том, что помесячная выручка от пользователей с подпиской будет выше, чем выручка от пользователей без подписки"
   ]
  },
  {
   "cell_type": "code",
   "execution_count": 30,
   "id": "c575e78c",
   "metadata": {},
   "outputs": [
    {
     "name": "stdout",
     "output_type": "stream",
     "text": [
      "p-value: 8.874140893976874e-40\n",
      "Отвергаем нулевую гипотезу\n"
     ]
    }
   ],
   "source": [
    "# задаём уровень значимости\n",
    "alpha = 0.05\n",
    "\n",
    "# траты первой группы пользователей (с подпиской)\n",
    "ultra_income = data_grouped.query('sub_type==\"ultra\"')['monthly_income']\n",
    "\n",
    "# траты второй группы пользователей (без подписки)\n",
    "free_income = data_grouped.query('sub_type==\"free\"')['monthly_income']\n",
    "\n",
    "# проводим ttest для двух выборок, в качестве альтернативной используем одностороннюю гипотезу «больше»\n",
    "# добавил equal_var=False потому что выборки разного размера\n",
    "results = st.ttest_ind(ultra_income, free_income, alternative='greater', equal_var=False)\n",
    "\n",
    "print(f'p-value: {results.pvalue}')\n",
    "\n",
    "# проверяем p-value\n",
    "if results.pvalue < alpha:\n",
    "    print('Отвергаем нулевую гипотезу')\n",
    "else:\n",
    "    print('Нет оснований отвергнуть нулевую гипотезу')"
   ]
  },
  {
   "cell_type": "markdown",
   "id": "ebb46334",
   "metadata": {},
   "source": [
    "Нулевая гипотеза: помесячная выручка от пользователей с подпиской равна помесячной выручке от пользователей без подписки.\n",
    "\n",
    "Альтернативная гипотеза: помесячная выручка от пользователей с подпиской выше помесячной выручки от пользователей без подписки.\n",
    "\n",
    "Полученное значение p-value значительно меньше заданного уровня значимости, поэтому можно отвергнуть нулевую гипотезу о равенстве помесячной выручки. Есть основания говорить, что пользователи с подпиской приносят более высокую помесячную выручку."
   ]
  },
  {
   "cell_type": "markdown",
   "id": "65c3b404",
   "metadata": {},
   "source": [
    "<div class=\"alert-success\" style=\"padding: 20px; border-radius: 10px\">\n",
    "<b>Комментарий ревьюера ✔️</b>\n",
    "\n",
    "Все верно! 👍"
   ]
  },
  {
   "cell_type": "markdown",
   "id": "48bd1515",
   "metadata": {},
   "source": [
    "##### Какой тест понадобится для проверки гипотезы\n",
    "\n",
    "Техническая команда сервиса обновила сервера, с которыми взаимодействует мобильное приложение. Она надеется, что из-за этого количество обращений в техподдержку значимо снизилось. Некоторый файл содержит для каждого пользователя данные о количестве обращений до обновления и после него. Какой тест понадобится для проверки этой гипотезы?\n",
    "\n",
    "***Выборки в этом случае будут парными. Чтобы проверить гипотезу о равенстве среднего генеральной совокупности для зависимых (парных) выборок в Python, нужно будет применить метод scipy.stats.ttest_rel(), передать ему данные о количестве обращений для каждого пользователя до обновления и после него, указать аргумент alternative='greater', проверится правосторонняя альтернативная гипотеза о том, что истинное среднее генеральной совокупности до изменения больше, чем истинное среднее генеральной совокупности после изменения, то есть гипотеза о том, что количество обращений в техподдержку снизилось.***"
   ]
  },
  {
   "cell_type": "markdown",
   "id": "6a7524c9",
   "metadata": {},
   "source": [
    "<div class=\"alert-success\" style=\"padding: 20px; border-radius: 10px\">\n",
    "<b>Комментарий ревьюера ✔️</b>\n",
    "\n",
    "Отлично!"
   ]
  },
  {
   "cell_type": "markdown",
   "id": "61213c5e",
   "metadata": {},
   "source": [
    "#### Вывод\n",
    "Имея данные о некоторых пользователях популярного сервиса аренды самокатов GoFast из нескольких городов, а также об их поездках, нужно было их проанализировать и проверить некоторые гипотезы, которые могут помочь бизнесу вырасти. Чтобы это сделать, сначала был исправлен тип данных в столбце с датой, добавлен столбец с номером месяца для каждой поездки, обработаны дубликаты. Затем была описана и визуализирована общая информация о пользователях и поездках, сделаны выводы о имеющихся данных, например:\n",
    "* В выборку попало приблизительно равное число пользователей из каждого из восьми городов. \n",
    "* Пользователей с подпиской немного меньше, чем пользователей без нее. \n",
    "* Пользователи нормально распределены по возрасту, средний возраст пользователя около 25 лет. \n",
    "* Продолжительность поездок распределена нормально, за исключением тех поездок, которые длились 30 секунд. Возможно, длительность поездки пользователей без подписки ограничена 30 секундами при каких-то обстоятельствах. \n",
    "\n",
    "После этого, данные из трех начальных таблиц были объединены в одну, затем разделены по таблицам с подписанными и не подписанными пользователями, что позволило провести сравнение расстояния и времени поездок для разных категорий пользователей, и сделать некоторые выводы:\n",
    "* По графикам видно, что аномалия 30-секундных поездок свойственна только пользователям без подписки.\n",
    "* Число поездок пользователей без подписок - 11568, а с подпиской - 6500.\n",
    "* Распределение расстояния поездок пользователей без подписок имеет больший разброс.\n",
    "\n",
    "Следующим шагом было создание датафрейма со столбцами, содержащими информацию о суммарном расстоянии, количестве поездок, суммарном времени для каждого пользователя за каждый месяц и помесячной выручкой. С помощью этой и других таблиц, для проведения акций, с целью увеличения количества пользователей с подпиской, были проверены некоторые гипотезы. В результате их проверки можно сказать, что пользователи с подпиской тратят больше времени на поездки и приносят более высокую помесячную выручку.  Нет оснований считать, что среднее расстояние, которое проезжают пользователи с подпиской за одну поездку, не превышает 3130 метров. На основании результатов исследования для увеличения количества пользователей с подпиской можно порекомендовать провести акции, например снизить стоимость ежемесячного платежа для новых подписчиков, или временно снизить стоимость одной минуты поездки."
   ]
  },
  {
   "cell_type": "markdown",
   "id": "95ca946a",
   "metadata": {},
   "source": [
    "<div class=\"alert-success\" style=\"padding: 20px; border-radius: 10px\">\n",
    "<b>Комментарий ревьюера ✔️</b>\n",
    "\n",
    "Итоговый вывод отражает результаты исследования."
   ]
  },
  {
   "cell_type": "markdown",
   "id": "46d9566b",
   "metadata": {},
   "source": [
    "<div style=\"border:solid steelblue 3px; padding: 20px; border-radius: 10px\">\n",
    "\n",
    "<h5><b>🏁 Общий комментарий ревьюера:</b></h5>\n",
    "\n",
    "У тебя получился очень хороший проект, ты здорово справился с исследовательским анализом, расчетом выручки, проверкой гипотез. Критических замечаний у меня нет, посмотри только желтые комментарии-рекомендации.\n",
    "\n",
    "Буду ждать твой окончательную версию проекта для принятия. ⏳"
   ]
  },
  {
   "cell_type": "markdown",
   "id": "ebb68ac0",
   "metadata": {},
   "source": [
    "<div style=\"border:solid steelblue 3px; padding: 20px; border-radius: 10px\">\n",
    "\n",
    "<h5><b>🏁 Общий комментарий ревьюера 2</b></h5>\n",
    "\n",
    "Спасибо, что учел мои замечания и доработал проект, получилась отличная работа!\n",
    "\n",
    "Успехов в дальнейшем обучении! 🏆\n",
    "\n",
    "</div>"
   ]
  }
 ],
 "metadata": {
  "ExecuteTimeLog": [
   {
    "duration": 52,
    "start_time": "2024-07-19T03:00:03.741Z"
   },
   {
    "duration": 790,
    "start_time": "2024-07-19T03:00:05.860Z"
   },
   {
    "duration": 15,
    "start_time": "2024-07-19T03:00:07.390Z"
   },
   {
    "duration": 8,
    "start_time": "2024-07-19T03:00:56.769Z"
   },
   {
    "duration": 7,
    "start_time": "2024-07-19T03:00:59.164Z"
   },
   {
    "duration": 7,
    "start_time": "2024-07-19T03:01:13.826Z"
   },
   {
    "duration": 19,
    "start_time": "2024-07-19T03:02:57.329Z"
   },
   {
    "duration": 17,
    "start_time": "2024-07-19T03:04:09.894Z"
   },
   {
    "duration": 15,
    "start_time": "2024-07-19T03:05:35.772Z"
   },
   {
    "duration": 62,
    "start_time": "2024-07-19T16:12:38.473Z"
   },
   {
    "duration": 41,
    "start_time": "2024-07-19T16:12:57.656Z"
   },
   {
    "duration": 840,
    "start_time": "2024-07-19T16:13:07.067Z"
   },
   {
    "duration": 22,
    "start_time": "2024-07-19T16:13:07.909Z"
   },
   {
    "duration": 17,
    "start_time": "2024-07-19T16:13:07.932Z"
   },
   {
    "duration": 13,
    "start_time": "2024-07-19T16:13:07.950Z"
   },
   {
    "duration": 12,
    "start_time": "2024-07-19T16:13:07.964Z"
   },
   {
    "duration": 45,
    "start_time": "2024-07-19T16:13:11.420Z"
   },
   {
    "duration": 2,
    "start_time": "2024-07-19T16:14:14.675Z"
   },
   {
    "duration": 4,
    "start_time": "2024-07-19T16:23:27.290Z"
   },
   {
    "duration": 8,
    "start_time": "2024-07-19T16:28:59.265Z"
   },
   {
    "duration": 6,
    "start_time": "2024-07-19T16:29:36.830Z"
   },
   {
    "duration": 5,
    "start_time": "2024-07-19T16:29:43.432Z"
   },
   {
    "duration": 6,
    "start_time": "2024-07-19T16:29:51.185Z"
   },
   {
    "duration": 11,
    "start_time": "2024-07-19T16:30:45.060Z"
   },
   {
    "duration": 5,
    "start_time": "2024-07-19T16:30:58.523Z"
   },
   {
    "duration": 4,
    "start_time": "2024-07-19T16:32:04.004Z"
   },
   {
    "duration": 4,
    "start_time": "2024-07-19T16:32:18.735Z"
   },
   {
    "duration": 7,
    "start_time": "2024-07-19T16:34:10.657Z"
   },
   {
    "duration": 7,
    "start_time": "2024-07-19T16:36:33.649Z"
   },
   {
    "duration": 5,
    "start_time": "2024-07-19T16:37:09.864Z"
   },
   {
    "duration": 5,
    "start_time": "2024-07-19T16:38:26.718Z"
   },
   {
    "duration": 6,
    "start_time": "2024-07-19T16:41:23.574Z"
   },
   {
    "duration": 9,
    "start_time": "2024-07-19T16:41:45.850Z"
   },
   {
    "duration": 6,
    "start_time": "2024-07-19T16:42:04.126Z"
   },
   {
    "duration": 10,
    "start_time": "2024-07-19T16:42:11.176Z"
   },
   {
    "duration": 6,
    "start_time": "2024-07-19T16:45:25.133Z"
   },
   {
    "duration": 5,
    "start_time": "2024-07-19T16:45:47.905Z"
   },
   {
    "duration": 7,
    "start_time": "2024-07-19T16:47:01.601Z"
   },
   {
    "duration": 4,
    "start_time": "2024-07-19T16:47:23.582Z"
   },
   {
    "duration": 881,
    "start_time": "2024-07-19T16:48:22.886Z"
   },
   {
    "duration": 5,
    "start_time": "2024-07-19T16:48:29.747Z"
   },
   {
    "duration": 5,
    "start_time": "2024-07-19T16:49:44.898Z"
   },
   {
    "duration": 5,
    "start_time": "2024-07-19T16:50:01.714Z"
   },
   {
    "duration": 4,
    "start_time": "2024-07-19T16:50:12.636Z"
   },
   {
    "duration": 18,
    "start_time": "2024-07-19T16:50:47.814Z"
   },
   {
    "duration": 15,
    "start_time": "2024-07-19T16:51:12.695Z"
   },
   {
    "duration": 9,
    "start_time": "2024-07-19T16:57:27.367Z"
   },
   {
    "duration": 8,
    "start_time": "2024-07-19T16:58:06.225Z"
   },
   {
    "duration": 7,
    "start_time": "2024-07-19T16:58:15.059Z"
   },
   {
    "duration": 6,
    "start_time": "2024-07-19T16:58:28.636Z"
   },
   {
    "duration": 7,
    "start_time": "2024-07-19T16:59:41.418Z"
   },
   {
    "duration": 15,
    "start_time": "2024-07-19T17:00:42.161Z"
   },
   {
    "duration": 15,
    "start_time": "2024-07-19T17:02:34.151Z"
   },
   {
    "duration": 7,
    "start_time": "2024-07-19T17:03:08.079Z"
   },
   {
    "duration": 10,
    "start_time": "2024-07-19T17:05:25.442Z"
   },
   {
    "duration": 20,
    "start_time": "2024-07-19T17:05:54.724Z"
   },
   {
    "duration": 19,
    "start_time": "2024-07-19T17:06:13.974Z"
   },
   {
    "duration": 19,
    "start_time": "2024-07-19T17:06:18.614Z"
   },
   {
    "duration": 2,
    "start_time": "2024-07-19T17:16:12.487Z"
   },
   {
    "duration": 61,
    "start_time": "2024-07-19T21:00:54.016Z"
   },
   {
    "duration": 4,
    "start_time": "2024-07-19T21:00:58.132Z"
   },
   {
    "duration": 6,
    "start_time": "2024-07-19T21:01:02.663Z"
   },
   {
    "duration": 639,
    "start_time": "2024-07-19T21:02:21.956Z"
   },
   {
    "duration": 156,
    "start_time": "2024-07-19T21:03:56.796Z"
   },
   {
    "duration": 154,
    "start_time": "2024-07-19T21:04:23.679Z"
   },
   {
    "duration": 159,
    "start_time": "2024-07-19T21:05:39.561Z"
   },
   {
    "duration": 153,
    "start_time": "2024-07-19T21:06:56.453Z"
   },
   {
    "duration": 149,
    "start_time": "2024-07-19T21:07:13.830Z"
   },
   {
    "duration": 82,
    "start_time": "2024-07-19T21:07:33.709Z"
   },
   {
    "duration": 67,
    "start_time": "2024-07-19T21:07:47.820Z"
   },
   {
    "duration": 71,
    "start_time": "2024-07-19T21:08:33.458Z"
   },
   {
    "duration": 56,
    "start_time": "2024-07-19T21:08:41.825Z"
   },
   {
    "duration": 52,
    "start_time": "2024-07-19T21:08:50.593Z"
   },
   {
    "duration": 157,
    "start_time": "2024-07-19T21:09:07.382Z"
   },
   {
    "duration": 171,
    "start_time": "2024-07-19T21:09:19.101Z"
   },
   {
    "duration": 157,
    "start_time": "2024-07-19T21:09:23.606Z"
   },
   {
    "duration": 134,
    "start_time": "2024-07-19T21:17:06.592Z"
   },
   {
    "duration": 122,
    "start_time": "2024-07-19T21:18:34.345Z"
   },
   {
    "duration": 256,
    "start_time": "2024-07-19T21:19:51.400Z"
   },
   {
    "duration": 223,
    "start_time": "2024-07-19T21:20:17.905Z"
   },
   {
    "duration": 208,
    "start_time": "2024-07-19T21:20:30.968Z"
   },
   {
    "duration": 120,
    "start_time": "2024-07-19T21:21:12.800Z"
   },
   {
    "duration": 150,
    "start_time": "2024-07-19T21:22:46.275Z"
   },
   {
    "duration": 158,
    "start_time": "2024-07-19T21:23:05.974Z"
   },
   {
    "duration": 72,
    "start_time": "2024-07-19T21:25:22.299Z"
   },
   {
    "duration": 124,
    "start_time": "2024-07-19T21:25:34.688Z"
   },
   {
    "duration": 133,
    "start_time": "2024-07-19T21:26:48.597Z"
   },
   {
    "duration": 124,
    "start_time": "2024-07-19T21:28:42.146Z"
   },
   {
    "duration": 133,
    "start_time": "2024-07-19T21:29:48.156Z"
   },
   {
    "duration": 125,
    "start_time": "2024-07-19T21:30:14.669Z"
   },
   {
    "duration": 134,
    "start_time": "2024-07-19T21:30:22.761Z"
   },
   {
    "duration": 1033,
    "start_time": "2024-07-19T21:35:29.058Z"
   },
   {
    "duration": 1084,
    "start_time": "2024-07-19T21:36:19.980Z"
   },
   {
    "duration": 154,
    "start_time": "2024-07-19T21:36:31.285Z"
   },
   {
    "duration": 127,
    "start_time": "2024-07-19T21:36:52.246Z"
   },
   {
    "duration": 125,
    "start_time": "2024-07-19T21:37:01.888Z"
   },
   {
    "duration": 978,
    "start_time": "2024-07-19T21:44:18.379Z"
   },
   {
    "duration": 115,
    "start_time": "2024-07-19T21:44:30.171Z"
   },
   {
    "duration": 123,
    "start_time": "2024-07-19T21:46:42.541Z"
   },
   {
    "duration": 145,
    "start_time": "2024-07-19T21:47:31.020Z"
   },
   {
    "duration": 133,
    "start_time": "2024-07-19T21:48:12.010Z"
   },
   {
    "duration": 149,
    "start_time": "2024-07-19T21:48:49.717Z"
   },
   {
    "duration": 183,
    "start_time": "2024-07-19T21:49:35.604Z"
   },
   {
    "duration": 251,
    "start_time": "2024-07-19T21:50:15.856Z"
   },
   {
    "duration": 571,
    "start_time": "2024-07-19T21:50:39.988Z"
   },
   {
    "duration": 22,
    "start_time": "2024-07-19T21:50:40.560Z"
   },
   {
    "duration": 51,
    "start_time": "2024-07-19T21:50:40.583Z"
   },
   {
    "duration": 17,
    "start_time": "2024-07-19T21:50:40.636Z"
   },
   {
    "duration": 14,
    "start_time": "2024-07-19T21:50:40.655Z"
   },
   {
    "duration": 11,
    "start_time": "2024-07-19T21:50:40.670Z"
   },
   {
    "duration": 6,
    "start_time": "2024-07-19T21:50:40.682Z"
   },
   {
    "duration": 5,
    "start_time": "2024-07-19T21:50:40.690Z"
   },
   {
    "duration": 11,
    "start_time": "2024-07-19T21:50:40.696Z"
   },
   {
    "duration": 412,
    "start_time": "2024-07-19T21:50:40.709Z"
   },
   {
    "duration": 147,
    "start_time": "2024-07-19T21:50:41.123Z"
   },
   {
    "duration": 215,
    "start_time": "2024-07-19T21:50:41.272Z"
   },
   {
    "duration": 134,
    "start_time": "2024-07-19T21:52:29.392Z"
   },
   {
    "duration": 187,
    "start_time": "2024-07-19T21:52:36.467Z"
   },
   {
    "duration": 254,
    "start_time": "2024-07-19T21:53:30.533Z"
   },
   {
    "duration": 189,
    "start_time": "2024-07-19T21:53:58.150Z"
   },
   {
    "duration": 185,
    "start_time": "2024-07-19T21:54:29.304Z"
   },
   {
    "duration": 202,
    "start_time": "2024-07-19T21:57:47.314Z"
   },
   {
    "duration": 194,
    "start_time": "2024-07-19T21:58:12.040Z"
   },
   {
    "duration": 198,
    "start_time": "2024-07-19T21:58:23.652Z"
   },
   {
    "duration": 183,
    "start_time": "2024-07-19T21:58:28.887Z"
   },
   {
    "duration": 358,
    "start_time": "2024-07-19T21:58:42.026Z"
   },
   {
    "duration": 249,
    "start_time": "2024-07-19T22:04:07.713Z"
   },
   {
    "duration": 263,
    "start_time": "2024-07-19T22:04:25.556Z"
   },
   {
    "duration": 187,
    "start_time": "2024-07-19T22:04:29.540Z"
   },
   {
    "duration": 356,
    "start_time": "2024-07-19T22:11:07.195Z"
   },
   {
    "duration": 368,
    "start_time": "2024-07-19T22:12:25.706Z"
   },
   {
    "duration": 358,
    "start_time": "2024-07-19T22:13:58.277Z"
   },
   {
    "duration": 791,
    "start_time": "2024-07-19T22:14:43.527Z"
   },
   {
    "duration": 615,
    "start_time": "2024-07-19T22:14:56.372Z"
   },
   {
    "duration": 398,
    "start_time": "2024-07-19T22:16:25.942Z"
   },
   {
    "duration": 335,
    "start_time": "2024-07-19T22:16:50.380Z"
   },
   {
    "duration": 139,
    "start_time": "2024-07-19T22:19:16.273Z"
   },
   {
    "duration": 124,
    "start_time": "2024-07-19T22:19:47.280Z"
   },
   {
    "duration": 15,
    "start_time": "2024-07-19T23:04:21.328Z"
   },
   {
    "duration": 30,
    "start_time": "2024-07-19T23:04:25.759Z"
   },
   {
    "duration": 37,
    "start_time": "2024-07-19T23:08:02.033Z"
   },
   {
    "duration": 18,
    "start_time": "2024-07-19T23:13:27.893Z"
   },
   {
    "duration": 20,
    "start_time": "2024-07-19T23:14:45.923Z"
   },
   {
    "duration": 7,
    "start_time": "2024-07-19T23:15:20.628Z"
   },
   {
    "duration": 22,
    "start_time": "2024-07-19T23:16:01.027Z"
   },
   {
    "duration": 21,
    "start_time": "2024-07-19T23:16:52.634Z"
   },
   {
    "duration": 21,
    "start_time": "2024-07-19T23:17:03.164Z"
   },
   {
    "duration": 21,
    "start_time": "2024-07-19T23:19:01.484Z"
   },
   {
    "duration": 22,
    "start_time": "2024-07-19T23:19:08.088Z"
   },
   {
    "duration": 20,
    "start_time": "2024-07-19T23:19:16.437Z"
   },
   {
    "duration": 23,
    "start_time": "2024-07-19T23:19:20.779Z"
   },
   {
    "duration": 19,
    "start_time": "2024-07-19T23:19:26.572Z"
   },
   {
    "duration": 581,
    "start_time": "2024-07-19T23:19:34.275Z"
   },
   {
    "duration": 21,
    "start_time": "2024-07-19T23:19:34.858Z"
   },
   {
    "duration": 15,
    "start_time": "2024-07-19T23:19:34.880Z"
   },
   {
    "duration": 12,
    "start_time": "2024-07-19T23:19:34.896Z"
   },
   {
    "duration": 12,
    "start_time": "2024-07-19T23:19:34.910Z"
   },
   {
    "duration": 10,
    "start_time": "2024-07-19T23:19:34.923Z"
   },
   {
    "duration": 5,
    "start_time": "2024-07-19T23:19:34.934Z"
   },
   {
    "duration": 67,
    "start_time": "2024-07-19T23:19:34.940Z"
   },
   {
    "duration": 11,
    "start_time": "2024-07-19T23:19:35.008Z"
   },
   {
    "duration": 396,
    "start_time": "2024-07-19T23:19:35.020Z"
   },
   {
    "duration": 134,
    "start_time": "2024-07-19T23:19:35.417Z"
   },
   {
    "duration": 199,
    "start_time": "2024-07-19T23:19:35.553Z"
   },
   {
    "duration": 399,
    "start_time": "2024-07-19T23:19:35.753Z"
   },
   {
    "duration": 603,
    "start_time": "2024-07-19T23:19:36.154Z"
   },
   {
    "duration": 50,
    "start_time": "2024-07-19T23:19:36.758Z"
   },
   {
    "duration": 22,
    "start_time": "2024-07-19T23:19:36.809Z"
   },
   {
    "duration": 20,
    "start_time": "2024-07-19T23:19:36.832Z"
   },
   {
    "duration": 954,
    "start_time": "2024-07-19T23:47:45.408Z"
   },
   {
    "duration": 154,
    "start_time": "2024-07-19T23:50:01.108Z"
   },
   {
    "duration": 146,
    "start_time": "2024-07-19T23:51:31.938Z"
   },
   {
    "duration": 154,
    "start_time": "2024-07-19T23:52:56.105Z"
   },
   {
    "duration": 159,
    "start_time": "2024-07-19T23:53:12.314Z"
   },
   {
    "duration": 151,
    "start_time": "2024-07-19T23:53:24.651Z"
   },
   {
    "duration": 217,
    "start_time": "2024-07-19T23:53:34.687Z"
   },
   {
    "duration": 157,
    "start_time": "2024-07-19T23:53:47.410Z"
   },
   {
    "duration": 153,
    "start_time": "2024-07-19T23:55:40.050Z"
   },
   {
    "duration": 70,
    "start_time": "2024-07-19T23:56:39.939Z"
   },
   {
    "duration": 164,
    "start_time": "2024-07-19T23:57:24.954Z"
   },
   {
    "duration": 166,
    "start_time": "2024-07-19T23:58:22.250Z"
   },
   {
    "duration": 159,
    "start_time": "2024-07-19T23:58:44.943Z"
   },
   {
    "duration": 159,
    "start_time": "2024-07-19T23:59:00.625Z"
   },
   {
    "duration": 68,
    "start_time": "2024-07-20T00:00:19.183Z"
   },
   {
    "duration": 168,
    "start_time": "2024-07-20T00:00:25.263Z"
   },
   {
    "duration": 168,
    "start_time": "2024-07-20T00:00:39.230Z"
   },
   {
    "duration": 162,
    "start_time": "2024-07-20T00:00:50.795Z"
   },
   {
    "duration": 170,
    "start_time": "2024-07-20T00:02:18.993Z"
   },
   {
    "duration": 230,
    "start_time": "2024-07-20T00:02:29.786Z"
   },
   {
    "duration": 172,
    "start_time": "2024-07-20T00:06:00.516Z"
   },
   {
    "duration": 159,
    "start_time": "2024-07-20T00:06:37.025Z"
   },
   {
    "duration": 167,
    "start_time": "2024-07-20T00:07:30.762Z"
   },
   {
    "duration": 178,
    "start_time": "2024-07-20T00:08:03.009Z"
   },
   {
    "duration": 196,
    "start_time": "2024-07-20T00:09:01.624Z"
   },
   {
    "duration": 172,
    "start_time": "2024-07-20T00:09:09.172Z"
   },
   {
    "duration": 10,
    "start_time": "2024-07-20T02:29:38.063Z"
   },
   {
    "duration": 40,
    "start_time": "2024-07-20T02:29:47.545Z"
   },
   {
    "duration": 736,
    "start_time": "2024-07-20T02:29:53.769Z"
   },
   {
    "duration": 18,
    "start_time": "2024-07-20T02:29:54.506Z"
   },
   {
    "duration": 18,
    "start_time": "2024-07-20T02:29:54.525Z"
   },
   {
    "duration": 10,
    "start_time": "2024-07-20T02:29:54.545Z"
   },
   {
    "duration": 19,
    "start_time": "2024-07-20T02:29:54.556Z"
   },
   {
    "duration": 17,
    "start_time": "2024-07-20T02:29:54.576Z"
   },
   {
    "duration": 14,
    "start_time": "2024-07-20T02:29:54.594Z"
   },
   {
    "duration": 10,
    "start_time": "2024-07-20T02:29:54.609Z"
   },
   {
    "duration": 8,
    "start_time": "2024-07-20T02:29:54.620Z"
   },
   {
    "duration": 507,
    "start_time": "2024-07-20T02:29:54.630Z"
   },
   {
    "duration": 136,
    "start_time": "2024-07-20T02:29:55.139Z"
   },
   {
    "duration": 168,
    "start_time": "2024-07-20T02:29:55.276Z"
   },
   {
    "duration": 332,
    "start_time": "2024-07-20T02:29:55.446Z"
   },
   {
    "duration": 489,
    "start_time": "2024-07-20T02:29:55.780Z"
   },
   {
    "duration": 40,
    "start_time": "2024-07-20T02:29:56.270Z"
   },
   {
    "duration": 20,
    "start_time": "2024-07-20T02:29:56.311Z"
   },
   {
    "duration": 18,
    "start_time": "2024-07-20T02:29:56.332Z"
   },
   {
    "duration": 164,
    "start_time": "2024-07-20T02:29:56.352Z"
   },
   {
    "duration": 178,
    "start_time": "2024-07-20T02:29:56.518Z"
   },
   {
    "duration": 67,
    "start_time": "2024-07-20T02:29:56.697Z"
   },
   {
    "duration": 19,
    "start_time": "2024-07-20T02:30:15.293Z"
   },
   {
    "duration": 258,
    "start_time": "2024-07-20T02:37:39.509Z"
   },
   {
    "duration": 19,
    "start_time": "2024-07-20T02:37:53.012Z"
   },
   {
    "duration": 62,
    "start_time": "2024-07-20T02:57:19.072Z"
   },
   {
    "duration": 27,
    "start_time": "2024-07-20T03:14:17.348Z"
   },
   {
    "duration": 866,
    "start_time": "2024-07-20T21:47:37.297Z"
   },
   {
    "duration": 32,
    "start_time": "2024-07-20T21:47:38.166Z"
   },
   {
    "duration": 16,
    "start_time": "2024-07-20T21:47:38.199Z"
   },
   {
    "duration": 13,
    "start_time": "2024-07-20T21:47:38.216Z"
   },
   {
    "duration": 18,
    "start_time": "2024-07-20T21:47:38.232Z"
   },
   {
    "duration": 33,
    "start_time": "2024-07-20T21:47:38.252Z"
   },
   {
    "duration": 19,
    "start_time": "2024-07-20T21:47:38.287Z"
   },
   {
    "duration": 5,
    "start_time": "2024-07-20T21:47:38.308Z"
   },
   {
    "duration": 10,
    "start_time": "2024-07-20T21:47:38.314Z"
   },
   {
    "duration": 587,
    "start_time": "2024-07-20T21:47:38.325Z"
   },
   {
    "duration": 143,
    "start_time": "2024-07-20T21:47:38.914Z"
   },
   {
    "duration": 225,
    "start_time": "2024-07-20T21:47:39.059Z"
   },
   {
    "duration": 420,
    "start_time": "2024-07-20T21:47:39.286Z"
   },
   {
    "duration": 667,
    "start_time": "2024-07-20T21:47:39.708Z"
   },
   {
    "duration": 48,
    "start_time": "2024-07-20T21:47:40.376Z"
   },
   {
    "duration": 25,
    "start_time": "2024-07-20T21:47:40.426Z"
   },
   {
    "duration": 44,
    "start_time": "2024-07-20T21:47:40.453Z"
   },
   {
    "duration": 187,
    "start_time": "2024-07-20T21:47:40.499Z"
   },
   {
    "duration": 199,
    "start_time": "2024-07-20T21:47:40.687Z"
   },
   {
    "duration": 23,
    "start_time": "2024-07-20T21:47:40.888Z"
   },
   {
    "duration": 906,
    "start_time": "2024-07-20T21:53:56.687Z"
   },
   {
    "duration": 823,
    "start_time": "2024-07-20T21:58:21.594Z"
   },
   {
    "duration": 25,
    "start_time": "2024-07-20T21:58:36.285Z"
   },
   {
    "duration": 176,
    "start_time": "2024-07-20T21:58:45.993Z"
   },
   {
    "duration": 582,
    "start_time": "2024-07-20T22:02:16.581Z"
   },
   {
    "duration": 21,
    "start_time": "2024-07-20T22:02:17.165Z"
   },
   {
    "duration": 27,
    "start_time": "2024-07-20T22:02:17.188Z"
   },
   {
    "duration": 13,
    "start_time": "2024-07-20T22:02:17.217Z"
   },
   {
    "duration": 17,
    "start_time": "2024-07-20T22:02:17.232Z"
   },
   {
    "duration": 10,
    "start_time": "2024-07-20T22:02:17.250Z"
   },
   {
    "duration": 25,
    "start_time": "2024-07-20T22:02:17.261Z"
   },
   {
    "duration": 5,
    "start_time": "2024-07-20T22:02:17.288Z"
   },
   {
    "duration": 24,
    "start_time": "2024-07-20T22:02:17.294Z"
   },
   {
    "duration": 393,
    "start_time": "2024-07-20T22:02:17.319Z"
   },
   {
    "duration": 131,
    "start_time": "2024-07-20T22:02:17.714Z"
   },
   {
    "duration": 194,
    "start_time": "2024-07-20T22:02:17.847Z"
   },
   {
    "duration": 447,
    "start_time": "2024-07-20T22:02:18.043Z"
   },
   {
    "duration": 623,
    "start_time": "2024-07-20T22:02:18.492Z"
   },
   {
    "duration": 44,
    "start_time": "2024-07-20T22:02:19.117Z"
   },
   {
    "duration": 52,
    "start_time": "2024-07-20T22:02:19.163Z"
   },
   {
    "duration": 29,
    "start_time": "2024-07-20T22:02:19.216Z"
   },
   {
    "duration": 185,
    "start_time": "2024-07-20T22:02:19.247Z"
   },
   {
    "duration": 194,
    "start_time": "2024-07-20T22:02:19.433Z"
   },
   {
    "duration": 23,
    "start_time": "2024-07-20T22:02:19.628Z"
   },
   {
    "duration": 44,
    "start_time": "2024-07-20T22:02:19.653Z"
   },
   {
    "duration": 589,
    "start_time": "2024-07-20T22:13:12.897Z"
   },
   {
    "duration": 22,
    "start_time": "2024-07-20T22:13:13.488Z"
   },
   {
    "duration": 16,
    "start_time": "2024-07-20T22:13:13.512Z"
   },
   {
    "duration": 13,
    "start_time": "2024-07-20T22:13:13.530Z"
   },
   {
    "duration": 49,
    "start_time": "2024-07-20T22:13:13.545Z"
   },
   {
    "duration": 15,
    "start_time": "2024-07-20T22:13:13.596Z"
   },
   {
    "duration": 7,
    "start_time": "2024-07-20T22:13:13.613Z"
   },
   {
    "duration": 8,
    "start_time": "2024-07-20T22:13:13.622Z"
   },
   {
    "duration": 9,
    "start_time": "2024-07-20T22:13:13.632Z"
   },
   {
    "duration": 419,
    "start_time": "2024-07-20T22:13:13.644Z"
   },
   {
    "duration": 155,
    "start_time": "2024-07-20T22:13:14.065Z"
   },
   {
    "duration": 215,
    "start_time": "2024-07-20T22:13:14.222Z"
   },
   {
    "duration": 445,
    "start_time": "2024-07-20T22:13:14.438Z"
   },
   {
    "duration": 640,
    "start_time": "2024-07-20T22:13:14.885Z"
   },
   {
    "duration": 59,
    "start_time": "2024-07-20T22:13:15.527Z"
   },
   {
    "duration": 23,
    "start_time": "2024-07-20T22:13:15.587Z"
   },
   {
    "duration": 22,
    "start_time": "2024-07-20T22:13:15.612Z"
   },
   {
    "duration": 218,
    "start_time": "2024-07-20T22:13:15.635Z"
   },
   {
    "duration": 242,
    "start_time": "2024-07-20T22:13:15.855Z"
   },
   {
    "duration": 4,
    "start_time": "2024-07-20T22:13:16.099Z"
   },
   {
    "duration": 72,
    "start_time": "2024-07-20T22:14:48.111Z"
   },
   {
    "duration": 569,
    "start_time": "2024-07-20T22:15:42.772Z"
   },
   {
    "duration": 22,
    "start_time": "2024-07-20T22:15:43.343Z"
   },
   {
    "duration": 17,
    "start_time": "2024-07-20T22:15:43.366Z"
   },
   {
    "duration": 17,
    "start_time": "2024-07-20T22:15:43.384Z"
   },
   {
    "duration": 17,
    "start_time": "2024-07-20T22:15:43.404Z"
   },
   {
    "duration": 10,
    "start_time": "2024-07-20T22:15:43.422Z"
   },
   {
    "duration": 5,
    "start_time": "2024-07-20T22:15:43.434Z"
   },
   {
    "duration": 12,
    "start_time": "2024-07-20T22:15:43.440Z"
   },
   {
    "duration": 34,
    "start_time": "2024-07-20T22:15:43.454Z"
   },
   {
    "duration": 376,
    "start_time": "2024-07-20T22:15:43.490Z"
   },
   {
    "duration": 141,
    "start_time": "2024-07-20T22:15:43.868Z"
   },
   {
    "duration": 202,
    "start_time": "2024-07-20T22:15:44.011Z"
   },
   {
    "duration": 422,
    "start_time": "2024-07-20T22:15:44.214Z"
   },
   {
    "duration": 643,
    "start_time": "2024-07-20T22:15:44.638Z"
   },
   {
    "duration": 39,
    "start_time": "2024-07-20T22:15:45.284Z"
   },
   {
    "duration": 23,
    "start_time": "2024-07-20T22:15:45.324Z"
   },
   {
    "duration": 49,
    "start_time": "2024-07-20T22:15:45.349Z"
   },
   {
    "duration": 199,
    "start_time": "2024-07-20T22:15:45.400Z"
   },
   {
    "duration": 206,
    "start_time": "2024-07-20T22:15:45.600Z"
   },
   {
    "duration": 81,
    "start_time": "2024-07-20T22:15:45.808Z"
   },
   {
    "duration": 52,
    "start_time": "2024-07-20T22:18:12.965Z"
   },
   {
    "duration": 253,
    "start_time": "2024-07-20T22:18:28.856Z"
   },
   {
    "duration": 36,
    "start_time": "2024-07-20T22:19:55.400Z"
   },
   {
    "duration": 568,
    "start_time": "2024-07-20T22:19:59.982Z"
   },
   {
    "duration": 26,
    "start_time": "2024-07-20T22:20:00.552Z"
   },
   {
    "duration": 92,
    "start_time": "2024-07-20T22:20:00.581Z"
   },
   {
    "duration": 41,
    "start_time": "2024-07-20T22:20:00.675Z"
   },
   {
    "duration": 46,
    "start_time": "2024-07-20T22:20:00.718Z"
   },
   {
    "duration": 73,
    "start_time": "2024-07-20T22:20:00.765Z"
   },
   {
    "duration": 47,
    "start_time": "2024-07-20T22:20:00.840Z"
   },
   {
    "duration": 95,
    "start_time": "2024-07-20T22:20:00.889Z"
   },
   {
    "duration": 40,
    "start_time": "2024-07-20T22:20:00.986Z"
   },
   {
    "duration": 453,
    "start_time": "2024-07-20T22:20:01.027Z"
   },
   {
    "duration": 139,
    "start_time": "2024-07-20T22:20:01.482Z"
   },
   {
    "duration": 195,
    "start_time": "2024-07-20T22:20:01.622Z"
   },
   {
    "duration": 425,
    "start_time": "2024-07-20T22:20:01.818Z"
   },
   {
    "duration": 647,
    "start_time": "2024-07-20T22:20:02.246Z"
   },
   {
    "duration": 39,
    "start_time": "2024-07-20T22:20:02.895Z"
   },
   {
    "duration": 64,
    "start_time": "2024-07-20T22:20:02.936Z"
   },
   {
    "duration": 31,
    "start_time": "2024-07-20T22:20:03.001Z"
   },
   {
    "duration": 193,
    "start_time": "2024-07-20T22:20:03.033Z"
   },
   {
    "duration": 212,
    "start_time": "2024-07-20T22:20:03.228Z"
   },
   {
    "duration": 43,
    "start_time": "2024-07-20T22:20:03.442Z"
   },
   {
    "duration": 22,
    "start_time": "2024-07-20T22:29:12.168Z"
   },
   {
    "duration": 985,
    "start_time": "2024-07-20T23:54:25.751Z"
   },
   {
    "duration": 856,
    "start_time": "2024-07-20T23:54:39.556Z"
   },
   {
    "duration": 528,
    "start_time": "2024-07-20T23:55:09.939Z"
   },
   {
    "duration": 20,
    "start_time": "2024-07-20T23:55:10.469Z"
   },
   {
    "duration": 16,
    "start_time": "2024-07-20T23:55:10.491Z"
   },
   {
    "duration": 13,
    "start_time": "2024-07-20T23:55:10.508Z"
   },
   {
    "duration": 15,
    "start_time": "2024-07-20T23:55:10.522Z"
   },
   {
    "duration": 10,
    "start_time": "2024-07-20T23:55:10.538Z"
   },
   {
    "duration": 36,
    "start_time": "2024-07-20T23:55:10.550Z"
   },
   {
    "duration": 5,
    "start_time": "2024-07-20T23:55:10.588Z"
   },
   {
    "duration": 26,
    "start_time": "2024-07-20T23:55:10.594Z"
   },
   {
    "duration": 413,
    "start_time": "2024-07-20T23:55:10.623Z"
   },
   {
    "duration": 132,
    "start_time": "2024-07-20T23:55:11.038Z"
   },
   {
    "duration": 213,
    "start_time": "2024-07-20T23:55:11.171Z"
   },
   {
    "duration": 411,
    "start_time": "2024-07-20T23:55:11.385Z"
   },
   {
    "duration": 640,
    "start_time": "2024-07-20T23:55:11.798Z"
   },
   {
    "duration": 48,
    "start_time": "2024-07-20T23:55:12.441Z"
   },
   {
    "duration": 23,
    "start_time": "2024-07-20T23:55:12.490Z"
   },
   {
    "duration": 22,
    "start_time": "2024-07-20T23:55:12.515Z"
   },
   {
    "duration": 197,
    "start_time": "2024-07-20T23:55:12.538Z"
   },
   {
    "duration": 202,
    "start_time": "2024-07-20T23:55:12.736Z"
   },
   {
    "duration": 21,
    "start_time": "2024-07-20T23:55:12.940Z"
   },
   {
    "duration": 1071,
    "start_time": "2024-07-20T23:55:12.963Z"
   },
   {
    "duration": 891,
    "start_time": "2024-07-20T23:55:27.551Z"
   },
   {
    "duration": 26,
    "start_time": "2024-07-20T23:55:36.942Z"
   },
   {
    "duration": 898,
    "start_time": "2024-07-20T23:56:08.600Z"
   },
   {
    "duration": 584,
    "start_time": "2024-07-20T23:56:17.749Z"
   },
   {
    "duration": 22,
    "start_time": "2024-07-20T23:56:18.335Z"
   },
   {
    "duration": 24,
    "start_time": "2024-07-20T23:56:18.358Z"
   },
   {
    "duration": 19,
    "start_time": "2024-07-20T23:56:18.385Z"
   },
   {
    "duration": 17,
    "start_time": "2024-07-20T23:56:18.407Z"
   },
   {
    "duration": 11,
    "start_time": "2024-07-20T23:56:18.426Z"
   },
   {
    "duration": 6,
    "start_time": "2024-07-20T23:56:18.439Z"
   },
   {
    "duration": 38,
    "start_time": "2024-07-20T23:56:18.446Z"
   },
   {
    "duration": 10,
    "start_time": "2024-07-20T23:56:18.486Z"
   },
   {
    "duration": 398,
    "start_time": "2024-07-20T23:56:18.497Z"
   },
   {
    "duration": 145,
    "start_time": "2024-07-20T23:56:18.897Z"
   },
   {
    "duration": 223,
    "start_time": "2024-07-20T23:56:19.044Z"
   },
   {
    "duration": 405,
    "start_time": "2024-07-20T23:56:19.269Z"
   },
   {
    "duration": 612,
    "start_time": "2024-07-20T23:56:19.676Z"
   },
   {
    "duration": 37,
    "start_time": "2024-07-20T23:56:20.290Z"
   },
   {
    "duration": 24,
    "start_time": "2024-07-20T23:56:20.328Z"
   },
   {
    "duration": 48,
    "start_time": "2024-07-20T23:56:20.353Z"
   },
   {
    "duration": 182,
    "start_time": "2024-07-20T23:56:20.402Z"
   },
   {
    "duration": 201,
    "start_time": "2024-07-20T23:56:20.585Z"
   },
   {
    "duration": 20,
    "start_time": "2024-07-20T23:56:20.788Z"
   },
   {
    "duration": 563,
    "start_time": "2024-07-20T23:56:20.810Z"
   },
   {
    "duration": 542,
    "start_time": "2024-07-20T23:58:24.106Z"
   },
   {
    "duration": 21,
    "start_time": "2024-07-20T23:58:24.650Z"
   },
   {
    "duration": 16,
    "start_time": "2024-07-20T23:58:24.673Z"
   },
   {
    "duration": 13,
    "start_time": "2024-07-20T23:58:24.690Z"
   },
   {
    "duration": 12,
    "start_time": "2024-07-20T23:58:24.706Z"
   },
   {
    "duration": 10,
    "start_time": "2024-07-20T23:58:24.719Z"
   },
   {
    "duration": 5,
    "start_time": "2024-07-20T23:58:24.730Z"
   },
   {
    "duration": 6,
    "start_time": "2024-07-20T23:58:24.736Z"
   },
   {
    "duration": 45,
    "start_time": "2024-07-20T23:58:24.743Z"
   },
   {
    "duration": 389,
    "start_time": "2024-07-20T23:58:24.790Z"
   },
   {
    "duration": 121,
    "start_time": "2024-07-20T23:58:25.183Z"
   },
   {
    "duration": 190,
    "start_time": "2024-07-20T23:58:25.306Z"
   },
   {
    "duration": 402,
    "start_time": "2024-07-20T23:58:25.498Z"
   },
   {
    "duration": 631,
    "start_time": "2024-07-20T23:58:25.903Z"
   },
   {
    "duration": 51,
    "start_time": "2024-07-20T23:58:26.536Z"
   },
   {
    "duration": 27,
    "start_time": "2024-07-20T23:58:26.589Z"
   },
   {
    "duration": 23,
    "start_time": "2024-07-20T23:58:26.618Z"
   },
   {
    "duration": 197,
    "start_time": "2024-07-20T23:58:26.642Z"
   },
   {
    "duration": 208,
    "start_time": "2024-07-20T23:58:26.840Z"
   },
   {
    "duration": 21,
    "start_time": "2024-07-20T23:58:27.050Z"
   },
   {
    "duration": 28,
    "start_time": "2024-07-20T23:58:27.073Z"
   },
   {
    "duration": 70,
    "start_time": "2024-07-21T00:31:24.912Z"
   },
   {
    "duration": 1032,
    "start_time": "2024-07-21T00:31:33.459Z"
   },
   {
    "duration": 22,
    "start_time": "2024-07-21T00:31:34.493Z"
   },
   {
    "duration": 15,
    "start_time": "2024-07-21T00:31:34.516Z"
   },
   {
    "duration": 13,
    "start_time": "2024-07-21T00:31:34.533Z"
   },
   {
    "duration": 14,
    "start_time": "2024-07-21T00:31:34.549Z"
   },
   {
    "duration": 12,
    "start_time": "2024-07-21T00:31:34.584Z"
   },
   {
    "duration": 7,
    "start_time": "2024-07-21T00:31:34.597Z"
   },
   {
    "duration": 9,
    "start_time": "2024-07-21T00:31:34.605Z"
   },
   {
    "duration": 14,
    "start_time": "2024-07-21T00:31:34.615Z"
   },
   {
    "duration": 427,
    "start_time": "2024-07-21T00:31:34.630Z"
   },
   {
    "duration": 135,
    "start_time": "2024-07-21T00:31:35.059Z"
   },
   {
    "duration": 189,
    "start_time": "2024-07-21T00:31:35.195Z"
   },
   {
    "duration": 363,
    "start_time": "2024-07-21T00:31:35.385Z"
   },
   {
    "duration": 623,
    "start_time": "2024-07-21T00:31:35.750Z"
   },
   {
    "duration": 47,
    "start_time": "2024-07-21T00:31:36.374Z"
   },
   {
    "duration": 107,
    "start_time": "2024-07-21T00:31:36.423Z"
   },
   {
    "duration": 22,
    "start_time": "2024-07-21T00:31:36.531Z"
   },
   {
    "duration": 193,
    "start_time": "2024-07-21T00:31:36.554Z"
   },
   {
    "duration": 183,
    "start_time": "2024-07-21T00:31:36.748Z"
   },
   {
    "duration": 20,
    "start_time": "2024-07-21T00:31:36.933Z"
   },
   {
    "duration": 35,
    "start_time": "2024-07-21T00:31:36.955Z"
   },
   {
    "duration": 6,
    "start_time": "2024-07-21T00:31:36.991Z"
   },
   {
    "duration": 6,
    "start_time": "2024-07-21T00:39:43.233Z"
   },
   {
    "duration": 5,
    "start_time": "2024-07-21T00:48:37.585Z"
   },
   {
    "duration": 1016,
    "start_time": "2024-07-21T00:57:58.975Z"
   },
   {
    "duration": 25,
    "start_time": "2024-07-21T00:57:59.992Z"
   },
   {
    "duration": 49,
    "start_time": "2024-07-21T00:58:00.019Z"
   },
   {
    "duration": 34,
    "start_time": "2024-07-21T00:58:00.069Z"
   },
   {
    "duration": 52,
    "start_time": "2024-07-21T00:58:00.105Z"
   },
   {
    "duration": 66,
    "start_time": "2024-07-21T00:58:00.159Z"
   },
   {
    "duration": 49,
    "start_time": "2024-07-21T00:58:00.227Z"
   },
   {
    "duration": 52,
    "start_time": "2024-07-21T00:58:00.277Z"
   },
   {
    "duration": 67,
    "start_time": "2024-07-21T00:58:00.331Z"
   },
   {
    "duration": 488,
    "start_time": "2024-07-21T00:58:00.400Z"
   },
   {
    "duration": 148,
    "start_time": "2024-07-21T00:58:00.889Z"
   },
   {
    "duration": 201,
    "start_time": "2024-07-21T00:58:01.038Z"
   },
   {
    "duration": 349,
    "start_time": "2024-07-21T00:58:01.240Z"
   },
   {
    "duration": 601,
    "start_time": "2024-07-21T00:58:01.591Z"
   },
   {
    "duration": 40,
    "start_time": "2024-07-21T00:58:02.194Z"
   },
   {
    "duration": 113,
    "start_time": "2024-07-21T00:58:02.235Z"
   },
   {
    "duration": 36,
    "start_time": "2024-07-21T00:58:02.349Z"
   },
   {
    "duration": 178,
    "start_time": "2024-07-21T00:58:02.386Z"
   },
   {
    "duration": 189,
    "start_time": "2024-07-21T00:58:02.566Z"
   },
   {
    "duration": 381,
    "start_time": "2024-07-21T00:58:02.756Z"
   },
   {
    "duration": 0,
    "start_time": "2024-07-21T00:58:03.139Z"
   },
   {
    "duration": 0,
    "start_time": "2024-07-21T00:58:03.140Z"
   },
   {
    "duration": 0,
    "start_time": "2024-07-21T00:58:03.141Z"
   },
   {
    "duration": 21,
    "start_time": "2024-07-21T00:58:57.553Z"
   },
   {
    "duration": 965,
    "start_time": "2024-07-21T00:59:06.821Z"
   },
   {
    "duration": 21,
    "start_time": "2024-07-21T00:59:07.788Z"
   },
   {
    "duration": 14,
    "start_time": "2024-07-21T00:59:07.812Z"
   },
   {
    "duration": 12,
    "start_time": "2024-07-21T00:59:07.828Z"
   },
   {
    "duration": 17,
    "start_time": "2024-07-21T00:59:07.841Z"
   },
   {
    "duration": 30,
    "start_time": "2024-07-21T00:59:07.859Z"
   },
   {
    "duration": 5,
    "start_time": "2024-07-21T00:59:07.890Z"
   },
   {
    "duration": 4,
    "start_time": "2024-07-21T00:59:07.897Z"
   },
   {
    "duration": 9,
    "start_time": "2024-07-21T00:59:07.903Z"
   },
   {
    "duration": 399,
    "start_time": "2024-07-21T00:59:07.913Z"
   },
   {
    "duration": 146,
    "start_time": "2024-07-21T00:59:08.313Z"
   },
   {
    "duration": 197,
    "start_time": "2024-07-21T00:59:08.460Z"
   },
   {
    "duration": 344,
    "start_time": "2024-07-21T00:59:08.659Z"
   },
   {
    "duration": 707,
    "start_time": "2024-07-21T00:59:09.005Z"
   },
   {
    "duration": 36,
    "start_time": "2024-07-21T00:59:09.713Z"
   },
   {
    "duration": 39,
    "start_time": "2024-07-21T00:59:09.750Z"
   },
   {
    "duration": 21,
    "start_time": "2024-07-21T00:59:09.790Z"
   },
   {
    "duration": 188,
    "start_time": "2024-07-21T00:59:09.813Z"
   },
   {
    "duration": 184,
    "start_time": "2024-07-21T00:59:10.002Z"
   },
   {
    "duration": 22,
    "start_time": "2024-07-21T00:59:10.188Z"
   },
   {
    "duration": 18,
    "start_time": "2024-07-21T00:59:10.212Z"
   },
   {
    "duration": 5,
    "start_time": "2024-07-21T00:59:10.231Z"
   },
   {
    "duration": 5,
    "start_time": "2024-07-21T00:59:10.237Z"
   },
   {
    "duration": 12,
    "start_time": "2024-07-21T01:04:09.035Z"
   },
   {
    "duration": 180,
    "start_time": "2024-07-21T01:31:45.115Z"
   },
   {
    "duration": 61,
    "start_time": "2024-07-21T01:42:19.712Z"
   },
   {
    "duration": 10,
    "start_time": "2024-07-21T01:42:30.299Z"
   },
   {
    "duration": 60,
    "start_time": "2024-07-21T01:53:43.421Z"
   },
   {
    "duration": 346,
    "start_time": "2024-07-21T02:07:38.519Z"
   },
   {
    "duration": 343,
    "start_time": "2024-07-21T02:07:54.597Z"
   },
   {
    "duration": 454,
    "start_time": "2024-07-21T02:08:11.336Z"
   },
   {
    "duration": 352,
    "start_time": "2024-07-21T02:08:29.678Z"
   },
   {
    "duration": 356,
    "start_time": "2024-07-21T02:08:44.187Z"
   },
   {
    "duration": 343,
    "start_time": "2024-07-21T02:08:54.535Z"
   },
   {
    "duration": 701,
    "start_time": "2024-07-21T02:10:17.344Z"
   },
   {
    "duration": 29,
    "start_time": "2024-07-21T02:19:20.010Z"
   },
   {
    "duration": 986,
    "start_time": "2024-07-21T02:20:56.491Z"
   },
   {
    "duration": 21,
    "start_time": "2024-07-21T02:20:57.479Z"
   },
   {
    "duration": 33,
    "start_time": "2024-07-21T02:20:57.501Z"
   },
   {
    "duration": 13,
    "start_time": "2024-07-21T02:20:57.536Z"
   },
   {
    "duration": 12,
    "start_time": "2024-07-21T02:20:57.551Z"
   },
   {
    "duration": 20,
    "start_time": "2024-07-21T02:20:57.564Z"
   },
   {
    "duration": 5,
    "start_time": "2024-07-21T02:20:57.585Z"
   },
   {
    "duration": 5,
    "start_time": "2024-07-21T02:20:57.591Z"
   },
   {
    "duration": 10,
    "start_time": "2024-07-21T02:20:57.597Z"
   },
   {
    "duration": 384,
    "start_time": "2024-07-21T02:20:57.608Z"
   },
   {
    "duration": 136,
    "start_time": "2024-07-21T02:20:57.994Z"
   },
   {
    "duration": 190,
    "start_time": "2024-07-21T02:20:58.131Z"
   },
   {
    "duration": 374,
    "start_time": "2024-07-21T02:20:58.323Z"
   },
   {
    "duration": 675,
    "start_time": "2024-07-21T02:20:58.700Z"
   },
   {
    "duration": 38,
    "start_time": "2024-07-21T02:20:59.377Z"
   },
   {
    "duration": 54,
    "start_time": "2024-07-21T02:20:59.417Z"
   },
   {
    "duration": 22,
    "start_time": "2024-07-21T02:20:59.473Z"
   },
   {
    "duration": 187,
    "start_time": "2024-07-21T02:20:59.497Z"
   },
   {
    "duration": 187,
    "start_time": "2024-07-21T02:20:59.686Z"
   },
   {
    "duration": 30,
    "start_time": "2024-07-21T02:20:59.874Z"
   },
   {
    "duration": 20,
    "start_time": "2024-07-21T02:20:59.905Z"
   },
   {
    "duration": 6,
    "start_time": "2024-07-21T02:20:59.926Z"
   },
   {
    "duration": 26,
    "start_time": "2024-07-21T02:20:59.934Z"
   },
   {
    "duration": 12,
    "start_time": "2024-07-21T02:20:59.961Z"
   },
   {
    "duration": 18,
    "start_time": "2024-07-21T02:22:58.183Z"
   },
   {
    "duration": 17,
    "start_time": "2024-07-21T02:23:01.251Z"
   },
   {
    "duration": 165,
    "start_time": "2024-07-21T02:26:08.597Z"
   },
   {
    "duration": 178,
    "start_time": "2024-07-21T02:26:49.098Z"
   },
   {
    "duration": 176,
    "start_time": "2024-07-21T02:27:26.531Z"
   },
   {
    "duration": 939,
    "start_time": "2024-07-21T02:27:43.440Z"
   },
   {
    "duration": 21,
    "start_time": "2024-07-21T02:27:44.381Z"
   },
   {
    "duration": 19,
    "start_time": "2024-07-21T02:27:44.403Z"
   },
   {
    "duration": 13,
    "start_time": "2024-07-21T02:27:44.423Z"
   },
   {
    "duration": 17,
    "start_time": "2024-07-21T02:27:44.438Z"
   },
   {
    "duration": 34,
    "start_time": "2024-07-21T02:27:44.456Z"
   },
   {
    "duration": 4,
    "start_time": "2024-07-21T02:27:44.491Z"
   },
   {
    "duration": 4,
    "start_time": "2024-07-21T02:27:44.497Z"
   },
   {
    "duration": 18,
    "start_time": "2024-07-21T02:27:44.503Z"
   },
   {
    "duration": 410,
    "start_time": "2024-07-21T02:27:44.523Z"
   },
   {
    "duration": 127,
    "start_time": "2024-07-21T02:27:44.935Z"
   },
   {
    "duration": 185,
    "start_time": "2024-07-21T02:27:45.063Z"
   },
   {
    "duration": 353,
    "start_time": "2024-07-21T02:27:45.249Z"
   },
   {
    "duration": 604,
    "start_time": "2024-07-21T02:27:45.604Z"
   },
   {
    "duration": 32,
    "start_time": "2024-07-21T02:27:46.210Z"
   },
   {
    "duration": 18,
    "start_time": "2024-07-21T02:27:46.243Z"
   },
   {
    "duration": 122,
    "start_time": "2024-07-21T02:27:46.262Z"
   },
   {
    "duration": 171,
    "start_time": "2024-07-21T02:27:46.386Z"
   },
   {
    "duration": 182,
    "start_time": "2024-07-21T02:27:46.558Z"
   },
   {
    "duration": 21,
    "start_time": "2024-07-21T02:27:46.741Z"
   },
   {
    "duration": 34,
    "start_time": "2024-07-21T02:27:46.764Z"
   },
   {
    "duration": 6,
    "start_time": "2024-07-21T02:27:46.799Z"
   },
   {
    "duration": 5,
    "start_time": "2024-07-21T02:27:46.806Z"
   },
   {
    "duration": 80,
    "start_time": "2024-07-21T02:27:46.812Z"
   },
   {
    "duration": 188,
    "start_time": "2024-07-21T02:28:05.372Z"
   },
   {
    "duration": 1025,
    "start_time": "2024-07-21T02:40:49.473Z"
   },
   {
    "duration": 946,
    "start_time": "2024-07-21T02:41:04.017Z"
   },
   {
    "duration": 21,
    "start_time": "2024-07-21T02:41:04.964Z"
   },
   {
    "duration": 15,
    "start_time": "2024-07-21T02:41:04.986Z"
   },
   {
    "duration": 13,
    "start_time": "2024-07-21T02:41:05.003Z"
   },
   {
    "duration": 17,
    "start_time": "2024-07-21T02:41:05.018Z"
   },
   {
    "duration": 9,
    "start_time": "2024-07-21T02:41:05.037Z"
   },
   {
    "duration": 5,
    "start_time": "2024-07-21T02:41:05.048Z"
   },
   {
    "duration": 32,
    "start_time": "2024-07-21T02:41:05.054Z"
   },
   {
    "duration": 8,
    "start_time": "2024-07-21T02:41:05.088Z"
   },
   {
    "duration": 395,
    "start_time": "2024-07-21T02:41:05.098Z"
   },
   {
    "duration": 139,
    "start_time": "2024-07-21T02:41:05.494Z"
   },
   {
    "duration": 191,
    "start_time": "2024-07-21T02:41:05.635Z"
   },
   {
    "duration": 366,
    "start_time": "2024-07-21T02:41:05.827Z"
   },
   {
    "duration": 678,
    "start_time": "2024-07-21T02:41:06.196Z"
   },
   {
    "duration": 38,
    "start_time": "2024-07-21T02:41:06.875Z"
   },
   {
    "duration": 39,
    "start_time": "2024-07-21T02:41:06.914Z"
   },
   {
    "duration": 16,
    "start_time": "2024-07-21T02:41:06.955Z"
   },
   {
    "duration": 169,
    "start_time": "2024-07-21T02:41:06.972Z"
   },
   {
    "duration": 197,
    "start_time": "2024-07-21T02:41:07.142Z"
   },
   {
    "duration": 22,
    "start_time": "2024-07-21T02:41:07.340Z"
   },
   {
    "duration": 22,
    "start_time": "2024-07-21T02:41:07.363Z"
   },
   {
    "duration": 5,
    "start_time": "2024-07-21T02:41:07.386Z"
   },
   {
    "duration": 5,
    "start_time": "2024-07-21T02:41:07.393Z"
   },
   {
    "duration": 11,
    "start_time": "2024-07-21T02:41:07.400Z"
   },
   {
    "duration": 61,
    "start_time": "2024-07-21T02:45:15.601Z"
   },
   {
    "duration": 63,
    "start_time": "2024-07-21T02:45:31.107Z"
   },
   {
    "duration": 23,
    "start_time": "2024-07-21T02:45:40.779Z"
   },
   {
    "duration": 23,
    "start_time": "2024-07-21T02:46:50.725Z"
   },
   {
    "duration": 957,
    "start_time": "2024-07-21T02:46:56.513Z"
   },
   {
    "duration": 22,
    "start_time": "2024-07-21T02:46:57.472Z"
   },
   {
    "duration": 24,
    "start_time": "2024-07-21T02:46:57.496Z"
   },
   {
    "duration": 13,
    "start_time": "2024-07-21T02:46:57.521Z"
   },
   {
    "duration": 54,
    "start_time": "2024-07-21T02:46:57.536Z"
   },
   {
    "duration": 11,
    "start_time": "2024-07-21T02:46:57.591Z"
   },
   {
    "duration": 5,
    "start_time": "2024-07-21T02:46:57.603Z"
   },
   {
    "duration": 4,
    "start_time": "2024-07-21T02:46:57.610Z"
   },
   {
    "duration": 9,
    "start_time": "2024-07-21T02:46:57.615Z"
   },
   {
    "duration": 399,
    "start_time": "2024-07-21T02:46:57.625Z"
   },
   {
    "duration": 125,
    "start_time": "2024-07-21T02:46:58.025Z"
   },
   {
    "duration": 196,
    "start_time": "2024-07-21T02:46:58.151Z"
   },
   {
    "duration": 363,
    "start_time": "2024-07-21T02:46:58.348Z"
   },
   {
    "duration": 671,
    "start_time": "2024-07-21T02:46:58.713Z"
   },
   {
    "duration": 31,
    "start_time": "2024-07-21T02:46:59.385Z"
   },
   {
    "duration": 16,
    "start_time": "2024-07-21T02:46:59.417Z"
   },
   {
    "duration": 16,
    "start_time": "2024-07-21T02:46:59.434Z"
   },
   {
    "duration": 203,
    "start_time": "2024-07-21T02:46:59.451Z"
   },
   {
    "duration": 187,
    "start_time": "2024-07-21T02:46:59.655Z"
   },
   {
    "duration": 21,
    "start_time": "2024-07-21T02:46:59.844Z"
   },
   {
    "duration": 36,
    "start_time": "2024-07-21T02:46:59.866Z"
   },
   {
    "duration": 6,
    "start_time": "2024-07-21T02:46:59.903Z"
   },
   {
    "duration": 5,
    "start_time": "2024-07-21T02:46:59.910Z"
   },
   {
    "duration": 10,
    "start_time": "2024-07-21T02:46:59.917Z"
   },
   {
    "duration": 21,
    "start_time": "2024-07-21T02:47:23.869Z"
   },
   {
    "duration": 1010,
    "start_time": "2024-07-21T02:47:27.972Z"
   },
   {
    "duration": 21,
    "start_time": "2024-07-21T02:47:28.984Z"
   },
   {
    "duration": 15,
    "start_time": "2024-07-21T02:47:29.006Z"
   },
   {
    "duration": 12,
    "start_time": "2024-07-21T02:47:29.022Z"
   },
   {
    "duration": 14,
    "start_time": "2024-07-21T02:47:29.036Z"
   },
   {
    "duration": 36,
    "start_time": "2024-07-21T02:47:29.051Z"
   },
   {
    "duration": 6,
    "start_time": "2024-07-21T02:47:29.088Z"
   },
   {
    "duration": 5,
    "start_time": "2024-07-21T02:47:29.095Z"
   },
   {
    "duration": 9,
    "start_time": "2024-07-21T02:47:29.101Z"
   },
   {
    "duration": 410,
    "start_time": "2024-07-21T02:47:29.112Z"
   },
   {
    "duration": 128,
    "start_time": "2024-07-21T02:47:29.523Z"
   },
   {
    "duration": 184,
    "start_time": "2024-07-21T02:47:29.652Z"
   },
   {
    "duration": 359,
    "start_time": "2024-07-21T02:47:29.838Z"
   },
   {
    "duration": 620,
    "start_time": "2024-07-21T02:47:30.199Z"
   },
   {
    "duration": 33,
    "start_time": "2024-07-21T02:47:30.820Z"
   },
   {
    "duration": 32,
    "start_time": "2024-07-21T02:47:30.855Z"
   },
   {
    "duration": 171,
    "start_time": "2024-07-21T02:47:30.889Z"
   },
   {
    "duration": 172,
    "start_time": "2024-07-21T02:47:31.061Z"
   },
   {
    "duration": 198,
    "start_time": "2024-07-21T02:47:31.235Z"
   },
   {
    "duration": 24,
    "start_time": "2024-07-21T02:47:31.435Z"
   },
   {
    "duration": 108,
    "start_time": "2024-07-21T02:47:31.460Z"
   },
   {
    "duration": 31,
    "start_time": "2024-07-21T02:47:31.569Z"
   },
   {
    "duration": 34,
    "start_time": "2024-07-21T02:47:31.601Z"
   },
   {
    "duration": 11,
    "start_time": "2024-07-21T02:47:31.637Z"
   },
   {
    "duration": 939,
    "start_time": "2024-07-21T02:48:11.881Z"
   },
   {
    "duration": 982,
    "start_time": "2024-07-21T02:48:20.702Z"
   },
   {
    "duration": 21,
    "start_time": "2024-07-21T02:48:21.686Z"
   },
   {
    "duration": 16,
    "start_time": "2024-07-21T02:48:21.708Z"
   },
   {
    "duration": 14,
    "start_time": "2024-07-21T02:48:21.726Z"
   },
   {
    "duration": 18,
    "start_time": "2024-07-21T02:48:21.741Z"
   },
   {
    "duration": 31,
    "start_time": "2024-07-21T02:48:21.760Z"
   },
   {
    "duration": 5,
    "start_time": "2024-07-21T02:48:21.793Z"
   },
   {
    "duration": 6,
    "start_time": "2024-07-21T02:48:21.799Z"
   },
   {
    "duration": 12,
    "start_time": "2024-07-21T02:48:21.806Z"
   },
   {
    "duration": 382,
    "start_time": "2024-07-21T02:48:21.820Z"
   },
   {
    "duration": 130,
    "start_time": "2024-07-21T02:48:22.204Z"
   },
   {
    "duration": 193,
    "start_time": "2024-07-21T02:48:22.335Z"
   },
   {
    "duration": 356,
    "start_time": "2024-07-21T02:48:22.530Z"
   },
   {
    "duration": 579,
    "start_time": "2024-07-21T02:48:22.887Z"
   },
   {
    "duration": 37,
    "start_time": "2024-07-21T02:48:23.467Z"
   },
   {
    "duration": 28,
    "start_time": "2024-07-21T02:48:23.505Z"
   },
   {
    "duration": 100,
    "start_time": "2024-07-21T02:48:23.534Z"
   },
   {
    "duration": 169,
    "start_time": "2024-07-21T02:48:23.635Z"
   },
   {
    "duration": 194,
    "start_time": "2024-07-21T02:48:23.805Z"
   },
   {
    "duration": 22,
    "start_time": "2024-07-21T02:48:24.001Z"
   },
   {
    "duration": 13,
    "start_time": "2024-07-21T02:48:24.024Z"
   },
   {
    "duration": 5,
    "start_time": "2024-07-21T02:48:24.038Z"
   },
   {
    "duration": 5,
    "start_time": "2024-07-21T02:48:24.045Z"
   },
   {
    "duration": 34,
    "start_time": "2024-07-21T02:48:24.051Z"
   },
   {
    "duration": 103,
    "start_time": "2024-07-21T03:21:53.928Z"
   },
   {
    "duration": 12,
    "start_time": "2024-07-21T03:22:32.703Z"
   },
   {
    "duration": 4,
    "start_time": "2024-07-21T03:23:21.576Z"
   },
   {
    "duration": 5,
    "start_time": "2024-07-21T03:34:15.255Z"
   },
   {
    "duration": 67,
    "start_time": "2024-07-21T04:22:37.466Z"
   },
   {
    "duration": 10,
    "start_time": "2024-07-21T04:47:47.595Z"
   },
   {
    "duration": 6,
    "start_time": "2024-07-21T04:48:28.370Z"
   },
   {
    "duration": 4,
    "start_time": "2024-07-21T04:48:44.737Z"
   },
   {
    "duration": 3,
    "start_time": "2024-07-21T04:49:04.334Z"
   },
   {
    "duration": 4,
    "start_time": "2024-07-21T04:49:05.789Z"
   },
   {
    "duration": 189,
    "start_time": "2024-07-21T04:56:08.923Z"
   },
   {
    "duration": 203,
    "start_time": "2024-07-21T04:56:58.995Z"
   },
   {
    "duration": 167,
    "start_time": "2024-07-21T04:57:06.735Z"
   },
   {
    "duration": 1274,
    "start_time": "2024-07-21T05:37:48.249Z"
   },
   {
    "duration": 20,
    "start_time": "2024-07-21T05:37:49.525Z"
   },
   {
    "duration": 15,
    "start_time": "2024-07-21T05:37:49.546Z"
   },
   {
    "duration": 13,
    "start_time": "2024-07-21T05:37:49.562Z"
   },
   {
    "duration": 19,
    "start_time": "2024-07-21T05:37:49.577Z"
   },
   {
    "duration": 15,
    "start_time": "2024-07-21T05:37:49.602Z"
   },
   {
    "duration": 8,
    "start_time": "2024-07-21T05:37:49.618Z"
   },
   {
    "duration": 4,
    "start_time": "2024-07-21T05:37:49.628Z"
   },
   {
    "duration": 9,
    "start_time": "2024-07-21T05:37:49.633Z"
   },
   {
    "duration": 206,
    "start_time": "2024-07-21T05:37:49.643Z"
   },
   {
    "duration": 145,
    "start_time": "2024-07-21T05:37:49.851Z"
   },
   {
    "duration": 220,
    "start_time": "2024-07-21T05:37:49.998Z"
   },
   {
    "duration": 417,
    "start_time": "2024-07-21T05:37:50.219Z"
   },
   {
    "duration": 810,
    "start_time": "2024-07-21T05:37:50.639Z"
   },
   {
    "duration": 41,
    "start_time": "2024-07-21T05:37:51.451Z"
   },
   {
    "duration": 25,
    "start_time": "2024-07-21T05:37:51.497Z"
   },
   {
    "duration": 18,
    "start_time": "2024-07-21T05:37:51.523Z"
   },
   {
    "duration": 216,
    "start_time": "2024-07-21T05:37:51.543Z"
   },
   {
    "duration": 237,
    "start_time": "2024-07-21T05:37:51.761Z"
   },
   {
    "duration": 10,
    "start_time": "2024-07-21T05:37:52.000Z"
   },
   {
    "duration": 22,
    "start_time": "2024-07-21T05:37:52.012Z"
   },
   {
    "duration": 24,
    "start_time": "2024-07-21T05:37:52.035Z"
   },
   {
    "duration": 14,
    "start_time": "2024-07-21T05:37:52.061Z"
   },
   {
    "duration": 15,
    "start_time": "2024-07-21T05:37:52.076Z"
   },
   {
    "duration": 22,
    "start_time": "2024-07-21T05:37:52.095Z"
   },
   {
    "duration": 11,
    "start_time": "2024-07-21T05:37:52.118Z"
   },
   {
    "duration": 1521,
    "start_time": "2024-07-21T17:46:33.959Z"
   },
   {
    "duration": 17,
    "start_time": "2024-07-21T17:46:35.481Z"
   },
   {
    "duration": 27,
    "start_time": "2024-07-21T17:46:35.499Z"
   },
   {
    "duration": 11,
    "start_time": "2024-07-21T17:46:35.528Z"
   },
   {
    "duration": 12,
    "start_time": "2024-07-21T17:46:35.540Z"
   },
   {
    "duration": 11,
    "start_time": "2024-07-21T17:46:35.554Z"
   },
   {
    "duration": 4,
    "start_time": "2024-07-21T17:46:35.567Z"
   },
   {
    "duration": 7,
    "start_time": "2024-07-21T17:46:35.572Z"
   },
   {
    "duration": 7,
    "start_time": "2024-07-21T17:46:35.580Z"
   },
   {
    "duration": 164,
    "start_time": "2024-07-21T17:46:35.589Z"
   },
   {
    "duration": 116,
    "start_time": "2024-07-21T17:46:35.754Z"
   },
   {
    "duration": 188,
    "start_time": "2024-07-21T17:46:35.872Z"
   },
   {
    "duration": 289,
    "start_time": "2024-07-21T17:46:36.062Z"
   },
   {
    "duration": 558,
    "start_time": "2024-07-21T17:46:36.352Z"
   },
   {
    "duration": 27,
    "start_time": "2024-07-21T17:46:36.911Z"
   },
   {
    "duration": 17,
    "start_time": "2024-07-21T17:46:36.939Z"
   },
   {
    "duration": 51,
    "start_time": "2024-07-21T17:46:36.957Z"
   },
   {
    "duration": 179,
    "start_time": "2024-07-21T17:46:37.009Z"
   },
   {
    "duration": 167,
    "start_time": "2024-07-21T17:46:37.190Z"
   },
   {
    "duration": 3,
    "start_time": "2024-07-21T17:46:37.358Z"
   },
   {
    "duration": 4,
    "start_time": "2024-07-21T17:46:37.363Z"
   },
   {
    "duration": 34,
    "start_time": "2024-07-21T17:46:37.369Z"
   },
   {
    "duration": 12,
    "start_time": "2024-07-21T17:46:37.405Z"
   },
   {
    "duration": 6,
    "start_time": "2024-07-21T17:46:37.419Z"
   },
   {
    "duration": 9,
    "start_time": "2024-07-21T17:46:37.426Z"
   },
   {
    "duration": 11,
    "start_time": "2024-07-21T17:46:37.436Z"
   },
   {
    "duration": 73,
    "start_time": "2024-07-21T17:47:44.982Z"
   },
   {
    "duration": 89,
    "start_time": "2024-07-21T17:54:37.751Z"
   },
   {
    "duration": 5,
    "start_time": "2024-07-21T17:54:47.082Z"
   },
   {
    "duration": 66,
    "start_time": "2024-07-21T21:28:24.234Z"
   },
   {
    "duration": 65,
    "start_time": "2024-07-21T21:30:09.705Z"
   },
   {
    "duration": 68,
    "start_time": "2024-07-21T21:30:58.987Z"
   },
   {
    "duration": 52,
    "start_time": "2024-07-21T21:31:10.856Z"
   },
   {
    "duration": 41,
    "start_time": "2024-07-21T21:33:32.677Z"
   },
   {
    "duration": 5,
    "start_time": "2024-07-21T21:33:37.966Z"
   },
   {
    "duration": 1123,
    "start_time": "2024-07-21T21:33:42.235Z"
   },
   {
    "duration": 527,
    "start_time": "2024-07-21T21:33:43.360Z"
   },
   {
    "duration": 20,
    "start_time": "2024-07-21T21:33:43.888Z"
   },
   {
    "duration": 16,
    "start_time": "2024-07-21T21:33:43.910Z"
   },
   {
    "duration": 14,
    "start_time": "2024-07-21T21:33:43.927Z"
   },
   {
    "duration": 19,
    "start_time": "2024-07-21T21:33:43.942Z"
   },
   {
    "duration": 11,
    "start_time": "2024-07-21T21:33:43.984Z"
   },
   {
    "duration": 6,
    "start_time": "2024-07-21T21:33:43.996Z"
   },
   {
    "duration": 5,
    "start_time": "2024-07-21T21:33:44.004Z"
   },
   {
    "duration": 10,
    "start_time": "2024-07-21T21:33:44.012Z"
   },
   {
    "duration": 197,
    "start_time": "2024-07-21T21:33:44.024Z"
   },
   {
    "duration": 134,
    "start_time": "2024-07-21T21:33:44.223Z"
   },
   {
    "duration": 203,
    "start_time": "2024-07-21T21:33:44.358Z"
   },
   {
    "duration": 365,
    "start_time": "2024-07-21T21:33:44.563Z"
   },
   {
    "duration": 717,
    "start_time": "2024-07-21T21:33:44.929Z"
   },
   {
    "duration": 42,
    "start_time": "2024-07-21T21:33:45.648Z"
   },
   {
    "duration": 17,
    "start_time": "2024-07-21T21:33:45.692Z"
   },
   {
    "duration": 18,
    "start_time": "2024-07-21T21:33:45.711Z"
   },
   {
    "duration": 202,
    "start_time": "2024-07-21T21:33:45.731Z"
   },
   {
    "duration": 202,
    "start_time": "2024-07-21T21:33:45.935Z"
   },
   {
    "duration": 4,
    "start_time": "2024-07-21T21:33:46.138Z"
   },
   {
    "duration": 6,
    "start_time": "2024-07-21T21:33:46.143Z"
   },
   {
    "duration": 35,
    "start_time": "2024-07-21T21:33:46.150Z"
   },
   {
    "duration": 19,
    "start_time": "2024-07-21T21:33:46.187Z"
   },
   {
    "duration": 5,
    "start_time": "2024-07-21T21:33:46.208Z"
   },
   {
    "duration": 7,
    "start_time": "2024-07-21T21:33:46.214Z"
   },
   {
    "duration": 5,
    "start_time": "2024-07-21T21:33:46.222Z"
   },
   {
    "duration": 11,
    "start_time": "2024-07-21T21:33:46.231Z"
   },
   {
    "duration": 98,
    "start_time": "2024-07-21T21:37:07.827Z"
   },
   {
    "duration": 8,
    "start_time": "2024-07-21T21:37:11.685Z"
   },
   {
    "duration": 5,
    "start_time": "2024-07-21T21:37:18.814Z"
   },
   {
    "duration": 4,
    "start_time": "2024-07-21T21:38:26.079Z"
   },
   {
    "duration": 4,
    "start_time": "2024-07-21T21:38:41.155Z"
   },
   {
    "duration": 6,
    "start_time": "2024-07-21T21:39:26.675Z"
   },
   {
    "duration": 6,
    "start_time": "2024-07-21T21:40:00.444Z"
   },
   {
    "duration": 7,
    "start_time": "2024-07-21T21:41:11.844Z"
   },
   {
    "duration": 9,
    "start_time": "2024-07-21T21:45:15.507Z"
   },
   {
    "duration": 968,
    "start_time": "2024-07-21T21:45:19.941Z"
   },
   {
    "duration": 207,
    "start_time": "2024-07-21T21:45:20.911Z"
   },
   {
    "duration": 19,
    "start_time": "2024-07-21T21:45:21.119Z"
   },
   {
    "duration": 18,
    "start_time": "2024-07-21T21:45:21.140Z"
   },
   {
    "duration": 12,
    "start_time": "2024-07-21T21:45:21.160Z"
   },
   {
    "duration": 19,
    "start_time": "2024-07-21T21:45:21.173Z"
   },
   {
    "duration": 8,
    "start_time": "2024-07-21T21:45:21.194Z"
   },
   {
    "duration": 11,
    "start_time": "2024-07-21T21:45:21.203Z"
   },
   {
    "duration": 5,
    "start_time": "2024-07-21T21:45:21.215Z"
   },
   {
    "duration": 14,
    "start_time": "2024-07-21T21:45:21.222Z"
   },
   {
    "duration": 5,
    "start_time": "2024-07-21T21:45:21.237Z"
   },
   {
    "duration": 13,
    "start_time": "2024-07-21T21:45:21.243Z"
   },
   {
    "duration": 192,
    "start_time": "2024-07-21T21:45:21.257Z"
   },
   {
    "duration": 139,
    "start_time": "2024-07-21T21:45:21.451Z"
   },
   {
    "duration": 193,
    "start_time": "2024-07-21T21:45:21.592Z"
   },
   {
    "duration": 380,
    "start_time": "2024-07-21T21:45:21.787Z"
   },
   {
    "duration": 703,
    "start_time": "2024-07-21T21:45:22.168Z"
   },
   {
    "duration": 36,
    "start_time": "2024-07-21T21:45:22.872Z"
   },
   {
    "duration": 49,
    "start_time": "2024-07-21T21:45:22.910Z"
   },
   {
    "duration": 18,
    "start_time": "2024-07-21T21:45:22.960Z"
   },
   {
    "duration": 175,
    "start_time": "2024-07-21T21:45:22.980Z"
   },
   {
    "duration": 194,
    "start_time": "2024-07-21T21:45:23.157Z"
   },
   {
    "duration": 4,
    "start_time": "2024-07-21T21:45:23.353Z"
   },
   {
    "duration": 27,
    "start_time": "2024-07-21T21:45:23.358Z"
   },
   {
    "duration": 23,
    "start_time": "2024-07-21T21:45:23.386Z"
   },
   {
    "duration": 15,
    "start_time": "2024-07-21T21:45:23.410Z"
   },
   {
    "duration": 9,
    "start_time": "2024-07-21T21:45:23.426Z"
   },
   {
    "duration": 6,
    "start_time": "2024-07-21T21:45:23.438Z"
   },
   {
    "duration": 5,
    "start_time": "2024-07-21T21:45:23.445Z"
   },
   {
    "duration": 42,
    "start_time": "2024-07-21T21:45:23.452Z"
   },
   {
    "duration": 95,
    "start_time": "2024-07-21T21:48:34.269Z"
   },
   {
    "duration": 18,
    "start_time": "2024-07-21T21:49:02.715Z"
   },
   {
    "duration": 156,
    "start_time": "2024-07-21T21:49:09.370Z"
   },
   {
    "duration": 153,
    "start_time": "2024-07-21T21:49:37.822Z"
   },
   {
    "duration": 155,
    "start_time": "2024-07-21T21:49:52.652Z"
   },
   {
    "duration": 161,
    "start_time": "2024-07-21T21:50:00.271Z"
   },
   {
    "duration": 143,
    "start_time": "2024-07-21T21:50:28.691Z"
   },
   {
    "duration": 615,
    "start_time": "2024-07-21T21:50:34.106Z"
   },
   {
    "duration": 59,
    "start_time": "2024-07-21T21:50:50.951Z"
   },
   {
    "duration": 52,
    "start_time": "2024-07-21T21:50:55.015Z"
   },
   {
    "duration": 61,
    "start_time": "2024-07-21T21:51:13.258Z"
   },
   {
    "duration": 148,
    "start_time": "2024-07-21T21:51:25.912Z"
   },
   {
    "duration": 15,
    "start_time": "2024-07-21T21:51:49.863Z"
   },
   {
    "duration": 15,
    "start_time": "2024-07-21T21:53:32.799Z"
   },
   {
    "duration": 124,
    "start_time": "2024-07-21T21:53:37.471Z"
   },
   {
    "duration": 52,
    "start_time": "2024-07-21T21:53:59.628Z"
   },
   {
    "duration": 4,
    "start_time": "2024-07-21T21:54:05.925Z"
   },
   {
    "duration": 153,
    "start_time": "2024-07-21T21:54:09.096Z"
   },
   {
    "duration": 185,
    "start_time": "2024-07-21T21:57:53.960Z"
   },
   {
    "duration": 269,
    "start_time": "2024-07-21T21:59:22.135Z"
   },
   {
    "duration": 188,
    "start_time": "2024-07-21T21:59:30.800Z"
   },
   {
    "duration": 186,
    "start_time": "2024-07-21T21:59:34.519Z"
   },
   {
    "duration": 187,
    "start_time": "2024-07-21T21:59:43.618Z"
   },
   {
    "duration": 202,
    "start_time": "2024-07-21T22:01:01.564Z"
   },
   {
    "duration": 195,
    "start_time": "2024-07-21T22:01:25.499Z"
   },
   {
    "duration": 140,
    "start_time": "2024-07-21T22:02:29.392Z"
   },
   {
    "duration": 141,
    "start_time": "2024-07-21T22:02:57.595Z"
   },
   {
    "duration": 147,
    "start_time": "2024-07-21T22:03:12.829Z"
   },
   {
    "duration": 145,
    "start_time": "2024-07-21T22:03:29.781Z"
   },
   {
    "duration": 193,
    "start_time": "2024-07-21T22:06:08.628Z"
   },
   {
    "duration": 80,
    "start_time": "2024-07-21T22:07:10.825Z"
   },
   {
    "duration": 473,
    "start_time": "2024-07-21T22:07:20.523Z"
   },
   {
    "duration": 361,
    "start_time": "2024-07-21T22:07:35.776Z"
   },
   {
    "duration": 606,
    "start_time": "2024-07-21T22:09:11.567Z"
   },
   {
    "duration": 704,
    "start_time": "2024-07-21T22:09:16.680Z"
   },
   {
    "duration": 619,
    "start_time": "2024-07-21T22:09:54.573Z"
   },
   {
    "duration": 439,
    "start_time": "2024-07-21T22:10:27.239Z"
   },
   {
    "duration": 619,
    "start_time": "2024-07-21T22:11:12.573Z"
   },
   {
    "duration": 155,
    "start_time": "2024-07-21T22:12:04.689Z"
   },
   {
    "duration": 172,
    "start_time": "2024-07-21T22:13:10.627Z"
   },
   {
    "duration": 176,
    "start_time": "2024-07-21T22:13:23.904Z"
   },
   {
    "duration": 188,
    "start_time": "2024-07-21T22:13:52.723Z"
   },
   {
    "duration": 5,
    "start_time": "2024-07-21T22:21:28.077Z"
   },
   {
    "duration": 1027,
    "start_time": "2024-07-21T22:41:22.589Z"
   },
   {
    "duration": 208,
    "start_time": "2024-07-21T22:41:23.618Z"
   },
   {
    "duration": 19,
    "start_time": "2024-07-21T22:41:23.828Z"
   },
   {
    "duration": 18,
    "start_time": "2024-07-21T22:41:23.848Z"
   },
   {
    "duration": 18,
    "start_time": "2024-07-21T22:41:23.868Z"
   },
   {
    "duration": 45,
    "start_time": "2024-07-21T22:41:23.887Z"
   },
   {
    "duration": 5,
    "start_time": "2024-07-21T22:41:23.934Z"
   },
   {
    "duration": 15,
    "start_time": "2024-07-21T22:41:23.940Z"
   },
   {
    "duration": 5,
    "start_time": "2024-07-21T22:41:23.956Z"
   },
   {
    "duration": 19,
    "start_time": "2024-07-21T22:41:23.962Z"
   },
   {
    "duration": 7,
    "start_time": "2024-07-21T22:41:23.982Z"
   },
   {
    "duration": 9,
    "start_time": "2024-07-21T22:41:23.990Z"
   },
   {
    "duration": 176,
    "start_time": "2024-07-21T22:41:24.000Z"
   },
   {
    "duration": 146,
    "start_time": "2024-07-21T22:41:24.183Z"
   },
   {
    "duration": 212,
    "start_time": "2024-07-21T22:41:24.330Z"
   },
   {
    "duration": 366,
    "start_time": "2024-07-21T22:41:24.544Z"
   },
   {
    "duration": 693,
    "start_time": "2024-07-21T22:41:24.911Z"
   },
   {
    "duration": 31,
    "start_time": "2024-07-21T22:41:25.606Z"
   },
   {
    "duration": 16,
    "start_time": "2024-07-21T22:41:25.638Z"
   },
   {
    "duration": 34,
    "start_time": "2024-07-21T22:41:25.656Z"
   },
   {
    "duration": 181,
    "start_time": "2024-07-21T22:41:25.691Z"
   },
   {
    "duration": 196,
    "start_time": "2024-07-21T22:41:25.874Z"
   },
   {
    "duration": 12,
    "start_time": "2024-07-21T22:41:26.072Z"
   },
   {
    "duration": 3,
    "start_time": "2024-07-21T22:41:26.085Z"
   },
   {
    "duration": 24,
    "start_time": "2024-07-21T22:41:26.090Z"
   },
   {
    "duration": 13,
    "start_time": "2024-07-21T22:41:26.115Z"
   },
   {
    "duration": 6,
    "start_time": "2024-07-21T22:41:26.129Z"
   },
   {
    "duration": 5,
    "start_time": "2024-07-21T22:41:26.136Z"
   },
   {
    "duration": 5,
    "start_time": "2024-07-21T22:41:26.142Z"
   },
   {
    "duration": 42,
    "start_time": "2024-07-21T22:41:26.148Z"
   },
   {
    "duration": 1158,
    "start_time": "2024-07-22T05:26:52.754Z"
   },
   {
    "duration": 206,
    "start_time": "2024-07-22T05:26:53.915Z"
   },
   {
    "duration": 21,
    "start_time": "2024-07-22T05:26:54.122Z"
   },
   {
    "duration": 18,
    "start_time": "2024-07-22T05:26:54.145Z"
   },
   {
    "duration": 14,
    "start_time": "2024-07-22T05:26:54.164Z"
   },
   {
    "duration": 14,
    "start_time": "2024-07-22T05:26:54.180Z"
   },
   {
    "duration": 6,
    "start_time": "2024-07-22T05:26:54.196Z"
   },
   {
    "duration": 50,
    "start_time": "2024-07-22T05:26:54.204Z"
   },
   {
    "duration": 6,
    "start_time": "2024-07-22T05:26:54.256Z"
   },
   {
    "duration": 12,
    "start_time": "2024-07-22T05:26:54.264Z"
   },
   {
    "duration": 6,
    "start_time": "2024-07-22T05:26:54.277Z"
   },
   {
    "duration": 19,
    "start_time": "2024-07-22T05:26:54.284Z"
   },
   {
    "duration": 215,
    "start_time": "2024-07-22T05:26:54.304Z"
   },
   {
    "duration": 178,
    "start_time": "2024-07-22T05:26:54.521Z"
   },
   {
    "duration": 233,
    "start_time": "2024-07-22T05:26:54.701Z"
   },
   {
    "duration": 425,
    "start_time": "2024-07-22T05:26:54.936Z"
   },
   {
    "duration": 831,
    "start_time": "2024-07-22T05:26:55.363Z"
   },
   {
    "duration": 36,
    "start_time": "2024-07-22T05:26:56.196Z"
   },
   {
    "duration": 29,
    "start_time": "2024-07-22T05:26:56.233Z"
   },
   {
    "duration": 20,
    "start_time": "2024-07-22T05:26:56.264Z"
   },
   {
    "duration": 233,
    "start_time": "2024-07-22T05:26:56.285Z"
   },
   {
    "duration": 254,
    "start_time": "2024-07-22T05:26:56.521Z"
   },
   {
    "duration": 5,
    "start_time": "2024-07-22T05:26:56.777Z"
   },
   {
    "duration": 43,
    "start_time": "2024-07-22T05:26:56.783Z"
   },
   {
    "duration": 41,
    "start_time": "2024-07-22T05:26:56.828Z"
   },
   {
    "duration": 14,
    "start_time": "2024-07-22T05:26:56.870Z"
   },
   {
    "duration": 15,
    "start_time": "2024-07-22T05:26:56.886Z"
   },
   {
    "duration": 24,
    "start_time": "2024-07-22T05:26:56.904Z"
   },
   {
    "duration": 30,
    "start_time": "2024-07-22T05:26:56.931Z"
   },
   {
    "duration": 20,
    "start_time": "2024-07-22T05:26:56.963Z"
   },
   {
    "duration": 1094,
    "start_time": "2024-07-22T13:22:11.405Z"
   },
   {
    "duration": 554,
    "start_time": "2024-07-22T13:22:12.501Z"
   },
   {
    "duration": 20,
    "start_time": "2024-07-22T13:22:13.057Z"
   },
   {
    "duration": 17,
    "start_time": "2024-07-22T13:22:13.079Z"
   },
   {
    "duration": 14,
    "start_time": "2024-07-22T13:22:13.098Z"
   },
   {
    "duration": 34,
    "start_time": "2024-07-22T13:22:13.113Z"
   },
   {
    "duration": 6,
    "start_time": "2024-07-22T13:22:13.149Z"
   },
   {
    "duration": 12,
    "start_time": "2024-07-22T13:22:13.157Z"
   },
   {
    "duration": 16,
    "start_time": "2024-07-22T13:22:13.170Z"
   },
   {
    "duration": 10,
    "start_time": "2024-07-22T13:22:13.188Z"
   },
   {
    "duration": 8,
    "start_time": "2024-07-22T13:22:13.200Z"
   },
   {
    "duration": 9,
    "start_time": "2024-07-22T13:22:13.209Z"
   },
   {
    "duration": 194,
    "start_time": "2024-07-22T13:22:13.220Z"
   },
   {
    "duration": 164,
    "start_time": "2024-07-22T13:22:13.417Z"
   },
   {
    "duration": 232,
    "start_time": "2024-07-22T13:22:13.583Z"
   },
   {
    "duration": 400,
    "start_time": "2024-07-22T13:22:13.816Z"
   },
   {
    "duration": 772,
    "start_time": "2024-07-22T13:22:14.218Z"
   },
   {
    "duration": 42,
    "start_time": "2024-07-22T13:22:14.992Z"
   },
   {
    "duration": 17,
    "start_time": "2024-07-22T13:22:15.036Z"
   },
   {
    "duration": 17,
    "start_time": "2024-07-22T13:22:15.054Z"
   },
   {
    "duration": 220,
    "start_time": "2024-07-22T13:22:15.073Z"
   },
   {
    "duration": 220,
    "start_time": "2024-07-22T13:22:15.294Z"
   },
   {
    "duration": 4,
    "start_time": "2024-07-22T13:22:15.516Z"
   },
   {
    "duration": 41,
    "start_time": "2024-07-22T13:22:15.521Z"
   },
   {
    "duration": 23,
    "start_time": "2024-07-22T13:22:15.564Z"
   },
   {
    "duration": 15,
    "start_time": "2024-07-22T13:22:15.588Z"
   },
   {
    "duration": 6,
    "start_time": "2024-07-22T13:22:15.605Z"
   },
   {
    "duration": 6,
    "start_time": "2024-07-22T13:22:15.613Z"
   },
   {
    "duration": 15,
    "start_time": "2024-07-22T13:22:15.620Z"
   },
   {
    "duration": 12,
    "start_time": "2024-07-22T13:22:15.636Z"
   }
  ],
  "kernelspec": {
   "display_name": "Python 3 (ipykernel)",
   "language": "python",
   "name": "python3"
  },
  "language_info": {
   "codemirror_mode": {
    "name": "ipython",
    "version": 3
   },
   "file_extension": ".py",
   "mimetype": "text/x-python",
   "name": "python",
   "nbconvert_exporter": "python",
   "pygments_lexer": "ipython3",
   "version": "3.9.5"
  },
  "toc": {
   "base_numbering": 1,
   "nav_menu": {},
   "number_sections": true,
   "sideBar": true,
   "skip_h1_title": true,
   "title_cell": "Table of Contents",
   "title_sidebar": "Contents",
   "toc_cell": false,
   "toc_position": {
    "height": "calc(100% - 180px)",
    "left": "10px",
    "top": "150px",
    "width": "384px"
   },
   "toc_section_display": true,
   "toc_window_display": true
  }
 },
 "nbformat": 4,
 "nbformat_minor": 5
}
