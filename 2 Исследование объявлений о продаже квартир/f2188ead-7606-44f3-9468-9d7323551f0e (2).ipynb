{
 "cells": [
  {
   "cell_type": "markdown",
   "metadata": {},
   "source": [
    "Привет, Тимофей!\n",
    "\n",
    "Меня зовут Вячеслав Погорелый, и я буду проводить ревью твоего проекта. \n",
    "\n",
    "Предлагаю перейти на \"ты\", если не против)\n",
    "\n",
    "Но если это не удобно - дай знать, и мы перейдем на \"вы\". Моя главная задача — не находить сделанные тобою ошибки, а передать свой опыт и помочь тебе стать аналитиком данных.\n",
    "\n",
    "Я отметил комментарии и замечания разным цветом далее по тексту markdown:\n",
    "\n",
    "---    \n",
    "<div class=\"alert alert-block alert-danger\">\n",
    "    \n",
    "### Ошибка\n",
    "    \n",
    "Критическое замечание, которые следует исправить.\n",
    "</div> \n",
    "    \n",
    "---\n",
    "    \n",
    "<div class=\"alert alert-block alert-warning\">\n",
    "    \n",
    "### Совет\n",
    "    \n",
    "Замечание\\совет на будущее.\n",
    "</div>\n",
    "    \n",
    "---\n",
    "    \n",
    "<div class=\"alert alert-block alert-success\">\n",
    "    \n",
    "### Успех\n",
    "    \n",
    "Когда всё сделано правильно.\n",
    "</div>\n",
    "    \n",
    "    \n",
    "    \n",
    "Будет здорово, если для ответов ты выберешь любой **<font color=\"maroon\">читабельный и заметный цвет</font>**, так мне будет проще все проверить.\n",
    "\n",
    "\n",
    "При доработке проекта попрошу тебя сохранить и не видоизменять заметки ревьюера, это осложняет повторную проверку"
   ]
  },
  {
   "cell_type": "markdown",
   "metadata": {
    "id": "-VFbjcb3Awb7"
   },
   "source": [
    "# Исследование объявлений о продаже квартир\n",
    "\n",
    "В вашем распоряжении данные сервиса Яндекс Недвижимость — архив объявлений о продаже квартир в Санкт-Петербурге и соседних населённых пунктах за несколько лет. Вам нужно научиться определять рыночную стоимость объектов недвижимости. Для этого проведите исследовательский анализ данных и установите параметры, влияющие на цену объектов. Это позволит построить автоматизированную систему: она отследит аномалии и мошенническую деятельность.\n",
    "\n",
    "По каждой квартире на продажу доступны два вида данных. Первые вписаны пользователем, вторые — получены автоматически на основе картографических данных. Например, расстояние до центра, аэропорта и других объектов — эти данные автоматически получены из геосервисов. Количество парков и водоёмов также заполняется без участия пользователя."
   ]
  },
  {
   "cell_type": "markdown",
   "metadata": {},
   "source": [
    "<div class=\"alert alert-block alert-success\">\n",
    " \n",
    "### Комментарий ревьюера\n",
    "    \n",
    "#### Успех\n",
    "    \n",
    "Хвалю за вступление в проект. Есть подробное описание и информация о данных.\n",
    "</div "
   ]
  },
  {
   "cell_type": "markdown",
   "metadata": {},
   "source": [
    "<div class=\"alert alert-block alert-success\">\n",
    " \n",
    "# Итоговый Комментарий ревьюера ver.2 \n",
    "    \n",
    "#### Успех\n",
    "    \n",
    "Спасибо тебе за доработку проекта. Вот теперь я его готов принять. От себя я хочу пожелать успехов в дальнейшей учебе. Ты точно справишься, я уверен. "
   ]
  },
  {
   "cell_type": "markdown",
   "metadata": {
    "id": "aeFLH07FAwb9"
   },
   "source": [
    "### Откройте файл с данными и изучите общую информацию"
   ]
  },
  {
   "cell_type": "markdown",
   "metadata": {},
   "source": [
    "**Читаем csv-файл и изучаем информацию о таблице с помощью метода info():**"
   ]
  },
  {
   "cell_type": "code",
   "execution_count": 1,
   "metadata": {
    "id": "7MZxY65pAwb9",
    "scrolled": true
   },
   "outputs": [
    {
     "name": "stdout",
     "output_type": "stream",
     "text": [
      "<class 'pandas.core.frame.DataFrame'>\n",
      "RangeIndex: 23699 entries, 0 to 23698\n",
      "Data columns (total 22 columns):\n",
      " #   Column                Non-Null Count  Dtype  \n",
      "---  ------                --------------  -----  \n",
      " 0   total_images          23699 non-null  int64  \n",
      " 1   last_price            23699 non-null  float64\n",
      " 2   total_area            23699 non-null  float64\n",
      " 3   first_day_exposition  23699 non-null  object \n",
      " 4   rooms                 23699 non-null  int64  \n",
      " 5   ceiling_height        14504 non-null  float64\n",
      " 6   floors_total          23613 non-null  float64\n",
      " 7   living_area           21796 non-null  float64\n",
      " 8   floor                 23699 non-null  int64  \n",
      " 9   is_apartment          2775 non-null   object \n",
      " 10  studio                23699 non-null  bool   \n",
      " 11  open_plan             23699 non-null  bool   \n",
      " 12  kitchen_area          21421 non-null  float64\n",
      " 13  balcony               12180 non-null  float64\n",
      " 14  locality_name         23650 non-null  object \n",
      " 15  airports_nearest      18157 non-null  float64\n",
      " 16  cityCenters_nearest   18180 non-null  float64\n",
      " 17  parks_around3000      18181 non-null  float64\n",
      " 18  parks_nearest         8079 non-null   float64\n",
      " 19  ponds_around3000      18181 non-null  float64\n",
      " 20  ponds_nearest         9110 non-null   float64\n",
      " 21  days_exposition       20518 non-null  float64\n",
      "dtypes: bool(2), float64(14), int64(3), object(3)\n",
      "memory usage: 3.7+ MB\n"
     ]
    }
   ],
   "source": [
    "import pandas as pd\n",
    "import matplotlib.pyplot as plt\n",
    "\n",
    "try:\n",
    "    data = pd.read_csv('C:/real_estate_data.csv', sep = '\\t')\n",
    "except:\n",
    "    data = pd.read_csv('/datasets/real_estate_data.csv', sep = '\\t')\n",
    "data.info()"
   ]
  },
  {
   "cell_type": "code",
   "execution_count": 2,
   "metadata": {},
   "outputs": [],
   "source": [
    "# привожу название столбца к более правильному\n",
    "data = (\n",
    "    data.rename(columns \n",
    "    = {'cityCenters_nearest' : 'city_centers_nearest'})\n",
    ")"
   ]
  },
  {
   "cell_type": "markdown",
   "metadata": {},
   "source": [
    "**Ознакомляемся с первыми строками таблицы:**"
   ]
  },
  {
   "cell_type": "code",
   "execution_count": 3,
   "metadata": {},
   "outputs": [
    {
     "data": {
      "text/html": [
       "<div>\n",
       "<style scoped>\n",
       "    .dataframe tbody tr th:only-of-type {\n",
       "        vertical-align: middle;\n",
       "    }\n",
       "\n",
       "    .dataframe tbody tr th {\n",
       "        vertical-align: top;\n",
       "    }\n",
       "\n",
       "    .dataframe thead th {\n",
       "        text-align: right;\n",
       "    }\n",
       "</style>\n",
       "<table border=\"1\" class=\"dataframe\">\n",
       "  <thead>\n",
       "    <tr style=\"text-align: right;\">\n",
       "      <th></th>\n",
       "      <th>total_images</th>\n",
       "      <th>last_price</th>\n",
       "      <th>total_area</th>\n",
       "      <th>first_day_exposition</th>\n",
       "      <th>rooms</th>\n",
       "      <th>ceiling_height</th>\n",
       "      <th>floors_total</th>\n",
       "      <th>living_area</th>\n",
       "      <th>floor</th>\n",
       "      <th>is_apartment</th>\n",
       "      <th>studio</th>\n",
       "      <th>open_plan</th>\n",
       "      <th>kitchen_area</th>\n",
       "      <th>balcony</th>\n",
       "      <th>locality_name</th>\n",
       "      <th>airports_nearest</th>\n",
       "      <th>city_centers_nearest</th>\n",
       "      <th>parks_around3000</th>\n",
       "      <th>parks_nearest</th>\n",
       "      <th>ponds_around3000</th>\n",
       "      <th>ponds_nearest</th>\n",
       "      <th>days_exposition</th>\n",
       "    </tr>\n",
       "  </thead>\n",
       "  <tbody>\n",
       "    <tr>\n",
       "      <th>0</th>\n",
       "      <td>20</td>\n",
       "      <td>13000000.0</td>\n",
       "      <td>108.0</td>\n",
       "      <td>2019-03-07T00:00:00</td>\n",
       "      <td>3</td>\n",
       "      <td>2.70</td>\n",
       "      <td>16.0</td>\n",
       "      <td>51.0</td>\n",
       "      <td>8</td>\n",
       "      <td>NaN</td>\n",
       "      <td>False</td>\n",
       "      <td>False</td>\n",
       "      <td>25.0</td>\n",
       "      <td>NaN</td>\n",
       "      <td>Санкт-Петербург</td>\n",
       "      <td>18863.0</td>\n",
       "      <td>16028.0</td>\n",
       "      <td>1.0</td>\n",
       "      <td>482.0</td>\n",
       "      <td>2.0</td>\n",
       "      <td>755.0</td>\n",
       "      <td>NaN</td>\n",
       "    </tr>\n",
       "    <tr>\n",
       "      <th>1</th>\n",
       "      <td>7</td>\n",
       "      <td>3350000.0</td>\n",
       "      <td>40.4</td>\n",
       "      <td>2018-12-04T00:00:00</td>\n",
       "      <td>1</td>\n",
       "      <td>NaN</td>\n",
       "      <td>11.0</td>\n",
       "      <td>18.6</td>\n",
       "      <td>1</td>\n",
       "      <td>NaN</td>\n",
       "      <td>False</td>\n",
       "      <td>False</td>\n",
       "      <td>11.0</td>\n",
       "      <td>2.0</td>\n",
       "      <td>посёлок Шушары</td>\n",
       "      <td>12817.0</td>\n",
       "      <td>18603.0</td>\n",
       "      <td>0.0</td>\n",
       "      <td>NaN</td>\n",
       "      <td>0.0</td>\n",
       "      <td>NaN</td>\n",
       "      <td>81.0</td>\n",
       "    </tr>\n",
       "    <tr>\n",
       "      <th>2</th>\n",
       "      <td>10</td>\n",
       "      <td>5196000.0</td>\n",
       "      <td>56.0</td>\n",
       "      <td>2015-08-20T00:00:00</td>\n",
       "      <td>2</td>\n",
       "      <td>NaN</td>\n",
       "      <td>5.0</td>\n",
       "      <td>34.3</td>\n",
       "      <td>4</td>\n",
       "      <td>NaN</td>\n",
       "      <td>False</td>\n",
       "      <td>False</td>\n",
       "      <td>8.3</td>\n",
       "      <td>0.0</td>\n",
       "      <td>Санкт-Петербург</td>\n",
       "      <td>21741.0</td>\n",
       "      <td>13933.0</td>\n",
       "      <td>1.0</td>\n",
       "      <td>90.0</td>\n",
       "      <td>2.0</td>\n",
       "      <td>574.0</td>\n",
       "      <td>558.0</td>\n",
       "    </tr>\n",
       "    <tr>\n",
       "      <th>3</th>\n",
       "      <td>0</td>\n",
       "      <td>64900000.0</td>\n",
       "      <td>159.0</td>\n",
       "      <td>2015-07-24T00:00:00</td>\n",
       "      <td>3</td>\n",
       "      <td>NaN</td>\n",
       "      <td>14.0</td>\n",
       "      <td>NaN</td>\n",
       "      <td>9</td>\n",
       "      <td>NaN</td>\n",
       "      <td>False</td>\n",
       "      <td>False</td>\n",
       "      <td>NaN</td>\n",
       "      <td>0.0</td>\n",
       "      <td>Санкт-Петербург</td>\n",
       "      <td>28098.0</td>\n",
       "      <td>6800.0</td>\n",
       "      <td>2.0</td>\n",
       "      <td>84.0</td>\n",
       "      <td>3.0</td>\n",
       "      <td>234.0</td>\n",
       "      <td>424.0</td>\n",
       "    </tr>\n",
       "    <tr>\n",
       "      <th>4</th>\n",
       "      <td>2</td>\n",
       "      <td>10000000.0</td>\n",
       "      <td>100.0</td>\n",
       "      <td>2018-06-19T00:00:00</td>\n",
       "      <td>2</td>\n",
       "      <td>3.03</td>\n",
       "      <td>14.0</td>\n",
       "      <td>32.0</td>\n",
       "      <td>13</td>\n",
       "      <td>NaN</td>\n",
       "      <td>False</td>\n",
       "      <td>False</td>\n",
       "      <td>41.0</td>\n",
       "      <td>NaN</td>\n",
       "      <td>Санкт-Петербург</td>\n",
       "      <td>31856.0</td>\n",
       "      <td>8098.0</td>\n",
       "      <td>2.0</td>\n",
       "      <td>112.0</td>\n",
       "      <td>1.0</td>\n",
       "      <td>48.0</td>\n",
       "      <td>121.0</td>\n",
       "    </tr>\n",
       "  </tbody>\n",
       "</table>\n",
       "</div>"
      ],
      "text/plain": [
       "   total_images  last_price  total_area first_day_exposition  rooms  \\\n",
       "0            20  13000000.0       108.0  2019-03-07T00:00:00      3   \n",
       "1             7   3350000.0        40.4  2018-12-04T00:00:00      1   \n",
       "2            10   5196000.0        56.0  2015-08-20T00:00:00      2   \n",
       "3             0  64900000.0       159.0  2015-07-24T00:00:00      3   \n",
       "4             2  10000000.0       100.0  2018-06-19T00:00:00      2   \n",
       "\n",
       "   ceiling_height  floors_total  living_area  floor is_apartment  studio  \\\n",
       "0            2.70          16.0         51.0      8          NaN   False   \n",
       "1             NaN          11.0         18.6      1          NaN   False   \n",
       "2             NaN           5.0         34.3      4          NaN   False   \n",
       "3             NaN          14.0          NaN      9          NaN   False   \n",
       "4            3.03          14.0         32.0     13          NaN   False   \n",
       "\n",
       "   open_plan  kitchen_area  balcony    locality_name  airports_nearest  \\\n",
       "0      False          25.0      NaN  Санкт-Петербург           18863.0   \n",
       "1      False          11.0      2.0   посёлок Шушары           12817.0   \n",
       "2      False           8.3      0.0  Санкт-Петербург           21741.0   \n",
       "3      False           NaN      0.0  Санкт-Петербург           28098.0   \n",
       "4      False          41.0      NaN  Санкт-Петербург           31856.0   \n",
       "\n",
       "   city_centers_nearest  parks_around3000  parks_nearest  ponds_around3000  \\\n",
       "0               16028.0               1.0          482.0               2.0   \n",
       "1               18603.0               0.0            NaN               0.0   \n",
       "2               13933.0               1.0           90.0               2.0   \n",
       "3                6800.0               2.0           84.0               3.0   \n",
       "4                8098.0               2.0          112.0               1.0   \n",
       "\n",
       "   ponds_nearest  days_exposition  \n",
       "0          755.0              NaN  \n",
       "1            NaN             81.0  \n",
       "2          574.0            558.0  \n",
       "3          234.0            424.0  \n",
       "4           48.0            121.0  "
      ]
     },
     "execution_count": 3,
     "metadata": {},
     "output_type": "execute_result"
    }
   ],
   "source": [
    "pd.set_option('display.max_columns', None)\n",
    "data.head()"
   ]
  },
  {
   "cell_type": "markdown",
   "metadata": {},
   "source": [
    "<div class=\"alert alert-block alert-success\">\n",
    " \n",
    "### Комментарий ревьюера\n",
    "    \n",
    "#### Успех\n",
    "    \n",
    "Первичная информация о данных получена. Отлично"
   ]
  },
  {
   "cell_type": "markdown",
   "metadata": {},
   "source": [
    "**Строим гистограммы для числовых столбцов таблицы и получаем числовое описание данных методом describe():**"
   ]
  },
  {
   "cell_type": "code",
   "execution_count": 4,
   "metadata": {
    "scrolled": true
   },
   "outputs": [
    {
     "name": "stdout",
     "output_type": "stream",
     "text": [
      "Графики для различных метрик квартир с Яндекс Недвижимости: \n"
     ]
    },
    {
     "data": {
      "image/png": "[encoded data removed]",
      "text/plain": [
       "<Figure size 1080x1440 with 20 Axes>"
      ]
     },
     "metadata": {
      "needs_background": "light"
     },
     "output_type": "display_data"
    }
   ],
   "source": [
    "data.hist(figsize=(15, 20))\n",
    "print('Графики для различных метрик квартир с Яндекс Недвижимости: ')"
   ]
  },
  {
   "cell_type": "code",
   "execution_count": 5,
   "metadata": {},
   "outputs": [
    {
     "data": {
      "text/html": [
       "<div>\n",
       "<style scoped>\n",
       "    .dataframe tbody tr th:only-of-type {\n",
       "        vertical-align: middle;\n",
       "    }\n",
       "\n",
       "    .dataframe tbody tr th {\n",
       "        vertical-align: top;\n",
       "    }\n",
       "\n",
       "    .dataframe thead th {\n",
       "        text-align: right;\n",
       "    }\n",
       "</style>\n",
       "<table border=\"1\" class=\"dataframe\">\n",
       "  <thead>\n",
       "    <tr style=\"text-align: right;\">\n",
       "      <th></th>\n",
       "      <th>total_images</th>\n",
       "      <th>last_price</th>\n",
       "      <th>total_area</th>\n",
       "      <th>rooms</th>\n",
       "      <th>ceiling_height</th>\n",
       "      <th>floors_total</th>\n",
       "      <th>living_area</th>\n",
       "      <th>floor</th>\n",
       "      <th>kitchen_area</th>\n",
       "      <th>balcony</th>\n",
       "      <th>airports_nearest</th>\n",
       "      <th>city_centers_nearest</th>\n",
       "      <th>parks_around3000</th>\n",
       "      <th>parks_nearest</th>\n",
       "      <th>ponds_around3000</th>\n",
       "      <th>ponds_nearest</th>\n",
       "      <th>days_exposition</th>\n",
       "    </tr>\n",
       "  </thead>\n",
       "  <tbody>\n",
       "    <tr>\n",
       "      <th>count</th>\n",
       "      <td>23699.000000</td>\n",
       "      <td>2.369900e+04</td>\n",
       "      <td>23699.000000</td>\n",
       "      <td>23699.000000</td>\n",
       "      <td>14504.000000</td>\n",
       "      <td>23613.000000</td>\n",
       "      <td>21796.000000</td>\n",
       "      <td>23699.000000</td>\n",
       "      <td>21421.000000</td>\n",
       "      <td>12180.000000</td>\n",
       "      <td>18157.000000</td>\n",
       "      <td>18180.000000</td>\n",
       "      <td>18181.000000</td>\n",
       "      <td>8079.000000</td>\n",
       "      <td>18181.000000</td>\n",
       "      <td>9110.000000</td>\n",
       "      <td>20518.000000</td>\n",
       "    </tr>\n",
       "    <tr>\n",
       "      <th>mean</th>\n",
       "      <td>9.858475</td>\n",
       "      <td>6.541549e+06</td>\n",
       "      <td>60.348651</td>\n",
       "      <td>2.070636</td>\n",
       "      <td>2.771499</td>\n",
       "      <td>10.673824</td>\n",
       "      <td>34.457852</td>\n",
       "      <td>5.892358</td>\n",
       "      <td>10.569807</td>\n",
       "      <td>1.150082</td>\n",
       "      <td>28793.672193</td>\n",
       "      <td>14191.277833</td>\n",
       "      <td>0.611408</td>\n",
       "      <td>490.804555</td>\n",
       "      <td>0.770255</td>\n",
       "      <td>517.980900</td>\n",
       "      <td>180.888634</td>\n",
       "    </tr>\n",
       "    <tr>\n",
       "      <th>std</th>\n",
       "      <td>5.682529</td>\n",
       "      <td>1.088701e+07</td>\n",
       "      <td>35.654083</td>\n",
       "      <td>1.078405</td>\n",
       "      <td>1.261056</td>\n",
       "      <td>6.597173</td>\n",
       "      <td>22.030445</td>\n",
       "      <td>4.885249</td>\n",
       "      <td>5.905438</td>\n",
       "      <td>1.071300</td>\n",
       "      <td>12630.880622</td>\n",
       "      <td>8608.386210</td>\n",
       "      <td>0.802074</td>\n",
       "      <td>342.317995</td>\n",
       "      <td>0.938346</td>\n",
       "      <td>277.720643</td>\n",
       "      <td>219.727988</td>\n",
       "    </tr>\n",
       "    <tr>\n",
       "      <th>min</th>\n",
       "      <td>0.000000</td>\n",
       "      <td>1.219000e+04</td>\n",
       "      <td>12.000000</td>\n",
       "      <td>0.000000</td>\n",
       "      <td>1.000000</td>\n",
       "      <td>1.000000</td>\n",
       "      <td>2.000000</td>\n",
       "      <td>1.000000</td>\n",
       "      <td>1.300000</td>\n",
       "      <td>0.000000</td>\n",
       "      <td>0.000000</td>\n",
       "      <td>181.000000</td>\n",
       "      <td>0.000000</td>\n",
       "      <td>1.000000</td>\n",
       "      <td>0.000000</td>\n",
       "      <td>13.000000</td>\n",
       "      <td>1.000000</td>\n",
       "    </tr>\n",
       "    <tr>\n",
       "      <th>25%</th>\n",
       "      <td>6.000000</td>\n",
       "      <td>3.400000e+06</td>\n",
       "      <td>40.000000</td>\n",
       "      <td>1.000000</td>\n",
       "      <td>2.520000</td>\n",
       "      <td>5.000000</td>\n",
       "      <td>18.600000</td>\n",
       "      <td>2.000000</td>\n",
       "      <td>7.000000</td>\n",
       "      <td>0.000000</td>\n",
       "      <td>18585.000000</td>\n",
       "      <td>9238.000000</td>\n",
       "      <td>0.000000</td>\n",
       "      <td>288.000000</td>\n",
       "      <td>0.000000</td>\n",
       "      <td>294.000000</td>\n",
       "      <td>45.000000</td>\n",
       "    </tr>\n",
       "    <tr>\n",
       "      <th>50%</th>\n",
       "      <td>9.000000</td>\n",
       "      <td>4.650000e+06</td>\n",
       "      <td>52.000000</td>\n",
       "      <td>2.000000</td>\n",
       "      <td>2.650000</td>\n",
       "      <td>9.000000</td>\n",
       "      <td>30.000000</td>\n",
       "      <td>4.000000</td>\n",
       "      <td>9.100000</td>\n",
       "      <td>1.000000</td>\n",
       "      <td>26726.000000</td>\n",
       "      <td>13098.500000</td>\n",
       "      <td>0.000000</td>\n",
       "      <td>455.000000</td>\n",
       "      <td>1.000000</td>\n",
       "      <td>502.000000</td>\n",
       "      <td>95.000000</td>\n",
       "    </tr>\n",
       "    <tr>\n",
       "      <th>75%</th>\n",
       "      <td>14.000000</td>\n",
       "      <td>6.800000e+06</td>\n",
       "      <td>69.900000</td>\n",
       "      <td>3.000000</td>\n",
       "      <td>2.800000</td>\n",
       "      <td>16.000000</td>\n",
       "      <td>42.300000</td>\n",
       "      <td>8.000000</td>\n",
       "      <td>12.000000</td>\n",
       "      <td>2.000000</td>\n",
       "      <td>37273.000000</td>\n",
       "      <td>16293.000000</td>\n",
       "      <td>1.000000</td>\n",
       "      <td>612.000000</td>\n",
       "      <td>1.000000</td>\n",
       "      <td>729.000000</td>\n",
       "      <td>232.000000</td>\n",
       "    </tr>\n",
       "    <tr>\n",
       "      <th>max</th>\n",
       "      <td>50.000000</td>\n",
       "      <td>7.630000e+08</td>\n",
       "      <td>900.000000</td>\n",
       "      <td>19.000000</td>\n",
       "      <td>100.000000</td>\n",
       "      <td>60.000000</td>\n",
       "      <td>409.700000</td>\n",
       "      <td>33.000000</td>\n",
       "      <td>112.000000</td>\n",
       "      <td>5.000000</td>\n",
       "      <td>84869.000000</td>\n",
       "      <td>65968.000000</td>\n",
       "      <td>3.000000</td>\n",
       "      <td>3190.000000</td>\n",
       "      <td>3.000000</td>\n",
       "      <td>1344.000000</td>\n",
       "      <td>1580.000000</td>\n",
       "    </tr>\n",
       "  </tbody>\n",
       "</table>\n",
       "</div>"
      ],
      "text/plain": [
       "       total_images    last_price    total_area         rooms  ceiling_height  \\\n",
       "count  23699.000000  2.369900e+04  23699.000000  23699.000000    14504.000000   \n",
       "mean       9.858475  6.541549e+06     60.348651      2.070636        2.771499   \n",
       "std        5.682529  1.088701e+07     35.654083      1.078405        1.261056   \n",
       "min        0.000000  1.219000e+04     12.000000      0.000000        1.000000   \n",
       "25%        6.000000  3.400000e+06     40.000000      1.000000        2.520000   \n",
       "50%        9.000000  4.650000e+06     52.000000      2.000000        2.650000   \n",
       "75%       14.000000  6.800000e+06     69.900000      3.000000        2.800000   \n",
       "max       50.000000  7.630000e+08    900.000000     19.000000      100.000000   \n",
       "\n",
       "       floors_total   living_area         floor  kitchen_area       balcony  \\\n",
       "count  23613.000000  21796.000000  23699.000000  21421.000000  12180.000000   \n",
       "mean      10.673824     34.457852      5.892358     10.569807      1.150082   \n",
       "std        6.597173     22.030445      4.885249      5.905438      1.071300   \n",
       "min        1.000000      2.000000      1.000000      1.300000      0.000000   \n",
       "25%        5.000000     18.600000      2.000000      7.000000      0.000000   \n",
       "50%        9.000000     30.000000      4.000000      9.100000      1.000000   \n",
       "75%       16.000000     42.300000      8.000000     12.000000      2.000000   \n",
       "max       60.000000    409.700000     33.000000    112.000000      5.000000   \n",
       "\n",
       "       airports_nearest  city_centers_nearest  parks_around3000  \\\n",
       "count      18157.000000          18180.000000      18181.000000   \n",
       "mean       28793.672193          14191.277833          0.611408   \n",
       "std        12630.880622           8608.386210          0.802074   \n",
       "min            0.000000            181.000000          0.000000   \n",
       "25%        18585.000000           9238.000000          0.000000   \n",
       "50%        26726.000000          13098.500000          0.000000   \n",
       "75%        37273.000000          16293.000000          1.000000   \n",
       "max        84869.000000          65968.000000          3.000000   \n",
       "\n",
       "       parks_nearest  ponds_around3000  ponds_nearest  days_exposition  \n",
       "count    8079.000000      18181.000000    9110.000000     20518.000000  \n",
       "mean      490.804555          0.770255     517.980900       180.888634  \n",
       "std       342.317995          0.938346     277.720643       219.727988  \n",
       "min         1.000000          0.000000      13.000000         1.000000  \n",
       "25%       288.000000          0.000000     294.000000        45.000000  \n",
       "50%       455.000000          1.000000     502.000000        95.000000  \n",
       "75%       612.000000          1.000000     729.000000       232.000000  \n",
       "max      3190.000000          3.000000    1344.000000      1580.000000  "
      ]
     },
     "execution_count": 5,
     "metadata": {},
     "output_type": "execute_result"
    }
   ],
   "source": [
    "data.describe()"
   ]
  },
  {
   "cell_type": "markdown",
   "metadata": {},
   "source": [
    "**Вывод: В таблице много пропущенных значений, которые придется обработать. У многих столбцов неверные типы данных. По гистограммам можно сказать, что в некоторых числовых столбцах есть аномалии.**"
   ]
  },
  {
   "cell_type": "markdown",
   "metadata": {},
   "source": [
    "<div class=\"alert alert-block alert-success\">\n",
    " \n",
    "### Комментарий ревьюера\n",
    "    \n",
    "#### Успех\n",
    "    \n",
    "Хорошее начало проекта. Отдельно выделю последовательность и лаконичность. Мы наметили небольшой план дальнейших действий. "
   ]
  },
  {
   "cell_type": "markdown",
   "metadata": {
    "id": "-O5NtivEAwb9"
   },
   "source": [
    "### Выполните предобработку данных"
   ]
  },
  {
   "cell_type": "markdown",
   "metadata": {},
   "source": [
    "#### Удаление пропусков"
   ]
  },
  {
   "cell_type": "markdown",
   "metadata": {},
   "source": [
    "**Получим данные о количестве пропусков с помощью поочередного применения функций isna() и sum():**"
   ]
  },
  {
   "cell_type": "code",
   "execution_count": 6,
   "metadata": {
    "scrolled": true
   },
   "outputs": [
    {
     "data": {
      "text/plain": [
       "total_images                0\n",
       "last_price                  0\n",
       "total_area                  0\n",
       "first_day_exposition        0\n",
       "rooms                       0\n",
       "ceiling_height           9195\n",
       "floors_total               86\n",
       "living_area              1903\n",
       "floor                       0\n",
       "is_apartment            20924\n",
       "studio                      0\n",
       "open_plan                   0\n",
       "kitchen_area             2278\n",
       "balcony                 11519\n",
       "locality_name              49\n",
       "airports_nearest         5542\n",
       "city_centers_nearest     5519\n",
       "parks_around3000         5518\n",
       "parks_nearest           15620\n",
       "ponds_around3000         5518\n",
       "ponds_nearest           14589\n",
       "days_exposition          3181\n",
       "dtype: int64"
      ]
     },
     "execution_count": 6,
     "metadata": {},
     "output_type": "execute_result"
    }
   ],
   "source": [
    "data.isna().sum()"
   ]
  },
  {
   "cell_type": "markdown",
   "metadata": {},
   "source": [
    "<div class=\"alert alert-block alert-warning\">\n",
    " \n",
    "### Комментарий ревьюера\n",
    "    \n",
    "#### Совет\n",
    "    \n",
    "Для визуализации пропусков используй https://russianblogs.com/article/5001266235/ "
   ]
  },
  {
   "cell_type": "markdown",
   "metadata": {},
   "source": [
    "**Раз продавец не указал число балконов, то, скорее всего, в его квартире их нет. Заменим пропуски на 0.**"
   ]
  },
  {
   "cell_type": "code",
   "execution_count": 7,
   "metadata": {},
   "outputs": [],
   "source": [
    "data['balcony'] = data['balcony'].fillna(0)"
   ]
  },
  {
   "cell_type": "markdown",
   "metadata": {},
   "source": [
    "<div class=\"alert alert-block alert-success\">\n",
    " \n",
    "### Комментарий ревьюера\n",
    "    \n",
    "#### Успех\n",
    "    \n",
    "Согласен. Раз балконы не указали, то их могло и не быть"
   ]
  },
  {
   "cell_type": "markdown",
   "metadata": {},
   "source": [
    "**Пропущенные значения в столбце 'floors_total' заменим, умножив этаж квартиры на медиану отношения этажа квартиры к этажности здания в остальных объявлениях.**"
   ]
  },
  {
   "cell_type": "code",
   "execution_count": 8,
   "metadata": {},
   "outputs": [],
   "source": [
    "floor_to_floors_ratio = (data['floor'] / data['floors_total']).median()\n",
    "data['floors_total'] = data['floors_total'].fillna(data['floor'] * floor_to_floors_ratio)"
   ]
  },
  {
   "cell_type": "markdown",
   "metadata": {},
   "source": [
    "<div class=\"alert alert-block alert-success\">\n",
    " \n",
    "### Комментарий ревьюера\n",
    "    \n",
    "#### Успех\n",
    "    \n",
    "Разумное решение воспользоваться коэффицентом"
   ]
  },
  {
   "cell_type": "markdown",
   "metadata": {},
   "source": [
    "**Похожим образом поступим с 'living_area ' и 'kitchen_area': рассчитаем их пропуски из медианы отношения жилой площади и площади кухни соотвественно к общей площади квартиры. Пропуски здесь, как и во floors_total', вероятно появились потому, что владелец квартиры не оставил данных**"
   ]
  },
  {
   "cell_type": "code",
   "execution_count": 9,
   "metadata": {},
   "outputs": [],
   "source": [
    "kitchen_to_total_ratio = (data['kitchen_area'] / data['total_area']).median()\n",
    "data['kitchen_area'] = data['kitchen_area'].fillna(data['total_area'] * kitchen_to_total_ratio)\n",
    "\n",
    "living_to_total_ratio = (data['living_area'] / data['total_area']).median()\n",
    "data['living_area'] = data['living_area'].fillna(data['total_area'] * living_to_total_ratio)"
   ]
  },
  {
   "cell_type": "markdown",
   "metadata": {},
   "source": [
    "**Эксперимент ниже доказывает, что пропуски в ponds_around3000, parks_around3000 и city_centers_nearest находятся в одних и тех же строках. К тому же их число совпадает. Исходя из этого можно утверждать, что они не значат отсутствие пруда или парка в радиусе 3000 метров. Их нельзя заменить на 0, и на что-либо еще**"
   ]
  },
  {
   "cell_type": "code",
   "execution_count": 10,
   "metadata": {},
   "outputs": [
    {
     "data": {
      "text/plain": [
       "5518"
      ]
     },
     "execution_count": 10,
     "metadata": {},
     "output_type": "execute_result"
    }
   ],
   "source": [
    "data_experiment = data.query('ponds_around3000.isna() and parks_around3000.isna() and city_centers_nearest.isna()')\n",
    "len(data_experiment)"
   ]
  },
  {
   "cell_type": "markdown",
   "metadata": {},
   "source": [
    "**Название населенного пункта отсутствует, но в этих же строках есть другие ценные картографические данные. Считаю не правильным удалять эти строки, данные из них могут пригодиться.**"
   ]
  },
  {
   "cell_type": "code",
   "execution_count": 11,
   "metadata": {},
   "outputs": [
    {
     "data": {
      "text/html": [
       "<div>\n",
       "<style scoped>\n",
       "    .dataframe tbody tr th:only-of-type {\n",
       "        vertical-align: middle;\n",
       "    }\n",
       "\n",
       "    .dataframe tbody tr th {\n",
       "        vertical-align: top;\n",
       "    }\n",
       "\n",
       "    .dataframe thead th {\n",
       "        text-align: right;\n",
       "    }\n",
       "</style>\n",
       "<table border=\"1\" class=\"dataframe\">\n",
       "  <thead>\n",
       "    <tr style=\"text-align: right;\">\n",
       "      <th></th>\n",
       "      <th>total_images</th>\n",
       "      <th>last_price</th>\n",
       "      <th>total_area</th>\n",
       "      <th>first_day_exposition</th>\n",
       "      <th>rooms</th>\n",
       "      <th>ceiling_height</th>\n",
       "      <th>floors_total</th>\n",
       "      <th>living_area</th>\n",
       "      <th>floor</th>\n",
       "      <th>is_apartment</th>\n",
       "      <th>studio</th>\n",
       "      <th>open_plan</th>\n",
       "      <th>kitchen_area</th>\n",
       "      <th>balcony</th>\n",
       "      <th>locality_name</th>\n",
       "      <th>airports_nearest</th>\n",
       "      <th>city_centers_nearest</th>\n",
       "      <th>parks_around3000</th>\n",
       "      <th>parks_nearest</th>\n",
       "      <th>ponds_around3000</th>\n",
       "      <th>ponds_nearest</th>\n",
       "      <th>days_exposition</th>\n",
       "    </tr>\n",
       "  </thead>\n",
       "  <tbody>\n",
       "    <tr>\n",
       "      <th>1097</th>\n",
       "      <td>3</td>\n",
       "      <td>8600000.0</td>\n",
       "      <td>81.7</td>\n",
       "      <td>2016-04-15T00:00:00</td>\n",
       "      <td>3</td>\n",
       "      <td>3.55</td>\n",
       "      <td>5.0</td>\n",
       "      <td>50.800000</td>\n",
       "      <td>2</td>\n",
       "      <td>NaN</td>\n",
       "      <td>False</td>\n",
       "      <td>False</td>\n",
       "      <td>8.800000</td>\n",
       "      <td>0.0</td>\n",
       "      <td>NaN</td>\n",
       "      <td>23478.0</td>\n",
       "      <td>4258.0</td>\n",
       "      <td>0.0</td>\n",
       "      <td>NaN</td>\n",
       "      <td>0.0</td>\n",
       "      <td>NaN</td>\n",
       "      <td>147.0</td>\n",
       "    </tr>\n",
       "    <tr>\n",
       "      <th>2033</th>\n",
       "      <td>6</td>\n",
       "      <td>5398000.0</td>\n",
       "      <td>80.0</td>\n",
       "      <td>2017-05-30T00:00:00</td>\n",
       "      <td>3</td>\n",
       "      <td>NaN</td>\n",
       "      <td>4.0</td>\n",
       "      <td>42.600000</td>\n",
       "      <td>2</td>\n",
       "      <td>NaN</td>\n",
       "      <td>False</td>\n",
       "      <td>False</td>\n",
       "      <td>18.600000</td>\n",
       "      <td>0.0</td>\n",
       "      <td>NaN</td>\n",
       "      <td>NaN</td>\n",
       "      <td>NaN</td>\n",
       "      <td>NaN</td>\n",
       "      <td>NaN</td>\n",
       "      <td>NaN</td>\n",
       "      <td>NaN</td>\n",
       "      <td>34.0</td>\n",
       "    </tr>\n",
       "    <tr>\n",
       "      <th>2603</th>\n",
       "      <td>20</td>\n",
       "      <td>3351765.0</td>\n",
       "      <td>42.7</td>\n",
       "      <td>2015-09-20T00:00:00</td>\n",
       "      <td>1</td>\n",
       "      <td>NaN</td>\n",
       "      <td>24.0</td>\n",
       "      <td>15.600000</td>\n",
       "      <td>3</td>\n",
       "      <td>NaN</td>\n",
       "      <td>False</td>\n",
       "      <td>False</td>\n",
       "      <td>10.700000</td>\n",
       "      <td>0.0</td>\n",
       "      <td>NaN</td>\n",
       "      <td>22041.0</td>\n",
       "      <td>17369.0</td>\n",
       "      <td>0.0</td>\n",
       "      <td>NaN</td>\n",
       "      <td>1.0</td>\n",
       "      <td>374.0</td>\n",
       "      <td>276.0</td>\n",
       "    </tr>\n",
       "    <tr>\n",
       "      <th>2632</th>\n",
       "      <td>2</td>\n",
       "      <td>5130593.0</td>\n",
       "      <td>62.4</td>\n",
       "      <td>2015-10-11T00:00:00</td>\n",
       "      <td>2</td>\n",
       "      <td>NaN</td>\n",
       "      <td>24.0</td>\n",
       "      <td>33.100000</td>\n",
       "      <td>21</td>\n",
       "      <td>NaN</td>\n",
       "      <td>False</td>\n",
       "      <td>False</td>\n",
       "      <td>8.200000</td>\n",
       "      <td>0.0</td>\n",
       "      <td>NaN</td>\n",
       "      <td>22041.0</td>\n",
       "      <td>17369.0</td>\n",
       "      <td>0.0</td>\n",
       "      <td>NaN</td>\n",
       "      <td>1.0</td>\n",
       "      <td>374.0</td>\n",
       "      <td>256.0</td>\n",
       "    </tr>\n",
       "    <tr>\n",
       "      <th>3574</th>\n",
       "      <td>10</td>\n",
       "      <td>4200000.0</td>\n",
       "      <td>46.5</td>\n",
       "      <td>2016-05-28T00:00:00</td>\n",
       "      <td>2</td>\n",
       "      <td>NaN</td>\n",
       "      <td>5.0</td>\n",
       "      <td>30.800000</td>\n",
       "      <td>5</td>\n",
       "      <td>NaN</td>\n",
       "      <td>False</td>\n",
       "      <td>False</td>\n",
       "      <td>6.500000</td>\n",
       "      <td>0.0</td>\n",
       "      <td>NaN</td>\n",
       "      <td>27419.0</td>\n",
       "      <td>8127.0</td>\n",
       "      <td>0.0</td>\n",
       "      <td>NaN</td>\n",
       "      <td>1.0</td>\n",
       "      <td>603.0</td>\n",
       "      <td>45.0</td>\n",
       "    </tr>\n",
       "    <tr>\n",
       "      <th>4151</th>\n",
       "      <td>17</td>\n",
       "      <td>17600000.0</td>\n",
       "      <td>89.5</td>\n",
       "      <td>2014-12-09T00:00:00</td>\n",
       "      <td>2</td>\n",
       "      <td>3.00</td>\n",
       "      <td>8.0</td>\n",
       "      <td>39.620000</td>\n",
       "      <td>7</td>\n",
       "      <td>NaN</td>\n",
       "      <td>False</td>\n",
       "      <td>False</td>\n",
       "      <td>13.380000</td>\n",
       "      <td>0.0</td>\n",
       "      <td>NaN</td>\n",
       "      <td>25054.0</td>\n",
       "      <td>3902.0</td>\n",
       "      <td>1.0</td>\n",
       "      <td>485.0</td>\n",
       "      <td>3.0</td>\n",
       "      <td>722.0</td>\n",
       "      <td>869.0</td>\n",
       "    </tr>\n",
       "    <tr>\n",
       "      <th>4189</th>\n",
       "      <td>7</td>\n",
       "      <td>9200000.0</td>\n",
       "      <td>80.0</td>\n",
       "      <td>2015-12-10T00:00:00</td>\n",
       "      <td>3</td>\n",
       "      <td>4.00</td>\n",
       "      <td>4.0</td>\n",
       "      <td>52.300000</td>\n",
       "      <td>3</td>\n",
       "      <td>False</td>\n",
       "      <td>False</td>\n",
       "      <td>False</td>\n",
       "      <td>10.400000</td>\n",
       "      <td>0.0</td>\n",
       "      <td>NaN</td>\n",
       "      <td>21774.0</td>\n",
       "      <td>3039.0</td>\n",
       "      <td>1.0</td>\n",
       "      <td>690.0</td>\n",
       "      <td>1.0</td>\n",
       "      <td>953.0</td>\n",
       "      <td>223.0</td>\n",
       "    </tr>\n",
       "    <tr>\n",
       "      <th>4670</th>\n",
       "      <td>1</td>\n",
       "      <td>5500000.0</td>\n",
       "      <td>83.0</td>\n",
       "      <td>2015-08-14T00:00:00</td>\n",
       "      <td>3</td>\n",
       "      <td>NaN</td>\n",
       "      <td>7.0</td>\n",
       "      <td>47.132372</td>\n",
       "      <td>6</td>\n",
       "      <td>NaN</td>\n",
       "      <td>False</td>\n",
       "      <td>False</td>\n",
       "      <td>14.310345</td>\n",
       "      <td>0.0</td>\n",
       "      <td>NaN</td>\n",
       "      <td>26534.0</td>\n",
       "      <td>5382.0</td>\n",
       "      <td>1.0</td>\n",
       "      <td>446.0</td>\n",
       "      <td>1.0</td>\n",
       "      <td>376.0</td>\n",
       "      <td>350.0</td>\n",
       "    </tr>\n",
       "    <tr>\n",
       "      <th>5343</th>\n",
       "      <td>19</td>\n",
       "      <td>13540000.0</td>\n",
       "      <td>85.5</td>\n",
       "      <td>2016-01-20T00:00:00</td>\n",
       "      <td>3</td>\n",
       "      <td>NaN</td>\n",
       "      <td>7.0</td>\n",
       "      <td>59.100000</td>\n",
       "      <td>5</td>\n",
       "      <td>False</td>\n",
       "      <td>False</td>\n",
       "      <td>False</td>\n",
       "      <td>8.300000</td>\n",
       "      <td>4.0</td>\n",
       "      <td>NaN</td>\n",
       "      <td>10556.0</td>\n",
       "      <td>9538.0</td>\n",
       "      <td>1.0</td>\n",
       "      <td>67.0</td>\n",
       "      <td>0.0</td>\n",
       "      <td>NaN</td>\n",
       "      <td>303.0</td>\n",
       "    </tr>\n",
       "    <tr>\n",
       "      <th>5707</th>\n",
       "      <td>7</td>\n",
       "      <td>3700000.0</td>\n",
       "      <td>30.0</td>\n",
       "      <td>2016-04-29T00:00:00</td>\n",
       "      <td>1</td>\n",
       "      <td>NaN</td>\n",
       "      <td>24.0</td>\n",
       "      <td>20.000000</td>\n",
       "      <td>23</td>\n",
       "      <td>NaN</td>\n",
       "      <td>False</td>\n",
       "      <td>False</td>\n",
       "      <td>5.172414</td>\n",
       "      <td>0.0</td>\n",
       "      <td>NaN</td>\n",
       "      <td>21460.0</td>\n",
       "      <td>16788.0</td>\n",
       "      <td>0.0</td>\n",
       "      <td>NaN</td>\n",
       "      <td>1.0</td>\n",
       "      <td>170.0</td>\n",
       "      <td>49.0</td>\n",
       "    </tr>\n",
       "  </tbody>\n",
       "</table>\n",
       "</div>"
      ],
      "text/plain": [
       "      total_images  last_price  total_area first_day_exposition  rooms  \\\n",
       "1097             3   8600000.0        81.7  2016-04-15T00:00:00      3   \n",
       "2033             6   5398000.0        80.0  2017-05-30T00:00:00      3   \n",
       "2603            20   3351765.0        42.7  2015-09-20T00:00:00      1   \n",
       "2632             2   5130593.0        62.4  2015-10-11T00:00:00      2   \n",
       "3574            10   4200000.0        46.5  2016-05-28T00:00:00      2   \n",
       "4151            17  17600000.0        89.5  2014-12-09T00:00:00      2   \n",
       "4189             7   9200000.0        80.0  2015-12-10T00:00:00      3   \n",
       "4670             1   5500000.0        83.0  2015-08-14T00:00:00      3   \n",
       "5343            19  13540000.0        85.5  2016-01-20T00:00:00      3   \n",
       "5707             7   3700000.0        30.0  2016-04-29T00:00:00      1   \n",
       "\n",
       "      ceiling_height  floors_total  living_area  floor is_apartment  studio  \\\n",
       "1097            3.55           5.0    50.800000      2          NaN   False   \n",
       "2033             NaN           4.0    42.600000      2          NaN   False   \n",
       "2603             NaN          24.0    15.600000      3          NaN   False   \n",
       "2632             NaN          24.0    33.100000     21          NaN   False   \n",
       "3574             NaN           5.0    30.800000      5          NaN   False   \n",
       "4151            3.00           8.0    39.620000      7          NaN   False   \n",
       "4189            4.00           4.0    52.300000      3        False   False   \n",
       "4670             NaN           7.0    47.132372      6          NaN   False   \n",
       "5343             NaN           7.0    59.100000      5        False   False   \n",
       "5707             NaN          24.0    20.000000     23          NaN   False   \n",
       "\n",
       "      open_plan  kitchen_area  balcony locality_name  airports_nearest  \\\n",
       "1097      False      8.800000      0.0           NaN           23478.0   \n",
       "2033      False     18.600000      0.0           NaN               NaN   \n",
       "2603      False     10.700000      0.0           NaN           22041.0   \n",
       "2632      False      8.200000      0.0           NaN           22041.0   \n",
       "3574      False      6.500000      0.0           NaN           27419.0   \n",
       "4151      False     13.380000      0.0           NaN           25054.0   \n",
       "4189      False     10.400000      0.0           NaN           21774.0   \n",
       "4670      False     14.310345      0.0           NaN           26534.0   \n",
       "5343      False      8.300000      4.0           NaN           10556.0   \n",
       "5707      False      5.172414      0.0           NaN           21460.0   \n",
       "\n",
       "      city_centers_nearest  parks_around3000  parks_nearest  ponds_around3000  \\\n",
       "1097                4258.0               0.0            NaN               0.0   \n",
       "2033                   NaN               NaN            NaN               NaN   \n",
       "2603               17369.0               0.0            NaN               1.0   \n",
       "2632               17369.0               0.0            NaN               1.0   \n",
       "3574                8127.0               0.0            NaN               1.0   \n",
       "4151                3902.0               1.0          485.0               3.0   \n",
       "4189                3039.0               1.0          690.0               1.0   \n",
       "4670                5382.0               1.0          446.0               1.0   \n",
       "5343                9538.0               1.0           67.0               0.0   \n",
       "5707               16788.0               0.0            NaN               1.0   \n",
       "\n",
       "      ponds_nearest  days_exposition  \n",
       "1097            NaN            147.0  \n",
       "2033            NaN             34.0  \n",
       "2603          374.0            276.0  \n",
       "2632          374.0            256.0  \n",
       "3574          603.0             45.0  \n",
       "4151          722.0            869.0  \n",
       "4189          953.0            223.0  \n",
       "4670          376.0            350.0  \n",
       "5343            NaN            303.0  \n",
       "5707          170.0             49.0  "
      ]
     },
     "execution_count": 11,
     "metadata": {},
     "output_type": "execute_result"
    }
   ],
   "source": [
    "data.query('locality_name.isna()').head(10) "
   ]
  },
  {
   "cell_type": "markdown",
   "metadata": {},
   "source": [
    "**В столбце апартаментов очень много пропусков. Тип данных неправильный. False'ов намного больше, но заменить все недостающие значения на False тоже считаю не правильным, ведь есть шанс что это действительно апартаменты, просто данные по какой-то причине отсутствуют. Ко всему прочему, этот столбец никак не задействован в наших исследованиях. Стоит его удалить.**"
   ]
  },
  {
   "cell_type": "code",
   "execution_count": 12,
   "metadata": {},
   "outputs": [
    {
     "name": "stdout",
     "output_type": "stream",
     "text": [
      "is_apartment\n",
      "False    2725\n",
      "True       50\n",
      "Name: rooms, dtype: int64\n"
     ]
    }
   ],
   "source": [
    "print(data.groupby('is_apartment')['rooms'].count())\n",
    "del data['is_apartment']\n"
   ]
  },
  {
   "cell_type": "markdown",
   "metadata": {
    "id": "7v3vAeTuAwb-"
   },
   "source": [
    "**Пропуски в картографических данных скорее всего имеют технический характер. Количество дней размещения объявления может быть не указано из-за того, что объявление было все еще размещено на момент сбора данных. В данных о высоте потолков пропуски вероятно потому, что владелец не оставил данных. Я решил ничего с ними не делать, чтобы не искажать данные.**\n",
    "\n",
    "**Оценим изменения количества пропусков в таблице:**"
   ]
  },
  {
   "cell_type": "markdown",
   "metadata": {},
   "source": [
    "<div class=\"alert alert-block alert-success\">\n",
    " \n",
    "### Комментарий ревьюера\n",
    "    \n",
    "#### Успех\n",
    "    \n",
    "С причиной появления пропусков в этом случае соглашусь. Такое часто бывает на реальных данных"
   ]
  },
  {
   "cell_type": "code",
   "execution_count": 13,
   "metadata": {},
   "outputs": [
    {
     "data": {
      "text/plain": [
       "total_images                0\n",
       "last_price                  0\n",
       "total_area                  0\n",
       "first_day_exposition        0\n",
       "rooms                       0\n",
       "ceiling_height           9195\n",
       "floors_total                0\n",
       "living_area                 0\n",
       "floor                       0\n",
       "studio                      0\n",
       "open_plan                   0\n",
       "kitchen_area                0\n",
       "balcony                     0\n",
       "locality_name              49\n",
       "airports_nearest         5542\n",
       "city_centers_nearest     5519\n",
       "parks_around3000         5518\n",
       "parks_nearest           15620\n",
       "ponds_around3000         5518\n",
       "ponds_nearest           14589\n",
       "days_exposition          3181\n",
       "dtype: int64"
      ]
     },
     "execution_count": 13,
     "metadata": {},
     "output_type": "execute_result"
    }
   ],
   "source": [
    "data.isna().sum()"
   ]
  },
  {
   "cell_type": "markdown",
   "metadata": {},
   "source": [
    "#### Изменение типов данных\n",
    "\n",
    "\n",
    "\n",
    "\n",
    "\n"
   ]
  },
  {
   "cell_type": "markdown",
   "metadata": {},
   "source": [
    "**Столбцы с параметрами квартир, которые измеряются в штуках, такие как: days_exposition, ponds_around3000, parks_around3000, balcony, floors_total, правильнее привести к типу int, хотя из-за пропусков это возможно сделать не со всеми из них.**\n",
    "\n",
    "\n"
   ]
  },
  {
   "cell_type": "code",
   "execution_count": 14,
   "metadata": {},
   "outputs": [],
   "source": [
    "data['balcony'] = data['balcony'].astype(int)\n",
    "data['floors_total'] = data['floors_total'].astype(int)"
   ]
  },
  {
   "cell_type": "markdown",
   "metadata": {},
   "source": [
    "<div class=\"alert alert-block alert-warning\">\n",
    " \n",
    "### Комментарий ревьюера\n",
    "    \n",
    "#### Совет\n",
    "    \n",
    "Для экономии вычислительной памяти лучше всего перевести в int32 "
   ]
  },
  {
   "cell_type": "markdown",
   "metadata": {},
   "source": [
    "**Приводим данные о дате публикации к правильному формату.**"
   ]
  },
  {
   "cell_type": "code",
   "execution_count": 15,
   "metadata": {},
   "outputs": [],
   "source": [
    "data['first_day_exposition'] = (\n",
    "    pd.to_datetime(data['first_day_exposition'], \n",
    "                   format='%Y-%m-%dT%H:%M:%S')\n",
    ")"
   ]
  },
  {
   "cell_type": "markdown",
   "metadata": {},
   "source": [
    "**Выведем информацию о таблице, чтобы убедиться, что типы данных изменились:**"
   ]
  },
  {
   "cell_type": "code",
   "execution_count": 16,
   "metadata": {},
   "outputs": [
    {
     "name": "stdout",
     "output_type": "stream",
     "text": [
      "<class 'pandas.core.frame.DataFrame'>\n",
      "RangeIndex: 23699 entries, 0 to 23698\n",
      "Data columns (total 21 columns):\n",
      " #   Column                Non-Null Count  Dtype         \n",
      "---  ------                --------------  -----         \n",
      " 0   total_images          23699 non-null  int64         \n",
      " 1   last_price            23699 non-null  float64       \n",
      " 2   total_area            23699 non-null  float64       \n",
      " 3   first_day_exposition  23699 non-null  datetime64[ns]\n",
      " 4   rooms                 23699 non-null  int64         \n",
      " 5   ceiling_height        14504 non-null  float64       \n",
      " 6   floors_total          23699 non-null  int64         \n",
      " 7   living_area           23699 non-null  float64       \n",
      " 8   floor                 23699 non-null  int64         \n",
      " 9   studio                23699 non-null  bool          \n",
      " 10  open_plan             23699 non-null  bool          \n",
      " 11  kitchen_area          23699 non-null  float64       \n",
      " 12  balcony               23699 non-null  int64         \n",
      " 13  locality_name         23650 non-null  object        \n",
      " 14  airports_nearest      18157 non-null  float64       \n",
      " 15  city_centers_nearest  18180 non-null  float64       \n",
      " 16  parks_around3000      18181 non-null  float64       \n",
      " 17  parks_nearest         8079 non-null   float64       \n",
      " 18  ponds_around3000      18181 non-null  float64       \n",
      " 19  ponds_nearest         9110 non-null   float64       \n",
      " 20  days_exposition       20518 non-null  float64       \n",
      "dtypes: bool(2), datetime64[ns](1), float64(12), int64(5), object(1)\n",
      "memory usage: 3.5+ MB\n"
     ]
    }
   ],
   "source": [
    "data.info()"
   ]
  },
  {
   "cell_type": "markdown",
   "metadata": {},
   "source": [
    "<div class=\"alert alert-block alert-success\">\n",
    " \n",
    "### Комментарий ревьюера\n",
    "    \n",
    "#### Успех\n",
    "    \n",
    "Отличный метод перевода в формат даты"
   ]
  },
  {
   "cell_type": "markdown",
   "metadata": {},
   "source": [
    "#### Обработка дубликатов"
   ]
  },
  {
   "cell_type": "markdown",
   "metadata": {},
   "source": [
    "**В столбце с названиями населенных пунктов 'locality_name' могут быть дубликаты - избавляемся от них, обращая особое внимание на 10 населенных пунктов с наибольшим количеством объявлений, так как они будут задействованы в дальнейших исследованиях.**"
   ]
  },
  {
   "cell_type": "code",
   "execution_count": 17,
   "metadata": {},
   "outputs": [
    {
     "data": {
      "text/html": [
       "<div>\n",
       "<style scoped>\n",
       "    .dataframe tbody tr th:only-of-type {\n",
       "        vertical-align: middle;\n",
       "    }\n",
       "\n",
       "    .dataframe tbody tr th {\n",
       "        vertical-align: top;\n",
       "    }\n",
       "\n",
       "    .dataframe thead th {\n",
       "        text-align: right;\n",
       "    }\n",
       "</style>\n",
       "<table border=\"1\" class=\"dataframe\">\n",
       "  <thead>\n",
       "    <tr style=\"text-align: right;\">\n",
       "      <th></th>\n",
       "      <th>rooms</th>\n",
       "    </tr>\n",
       "    <tr>\n",
       "      <th>locality_name</th>\n",
       "      <th></th>\n",
       "    </tr>\n",
       "  </thead>\n",
       "  <tbody>\n",
       "    <tr>\n",
       "      <th>Санкт-Петербург</th>\n",
       "      <td>15721</td>\n",
       "    </tr>\n",
       "    <tr>\n",
       "      <th>Мурино</th>\n",
       "      <td>590</td>\n",
       "    </tr>\n",
       "    <tr>\n",
       "      <th>Кудрово</th>\n",
       "      <td>472</td>\n",
       "    </tr>\n",
       "    <tr>\n",
       "      <th>поселок Шушары</th>\n",
       "      <td>440</td>\n",
       "    </tr>\n",
       "    <tr>\n",
       "      <th>Всеволожск</th>\n",
       "      <td>398</td>\n",
       "    </tr>\n",
       "    <tr>\n",
       "      <th>Пушкин</th>\n",
       "      <td>369</td>\n",
       "    </tr>\n",
       "    <tr>\n",
       "      <th>Колпино</th>\n",
       "      <td>338</td>\n",
       "    </tr>\n",
       "    <tr>\n",
       "      <th>поселок Парголово</th>\n",
       "      <td>327</td>\n",
       "    </tr>\n",
       "    <tr>\n",
       "      <th>Гатчина</th>\n",
       "      <td>307</td>\n",
       "    </tr>\n",
       "    <tr>\n",
       "      <th>Выборг</th>\n",
       "      <td>237</td>\n",
       "    </tr>\n",
       "    <tr>\n",
       "      <th>Петергоф</th>\n",
       "      <td>201</td>\n",
       "    </tr>\n",
       "    <tr>\n",
       "      <th>Сестрорецк</th>\n",
       "      <td>183</td>\n",
       "    </tr>\n",
       "    <tr>\n",
       "      <th>Красное Село</th>\n",
       "      <td>178</td>\n",
       "    </tr>\n",
       "    <tr>\n",
       "      <th>деревня Новое Девяткино</th>\n",
       "      <td>144</td>\n",
       "    </tr>\n",
       "    <tr>\n",
       "      <th>Сертолово</th>\n",
       "      <td>142</td>\n",
       "    </tr>\n",
       "    <tr>\n",
       "      <th>Ломоносов</th>\n",
       "      <td>133</td>\n",
       "    </tr>\n",
       "    <tr>\n",
       "      <th>Кириши</th>\n",
       "      <td>125</td>\n",
       "    </tr>\n",
       "    <tr>\n",
       "      <th>поселок Бугры</th>\n",
       "      <td>114</td>\n",
       "    </tr>\n",
       "    <tr>\n",
       "      <th>Сланцы</th>\n",
       "      <td>112</td>\n",
       "    </tr>\n",
       "    <tr>\n",
       "      <th>Волхов</th>\n",
       "      <td>111</td>\n",
       "    </tr>\n",
       "  </tbody>\n",
       "</table>\n",
       "</div>"
      ],
      "text/plain": [
       "                         rooms\n",
       "locality_name                 \n",
       "Санкт-Петербург          15721\n",
       "Мурино                     590\n",
       "Кудрово                    472\n",
       "поселок Шушары             440\n",
       "Всеволожск                 398\n",
       "Пушкин                     369\n",
       "Колпино                    338\n",
       "поселок Парголово          327\n",
       "Гатчина                    307\n",
       "Выборг                     237\n",
       "Петергоф                   201\n",
       "Сестрорецк                 183\n",
       "Красное Село               178\n",
       "деревня Новое Девяткино    144\n",
       "Сертолово                  142\n",
       "Ломоносов                  133\n",
       "Кириши                     125\n",
       "поселок Бугры              114\n",
       "Сланцы                     112\n",
       "Волхов                     111"
      ]
     },
     "execution_count": 17,
     "metadata": {},
     "output_type": "execute_result"
    }
   ],
   "source": [
    "data['locality_name'] = (\n",
    "    data['locality_name']\n",
    "    .str.replace('ё', 'е')\n",
    "    .replace(['коттеджный поселок', 'городской поселок', \n",
    "              'поселок городского типа'], 'поселок', regex=True)\n",
    "    .replace('поселок Мурино', 'Мурино', regex=True)\n",
    "    .replace('деревня Кудрово', 'Кудрово', regex=True)\n",
    "    .replace('село Никольское', 'Никольское', regex=True)\n",
    ") \n",
    "most_frequent_localities = data.pivot_table(index='locality_name', values='rooms', aggfunc='count') \\\n",
    ".sort_values('rooms', ascending=False)\n",
    "most_frequent_localities.head(20)"
   ]
  },
  {
   "cell_type": "markdown",
   "metadata": {},
   "source": [
    "<div class=\"alert alert-block alert-warning\">\n",
    " \n",
    "### Комментарий ревьюера\n",
    "    \n",
    "#### Совет\n",
    "    \n",
    "Тут можно было отбросить тип населенного пункта, сделать сортировку по алфавиту и смотреть есть ли похожие значения. "
   ]
  },
  {
   "cell_type": "markdown",
   "metadata": {},
   "source": [
    "**Ищем названия 20 первых по частоте локаций в общем списке с помощью поиска ctrl+F, чтобы точно не пропустить дубликаты.**"
   ]
  },
  {
   "cell_type": "code",
   "execution_count": 18,
   "metadata": {},
   "outputs": [
    {
     "data": {
      "text/plain": [
       "array(['Санкт-Петербург', 'поселок Шушары', 'поселок Янино-1',\n",
       "       'поселок Парголово', 'Мурино', 'Ломоносов', 'Сертолово',\n",
       "       'Петергоф', 'Пушкин', 'Кудрово', 'Коммунар', 'Колпино',\n",
       "       'поселок Красный Бор', 'Гатчина', 'деревня Федоровское', 'Выборг',\n",
       "       'Кронштадт', 'Кировск', 'деревня Новое Девяткино',\n",
       "       'поселок Металлострой', 'поселок Лебяжье', 'поселок Сиверский',\n",
       "       'поселок Молодцово', 'поселок Кузьмоловский',\n",
       "       'садовое товарищество Новая Ропша', 'Павловск',\n",
       "       'деревня Пикколово', 'Всеволожск', 'Волхов', 'Кингисепп',\n",
       "       'Приозерск', 'Сестрорецк', 'деревня Куттузи', 'поселок Аннино',\n",
       "       'поселок Ефимовский', 'поселок Плодовое', 'деревня Заклинье',\n",
       "       'поселок Торковичи', 'поселок Первомайское', 'Красное Село',\n",
       "       'поселок Понтонный', 'Сясьстрой', 'деревня Старая',\n",
       "       'деревня Лесколово', 'поселок Новый Свет', 'Сланцы',\n",
       "       'село Путилово', 'Ивангород', 'Шлиссельбург', 'Никольское',\n",
       "       'Зеленогорск', 'Сосновый Бор', 'деревня Оржицы',\n",
       "       'деревня Кальтино', 'поселок Романовка', 'поселок Бугры',\n",
       "       'поселок Рощино', 'Кириши', 'Луга', 'Волосово', 'Отрадное',\n",
       "       'село Павлово', 'поселок Оредеж', 'село Копорье',\n",
       "       'поселок Молодежное', 'Тихвин', 'поселок Победа', 'деревня Нурма',\n",
       "       'поселок Синявино', 'Тосно', 'поселок Стрельна', 'Бокситогорск',\n",
       "       'поселок Александровская', 'деревня Лопухинка', 'Пикалево',\n",
       "       'поселок Терволово', 'поселок Советский', 'Подпорожье',\n",
       "       'поселок Петровское', 'поселок Токсово', 'поселок Сельцо',\n",
       "       'поселок Вырица', 'деревня Кипень', 'деревня Келози',\n",
       "       'деревня Вартемяги', 'поселок Тельмана', 'поселок Севастьяново',\n",
       "       'поселок Большая Ижора', nan, 'поселок Павлово',\n",
       "       'деревня Агалатово', 'поселок Новогорелово', 'поселок Лесогорский',\n",
       "       'деревня Лаголово', 'поселок Цвелодубово', 'поселок Рахья',\n",
       "       'деревня Белогорка', 'поселок Заводской', 'поселок Новоселье',\n",
       "       'деревня Большие Колпаны', 'деревня Горбунки', 'деревня Батово',\n",
       "       'деревня Заневка', 'деревня Иссад', 'Приморск',\n",
       "       'поселок Федоровское', 'деревня Мистолово', 'Новая Ладога',\n",
       "       'поселок Зимитицы', 'поселок Барышево', 'деревня Разметелево',\n",
       "       'поселок имени Свердлова', 'деревня Пеники', 'поселок Рябово',\n",
       "       'деревня Пудомяги', 'поселок станции Корнево', 'деревня Низино',\n",
       "       'деревня Бегуницы', 'поселок Поляны', 'поселок Мга',\n",
       "       'поселок Елизаветино', 'поселок Кузнечное', 'деревня Колтуши',\n",
       "       'поселок Запорожское', 'деревня Гостилицы',\n",
       "       'деревня Малое Карлино', 'поселок Мичуринское',\n",
       "       'поселок имени Морозова', 'поселок Песочный', 'поселок Сосново',\n",
       "       'деревня Аро', 'поселок Ильичево', 'поселок Тайцы',\n",
       "       'деревня Малое Верево', 'деревня Извара', 'поселок станции Вещево',\n",
       "       'село Паша', 'деревня Калитино', 'поселок Ульяновка',\n",
       "       'деревня Чудской Бор', 'поселок Дубровка', 'деревня Мины',\n",
       "       'поселок Войсковицы', 'деревня Коркино', 'поселок Ропша',\n",
       "       'поселок Приладожский', 'поселок Щеглово', 'поселок Гаврилово',\n",
       "       'Лодейное Поле', 'деревня Рабитицы', 'поселок Никольский',\n",
       "       'деревня Кузьмолово', 'деревня Малые Колпаны',\n",
       "       'поселок Петро-Славянка', 'поселок Назия', 'поселок Репино',\n",
       "       'поселок Углово', 'поселок Старая Малукса',\n",
       "       'садовое товарищество Рахья', 'деревня Меньково',\n",
       "       'деревня Старые Бегуницы', 'поселок Саперный', 'поселок Семрино',\n",
       "       'поселок Глажево', 'поселок Кобринское', 'деревня Гарболово',\n",
       "       'деревня Юкки', 'поселок станции Приветнинское',\n",
       "       'деревня Мануйлово', 'деревня Пчева', 'поселок Цвылево',\n",
       "       'поселок Мельниково', 'поселок Пудость', 'поселок Усть-Луга',\n",
       "       'Светогорск', 'Любань', 'поселок Селезнево', 'Каменногорск',\n",
       "       'деревня Кривко', 'поселок Глебычево', 'деревня Парицы',\n",
       "       'поселок Жилпоселок', 'поселок Войскорово', 'поселок Стеклянный',\n",
       "       'поселок Важины', 'поселок Мыза-Ивановка', 'село Русско-Высоцкое',\n",
       "       'поселок Форносово', 'село Старая Ладога', 'поселок Житково',\n",
       "       'поселок Виллози', 'деревня Лампово', 'деревня Шпаньково',\n",
       "       'деревня Лаврики', 'поселок Сумино', 'поселок Возрождение',\n",
       "       'деревня Старосиверская', 'поселок Кикерино',\n",
       "       'деревня Старое Хинколово', 'поселок Пригородный',\n",
       "       'поселок Торфяное', 'поселок Будогощь', 'поселок Суходолье',\n",
       "       'поселок Красная Долина', 'деревня Хапо-Ое',\n",
       "       'поселок Дружная Горка', 'поселок Лисий Нос', 'деревня Яльгелево',\n",
       "       'село Рождествено', 'деревня Старополье', 'поселок Левашово',\n",
       "       'деревня Сяськелево', 'деревня Камышовка',\n",
       "       'садоводческое некоммерческое товарищество Лесная Поляна',\n",
       "       'деревня Хязельки', 'поселок Жилгородок', 'деревня Ялгино',\n",
       "       'поселок Новый Учхоз', 'поселок Гончарово', 'поселок Почап',\n",
       "       'поселок Саперное', 'поселок Платформа 69-й километр',\n",
       "       'поселок Каложицы', 'деревня Фалилеево', 'деревня Пельгора',\n",
       "       'деревня Торошковичи', 'поселок Белоостров', 'поселок Алексеевка',\n",
       "       'поселок Серебрянский', 'поселок Лукаши', 'деревня Щеглово',\n",
       "       'деревня Тарасово', 'поселок Кингисеппский',\n",
       "       'поселок при железнодорожной станции Вещево', 'поселок Ушаки',\n",
       "       'деревня Котлы', 'деревня Сижно', 'деревня Торосово',\n",
       "       'поселок Форт Красная Горка', 'деревня Новолисино',\n",
       "       'поселок станции Громово', 'деревня Глинка',\n",
       "       'деревня Старая Пустошь', 'поселок Коммунары', 'поселок Починок',\n",
       "       'поселок Вознесенье', 'деревня Разбегаево', 'поселок Гладкое',\n",
       "       'поселок при железнодорожной станции Приветнинское',\n",
       "       'поселок Тесово-4', 'деревня Бор', 'поселок Коробицыно',\n",
       "       'деревня Большая Вруда', 'деревня Курковицы', 'поселок Кобралово',\n",
       "       'деревня Суоранда', 'поселок Кондратьево', 'поселок Счастье',\n",
       "       'поселок Любань', 'деревня Реброво', 'деревня Зимитицы',\n",
       "       'деревня Тойворово', 'поселок Семиозерье', 'поселок Лесное',\n",
       "       'поселок Совхозный', 'поселок Ленинское', 'поселок Суйда',\n",
       "       'деревня Нижние Осельки', 'поселок станции Свирь',\n",
       "       'поселок Перово', 'Высоцк', 'поселок Гарболово', 'село Шум',\n",
       "       'поселок Котельский', 'поселок станции Лужайка',\n",
       "       'деревня Большая Пустомержа', 'поселок Красносельское',\n",
       "       'деревня Вахнова Кара', 'деревня Пижма', 'поселок Кивеннапа Север',\n",
       "       'поселок Ромашки', 'деревня Каськово', 'деревня Куровицы',\n",
       "       'поселок Плоское', 'поселок Кирпичное', 'деревня Ям-Тесово',\n",
       "       'деревня Раздолье', 'деревня Терпилицы', 'поселок Шугозеро',\n",
       "       'деревня Ваганово', 'поселок Пушное', 'садовое товарищество Садко',\n",
       "       'поселок Усть-Ижора', 'деревня Выскатка', 'поселок Свирьстрой',\n",
       "       'поселок Громово', 'деревня Кисельня', 'деревня Трубников Бор',\n",
       "       'поселок Калитино', 'поселок Высокоключевой',\n",
       "       'садовое товарищество Приладожский',\n",
       "       'поселок Пансионат Зеленый Бор', 'деревня Ненимяки',\n",
       "       'деревня Снегиревка', 'деревня Рапполово', 'деревня Пустынка',\n",
       "       'поселок Рабитицы', 'деревня Большой Сабск', 'деревня Русско',\n",
       "       'деревня Лупполово', 'деревня Большое Рейзино',\n",
       "       'деревня Малая Романовка', 'поселок Дружноселье', 'поселок Пчевжа',\n",
       "       'поселок Володарское', 'деревня Нижняя', 'деревня Тихковицы',\n",
       "       'деревня Борисова Грива', 'поселок Дзержинского'], dtype=object)"
      ]
     },
     "execution_count": 18,
     "metadata": {},
     "output_type": "execute_result"
    }
   ],
   "source": [
    "data['locality_name'].unique()"
   ]
  },
  {
   "cell_type": "markdown",
   "metadata": {},
   "source": [
    "**Проверяем, есть ли дубликаты строк таблицы - объявлений.**"
   ]
  },
  {
   "cell_type": "code",
   "execution_count": 19,
   "metadata": {},
   "outputs": [
    {
     "data": {
      "text/plain": [
       "0"
      ]
     },
     "execution_count": 19,
     "metadata": {},
     "output_type": "execute_result"
    }
   ],
   "source": [
    "data.duplicated().sum()"
   ]
  },
  {
   "cell_type": "markdown",
   "metadata": {},
   "source": [
    "<div class=\"alert alert-block alert-success\">\n",
    " \n",
    "### Комментарий ревьюера\n",
    "    \n",
    "#### Успех\n",
    "    \n",
    "И на явные дубли проверили. "
   ]
  },
  {
   "cell_type": "markdown",
   "metadata": {},
   "source": [
    "#### Обработка аномальных значений"
   ]
  },
  {
   "cell_type": "markdown",
   "metadata": {},
   "source": [
    "**Изучим столбец цены на момент снятия публикации. Квартиры дороже 100 000 000 рублей могут быть реальны, но они слишком уникальные для нашего алгоритма определения рыночной стоимости недвижимости. Вряд ли их цену устанавливали исходя лишь из привычных нам критериев, таких как общая площадь или удаленность от центра. К тому же это может быть обычная ошибка в данных. Уберем объявления с слишком высокой и низкой стоимостью.**"
   ]
  },
  {
   "cell_type": "code",
   "execution_count": 20,
   "metadata": {},
   "outputs": [
    {
     "data": {
      "text/plain": [
       "array([[<AxesSubplot:title={'center':'last_price'}>]], dtype=object)"
      ]
     },
     "execution_count": 20,
     "metadata": {},
     "output_type": "execute_result"
    },
    {
     "data": {
      "image/png": "[encoded data removed]",
      "text/plain": [
       "<Figure size 432x288 with 1 Axes>"
      ]
     },
     "metadata": {
      "needs_background": "light"
     },
     "output_type": "display_data"
    },
    {
     "data": {
      "image/png": "[encoded data removed]",
      "text/plain": [
       "<Figure size 432x288 with 1 Axes>"
      ]
     },
     "metadata": {
      "needs_background": "light"
     },
     "output_type": "display_data"
    }
   ],
   "source": [
    "data.hist('last_price', bins=50)\n",
    "# можно внимательно рассмотреть топовые значения так:\n",
    "#data['last_price'].sort_values(ascending=False).head(50)\n",
    "#но это заняло бы слишком много места в отчете\n",
    "better_data = data.query('400000 <= last_price <= 100000000')\n",
    "better_data.hist('last_price', bins=50)"
   ]
  },
  {
   "cell_type": "markdown",
   "metadata": {},
   "source": [
    "**Общая площадь квартиры не часто бывает больше 300 метров. Убираем такие значения, просто чтобы они не искажали выводы, к тому же это могут быть ложные данные.**\n"
   ]
  },
  {
   "cell_type": "code",
   "execution_count": 21,
   "metadata": {},
   "outputs": [
    {
     "data": {
      "text/plain": [
       "array([[<AxesSubplot:title={'center':'total_area'}>]], dtype=object)"
      ]
     },
     "execution_count": 21,
     "metadata": {},
     "output_type": "execute_result"
    },
    {
     "data": {
      "image/png": "[encoded data removed]",
      "text/plain": [
       "<Figure size 432x288 with 1 Axes>"
      ]
     },
     "metadata": {
      "needs_background": "light"
     },
     "output_type": "display_data"
    },
    {
     "data": {
      "image/png": "[encoded data removed]",
      "text/plain": [
       "<Figure size 432x288 with 1 Axes>"
      ]
     },
     "metadata": {
      "needs_background": "light"
     },
     "output_type": "display_data"
    }
   ],
   "source": [
    "data.hist('total_area', bins=50)\n",
    "better_data = better_data.query('total_area <= 300')\n",
    "better_data.hist('total_area', bins=50)"
   ]
  },
  {
   "cell_type": "markdown",
   "metadata": {},
   "source": [
    "**Стомость квартир, в которых более 10 комнат, будет сложно рассчитывать с помощью нашего универсального алгоритма, лучше их убрать, к тому же это может быть ошибка в данных. Также не понятно что из себя представляют 0-комнатные квартиры. Даже в студиях, апартаментах, открытых планировках должна быть комната.**"
   ]
  },
  {
   "cell_type": "markdown",
   "metadata": {},
   "source": [
    "<div class=\"alert alert-block alert-success\">\n",
    " \n",
    "### Комментарий ревьюера\n",
    "    \n",
    "#### Успех\n",
    "    \n",
    "По выводу согласен. Хорошо вышло."
   ]
  },
  {
   "cell_type": "code",
   "execution_count": 22,
   "metadata": {},
   "outputs": [
    {
     "data": {
      "text/plain": [
       "array([[<AxesSubplot:title={'center':'rooms'}>]], dtype=object)"
      ]
     },
     "execution_count": 22,
     "metadata": {},
     "output_type": "execute_result"
    },
    {
     "data": {
      "image/png": "[encoded data removed]",
      "text/plain": [
       "<Figure size 432x288 with 1 Axes>"
      ]
     },
     "metadata": {
      "needs_background": "light"
     },
     "output_type": "display_data"
    },
    {
     "data": {
      "image/png": "[encoded data removed]",
      "text/plain": [
       "<Figure size 432x288 with 1 Axes>"
      ]
     },
     "metadata": {
      "needs_background": "light"
     },
     "output_type": "display_data"
    }
   ],
   "source": [
    "data.hist('rooms')\n",
    "better_data = better_data.query('0 < rooms <= 10')\n",
    "better_data.hist('rooms')"
   ]
  },
  {
   "cell_type": "markdown",
   "metadata": {},
   "source": [
    "<div class=\"alert alert-block alert-success\">\n",
    " \n",
    "### Комментарий ревьюера\n",
    "    \n",
    "#### Успех\n",
    "\n",
    "Соглашусь. Больше 10 комнат мы вряд ли сможем встретить."
   ]
  },
  {
   "cell_type": "markdown",
   "metadata": {},
   "source": [
    "**Возможно, все те потолки, высота которых больше 23 метров на самом деле имеют высоту 2.3+ метра? Исправим их значения, разделив на 10. Затем удалим объявления о квартирах с потолками ниже 2.4 метра и потолками 5 метров и выше.**"
   ]
  },
  {
   "cell_type": "code",
   "execution_count": 23,
   "metadata": {},
   "outputs": [
    {
     "data": {
      "text/plain": [
       "array([[<AxesSubplot:title={'center':'ceiling_height'}>]], dtype=object)"
      ]
     },
     "execution_count": 23,
     "metadata": {},
     "output_type": "execute_result"
    },
    {
     "data": {
      "image/png": "[encoded data removed]",
      "text/plain": [
       "<Figure size 432x288 with 1 Axes>"
      ]
     },
     "metadata": {
      "needs_background": "light"
     },
     "output_type": "display_data"
    },
    {
     "data": {
      "image/png": "[encoded data removed]",
      "text/plain": [
       "<Figure size 432x288 with 1 Axes>"
      ]
     },
     "metadata": {
      "needs_background": "light"
     },
     "output_type": "display_data"
    }
   ],
   "source": [
    "data.hist('ceiling_height', range=(2, 10))\n",
    "#мастерское использование where, чтобы оставить те\n",
    "#потолки, которые ниже 23м, а остальные поделить на 10\n",
    "better_data['ceiling_height'] = (\n",
    "    better_data['ceiling_height']\n",
    "    .where(better_data['ceiling_height'] < 23, \n",
    "           better_data['ceiling_height'] / 10)\n",
    ")\n",
    "better_data = better_data.query('2.4 <= ceiling_height < 5')\n",
    "better_data.hist('ceiling_height')"
   ]
  },
  {
   "cell_type": "markdown",
   "metadata": {},
   "source": [
    "**Этаж квартиры не может быть выше этажности здания. Сумма площади кухни и жилой площади не может быть меньше общей площади. Убираем все те строки, где эти условия не соблюдаются.**"
   ]
  },
  {
   "cell_type": "code",
   "execution_count": 24,
   "metadata": {},
   "outputs": [],
   "source": [
    "better_data = better_data.query('floor <= floors_total')\n",
    "better_data = better_data.query('kitchen_area + living_area <= total_area')"
   ]
  },
  {
   "cell_type": "markdown",
   "metadata": {},
   "source": [
    "**По описанию ячеек таблицы убедимся, что обработка аномальных значений в столбцах изменила таблицу:**"
   ]
  },
  {
   "cell_type": "code",
   "execution_count": 25,
   "metadata": {},
   "outputs": [
    {
     "data": {
      "text/html": [
       "<div>\n",
       "<style scoped>\n",
       "    .dataframe tbody tr th:only-of-type {\n",
       "        vertical-align: middle;\n",
       "    }\n",
       "\n",
       "    .dataframe tbody tr th {\n",
       "        vertical-align: top;\n",
       "    }\n",
       "\n",
       "    .dataframe thead th {\n",
       "        text-align: right;\n",
       "    }\n",
       "</style>\n",
       "<table border=\"1\" class=\"dataframe\">\n",
       "  <thead>\n",
       "    <tr style=\"text-align: right;\">\n",
       "      <th></th>\n",
       "      <th>total_images</th>\n",
       "      <th>last_price</th>\n",
       "      <th>total_area</th>\n",
       "      <th>rooms</th>\n",
       "      <th>ceiling_height</th>\n",
       "      <th>floors_total</th>\n",
       "      <th>living_area</th>\n",
       "      <th>floor</th>\n",
       "      <th>kitchen_area</th>\n",
       "      <th>balcony</th>\n",
       "      <th>airports_nearest</th>\n",
       "      <th>city_centers_nearest</th>\n",
       "      <th>parks_around3000</th>\n",
       "      <th>parks_nearest</th>\n",
       "      <th>ponds_around3000</th>\n",
       "      <th>ponds_nearest</th>\n",
       "      <th>days_exposition</th>\n",
       "    </tr>\n",
       "  </thead>\n",
       "  <tbody>\n",
       "    <tr>\n",
       "      <th>count</th>\n",
       "      <td>23699.000000</td>\n",
       "      <td>2.369900e+04</td>\n",
       "      <td>23699.000000</td>\n",
       "      <td>23699.000000</td>\n",
       "      <td>14504.000000</td>\n",
       "      <td>23699.000000</td>\n",
       "      <td>23699.000000</td>\n",
       "      <td>23699.000000</td>\n",
       "      <td>23699.000000</td>\n",
       "      <td>23699.000000</td>\n",
       "      <td>18157.000000</td>\n",
       "      <td>18180.000000</td>\n",
       "      <td>18181.000000</td>\n",
       "      <td>8079.000000</td>\n",
       "      <td>18181.000000</td>\n",
       "      <td>9110.000000</td>\n",
       "      <td>20518.000000</td>\n",
       "    </tr>\n",
       "    <tr>\n",
       "      <th>mean</th>\n",
       "      <td>9.858475</td>\n",
       "      <td>6.541549e+06</td>\n",
       "      <td>60.348651</td>\n",
       "      <td>2.070636</td>\n",
       "      <td>2.771499</td>\n",
       "      <td>10.654753</td>\n",
       "      <td>34.578214</td>\n",
       "      <td>5.892358</td>\n",
       "      <td>10.491431</td>\n",
       "      <td>0.591080</td>\n",
       "      <td>28793.672193</td>\n",
       "      <td>14191.277833</td>\n",
       "      <td>0.611408</td>\n",
       "      <td>490.804555</td>\n",
       "      <td>0.770255</td>\n",
       "      <td>517.980900</td>\n",
       "      <td>180.888634</td>\n",
       "    </tr>\n",
       "    <tr>\n",
       "      <th>std</th>\n",
       "      <td>5.682529</td>\n",
       "      <td>1.088701e+07</td>\n",
       "      <td>35.654083</td>\n",
       "      <td>1.078405</td>\n",
       "      <td>1.261056</td>\n",
       "      <td>6.596496</td>\n",
       "      <td>22.340665</td>\n",
       "      <td>4.885249</td>\n",
       "      <td>6.029020</td>\n",
       "      <td>0.959298</td>\n",
       "      <td>12630.880622</td>\n",
       "      <td>8608.386210</td>\n",
       "      <td>0.802074</td>\n",
       "      <td>342.317995</td>\n",
       "      <td>0.938346</td>\n",
       "      <td>277.720643</td>\n",
       "      <td>219.727988</td>\n",
       "    </tr>\n",
       "    <tr>\n",
       "      <th>min</th>\n",
       "      <td>0.000000</td>\n",
       "      <td>1.219000e+04</td>\n",
       "      <td>12.000000</td>\n",
       "      <td>0.000000</td>\n",
       "      <td>1.000000</td>\n",
       "      <td>0.000000</td>\n",
       "      <td>2.000000</td>\n",
       "      <td>1.000000</td>\n",
       "      <td>1.300000</td>\n",
       "      <td>0.000000</td>\n",
       "      <td>0.000000</td>\n",
       "      <td>181.000000</td>\n",
       "      <td>0.000000</td>\n",
       "      <td>1.000000</td>\n",
       "      <td>0.000000</td>\n",
       "      <td>13.000000</td>\n",
       "      <td>1.000000</td>\n",
       "    </tr>\n",
       "    <tr>\n",
       "      <th>25%</th>\n",
       "      <td>6.000000</td>\n",
       "      <td>3.400000e+06</td>\n",
       "      <td>40.000000</td>\n",
       "      <td>1.000000</td>\n",
       "      <td>2.520000</td>\n",
       "      <td>5.000000</td>\n",
       "      <td>19.000000</td>\n",
       "      <td>2.000000</td>\n",
       "      <td>7.000000</td>\n",
       "      <td>0.000000</td>\n",
       "      <td>18585.000000</td>\n",
       "      <td>9238.000000</td>\n",
       "      <td>0.000000</td>\n",
       "      <td>288.000000</td>\n",
       "      <td>0.000000</td>\n",
       "      <td>294.000000</td>\n",
       "      <td>45.000000</td>\n",
       "    </tr>\n",
       "    <tr>\n",
       "      <th>50%</th>\n",
       "      <td>9.000000</td>\n",
       "      <td>4.650000e+06</td>\n",
       "      <td>52.000000</td>\n",
       "      <td>2.000000</td>\n",
       "      <td>2.650000</td>\n",
       "      <td>9.000000</td>\n",
       "      <td>30.000000</td>\n",
       "      <td>4.000000</td>\n",
       "      <td>9.000000</td>\n",
       "      <td>0.000000</td>\n",
       "      <td>26726.000000</td>\n",
       "      <td>13098.500000</td>\n",
       "      <td>0.000000</td>\n",
       "      <td>455.000000</td>\n",
       "      <td>1.000000</td>\n",
       "      <td>502.000000</td>\n",
       "      <td>95.000000</td>\n",
       "    </tr>\n",
       "    <tr>\n",
       "      <th>75%</th>\n",
       "      <td>14.000000</td>\n",
       "      <td>6.800000e+06</td>\n",
       "      <td>69.900000</td>\n",
       "      <td>3.000000</td>\n",
       "      <td>2.800000</td>\n",
       "      <td>16.000000</td>\n",
       "      <td>42.100000</td>\n",
       "      <td>8.000000</td>\n",
       "      <td>12.000000</td>\n",
       "      <td>1.000000</td>\n",
       "      <td>37273.000000</td>\n",
       "      <td>16293.000000</td>\n",
       "      <td>1.000000</td>\n",
       "      <td>612.000000</td>\n",
       "      <td>1.000000</td>\n",
       "      <td>729.000000</td>\n",
       "      <td>232.000000</td>\n",
       "    </tr>\n",
       "    <tr>\n",
       "      <th>max</th>\n",
       "      <td>50.000000</td>\n",
       "      <td>7.630000e+08</td>\n",
       "      <td>900.000000</td>\n",
       "      <td>19.000000</td>\n",
       "      <td>100.000000</td>\n",
       "      <td>60.000000</td>\n",
       "      <td>409.700000</td>\n",
       "      <td>33.000000</td>\n",
       "      <td>112.000000</td>\n",
       "      <td>5.000000</td>\n",
       "      <td>84869.000000</td>\n",
       "      <td>65968.000000</td>\n",
       "      <td>3.000000</td>\n",
       "      <td>3190.000000</td>\n",
       "      <td>3.000000</td>\n",
       "      <td>1344.000000</td>\n",
       "      <td>1580.000000</td>\n",
       "    </tr>\n",
       "  </tbody>\n",
       "</table>\n",
       "</div>"
      ],
      "text/plain": [
       "       total_images    last_price    total_area         rooms  ceiling_height  \\\n",
       "count  23699.000000  2.369900e+04  23699.000000  23699.000000    14504.000000   \n",
       "mean       9.858475  6.541549e+06     60.348651      2.070636        2.771499   \n",
       "std        5.682529  1.088701e+07     35.654083      1.078405        1.261056   \n",
       "min        0.000000  1.219000e+04     12.000000      0.000000        1.000000   \n",
       "25%        6.000000  3.400000e+06     40.000000      1.000000        2.520000   \n",
       "50%        9.000000  4.650000e+06     52.000000      2.000000        2.650000   \n",
       "75%       14.000000  6.800000e+06     69.900000      3.000000        2.800000   \n",
       "max       50.000000  7.630000e+08    900.000000     19.000000      100.000000   \n",
       "\n",
       "       floors_total   living_area         floor  kitchen_area       balcony  \\\n",
       "count  23699.000000  23699.000000  23699.000000  23699.000000  23699.000000   \n",
       "mean      10.654753     34.578214      5.892358     10.491431      0.591080   \n",
       "std        6.596496     22.340665      4.885249      6.029020      0.959298   \n",
       "min        0.000000      2.000000      1.000000      1.300000      0.000000   \n",
       "25%        5.000000     19.000000      2.000000      7.000000      0.000000   \n",
       "50%        9.000000     30.000000      4.000000      9.000000      0.000000   \n",
       "75%       16.000000     42.100000      8.000000     12.000000      1.000000   \n",
       "max       60.000000    409.700000     33.000000    112.000000      5.000000   \n",
       "\n",
       "       airports_nearest  city_centers_nearest  parks_around3000  \\\n",
       "count      18157.000000          18180.000000      18181.000000   \n",
       "mean       28793.672193          14191.277833          0.611408   \n",
       "std        12630.880622           8608.386210          0.802074   \n",
       "min            0.000000            181.000000          0.000000   \n",
       "25%        18585.000000           9238.000000          0.000000   \n",
       "50%        26726.000000          13098.500000          0.000000   \n",
       "75%        37273.000000          16293.000000          1.000000   \n",
       "max        84869.000000          65968.000000          3.000000   \n",
       "\n",
       "       parks_nearest  ponds_around3000  ponds_nearest  days_exposition  \n",
       "count    8079.000000      18181.000000    9110.000000     20518.000000  \n",
       "mean      490.804555          0.770255     517.980900       180.888634  \n",
       "std       342.317995          0.938346     277.720643       219.727988  \n",
       "min         1.000000          0.000000      13.000000         1.000000  \n",
       "25%       288.000000          0.000000     294.000000        45.000000  \n",
       "50%       455.000000          1.000000     502.000000        95.000000  \n",
       "75%       612.000000          1.000000     729.000000       232.000000  \n",
       "max      3190.000000          3.000000    1344.000000      1580.000000  "
      ]
     },
     "execution_count": 25,
     "metadata": {},
     "output_type": "execute_result"
    }
   ],
   "source": [
    "data.describe()"
   ]
  },
  {
   "cell_type": "markdown",
   "metadata": {},
   "source": [
    "**Вывод: мы обработали в таблице те пропуски, от которых можно было избавиться без вреда для исследования. Изменили на корректный тип данных в тех столбцах, где возможно. Избавились от дубликатов. Обработали аномальные значения.**"
   ]
  },
  {
   "cell_type": "markdown",
   "metadata": {},
   "source": [
    "<div class=\"alert alert-block alert-success\">\n",
    " \n",
    "### Комментарий ревьюера\n",
    "    \n",
    "#### Успех\n",
    "    \n",
    "Предобработка вышла отличная. Все грамотно обосновано. Данных сохранили в достаточном количестве для дальнейшемго анализа. Молодец"
   ]
  },
  {
   "cell_type": "markdown",
   "metadata": {
    "id": "QCcvyY6YAwb-"
   },
   "source": [
    "### Добавьте в таблицу новые столбцы"
   ]
  },
  {
   "cell_type": "markdown",
   "metadata": {},
   "source": [
    "**Добавление столбца с ценой одного квадратного метра:**"
   ]
  },
  {
   "cell_type": "code",
   "execution_count": 26,
   "metadata": {
    "id": "Z8eJek3IAwb-"
   },
   "outputs": [],
   "source": [
    "better_data['price_per_meter'] = round(better_data['last_price'] / better_data['total_area'], 2)"
   ]
  },
  {
   "cell_type": "markdown",
   "metadata": {},
   "source": [
    "**Добавление столбцов с днем, месяцем и годом публикации объявления:**"
   ]
  },
  {
   "cell_type": "code",
   "execution_count": 27,
   "metadata": {},
   "outputs": [],
   "source": [
    "better_data['weekday'] = better_data['first_day_exposition'].dt.weekday\n",
    "better_data['month'] = better_data['first_day_exposition'].dt.month\n",
    "better_data['year'] = better_data['first_day_exposition'].dt.year"
   ]
  },
  {
   "cell_type": "markdown",
   "metadata": {},
   "source": [
    "<div class=\"alert alert-block alert-success\">\n",
    " \n",
    "### Комментарий ревьюера\n",
    "    \n",
    "#### Успех\n",
    "    \n",
    "Сам очень люблю такой же метод выделения временного промежутка из даты"
   ]
  },
  {
   "cell_type": "markdown",
   "metadata": {},
   "source": [
    "**Добавление столбца с типом этажа квартиры:**"
   ]
  },
  {
   "cell_type": "code",
   "execution_count": 28,
   "metadata": {},
   "outputs": [],
   "source": [
    "def categorize_floor(row):\n",
    "    \n",
    "    \"\"\"\n",
    "Приветствую ревьюера!\n",
    "Возвращает категорию этажа в зависимости от его отношения к общей этажности \n",
    "здания, используя правила:\n",
    "- 'первый' если... этаж первый\n",
    "- 'последний' если номер этажа равен числу этажей в доме\n",
    "- 'другой' во всех остальных случаях\n",
    "\"\"\"\n",
    "    floor = row['floor']\n",
    "    floors = row['floors_total']\n",
    "    \n",
    "    if floor == 1:\n",
    "        return 'первый'\n",
    "    \n",
    "    elif floor == floors:\n",
    "        return 'последний'\n",
    "    \n",
    "    else:\n",
    "        return 'другой'\n",
    "    \n",
    "better_data['floor_type'] = better_data.apply(categorize_floor, axis=1)"
   ]
  },
  {
   "cell_type": "markdown",
   "metadata": {},
   "source": [
    "<div class=\"alert alert-block alert-success\">\n",
    " \n",
    "### Комментарий ревьюера\n",
    "    \n",
    "#### Успех\n",
    "    \n",
    "Спасибо большое за поясленния. Получилась простая, удобная и работоспособная функция. "
   ]
  },
  {
   "cell_type": "markdown",
   "metadata": {},
   "source": [
    "**Добавление столбца с расстоянием до центра города в километрах:**"
   ]
  },
  {
   "cell_type": "code",
   "execution_count": 29,
   "metadata": {},
   "outputs": [],
   "source": [
    "better_data['city_centers_nearest_km'] = round(better_data['city_centers_nearest'] / 1000)"
   ]
  },
  {
   "cell_type": "code",
   "execution_count": 30,
   "metadata": {},
   "outputs": [
    {
     "data": {
      "text/html": [
       "<div>\n",
       "<style scoped>\n",
       "    .dataframe tbody tr th:only-of-type {\n",
       "        vertical-align: middle;\n",
       "    }\n",
       "\n",
       "    .dataframe tbody tr th {\n",
       "        vertical-align: top;\n",
       "    }\n",
       "\n",
       "    .dataframe thead th {\n",
       "        text-align: right;\n",
       "    }\n",
       "</style>\n",
       "<table border=\"1\" class=\"dataframe\">\n",
       "  <thead>\n",
       "    <tr style=\"text-align: right;\">\n",
       "      <th></th>\n",
       "      <th>total_images</th>\n",
       "      <th>last_price</th>\n",
       "      <th>total_area</th>\n",
       "      <th>first_day_exposition</th>\n",
       "      <th>rooms</th>\n",
       "      <th>ceiling_height</th>\n",
       "      <th>floors_total</th>\n",
       "      <th>living_area</th>\n",
       "      <th>floor</th>\n",
       "      <th>studio</th>\n",
       "      <th>open_plan</th>\n",
       "      <th>kitchen_area</th>\n",
       "      <th>balcony</th>\n",
       "      <th>locality_name</th>\n",
       "      <th>airports_nearest</th>\n",
       "      <th>city_centers_nearest</th>\n",
       "      <th>parks_around3000</th>\n",
       "      <th>parks_nearest</th>\n",
       "      <th>ponds_around3000</th>\n",
       "      <th>ponds_nearest</th>\n",
       "      <th>days_exposition</th>\n",
       "      <th>price_per_meter</th>\n",
       "      <th>weekday</th>\n",
       "      <th>month</th>\n",
       "      <th>year</th>\n",
       "      <th>floor_type</th>\n",
       "      <th>city_centers_nearest_km</th>\n",
       "    </tr>\n",
       "  </thead>\n",
       "  <tbody>\n",
       "    <tr>\n",
       "      <th>0</th>\n",
       "      <td>20</td>\n",
       "      <td>13000000.0</td>\n",
       "      <td>108.0</td>\n",
       "      <td>2019-03-07</td>\n",
       "      <td>3</td>\n",
       "      <td>2.70</td>\n",
       "      <td>16</td>\n",
       "      <td>51.0</td>\n",
       "      <td>8</td>\n",
       "      <td>False</td>\n",
       "      <td>False</td>\n",
       "      <td>25.0</td>\n",
       "      <td>0</td>\n",
       "      <td>Санкт-Петербург</td>\n",
       "      <td>18863.0</td>\n",
       "      <td>16028.0</td>\n",
       "      <td>1.0</td>\n",
       "      <td>482.0</td>\n",
       "      <td>2.0</td>\n",
       "      <td>755.0</td>\n",
       "      <td>NaN</td>\n",
       "      <td>120370.37</td>\n",
       "      <td>3</td>\n",
       "      <td>3</td>\n",
       "      <td>2019</td>\n",
       "      <td>другой</td>\n",
       "      <td>16.0</td>\n",
       "    </tr>\n",
       "    <tr>\n",
       "      <th>4</th>\n",
       "      <td>2</td>\n",
       "      <td>10000000.0</td>\n",
       "      <td>100.0</td>\n",
       "      <td>2018-06-19</td>\n",
       "      <td>2</td>\n",
       "      <td>3.03</td>\n",
       "      <td>14</td>\n",
       "      <td>32.0</td>\n",
       "      <td>13</td>\n",
       "      <td>False</td>\n",
       "      <td>False</td>\n",
       "      <td>41.0</td>\n",
       "      <td>0</td>\n",
       "      <td>Санкт-Петербург</td>\n",
       "      <td>31856.0</td>\n",
       "      <td>8098.0</td>\n",
       "      <td>2.0</td>\n",
       "      <td>112.0</td>\n",
       "      <td>1.0</td>\n",
       "      <td>48.0</td>\n",
       "      <td>121.0</td>\n",
       "      <td>100000.00</td>\n",
       "      <td>1</td>\n",
       "      <td>6</td>\n",
       "      <td>2018</td>\n",
       "      <td>другой</td>\n",
       "      <td>8.0</td>\n",
       "    </tr>\n",
       "    <tr>\n",
       "      <th>9</th>\n",
       "      <td>18</td>\n",
       "      <td>5400000.0</td>\n",
       "      <td>61.0</td>\n",
       "      <td>2017-02-26</td>\n",
       "      <td>3</td>\n",
       "      <td>2.50</td>\n",
       "      <td>9</td>\n",
       "      <td>43.6</td>\n",
       "      <td>7</td>\n",
       "      <td>False</td>\n",
       "      <td>False</td>\n",
       "      <td>6.5</td>\n",
       "      <td>2</td>\n",
       "      <td>Санкт-Петербург</td>\n",
       "      <td>50898.0</td>\n",
       "      <td>15008.0</td>\n",
       "      <td>0.0</td>\n",
       "      <td>NaN</td>\n",
       "      <td>0.0</td>\n",
       "      <td>NaN</td>\n",
       "      <td>289.0</td>\n",
       "      <td>88524.59</td>\n",
       "      <td>6</td>\n",
       "      <td>2</td>\n",
       "      <td>2017</td>\n",
       "      <td>другой</td>\n",
       "      <td>15.0</td>\n",
       "    </tr>\n",
       "    <tr>\n",
       "      <th>10</th>\n",
       "      <td>5</td>\n",
       "      <td>5050000.0</td>\n",
       "      <td>39.6</td>\n",
       "      <td>2017-11-16</td>\n",
       "      <td>1</td>\n",
       "      <td>2.67</td>\n",
       "      <td>12</td>\n",
       "      <td>20.3</td>\n",
       "      <td>3</td>\n",
       "      <td>False</td>\n",
       "      <td>False</td>\n",
       "      <td>8.5</td>\n",
       "      <td>0</td>\n",
       "      <td>Санкт-Петербург</td>\n",
       "      <td>38357.0</td>\n",
       "      <td>13878.0</td>\n",
       "      <td>1.0</td>\n",
       "      <td>310.0</td>\n",
       "      <td>2.0</td>\n",
       "      <td>553.0</td>\n",
       "      <td>137.0</td>\n",
       "      <td>127525.25</td>\n",
       "      <td>3</td>\n",
       "      <td>11</td>\n",
       "      <td>2017</td>\n",
       "      <td>другой</td>\n",
       "      <td>14.0</td>\n",
       "    </tr>\n",
       "    <tr>\n",
       "      <th>13</th>\n",
       "      <td>20</td>\n",
       "      <td>3550000.0</td>\n",
       "      <td>42.8</td>\n",
       "      <td>2017-07-01</td>\n",
       "      <td>2</td>\n",
       "      <td>2.56</td>\n",
       "      <td>5</td>\n",
       "      <td>27.0</td>\n",
       "      <td>5</td>\n",
       "      <td>False</td>\n",
       "      <td>False</td>\n",
       "      <td>5.2</td>\n",
       "      <td>1</td>\n",
       "      <td>Петергоф</td>\n",
       "      <td>37868.0</td>\n",
       "      <td>33058.0</td>\n",
       "      <td>1.0</td>\n",
       "      <td>294.0</td>\n",
       "      <td>3.0</td>\n",
       "      <td>298.0</td>\n",
       "      <td>366.0</td>\n",
       "      <td>82943.93</td>\n",
       "      <td>5</td>\n",
       "      <td>7</td>\n",
       "      <td>2017</td>\n",
       "      <td>последний</td>\n",
       "      <td>33.0</td>\n",
       "    </tr>\n",
       "    <tr>\n",
       "      <th>16</th>\n",
       "      <td>11</td>\n",
       "      <td>6700000.0</td>\n",
       "      <td>82.0</td>\n",
       "      <td>2017-11-23</td>\n",
       "      <td>3</td>\n",
       "      <td>3.05</td>\n",
       "      <td>5</td>\n",
       "      <td>55.6</td>\n",
       "      <td>1</td>\n",
       "      <td>False</td>\n",
       "      <td>False</td>\n",
       "      <td>9.0</td>\n",
       "      <td>0</td>\n",
       "      <td>Санкт-Петербург</td>\n",
       "      <td>22108.0</td>\n",
       "      <td>10698.0</td>\n",
       "      <td>3.0</td>\n",
       "      <td>420.0</td>\n",
       "      <td>0.0</td>\n",
       "      <td>NaN</td>\n",
       "      <td>397.0</td>\n",
       "      <td>81707.32</td>\n",
       "      <td>3</td>\n",
       "      <td>11</td>\n",
       "      <td>2017</td>\n",
       "      <td>первый</td>\n",
       "      <td>11.0</td>\n",
       "    </tr>\n",
       "    <tr>\n",
       "      <th>18</th>\n",
       "      <td>8</td>\n",
       "      <td>3250000.0</td>\n",
       "      <td>31.0</td>\n",
       "      <td>2017-01-27</td>\n",
       "      <td>1</td>\n",
       "      <td>2.50</td>\n",
       "      <td>5</td>\n",
       "      <td>19.4</td>\n",
       "      <td>2</td>\n",
       "      <td>False</td>\n",
       "      <td>False</td>\n",
       "      <td>5.6</td>\n",
       "      <td>1</td>\n",
       "      <td>Санкт-Петербург</td>\n",
       "      <td>44060.0</td>\n",
       "      <td>10842.0</td>\n",
       "      <td>1.0</td>\n",
       "      <td>759.0</td>\n",
       "      <td>0.0</td>\n",
       "      <td>NaN</td>\n",
       "      <td>168.0</td>\n",
       "      <td>104838.71</td>\n",
       "      <td>4</td>\n",
       "      <td>1</td>\n",
       "      <td>2017</td>\n",
       "      <td>другой</td>\n",
       "      <td>11.0</td>\n",
       "    </tr>\n",
       "    <tr>\n",
       "      <th>19</th>\n",
       "      <td>16</td>\n",
       "      <td>14200000.0</td>\n",
       "      <td>121.0</td>\n",
       "      <td>2019-01-09</td>\n",
       "      <td>3</td>\n",
       "      <td>2.75</td>\n",
       "      <td>16</td>\n",
       "      <td>76.0</td>\n",
       "      <td>8</td>\n",
       "      <td>False</td>\n",
       "      <td>False</td>\n",
       "      <td>12.0</td>\n",
       "      <td>0</td>\n",
       "      <td>Санкт-Петербург</td>\n",
       "      <td>38900.0</td>\n",
       "      <td>12843.0</td>\n",
       "      <td>0.0</td>\n",
       "      <td>NaN</td>\n",
       "      <td>0.0</td>\n",
       "      <td>NaN</td>\n",
       "      <td>97.0</td>\n",
       "      <td>117355.37</td>\n",
       "      <td>2</td>\n",
       "      <td>1</td>\n",
       "      <td>2019</td>\n",
       "      <td>другой</td>\n",
       "      <td>13.0</td>\n",
       "    </tr>\n",
       "    <tr>\n",
       "      <th>20</th>\n",
       "      <td>12</td>\n",
       "      <td>6120000.0</td>\n",
       "      <td>80.0</td>\n",
       "      <td>2017-09-28</td>\n",
       "      <td>3</td>\n",
       "      <td>2.70</td>\n",
       "      <td>27</td>\n",
       "      <td>48.0</td>\n",
       "      <td>11</td>\n",
       "      <td>False</td>\n",
       "      <td>False</td>\n",
       "      <td>12.0</td>\n",
       "      <td>2</td>\n",
       "      <td>поселок Парголово</td>\n",
       "      <td>53134.0</td>\n",
       "      <td>19311.0</td>\n",
       "      <td>0.0</td>\n",
       "      <td>NaN</td>\n",
       "      <td>0.0</td>\n",
       "      <td>NaN</td>\n",
       "      <td>74.0</td>\n",
       "      <td>76500.00</td>\n",
       "      <td>3</td>\n",
       "      <td>9</td>\n",
       "      <td>2017</td>\n",
       "      <td>другой</td>\n",
       "      <td>19.0</td>\n",
       "    </tr>\n",
       "    <tr>\n",
       "      <th>22</th>\n",
       "      <td>20</td>\n",
       "      <td>5000000.0</td>\n",
       "      <td>58.0</td>\n",
       "      <td>2017-04-24</td>\n",
       "      <td>2</td>\n",
       "      <td>2.75</td>\n",
       "      <td>25</td>\n",
       "      <td>30.0</td>\n",
       "      <td>15</td>\n",
       "      <td>False</td>\n",
       "      <td>False</td>\n",
       "      <td>11.0</td>\n",
       "      <td>2</td>\n",
       "      <td>Кудрово</td>\n",
       "      <td>NaN</td>\n",
       "      <td>NaN</td>\n",
       "      <td>NaN</td>\n",
       "      <td>NaN</td>\n",
       "      <td>NaN</td>\n",
       "      <td>NaN</td>\n",
       "      <td>60.0</td>\n",
       "      <td>86206.90</td>\n",
       "      <td>0</td>\n",
       "      <td>4</td>\n",
       "      <td>2017</td>\n",
       "      <td>другой</td>\n",
       "      <td>NaN</td>\n",
       "    </tr>\n",
       "  </tbody>\n",
       "</table>\n",
       "</div>"
      ],
      "text/plain": [
       "    total_images  last_price  total_area first_day_exposition  rooms  \\\n",
       "0             20  13000000.0       108.0           2019-03-07      3   \n",
       "4              2  10000000.0       100.0           2018-06-19      2   \n",
       "9             18   5400000.0        61.0           2017-02-26      3   \n",
       "10             5   5050000.0        39.6           2017-11-16      1   \n",
       "13            20   3550000.0        42.8           2017-07-01      2   \n",
       "16            11   6700000.0        82.0           2017-11-23      3   \n",
       "18             8   3250000.0        31.0           2017-01-27      1   \n",
       "19            16  14200000.0       121.0           2019-01-09      3   \n",
       "20            12   6120000.0        80.0           2017-09-28      3   \n",
       "22            20   5000000.0        58.0           2017-04-24      2   \n",
       "\n",
       "    ceiling_height  floors_total  living_area  floor  studio  open_plan  \\\n",
       "0             2.70            16         51.0      8   False      False   \n",
       "4             3.03            14         32.0     13   False      False   \n",
       "9             2.50             9         43.6      7   False      False   \n",
       "10            2.67            12         20.3      3   False      False   \n",
       "13            2.56             5         27.0      5   False      False   \n",
       "16            3.05             5         55.6      1   False      False   \n",
       "18            2.50             5         19.4      2   False      False   \n",
       "19            2.75            16         76.0      8   False      False   \n",
       "20            2.70            27         48.0     11   False      False   \n",
       "22            2.75            25         30.0     15   False      False   \n",
       "\n",
       "    kitchen_area  balcony      locality_name  airports_nearest  \\\n",
       "0           25.0        0    Санкт-Петербург           18863.0   \n",
       "4           41.0        0    Санкт-Петербург           31856.0   \n",
       "9            6.5        2    Санкт-Петербург           50898.0   \n",
       "10           8.5        0    Санкт-Петербург           38357.0   \n",
       "13           5.2        1           Петергоф           37868.0   \n",
       "16           9.0        0    Санкт-Петербург           22108.0   \n",
       "18           5.6        1    Санкт-Петербург           44060.0   \n",
       "19          12.0        0    Санкт-Петербург           38900.0   \n",
       "20          12.0        2  поселок Парголово           53134.0   \n",
       "22          11.0        2            Кудрово               NaN   \n",
       "\n",
       "    city_centers_nearest  parks_around3000  parks_nearest  ponds_around3000  \\\n",
       "0                16028.0               1.0          482.0               2.0   \n",
       "4                 8098.0               2.0          112.0               1.0   \n",
       "9                15008.0               0.0            NaN               0.0   \n",
       "10               13878.0               1.0          310.0               2.0   \n",
       "13               33058.0               1.0          294.0               3.0   \n",
       "16               10698.0               3.0          420.0               0.0   \n",
       "18               10842.0               1.0          759.0               0.0   \n",
       "19               12843.0               0.0            NaN               0.0   \n",
       "20               19311.0               0.0            NaN               0.0   \n",
       "22                   NaN               NaN            NaN               NaN   \n",
       "\n",
       "    ponds_nearest  days_exposition  price_per_meter  weekday  month  year  \\\n",
       "0           755.0              NaN        120370.37        3      3  2019   \n",
       "4            48.0            121.0        100000.00        1      6  2018   \n",
       "9             NaN            289.0         88524.59        6      2  2017   \n",
       "10          553.0            137.0        127525.25        3     11  2017   \n",
       "13          298.0            366.0         82943.93        5      7  2017   \n",
       "16            NaN            397.0         81707.32        3     11  2017   \n",
       "18            NaN            168.0        104838.71        4      1  2017   \n",
       "19            NaN             97.0        117355.37        2      1  2019   \n",
       "20            NaN             74.0         76500.00        3      9  2017   \n",
       "22            NaN             60.0         86206.90        0      4  2017   \n",
       "\n",
       "   floor_type  city_centers_nearest_km  \n",
       "0      другой                     16.0  \n",
       "4      другой                      8.0  \n",
       "9      другой                     15.0  \n",
       "10     другой                     14.0  \n",
       "13  последний                     33.0  \n",
       "16     первый                     11.0  \n",
       "18     другой                     11.0  \n",
       "19     другой                     13.0  \n",
       "20     другой                     19.0  \n",
       "22     другой                      NaN  "
      ]
     },
     "execution_count": 30,
     "metadata": {},
     "output_type": "execute_result"
    }
   ],
   "source": [
    "better_data.head(10)"
   ]
  },
  {
   "cell_type": "markdown",
   "metadata": {},
   "source": [
    "**Вывод: в таблицу были добавлены столбцы, которые в дальнейшем пригодятся для проведения исследования.**"
   ]
  },
  {
   "cell_type": "markdown",
   "metadata": {},
   "source": [
    "<div class=\"alert alert-block alert-success\">\n",
    " \n",
    "### Комментарий ревьюера\n",
    "    \n",
    "#### Успех\n",
    "    \n",
    "А теперь данные готовы к дальнейшему анализу"
   ]
  },
  {
   "cell_type": "markdown",
   "metadata": {
    "id": "pPyxrKWTAwb-"
   },
   "source": [
    "### Проведите исследовательский анализ данных"
   ]
  },
  {
   "cell_type": "markdown",
   "metadata": {},
   "source": [
    "#### Изучение некоторых параметров объектов"
   ]
  },
  {
   "cell_type": "markdown",
   "metadata": {},
   "source": [
    "**Тип этажа:**"
   ]
  },
  {
   "cell_type": "code",
   "execution_count": 31,
   "metadata": {},
   "outputs": [
    {
     "data": {
      "text/plain": [
       "floor_type\n",
       "другой       10426\n",
       "первый        1790\n",
       "последний     2049\n",
       "Name: rooms, dtype: int64"
      ]
     },
     "execution_count": 31,
     "metadata": {},
     "output_type": "execute_result"
    }
   ],
   "source": [
    "better_data.groupby('floor_type')['rooms'].count()"
   ]
  },
  {
   "cell_type": "markdown",
   "metadata": {},
   "source": [
    "**Общее количество этажей в доме:**"
   ]
  },
  {
   "cell_type": "code",
   "execution_count": 32,
   "metadata": {},
   "outputs": [
    {
     "name": "stdout",
     "output_type": "stream",
     "text": [
      "count    14265.000000\n",
      "mean        10.157378\n",
      "std          6.179633\n",
      "min          1.000000\n",
      "25%          5.000000\n",
      "50%          9.000000\n",
      "75%         14.000000\n",
      "max         60.000000\n",
      "Name: floors_total, dtype: float64\n"
     ]
    },
    {
     "data": {
      "text/plain": [
       "2253     60\n",
       "16731    52\n",
       "16934    37\n",
       "11079    36\n",
       "5807     36\n",
       "397      36\n",
       "4855     35\n",
       "18218    35\n",
       "21809    35\n",
       "7236     35\n",
       "Name: floors_total, dtype: int64"
      ]
     },
     "execution_count": 32,
     "metadata": {},
     "output_type": "execute_result"
    },
    {
     "data": {
      "image/png": "[encoded data removed]",
      "text/plain": [
       "<Figure size 720x360 with 1 Axes>"
      ]
     },
     "metadata": {
      "needs_background": "light"
     },
     "output_type": "display_data"
    }
   ],
   "source": [
    "better_data.hist('floors_total', bins=60, figsize =(10, 5)) \n",
    "print(better_data['floors_total'].describe())\n",
    "data['floors_total'].sort_values(ascending=False).head(10) # самые большие значения"
   ]
  },
  {
   "cell_type": "markdown",
   "metadata": {},
   "source": [
    "<div class=\"alert alert-block alert-warning\">\n",
    " \n",
    "### Комментарий ревьюера\n",
    "    \n",
    "#### Совет\n",
    "    \n",
    "Хочется, чтобы ты давал графикам понятные названия. Сделать это можно командой title()"
   ]
  },
  {
   "cell_type": "markdown",
   "metadata": {},
   "source": [
    "<div class=\"alert alert-block alert-success\">\n",
    " \n",
    "### Комментарий ревьюера\n",
    "    \n",
    "#### Успех\n",
    "    \n",
    "По визуализации хорошо видно, что у нас много домов типовой застройки. "
   ]
  },
  {
   "cell_type": "markdown",
   "metadata": {},
   "source": [
    "**Расстояние до центра города в метрах:**"
   ]
  },
  {
   "cell_type": "code",
   "execution_count": 33,
   "metadata": {},
   "outputs": [
    {
     "data": {
      "text/plain": [
       "array([[<AxesSubplot:title={'center':'city_centers_nearest'}>]],\n",
       "      dtype=object)"
      ]
     },
     "execution_count": 33,
     "metadata": {},
     "output_type": "execute_result"
    },
    {
     "data": {
      "image/png": "[encoded data removed]",
      "text/plain": [
       "<Figure size 720x360 with 1 Axes>"
      ]
     },
     "metadata": {
      "needs_background": "light"
     },
     "output_type": "display_data"
    }
   ],
   "source": [
    "better_data.hist('city_centers_nearest', bins=60, figsize =(10, 5))"
   ]
  },
  {
   "cell_type": "markdown",
   "metadata": {},
   "source": [
    "**Расстояние до ближайшего парка:**"
   ]
  },
  {
   "cell_type": "code",
   "execution_count": 34,
   "metadata": {},
   "outputs": [
    {
     "data": {
      "text/plain": [
       "array([[<AxesSubplot:title={'center':'parks_nearest'}>]], dtype=object)"
      ]
     },
     "execution_count": 34,
     "metadata": {},
     "output_type": "execute_result"
    },
    {
     "data": {
      "image/png": "[encoded data removed]",
      "text/plain": [
       "<Figure size 720x360 with 1 Axes>"
      ]
     },
     "metadata": {
      "needs_background": "light"
     },
     "output_type": "display_data"
    }
   ],
   "source": [
    "better_data.hist('parks_nearest', bins=60, figsize =(10, 5))"
   ]
  },
  {
   "cell_type": "markdown",
   "metadata": {
    "id": "V2f0D3kLAwb-"
   },
   "source": [
    "**Вывод: первых и последних этажей меньше чем остальных.** \n",
    "\n",
    "**В Питере очень много 5-и и 9-и этажных домов, продается квартира на 60-ом этаже, не берусь судить, есть ли такое на самом деле, или это ошибочные данные.** \n",
    "\n",
    "**Основная масса продающихся квартир находится на расстоянии от 10 до 20 км от центра.**\n",
    "\n",
    "**У большинства квартир есть хотя бы 1 пруд на расстоянии менее 1 км.**"
   ]
  },
  {
   "cell_type": "markdown",
   "metadata": {},
   "source": [
    "<div class=\"alert alert-block alert-success\">\n",
    " \n",
    "### Комментарий ревьюера\n",
    "    \n",
    "#### Успех\n",
    "    \n",
    "По выводам здорово"
   ]
  },
  {
   "cell_type": "markdown",
   "metadata": {},
   "source": [
    "#### Изучение скорости продажи квартир"
   ]
  },
  {
   "cell_type": "code",
   "execution_count": 35,
   "metadata": {},
   "outputs": [
    {
     "name": "stdout",
     "output_type": "stream",
     "text": [
      "Средняя скорость продаж: 190.32\n",
      "Медианная скорость продаж: 103.00\n"
     ]
    },
    {
     "data": {
      "text/plain": [
       "count    11848.000000\n",
       "mean       190.315834\n",
       "std        228.435709\n",
       "min          1.000000\n",
       "25%         45.000000\n",
       "50%        103.000000\n",
       "75%        247.000000\n",
       "max       1580.000000\n",
       "Name: days_exposition, dtype: float64"
      ]
     },
     "execution_count": 35,
     "metadata": {},
     "output_type": "execute_result"
    },
    {
     "data": {
      "image/png": "[encoded data removed]",
      "text/plain": [
       "<Figure size 864x432 with 1 Axes>"
      ]
     },
     "metadata": {
      "needs_background": "light"
     },
     "output_type": "display_data"
    }
   ],
   "source": [
    "better_data.hist('days_exposition', bins=200, figsize=(12, 6))\n",
    "exposition_days_mean = better_data['days_exposition'].mean()\n",
    "exposition_days_median = better_data['days_exposition'].median()\n",
    "print(f'Средняя скорость продаж: {exposition_days_mean:.2f}')\n",
    "print(f'Медианная скорость продаж: {exposition_days_median:.2f}')\n",
    "better_data['days_exposition'].describe()"
   ]
  },
  {
   "cell_type": "markdown",
   "metadata": {},
   "source": [
    "**На графике видны высокие значения на 7, 30, 45, 60 и 90 днях.Они могут говорить не о том, что квартира была продана, а лишь означать что объявление автоматически снимается с сайта при достижении определенного срока. В таком случае возможно, хозяин продал квартиру быстрее и просто забыл снять объявление, а может объявление автоматически снялось и ему снова пришлось его выставлять.**"
   ]
  },
  {
   "cell_type": "code",
   "execution_count": 36,
   "metadata": {},
   "outputs": [
    {
     "data": {
      "text/plain": [
       "array([[<AxesSubplot:title={'center':'days_exposition'}>]], dtype=object)"
      ]
     },
     "execution_count": 36,
     "metadata": {},
     "output_type": "execute_result"
    },
    {
     "data": {
      "image/png": "[encoded data removed]",
      "text/plain": [
       "<Figure size 864x432 with 1 Axes>"
      ]
     },
     "metadata": {
      "needs_background": "light"
     },
     "output_type": "display_data"
    }
   ],
   "source": [
    "better_data.hist('days_exposition', bins=100, range=(0, 100), figsize=(12, 6))"
   ]
  },
  {
   "cell_type": "markdown",
   "metadata": {},
   "source": [
    "**Вывод: обычно продажа квартиры занимает около 100 дней. Быстрой можно считать продажу, которая совершилась за 45 дней или быстрее. Необычно долгими можно считать продажи которые заняли более 600 дней.**"
   ]
  },
  {
   "cell_type": "markdown",
   "metadata": {},
   "source": [
    "<div class=\"alert alert-block alert-success\">\n",
    " \n",
    "### Комментарий ревьюера\n",
    "    \n",
    "#### Успех\n",
    "    \n",
    "Здорово, что заметил выбивающиеся значения. Они появились тут не просто так. В эти дни система убирает с показа бесплатные объявления."
   ]
  },
  {
   "cell_type": "markdown",
   "metadata": {},
   "source": [
    "#### Определение факторов, которые больше влияют на стоимость объекта"
   ]
  },
  {
   "cell_type": "markdown",
   "metadata": {},
   "source": [
    "**На графике влияния общей площади на стоимость квартиры хорошо видна положительная корреляция. Коэффициент Пирсона 0.76 говорит о довольно сильной связи между этими показателями.**\n",
    "\n",
    "**На графике влияния жилой площади на стоимость квартиры корреляция чуть менее заметна. Коэффициент Пирсона 0.67 - связь между жилплощадью и и стоимостью есть, но не так сильна как в случае с общей площадью.**\n",
    "\n",
    "**На графике влияния площади кухни на стоимость квартиры корреляция еще слабее. Коэффициент Пирсона 0.6 говорит о наличии связи, однако не слишком сильной.**"
   ]
  },
  {
   "cell_type": "code",
   "execution_count": 37,
   "metadata": {},
   "outputs": [
    {
     "data": {
      "text/plain": [
       "0.7633323825906121"
      ]
     },
     "execution_count": 37,
     "metadata": {},
     "output_type": "execute_result"
    },
    {
     "data": {
      "image/png": "[encoded data removed]",
      "text/plain": [
       "<Figure size 720x360 with 1 Axes>"
      ]
     },
     "metadata": {
      "needs_background": "light"
     },
     "output_type": "display_data"
    }
   ],
   "source": [
    "better_data.plot(x='last_price', y='total_area', s = 1, kind='scatter', grid=True, figsize=(10, 5), alpha=0.3)\n",
    "better_data['last_price'].corr(better_data['total_area'])"
   ]
  },
  {
   "cell_type": "code",
   "execution_count": 38,
   "metadata": {},
   "outputs": [
    {
     "data": {
      "text/plain": [
       "0.6711392178597689"
      ]
     },
     "execution_count": 38,
     "metadata": {},
     "output_type": "execute_result"
    },
    {
     "data": {
      "image/png": "[encoded data removed]",
      "text/plain": [
       "<Figure size 720x360 with 1 Axes>"
      ]
     },
     "metadata": {
      "needs_background": "light"
     },
     "output_type": "display_data"
    }
   ],
   "source": [
    "better_data.plot(x='last_price', y='living_area', s = 1, kind='scatter', grid=True, figsize=(10, 5), alpha=0.3)\n",
    "better_data['last_price'].corr(better_data['living_area'])"
   ]
  },
  {
   "cell_type": "markdown",
   "metadata": {},
   "source": [
    "<div class=\"alert alert-block alert-success\">\n",
    " \n",
    "### Комментарий ревьюера\n",
    "    \n",
    "#### Успех\n",
    "    \n",
    "Хороший метод используешь для показа зависимости. "
   ]
  },
  {
   "cell_type": "code",
   "execution_count": 39,
   "metadata": {},
   "outputs": [
    {
     "data": {
      "text/plain": [
       "0.59667327130372"
      ]
     },
     "execution_count": 39,
     "metadata": {},
     "output_type": "execute_result"
    },
    {
     "data": {
      "image/png": "[encoded data removed]",
      "text/plain": [
       "<Figure size 720x360 with 1 Axes>"
      ]
     },
     "metadata": {
      "needs_background": "light"
     },
     "output_type": "display_data"
    }
   ],
   "source": [
    "better_data.plot(x='last_price', y='kitchen_area', s = 1, kind='scatter', grid=True, figsize=(10, 5), alpha=0.3)\n",
    "better_data['last_price'].corr(better_data['kitchen_area'])"
   ]
  },
  {
   "cell_type": "markdown",
   "metadata": {},
   "source": [
    "**По графику 'rooms_impact' хорошо видно как количество комнат влияет на среднюю цену, там где их меньше 8. Квартиры с 7-10 комнатами в среднем стоят примерно одинаково.**"
   ]
  },
  {
   "cell_type": "code",
   "execution_count": 40,
   "metadata": {},
   "outputs": [
    {
     "data": {
      "text/plain": [
       "<AxesSubplot:xlabel='rooms'>"
      ]
     },
     "execution_count": 40,
     "metadata": {},
     "output_type": "execute_result"
    },
    {
     "data": {
      "image/png": "[encoded data removed]",
      "text/plain": [
       "<Figure size 720x360 with 1 Axes>"
      ]
     },
     "metadata": {
      "needs_background": "light"
     },
     "output_type": "display_data"
    }
   ],
   "source": [
    "rooms_impact = better_data.pivot_table(index='rooms', values='last_price')\n",
    "rooms_impact.plot(kind='bar', figsize=(10, 5))"
   ]
  },
  {
   "cell_type": "markdown",
   "metadata": {},
   "source": [
    "**Квартиры на первом этаже в среднем на 25% дешевле квартир на последнем, и на 27% дешевле квартир на других этажах. График это подтверждает.**"
   ]
  },
  {
   "cell_type": "code",
   "execution_count": 41,
   "metadata": {},
   "outputs": [
    {
     "name": "stdout",
     "output_type": "stream",
     "text": [
      "0.272852860747398\n"
     ]
    },
    {
     "data": {
      "text/plain": [
       "0.2459020363285066"
      ]
     },
     "execution_count": 41,
     "metadata": {},
     "output_type": "execute_result"
    },
    {
     "data": {
      "image/png": "[encoded data removed]",
      "text/plain": [
       "<Figure size 720x360 with 1 Axes>"
      ]
     },
     "metadata": {
      "needs_background": "light"
     },
     "output_type": "display_data"
    }
   ],
   "source": [
    "floor_type_impact = better_data.pivot_table(index='floor_type', values='last_price')\n",
    "floor_type_impact.plot(kind='bar', figsize=(10, 5))\n",
    "#вывожу на экран на сколько дешевле кв на 1 этаже чем на других\n",
    "print( 1 - better_data.query('floor_type == \"первый\"')['last_price'].mean() / \\\n",
    "better_data.query('floor_type == \"другой\"')['last_price'].mean()) \n",
    "#считаю на сколько дешевле кв на 1 этаже чем на последнем\n",
    "1 - better_data.query('floor_type == \"первый\"')['last_price'].mean() / \\\n",
    "better_data.query('floor_type == \"последний\"')['last_price'].mean()"
   ]
  },
  {
   "cell_type": "markdown",
   "metadata": {},
   "source": [
    "<div class=\"alert alert-block alert-success\">\n",
    " \n",
    "### Комментарий ревьюера\n",
    "    \n",
    "#### Успех\n",
    "    \n",
    "Квартиры на первом этаже стоят меньше остальных "
   ]
  },
  {
   "cell_type": "markdown",
   "metadata": {},
   "source": [
    "**Как ни странно, день недели размещения объявления не особо влияет на стоимость объекта, разве что в субботу люди несколько \"добрее\", чем в другие дни.**\n",
    "\n",
    "**В первом и последнем месяце квартиры в среднем чуть дороже, чем в остальные.**\n",
    "\n",
    "**Средняя стоимость квартир в 2014 была значительно выше, чем в другие годы. Возможно, это связано с политическими событиями, или с малым количеством объявлений в Яндекс Недвижимости. В 2015 квартиры так же были чуть дороже, чем в последующие годы.**"
   ]
  },
  {
   "cell_type": "code",
   "execution_count": 42,
   "metadata": {},
   "outputs": [
    {
     "data": {
      "text/plain": [
       "<AxesSubplot:title={'center':'стоимость квартир по неделям'}, xlabel='weekday'>"
      ]
     },
     "execution_count": 42,
     "metadata": {},
     "output_type": "execute_result"
    },
    {
     "data": {
      "image/png": "[encoded data removed]",
      "text/plain": [
       "<Figure size 720x360 with 1 Axes>"
      ]
     },
     "metadata": {
      "needs_background": "light"
     },
     "output_type": "display_data"
    }
   ],
   "source": [
    "weekday_impact = better_data.pivot_table(index='weekday', values='last_price')\n",
    "weekday_impact.plot(kind='bar', figsize=(10, 5), legend=False, title = 'стоимость квартир по неделям')"
   ]
  },
  {
   "cell_type": "code",
   "execution_count": 43,
   "metadata": {},
   "outputs": [
    {
     "data": {
      "text/plain": [
       "<AxesSubplot:title={'center':'стоимость квартир по месяцам'}, xlabel='month'>"
      ]
     },
     "execution_count": 43,
     "metadata": {},
     "output_type": "execute_result"
    },
    {
     "data": {
      "image/png": "[encoded data removed]",
      "text/plain": [
       "<Figure size 720x360 with 1 Axes>"
      ]
     },
     "metadata": {
      "needs_background": "light"
     },
     "output_type": "display_data"
    }
   ],
   "source": [
    "month_impact = better_data.pivot_table(index='month', values='last_price')\n",
    "month_impact.plot(kind='bar', figsize=(10, 5), legend=False, title = 'стоимость квартир по месяцам')"
   ]
  },
  {
   "cell_type": "markdown",
   "metadata": {},
   "source": [
    "<div class=\"alert alert-block alert-danger\">\n",
    " \n",
    "### Комментарий ревьюера\n",
    "    \n",
    "#### Ошибка\n",
    "    \n",
    "А давай сделаем так, чтобы легенды не перекрывали кривые графиков "
   ]
  },
  {
   "cell_type": "markdown",
   "metadata": {},
   "source": [
    "<div class=\"alert alert-block alert-success\">\n",
    " \n",
    "# Комментарий ревьюера ver.2 \n",
    "    \n",
    "#### Успех\n",
    "    \n",
    "Вот так лучше "
   ]
  },
  {
   "cell_type": "code",
   "execution_count": 44,
   "metadata": {},
   "outputs": [
    {
     "data": {
      "text/plain": [
       "73"
      ]
     },
     "execution_count": 44,
     "metadata": {},
     "output_type": "execute_result"
    },
    {
     "data": {
      "image/png": "[encoded data removed]",
      "text/plain": [
       "<Figure size 720x360 with 1 Axes>"
      ]
     },
     "metadata": {
      "needs_background": "light"
     },
     "output_type": "display_data"
    },
    {
     "data": {
      "image/png": "[encoded data removed]",
      "text/plain": [
       "<Figure size 720x360 with 1 Axes>"
      ]
     },
     "metadata": {
      "needs_background": "light"
     },
     "output_type": "display_data"
    }
   ],
   "source": [
    "year_impact = better_data.pivot_table(index='year', values='last_price')\n",
    "year_impact.plot(kind='bar', figsize=(10, 5), legend=False, title = 'стоимость квартир по годам')  # график с средней ценой по годам\n",
    "year_count = better_data.pivot_table(index='year', values='last_price', aggfunc='count')\n",
    "year_count.plot(kind='bar', figsize=(10, 5), legend=False, title = 'количество объявлений в каждый год')  # график с количеством объявлений по годам\n",
    "better_data.query('year == 2014')['rooms'].count()"
   ]
  },
  {
   "cell_type": "markdown",
   "metadata": {},
   "source": [
    "**Вывод: больше всего на стоимость объекта влияют такие факторы как общая площадь и количество комнат(до 7).**"
   ]
  },
  {
   "cell_type": "markdown",
   "metadata": {},
   "source": [
    "#### Рассчет средней цены одного квадратного метра в 10 населённых пунктах с наибольшим числом объявлений"
   ]
  },
  {
   "cell_type": "code",
   "execution_count": 45,
   "metadata": {},
   "outputs": [
    {
     "data": {
      "text/html": [
       "<div>\n",
       "<style scoped>\n",
       "    .dataframe tbody tr th:only-of-type {\n",
       "        vertical-align: middle;\n",
       "    }\n",
       "\n",
       "    .dataframe tbody tr th {\n",
       "        vertical-align: top;\n",
       "    }\n",
       "\n",
       "    .dataframe thead th {\n",
       "        text-align: right;\n",
       "    }\n",
       "</style>\n",
       "<table border=\"1\" class=\"dataframe\">\n",
       "  <thead>\n",
       "    <tr style=\"text-align: right;\">\n",
       "      <th></th>\n",
       "      <th>count</th>\n",
       "      <th>mean_price_pm</th>\n",
       "    </tr>\n",
       "    <tr>\n",
       "      <th>locality_name</th>\n",
       "      <th></th>\n",
       "      <th></th>\n",
       "    </tr>\n",
       "  </thead>\n",
       "  <tbody>\n",
       "    <tr>\n",
       "      <th>Санкт-Петербург</th>\n",
       "      <td>9933</td>\n",
       "      <td>114213.46</td>\n",
       "    </tr>\n",
       "    <tr>\n",
       "      <th>Пушкин</th>\n",
       "      <td>234</td>\n",
       "      <td>103920.49</td>\n",
       "    </tr>\n",
       "    <tr>\n",
       "      <th>Кудрово</th>\n",
       "      <td>187</td>\n",
       "      <td>95902.94</td>\n",
       "    </tr>\n",
       "    <tr>\n",
       "      <th>поселок Парголово</th>\n",
       "      <td>137</td>\n",
       "      <td>90901.35</td>\n",
       "    </tr>\n",
       "    <tr>\n",
       "      <th>Мурино</th>\n",
       "      <td>220</td>\n",
       "      <td>87420.92</td>\n",
       "    </tr>\n",
       "    <tr>\n",
       "      <th>Петергоф</th>\n",
       "      <td>145</td>\n",
       "      <td>85554.14</td>\n",
       "    </tr>\n",
       "    <tr>\n",
       "      <th>поселок Шушары</th>\n",
       "      <td>214</td>\n",
       "      <td>79239.18</td>\n",
       "    </tr>\n",
       "    <tr>\n",
       "      <th>Колпино</th>\n",
       "      <td>202</td>\n",
       "      <td>76034.44</td>\n",
       "    </tr>\n",
       "    <tr>\n",
       "      <th>Гатчина</th>\n",
       "      <td>146</td>\n",
       "      <td>69893.18</td>\n",
       "    </tr>\n",
       "    <tr>\n",
       "      <th>Всеволожск</th>\n",
       "      <td>265</td>\n",
       "      <td>67258.09</td>\n",
       "    </tr>\n",
       "  </tbody>\n",
       "</table>\n",
       "</div>"
      ],
      "text/plain": [
       "                   count  mean_price_pm\n",
       "locality_name                          \n",
       "Санкт-Петербург     9933      114213.46\n",
       "Пушкин               234      103920.49\n",
       "Кудрово              187       95902.94\n",
       "поселок Парголово    137       90901.35\n",
       "Мурино               220       87420.92\n",
       "Петергоф             145       85554.14\n",
       "поселок Шушары       214       79239.18\n",
       "Колпино              202       76034.44\n",
       "Гатчина              146       69893.18\n",
       "Всеволожск           265       67258.09"
      ]
     },
     "execution_count": 45,
     "metadata": {},
     "output_type": "execute_result"
    }
   ],
   "source": [
    "#создаю сводную таблицу по нас пунктам, считаю кол-во объявлений и среднюю цену кв\n",
    "best_data = better_data.pivot_table(index = 'locality_name', values = 'price_per_meter',  aggfunc = ['count', 'mean'])\n",
    "#переименовываю столбцы, затем округляю до копеек цену\n",
    "best_data.columns = ['count', 'mean_price_pm']\n",
    "best_data['mean_price_pm'] = round(best_data['mean_price_pm'], 2)\n",
    "#оставляю топ 10 строк по кол-ву объявлений, затем сортирую по сред цене за кв м\n",
    "best_data = best_data.sort_values('count', ascending=False).head(10)\n",
    "best_data = best_data.sort_values('mean_price_pm', ascending=False)\n",
    "best_data"
   ]
  },
  {
   "cell_type": "markdown",
   "metadata": {},
   "source": [
    "<div class=\"alert alert-block alert-success\">\n",
    " \n",
    "### Комментарий ревьюера\n",
    "    \n",
    "#### Успех\n",
    "    \n",
    "Рейтинг топ-10 по городам мы получили "
   ]
  },
  {
   "cell_type": "markdown",
   "metadata": {},
   "source": [
    "**Вывод: по сводной таблице 'best_data' видно, что из 10 населенных пунктов с наибольшим числом объявлений - в СПБ самая высокая стоимость квадратного метра, а во Всеволжске - самая низкая.**"
   ]
  },
  {
   "cell_type": "markdown",
   "metadata": {},
   "source": [
    " #### Вычисление средней стоимости квартир в Санкт-Петербурге на разном удалении от центра"
   ]
  },
  {
   "cell_type": "markdown",
   "metadata": {},
   "source": [
    "**По таблице 'price_to_distance' видно, что чем дальше квартира от центра - тем она дешевле.**"
   ]
  },
  {
   "cell_type": "code",
   "execution_count": 46,
   "metadata": {},
   "outputs": [
    {
     "data": {
      "text/html": [
       "<style  type=\"text/css\" >\n",
       "</style><table id=\"T_1a85b_\" ><thead>    <tr>        <th class=\"blank level0\" ></th>        <th class=\"col_heading level0 col0\" >last_price</th>    </tr>    <tr>        <th class=\"index_name level0\" >city_centers_nearest_km</th>        <th class=\"blank\" ></th>    </tr></thead><tbody>\n",
       "                <tr>\n",
       "                        <th id=\"T_1a85b_level0_row0\" class=\"row_heading level0 row0\" >0.0</th>\n",
       "                        <td id=\"T_1a85b_row0_col0\" class=\"data row0 col0\" >21522294.12</td>\n",
       "            </tr>\n",
       "            <tr>\n",
       "                        <th id=\"T_1a85b_level0_row1\" class=\"row_heading level0 row1\" >1.0</th>\n",
       "                        <td id=\"T_1a85b_row1_col0\" class=\"data row1 col0\" >15343753.96</td>\n",
       "            </tr>\n",
       "            <tr>\n",
       "                        <th id=\"T_1a85b_level0_row2\" class=\"row_heading level0 row2\" >2.0</th>\n",
       "                        <td id=\"T_1a85b_row2_col0\" class=\"data row2 col0\" >15319075.49</td>\n",
       "            </tr>\n",
       "            <tr>\n",
       "                        <th id=\"T_1a85b_level0_row3\" class=\"row_heading level0 row3\" >3.0</th>\n",
       "                        <td id=\"T_1a85b_row3_col0\" class=\"data row3 col0\" >10574610.30</td>\n",
       "            </tr>\n",
       "            <tr>\n",
       "                        <th id=\"T_1a85b_level0_row4\" class=\"row_heading level0 row4\" >4.0</th>\n",
       "                        <td id=\"T_1a85b_row4_col0\" class=\"data row4 col0\" >11949765.64</td>\n",
       "            </tr>\n",
       "            <tr>\n",
       "                        <th id=\"T_1a85b_level0_row5\" class=\"row_heading level0 row5\" >5.0</th>\n",
       "                        <td id=\"T_1a85b_row5_col0\" class=\"data row5 col0\" >12599499.06</td>\n",
       "            </tr>\n",
       "            <tr>\n",
       "                        <th id=\"T_1a85b_level0_row6\" class=\"row_heading level0 row6\" >6.0</th>\n",
       "                        <td id=\"T_1a85b_row6_col0\" class=\"data row6 col0\" >12881122.06</td>\n",
       "            </tr>\n",
       "            <tr>\n",
       "                        <th id=\"T_1a85b_level0_row7\" class=\"row_heading level0 row7\" >7.0</th>\n",
       "                        <td id=\"T_1a85b_row7_col0\" class=\"data row7 col0\" >13710459.28</td>\n",
       "            </tr>\n",
       "            <tr>\n",
       "                        <th id=\"T_1a85b_level0_row8\" class=\"row_heading level0 row8\" >8.0</th>\n",
       "                        <td id=\"T_1a85b_row8_col0\" class=\"data row8 col0\" >9678958.36</td>\n",
       "            </tr>\n",
       "            <tr>\n",
       "                        <th id=\"T_1a85b_level0_row9\" class=\"row_heading level0 row9\" >9.0</th>\n",
       "                        <td id=\"T_1a85b_row9_col0\" class=\"data row9 col0\" >7450168.86</td>\n",
       "            </tr>\n",
       "            <tr>\n",
       "                        <th id=\"T_1a85b_level0_row10\" class=\"row_heading level0 row10\" >10.0</th>\n",
       "                        <td id=\"T_1a85b_row10_col0\" class=\"data row10 col0\" >6858456.28</td>\n",
       "            </tr>\n",
       "            <tr>\n",
       "                        <th id=\"T_1a85b_level0_row11\" class=\"row_heading level0 row11\" >11.0</th>\n",
       "                        <td id=\"T_1a85b_row11_col0\" class=\"data row11 col0\" >6366428.69</td>\n",
       "            </tr>\n",
       "            <tr>\n",
       "                        <th id=\"T_1a85b_level0_row12\" class=\"row_heading level0 row12\" >12.0</th>\n",
       "                        <td id=\"T_1a85b_row12_col0\" class=\"data row12 col0\" >5989871.31</td>\n",
       "            </tr>\n",
       "            <tr>\n",
       "                        <th id=\"T_1a85b_level0_row13\" class=\"row_heading level0 row13\" >13.0</th>\n",
       "                        <td id=\"T_1a85b_row13_col0\" class=\"data row13 col0\" >6196364.76</td>\n",
       "            </tr>\n",
       "            <tr>\n",
       "                        <th id=\"T_1a85b_level0_row14\" class=\"row_heading level0 row14\" >14.0</th>\n",
       "                        <td id=\"T_1a85b_row14_col0\" class=\"data row14 col0\" >5627560.40</td>\n",
       "            </tr>\n",
       "            <tr>\n",
       "                        <th id=\"T_1a85b_level0_row15\" class=\"row_heading level0 row15\" >15.0</th>\n",
       "                        <td id=\"T_1a85b_row15_col0\" class=\"data row15 col0\" >5939174.02</td>\n",
       "            </tr>\n",
       "            <tr>\n",
       "                        <th id=\"T_1a85b_level0_row16\" class=\"row_heading level0 row16\" >16.0</th>\n",
       "                        <td id=\"T_1a85b_row16_col0\" class=\"data row16 col0\" >5441295.24</td>\n",
       "            </tr>\n",
       "            <tr>\n",
       "                        <th id=\"T_1a85b_level0_row17\" class=\"row_heading level0 row17\" >17.0</th>\n",
       "                        <td id=\"T_1a85b_row17_col0\" class=\"data row17 col0\" >5284982.14</td>\n",
       "            </tr>\n",
       "            <tr>\n",
       "                        <th id=\"T_1a85b_level0_row18\" class=\"row_heading level0 row18\" >18.0</th>\n",
       "                        <td id=\"T_1a85b_row18_col0\" class=\"data row18 col0\" >4908177.64</td>\n",
       "            </tr>\n",
       "            <tr>\n",
       "                        <th id=\"T_1a85b_level0_row19\" class=\"row_heading level0 row19\" >19.0</th>\n",
       "                        <td id=\"T_1a85b_row19_col0\" class=\"data row19 col0\" >5008085.17</td>\n",
       "            </tr>\n",
       "            <tr>\n",
       "                        <th id=\"T_1a85b_level0_row20\" class=\"row_heading level0 row20\" >20.0</th>\n",
       "                        <td id=\"T_1a85b_row20_col0\" class=\"data row20 col0\" >5624782.61</td>\n",
       "            </tr>\n",
       "            <tr>\n",
       "                        <th id=\"T_1a85b_level0_row21\" class=\"row_heading level0 row21\" >21.0</th>\n",
       "                        <td id=\"T_1a85b_row21_col0\" class=\"data row21 col0\" >5809507.56</td>\n",
       "            </tr>\n",
       "            <tr>\n",
       "                        <th id=\"T_1a85b_level0_row22\" class=\"row_heading level0 row22\" >22.0</th>\n",
       "                        <td id=\"T_1a85b_row22_col0\" class=\"data row22 col0\" >5479201.76</td>\n",
       "            </tr>\n",
       "            <tr>\n",
       "                        <th id=\"T_1a85b_level0_row23\" class=\"row_heading level0 row23\" >23.0</th>\n",
       "                        <td id=\"T_1a85b_row23_col0\" class=\"data row23 col0\" >5182689.66</td>\n",
       "            </tr>\n",
       "            <tr>\n",
       "                        <th id=\"T_1a85b_level0_row24\" class=\"row_heading level0 row24\" >24.0</th>\n",
       "                        <td id=\"T_1a85b_row24_col0\" class=\"data row24 col0\" >4648000.00</td>\n",
       "            </tr>\n",
       "            <tr>\n",
       "                        <th id=\"T_1a85b_level0_row25\" class=\"row_heading level0 row25\" >25.0</th>\n",
       "                        <td id=\"T_1a85b_row25_col0\" class=\"data row25 col0\" >4267500.00</td>\n",
       "            </tr>\n",
       "            <tr>\n",
       "                        <th id=\"T_1a85b_level0_row26\" class=\"row_heading level0 row26\" >26.0</th>\n",
       "                        <td id=\"T_1a85b_row26_col0\" class=\"data row26 col0\" >4162600.00</td>\n",
       "            </tr>\n",
       "            <tr>\n",
       "                        <th id=\"T_1a85b_level0_row27\" class=\"row_heading level0 row27\" >27.0</th>\n",
       "                        <td id=\"T_1a85b_row27_col0\" class=\"data row27 col0\" >14350000.00</td>\n",
       "            </tr>\n",
       "            <tr>\n",
       "                        <th id=\"T_1a85b_level0_row28\" class=\"row_heading level0 row28\" >28.0</th>\n",
       "                        <td id=\"T_1a85b_row28_col0\" class=\"data row28 col0\" >7600000.00</td>\n",
       "            </tr>\n",
       "            <tr>\n",
       "                        <th id=\"T_1a85b_level0_row29\" class=\"row_heading level0 row29\" >29.0</th>\n",
       "                        <td id=\"T_1a85b_row29_col0\" class=\"data row29 col0\" >4114000.00</td>\n",
       "            </tr>\n",
       "    </tbody></table>"
      ],
      "text/plain": [
       "<pandas.io.formats.style.Styler at 0x7f08ce762af0>"
      ]
     },
     "execution_count": 46,
     "metadata": {},
     "output_type": "execute_result"
    }
   ],
   "source": [
    "very_best_data = better_data.query('locality_name == \"Санкт-Петербург\"')\n",
    "price_to_distance = very_best_data.pivot_table(index = 'city_centers_nearest_km', values = 'last_price')\n",
    "price_to_distance.style.format({'last_price': '{:.2f}'})"
   ]
  },
  {
   "cell_type": "code",
   "execution_count": 47,
   "metadata": {},
   "outputs": [
    {
     "data": {
      "text/plain": [
       "<AxesSubplot:xlabel='city_centers_nearest_km'>"
      ]
     },
     "execution_count": 47,
     "metadata": {},
     "output_type": "execute_result"
    },
    {
     "data": {
      "image/png": "[encoded data removed]",
      "text/plain": [
       "<Figure size 432x288 with 1 Axes>"
      ]
     },
     "metadata": {
      "needs_background": "light"
     },
     "output_type": "display_data"
    }
   ],
   "source": [
    "price_to_distance.plot()"
   ]
  },
  {
   "cell_type": "code",
   "execution_count": 48,
   "metadata": {},
   "outputs": [
    {
     "data": {
      "text/html": [
       "<div>\n",
       "<style scoped>\n",
       "    .dataframe tbody tr th:only-of-type {\n",
       "        vertical-align: middle;\n",
       "    }\n",
       "\n",
       "    .dataframe tbody tr th {\n",
       "        vertical-align: top;\n",
       "    }\n",
       "\n",
       "    .dataframe thead th {\n",
       "        text-align: right;\n",
       "    }\n",
       "</style>\n",
       "<table border=\"1\" class=\"dataframe\">\n",
       "  <thead>\n",
       "    <tr style=\"text-align: right;\">\n",
       "      <th></th>\n",
       "      <th>last_price</th>\n",
       "    </tr>\n",
       "    <tr>\n",
       "      <th>city_centers_nearest_km</th>\n",
       "      <th></th>\n",
       "    </tr>\n",
       "  </thead>\n",
       "  <tbody>\n",
       "    <tr>\n",
       "      <th>0.0</th>\n",
       "      <td>17</td>\n",
       "    </tr>\n",
       "    <tr>\n",
       "      <th>1.0</th>\n",
       "      <td>126</td>\n",
       "    </tr>\n",
       "    <tr>\n",
       "      <th>2.0</th>\n",
       "      <td>213</td>\n",
       "    </tr>\n",
       "    <tr>\n",
       "      <th>3.0</th>\n",
       "      <td>233</td>\n",
       "    </tr>\n",
       "    <tr>\n",
       "      <th>4.0</th>\n",
       "      <td>445</td>\n",
       "    </tr>\n",
       "    <tr>\n",
       "      <th>5.0</th>\n",
       "      <td>564</td>\n",
       "    </tr>\n",
       "    <tr>\n",
       "      <th>6.0</th>\n",
       "      <td>359</td>\n",
       "    </tr>\n",
       "    <tr>\n",
       "      <th>7.0</th>\n",
       "      <td>258</td>\n",
       "    </tr>\n",
       "    <tr>\n",
       "      <th>8.0</th>\n",
       "      <td>391</td>\n",
       "    </tr>\n",
       "    <tr>\n",
       "      <th>9.0</th>\n",
       "      <td>387</td>\n",
       "    </tr>\n",
       "    <tr>\n",
       "      <th>10.0</th>\n",
       "      <td>482</td>\n",
       "    </tr>\n",
       "    <tr>\n",
       "      <th>11.0</th>\n",
       "      <td>739</td>\n",
       "    </tr>\n",
       "    <tr>\n",
       "      <th>12.0</th>\n",
       "      <td>1027</td>\n",
       "    </tr>\n",
       "    <tr>\n",
       "      <th>13.0</th>\n",
       "      <td>929</td>\n",
       "    </tr>\n",
       "    <tr>\n",
       "      <th>14.0</th>\n",
       "      <td>833</td>\n",
       "    </tr>\n",
       "    <tr>\n",
       "      <th>15.0</th>\n",
       "      <td>1022</td>\n",
       "    </tr>\n",
       "    <tr>\n",
       "      <th>16.0</th>\n",
       "      <td>802</td>\n",
       "    </tr>\n",
       "    <tr>\n",
       "      <th>17.0</th>\n",
       "      <td>542</td>\n",
       "    </tr>\n",
       "    <tr>\n",
       "      <th>18.0</th>\n",
       "      <td>143</td>\n",
       "    </tr>\n",
       "    <tr>\n",
       "      <th>19.0</th>\n",
       "      <td>96</td>\n",
       "    </tr>\n",
       "    <tr>\n",
       "      <th>20.0</th>\n",
       "      <td>23</td>\n",
       "    </tr>\n",
       "    <tr>\n",
       "      <th>21.0</th>\n",
       "      <td>77</td>\n",
       "    </tr>\n",
       "    <tr>\n",
       "      <th>22.0</th>\n",
       "      <td>103</td>\n",
       "    </tr>\n",
       "    <tr>\n",
       "      <th>23.0</th>\n",
       "      <td>58</td>\n",
       "    </tr>\n",
       "    <tr>\n",
       "      <th>24.0</th>\n",
       "      <td>5</td>\n",
       "    </tr>\n",
       "    <tr>\n",
       "      <th>25.0</th>\n",
       "      <td>8</td>\n",
       "    </tr>\n",
       "    <tr>\n",
       "      <th>26.0</th>\n",
       "      <td>15</td>\n",
       "    </tr>\n",
       "    <tr>\n",
       "      <th>27.0</th>\n",
       "      <td>1</td>\n",
       "    </tr>\n",
       "    <tr>\n",
       "      <th>28.0</th>\n",
       "      <td>1</td>\n",
       "    </tr>\n",
       "    <tr>\n",
       "      <th>29.0</th>\n",
       "      <td>5</td>\n",
       "    </tr>\n",
       "  </tbody>\n",
       "</table>\n",
       "</div>"
      ],
      "text/plain": [
       "                         last_price\n",
       "city_centers_nearest_km            \n",
       "0.0                              17\n",
       "1.0                             126\n",
       "2.0                             213\n",
       "3.0                             233\n",
       "4.0                             445\n",
       "5.0                             564\n",
       "6.0                             359\n",
       "7.0                             258\n",
       "8.0                             391\n",
       "9.0                             387\n",
       "10.0                            482\n",
       "11.0                            739\n",
       "12.0                           1027\n",
       "13.0                            929\n",
       "14.0                            833\n",
       "15.0                           1022\n",
       "16.0                            802\n",
       "17.0                            542\n",
       "18.0                            143\n",
       "19.0                             96\n",
       "20.0                             23\n",
       "21.0                             77\n",
       "22.0                            103\n",
       "23.0                             58\n",
       "24.0                              5\n",
       "25.0                              8\n",
       "26.0                             15\n",
       "27.0                              1\n",
       "28.0                              1\n",
       "29.0                              5"
      ]
     },
     "execution_count": 48,
     "metadata": {},
     "output_type": "execute_result"
    }
   ],
   "source": [
    "distance_to_count = very_best_data.pivot_table(index = 'city_centers_nearest_km', values = 'last_price', aggfunc='count')\n",
    "distance_to_count"
   ]
  },
  {
   "cell_type": "markdown",
   "metadata": {},
   "source": [
    "**Вывод: Как видим из таблицы 'distance_to_count', объявлений о продаже квартир, расположенных на дистанции 24-29 км от центра города слишком мало, чтобы делать выводы о их цене. В остальном график показывает что чем квартира ближе к центру - тем она дороже. Удаленность от центра очень влияет на цену объекта.**"
   ]
  },
  {
   "cell_type": "markdown",
   "metadata": {},
   "source": [
    "<div class=\"alert alert-block alert-warning\">\n",
    " \n",
    "### Комментарий ревьюера\n",
    "    \n",
    "#### Совет\n",
    "    \n",
    "Как сам считаешь, а где заканчивается зона центра города? "
   ]
  },
  {
   "cell_type": "markdown",
   "metadata": {
    "id": "h7VpzkIDAwb-"
   },
   "source": [
    "### Напишите общий вывод"
   ]
  },
  {
   "cell_type": "markdown",
   "metadata": {
    "id": "3H4lnp_KAwb-"
   },
   "source": [
    "Для проведения исследования были обработаны пропуски, изменнен тип данных на корректный, удалены дубликаты, обработаны аномальные значения. В таблицу были добавлены новые столбцы. \n",
    "\n",
    "В результате проведения исследовательского анализа данных сервиса Яндекс Недвижимости с объявлениями о продаже квартир в Санкт-Петербурге и соседних населённых пунктах за несколько лет, были выявлены параметры, которые больше всего влияют на цену объектов. \n",
    "\n",
    "Больше всего на стоимость объекта влияют такие факторы как общая площадь - Коэффициент Пирсона 0.76. Жилая площадь и площадь кухни влияют в меньшей степени. Также на основании построенных графиков можно утверждать, что на цену очень сильно влияет количество комнат, средняя цена семикомнатной квартиры более 25 миллионов, тогда как у однокомнатной квартиры средняя цена чуть выше 4 миллионов рублей. В средней степени влияет этаж здания - квартиры на первом этаже, как правило, дешевле. Стоимость объекта сильно различается в зависимости от года и с 2014ого года заметно снизилась. Намного меньше влияет месяц и неделя размещения объявления.\n",
    "\n",
    "Среди 10и населённых пунктов с наибольшим числом объявлений, средняя цена одного квадратного метра оказалась выше в Санкт-Петербурге - 114213 рублей. На последнем месте в этой десятке - Всеволожск с 67258 рублями за квадртный метр.\n",
    "По построенным графикам видно, что чем квартира ближе к центру - тем она дороже. Удаленность от центра очень влияет на стоимость объекта. Например, на расстоянии 1 киллометра от центра средняя цена квартиры составила 15 343 753 рублей, а на расстоянии 10 киллометров - 6 858 456 рублей.\n",
    "\n",
    "На основании этих данных можно построить автоматизированную систему, которая будет отслеживать аномалии и мошенническую деятельность. "
   ]
  },
  {
   "cell_type": "markdown",
   "metadata": {},
   "source": [
    "<div class=\"alert alert-block alert-danger\">\n",
    " \n",
    "### Комментарий ревьюера\n",
    "    \n",
    "#### Ошибка\n",
    "    \n",
    "Вот такая классная работа у тебя вышла, а выводу прям не уделил внимания. Давай все же дополним и доработаем вывод. Надо добавить в него больше цифр и инсатов. Ркомендация есть, это хорошо. "
   ]
  },
  {
   "cell_type": "markdown",
   "metadata": {},
   "source": [
    "<div class=\"alert alert-block alert-success\">\n",
    " \n",
    "# Комментарий ревьюера ver.2 \n",
    "    \n",
    "#### Успех\n",
    "    \n",
    "А теперь вывод получился вполне полноценный"
   ]
  },
  {
   "cell_type": "markdown",
   "metadata": {},
   "source": [
    "<div class=\"alert alert-block alert-info\">\n",
    " \n",
    "### Итоговый Комментарий ревьюера\n",
    "    \n",
    "#### Успех\n",
    "    \n",
    "Благодарю тебя за выполнение работы. Мне понравился твой проект за структурность и последовательность. Во многих местах ты подбираешь оптимальный код и автоматизируешь свою работу, а это очень пригодится в будущем. Выделить бы хотел Предобработку данных. На мой взгляд она получилась особенно удачно. Очень насыщенный итоговый вывод вышел. Старайся такие выводы делать и в будущем. \n",
    "    \n",
    "    \n",
    "Однако, в проекте есть несколько замечаний, которые надо исправить:\n",
    "\n",
    "* Подправить некоторые графики.\n",
    "* Итоговый вывод доработать. \n",
    "       \n",
    "Еще я оставил рекомендации. Очень надеюсь, что ты учтешь их в этом и последующих проектах.\n",
    "       \n",
    "Жду проект после доработки. Уверен, ты справишься.\n",
    "</div>"
   ]
  },
  {
   "cell_type": "markdown",
   "metadata": {
    "id": "A90mc0BgAwb-"
   },
   "source": [
    "**Чек-лист готовности проекта**\n",
    "\n",
    "Поставьте 'x' в выполненных пунктах. Далее нажмите Shift+Enter."
   ]
  },
  {
   "cell_type": "markdown",
   "metadata": {
    "id": "ME3sTWm6Awb-"
   },
   "source": [
    "- [x]  Файл с данными открыт.\n",
    "- [x]  Файл с данными изучен: выведены первые строки, использован метод `info()`, построены гистограммы.\n",
    "- [x]  Найдены пропущенные значения.\n",
    "- [x]  Пропущенные значения заполнены там, где это возможно.\n",
    "- [x]  Объяснено, какие пропущенные значения обнаружены.\n",
    "- [ ]  В каждом столбце установлен корректный тип данных.\n",
    "- [x]  Объяснено, в каких столбцах изменён тип данных и почему.\n",
    "- [x]  Устранены неявные дубликаты в названиях населённых пунктов.\n",
    "- [x]  Обработаны редкие и выбивающиеся значения (аномалии).\n",
    "- [x]  В таблицу добавлены новые параметры:\n",
    "       – цена одного квадратного метра;\n",
    "       – день публикации объявления (0 - понедельник, 1 - вторник и т. д.);\n",
    "       – месяц публикации объявления;\n",
    "       – год публикации объявления;\n",
    "       – тип этажа квартиры (значения — «первый», «последний», «другой»);\n",
    "       – расстояние до центра города в километрах.\n",
    "- [x]  Изучены и описаны параметры:\n",
    "        - общая площадь;\n",
    "        - жилая площадь;\n",
    "        - площадь кухни;\n",
    "        - цена объекта;\n",
    "        - количество комнат;\n",
    "        - высота потолков;\n",
    "        - тип этажа квартиры («первый», «последний», «другой»);\n",
    "        - общее количество этажей в доме;\n",
    "        - расстояние до центра города в метрах;\n",
    "        - расстояние до ближайшего парка.\n",
    "- [x]  Выполнено задание «Изучите, как быстро продавались квартиры (столбец `days_exposition`)»:\n",
    "    - построена гистограмма;\n",
    "    - рассчитаны среднее и медиана;\n",
    "    - описано, сколько обычно занимает продажа и указано, какие продажи можно считать быстрыми, а какие — необычно долгими.\n",
    "- [x]  Выполнено задание «Определите факторы, которые больше всего влияют на общую (полную) стоимость объекта». Построены графики, которые показывают зависимость цены от параметров:\n",
    "        - общая площадь;\n",
    "        - жилая площадь;\n",
    "        - площадь кухни;\n",
    "        - количество комнат;\n",
    "        - тип этажа, на котором расположена квартира (первый, последний, другой);\n",
    "        - дата размещения (день недели, месяц, год).\n",
    "- [x]  Выполнено задание «Посчитайте среднюю цену одного квадратного метра в 10 населённых пунктах с наибольшим числом объявлений»:\n",
    "    - выделены населённые пункты с самой высокой и низкой стоимостью квадратного метра.\n",
    "- [x]  Выполнено задание «Выделите квартиры в Санкт-Петербурге с помощью столбца `locality_name` и вычислите их среднюю стоимость на разном удалении от центра»:\n",
    "    -  учтён каждый километр расстояния, известны средние цены квартир в одном километре от центра, в двух и так далее;\n",
    "    -  описано, как стоимость объекта зависит от расстояния до центра города;\n",
    "    -  построен график изменения средней цены для каждого километра от центра Петербурга.\n",
    "- [x]  На каждом этапе сделаны промежуточные выводы.\n",
    "- [x]  В конце проекта сделан общий вывод."
   ]
  },
  {
   "cell_type": "code",
   "execution_count": null,
   "metadata": {},
   "outputs": [],
   "source": []
  }
 ],
 "metadata": {
  "ExecuteTimeLog": [
   {
    "duration": 728,
    "start_time": "2024-07-01T13:22:41.723Z"
   },
   {
    "duration": 137,
    "start_time": "2024-07-01T13:23:11.120Z"
   },
   {
    "duration": 142,
    "start_time": "2024-07-01T15:01:32.436Z"
   },
   {
    "duration": 60,
    "start_time": "2024-07-01T15:03:58.843Z"
   },
   {
    "duration": 187,
    "start_time": "2024-07-01T15:04:03.663Z"
   },
   {
    "duration": 567,
    "start_time": "2024-07-01T15:04:36.868Z"
   },
   {
    "duration": 2684,
    "start_time": "2024-07-01T15:13:33.500Z"
   },
   {
    "duration": 28,
    "start_time": "2024-07-01T15:14:26.316Z"
   },
   {
    "duration": 2155,
    "start_time": "2024-07-01T15:14:53.008Z"
   },
   {
    "duration": 2150,
    "start_time": "2024-07-01T15:15:12.961Z"
   },
   {
    "duration": 2180,
    "start_time": "2024-07-01T15:15:21.884Z"
   },
   {
    "duration": 2262,
    "start_time": "2024-07-01T15:15:27.643Z"
   },
   {
    "duration": 69,
    "start_time": "2024-07-01T15:16:48.723Z"
   },
   {
    "duration": 2237,
    "start_time": "2024-07-01T15:16:55.848Z"
   },
   {
    "duration": 202,
    "start_time": "2024-07-01T15:18:00.168Z"
   },
   {
    "duration": 14,
    "start_time": "2024-07-01T16:01:44.166Z"
   },
   {
    "duration": 14,
    "start_time": "2024-07-01T16:10:35.688Z"
   },
   {
    "duration": 8,
    "start_time": "2024-07-01T16:11:42.394Z"
   },
   {
    "duration": 18,
    "start_time": "2024-07-01T16:11:49.581Z"
   },
   {
    "duration": 43,
    "start_time": "2024-07-01T16:12:16.527Z"
   },
   {
    "duration": 14,
    "start_time": "2024-07-01T16:17:19.791Z"
   },
   {
    "duration": 9,
    "start_time": "2024-07-01T16:17:31.862Z"
   },
   {
    "duration": 5,
    "start_time": "2024-07-01T16:49:06.752Z"
   },
   {
    "duration": 5,
    "start_time": "2024-07-01T16:49:09.560Z"
   },
   {
    "duration": 6,
    "start_time": "2024-07-01T16:49:14.563Z"
   },
   {
    "duration": 11,
    "start_time": "2024-07-01T16:49:41.910Z"
   },
   {
    "duration": 7,
    "start_time": "2024-07-01T16:49:49.337Z"
   },
   {
    "duration": 9,
    "start_time": "2024-07-01T16:52:17.436Z"
   },
   {
    "duration": 10,
    "start_time": "2024-07-01T17:03:50.180Z"
   },
   {
    "duration": 10,
    "start_time": "2024-07-01T17:04:38.704Z"
   },
   {
    "duration": 73,
    "start_time": "2024-07-01T17:07:06.255Z"
   },
   {
    "duration": 45,
    "start_time": "2024-07-01T17:12:07.004Z"
   },
   {
    "duration": 43,
    "start_time": "2024-07-01T17:18:57.192Z"
   },
   {
    "duration": 68,
    "start_time": "2024-07-01T17:21:06.782Z"
   },
   {
    "duration": 40,
    "start_time": "2024-07-01T17:21:11.916Z"
   },
   {
    "duration": 779,
    "start_time": "2024-07-02T09:45:00.846Z"
   },
   {
    "duration": 2478,
    "start_time": "2024-07-02T09:45:01.627Z"
   },
   {
    "duration": 10,
    "start_time": "2024-07-02T09:45:04.107Z"
   },
   {
    "duration": 2,
    "start_time": "2024-07-02T09:54:03.387Z"
   },
   {
    "duration": 2,
    "start_time": "2024-07-02T09:54:05.361Z"
   },
   {
    "duration": 2,
    "start_time": "2024-07-02T10:04:52.911Z"
   },
   {
    "duration": 3,
    "start_time": "2024-07-02T10:14:25.865Z"
   },
   {
    "duration": 5,
    "start_time": "2024-07-02T10:16:23.737Z"
   },
   {
    "duration": 5,
    "start_time": "2024-07-02T10:16:29.533Z"
   },
   {
    "duration": 155,
    "start_time": "2024-07-02T10:21:36.588Z"
   },
   {
    "duration": 155,
    "start_time": "2024-07-02T10:22:08.095Z"
   },
   {
    "duration": 146,
    "start_time": "2024-07-02T10:22:41.459Z"
   },
   {
    "duration": 3,
    "start_time": "2024-07-02T10:24:29.222Z"
   },
   {
    "duration": 13,
    "start_time": "2024-07-02T10:24:41.419Z"
   },
   {
    "duration": 23,
    "start_time": "2024-07-02T10:24:56.394Z"
   },
   {
    "duration": 572,
    "start_time": "2024-07-02T10:25:08.627Z"
   },
   {
    "duration": 29,
    "start_time": "2024-07-02T10:25:09.201Z"
   },
   {
    "duration": 2321,
    "start_time": "2024-07-02T10:25:09.232Z"
   },
   {
    "duration": 11,
    "start_time": "2024-07-02T10:25:11.554Z"
   },
   {
    "duration": 16,
    "start_time": "2024-07-02T10:25:11.567Z"
   },
   {
    "duration": 6,
    "start_time": "2024-07-02T10:30:16.494Z"
   },
   {
    "duration": 29,
    "start_time": "2024-07-02T10:41:26.133Z"
   },
   {
    "duration": 4,
    "start_time": "2024-07-02T10:43:55.101Z"
   },
   {
    "duration": 64,
    "start_time": "2024-07-02T10:44:03.823Z"
   },
   {
    "duration": 73,
    "start_time": "2024-07-02T10:44:11.265Z"
   },
   {
    "duration": 23,
    "start_time": "2024-07-02T10:48:32.534Z"
   },
   {
    "duration": 8,
    "start_time": "2024-07-02T10:48:51.669Z"
   },
   {
    "duration": 38,
    "start_time": "2024-07-02T10:48:55.742Z"
   },
   {
    "duration": 3,
    "start_time": "2024-07-02T11:28:39.094Z"
   },
   {
    "duration": 19,
    "start_time": "2024-07-02T11:31:58.110Z"
   },
   {
    "duration": 60,
    "start_time": "2024-07-02T11:36:33.584Z"
   },
   {
    "duration": 580,
    "start_time": "2024-07-02T11:36:47.156Z"
   },
   {
    "duration": 30,
    "start_time": "2024-07-02T11:36:47.738Z"
   },
   {
    "duration": 2311,
    "start_time": "2024-07-02T11:36:47.770Z"
   },
   {
    "duration": 11,
    "start_time": "2024-07-02T11:36:50.082Z"
   },
   {
    "duration": 15,
    "start_time": "2024-07-02T11:36:50.094Z"
   },
   {
    "duration": 60,
    "start_time": "2024-07-02T11:36:50.111Z"
   },
   {
    "duration": 0,
    "start_time": "2024-07-02T11:36:50.173Z"
   },
   {
    "duration": 0,
    "start_time": "2024-07-02T11:36:50.175Z"
   },
   {
    "duration": 12,
    "start_time": "2024-07-02T11:37:04.713Z"
   },
   {
    "duration": 20,
    "start_time": "2024-07-02T11:37:21.662Z"
   },
   {
    "duration": 34,
    "start_time": "2024-07-02T11:37:38.035Z"
   },
   {
    "duration": 52,
    "start_time": "2024-07-02T11:41:43.957Z"
   },
   {
    "duration": 567,
    "start_time": "2024-07-02T11:42:08.465Z"
   },
   {
    "duration": 32,
    "start_time": "2024-07-02T11:42:09.034Z"
   },
   {
    "duration": 2301,
    "start_time": "2024-07-02T11:42:09.068Z"
   },
   {
    "duration": 13,
    "start_time": "2024-07-02T11:42:11.371Z"
   },
   {
    "duration": 2,
    "start_time": "2024-07-02T11:42:11.385Z"
   },
   {
    "duration": 47,
    "start_time": "2024-07-02T11:42:11.389Z"
   },
   {
    "duration": 2,
    "start_time": "2024-07-02T11:42:11.446Z"
   },
   {
    "duration": 11,
    "start_time": "2024-07-02T11:42:11.450Z"
   },
   {
    "duration": 50,
    "start_time": "2024-07-02T11:43:13.644Z"
   },
   {
    "duration": 95,
    "start_time": "2024-07-02T11:46:12.360Z"
   },
   {
    "duration": 39,
    "start_time": "2024-07-02T11:46:48.608Z"
   },
   {
    "duration": 622,
    "start_time": "2024-07-02T11:47:30.227Z"
   },
   {
    "duration": 31,
    "start_time": "2024-07-02T11:47:30.852Z"
   },
   {
    "duration": 2604,
    "start_time": "2024-07-02T11:47:30.885Z"
   },
   {
    "duration": 12,
    "start_time": "2024-07-02T11:47:33.490Z"
   },
   {
    "duration": 10,
    "start_time": "2024-07-02T11:47:33.505Z"
   },
   {
    "duration": 43,
    "start_time": "2024-07-02T11:47:33.517Z"
   },
   {
    "duration": 3,
    "start_time": "2024-07-02T11:47:33.562Z"
   },
   {
    "duration": 4,
    "start_time": "2024-07-02T11:47:33.567Z"
   },
   {
    "duration": 116,
    "start_time": "2024-07-02T11:48:02.146Z"
   },
   {
    "duration": 40,
    "start_time": "2024-07-02T11:48:14.425Z"
   },
   {
    "duration": 534,
    "start_time": "2024-07-02T11:48:18.963Z"
   },
   {
    "duration": 30,
    "start_time": "2024-07-02T11:48:19.499Z"
   },
   {
    "duration": 2363,
    "start_time": "2024-07-02T11:48:19.530Z"
   },
   {
    "duration": 14,
    "start_time": "2024-07-02T11:48:21.895Z"
   },
   {
    "duration": 8,
    "start_time": "2024-07-02T11:48:21.911Z"
   },
   {
    "duration": 83,
    "start_time": "2024-07-02T11:48:21.920Z"
   },
   {
    "duration": 11,
    "start_time": "2024-07-02T11:48:22.005Z"
   },
   {
    "duration": 8,
    "start_time": "2024-07-02T11:48:22.017Z"
   },
   {
    "duration": 88,
    "start_time": "2024-07-02T12:09:18.498Z"
   },
   {
    "duration": 12,
    "start_time": "2024-07-02T12:10:00.396Z"
   },
   {
    "duration": 2,
    "start_time": "2024-07-02T12:11:19.114Z"
   },
   {
    "duration": 10,
    "start_time": "2024-07-02T12:15:21.921Z"
   },
   {
    "duration": 50,
    "start_time": "2024-07-02T12:15:48.580Z"
   },
   {
    "duration": 15,
    "start_time": "2024-07-02T12:16:35.330Z"
   },
   {
    "duration": 89,
    "start_time": "2024-07-02T12:37:54.461Z"
   },
   {
    "duration": 139,
    "start_time": "2024-07-02T12:53:56.475Z"
   },
   {
    "duration": 14,
    "start_time": "2024-07-02T12:54:02.379Z"
   },
   {
    "duration": 9,
    "start_time": "2024-07-02T12:57:32.282Z"
   },
   {
    "duration": 14,
    "start_time": "2024-07-02T12:57:37.765Z"
   },
   {
    "duration": 26,
    "start_time": "2024-07-02T12:58:47.004Z"
   },
   {
    "duration": 60,
    "start_time": "2024-07-02T13:05:54.011Z"
   },
   {
    "duration": 64,
    "start_time": "2024-07-02T13:06:34.674Z"
   },
   {
    "duration": 20,
    "start_time": "2024-07-02T13:08:48.083Z"
   },
   {
    "duration": 59,
    "start_time": "2024-07-02T13:09:27.764Z"
   },
   {
    "duration": 38,
    "start_time": "2024-07-02T13:10:28.842Z"
   },
   {
    "duration": 42,
    "start_time": "2024-07-02T13:14:58.331Z"
   },
   {
    "duration": 11,
    "start_time": "2024-07-02T13:15:24.488Z"
   },
   {
    "duration": 63,
    "start_time": "2024-07-02T13:20:45.958Z"
   },
   {
    "duration": 60,
    "start_time": "2024-07-02T13:20:57.358Z"
   },
   {
    "duration": 19,
    "start_time": "2024-07-02T13:21:06.914Z"
   },
   {
    "duration": 14,
    "start_time": "2024-07-02T13:21:25.561Z"
   },
   {
    "duration": 45,
    "start_time": "2024-07-02T13:21:43.008Z"
   },
   {
    "duration": 16,
    "start_time": "2024-07-02T13:22:46.003Z"
   },
   {
    "duration": 37,
    "start_time": "2024-07-02T13:23:06.371Z"
   },
   {
    "duration": 15,
    "start_time": "2024-07-02T13:23:30.889Z"
   },
   {
    "duration": 9,
    "start_time": "2024-07-02T13:24:09.153Z"
   },
   {
    "duration": 9,
    "start_time": "2024-07-02T13:24:17.140Z"
   },
   {
    "duration": 11,
    "start_time": "2024-07-02T13:24:29.346Z"
   },
   {
    "duration": 60,
    "start_time": "2024-07-02T13:24:53.173Z"
   },
   {
    "duration": 650,
    "start_time": "2024-07-02T13:25:08.432Z"
   },
   {
    "duration": 29,
    "start_time": "2024-07-02T13:25:09.084Z"
   },
   {
    "duration": 2339,
    "start_time": "2024-07-02T13:25:09.114Z"
   },
   {
    "duration": 11,
    "start_time": "2024-07-02T13:25:11.454Z"
   },
   {
    "duration": 59,
    "start_time": "2024-07-02T13:25:11.467Z"
   },
   {
    "duration": 0,
    "start_time": "2024-07-02T13:25:11.528Z"
   },
   {
    "duration": 0,
    "start_time": "2024-07-02T13:25:11.529Z"
   },
   {
    "duration": 0,
    "start_time": "2024-07-02T13:25:11.531Z"
   },
   {
    "duration": 63,
    "start_time": "2024-07-02T13:25:45.765Z"
   },
   {
    "duration": 65,
    "start_time": "2024-07-02T13:25:49.121Z"
   },
   {
    "duration": 42,
    "start_time": "2024-07-02T13:26:00.064Z"
   },
   {
    "duration": 122,
    "start_time": "2024-07-02T13:26:42.271Z"
   },
   {
    "duration": 5,
    "start_time": "2024-07-02T13:35:23.337Z"
   },
   {
    "duration": 8,
    "start_time": "2024-07-02T13:36:19.736Z"
   },
   {
    "duration": 11,
    "start_time": "2024-07-02T13:36:28.505Z"
   },
   {
    "duration": 23,
    "start_time": "2024-07-02T13:37:40.553Z"
   },
   {
    "duration": 28,
    "start_time": "2024-07-02T13:37:49.403Z"
   },
   {
    "duration": 17,
    "start_time": "2024-07-02T13:37:55.697Z"
   },
   {
    "duration": 76,
    "start_time": "2024-07-02T13:43:00.382Z"
   },
   {
    "duration": 75,
    "start_time": "2024-07-02T13:43:07.567Z"
   },
   {
    "duration": 92,
    "start_time": "2024-07-02T13:43:11.085Z"
   },
   {
    "duration": 84,
    "start_time": "2024-07-02T13:45:36.429Z"
   },
   {
    "duration": 75,
    "start_time": "2024-07-02T13:46:04.009Z"
   },
   {
    "duration": 80,
    "start_time": "2024-07-02T13:46:16.193Z"
   },
   {
    "duration": 87,
    "start_time": "2024-07-02T13:51:07.790Z"
   },
   {
    "duration": 101,
    "start_time": "2024-07-02T13:51:23.122Z"
   },
   {
    "duration": 103,
    "start_time": "2024-07-02T13:51:39.521Z"
   },
   {
    "duration": 85,
    "start_time": "2024-07-02T13:51:56.648Z"
   },
   {
    "duration": 157,
    "start_time": "2024-07-02T13:52:03.742Z"
   },
   {
    "duration": 83,
    "start_time": "2024-07-02T13:52:08.344Z"
   },
   {
    "duration": 84,
    "start_time": "2024-07-02T13:53:07.886Z"
   },
   {
    "duration": 83,
    "start_time": "2024-07-02T13:53:12.396Z"
   },
   {
    "duration": 94,
    "start_time": "2024-07-02T13:53:51.571Z"
   },
   {
    "duration": 178,
    "start_time": "2024-07-02T13:57:21.708Z"
   },
   {
    "duration": 146,
    "start_time": "2024-07-02T13:59:00.601Z"
   },
   {
    "duration": 135,
    "start_time": "2024-07-02T13:59:15.503Z"
   },
   {
    "duration": 135,
    "start_time": "2024-07-02T14:02:09.308Z"
   },
   {
    "duration": 176,
    "start_time": "2024-07-02T14:05:24.873Z"
   },
   {
    "duration": 28,
    "start_time": "2024-07-02T14:08:57.566Z"
   },
   {
    "duration": 24,
    "start_time": "2024-07-02T14:11:12.347Z"
   },
   {
    "duration": 23,
    "start_time": "2024-07-02T14:11:22.375Z"
   },
   {
    "duration": 150,
    "start_time": "2024-07-02T14:13:03.721Z"
   },
   {
    "duration": 7,
    "start_time": "2024-07-02T14:13:07.476Z"
   },
   {
    "duration": 6,
    "start_time": "2024-07-02T14:21:21.879Z"
   },
   {
    "duration": 36,
    "start_time": "2024-07-02T14:21:31.728Z"
   },
   {
    "duration": 4,
    "start_time": "2024-07-02T14:21:45.092Z"
   },
   {
    "duration": 72,
    "start_time": "2024-07-02T14:28:19.443Z"
   },
   {
    "duration": 59,
    "start_time": "2024-07-02T14:28:29.763Z"
   },
   {
    "duration": 148,
    "start_time": "2024-07-02T14:28:33.903Z"
   },
   {
    "duration": 149,
    "start_time": "2024-07-02T14:29:31.513Z"
   },
   {
    "duration": 58,
    "start_time": "2024-07-02T14:33:52.249Z"
   },
   {
    "duration": 582,
    "start_time": "2024-07-02T14:39:41.532Z"
   },
   {
    "duration": 5,
    "start_time": "2024-07-02T14:39:42.117Z"
   },
   {
    "duration": 39,
    "start_time": "2024-07-02T14:39:42.124Z"
   },
   {
    "duration": 2317,
    "start_time": "2024-07-02T14:39:42.164Z"
   },
   {
    "duration": 10,
    "start_time": "2024-07-02T14:39:44.483Z"
   },
   {
    "duration": 21,
    "start_time": "2024-07-02T14:39:44.495Z"
   },
   {
    "duration": 46,
    "start_time": "2024-07-02T14:39:44.518Z"
   },
   {
    "duration": 168,
    "start_time": "2024-07-02T14:39:44.566Z"
   },
   {
    "duration": 12,
    "start_time": "2024-07-02T14:39:44.735Z"
   },
   {
    "duration": 25,
    "start_time": "2024-07-02T14:39:44.748Z"
   },
   {
    "duration": 3,
    "start_time": "2024-07-02T14:39:44.775Z"
   },
   {
    "duration": 5,
    "start_time": "2024-07-02T14:46:05.359Z"
   },
   {
    "duration": 33,
    "start_time": "2024-07-02T14:48:56.081Z"
   },
   {
    "duration": 15,
    "start_time": "2024-07-02T16:32:44.278Z"
   },
   {
    "duration": 42,
    "start_time": "2024-07-02T16:32:57.182Z"
   },
   {
    "duration": 41,
    "start_time": "2024-07-02T16:33:12.941Z"
   },
   {
    "duration": 10,
    "start_time": "2024-07-02T16:33:27.347Z"
   },
   {
    "duration": 10,
    "start_time": "2024-07-02T16:50:40.483Z"
   },
   {
    "duration": 3,
    "start_time": "2024-07-02T16:55:40.173Z"
   },
   {
    "duration": 4,
    "start_time": "2024-07-02T17:02:04.854Z"
   },
   {
    "duration": 24,
    "start_time": "2024-07-02T17:02:14.415Z"
   },
   {
    "duration": 3,
    "start_time": "2024-07-02T17:02:32.430Z"
   },
   {
    "duration": 97,
    "start_time": "2024-07-02T17:14:57.394Z"
   },
   {
    "duration": 46,
    "start_time": "2024-07-02T17:15:34.716Z"
   },
   {
    "duration": 36,
    "start_time": "2024-07-02T17:23:34.911Z"
   },
   {
    "duration": 9,
    "start_time": "2024-07-02T17:23:46.796Z"
   },
   {
    "duration": 34,
    "start_time": "2024-07-02T17:23:56.084Z"
   },
   {
    "duration": 20,
    "start_time": "2024-07-02T17:30:49.684Z"
   },
   {
    "duration": 48,
    "start_time": "2024-07-02T17:30:54.755Z"
   },
   {
    "duration": 530,
    "start_time": "2024-07-02T17:31:01.805Z"
   },
   {
    "duration": 4,
    "start_time": "2024-07-02T17:31:02.337Z"
   },
   {
    "duration": 67,
    "start_time": "2024-07-02T17:31:02.342Z"
   },
   {
    "duration": 2299,
    "start_time": "2024-07-02T17:31:02.410Z"
   },
   {
    "duration": 14,
    "start_time": "2024-07-02T17:31:04.712Z"
   },
   {
    "duration": 28,
    "start_time": "2024-07-02T17:31:04.728Z"
   },
   {
    "duration": 50,
    "start_time": "2024-07-02T17:31:04.757Z"
   },
   {
    "duration": 3,
    "start_time": "2024-07-02T17:31:04.809Z"
   },
   {
    "duration": 14,
    "start_time": "2024-07-02T17:31:04.814Z"
   },
   {
    "duration": 39,
    "start_time": "2024-07-02T17:31:04.830Z"
   },
   {
    "duration": 160,
    "start_time": "2024-07-02T17:31:04.871Z"
   },
   {
    "duration": 6,
    "start_time": "2024-07-02T17:31:05.032Z"
   },
   {
    "duration": 43,
    "start_time": "2024-07-02T17:31:05.039Z"
   },
   {
    "duration": 32,
    "start_time": "2024-07-02T17:31:05.084Z"
   },
   {
    "duration": 21,
    "start_time": "2024-07-02T17:35:24.824Z"
   },
   {
    "duration": 29,
    "start_time": "2024-07-02T17:35:39.529Z"
   },
   {
    "duration": 22,
    "start_time": "2024-07-02T17:37:04.814Z"
   },
   {
    "duration": 23,
    "start_time": "2024-07-02T17:39:41.470Z"
   },
   {
    "duration": 39,
    "start_time": "2024-07-02T17:40:28.400Z"
   },
   {
    "duration": 32,
    "start_time": "2024-07-02T17:40:50.018Z"
   },
   {
    "duration": 21,
    "start_time": "2024-07-02T17:40:57.701Z"
   },
   {
    "duration": 33,
    "start_time": "2024-07-02T17:42:06.478Z"
   },
   {
    "duration": 68,
    "start_time": "2024-07-02T17:42:24.583Z"
   },
   {
    "duration": 66,
    "start_time": "2024-07-02T17:42:33.033Z"
   },
   {
    "duration": 32,
    "start_time": "2024-07-02T17:42:39.601Z"
   },
   {
    "duration": 90,
    "start_time": "2024-07-02T17:44:53.566Z"
   },
   {
    "duration": 70,
    "start_time": "2024-07-02T17:47:03.621Z"
   },
   {
    "duration": 49,
    "start_time": "2024-07-02T17:47:15.264Z"
   },
   {
    "duration": 37,
    "start_time": "2024-07-02T17:48:11.154Z"
   },
   {
    "duration": 24538,
    "start_time": "2024-07-02T18:08:27.947Z"
   },
   {
    "duration": 580,
    "start_time": "2024-07-02T18:09:18.732Z"
   },
   {
    "duration": 5,
    "start_time": "2024-07-02T18:09:19.314Z"
   },
   {
    "duration": 37,
    "start_time": "2024-07-02T18:09:19.320Z"
   },
   {
    "duration": 2322,
    "start_time": "2024-07-02T18:09:19.359Z"
   },
   {
    "duration": 15,
    "start_time": "2024-07-02T18:09:21.684Z"
   },
   {
    "duration": 5,
    "start_time": "2024-07-02T18:09:21.701Z"
   },
   {
    "duration": 3,
    "start_time": "2024-07-02T18:09:45.985Z"
   },
   {
    "duration": 22,
    "start_time": "2024-07-02T18:09:45.990Z"
   },
   {
    "duration": 54,
    "start_time": "2024-07-02T18:09:46.014Z"
   },
   {
    "duration": 156,
    "start_time": "2024-07-02T18:09:46.070Z"
   },
   {
    "duration": 6,
    "start_time": "2024-07-02T18:09:46.227Z"
   },
   {
    "duration": 36,
    "start_time": "2024-07-02T18:09:46.235Z"
   },
   {
    "duration": 32,
    "start_time": "2024-07-02T18:09:46.274Z"
   },
   {
    "duration": 591,
    "start_time": "2024-07-02T18:11:41.225Z"
   },
   {
    "duration": 4,
    "start_time": "2024-07-02T18:11:41.818Z"
   },
   {
    "duration": 36,
    "start_time": "2024-07-02T18:11:41.823Z"
   },
   {
    "duration": 2300,
    "start_time": "2024-07-02T18:11:41.861Z"
   },
   {
    "duration": 11,
    "start_time": "2024-07-02T18:11:44.163Z"
   },
   {
    "duration": 46,
    "start_time": "2024-07-02T18:11:44.175Z"
   },
   {
    "duration": 0,
    "start_time": "2024-07-02T18:12:09.764Z"
   },
   {
    "duration": 0,
    "start_time": "2024-07-02T18:12:09.765Z"
   },
   {
    "duration": 0,
    "start_time": "2024-07-02T18:12:09.766Z"
   },
   {
    "duration": 0,
    "start_time": "2024-07-02T18:12:09.767Z"
   },
   {
    "duration": 0,
    "start_time": "2024-07-02T18:12:09.768Z"
   },
   {
    "duration": 0,
    "start_time": "2024-07-02T18:12:09.769Z"
   },
   {
    "duration": 0,
    "start_time": "2024-07-02T18:12:09.769Z"
   },
   {
    "duration": 0,
    "start_time": "2024-07-02T18:12:09.770Z"
   },
   {
    "duration": 13,
    "start_time": "2024-07-02T18:12:56.458Z"
   },
   {
    "duration": 2,
    "start_time": "2024-07-02T18:12:56.473Z"
   },
   {
    "duration": 30,
    "start_time": "2024-07-02T18:12:58.942Z"
   },
   {
    "duration": 36,
    "start_time": "2024-07-02T18:13:08.519Z"
   },
   {
    "duration": 18862,
    "start_time": "2024-07-02T18:13:28.490Z"
   },
   {
    "duration": 615,
    "start_time": "2024-07-02T18:14:00.807Z"
   },
   {
    "duration": 4,
    "start_time": "2024-07-02T18:14:01.424Z"
   },
   {
    "duration": 203,
    "start_time": "2024-07-02T18:14:01.430Z"
   },
   {
    "duration": 2754,
    "start_time": "2024-07-02T18:14:01.635Z"
   },
   {
    "duration": 12,
    "start_time": "2024-07-02T18:14:04.392Z"
   },
   {
    "duration": 15,
    "start_time": "2024-07-02T18:14:04.406Z"
   },
   {
    "duration": 23,
    "start_time": "2024-07-02T18:14:04.423Z"
   },
   {
    "duration": 3,
    "start_time": "2024-07-02T18:14:04.448Z"
   },
   {
    "duration": 7,
    "start_time": "2024-07-02T18:14:04.452Z"
   },
   {
    "duration": 30,
    "start_time": "2024-07-02T18:14:04.461Z"
   },
   {
    "duration": 172,
    "start_time": "2024-07-02T18:14:04.493Z"
   },
   {
    "duration": 7,
    "start_time": "2024-07-02T18:14:04.666Z"
   },
   {
    "duration": 29,
    "start_time": "2024-07-02T18:14:04.674Z"
   },
   {
    "duration": 45,
    "start_time": "2024-07-02T18:14:04.705Z"
   },
   {
    "duration": 23,
    "start_time": "2024-07-02T18:54:08.246Z"
   },
   {
    "duration": 99,
    "start_time": "2024-07-02T18:54:34.539Z"
   },
   {
    "duration": 26,
    "start_time": "2024-07-02T18:55:41.628Z"
   },
   {
    "duration": 26,
    "start_time": "2024-07-02T18:55:45.065Z"
   },
   {
    "duration": 26,
    "start_time": "2024-07-02T18:55:50.427Z"
   },
   {
    "duration": 38,
    "start_time": "2024-07-02T18:55:52.662Z"
   },
   {
    "duration": 547,
    "start_time": "2024-07-02T18:55:56.210Z"
   },
   {
    "duration": 4,
    "start_time": "2024-07-02T18:55:56.759Z"
   },
   {
    "duration": 31,
    "start_time": "2024-07-02T18:55:56.765Z"
   },
   {
    "duration": 2253,
    "start_time": "2024-07-02T18:55:56.798Z"
   },
   {
    "duration": 10,
    "start_time": "2024-07-02T18:55:59.054Z"
   },
   {
    "duration": 25,
    "start_time": "2024-07-02T18:55:59.066Z"
   },
   {
    "duration": 28,
    "start_time": "2024-07-02T18:55:59.092Z"
   },
   {
    "duration": 33,
    "start_time": "2024-07-02T18:55:59.121Z"
   },
   {
    "duration": 46,
    "start_time": "2024-07-02T18:55:59.156Z"
   },
   {
    "duration": 86,
    "start_time": "2024-07-02T18:55:59.204Z"
   },
   {
    "duration": 184,
    "start_time": "2024-07-02T18:55:59.291Z"
   },
   {
    "duration": 6,
    "start_time": "2024-07-02T18:55:59.477Z"
   },
   {
    "duration": 36,
    "start_time": "2024-07-02T18:55:59.485Z"
   },
   {
    "duration": 2,
    "start_time": "2024-07-02T18:55:59.523Z"
   },
   {
    "duration": 22,
    "start_time": "2024-07-02T18:57:00.191Z"
   },
   {
    "duration": 10,
    "start_time": "2024-07-02T18:57:14.008Z"
   },
   {
    "duration": 91,
    "start_time": "2024-07-02T18:58:27.644Z"
   },
   {
    "duration": 25,
    "start_time": "2024-07-02T18:59:38.132Z"
   },
   {
    "duration": 555,
    "start_time": "2024-07-02T19:00:58.761Z"
   },
   {
    "duration": 5,
    "start_time": "2024-07-02T19:00:59.318Z"
   },
   {
    "duration": 44,
    "start_time": "2024-07-02T19:00:59.324Z"
   },
   {
    "duration": 2827,
    "start_time": "2024-07-02T19:00:59.370Z"
   },
   {
    "duration": 49,
    "start_time": "2024-07-02T19:01:02.200Z"
   },
   {
    "duration": 4,
    "start_time": "2024-07-02T19:01:02.251Z"
   },
   {
    "duration": 102,
    "start_time": "2024-07-02T19:01:02.257Z"
   },
   {
    "duration": 15,
    "start_time": "2024-07-02T19:01:02.361Z"
   },
   {
    "duration": 102,
    "start_time": "2024-07-02T19:01:02.378Z"
   },
   {
    "duration": 264,
    "start_time": "2024-07-02T19:01:02.482Z"
   },
   {
    "duration": 286,
    "start_time": "2024-07-02T19:01:02.748Z"
   },
   {
    "duration": 13,
    "start_time": "2024-07-02T19:01:03.035Z"
   },
   {
    "duration": 33,
    "start_time": "2024-07-02T19:01:03.050Z"
   },
   {
    "duration": 2,
    "start_time": "2024-07-02T19:01:03.087Z"
   },
   {
    "duration": 6,
    "start_time": "2024-07-02T19:06:58.724Z"
   },
   {
    "duration": 105,
    "start_time": "2024-07-02T19:07:28.527Z"
   },
   {
    "duration": 4,
    "start_time": "2024-07-02T19:07:44.808Z"
   },
   {
    "duration": 14,
    "start_time": "2024-07-02T19:19:26.113Z"
   },
   {
    "duration": 42,
    "start_time": "2024-07-02T19:19:32.794Z"
   },
   {
    "duration": 48,
    "start_time": "2024-07-02T19:20:37.448Z"
   },
   {
    "duration": 13,
    "start_time": "2024-07-02T19:20:56.026Z"
   },
   {
    "duration": 43,
    "start_time": "2024-07-03T04:55:34.670Z"
   },
   {
    "duration": 700,
    "start_time": "2024-07-03T04:55:39.442Z"
   },
   {
    "duration": 4,
    "start_time": "2024-07-03T04:55:40.143Z"
   },
   {
    "duration": 22,
    "start_time": "2024-07-03T04:55:40.148Z"
   },
   {
    "duration": 2100,
    "start_time": "2024-07-03T04:55:40.171Z"
   },
   {
    "duration": 115,
    "start_time": "2024-07-03T04:55:42.273Z"
   },
   {
    "duration": 7,
    "start_time": "2024-07-03T04:55:42.389Z"
   },
   {
    "duration": 4,
    "start_time": "2024-07-03T04:55:42.397Z"
   },
   {
    "duration": 75,
    "start_time": "2024-07-03T04:55:42.402Z"
   },
   {
    "duration": 4,
    "start_time": "2024-07-03T04:55:42.479Z"
   },
   {
    "duration": 3,
    "start_time": "2024-07-03T04:55:42.485Z"
   },
   {
    "duration": 8,
    "start_time": "2024-07-03T04:55:42.489Z"
   },
   {
    "duration": 3,
    "start_time": "2024-07-03T04:55:42.498Z"
   },
   {
    "duration": 73,
    "start_time": "2024-07-03T04:55:42.503Z"
   },
   {
    "duration": 234,
    "start_time": "2024-07-03T04:55:42.577Z"
   },
   {
    "duration": 5,
    "start_time": "2024-07-03T04:55:42.812Z"
   },
   {
    "duration": 29,
    "start_time": "2024-07-03T04:55:42.871Z"
   },
   {
    "duration": 2,
    "start_time": "2024-07-03T04:55:42.901Z"
   },
   {
    "duration": 82,
    "start_time": "2024-07-03T05:37:37.736Z"
   },
   {
    "duration": 26,
    "start_time": "2024-07-03T05:38:36.820Z"
   },
   {
    "duration": 15,
    "start_time": "2024-07-03T05:38:46.491Z"
   },
   {
    "duration": 16,
    "start_time": "2024-07-03T05:38:49.223Z"
   },
   {
    "duration": 23,
    "start_time": "2024-07-03T05:40:07.655Z"
   },
   {
    "duration": 16,
    "start_time": "2024-07-03T05:40:23.046Z"
   },
   {
    "duration": 4,
    "start_time": "2024-07-03T06:51:23.312Z"
   },
   {
    "duration": 453,
    "start_time": "2024-07-03T06:53:54.332Z"
   },
   {
    "duration": 4,
    "start_time": "2024-07-03T06:53:54.786Z"
   },
   {
    "duration": 26,
    "start_time": "2024-07-03T06:53:54.791Z"
   },
   {
    "duration": 1850,
    "start_time": "2024-07-03T06:53:54.818Z"
   },
   {
    "duration": 63,
    "start_time": "2024-07-03T06:53:56.670Z"
   },
   {
    "duration": 7,
    "start_time": "2024-07-03T06:53:56.734Z"
   },
   {
    "duration": 10,
    "start_time": "2024-07-03T06:53:56.742Z"
   },
   {
    "duration": 19,
    "start_time": "2024-07-03T06:53:56.753Z"
   },
   {
    "duration": 7,
    "start_time": "2024-07-03T06:53:56.773Z"
   },
   {
    "duration": 5,
    "start_time": "2024-07-03T06:53:56.782Z"
   },
   {
    "duration": 22,
    "start_time": "2024-07-03T06:53:56.788Z"
   },
   {
    "duration": 163,
    "start_time": "2024-07-03T06:53:56.812Z"
   },
   {
    "duration": 6,
    "start_time": "2024-07-03T06:53:56.976Z"
   },
   {
    "duration": 20,
    "start_time": "2024-07-03T06:53:56.984Z"
   },
   {
    "duration": 2,
    "start_time": "2024-07-03T06:53:57.005Z"
   },
   {
    "duration": 4,
    "start_time": "2024-07-03T06:58:05.190Z"
   },
   {
    "duration": 7,
    "start_time": "2024-07-03T06:59:03.039Z"
   },
   {
    "duration": 9,
    "start_time": "2024-07-03T06:59:11.099Z"
   },
   {
    "duration": 4,
    "start_time": "2024-07-03T07:18:37.718Z"
   },
   {
    "duration": 98,
    "start_time": "2024-07-03T07:18:47.988Z"
   },
   {
    "duration": 3,
    "start_time": "2024-07-03T07:18:56.185Z"
   },
   {
    "duration": 7,
    "start_time": "2024-07-03T07:19:57.617Z"
   },
   {
    "duration": 6,
    "start_time": "2024-07-03T07:20:06.079Z"
   },
   {
    "duration": 5,
    "start_time": "2024-07-03T07:20:11.273Z"
   },
   {
    "duration": 3,
    "start_time": "2024-07-03T07:20:24.239Z"
   },
   {
    "duration": 11,
    "start_time": "2024-07-03T07:25:06.347Z"
   },
   {
    "duration": 2,
    "start_time": "2024-07-03T07:25:25.263Z"
   },
   {
    "duration": 12,
    "start_time": "2024-07-03T07:38:02.536Z"
   },
   {
    "duration": 10,
    "start_time": "2024-07-03T07:38:18.073Z"
   },
   {
    "duration": 189,
    "start_time": "2024-07-03T07:38:46.231Z"
   },
   {
    "duration": 115,
    "start_time": "2024-07-03T07:39:14.072Z"
   },
   {
    "duration": 6,
    "start_time": "2024-07-03T07:40:01.951Z"
   },
   {
    "duration": 5,
    "start_time": "2024-07-03T07:40:42.801Z"
   },
   {
    "duration": 111,
    "start_time": "2024-07-03T07:42:22.944Z"
   },
   {
    "duration": 148,
    "start_time": "2024-07-03T07:46:01.365Z"
   },
   {
    "duration": 183,
    "start_time": "2024-07-03T07:46:16.059Z"
   },
   {
    "duration": 76,
    "start_time": "2024-07-03T07:46:43.162Z"
   },
   {
    "duration": 129,
    "start_time": "2024-07-03T07:46:58.029Z"
   },
   {
    "duration": 58,
    "start_time": "2024-07-03T07:48:14.287Z"
   },
   {
    "duration": 10,
    "start_time": "2024-07-03T07:48:55.426Z"
   },
   {
    "duration": 128,
    "start_time": "2024-07-03T07:49:13.438Z"
   },
   {
    "duration": 158,
    "start_time": "2024-07-03T07:53:25.465Z"
   },
   {
    "duration": 51,
    "start_time": "2024-07-03T07:56:58.759Z"
   },
   {
    "duration": 150,
    "start_time": "2024-07-03T08:05:57.352Z"
   },
   {
    "duration": 153,
    "start_time": "2024-07-03T08:06:19.500Z"
   },
   {
    "duration": 23,
    "start_time": "2024-07-03T08:08:10.567Z"
   },
   {
    "duration": 150,
    "start_time": "2024-07-03T08:08:52.628Z"
   },
   {
    "duration": 147,
    "start_time": "2024-07-03T08:08:58.508Z"
   },
   {
    "duration": 146,
    "start_time": "2024-07-03T08:09:22.283Z"
   },
   {
    "duration": 160,
    "start_time": "2024-07-03T08:10:45.397Z"
   },
   {
    "duration": 10,
    "start_time": "2024-07-03T08:11:15.159Z"
   },
   {
    "duration": 191,
    "start_time": "2024-07-03T08:12:03.875Z"
   },
   {
    "duration": 304,
    "start_time": "2024-07-03T08:14:13.318Z"
   },
   {
    "duration": 300,
    "start_time": "2024-07-03T08:14:32.838Z"
   },
   {
    "duration": 8,
    "start_time": "2024-07-03T08:17:13.466Z"
   },
   {
    "duration": 7,
    "start_time": "2024-07-03T08:17:55.768Z"
   },
   {
    "duration": 324,
    "start_time": "2024-07-03T08:20:47.841Z"
   },
   {
    "duration": 253,
    "start_time": "2024-07-03T08:25:55.472Z"
   },
   {
    "duration": 233,
    "start_time": "2024-07-03T08:29:12.883Z"
   },
   {
    "duration": 283,
    "start_time": "2024-07-03T08:30:09.933Z"
   },
   {
    "duration": 256,
    "start_time": "2024-07-03T08:30:17.859Z"
   },
   {
    "duration": 227,
    "start_time": "2024-07-03T08:30:22.091Z"
   },
   {
    "duration": 146,
    "start_time": "2024-07-03T08:35:00.686Z"
   },
   {
    "duration": 149,
    "start_time": "2024-07-03T08:35:57.755Z"
   },
   {
    "duration": 145,
    "start_time": "2024-07-03T08:37:57.586Z"
   },
   {
    "duration": 152,
    "start_time": "2024-07-03T08:41:01.027Z"
   },
   {
    "duration": 239,
    "start_time": "2024-07-03T08:43:21.149Z"
   },
   {
    "duration": 296,
    "start_time": "2024-07-03T08:43:29.234Z"
   },
   {
    "duration": 224,
    "start_time": "2024-07-03T08:43:35.198Z"
   },
   {
    "duration": 290,
    "start_time": "2024-07-03T08:44:11.292Z"
   },
   {
    "duration": 213,
    "start_time": "2024-07-03T08:44:16.288Z"
   },
   {
    "duration": 220,
    "start_time": "2024-07-03T08:44:40.827Z"
   },
   {
    "duration": 23,
    "start_time": "2024-07-03T08:46:05.552Z"
   },
   {
    "duration": 28,
    "start_time": "2024-07-03T08:46:34.528Z"
   },
   {
    "duration": 14,
    "start_time": "2024-07-03T08:47:56.421Z"
   },
   {
    "duration": 12,
    "start_time": "2024-07-03T08:48:05.973Z"
   },
   {
    "duration": 30,
    "start_time": "2024-07-03T08:48:08.058Z"
   },
   {
    "duration": 9,
    "start_time": "2024-07-03T08:48:52.512Z"
   },
   {
    "duration": 10,
    "start_time": "2024-07-03T08:48:56.179Z"
   },
   {
    "duration": 55,
    "start_time": "2024-07-03T08:49:02.246Z"
   },
   {
    "duration": 18,
    "start_time": "2024-07-03T08:49:26.554Z"
   },
   {
    "duration": 15,
    "start_time": "2024-07-03T08:49:43.203Z"
   },
   {
    "duration": 28,
    "start_time": "2024-07-03T08:50:19.556Z"
   },
   {
    "duration": 11,
    "start_time": "2024-07-03T08:56:09.748Z"
   },
   {
    "duration": 693,
    "start_time": "2024-07-03T09:02:15.482Z"
   },
   {
    "duration": 4,
    "start_time": "2024-07-03T09:02:16.177Z"
   },
   {
    "duration": 21,
    "start_time": "2024-07-03T09:02:16.185Z"
   },
   {
    "duration": 1628,
    "start_time": "2024-07-03T09:02:16.207Z"
   },
   {
    "duration": 60,
    "start_time": "2024-07-03T09:02:17.837Z"
   },
   {
    "duration": 7,
    "start_time": "2024-07-03T09:02:17.899Z"
   },
   {
    "duration": 16,
    "start_time": "2024-07-03T09:02:17.907Z"
   },
   {
    "duration": 11,
    "start_time": "2024-07-03T09:02:17.924Z"
   },
   {
    "duration": 45,
    "start_time": "2024-07-03T09:02:17.936Z"
   },
   {
    "duration": 34,
    "start_time": "2024-07-03T09:02:17.982Z"
   },
   {
    "duration": 107,
    "start_time": "2024-07-03T09:02:18.018Z"
   },
   {
    "duration": 45,
    "start_time": "2024-07-03T09:02:18.127Z"
   },
   {
    "duration": 9,
    "start_time": "2024-07-03T09:02:18.175Z"
   },
   {
    "duration": 163,
    "start_time": "2024-07-03T09:02:18.186Z"
   },
   {
    "duration": 6,
    "start_time": "2024-07-03T09:02:18.350Z"
   },
   {
    "duration": 38,
    "start_time": "2024-07-03T09:02:18.357Z"
   },
   {
    "duration": 333,
    "start_time": "2024-07-03T09:02:18.396Z"
   },
   {
    "duration": 289,
    "start_time": "2024-07-03T09:02:18.730Z"
   },
   {
    "duration": 253,
    "start_time": "2024-07-03T09:02:19.020Z"
   },
   {
    "duration": 288,
    "start_time": "2024-07-03T09:02:19.274Z"
   },
   {
    "duration": 15,
    "start_time": "2024-07-03T09:02:19.563Z"
   },
   {
    "duration": 3,
    "start_time": "2024-07-03T09:09:09.305Z"
   },
   {
    "duration": 6,
    "start_time": "2024-07-03T09:09:20.095Z"
   },
   {
    "duration": 6,
    "start_time": "2024-07-03T09:12:28.267Z"
   },
   {
    "duration": 6,
    "start_time": "2024-07-03T09:16:19.144Z"
   },
   {
    "duration": 6,
    "start_time": "2024-07-03T09:16:25.906Z"
   },
   {
    "duration": 30,
    "start_time": "2024-07-03T09:16:45.461Z"
   },
   {
    "duration": 7,
    "start_time": "2024-07-03T09:18:19.217Z"
   },
   {
    "duration": 32,
    "start_time": "2024-07-03T09:19:22.199Z"
   },
   {
    "duration": 6,
    "start_time": "2024-07-03T09:19:52.592Z"
   },
   {
    "duration": 193,
    "start_time": "2024-07-03T09:50:54.782Z"
   },
   {
    "duration": 87,
    "start_time": "2024-07-03T09:56:53.544Z"
   },
   {
    "duration": 192,
    "start_time": "2024-07-03T09:57:19.081Z"
   },
   {
    "duration": 690,
    "start_time": "2024-07-03T09:57:42.487Z"
   },
   {
    "duration": 4,
    "start_time": "2024-07-03T09:57:43.179Z"
   },
   {
    "duration": 20,
    "start_time": "2024-07-03T09:57:43.184Z"
   },
   {
    "duration": 1642,
    "start_time": "2024-07-03T09:57:43.205Z"
   },
   {
    "duration": 68,
    "start_time": "2024-07-03T09:57:44.849Z"
   },
   {
    "duration": 9,
    "start_time": "2024-07-03T09:57:44.918Z"
   },
   {
    "duration": 18,
    "start_time": "2024-07-03T09:57:44.929Z"
   },
   {
    "duration": 13,
    "start_time": "2024-07-03T09:57:44.948Z"
   },
   {
    "duration": 17,
    "start_time": "2024-07-03T09:57:44.962Z"
   },
   {
    "duration": 8,
    "start_time": "2024-07-03T09:57:44.980Z"
   },
   {
    "duration": 34,
    "start_time": "2024-07-03T09:57:44.989Z"
   },
   {
    "duration": 25,
    "start_time": "2024-07-03T09:57:45.024Z"
   },
   {
    "duration": 15,
    "start_time": "2024-07-03T09:57:45.050Z"
   },
   {
    "duration": 178,
    "start_time": "2024-07-03T09:57:45.067Z"
   },
   {
    "duration": 5,
    "start_time": "2024-07-03T09:57:45.246Z"
   },
   {
    "duration": 26,
    "start_time": "2024-07-03T09:57:45.252Z"
   },
   {
    "duration": 303,
    "start_time": "2024-07-03T09:57:45.279Z"
   },
   {
    "duration": 297,
    "start_time": "2024-07-03T09:57:45.583Z"
   },
   {
    "duration": 240,
    "start_time": "2024-07-03T09:57:45.881Z"
   },
   {
    "duration": 307,
    "start_time": "2024-07-03T09:57:46.122Z"
   },
   {
    "duration": 9,
    "start_time": "2024-07-03T09:57:46.431Z"
   },
   {
    "duration": 23,
    "start_time": "2024-07-03T09:57:46.441Z"
   },
   {
    "duration": 32,
    "start_time": "2024-07-03T09:57:46.465Z"
   },
   {
    "duration": 168,
    "start_time": "2024-07-03T09:57:46.498Z"
   },
   {
    "duration": 154,
    "start_time": "2024-07-03T09:58:10.931Z"
   },
   {
    "duration": 4,
    "start_time": "2024-07-03T10:01:41.968Z"
   },
   {
    "duration": 31,
    "start_time": "2024-07-03T10:02:01.683Z"
   },
   {
    "duration": 23,
    "start_time": "2024-07-03T10:02:39.388Z"
   },
   {
    "duration": 4,
    "start_time": "2024-07-03T10:08:42.598Z"
   },
   {
    "duration": 47,
    "start_time": "2024-07-03T12:38:03.782Z"
   },
   {
    "duration": 1152,
    "start_time": "2024-07-03T12:38:09.265Z"
   },
   {
    "duration": 5,
    "start_time": "2024-07-03T12:38:10.419Z"
   },
   {
    "duration": 31,
    "start_time": "2024-07-03T12:38:10.425Z"
   },
   {
    "duration": 2137,
    "start_time": "2024-07-03T12:38:10.458Z"
   },
   {
    "duration": 73,
    "start_time": "2024-07-03T12:38:12.597Z"
   },
   {
    "duration": 9,
    "start_time": "2024-07-03T12:38:12.672Z"
   },
   {
    "duration": 4,
    "start_time": "2024-07-03T12:38:12.683Z"
   },
   {
    "duration": 16,
    "start_time": "2024-07-03T12:38:12.688Z"
   },
   {
    "duration": 7,
    "start_time": "2024-07-03T12:38:12.706Z"
   },
   {
    "duration": 2,
    "start_time": "2024-07-03T12:38:12.714Z"
   },
   {
    "duration": 4,
    "start_time": "2024-07-03T12:38:12.717Z"
   },
   {
    "duration": 8,
    "start_time": "2024-07-03T12:38:12.722Z"
   },
   {
    "duration": 8,
    "start_time": "2024-07-03T12:38:12.732Z"
   },
   {
    "duration": 210,
    "start_time": "2024-07-03T12:38:12.743Z"
   },
   {
    "duration": 6,
    "start_time": "2024-07-03T12:38:12.955Z"
   },
   {
    "duration": 45,
    "start_time": "2024-07-03T12:38:12.963Z"
   },
   {
    "duration": 385,
    "start_time": "2024-07-03T12:38:13.009Z"
   },
   {
    "duration": 341,
    "start_time": "2024-07-03T12:38:13.396Z"
   },
   {
    "duration": 285,
    "start_time": "2024-07-03T12:38:13.738Z"
   },
   {
    "duration": 358,
    "start_time": "2024-07-03T12:38:14.024Z"
   },
   {
    "duration": 15,
    "start_time": "2024-07-03T12:38:14.384Z"
   },
   {
    "duration": 14,
    "start_time": "2024-07-03T12:38:14.401Z"
   },
   {
    "duration": 22,
    "start_time": "2024-07-03T12:38:14.416Z"
   },
   {
    "duration": 169,
    "start_time": "2024-07-03T12:38:14.439Z"
   },
   {
    "duration": 4,
    "start_time": "2024-07-03T12:38:14.609Z"
   },
   {
    "duration": 137,
    "start_time": "2024-07-03T12:38:14.615Z"
   },
   {
    "duration": 204,
    "start_time": "2024-07-03T12:38:27.895Z"
   },
   {
    "duration": 178,
    "start_time": "2024-07-03T12:40:47.338Z"
   },
   {
    "duration": 253,
    "start_time": "2024-07-03T12:41:38.087Z"
   },
   {
    "duration": 176,
    "start_time": "2024-07-03T12:43:55.581Z"
   },
   {
    "duration": 236,
    "start_time": "2024-07-03T12:45:59.248Z"
   },
   {
    "duration": 176,
    "start_time": "2024-07-03T12:46:12.515Z"
   },
   {
    "duration": 254,
    "start_time": "2024-07-03T12:46:22.559Z"
   },
   {
    "duration": 217,
    "start_time": "2024-07-03T12:46:31.085Z"
   },
   {
    "duration": 284,
    "start_time": "2024-07-03T12:46:40.346Z"
   },
   {
    "duration": 292,
    "start_time": "2024-07-03T12:51:04.920Z"
   },
   {
    "duration": 277,
    "start_time": "2024-07-03T12:51:26.821Z"
   },
   {
    "duration": 270,
    "start_time": "2024-07-03T12:51:31.826Z"
   },
   {
    "duration": 344,
    "start_time": "2024-07-03T12:51:41.940Z"
   },
   {
    "duration": 281,
    "start_time": "2024-07-03T12:52:48.198Z"
   },
   {
    "duration": 280,
    "start_time": "2024-07-03T12:52:54.978Z"
   },
   {
    "duration": 282,
    "start_time": "2024-07-03T12:52:59.924Z"
   },
   {
    "duration": 271,
    "start_time": "2024-07-03T13:00:21.453Z"
   },
   {
    "duration": 269,
    "start_time": "2024-07-03T13:01:11.088Z"
   },
   {
    "duration": 384,
    "start_time": "2024-07-03T13:01:37.022Z"
   },
   {
    "duration": 297,
    "start_time": "2024-07-03T13:02:09.033Z"
   },
   {
    "duration": 12,
    "start_time": "2024-07-03T13:05:56.998Z"
   },
   {
    "duration": 264,
    "start_time": "2024-07-03T13:06:04.026Z"
   },
   {
    "duration": 820,
    "start_time": "2024-07-03T13:25:22.379Z"
   },
   {
    "duration": 4,
    "start_time": "2024-07-03T13:25:23.201Z"
   },
   {
    "duration": 81,
    "start_time": "2024-07-03T13:25:23.208Z"
   },
   {
    "duration": 2560,
    "start_time": "2024-07-03T13:25:23.291Z"
   },
   {
    "duration": 94,
    "start_time": "2024-07-03T13:25:25.853Z"
   },
   {
    "duration": 14,
    "start_time": "2024-07-03T13:25:25.948Z"
   },
   {
    "duration": 5,
    "start_time": "2024-07-03T13:25:25.967Z"
   },
   {
    "duration": 8,
    "start_time": "2024-07-03T13:25:25.973Z"
   },
   {
    "duration": 23,
    "start_time": "2024-07-03T13:25:25.982Z"
   },
   {
    "duration": 8,
    "start_time": "2024-07-03T13:25:26.006Z"
   },
   {
    "duration": 6,
    "start_time": "2024-07-03T13:25:26.015Z"
   },
   {
    "duration": 9,
    "start_time": "2024-07-03T13:25:26.023Z"
   },
   {
    "duration": 10,
    "start_time": "2024-07-03T13:25:26.034Z"
   },
   {
    "duration": 157,
    "start_time": "2024-07-03T13:25:26.046Z"
   },
   {
    "duration": 6,
    "start_time": "2024-07-03T13:25:26.204Z"
   },
   {
    "duration": 26,
    "start_time": "2024-07-03T13:25:26.212Z"
   },
   {
    "duration": 372,
    "start_time": "2024-07-03T13:25:26.240Z"
   },
   {
    "duration": 345,
    "start_time": "2024-07-03T13:25:26.613Z"
   },
   {
    "duration": 298,
    "start_time": "2024-07-03T13:25:26.959Z"
   },
   {
    "duration": 371,
    "start_time": "2024-07-03T13:25:27.259Z"
   },
   {
    "duration": 11,
    "start_time": "2024-07-03T13:25:27.632Z"
   },
   {
    "duration": 4,
    "start_time": "2024-07-03T13:25:27.645Z"
   },
   {
    "duration": 11,
    "start_time": "2024-07-03T13:25:27.650Z"
   },
   {
    "duration": 183,
    "start_time": "2024-07-03T13:25:27.662Z"
   },
   {
    "duration": 4,
    "start_time": "2024-07-03T13:25:27.846Z"
   },
   {
    "duration": 7,
    "start_time": "2024-07-03T13:25:27.852Z"
   },
   {
    "duration": 70,
    "start_time": "2024-07-03T13:25:27.860Z"
   },
   {
    "duration": 285,
    "start_time": "2024-07-03T13:25:27.932Z"
   },
   {
    "duration": 400,
    "start_time": "2024-07-03T13:29:26.480Z"
   },
   {
    "duration": 154,
    "start_time": "2024-07-03T13:46:53.682Z"
   },
   {
    "duration": 188,
    "start_time": "2024-07-03T13:47:17.294Z"
   },
   {
    "duration": 259,
    "start_time": "2024-07-03T13:48:38.150Z"
   },
   {
    "duration": 67,
    "start_time": "2024-07-03T13:49:32.696Z"
   },
   {
    "duration": 187,
    "start_time": "2024-07-03T13:49:44.630Z"
   },
   {
    "duration": 55,
    "start_time": "2024-07-03T13:52:02.200Z"
   },
   {
    "duration": 207,
    "start_time": "2024-07-03T13:52:09.131Z"
   },
   {
    "duration": 218,
    "start_time": "2024-07-03T13:52:30.669Z"
   },
   {
    "duration": 190,
    "start_time": "2024-07-03T13:57:51.771Z"
   },
   {
    "duration": 168,
    "start_time": "2024-07-03T13:58:30.083Z"
   },
   {
    "duration": 151,
    "start_time": "2024-07-03T13:58:39.530Z"
   },
   {
    "duration": 246,
    "start_time": "2024-07-03T13:58:52.880Z"
   },
   {
    "duration": 602,
    "start_time": "2024-07-03T13:59:02.707Z"
   },
   {
    "duration": 160,
    "start_time": "2024-07-03T14:00:07.781Z"
   },
   {
    "duration": 163,
    "start_time": "2024-07-03T14:04:03.699Z"
   },
   {
    "duration": 155,
    "start_time": "2024-07-03T14:04:12.725Z"
   },
   {
    "duration": 154,
    "start_time": "2024-07-03T14:04:19.891Z"
   },
   {
    "duration": 148,
    "start_time": "2024-07-03T14:04:37.846Z"
   },
   {
    "duration": 197,
    "start_time": "2024-07-03T14:05:03.069Z"
   },
   {
    "duration": 146,
    "start_time": "2024-07-03T14:05:05.430Z"
   },
   {
    "duration": 224,
    "start_time": "2024-07-03T14:14:35.871Z"
   },
   {
    "duration": 165,
    "start_time": "2024-07-03T14:21:38.237Z"
   },
   {
    "duration": 156,
    "start_time": "2024-07-03T14:24:17.478Z"
   },
   {
    "duration": 1933,
    "start_time": "2024-07-03T14:24:48.466Z"
   },
   {
    "duration": 161,
    "start_time": "2024-07-03T14:26:16.600Z"
   },
   {
    "duration": 160,
    "start_time": "2024-07-03T14:29:45.704Z"
   },
   {
    "duration": 160,
    "start_time": "2024-07-03T14:30:31.230Z"
   },
   {
    "duration": 162,
    "start_time": "2024-07-03T14:30:45.201Z"
   },
   {
    "duration": 162,
    "start_time": "2024-07-03T14:30:55.193Z"
   },
   {
    "duration": 167,
    "start_time": "2024-07-03T14:31:13.882Z"
   },
   {
    "duration": 382,
    "start_time": "2024-07-03T14:36:13.435Z"
   },
   {
    "duration": 363,
    "start_time": "2024-07-03T14:36:29.560Z"
   },
   {
    "duration": 141,
    "start_time": "2024-07-03T14:37:34.389Z"
   },
   {
    "duration": 134,
    "start_time": "2024-07-03T14:39:35.330Z"
   },
   {
    "duration": 154,
    "start_time": "2024-07-03T14:41:28.980Z"
   },
   {
    "duration": 730,
    "start_time": "2024-07-03T14:41:57.153Z"
   },
   {
    "duration": 4,
    "start_time": "2024-07-03T14:41:57.885Z"
   },
   {
    "duration": 25,
    "start_time": "2024-07-03T14:41:57.891Z"
   },
   {
    "duration": 1889,
    "start_time": "2024-07-03T14:41:57.918Z"
   },
   {
    "duration": 71,
    "start_time": "2024-07-03T14:41:59.810Z"
   },
   {
    "duration": 9,
    "start_time": "2024-07-03T14:41:59.882Z"
   },
   {
    "duration": 3,
    "start_time": "2024-07-03T14:41:59.900Z"
   },
   {
    "duration": 17,
    "start_time": "2024-07-03T14:41:59.904Z"
   },
   {
    "duration": 7,
    "start_time": "2024-07-03T14:41:59.922Z"
   },
   {
    "duration": 2,
    "start_time": "2024-07-03T14:41:59.931Z"
   },
   {
    "duration": 21,
    "start_time": "2024-07-03T14:41:59.934Z"
   },
   {
    "duration": 8,
    "start_time": "2024-07-03T14:41:59.957Z"
   },
   {
    "duration": 9,
    "start_time": "2024-07-03T14:41:59.966Z"
   },
   {
    "duration": 145,
    "start_time": "2024-07-03T14:41:59.978Z"
   },
   {
    "duration": 13,
    "start_time": "2024-07-03T14:42:00.125Z"
   },
   {
    "duration": 77,
    "start_time": "2024-07-03T14:42:00.140Z"
   },
   {
    "duration": 412,
    "start_time": "2024-07-03T14:42:00.219Z"
   },
   {
    "duration": 369,
    "start_time": "2024-07-03T14:42:00.632Z"
   },
   {
    "duration": 291,
    "start_time": "2024-07-03T14:42:01.003Z"
   },
   {
    "duration": 413,
    "start_time": "2024-07-03T14:42:01.299Z"
   },
   {
    "duration": 12,
    "start_time": "2024-07-03T14:42:01.714Z"
   },
   {
    "duration": 31,
    "start_time": "2024-07-03T14:42:01.728Z"
   },
   {
    "duration": 24,
    "start_time": "2024-07-03T14:42:01.761Z"
   },
   {
    "duration": 183,
    "start_time": "2024-07-03T14:42:01.786Z"
   },
   {
    "duration": 5,
    "start_time": "2024-07-03T14:42:01.971Z"
   },
   {
    "duration": 13,
    "start_time": "2024-07-03T14:42:01.978Z"
   },
   {
    "duration": 427,
    "start_time": "2024-07-03T14:42:01.993Z"
   },
   {
    "duration": 289,
    "start_time": "2024-07-03T14:42:02.422Z"
   },
   {
    "duration": 174,
    "start_time": "2024-07-03T14:42:02.713Z"
   },
   {
    "duration": 157,
    "start_time": "2024-07-03T14:42:02.889Z"
   },
   {
    "duration": 231,
    "start_time": "2024-07-03T14:42:03.048Z"
   },
   {
    "duration": 173,
    "start_time": "2024-07-03T14:42:03.280Z"
   },
   {
    "duration": 234,
    "start_time": "2024-07-03T14:42:03.454Z"
   },
   {
    "duration": 132,
    "start_time": "2024-07-03T14:42:49.233Z"
   },
   {
    "duration": 139,
    "start_time": "2024-07-03T14:43:30.950Z"
   },
   {
    "duration": 153,
    "start_time": "2024-07-03T14:43:52.486Z"
   },
   {
    "duration": 150,
    "start_time": "2024-07-03T14:44:02.682Z"
   },
   {
    "duration": 166,
    "start_time": "2024-07-03T14:45:49.895Z"
   },
   {
    "duration": 151,
    "start_time": "2024-07-03T14:47:01.646Z"
   },
   {
    "duration": 152,
    "start_time": "2024-07-03T14:47:53.162Z"
   },
   {
    "duration": 163,
    "start_time": "2024-07-03T14:48:18.890Z"
   },
   {
    "duration": 225,
    "start_time": "2024-07-03T14:49:35.422Z"
   },
   {
    "duration": 147,
    "start_time": "2024-07-03T14:59:24.160Z"
   },
   {
    "duration": 185,
    "start_time": "2024-07-03T14:59:33.998Z"
   },
   {
    "duration": 142,
    "start_time": "2024-07-03T14:59:36.284Z"
   },
   {
    "duration": 153,
    "start_time": "2024-07-03T15:03:56.568Z"
   },
   {
    "duration": 159,
    "start_time": "2024-07-03T15:04:09.201Z"
   },
   {
    "duration": 152,
    "start_time": "2024-07-03T15:04:19.919Z"
   },
   {
    "duration": 146,
    "start_time": "2024-07-03T15:04:41.474Z"
   },
   {
    "duration": 56,
    "start_time": "2024-07-03T15:05:21.761Z"
   },
   {
    "duration": 142,
    "start_time": "2024-07-03T15:05:26.396Z"
   },
   {
    "duration": 268,
    "start_time": "2024-07-03T15:07:12.021Z"
   },
   {
    "duration": 11,
    "start_time": "2024-07-03T15:27:01.102Z"
   },
   {
    "duration": 21,
    "start_time": "2024-07-03T15:27:59.360Z"
   },
   {
    "duration": 19,
    "start_time": "2024-07-03T15:32:18.499Z"
   },
   {
    "duration": 21,
    "start_time": "2024-07-03T15:33:01.387Z"
   },
   {
    "duration": 21,
    "start_time": "2024-07-03T15:33:11.618Z"
   },
   {
    "duration": 21,
    "start_time": "2024-07-03T15:33:23.119Z"
   },
   {
    "duration": 21,
    "start_time": "2024-07-03T15:33:27.361Z"
   },
   {
    "duration": 20,
    "start_time": "2024-07-03T15:35:26.458Z"
   },
   {
    "duration": 20,
    "start_time": "2024-07-03T15:37:26.508Z"
   },
   {
    "duration": 23,
    "start_time": "2024-07-03T15:39:53.069Z"
   },
   {
    "duration": 21,
    "start_time": "2024-07-03T15:43:08.911Z"
   },
   {
    "duration": 16,
    "start_time": "2024-07-03T15:52:01.812Z"
   },
   {
    "duration": 15,
    "start_time": "2024-07-03T15:53:34.193Z"
   },
   {
    "duration": 27,
    "start_time": "2024-07-03T15:54:52.030Z"
   },
   {
    "duration": 17,
    "start_time": "2024-07-03T15:57:42.971Z"
   },
   {
    "duration": 54,
    "start_time": "2024-07-03T16:00:15.223Z"
   },
   {
    "duration": 19,
    "start_time": "2024-07-03T16:00:30.850Z"
   },
   {
    "duration": 204,
    "start_time": "2024-07-03T16:08:14.070Z"
   },
   {
    "duration": 138,
    "start_time": "2024-07-03T16:10:42.307Z"
   },
   {
    "duration": 66,
    "start_time": "2024-07-03T16:11:10.347Z"
   },
   {
    "duration": 53,
    "start_time": "2024-07-03T16:11:15.423Z"
   },
   {
    "duration": 26,
    "start_time": "2024-07-03T16:11:18.978Z"
   },
   {
    "duration": 53,
    "start_time": "2024-07-03T16:13:25.023Z"
   },
   {
    "duration": 18,
    "start_time": "2024-07-03T16:14:17.217Z"
   },
   {
    "duration": 61,
    "start_time": "2024-07-03T16:14:41.905Z"
   },
   {
    "duration": 14,
    "start_time": "2024-07-03T16:14:48.872Z"
   },
   {
    "duration": 825,
    "start_time": "2024-07-03T16:21:00.278Z"
   },
   {
    "duration": 5,
    "start_time": "2024-07-03T16:21:01.105Z"
   },
   {
    "duration": 115,
    "start_time": "2024-07-03T16:21:01.112Z"
   },
   {
    "duration": 1959,
    "start_time": "2024-07-03T16:21:01.228Z"
   },
   {
    "duration": 71,
    "start_time": "2024-07-03T16:21:03.189Z"
   },
   {
    "duration": 9,
    "start_time": "2024-07-03T16:21:03.261Z"
   },
   {
    "duration": 12,
    "start_time": "2024-07-03T16:21:03.272Z"
   },
   {
    "duration": 15,
    "start_time": "2024-07-03T16:21:03.285Z"
   },
   {
    "duration": 7,
    "start_time": "2024-07-03T16:21:03.302Z"
   },
   {
    "duration": 3,
    "start_time": "2024-07-03T16:21:03.310Z"
   },
   {
    "duration": 12,
    "start_time": "2024-07-03T16:21:03.315Z"
   },
   {
    "duration": 8,
    "start_time": "2024-07-03T16:21:03.328Z"
   },
   {
    "duration": 8,
    "start_time": "2024-07-03T16:21:03.337Z"
   },
   {
    "duration": 166,
    "start_time": "2024-07-03T16:21:03.349Z"
   },
   {
    "duration": 6,
    "start_time": "2024-07-03T16:21:03.516Z"
   },
   {
    "duration": 24,
    "start_time": "2024-07-03T16:21:03.525Z"
   },
   {
    "duration": 380,
    "start_time": "2024-07-03T16:21:03.550Z"
   },
   {
    "duration": 383,
    "start_time": "2024-07-03T16:21:03.932Z"
   },
   {
    "duration": 292,
    "start_time": "2024-07-03T16:21:04.317Z"
   },
   {
    "duration": 366,
    "start_time": "2024-07-03T16:21:04.610Z"
   },
   {
    "duration": 11,
    "start_time": "2024-07-03T16:21:04.977Z"
   },
   {
    "duration": 12,
    "start_time": "2024-07-03T16:21:04.990Z"
   },
   {
    "duration": 9,
    "start_time": "2024-07-03T16:21:05.004Z"
   },
   {
    "duration": 179,
    "start_time": "2024-07-03T16:21:05.014Z"
   },
   {
    "duration": 4,
    "start_time": "2024-07-03T16:21:05.199Z"
   },
   {
    "duration": 9,
    "start_time": "2024-07-03T16:21:05.205Z"
   },
   {
    "duration": 400,
    "start_time": "2024-07-03T16:21:05.216Z"
   },
   {
    "duration": 263,
    "start_time": "2024-07-03T16:21:05.617Z"
   },
   {
    "duration": 190,
    "start_time": "2024-07-03T16:21:05.882Z"
   },
   {
    "duration": 155,
    "start_time": "2024-07-03T16:21:06.074Z"
   },
   {
    "duration": 240,
    "start_time": "2024-07-03T16:21:06.231Z"
   },
   {
    "duration": 177,
    "start_time": "2024-07-03T16:21:06.473Z"
   },
   {
    "duration": 164,
    "start_time": "2024-07-03T16:21:06.651Z"
   },
   {
    "duration": 154,
    "start_time": "2024-07-03T16:21:06.816Z"
   },
   {
    "duration": 187,
    "start_time": "2024-07-03T16:21:06.971Z"
   },
   {
    "duration": 292,
    "start_time": "2024-07-03T16:21:07.159Z"
   },
   {
    "duration": 21,
    "start_time": "2024-07-03T16:21:07.453Z"
   },
   {
    "duration": 62,
    "start_time": "2024-07-03T16:21:07.476Z"
   },
   {
    "duration": 105,
    "start_time": "2024-07-03T16:21:07.539Z"
   },
   {
    "duration": 15,
    "start_time": "2024-07-03T16:21:07.646Z"
   },
   {
    "duration": 133,
    "start_time": "2024-07-03T16:21:26.526Z"
   },
   {
    "duration": 24,
    "start_time": "2024-07-03T16:48:31.335Z"
   },
   {
    "duration": 801,
    "start_time": "2024-07-03T16:48:39.763Z"
   },
   {
    "duration": 34,
    "start_time": "2024-07-03T16:48:40.566Z"
   },
   {
    "duration": 20,
    "start_time": "2024-07-03T16:48:40.601Z"
   },
   {
    "duration": 1912,
    "start_time": "2024-07-03T16:48:40.623Z"
   },
   {
    "duration": 72,
    "start_time": "2024-07-03T16:48:42.537Z"
   },
   {
    "duration": 8,
    "start_time": "2024-07-03T16:48:42.611Z"
   },
   {
    "duration": 4,
    "start_time": "2024-07-03T16:48:42.621Z"
   },
   {
    "duration": 7,
    "start_time": "2024-07-03T16:48:42.626Z"
   },
   {
    "duration": 8,
    "start_time": "2024-07-03T16:48:42.634Z"
   },
   {
    "duration": 4,
    "start_time": "2024-07-03T16:48:42.644Z"
   },
   {
    "duration": 4,
    "start_time": "2024-07-03T16:48:42.649Z"
   },
   {
    "duration": 9,
    "start_time": "2024-07-03T16:48:42.655Z"
   },
   {
    "duration": 35,
    "start_time": "2024-07-03T16:48:42.666Z"
   },
   {
    "duration": 150,
    "start_time": "2024-07-03T16:48:42.704Z"
   },
   {
    "duration": 6,
    "start_time": "2024-07-03T16:48:42.856Z"
   },
   {
    "duration": 38,
    "start_time": "2024-07-03T16:48:42.863Z"
   },
   {
    "duration": 375,
    "start_time": "2024-07-03T16:48:42.903Z"
   },
   {
    "duration": 381,
    "start_time": "2024-07-03T16:48:43.280Z"
   },
   {
    "duration": 287,
    "start_time": "2024-07-03T16:48:43.663Z"
   },
   {
    "duration": 370,
    "start_time": "2024-07-03T16:48:43.953Z"
   },
   {
    "duration": 11,
    "start_time": "2024-07-03T16:48:44.324Z"
   },
   {
    "duration": 4,
    "start_time": "2024-07-03T16:48:44.336Z"
   },
   {
    "duration": 9,
    "start_time": "2024-07-03T16:48:44.341Z"
   },
   {
    "duration": 209,
    "start_time": "2024-07-03T16:48:44.352Z"
   },
   {
    "duration": 5,
    "start_time": "2024-07-03T16:48:44.563Z"
   },
   {
    "duration": 5,
    "start_time": "2024-07-03T16:48:44.569Z"
   },
   {
    "duration": 405,
    "start_time": "2024-07-03T16:48:44.576Z"
   },
   {
    "duration": 271,
    "start_time": "2024-07-03T16:48:44.982Z"
   },
   {
    "duration": 245,
    "start_time": "2024-07-03T16:48:45.254Z"
   },
   {
    "duration": 306,
    "start_time": "2024-07-03T16:48:45.501Z"
   },
   {
    "duration": 424,
    "start_time": "2024-07-03T16:48:45.809Z"
   },
   {
    "duration": 367,
    "start_time": "2024-07-03T16:48:46.234Z"
   },
   {
    "duration": 270,
    "start_time": "2024-07-03T16:48:46.603Z"
   },
   {
    "duration": 158,
    "start_time": "2024-07-03T16:48:46.874Z"
   },
   {
    "duration": 180,
    "start_time": "2024-07-03T16:48:47.033Z"
   },
   {
    "duration": 288,
    "start_time": "2024-07-03T16:48:47.215Z"
   },
   {
    "duration": 21,
    "start_time": "2024-07-03T16:48:47.505Z"
   },
   {
    "duration": 48,
    "start_time": "2024-07-03T16:48:47.528Z"
   },
   {
    "duration": 159,
    "start_time": "2024-07-03T16:48:47.578Z"
   },
   {
    "duration": 14,
    "start_time": "2024-07-03T16:48:47.738Z"
   },
   {
    "duration": 4,
    "start_time": "2024-07-03T16:49:56.701Z"
   },
   {
    "duration": 789,
    "start_time": "2024-07-03T16:50:06.680Z"
   },
   {
    "duration": 5,
    "start_time": "2024-07-03T16:50:07.471Z"
   },
   {
    "duration": 34,
    "start_time": "2024-07-03T16:50:07.478Z"
   },
   {
    "duration": 1957,
    "start_time": "2024-07-03T16:50:07.514Z"
   },
   {
    "duration": 83,
    "start_time": "2024-07-03T16:50:09.473Z"
   },
   {
    "duration": 9,
    "start_time": "2024-07-03T16:50:09.558Z"
   },
   {
    "duration": 16,
    "start_time": "2024-07-03T16:50:09.569Z"
   },
   {
    "duration": 7,
    "start_time": "2024-07-03T16:50:09.586Z"
   },
   {
    "duration": 7,
    "start_time": "2024-07-03T16:50:09.599Z"
   },
   {
    "duration": 2,
    "start_time": "2024-07-03T16:50:09.608Z"
   },
   {
    "duration": 4,
    "start_time": "2024-07-03T16:50:09.612Z"
   },
   {
    "duration": 7,
    "start_time": "2024-07-03T16:50:09.618Z"
   },
   {
    "duration": 7,
    "start_time": "2024-07-03T16:50:09.627Z"
   },
   {
    "duration": 298,
    "start_time": "2024-07-03T16:50:09.637Z"
   },
   {
    "duration": 6,
    "start_time": "2024-07-03T16:50:09.937Z"
   },
   {
    "duration": 27,
    "start_time": "2024-07-03T16:50:10.000Z"
   },
   {
    "duration": 794,
    "start_time": "2024-07-03T16:50:10.029Z"
   },
   {
    "duration": 527,
    "start_time": "2024-07-03T16:50:10.825Z"
   },
   {
    "duration": 289,
    "start_time": "2024-07-03T16:50:11.353Z"
   },
   {
    "duration": 364,
    "start_time": "2024-07-03T16:50:11.643Z"
   },
   {
    "duration": 11,
    "start_time": "2024-07-03T16:50:12.009Z"
   },
   {
    "duration": 4,
    "start_time": "2024-07-03T16:50:12.021Z"
   },
   {
    "duration": 9,
    "start_time": "2024-07-03T16:50:12.026Z"
   },
   {
    "duration": 186,
    "start_time": "2024-07-03T16:50:12.037Z"
   },
   {
    "duration": 4,
    "start_time": "2024-07-03T16:50:12.224Z"
   },
   {
    "duration": 4,
    "start_time": "2024-07-03T16:50:12.230Z"
   },
   {
    "duration": 406,
    "start_time": "2024-07-03T16:50:12.235Z"
   },
   {
    "duration": 271,
    "start_time": "2024-07-03T16:50:12.642Z"
   },
   {
    "duration": 185,
    "start_time": "2024-07-03T16:50:12.914Z"
   },
   {
    "duration": 168,
    "start_time": "2024-07-03T16:50:13.101Z"
   },
   {
    "duration": 215,
    "start_time": "2024-07-03T16:50:13.270Z"
   },
   {
    "duration": 164,
    "start_time": "2024-07-03T16:50:13.486Z"
   },
   {
    "duration": 163,
    "start_time": "2024-07-03T16:50:13.652Z"
   },
   {
    "duration": 154,
    "start_time": "2024-07-03T16:50:13.816Z"
   },
   {
    "duration": 184,
    "start_time": "2024-07-03T16:50:13.971Z"
   },
   {
    "duration": 294,
    "start_time": "2024-07-03T16:50:14.156Z"
   },
   {
    "duration": 22,
    "start_time": "2024-07-03T16:50:14.452Z"
   },
   {
    "duration": 66,
    "start_time": "2024-07-03T16:50:14.476Z"
   },
   {
    "duration": 151,
    "start_time": "2024-07-03T16:50:14.543Z"
   },
   {
    "duration": 15,
    "start_time": "2024-07-03T16:50:14.695Z"
   },
   {
    "duration": 40,
    "start_time": "2024-07-03T17:01:19.983Z"
   },
   {
    "duration": 90,
    "start_time": "2024-07-03T17:01:48.758Z"
   },
   {
    "duration": 8,
    "start_time": "2024-07-03T17:04:14.545Z"
   },
   {
    "duration": 10,
    "start_time": "2024-07-03T17:06:08.819Z"
   },
   {
    "duration": 13,
    "start_time": "2024-07-03T17:06:23.402Z"
   },
   {
    "duration": 10,
    "start_time": "2024-07-03T17:06:28.420Z"
   },
   {
    "duration": 10,
    "start_time": "2024-07-03T17:07:01.987Z"
   },
   {
    "duration": 60,
    "start_time": "2024-07-03T17:14:28.130Z"
   },
   {
    "duration": 34,
    "start_time": "2024-07-03T17:15:14.048Z"
   },
   {
    "duration": 7,
    "start_time": "2024-07-03T17:17:21.928Z"
   },
   {
    "duration": 53,
    "start_time": "2024-07-03T17:22:56.869Z"
   },
   {
    "duration": 6,
    "start_time": "2024-07-03T17:23:01.171Z"
   },
   {
    "duration": 12,
    "start_time": "2024-07-03T17:24:29.788Z"
   },
   {
    "duration": 9,
    "start_time": "2024-07-03T17:31:00.571Z"
   },
   {
    "duration": 12,
    "start_time": "2024-07-03T17:34:05.484Z"
   },
   {
    "duration": 373,
    "start_time": "2024-07-03T17:38:54.245Z"
   },
   {
    "duration": 784,
    "start_time": "2024-07-03T17:40:46.901Z"
   },
   {
    "duration": 13,
    "start_time": "2024-07-03T17:40:47.687Z"
   },
   {
    "duration": 34,
    "start_time": "2024-07-03T17:40:47.702Z"
   },
   {
    "duration": 1938,
    "start_time": "2024-07-03T17:40:47.737Z"
   },
   {
    "duration": 71,
    "start_time": "2024-07-03T17:40:49.677Z"
   },
   {
    "duration": 9,
    "start_time": "2024-07-03T17:40:49.750Z"
   },
   {
    "duration": 5,
    "start_time": "2024-07-03T17:40:49.761Z"
   },
   {
    "duration": 6,
    "start_time": "2024-07-03T17:40:49.767Z"
   },
   {
    "duration": 7,
    "start_time": "2024-07-03T17:40:49.774Z"
   },
   {
    "duration": 11,
    "start_time": "2024-07-03T17:40:49.800Z"
   },
   {
    "duration": 29,
    "start_time": "2024-07-03T17:40:49.813Z"
   },
   {
    "duration": 8,
    "start_time": "2024-07-03T17:40:49.843Z"
   },
   {
    "duration": 9,
    "start_time": "2024-07-03T17:40:49.853Z"
   },
   {
    "duration": 36,
    "start_time": "2024-07-03T17:40:49.866Z"
   },
   {
    "duration": 50,
    "start_time": "2024-07-03T17:40:49.904Z"
   },
   {
    "duration": 13,
    "start_time": "2024-07-03T17:40:49.957Z"
   },
   {
    "duration": 146,
    "start_time": "2024-07-03T17:40:49.971Z"
   },
   {
    "duration": 6,
    "start_time": "2024-07-03T17:40:50.119Z"
   },
   {
    "duration": 80,
    "start_time": "2024-07-03T17:40:50.126Z"
   },
   {
    "duration": 376,
    "start_time": "2024-07-03T17:40:50.208Z"
   },
   {
    "duration": 374,
    "start_time": "2024-07-03T17:40:50.586Z"
   },
   {
    "duration": 291,
    "start_time": "2024-07-03T17:40:50.962Z"
   },
   {
    "duration": 7,
    "start_time": "2024-07-03T17:40:51.255Z"
   },
   {
    "duration": 388,
    "start_time": "2024-07-03T17:40:51.264Z"
   },
   {
    "duration": 15,
    "start_time": "2024-07-03T17:40:51.653Z"
   },
   {
    "duration": 10,
    "start_time": "2024-07-03T17:40:51.670Z"
   },
   {
    "duration": 22,
    "start_time": "2024-07-03T17:40:51.682Z"
   },
   {
    "duration": 201,
    "start_time": "2024-07-03T17:40:51.706Z"
   },
   {
    "duration": 4,
    "start_time": "2024-07-03T17:40:51.908Z"
   },
   {
    "duration": 48,
    "start_time": "2024-07-03T17:40:51.914Z"
   },
   {
    "duration": 774,
    "start_time": "2024-07-03T17:40:51.964Z"
   },
   {
    "duration": 577,
    "start_time": "2024-07-03T17:40:52.739Z"
   },
   {
    "duration": 175,
    "start_time": "2024-07-03T17:40:53.318Z"
   },
   {
    "duration": 147,
    "start_time": "2024-07-03T17:40:53.495Z"
   },
   {
    "duration": 213,
    "start_time": "2024-07-03T17:40:53.644Z"
   },
   {
    "duration": 170,
    "start_time": "2024-07-03T17:40:53.859Z"
   },
   {
    "duration": 185,
    "start_time": "2024-07-03T17:40:54.030Z"
   },
   {
    "duration": 164,
    "start_time": "2024-07-03T17:40:54.216Z"
   },
   {
    "duration": 180,
    "start_time": "2024-07-03T17:40:54.381Z"
   },
   {
    "duration": 288,
    "start_time": "2024-07-03T17:40:54.563Z"
   },
   {
    "duration": 22,
    "start_time": "2024-07-03T17:40:54.855Z"
   },
   {
    "duration": 63,
    "start_time": "2024-07-03T17:40:54.878Z"
   },
   {
    "duration": 149,
    "start_time": "2024-07-03T17:40:54.942Z"
   },
   {
    "duration": 16,
    "start_time": "2024-07-03T17:40:55.092Z"
   },
   {
    "duration": 81,
    "start_time": "2024-07-03T17:43:51.818Z"
   },
   {
    "duration": 223,
    "start_time": "2024-07-03T17:44:02.494Z"
   },
   {
    "duration": 149,
    "start_time": "2024-07-03T17:44:45.158Z"
   },
   {
    "duration": 803,
    "start_time": "2024-07-03T17:45:42.950Z"
   },
   {
    "duration": 5,
    "start_time": "2024-07-03T17:45:43.755Z"
   },
   {
    "duration": 25,
    "start_time": "2024-07-03T17:45:43.761Z"
   },
   {
    "duration": 1987,
    "start_time": "2024-07-03T17:45:43.788Z"
   },
   {
    "duration": 79,
    "start_time": "2024-07-03T17:45:45.777Z"
   },
   {
    "duration": 12,
    "start_time": "2024-07-03T17:45:45.858Z"
   },
   {
    "duration": 4,
    "start_time": "2024-07-03T17:45:45.879Z"
   },
   {
    "duration": 15,
    "start_time": "2024-07-03T17:45:45.885Z"
   },
   {
    "duration": 82,
    "start_time": "2024-07-03T17:45:45.902Z"
   },
   {
    "duration": 19,
    "start_time": "2024-07-03T17:45:45.987Z"
   },
   {
    "duration": 31,
    "start_time": "2024-07-03T17:45:46.011Z"
   },
   {
    "duration": 10,
    "start_time": "2024-07-03T17:45:46.044Z"
   },
   {
    "duration": 8,
    "start_time": "2024-07-03T17:45:46.056Z"
   },
   {
    "duration": 11,
    "start_time": "2024-07-03T17:45:46.066Z"
   },
   {
    "duration": 24,
    "start_time": "2024-07-03T17:45:46.078Z"
   },
   {
    "duration": 29,
    "start_time": "2024-07-03T17:45:46.104Z"
   },
   {
    "duration": 209,
    "start_time": "2024-07-03T17:45:46.135Z"
   },
   {
    "duration": 5,
    "start_time": "2024-07-03T17:45:46.346Z"
   },
   {
    "duration": 25,
    "start_time": "2024-07-03T17:45:46.353Z"
   },
   {
    "duration": 407,
    "start_time": "2024-07-03T17:45:46.379Z"
   },
   {
    "duration": 391,
    "start_time": "2024-07-03T17:45:46.788Z"
   },
   {
    "duration": 298,
    "start_time": "2024-07-03T17:45:47.181Z"
   },
   {
    "duration": 244,
    "start_time": "2024-07-03T17:45:47.480Z"
   },
   {
    "duration": 79,
    "start_time": "2024-07-03T17:45:47.725Z"
   },
   {
    "duration": 0,
    "start_time": "2024-07-03T17:45:47.806Z"
   },
   {
    "duration": 0,
    "start_time": "2024-07-03T17:45:47.807Z"
   },
   {
    "duration": 0,
    "start_time": "2024-07-03T17:45:47.808Z"
   },
   {
    "duration": 0,
    "start_time": "2024-07-03T17:45:47.809Z"
   },
   {
    "duration": 0,
    "start_time": "2024-07-03T17:45:47.810Z"
   },
   {
    "duration": 0,
    "start_time": "2024-07-03T17:45:47.811Z"
   },
   {
    "duration": 0,
    "start_time": "2024-07-03T17:45:47.812Z"
   },
   {
    "duration": 0,
    "start_time": "2024-07-03T17:45:47.813Z"
   },
   {
    "duration": 0,
    "start_time": "2024-07-03T17:45:47.815Z"
   },
   {
    "duration": 0,
    "start_time": "2024-07-03T17:45:47.816Z"
   },
   {
    "duration": 0,
    "start_time": "2024-07-03T17:45:47.817Z"
   },
   {
    "duration": 0,
    "start_time": "2024-07-03T17:45:47.818Z"
   },
   {
    "duration": 0,
    "start_time": "2024-07-03T17:45:47.819Z"
   },
   {
    "duration": 0,
    "start_time": "2024-07-03T17:45:47.820Z"
   },
   {
    "duration": 0,
    "start_time": "2024-07-03T17:45:47.821Z"
   },
   {
    "duration": 0,
    "start_time": "2024-07-03T17:45:47.823Z"
   },
   {
    "duration": 0,
    "start_time": "2024-07-03T17:45:47.824Z"
   },
   {
    "duration": 0,
    "start_time": "2024-07-03T17:45:47.825Z"
   },
   {
    "duration": 0,
    "start_time": "2024-07-03T17:45:47.826Z"
   },
   {
    "duration": 755,
    "start_time": "2024-07-03T17:46:55.833Z"
   },
   {
    "duration": 9,
    "start_time": "2024-07-03T17:46:56.590Z"
   },
   {
    "duration": 25,
    "start_time": "2024-07-03T17:46:56.601Z"
   },
   {
    "duration": 1896,
    "start_time": "2024-07-03T17:46:56.627Z"
   },
   {
    "duration": 84,
    "start_time": "2024-07-03T17:46:58.526Z"
   },
   {
    "duration": 11,
    "start_time": "2024-07-03T17:46:58.612Z"
   },
   {
    "duration": 4,
    "start_time": "2024-07-03T17:46:58.625Z"
   },
   {
    "duration": 14,
    "start_time": "2024-07-03T17:46:58.630Z"
   },
   {
    "duration": 10,
    "start_time": "2024-07-03T17:46:58.646Z"
   },
   {
    "duration": 13,
    "start_time": "2024-07-03T17:46:58.657Z"
   },
   {
    "duration": 54,
    "start_time": "2024-07-03T17:46:58.671Z"
   },
   {
    "duration": 49,
    "start_time": "2024-07-03T17:46:58.726Z"
   },
   {
    "duration": 11,
    "start_time": "2024-07-03T17:46:58.776Z"
   },
   {
    "duration": 17,
    "start_time": "2024-07-03T17:46:58.790Z"
   },
   {
    "duration": 8,
    "start_time": "2024-07-03T17:46:58.809Z"
   },
   {
    "duration": 16,
    "start_time": "2024-07-03T17:46:58.818Z"
   },
   {
    "duration": 163,
    "start_time": "2024-07-03T17:46:58.836Z"
   },
   {
    "duration": 8,
    "start_time": "2024-07-03T17:46:59.001Z"
   },
   {
    "duration": 31,
    "start_time": "2024-07-03T17:46:59.011Z"
   },
   {
    "duration": 383,
    "start_time": "2024-07-03T17:46:59.044Z"
   },
   {
    "duration": 379,
    "start_time": "2024-07-03T17:46:59.429Z"
   },
   {
    "duration": 308,
    "start_time": "2024-07-03T17:46:59.810Z"
   },
   {
    "duration": 320,
    "start_time": "2024-07-03T17:47:00.120Z"
   },
   {
    "duration": 0,
    "start_time": "2024-07-03T17:47:00.442Z"
   },
   {
    "duration": 1,
    "start_time": "2024-07-03T17:47:00.443Z"
   },
   {
    "duration": 0,
    "start_time": "2024-07-03T17:47:00.445Z"
   },
   {
    "duration": 0,
    "start_time": "2024-07-03T17:47:00.447Z"
   },
   {
    "duration": 0,
    "start_time": "2024-07-03T17:47:00.448Z"
   },
   {
    "duration": 0,
    "start_time": "2024-07-03T17:47:00.450Z"
   },
   {
    "duration": 0,
    "start_time": "2024-07-03T17:47:00.451Z"
   },
   {
    "duration": 0,
    "start_time": "2024-07-03T17:47:00.453Z"
   },
   {
    "duration": 0,
    "start_time": "2024-07-03T17:47:00.454Z"
   },
   {
    "duration": 1,
    "start_time": "2024-07-03T17:47:00.455Z"
   },
   {
    "duration": 0,
    "start_time": "2024-07-03T17:47:00.457Z"
   },
   {
    "duration": 0,
    "start_time": "2024-07-03T17:47:00.459Z"
   },
   {
    "duration": 0,
    "start_time": "2024-07-03T17:47:00.460Z"
   },
   {
    "duration": 0,
    "start_time": "2024-07-03T17:47:00.461Z"
   },
   {
    "duration": 0,
    "start_time": "2024-07-03T17:47:00.462Z"
   },
   {
    "duration": 0,
    "start_time": "2024-07-03T17:47:00.463Z"
   },
   {
    "duration": 0,
    "start_time": "2024-07-03T17:47:00.500Z"
   },
   {
    "duration": 0,
    "start_time": "2024-07-03T17:47:00.501Z"
   },
   {
    "duration": 0,
    "start_time": "2024-07-03T17:47:00.502Z"
   },
   {
    "duration": 0,
    "start_time": "2024-07-03T17:47:00.503Z"
   },
   {
    "duration": 775,
    "start_time": "2024-07-03T17:48:52.368Z"
   },
   {
    "duration": 5,
    "start_time": "2024-07-03T17:48:53.145Z"
   },
   {
    "duration": 81,
    "start_time": "2024-07-03T17:48:53.151Z"
   },
   {
    "duration": 1898,
    "start_time": "2024-07-03T17:48:53.233Z"
   },
   {
    "duration": 72,
    "start_time": "2024-07-03T17:48:55.134Z"
   },
   {
    "duration": 9,
    "start_time": "2024-07-03T17:48:55.208Z"
   },
   {
    "duration": 14,
    "start_time": "2024-07-03T17:48:55.218Z"
   },
   {
    "duration": 19,
    "start_time": "2024-07-03T17:48:55.234Z"
   },
   {
    "duration": 29,
    "start_time": "2024-07-03T17:48:55.254Z"
   },
   {
    "duration": 10,
    "start_time": "2024-07-03T17:48:55.285Z"
   },
   {
    "duration": 27,
    "start_time": "2024-07-03T17:48:55.297Z"
   },
   {
    "duration": 7,
    "start_time": "2024-07-03T17:48:55.326Z"
   },
   {
    "duration": 8,
    "start_time": "2024-07-03T17:48:55.334Z"
   },
   {
    "duration": 6,
    "start_time": "2024-07-03T17:48:55.345Z"
   },
   {
    "duration": 7,
    "start_time": "2024-07-03T17:48:55.352Z"
   },
   {
    "duration": 43,
    "start_time": "2024-07-03T17:48:55.361Z"
   },
   {
    "duration": 143,
    "start_time": "2024-07-03T17:48:55.405Z"
   },
   {
    "duration": 6,
    "start_time": "2024-07-03T17:48:55.550Z"
   },
   {
    "duration": 22,
    "start_time": "2024-07-03T17:48:55.557Z"
   },
   {
    "duration": 425,
    "start_time": "2024-07-03T17:48:55.581Z"
   },
   {
    "duration": 366,
    "start_time": "2024-07-03T17:48:56.008Z"
   },
   {
    "duration": 280,
    "start_time": "2024-07-03T17:48:56.376Z"
   },
   {
    "duration": 307,
    "start_time": "2024-07-03T17:48:56.658Z"
   },
   {
    "duration": 0,
    "start_time": "2024-07-03T17:48:56.968Z"
   },
   {
    "duration": 0,
    "start_time": "2024-07-03T17:48:56.970Z"
   },
   {
    "duration": 0,
    "start_time": "2024-07-03T17:48:56.971Z"
   },
   {
    "duration": 0,
    "start_time": "2024-07-03T17:48:56.973Z"
   },
   {
    "duration": 0,
    "start_time": "2024-07-03T17:48:56.974Z"
   },
   {
    "duration": 0,
    "start_time": "2024-07-03T17:48:56.975Z"
   },
   {
    "duration": 0,
    "start_time": "2024-07-03T17:48:56.977Z"
   },
   {
    "duration": 0,
    "start_time": "2024-07-03T17:48:56.978Z"
   },
   {
    "duration": 0,
    "start_time": "2024-07-03T17:48:57.000Z"
   },
   {
    "duration": 0,
    "start_time": "2024-07-03T17:48:57.002Z"
   },
   {
    "duration": 0,
    "start_time": "2024-07-03T17:48:57.003Z"
   },
   {
    "duration": 0,
    "start_time": "2024-07-03T17:48:57.004Z"
   },
   {
    "duration": 0,
    "start_time": "2024-07-03T17:48:57.005Z"
   },
   {
    "duration": 0,
    "start_time": "2024-07-03T17:48:57.006Z"
   },
   {
    "duration": 0,
    "start_time": "2024-07-03T17:48:57.008Z"
   },
   {
    "duration": 0,
    "start_time": "2024-07-03T17:48:57.010Z"
   },
   {
    "duration": 0,
    "start_time": "2024-07-03T17:48:57.011Z"
   },
   {
    "duration": 0,
    "start_time": "2024-07-03T17:48:57.012Z"
   },
   {
    "duration": 0,
    "start_time": "2024-07-03T17:48:57.013Z"
   },
   {
    "duration": 0,
    "start_time": "2024-07-03T17:48:57.015Z"
   },
   {
    "duration": 797,
    "start_time": "2024-07-03T17:56:14.752Z"
   },
   {
    "duration": 725,
    "start_time": "2024-07-03T17:57:08.130Z"
   },
   {
    "duration": 5,
    "start_time": "2024-07-03T17:57:08.857Z"
   },
   {
    "duration": 41,
    "start_time": "2024-07-03T17:57:08.863Z"
   },
   {
    "duration": 1973,
    "start_time": "2024-07-03T17:57:08.906Z"
   },
   {
    "duration": 72,
    "start_time": "2024-07-03T17:57:10.881Z"
   },
   {
    "duration": 9,
    "start_time": "2024-07-03T17:57:10.954Z"
   },
   {
    "duration": 3,
    "start_time": "2024-07-03T17:57:10.964Z"
   },
   {
    "duration": 5,
    "start_time": "2024-07-03T17:57:10.969Z"
   },
   {
    "duration": 6,
    "start_time": "2024-07-03T17:57:10.976Z"
   },
   {
    "duration": 25,
    "start_time": "2024-07-03T17:57:10.984Z"
   },
   {
    "duration": 39,
    "start_time": "2024-07-03T17:57:11.010Z"
   },
   {
    "duration": 7,
    "start_time": "2024-07-03T17:57:11.050Z"
   },
   {
    "duration": 8,
    "start_time": "2024-07-03T17:57:11.058Z"
   },
   {
    "duration": 6,
    "start_time": "2024-07-03T17:57:11.069Z"
   },
   {
    "duration": 25,
    "start_time": "2024-07-03T17:57:11.077Z"
   },
   {
    "duration": 13,
    "start_time": "2024-07-03T17:57:11.104Z"
   },
   {
    "duration": 158,
    "start_time": "2024-07-03T17:57:11.118Z"
   },
   {
    "duration": 6,
    "start_time": "2024-07-03T17:57:11.278Z"
   },
   {
    "duration": 32,
    "start_time": "2024-07-03T17:57:11.285Z"
   },
   {
    "duration": 406,
    "start_time": "2024-07-03T17:57:11.319Z"
   },
   {
    "duration": 357,
    "start_time": "2024-07-03T17:57:11.727Z"
   },
   {
    "duration": 296,
    "start_time": "2024-07-03T17:57:12.085Z"
   },
   {
    "duration": 943,
    "start_time": "2024-07-03T17:57:12.383Z"
   },
   {
    "duration": 0,
    "start_time": "2024-07-03T17:57:13.328Z"
   },
   {
    "duration": 0,
    "start_time": "2024-07-03T17:57:13.329Z"
   },
   {
    "duration": 0,
    "start_time": "2024-07-03T17:57:13.331Z"
   },
   {
    "duration": 0,
    "start_time": "2024-07-03T17:57:13.332Z"
   },
   {
    "duration": 0,
    "start_time": "2024-07-03T17:57:13.334Z"
   },
   {
    "duration": 0,
    "start_time": "2024-07-03T17:57:13.335Z"
   },
   {
    "duration": 0,
    "start_time": "2024-07-03T17:57:13.337Z"
   },
   {
    "duration": 0,
    "start_time": "2024-07-03T17:57:13.338Z"
   },
   {
    "duration": 0,
    "start_time": "2024-07-03T17:57:13.340Z"
   },
   {
    "duration": 0,
    "start_time": "2024-07-03T17:57:13.341Z"
   },
   {
    "duration": 0,
    "start_time": "2024-07-03T17:57:13.342Z"
   },
   {
    "duration": 0,
    "start_time": "2024-07-03T17:57:13.343Z"
   },
   {
    "duration": 0,
    "start_time": "2024-07-03T17:57:13.344Z"
   },
   {
    "duration": 0,
    "start_time": "2024-07-03T17:57:13.345Z"
   },
   {
    "duration": 0,
    "start_time": "2024-07-03T17:57:13.346Z"
   },
   {
    "duration": 0,
    "start_time": "2024-07-03T17:57:13.347Z"
   },
   {
    "duration": 0,
    "start_time": "2024-07-03T17:57:13.348Z"
   },
   {
    "duration": 0,
    "start_time": "2024-07-03T17:57:13.349Z"
   },
   {
    "duration": 0,
    "start_time": "2024-07-03T17:57:13.350Z"
   },
   {
    "duration": 0,
    "start_time": "2024-07-03T17:57:13.351Z"
   },
   {
    "duration": 762,
    "start_time": "2024-07-03T18:05:10.724Z"
   },
   {
    "duration": 4,
    "start_time": "2024-07-03T18:05:11.488Z"
   },
   {
    "duration": 28,
    "start_time": "2024-07-03T18:05:11.493Z"
   },
   {
    "duration": 1969,
    "start_time": "2024-07-03T18:05:11.522Z"
   },
   {
    "duration": 86,
    "start_time": "2024-07-03T18:05:13.493Z"
   },
   {
    "duration": 9,
    "start_time": "2024-07-03T18:05:13.580Z"
   },
   {
    "duration": 4,
    "start_time": "2024-07-03T18:05:13.599Z"
   },
   {
    "duration": 11,
    "start_time": "2024-07-03T18:05:13.604Z"
   },
   {
    "duration": 15,
    "start_time": "2024-07-03T18:05:13.616Z"
   },
   {
    "duration": 25,
    "start_time": "2024-07-03T18:05:13.632Z"
   },
   {
    "duration": 28,
    "start_time": "2024-07-03T18:05:13.659Z"
   },
   {
    "duration": 13,
    "start_time": "2024-07-03T18:05:13.689Z"
   },
   {
    "duration": 8,
    "start_time": "2024-07-03T18:05:13.704Z"
   },
   {
    "duration": 6,
    "start_time": "2024-07-03T18:05:13.715Z"
   },
   {
    "duration": 7,
    "start_time": "2024-07-03T18:05:13.723Z"
   },
   {
    "duration": 14,
    "start_time": "2024-07-03T18:05:13.731Z"
   },
   {
    "duration": 173,
    "start_time": "2024-07-03T18:05:13.746Z"
   },
   {
    "duration": 6,
    "start_time": "2024-07-03T18:05:13.920Z"
   },
   {
    "duration": 26,
    "start_time": "2024-07-03T18:05:13.928Z"
   },
   {
    "duration": 393,
    "start_time": "2024-07-03T18:05:13.955Z"
   },
   {
    "duration": 397,
    "start_time": "2024-07-03T18:05:14.350Z"
   },
   {
    "duration": 299,
    "start_time": "2024-07-03T18:05:14.749Z"
   },
   {
    "duration": 242,
    "start_time": "2024-07-03T18:05:15.050Z"
   },
   {
    "duration": 12,
    "start_time": "2024-07-03T18:05:15.299Z"
   },
   {
    "duration": 4,
    "start_time": "2024-07-03T18:05:15.313Z"
   },
   {
    "duration": 13,
    "start_time": "2024-07-03T18:05:15.318Z"
   },
   {
    "duration": 289,
    "start_time": "2024-07-03T18:05:15.332Z"
   },
   {
    "duration": 4,
    "start_time": "2024-07-03T18:05:15.622Z"
   },
   {
    "duration": 7,
    "start_time": "2024-07-03T18:05:15.628Z"
   },
   {
    "duration": 446,
    "start_time": "2024-07-03T18:05:15.637Z"
   },
   {
    "duration": 247,
    "start_time": "2024-07-03T18:05:16.084Z"
   },
   {
    "duration": 181,
    "start_time": "2024-07-03T18:05:16.332Z"
   },
   {
    "duration": 166,
    "start_time": "2024-07-03T18:05:16.514Z"
   },
   {
    "duration": 240,
    "start_time": "2024-07-03T18:05:16.681Z"
   },
   {
    "duration": 193,
    "start_time": "2024-07-03T18:05:16.923Z"
   },
   {
    "duration": 169,
    "start_time": "2024-07-03T18:05:17.118Z"
   },
   {
    "duration": 155,
    "start_time": "2024-07-03T18:05:17.289Z"
   },
   {
    "duration": 184,
    "start_time": "2024-07-03T18:05:17.445Z"
   },
   {
    "duration": 313,
    "start_time": "2024-07-03T18:05:17.630Z"
   },
   {
    "duration": 24,
    "start_time": "2024-07-03T18:05:17.944Z"
   },
   {
    "duration": 160,
    "start_time": "2024-07-03T18:05:17.971Z"
   },
   {
    "duration": 131,
    "start_time": "2024-07-03T18:05:18.133Z"
   },
   {
    "duration": 19,
    "start_time": "2024-07-03T18:05:18.265Z"
   },
   {
    "duration": 153,
    "start_time": "2024-07-03T18:05:43.779Z"
   },
   {
    "duration": 348,
    "start_time": "2024-07-03T18:08:11.543Z"
   },
   {
    "duration": 288,
    "start_time": "2024-07-03T18:08:16.385Z"
   },
   {
    "duration": 271,
    "start_time": "2024-07-03T18:08:29.259Z"
   },
   {
    "duration": 778,
    "start_time": "2024-07-03T18:12:38.382Z"
   },
   {
    "duration": 4,
    "start_time": "2024-07-03T18:12:39.162Z"
   },
   {
    "duration": 57,
    "start_time": "2024-07-03T18:12:39.167Z"
   },
   {
    "duration": 1970,
    "start_time": "2024-07-03T18:12:39.225Z"
   },
   {
    "duration": 79,
    "start_time": "2024-07-03T18:12:41.197Z"
   },
   {
    "duration": 10,
    "start_time": "2024-07-03T18:12:41.278Z"
   },
   {
    "duration": 29,
    "start_time": "2024-07-03T18:12:41.299Z"
   },
   {
    "duration": 7,
    "start_time": "2024-07-03T18:12:41.330Z"
   },
   {
    "duration": 7,
    "start_time": "2024-07-03T18:12:41.338Z"
   },
   {
    "duration": 16,
    "start_time": "2024-07-03T18:12:41.347Z"
   },
   {
    "duration": 29,
    "start_time": "2024-07-03T18:12:41.365Z"
   },
   {
    "duration": 6,
    "start_time": "2024-07-03T18:12:41.396Z"
   },
   {
    "duration": 20,
    "start_time": "2024-07-03T18:12:41.404Z"
   },
   {
    "duration": 7,
    "start_time": "2024-07-03T18:12:41.426Z"
   },
   {
    "duration": 10,
    "start_time": "2024-07-03T18:12:41.434Z"
   },
   {
    "duration": 13,
    "start_time": "2024-07-03T18:12:41.445Z"
   },
   {
    "duration": 181,
    "start_time": "2024-07-03T18:12:41.459Z"
   },
   {
    "duration": 5,
    "start_time": "2024-07-03T18:12:41.642Z"
   },
   {
    "duration": 22,
    "start_time": "2024-07-03T18:12:41.649Z"
   },
   {
    "duration": 432,
    "start_time": "2024-07-03T18:12:41.672Z"
   },
   {
    "duration": 723,
    "start_time": "2024-07-03T18:12:42.106Z"
   },
   {
    "duration": 581,
    "start_time": "2024-07-03T18:12:42.831Z"
   },
   {
    "duration": 522,
    "start_time": "2024-07-03T18:12:43.414Z"
   },
   {
    "duration": 11,
    "start_time": "2024-07-03T18:12:43.937Z"
   },
   {
    "duration": 4,
    "start_time": "2024-07-03T18:12:43.950Z"
   },
   {
    "duration": 9,
    "start_time": "2024-07-03T18:12:43.955Z"
   },
   {
    "duration": 206,
    "start_time": "2024-07-03T18:12:43.966Z"
   },
   {
    "duration": 5,
    "start_time": "2024-07-03T18:12:44.173Z"
   },
   {
    "duration": 4,
    "start_time": "2024-07-03T18:12:44.179Z"
   },
   {
    "duration": 454,
    "start_time": "2024-07-03T18:12:44.184Z"
   },
   {
    "duration": 306,
    "start_time": "2024-07-03T18:12:44.640Z"
   },
   {
    "duration": 165,
    "start_time": "2024-07-03T18:12:44.947Z"
   },
   {
    "duration": 175,
    "start_time": "2024-07-03T18:12:45.114Z"
   },
   {
    "duration": 237,
    "start_time": "2024-07-03T18:12:45.291Z"
   },
   {
    "duration": 157,
    "start_time": "2024-07-03T18:12:45.530Z"
   },
   {
    "duration": 185,
    "start_time": "2024-07-03T18:12:45.688Z"
   },
   {
    "duration": 227,
    "start_time": "2024-07-03T18:12:45.875Z"
   },
   {
    "duration": 206,
    "start_time": "2024-07-03T18:12:46.104Z"
   },
   {
    "duration": 335,
    "start_time": "2024-07-03T18:12:46.311Z"
   },
   {
    "duration": 27,
    "start_time": "2024-07-03T18:12:46.648Z"
   },
   {
    "duration": 86,
    "start_time": "2024-07-03T18:12:46.680Z"
   },
   {
    "duration": 163,
    "start_time": "2024-07-03T18:12:46.768Z"
   },
   {
    "duration": 14,
    "start_time": "2024-07-03T18:12:46.933Z"
   },
   {
    "duration": 74,
    "start_time": "2024-07-03T18:15:45.248Z"
   },
   {
    "duration": 773,
    "start_time": "2024-07-03T18:51:56.390Z"
   },
   {
    "duration": 5,
    "start_time": "2024-07-03T18:51:57.166Z"
   },
   {
    "duration": 30,
    "start_time": "2024-07-03T18:51:57.172Z"
   },
   {
    "duration": 1919,
    "start_time": "2024-07-03T18:51:57.204Z"
   },
   {
    "duration": 72,
    "start_time": "2024-07-03T18:51:59.126Z"
   },
   {
    "duration": 9,
    "start_time": "2024-07-03T18:51:59.200Z"
   },
   {
    "duration": 4,
    "start_time": "2024-07-03T18:51:59.210Z"
   },
   {
    "duration": 9,
    "start_time": "2024-07-03T18:51:59.215Z"
   },
   {
    "duration": 9,
    "start_time": "2024-07-03T18:51:59.225Z"
   },
   {
    "duration": 14,
    "start_time": "2024-07-03T18:51:59.236Z"
   },
   {
    "duration": 57,
    "start_time": "2024-07-03T18:51:59.252Z"
   },
   {
    "duration": 6,
    "start_time": "2024-07-03T18:51:59.310Z"
   },
   {
    "duration": 51,
    "start_time": "2024-07-03T18:51:59.317Z"
   },
   {
    "duration": 7,
    "start_time": "2024-07-03T18:51:59.371Z"
   },
   {
    "duration": 8,
    "start_time": "2024-07-03T18:51:59.379Z"
   },
   {
    "duration": 17,
    "start_time": "2024-07-03T18:51:59.388Z"
   },
   {
    "duration": 146,
    "start_time": "2024-07-03T18:51:59.407Z"
   },
   {
    "duration": 6,
    "start_time": "2024-07-03T18:51:59.555Z"
   },
   {
    "duration": 24,
    "start_time": "2024-07-03T18:51:59.562Z"
   },
   {
    "duration": 377,
    "start_time": "2024-07-03T18:51:59.599Z"
   },
   {
    "duration": 373,
    "start_time": "2024-07-03T18:51:59.978Z"
   },
   {
    "duration": 299,
    "start_time": "2024-07-03T18:52:00.352Z"
   },
   {
    "duration": 376,
    "start_time": "2024-07-03T18:52:00.653Z"
   },
   {
    "duration": 11,
    "start_time": "2024-07-03T18:52:01.031Z"
   },
   {
    "duration": 83,
    "start_time": "2024-07-03T18:52:01.044Z"
   },
   {
    "duration": 4,
    "start_time": "2024-07-03T18:52:01.129Z"
   },
   {
    "duration": 41,
    "start_time": "2024-07-03T18:52:01.135Z"
   },
   {
    "duration": 188,
    "start_time": "2024-07-03T18:52:01.177Z"
   },
   {
    "duration": 4,
    "start_time": "2024-07-03T18:52:01.367Z"
   },
   {
    "duration": 58,
    "start_time": "2024-07-03T18:52:01.372Z"
   },
   {
    "duration": 67,
    "start_time": "2024-07-03T18:52:01.431Z"
   },
   {
    "duration": 0,
    "start_time": "2024-07-03T18:52:01.501Z"
   },
   {
    "duration": 0,
    "start_time": "2024-07-03T18:52:01.502Z"
   },
   {
    "duration": 0,
    "start_time": "2024-07-03T18:52:01.503Z"
   },
   {
    "duration": 0,
    "start_time": "2024-07-03T18:52:01.504Z"
   },
   {
    "duration": 0,
    "start_time": "2024-07-03T18:52:01.505Z"
   },
   {
    "duration": 0,
    "start_time": "2024-07-03T18:52:01.506Z"
   },
   {
    "duration": 0,
    "start_time": "2024-07-03T18:52:01.507Z"
   },
   {
    "duration": 0,
    "start_time": "2024-07-03T18:52:01.508Z"
   },
   {
    "duration": 0,
    "start_time": "2024-07-03T18:52:01.509Z"
   },
   {
    "duration": 0,
    "start_time": "2024-07-03T18:52:01.510Z"
   },
   {
    "duration": 0,
    "start_time": "2024-07-03T18:52:01.511Z"
   },
   {
    "duration": 0,
    "start_time": "2024-07-03T18:52:01.512Z"
   },
   {
    "duration": 0,
    "start_time": "2024-07-03T18:52:01.513Z"
   },
   {
    "duration": 0,
    "start_time": "2024-07-03T18:52:01.514Z"
   },
   {
    "duration": 0,
    "start_time": "2024-07-03T18:52:01.515Z"
   },
   {
    "duration": 8,
    "start_time": "2024-07-03T18:52:40.789Z"
   },
   {
    "duration": 70,
    "start_time": "2024-07-03T18:53:22.657Z"
   },
   {
    "duration": 8,
    "start_time": "2024-07-03T18:53:43.148Z"
   },
   {
    "duration": 5,
    "start_time": "2024-07-03T18:55:06.835Z"
   },
   {
    "duration": 3,
    "start_time": "2024-07-03T18:57:04.077Z"
   },
   {
    "duration": 6,
    "start_time": "2024-07-03T18:57:14.110Z"
   },
   {
    "duration": 13,
    "start_time": "2024-07-03T18:58:01.424Z"
   },
   {
    "duration": 736,
    "start_time": "2024-07-03T18:59:22.440Z"
   },
   {
    "duration": 5,
    "start_time": "2024-07-03T18:59:23.178Z"
   },
   {
    "duration": 29,
    "start_time": "2024-07-03T18:59:23.184Z"
   },
   {
    "duration": 1916,
    "start_time": "2024-07-03T18:59:23.215Z"
   },
   {
    "duration": 73,
    "start_time": "2024-07-03T18:59:25.133Z"
   },
   {
    "duration": 10,
    "start_time": "2024-07-03T18:59:25.208Z"
   },
   {
    "duration": 7,
    "start_time": "2024-07-03T18:59:25.219Z"
   },
   {
    "duration": 5,
    "start_time": "2024-07-03T18:59:25.228Z"
   },
   {
    "duration": 7,
    "start_time": "2024-07-03T18:59:25.235Z"
   },
   {
    "duration": 11,
    "start_time": "2024-07-03T18:59:25.243Z"
   },
   {
    "duration": 49,
    "start_time": "2024-07-03T18:59:25.255Z"
   },
   {
    "duration": 6,
    "start_time": "2024-07-03T18:59:25.306Z"
   },
   {
    "duration": 9,
    "start_time": "2024-07-03T18:59:25.314Z"
   },
   {
    "duration": 6,
    "start_time": "2024-07-03T18:59:25.327Z"
   },
   {
    "duration": 66,
    "start_time": "2024-07-03T18:59:25.335Z"
   },
   {
    "duration": 15,
    "start_time": "2024-07-03T18:59:25.402Z"
   },
   {
    "duration": 148,
    "start_time": "2024-07-03T18:59:25.419Z"
   },
   {
    "duration": 6,
    "start_time": "2024-07-03T18:59:25.569Z"
   },
   {
    "duration": 33,
    "start_time": "2024-07-03T18:59:25.576Z"
   },
   {
    "duration": 412,
    "start_time": "2024-07-03T18:59:25.611Z"
   },
   {
    "duration": 375,
    "start_time": "2024-07-03T18:59:26.025Z"
   },
   {
    "duration": 306,
    "start_time": "2024-07-03T18:59:26.402Z"
   },
   {
    "duration": 375,
    "start_time": "2024-07-03T18:59:26.709Z"
   },
   {
    "duration": 17,
    "start_time": "2024-07-03T18:59:27.086Z"
   },
   {
    "duration": 69,
    "start_time": "2024-07-03T18:59:27.105Z"
   },
   {
    "duration": 4,
    "start_time": "2024-07-03T18:59:27.176Z"
   },
   {
    "duration": 26,
    "start_time": "2024-07-03T18:59:27.182Z"
   },
   {
    "duration": 182,
    "start_time": "2024-07-03T18:59:27.210Z"
   },
   {
    "duration": 8,
    "start_time": "2024-07-03T18:59:27.393Z"
   },
   {
    "duration": 50,
    "start_time": "2024-07-03T18:59:27.403Z"
   },
   {
    "duration": 3,
    "start_time": "2024-07-03T18:59:27.454Z"
   },
   {
    "duration": 3,
    "start_time": "2024-07-03T18:59:27.459Z"
   },
   {
    "duration": 391,
    "start_time": "2024-07-03T18:59:27.463Z"
   },
   {
    "duration": 270,
    "start_time": "2024-07-03T18:59:27.856Z"
   },
   {
    "duration": 161,
    "start_time": "2024-07-03T18:59:28.127Z"
   },
   {
    "duration": 153,
    "start_time": "2024-07-03T18:59:28.289Z"
   },
   {
    "duration": 240,
    "start_time": "2024-07-03T18:59:28.444Z"
   },
   {
    "duration": 173,
    "start_time": "2024-07-03T18:59:28.686Z"
   },
   {
    "duration": 172,
    "start_time": "2024-07-03T18:59:28.861Z"
   },
   {
    "duration": 149,
    "start_time": "2024-07-03T18:59:29.035Z"
   },
   {
    "duration": 183,
    "start_time": "2024-07-03T18:59:29.189Z"
   },
   {
    "duration": 292,
    "start_time": "2024-07-03T18:59:29.374Z"
   },
   {
    "duration": 34,
    "start_time": "2024-07-03T18:59:29.668Z"
   },
   {
    "duration": 50,
    "start_time": "2024-07-03T18:59:29.704Z"
   },
   {
    "duration": 154,
    "start_time": "2024-07-03T18:59:29.755Z"
   },
   {
    "duration": 14,
    "start_time": "2024-07-03T18:59:29.911Z"
   },
   {
    "duration": 7,
    "start_time": "2024-07-03T19:01:03.544Z"
   },
   {
    "duration": 149,
    "start_time": "2024-07-03T19:03:05.529Z"
   },
   {
    "duration": 75,
    "start_time": "2024-07-03T19:03:44.632Z"
   },
   {
    "duration": 184,
    "start_time": "2024-07-03T19:10:33.388Z"
   },
   {
    "duration": 239,
    "start_time": "2024-07-03T19:11:02.425Z"
   },
   {
    "duration": 149,
    "start_time": "2024-07-03T19:11:41.316Z"
   },
   {
    "duration": 59,
    "start_time": "2024-07-03T19:12:02.356Z"
   },
   {
    "duration": 161,
    "start_time": "2024-07-03T19:12:06.545Z"
   },
   {
    "duration": 204,
    "start_time": "2024-07-03T19:12:24.522Z"
   },
   {
    "duration": 171,
    "start_time": "2024-07-03T19:13:15.441Z"
   },
   {
    "duration": 197,
    "start_time": "2024-07-03T19:13:25.838Z"
   },
   {
    "duration": 209,
    "start_time": "2024-07-03T19:14:52.419Z"
   },
   {
    "duration": 229,
    "start_time": "2024-07-03T19:18:00.106Z"
   },
   {
    "duration": 203,
    "start_time": "2024-07-03T19:18:15.196Z"
   },
   {
    "duration": 103,
    "start_time": "2024-07-05T14:42:14.920Z"
   },
   {
    "duration": 44,
    "start_time": "2024-07-05T14:42:21.016Z"
   },
   {
    "duration": 1172,
    "start_time": "2024-07-05T14:42:28.222Z"
   },
   {
    "duration": 6,
    "start_time": "2024-07-05T14:42:29.396Z"
   },
   {
    "duration": 49,
    "start_time": "2024-07-05T14:42:29.404Z"
   },
   {
    "duration": 1869,
    "start_time": "2024-07-05T14:42:29.455Z"
   },
   {
    "duration": 71,
    "start_time": "2024-07-05T14:42:31.326Z"
   },
   {
    "duration": 23,
    "start_time": "2024-07-05T14:42:31.398Z"
   },
   {
    "duration": 31,
    "start_time": "2024-07-05T14:42:31.423Z"
   },
   {
    "duration": 45,
    "start_time": "2024-07-05T14:42:31.456Z"
   },
   {
    "duration": 23,
    "start_time": "2024-07-05T14:42:31.503Z"
   },
   {
    "duration": 22,
    "start_time": "2024-07-05T14:42:31.528Z"
   },
   {
    "duration": 41,
    "start_time": "2024-07-05T14:42:31.551Z"
   },
   {
    "duration": 39,
    "start_time": "2024-07-05T14:42:31.594Z"
   },
   {
    "duration": 22,
    "start_time": "2024-07-05T14:42:31.635Z"
   },
   {
    "duration": 8,
    "start_time": "2024-07-05T14:42:31.659Z"
   },
   {
    "duration": 15,
    "start_time": "2024-07-05T14:42:31.668Z"
   },
   {
    "duration": 23,
    "start_time": "2024-07-05T14:42:31.684Z"
   },
   {
    "duration": 167,
    "start_time": "2024-07-05T14:42:31.708Z"
   },
   {
    "duration": 6,
    "start_time": "2024-07-05T14:42:31.876Z"
   },
   {
    "duration": 41,
    "start_time": "2024-07-05T14:42:31.884Z"
   },
   {
    "duration": 357,
    "start_time": "2024-07-05T14:42:31.927Z"
   },
   {
    "duration": 364,
    "start_time": "2024-07-05T14:42:32.285Z"
   },
   {
    "duration": 280,
    "start_time": "2024-07-05T14:42:32.650Z"
   },
   {
    "duration": 335,
    "start_time": "2024-07-05T14:42:32.931Z"
   },
   {
    "duration": 10,
    "start_time": "2024-07-05T14:42:33.267Z"
   },
   {
    "duration": 79,
    "start_time": "2024-07-05T14:42:33.278Z"
   },
   {
    "duration": 5,
    "start_time": "2024-07-05T14:42:33.358Z"
   },
   {
    "duration": 20,
    "start_time": "2024-07-05T14:42:33.365Z"
   },
   {
    "duration": 184,
    "start_time": "2024-07-05T14:42:33.390Z"
   },
   {
    "duration": 4,
    "start_time": "2024-07-05T14:42:33.576Z"
   },
   {
    "duration": 52,
    "start_time": "2024-07-05T14:42:33.582Z"
   },
   {
    "duration": 8,
    "start_time": "2024-07-05T14:42:33.636Z"
   },
   {
    "duration": 226,
    "start_time": "2024-07-05T14:42:33.645Z"
   },
   {
    "duration": 217,
    "start_time": "2024-07-05T14:42:33.873Z"
   },
   {
    "duration": 189,
    "start_time": "2024-07-05T14:42:34.091Z"
   },
   {
    "duration": 441,
    "start_time": "2024-07-05T14:42:34.282Z"
   },
   {
    "duration": 247,
    "start_time": "2024-07-05T14:42:34.725Z"
   },
   {
    "duration": 165,
    "start_time": "2024-07-05T14:42:34.973Z"
   },
   {
    "duration": 168,
    "start_time": "2024-07-05T14:42:35.139Z"
   },
   {
    "duration": 162,
    "start_time": "2024-07-05T14:42:35.308Z"
   },
   {
    "duration": 177,
    "start_time": "2024-07-05T14:42:35.472Z"
   },
   {
    "duration": 157,
    "start_time": "2024-07-05T14:42:35.651Z"
   },
   {
    "duration": 154,
    "start_time": "2024-07-05T14:42:35.810Z"
   },
   {
    "duration": 180,
    "start_time": "2024-07-05T14:42:35.965Z"
   },
   {
    "duration": 302,
    "start_time": "2024-07-05T14:42:36.147Z"
   },
   {
    "duration": 21,
    "start_time": "2024-07-05T14:42:36.451Z"
   },
   {
    "duration": 143,
    "start_time": "2024-07-05T14:42:36.473Z"
   },
   {
    "duration": 198,
    "start_time": "2024-07-05T14:42:36.619Z"
   },
   {
    "duration": 18,
    "start_time": "2024-07-05T14:42:36.819Z"
   },
   {
    "duration": 125,
    "start_time": "2024-07-05T14:44:02.304Z"
   },
   {
    "duration": 158,
    "start_time": "2024-07-05T14:44:09.994Z"
   },
   {
    "duration": 188,
    "start_time": "2024-07-05T14:45:06.257Z"
   },
   {
    "duration": 52,
    "start_time": "2024-07-05T14:48:48.157Z"
   },
   {
    "duration": 123,
    "start_time": "2024-07-05T14:49:32.147Z"
   },
   {
    "duration": 282,
    "start_time": "2024-07-05T14:50:03.062Z"
   },
   {
    "duration": 279,
    "start_time": "2024-07-05T14:50:58.916Z"
   },
   {
    "duration": 249,
    "start_time": "2024-07-05T14:51:12.144Z"
   },
   {
    "duration": 845,
    "start_time": "2024-07-05T15:25:22.549Z"
   },
   {
    "duration": 5,
    "start_time": "2024-07-05T15:25:23.396Z"
   },
   {
    "duration": 39,
    "start_time": "2024-07-05T15:25:23.403Z"
   },
   {
    "duration": 2055,
    "start_time": "2024-07-05T15:25:23.445Z"
   },
   {
    "duration": 74,
    "start_time": "2024-07-05T15:25:25.502Z"
   },
   {
    "duration": 14,
    "start_time": "2024-07-05T15:25:25.578Z"
   },
   {
    "duration": 4,
    "start_time": "2024-07-05T15:25:25.593Z"
   },
   {
    "duration": 24,
    "start_time": "2024-07-05T15:25:25.599Z"
   },
   {
    "duration": 8,
    "start_time": "2024-07-05T15:25:25.624Z"
   },
   {
    "duration": 14,
    "start_time": "2024-07-05T15:25:25.636Z"
   },
   {
    "duration": 44,
    "start_time": "2024-07-05T15:25:25.652Z"
   },
   {
    "duration": 26,
    "start_time": "2024-07-05T15:25:25.698Z"
   },
   {
    "duration": 13,
    "start_time": "2024-07-05T15:25:25.726Z"
   },
   {
    "duration": 7,
    "start_time": "2024-07-05T15:25:25.741Z"
   },
   {
    "duration": 7,
    "start_time": "2024-07-05T15:25:25.750Z"
   },
   {
    "duration": 15,
    "start_time": "2024-07-05T15:25:25.758Z"
   },
   {
    "duration": 186,
    "start_time": "2024-07-05T15:25:25.775Z"
   },
   {
    "duration": 9,
    "start_time": "2024-07-05T15:25:25.963Z"
   },
   {
    "duration": 29,
    "start_time": "2024-07-05T15:25:25.974Z"
   },
   {
    "duration": 435,
    "start_time": "2024-07-05T15:25:26.020Z"
   },
   {
    "duration": 360,
    "start_time": "2024-07-05T15:25:26.457Z"
   },
   {
    "duration": 359,
    "start_time": "2024-07-05T15:25:26.818Z"
   },
   {
    "duration": 407,
    "start_time": "2024-07-05T15:25:27.179Z"
   },
   {
    "duration": 11,
    "start_time": "2024-07-05T15:25:27.588Z"
   },
   {
    "duration": 81,
    "start_time": "2024-07-05T15:25:27.600Z"
   },
   {
    "duration": 6,
    "start_time": "2024-07-05T15:25:27.683Z"
   },
   {
    "duration": 11,
    "start_time": "2024-07-05T15:25:27.690Z"
   },
   {
    "duration": 227,
    "start_time": "2024-07-05T15:25:27.706Z"
   },
   {
    "duration": 4,
    "start_time": "2024-07-05T15:25:27.935Z"
   },
   {
    "duration": 26,
    "start_time": "2024-07-05T15:25:27.941Z"
   },
   {
    "duration": 7,
    "start_time": "2024-07-05T15:25:27.968Z"
   },
   {
    "duration": 265,
    "start_time": "2024-07-05T15:25:27.977Z"
   },
   {
    "duration": 277,
    "start_time": "2024-07-05T15:25:28.244Z"
   },
   {
    "duration": 270,
    "start_time": "2024-07-05T15:25:28.523Z"
   },
   {
    "duration": 467,
    "start_time": "2024-07-05T15:25:28.797Z"
   },
   {
    "duration": 245,
    "start_time": "2024-07-05T15:25:29.265Z"
   },
   {
    "duration": 213,
    "start_time": "2024-07-05T15:25:29.512Z"
   },
   {
    "duration": 157,
    "start_time": "2024-07-05T15:25:29.727Z"
   },
   {
    "duration": 169,
    "start_time": "2024-07-05T15:25:29.886Z"
   },
   {
    "duration": 196,
    "start_time": "2024-07-05T15:25:30.057Z"
   },
   {
    "duration": 174,
    "start_time": "2024-07-05T15:25:30.254Z"
   },
   {
    "duration": 207,
    "start_time": "2024-07-05T15:25:30.429Z"
   },
   {
    "duration": 174,
    "start_time": "2024-07-05T15:25:30.637Z"
   },
   {
    "duration": 298,
    "start_time": "2024-07-05T15:25:30.813Z"
   },
   {
    "duration": 30,
    "start_time": "2024-07-05T15:25:31.121Z"
   },
   {
    "duration": 230,
    "start_time": "2024-07-05T15:25:31.153Z"
   },
   {
    "duration": 144,
    "start_time": "2024-07-05T15:25:31.385Z"
   },
   {
    "duration": 18,
    "start_time": "2024-07-05T15:25:31.531Z"
   }
  ],
  "colab": {
   "provenance": []
  },
  "kernelspec": {
   "display_name": "Python 3 (ipykernel)",
   "language": "python",
   "name": "python3"
  },
  "language_info": {
   "codemirror_mode": {
    "name": "ipython",
    "version": 3
   },
   "file_extension": ".py",
   "mimetype": "text/x-python",
   "name": "python",
   "nbconvert_exporter": "python",
   "pygments_lexer": "ipython3",
   "version": "3.9.5"
  },
  "toc": {
   "base_numbering": 1,
   "nav_menu": {},
   "number_sections": true,
   "sideBar": true,
   "skip_h1_title": true,
   "title_cell": "Table of Contents",
   "title_sidebar": "Contents",
   "toc_cell": false,
   "toc_position": {
    "height": "calc(100% - 180px)",
    "left": "10px",
    "top": "150px",
    "width": "384px"
   },
   "toc_section_display": true,
   "toc_window_display": true
  }
 },
 "nbformat": 4,
 "nbformat_minor": 1
}
